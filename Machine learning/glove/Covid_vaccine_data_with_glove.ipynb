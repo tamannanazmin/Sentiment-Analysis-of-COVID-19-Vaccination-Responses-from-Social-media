{
  "nbformat": 4,
  "nbformat_minor": 0,
  "metadata": {
    "colab": {
      "name": "Covid_vaccine_data_with_glove.ipynb",
      "provenance": [],
      "collapsed_sections": [],
      "toc_visible": true
    },
    "kernelspec": {
      "name": "python3",
      "display_name": "Python 3"
    },
    "language_info": {
      "name": "python"
    },
    "accelerator": "GPU"
  },
  "cells": [
    {
      "cell_type": "markdown",
      "source": [
        "# Installing bnlp toolkit and bnltk library"
      ],
      "metadata": {
        "id": "BYV1E2cvkA6o"
      }
    },
    {
      "cell_type": "code",
      "metadata": {
        "colab": {
          "base_uri": "https://localhost:8080/"
        },
        "id": "2-Aiau5sXcr_",
        "outputId": "d3bddaff-a00d-4997-bd61-6c9e88e75293"
      },
      "source": [
        "pip install bnlp_toolkit"
      ],
      "execution_count": 1,
      "outputs": [
        {
          "output_type": "stream",
          "name": "stdout",
          "text": [
            "Collecting bnlp_toolkit\n",
            "  Downloading bnlp_toolkit-3.1.2-py3-none-any.whl (17 kB)\n",
            "Collecting sentencepiece\n",
            "  Downloading sentencepiece-0.1.96-cp37-cp37m-manylinux_2_17_x86_64.manylinux2014_x86_64.whl (1.2 MB)\n",
            "\u001b[K     |████████████████████████████████| 1.2 MB 6.4 MB/s \n",
            "\u001b[?25hRequirement already satisfied: scipy in /usr/local/lib/python3.7/dist-packages (from bnlp_toolkit) (1.4.1)\n",
            "Requirement already satisfied: numpy in /usr/local/lib/python3.7/dist-packages (from bnlp_toolkit) (1.19.5)\n",
            "Requirement already satisfied: wasabi in /usr/local/lib/python3.7/dist-packages (from bnlp_toolkit) (0.9.0)\n",
            "Collecting sklearn-crfsuite\n",
            "  Downloading sklearn_crfsuite-0.3.6-py2.py3-none-any.whl (12 kB)\n",
            "Requirement already satisfied: nltk in /usr/local/lib/python3.7/dist-packages (from bnlp_toolkit) (3.2.5)\n",
            "Collecting gensim==4.0.1\n",
            "  Downloading gensim-4.0.1-cp37-cp37m-manylinux1_x86_64.whl (23.9 MB)\n",
            "\u001b[K     |████████████████████████████████| 23.9 MB 1.2 MB/s \n",
            "\u001b[?25hRequirement already satisfied: smart-open>=1.8.1 in /usr/local/lib/python3.7/dist-packages (from gensim==4.0.1->bnlp_toolkit) (5.2.1)\n",
            "Requirement already satisfied: six in /usr/local/lib/python3.7/dist-packages (from nltk->bnlp_toolkit) (1.15.0)\n",
            "Requirement already satisfied: tabulate in /usr/local/lib/python3.7/dist-packages (from sklearn-crfsuite->bnlp_toolkit) (0.8.9)\n",
            "Collecting python-crfsuite>=0.8.3\n",
            "  Downloading python_crfsuite-0.9.7-cp37-cp37m-manylinux1_x86_64.whl (743 kB)\n",
            "\u001b[K     |████████████████████████████████| 743 kB 34.8 MB/s \n",
            "\u001b[?25hRequirement already satisfied: tqdm>=2.0 in /usr/local/lib/python3.7/dist-packages (from sklearn-crfsuite->bnlp_toolkit) (4.62.3)\n",
            "Installing collected packages: python-crfsuite, sklearn-crfsuite, sentencepiece, gensim, bnlp-toolkit\n",
            "  Attempting uninstall: gensim\n",
            "    Found existing installation: gensim 3.6.0\n",
            "    Uninstalling gensim-3.6.0:\n",
            "      Successfully uninstalled gensim-3.6.0\n",
            "Successfully installed bnlp-toolkit-3.1.2 gensim-4.0.1 python-crfsuite-0.9.7 sentencepiece-0.1.96 sklearn-crfsuite-0.3.6\n"
          ]
        }
      ]
    },
    {
      "cell_type": "code",
      "metadata": {
        "colab": {
          "base_uri": "https://localhost:8080/"
        },
        "id": "8WxP1prXXpN8",
        "outputId": "23998721-bb26-4ae9-f45f-02a8eb94d8c1"
      },
      "source": [
        "pip install bnltk"
      ],
      "execution_count": 2,
      "outputs": [
        {
          "output_type": "stream",
          "name": "stdout",
          "text": [
            "Collecting bnltk\n",
            "  Downloading bnltk-0.7.6-py3-none-any.whl (11 kB)\n",
            "Requirement already satisfied: numpy in /usr/local/lib/python3.7/dist-packages (from bnltk) (1.19.5)\n",
            "Requirement already satisfied: requests in /usr/local/lib/python3.7/dist-packages (from bnltk) (2.23.0)\n",
            "Requirement already satisfied: sklearn in /usr/local/lib/python3.7/dist-packages (from bnltk) (0.0)\n",
            "Requirement already satisfied: keras in /usr/local/lib/python3.7/dist-packages (from bnltk) (2.7.0)\n",
            "Requirement already satisfied: tensorflow in /usr/local/lib/python3.7/dist-packages (from bnltk) (2.7.0)\n",
            "Requirement already satisfied: urllib3!=1.25.0,!=1.25.1,<1.26,>=1.21.1 in /usr/local/lib/python3.7/dist-packages (from requests->bnltk) (1.24.3)\n",
            "Requirement already satisfied: certifi>=2017.4.17 in /usr/local/lib/python3.7/dist-packages (from requests->bnltk) (2021.10.8)\n",
            "Requirement already satisfied: idna<3,>=2.5 in /usr/local/lib/python3.7/dist-packages (from requests->bnltk) (2.10)\n",
            "Requirement already satisfied: chardet<4,>=3.0.2 in /usr/local/lib/python3.7/dist-packages (from requests->bnltk) (3.0.4)\n",
            "Requirement already satisfied: scikit-learn in /usr/local/lib/python3.7/dist-packages (from sklearn->bnltk) (1.0.2)\n",
            "Requirement already satisfied: joblib>=0.11 in /usr/local/lib/python3.7/dist-packages (from scikit-learn->sklearn->bnltk) (1.1.0)\n",
            "Requirement already satisfied: threadpoolctl>=2.0.0 in /usr/local/lib/python3.7/dist-packages (from scikit-learn->sklearn->bnltk) (3.1.0)\n",
            "Requirement already satisfied: scipy>=1.1.0 in /usr/local/lib/python3.7/dist-packages (from scikit-learn->sklearn->bnltk) (1.4.1)\n",
            "Requirement already satisfied: tensorflow-io-gcs-filesystem>=0.21.0 in /usr/local/lib/python3.7/dist-packages (from tensorflow->bnltk) (0.23.1)\n",
            "Requirement already satisfied: opt-einsum>=2.3.2 in /usr/local/lib/python3.7/dist-packages (from tensorflow->bnltk) (3.3.0)\n",
            "Requirement already satisfied: astunparse>=1.6.0 in /usr/local/lib/python3.7/dist-packages (from tensorflow->bnltk) (1.6.3)\n",
            "Requirement already satisfied: h5py>=2.9.0 in /usr/local/lib/python3.7/dist-packages (from tensorflow->bnltk) (3.1.0)\n",
            "Requirement already satisfied: grpcio<2.0,>=1.24.3 in /usr/local/lib/python3.7/dist-packages (from tensorflow->bnltk) (1.43.0)\n",
            "Requirement already satisfied: flatbuffers<3.0,>=1.12 in /usr/local/lib/python3.7/dist-packages (from tensorflow->bnltk) (2.0)\n",
            "Requirement already satisfied: protobuf>=3.9.2 in /usr/local/lib/python3.7/dist-packages (from tensorflow->bnltk) (3.17.3)\n",
            "Requirement already satisfied: termcolor>=1.1.0 in /usr/local/lib/python3.7/dist-packages (from tensorflow->bnltk) (1.1.0)\n",
            "Requirement already satisfied: six>=1.12.0 in /usr/local/lib/python3.7/dist-packages (from tensorflow->bnltk) (1.15.0)\n",
            "Requirement already satisfied: wrapt>=1.11.0 in /usr/local/lib/python3.7/dist-packages (from tensorflow->bnltk) (1.13.3)\n",
            "Requirement already satisfied: libclang>=9.0.1 in /usr/local/lib/python3.7/dist-packages (from tensorflow->bnltk) (13.0.0)\n",
            "Requirement already satisfied: tensorboard~=2.6 in /usr/local/lib/python3.7/dist-packages (from tensorflow->bnltk) (2.7.0)\n",
            "Requirement already satisfied: wheel<1.0,>=0.32.0 in /usr/local/lib/python3.7/dist-packages (from tensorflow->bnltk) (0.37.1)\n",
            "Requirement already satisfied: tensorflow-estimator<2.8,~=2.7.0rc0 in /usr/local/lib/python3.7/dist-packages (from tensorflow->bnltk) (2.7.0)\n",
            "Requirement already satisfied: google-pasta>=0.1.1 in /usr/local/lib/python3.7/dist-packages (from tensorflow->bnltk) (0.2.0)\n",
            "Requirement already satisfied: typing-extensions>=3.6.6 in /usr/local/lib/python3.7/dist-packages (from tensorflow->bnltk) (3.10.0.2)\n",
            "Requirement already satisfied: gast<0.5.0,>=0.2.1 in /usr/local/lib/python3.7/dist-packages (from tensorflow->bnltk) (0.4.0)\n",
            "Requirement already satisfied: keras-preprocessing>=1.1.1 in /usr/local/lib/python3.7/dist-packages (from tensorflow->bnltk) (1.1.2)\n",
            "Requirement already satisfied: absl-py>=0.4.0 in /usr/local/lib/python3.7/dist-packages (from tensorflow->bnltk) (1.0.0)\n",
            "Requirement already satisfied: cached-property in /usr/local/lib/python3.7/dist-packages (from h5py>=2.9.0->tensorflow->bnltk) (1.5.2)\n",
            "Requirement already satisfied: werkzeug>=0.11.15 in /usr/local/lib/python3.7/dist-packages (from tensorboard~=2.6->tensorflow->bnltk) (1.0.1)\n",
            "Requirement already satisfied: google-auth<3,>=1.6.3 in /usr/local/lib/python3.7/dist-packages (from tensorboard~=2.6->tensorflow->bnltk) (1.35.0)\n",
            "Requirement already satisfied: google-auth-oauthlib<0.5,>=0.4.1 in /usr/local/lib/python3.7/dist-packages (from tensorboard~=2.6->tensorflow->bnltk) (0.4.6)\n",
            "Requirement already satisfied: tensorboard-data-server<0.7.0,>=0.6.0 in /usr/local/lib/python3.7/dist-packages (from tensorboard~=2.6->tensorflow->bnltk) (0.6.1)\n",
            "Requirement already satisfied: markdown>=2.6.8 in /usr/local/lib/python3.7/dist-packages (from tensorboard~=2.6->tensorflow->bnltk) (3.3.6)\n",
            "Requirement already satisfied: setuptools>=41.0.0 in /usr/local/lib/python3.7/dist-packages (from tensorboard~=2.6->tensorflow->bnltk) (57.4.0)\n",
            "Requirement already satisfied: tensorboard-plugin-wit>=1.6.0 in /usr/local/lib/python3.7/dist-packages (from tensorboard~=2.6->tensorflow->bnltk) (1.8.1)\n",
            "Requirement already satisfied: cachetools<5.0,>=2.0.0 in /usr/local/lib/python3.7/dist-packages (from google-auth<3,>=1.6.3->tensorboard~=2.6->tensorflow->bnltk) (4.2.4)\n",
            "Requirement already satisfied: rsa<5,>=3.1.4 in /usr/local/lib/python3.7/dist-packages (from google-auth<3,>=1.6.3->tensorboard~=2.6->tensorflow->bnltk) (4.8)\n",
            "Requirement already satisfied: pyasn1-modules>=0.2.1 in /usr/local/lib/python3.7/dist-packages (from google-auth<3,>=1.6.3->tensorboard~=2.6->tensorflow->bnltk) (0.2.8)\n",
            "Requirement already satisfied: requests-oauthlib>=0.7.0 in /usr/local/lib/python3.7/dist-packages (from google-auth-oauthlib<0.5,>=0.4.1->tensorboard~=2.6->tensorflow->bnltk) (1.3.1)\n",
            "Requirement already satisfied: importlib-metadata>=4.4 in /usr/local/lib/python3.7/dist-packages (from markdown>=2.6.8->tensorboard~=2.6->tensorflow->bnltk) (4.10.1)\n",
            "Requirement already satisfied: zipp>=0.5 in /usr/local/lib/python3.7/dist-packages (from importlib-metadata>=4.4->markdown>=2.6.8->tensorboard~=2.6->tensorflow->bnltk) (3.7.0)\n",
            "Requirement already satisfied: pyasn1<0.5.0,>=0.4.6 in /usr/local/lib/python3.7/dist-packages (from pyasn1-modules>=0.2.1->google-auth<3,>=1.6.3->tensorboard~=2.6->tensorflow->bnltk) (0.4.8)\n",
            "Requirement already satisfied: oauthlib>=3.0.0 in /usr/local/lib/python3.7/dist-packages (from requests-oauthlib>=0.7.0->google-auth-oauthlib<0.5,>=0.4.1->tensorboard~=2.6->tensorflow->bnltk) (3.2.0)\n",
            "Installing collected packages: bnltk\n",
            "Successfully installed bnltk-0.7.6\n"
          ]
        }
      ]
    },
    {
      "cell_type": "code",
      "metadata": {
        "colab": {
          "base_uri": "https://localhost:8080/"
        },
        "id": "KZbeDNuaX2FT",
        "outputId": "222fb7b0-34ba-4f3a-9c11-fec8e2ade64e"
      },
      "source": [
        "pip install -U bnlp_toolkit"
      ],
      "execution_count": 3,
      "outputs": [
        {
          "output_type": "stream",
          "name": "stdout",
          "text": [
            "Requirement already satisfied: bnlp_toolkit in /usr/local/lib/python3.7/dist-packages (3.1.2)\n",
            "Requirement already satisfied: sklearn-crfsuite in /usr/local/lib/python3.7/dist-packages (from bnlp_toolkit) (0.3.6)\n",
            "Requirement already satisfied: nltk in /usr/local/lib/python3.7/dist-packages (from bnlp_toolkit) (3.2.5)\n",
            "Requirement already satisfied: scipy in /usr/local/lib/python3.7/dist-packages (from bnlp_toolkit) (1.4.1)\n",
            "Requirement already satisfied: sentencepiece in /usr/local/lib/python3.7/dist-packages (from bnlp_toolkit) (0.1.96)\n",
            "Requirement already satisfied: wasabi in /usr/local/lib/python3.7/dist-packages (from bnlp_toolkit) (0.9.0)\n",
            "Requirement already satisfied: numpy in /usr/local/lib/python3.7/dist-packages (from bnlp_toolkit) (1.19.5)\n",
            "Requirement already satisfied: gensim==4.0.1 in /usr/local/lib/python3.7/dist-packages (from bnlp_toolkit) (4.0.1)\n",
            "Requirement already satisfied: smart-open>=1.8.1 in /usr/local/lib/python3.7/dist-packages (from gensim==4.0.1->bnlp_toolkit) (5.2.1)\n",
            "Requirement already satisfied: six in /usr/local/lib/python3.7/dist-packages (from nltk->bnlp_toolkit) (1.15.0)\n",
            "Requirement already satisfied: tqdm>=2.0 in /usr/local/lib/python3.7/dist-packages (from sklearn-crfsuite->bnlp_toolkit) (4.62.3)\n",
            "Requirement already satisfied: python-crfsuite>=0.8.3 in /usr/local/lib/python3.7/dist-packages (from sklearn-crfsuite->bnlp_toolkit) (0.9.7)\n",
            "Requirement already satisfied: tabulate in /usr/local/lib/python3.7/dist-packages (from sklearn-crfsuite->bnlp_toolkit) (0.8.9)\n"
          ]
        }
      ]
    },
    {
      "cell_type": "markdown",
      "source": [
        "# Importing Library"
      ],
      "metadata": {
        "id": "QJXhbfyukN0X"
      }
    },
    {
      "cell_type": "code",
      "metadata": {
        "id": "TstOUDjUkYdN",
        "colab": {
          "base_uri": "https://localhost:8080/"
        },
        "outputId": "905e4b39-bd1f-4b9e-9122-8e42a5a351fd"
      },
      "source": [
        "\n",
        "import gensim\n",
        "import pandas as pd\n",
        "import numpy as np\n",
        "from sklearn.model_selection import cross_val_score\n",
        "! pip install glove-python-binary\n",
        "from glove import Corpus, Glove\n",
        "\n",
        "import numpy as np\n",
        "import matplotlib.pyplot as plt\n",
        "import pandas as pd\n",
        "from bnlp.corpus import stopwords\n",
        "from bnlp.corpus.util import remove_stopwords\n",
        "from bnltk.stemmer import BanglaStemmer"
      ],
      "execution_count": 4,
      "outputs": [
        {
          "output_type": "stream",
          "name": "stderr",
          "text": [
            "/usr/local/lib/python3.7/dist-packages/gensim/similarities/__init__.py:15: UserWarning: The gensim.similarities.levenshtein submodule is disabled, because the optional Levenshtein package <https://pypi.org/project/python-Levenshtein/> is unavailable. Install Levenhstein (e.g. `pip install python-Levenshtein`) to suppress this warning.\n",
            "  warnings.warn(msg)\n"
          ]
        },
        {
          "output_type": "stream",
          "name": "stdout",
          "text": [
            "Collecting glove-python-binary\n",
            "  Downloading glove_python_binary-0.2.0-cp37-cp37m-manylinux1_x86_64.whl (948 kB)\n",
            "\u001b[?25l\r\u001b[K     |▍                               | 10 kB 21.2 MB/s eta 0:00:01\r\u001b[K     |▊                               | 20 kB 17.5 MB/s eta 0:00:01\r\u001b[K     |█                               | 30 kB 10.6 MB/s eta 0:00:01\r\u001b[K     |█▍                              | 40 kB 8.2 MB/s eta 0:00:01\r\u001b[K     |█▊                              | 51 kB 5.5 MB/s eta 0:00:01\r\u001b[K     |██                              | 61 kB 5.5 MB/s eta 0:00:01\r\u001b[K     |██▍                             | 71 kB 5.5 MB/s eta 0:00:01\r\u001b[K     |██▊                             | 81 kB 6.1 MB/s eta 0:00:01\r\u001b[K     |███                             | 92 kB 4.9 MB/s eta 0:00:01\r\u001b[K     |███▌                            | 102 kB 5.3 MB/s eta 0:00:01\r\u001b[K     |███▉                            | 112 kB 5.3 MB/s eta 0:00:01\r\u001b[K     |████▏                           | 122 kB 5.3 MB/s eta 0:00:01\r\u001b[K     |████▌                           | 133 kB 5.3 MB/s eta 0:00:01\r\u001b[K     |████▉                           | 143 kB 5.3 MB/s eta 0:00:01\r\u001b[K     |█████▏                          | 153 kB 5.3 MB/s eta 0:00:01\r\u001b[K     |█████▌                          | 163 kB 5.3 MB/s eta 0:00:01\r\u001b[K     |█████▉                          | 174 kB 5.3 MB/s eta 0:00:01\r\u001b[K     |██████▏                         | 184 kB 5.3 MB/s eta 0:00:01\r\u001b[K     |██████▋                         | 194 kB 5.3 MB/s eta 0:00:01\r\u001b[K     |███████                         | 204 kB 5.3 MB/s eta 0:00:01\r\u001b[K     |███████▎                        | 215 kB 5.3 MB/s eta 0:00:01\r\u001b[K     |███████▋                        | 225 kB 5.3 MB/s eta 0:00:01\r\u001b[K     |████████                        | 235 kB 5.3 MB/s eta 0:00:01\r\u001b[K     |████████▎                       | 245 kB 5.3 MB/s eta 0:00:01\r\u001b[K     |████████▋                       | 256 kB 5.3 MB/s eta 0:00:01\r\u001b[K     |█████████                       | 266 kB 5.3 MB/s eta 0:00:01\r\u001b[K     |█████████▎                      | 276 kB 5.3 MB/s eta 0:00:01\r\u001b[K     |█████████▊                      | 286 kB 5.3 MB/s eta 0:00:01\r\u001b[K     |██████████                      | 296 kB 5.3 MB/s eta 0:00:01\r\u001b[K     |██████████▍                     | 307 kB 5.3 MB/s eta 0:00:01\r\u001b[K     |██████████▊                     | 317 kB 5.3 MB/s eta 0:00:01\r\u001b[K     |███████████                     | 327 kB 5.3 MB/s eta 0:00:01\r\u001b[K     |███████████▍                    | 337 kB 5.3 MB/s eta 0:00:01\r\u001b[K     |███████████▊                    | 348 kB 5.3 MB/s eta 0:00:01\r\u001b[K     |████████████                    | 358 kB 5.3 MB/s eta 0:00:01\r\u001b[K     |████████████▍                   | 368 kB 5.3 MB/s eta 0:00:01\r\u001b[K     |████████████▊                   | 378 kB 5.3 MB/s eta 0:00:01\r\u001b[K     |█████████████▏                  | 389 kB 5.3 MB/s eta 0:00:01\r\u001b[K     |█████████████▌                  | 399 kB 5.3 MB/s eta 0:00:01\r\u001b[K     |█████████████▉                  | 409 kB 5.3 MB/s eta 0:00:01\r\u001b[K     |██████████████▏                 | 419 kB 5.3 MB/s eta 0:00:01\r\u001b[K     |██████████████▌                 | 430 kB 5.3 MB/s eta 0:00:01\r\u001b[K     |██████████████▉                 | 440 kB 5.3 MB/s eta 0:00:01\r\u001b[K     |███████████████▏                | 450 kB 5.3 MB/s eta 0:00:01\r\u001b[K     |███████████████▌                | 460 kB 5.3 MB/s eta 0:00:01\r\u001b[K     |███████████████▉                | 471 kB 5.3 MB/s eta 0:00:01\r\u001b[K     |████████████████▎               | 481 kB 5.3 MB/s eta 0:00:01\r\u001b[K     |████████████████▋               | 491 kB 5.3 MB/s eta 0:00:01\r\u001b[K     |█████████████████               | 501 kB 5.3 MB/s eta 0:00:01\r\u001b[K     |█████████████████▎              | 512 kB 5.3 MB/s eta 0:00:01\r\u001b[K     |█████████████████▋              | 522 kB 5.3 MB/s eta 0:00:01\r\u001b[K     |██████████████████              | 532 kB 5.3 MB/s eta 0:00:01\r\u001b[K     |██████████████████▎             | 542 kB 5.3 MB/s eta 0:00:01\r\u001b[K     |██████████████████▋             | 552 kB 5.3 MB/s eta 0:00:01\r\u001b[K     |███████████████████             | 563 kB 5.3 MB/s eta 0:00:01\r\u001b[K     |███████████████████▍            | 573 kB 5.3 MB/s eta 0:00:01\r\u001b[K     |███████████████████▊            | 583 kB 5.3 MB/s eta 0:00:01\r\u001b[K     |████████████████████            | 593 kB 5.3 MB/s eta 0:00:01\r\u001b[K     |████████████████████▍           | 604 kB 5.3 MB/s eta 0:00:01\r\u001b[K     |████████████████████▊           | 614 kB 5.3 MB/s eta 0:00:01\r\u001b[K     |█████████████████████           | 624 kB 5.3 MB/s eta 0:00:01\r\u001b[K     |█████████████████████▍          | 634 kB 5.3 MB/s eta 0:00:01\r\u001b[K     |█████████████████████▊          | 645 kB 5.3 MB/s eta 0:00:01\r\u001b[K     |██████████████████████          | 655 kB 5.3 MB/s eta 0:00:01\r\u001b[K     |██████████████████████▌         | 665 kB 5.3 MB/s eta 0:00:01\r\u001b[K     |██████████████████████▉         | 675 kB 5.3 MB/s eta 0:00:01\r\u001b[K     |███████████████████████▏        | 686 kB 5.3 MB/s eta 0:00:01\r\u001b[K     |███████████████████████▌        | 696 kB 5.3 MB/s eta 0:00:01\r\u001b[K     |███████████████████████▉        | 706 kB 5.3 MB/s eta 0:00:01\r\u001b[K     |████████████████████████▏       | 716 kB 5.3 MB/s eta 0:00:01\r\u001b[K     |████████████████████████▌       | 727 kB 5.3 MB/s eta 0:00:01\r\u001b[K     |████████████████████████▉       | 737 kB 5.3 MB/s eta 0:00:01\r\u001b[K     |█████████████████████████▏      | 747 kB 5.3 MB/s eta 0:00:01\r\u001b[K     |█████████████████████████▌      | 757 kB 5.3 MB/s eta 0:00:01\r\u001b[K     |██████████████████████████      | 768 kB 5.3 MB/s eta 0:00:01\r\u001b[K     |██████████████████████████▎     | 778 kB 5.3 MB/s eta 0:00:01\r\u001b[K     |██████████████████████████▋     | 788 kB 5.3 MB/s eta 0:00:01\r\u001b[K     |███████████████████████████     | 798 kB 5.3 MB/s eta 0:00:01\r\u001b[K     |███████████████████████████▎    | 808 kB 5.3 MB/s eta 0:00:01\r\u001b[K     |███████████████████████████▋    | 819 kB 5.3 MB/s eta 0:00:01\r\u001b[K     |████████████████████████████    | 829 kB 5.3 MB/s eta 0:00:01\r\u001b[K     |████████████████████████████▎   | 839 kB 5.3 MB/s eta 0:00:01\r\u001b[K     |████████████████████████████▋   | 849 kB 5.3 MB/s eta 0:00:01\r\u001b[K     |█████████████████████████████   | 860 kB 5.3 MB/s eta 0:00:01\r\u001b[K     |█████████████████████████████▍  | 870 kB 5.3 MB/s eta 0:00:01\r\u001b[K     |█████████████████████████████▊  | 880 kB 5.3 MB/s eta 0:00:01\r\u001b[K     |██████████████████████████████  | 890 kB 5.3 MB/s eta 0:00:01\r\u001b[K     |██████████████████████████████▍ | 901 kB 5.3 MB/s eta 0:00:01\r\u001b[K     |██████████████████████████████▊ | 911 kB 5.3 MB/s eta 0:00:01\r\u001b[K     |███████████████████████████████ | 921 kB 5.3 MB/s eta 0:00:01\r\u001b[K     |███████████████████████████████▍| 931 kB 5.3 MB/s eta 0:00:01\r\u001b[K     |███████████████████████████████▊| 942 kB 5.3 MB/s eta 0:00:01\r\u001b[K     |████████████████████████████████| 948 kB 5.3 MB/s \n",
            "\u001b[?25hRequirement already satisfied: scipy in /usr/local/lib/python3.7/dist-packages (from glove-python-binary) (1.4.1)\n",
            "Requirement already satisfied: numpy in /usr/local/lib/python3.7/dist-packages (from glove-python-binary) (1.19.5)\n",
            "Installing collected packages: glove-python-binary\n",
            "Successfully installed glove-python-binary-0.2.0\n",
            "punkt not found. downloading...\n",
            "[nltk_data] Downloading package punkt to /root/nltk_data...\n",
            "[nltk_data]   Unzipping tokenizers/punkt.zip.\n"
          ]
        }
      ]
    },
    {
      "cell_type": "code",
      "source": [
        "from bnlp.corpus import stopwords\n",
        "from bnlp.corpus.util import remove_stopwords\n",
        "\n",
        "from bnltk.stemmer import BanglaStemmer\n",
        "\n",
        "from pandas import read_excel\n",
        "import re\n",
        "from re import sub\n",
        "import multiprocessing\n",
        "\n",
        "import os\n",
        "from time import time \n",
        "import tensorflow as tf\n",
        "import keras\n",
        "from keras.models import Sequential\n",
        "from keras.layers import LSTM,Dense,Dropout,Activation,Embedding,Flatten,Bidirectional,MaxPooling2D, Conv1D, MaxPooling1D\n",
        "\n",
        "from keras import regularizers\n",
        "from keras.preprocessing.text import Tokenizer\n",
        "from keras.preprocessing.sequence import pad_sequences\n",
        "from keras.utils.np_utils import to_categorical\n",
        "import h5py\n",
        "import csv\n",
        "import seaborn as sns\n",
        "import matplotlib.pyplot as plt\n",
        "from sklearn.model_selection import train_test_split\n",
        "from sklearn.model_selection import StratifiedKFold"
      ],
      "metadata": {
        "id": "d3WEfQ_wDT8z"
      },
      "execution_count": 5,
      "outputs": []
    },
    {
      "cell_type": "markdown",
      "source": [
        "# Read dataset"
      ],
      "metadata": {
        "id": "aautGAxOkUuQ"
      }
    },
    {
      "cell_type": "code",
      "metadata": {
        "id": "ANwKKdniX7iy"
      },
      "source": [
        "from google.colab import drive\n",
        "#drive.mount('/content/drive')\n",
        "dataset=pd.read_csv('/content/Covid vaccine data.csv')\n"
      ],
      "execution_count": 6,
      "outputs": []
    },
    {
      "cell_type": "code",
      "metadata": {
        "colab": {
          "base_uri": "https://localhost:8080/"
        },
        "id": "vdjlwedwVQ5h",
        "outputId": "4294f68d-d406-4001-b707-3ce826fadf9c"
      },
      "source": [
        "dataset.shape"
      ],
      "execution_count": 7,
      "outputs": [
        {
          "output_type": "execute_result",
          "data": {
            "text/plain": [
              "(418, 2)"
            ]
          },
          "metadata": {},
          "execution_count": 7
        }
      ]
    },
    {
      "cell_type": "code",
      "metadata": {
        "colab": {
          "base_uri": "https://localhost:8080/",
          "height": 313
        },
        "id": "mFrmJQ2LeLCO",
        "outputId": "04c55992-3638-42db-8c0e-f4039f8d766a"
      },
      "source": [
        "target_vc = dataset[\"Polarity\"].value_counts(normalize=False)\n",
        "print(\"Non-urgent: {:.2%}, Urgent: {:.2%}\".format(target_vc[0], target_vc[1]))\n",
        "sns.barplot(x=target_vc.index, y=target_vc)\n",
        "plt.title(\"Dataset Distribution\")\n",
        "plt.xlabel(\"0 = Non-urgent, 1 = Urgent\")\n",
        "plt.ylabel(\"Number of data\")\n",
        "plt.show()"
      ],
      "execution_count": 8,
      "outputs": [
        {
          "output_type": "stream",
          "name": "stdout",
          "text": [
            "Non-urgent: 21900.00%, Urgent: 19900.00%\n"
          ]
        },
        {
          "output_type": "display_data",
          "data": {
            "image/png": "[encoded data removed]",
            "text/plain": [
              "<Figure size 432x288 with 1 Axes>"
            ]
          },
          "metadata": {
            "needs_background": "light"
          }
        }
      ]
    },
    {
      "cell_type": "markdown",
      "source": [
        "# Data Preprocessing"
      ],
      "metadata": {
        "id": "Czfg6DsOkis3"
      }
    },
    {
      "cell_type": "code",
      "metadata": {
        "colab": {
          "base_uri": "https://localhost:8080/"
        },
        "id": "RUyvbeINX-EE",
        "outputId": "3f5d106c-ecd6-4e86-f716-5bd2401c38bf"
      },
      "source": [
        "import re\n",
        "corpus=[]\n",
        "max=0\n",
        "for i in range(0,418):\n",
        "    review = re.sub('[\\!\"#$%&()*,./:;<=>?@[\\\\]^`{|}~\\t\\n।+-]', ' ', dataset['Text'][i])\n",
        "    review=review.replace('_',' ')\n",
        "    review=review.replace('ঃ',' ')\n",
        "    review = re.sub('[a-zA-Z0-9]+', ' ', review)    \n",
        "    review = re.sub('[''```\u0012\u0010\u0002\b`\u0007\b£|¢|\u0007Ñ/=EROero।!“’<>‘॥”‰\\'🤓⌚🤰🥺⚽️✌�￰🥀🤣🤡🤗🤐🤦🤔⏩⏹￰]', ' ', review)               \n",
        "    emoji_pattern = re.compile(\"[\"\n",
        "                           u\"\\U0001F600-\\U0001F64F\"  # emoticons\n",
        "                           u\"\\U0001F300-\\U0001F5FF\"  # symbols & pictographs\n",
        "                           u\"\\U0001F680-\\U0001F6FF\"  # transport & map symbols\n",
        "                           u\"\\U0001F1E0-\\U0001F1FF\"  # flags (iOS)\n",
        "                           u\"\\U00002702-\\U000027B0\"\n",
        "                           u\"\\U000024C2-\\U0001F251\"\n",
        "                           u\"\\u00C0-\\u017F\"          #latin\n",
        "                           u\"\\u2000-\\u206F\"          #generalPunctuations \n",
        "                           u\"\\\\U0001f90f\" \n",
        "                           u\"\\\\U0001f9cf\"\n",
        "                           u\"\\U0001fa78\"  \n",
        "                           \"]+\", flags=re.UNICODE)\n",
        "    review=emoji_pattern.sub(r'', review)\n",
        "    #review=str(review)\n",
        "    #review=review.split()\n",
        "    '''review=review.replace('A', 'এ')\n",
        "    review=review.replace('B', 'বি')\n",
        "    review=review.replace('AB', 'এবি')\n",
        "    review=review.replace('O', 'ও')\n",
        "    review=review.replace('+','পজিটিভ')\n",
        "    review=review.replace('-','নেগেটিভ')'''\n",
        "    review=review.lower()\n",
        "    bn_stemmer = BanglaStemmer()\n",
        "    review=bn_stemmer.stem(review)\n",
        "    review = remove_stopwords(review, stopwords)\n",
        "    #review=str(review)\n",
        "    #review=review.split()\n",
        "    #review=' '.join(review)\n",
        "    corpus.append(review)\n",
        "    if(max<len(review)):\n",
        "      max=len(review)\n",
        "print(max)\n"
      ],
      "execution_count": 9,
      "outputs": [
        {
          "output_type": "stream",
          "name": "stdout",
          "text": [
            "54\n"
          ]
        }
      ]
    },
    {
      "cell_type": "code",
      "metadata": {
        "id": "CrX8v3JMv--j"
      },
      "source": [
        "#corpus"
      ],
      "execution_count": null,
      "outputs": []
    },
    {
      "cell_type": "markdown",
      "source": [
        "# Feature Selection"
      ],
      "metadata": {
        "id": "8s-cZSS5kq_v"
      }
    },
    {
      "cell_type": "code",
      "metadata": {
        "id": "uKd8q8m9YAzb",
        "colab": {
          "base_uri": "https://localhost:8080/"
        },
        "outputId": "007ef0ce-47c1-458b-d079-aaf3a0d97157"
      },
      "source": [
        "# creating a corpus object\n",
        "corpus2 = Corpus() \n",
        "#training the corpus to generate the co occurence matrix which is used in GloVe\n",
        "corpus2.fit(corpus, window=10)\n",
        "#creating a Glove object which will use the matrix created in the above lines to create embeddings\n",
        "#We can set the learning rate as it uses Gradient Descent and number of components\n",
        "glove = Glove(no_components=100, learning_rate=0.01)\n",
        " \n",
        "glove.fit(corpus2.matrix, epochs=100, no_threads=4, verbose=True)\n",
        "glove.add_dictionary(corpus2.dictionary)\n",
        "\n",
        "glove_words=list(corpus2.dictionary)\n"
      ],
      "execution_count": 10,
      "outputs": [
        {
          "output_type": "stream",
          "name": "stdout",
          "text": [
            "Performing 100 training epochs with 4 threads\n",
            "Epoch 0\n",
            "Epoch 1\n",
            "Epoch 2\n",
            "Epoch 3\n",
            "Epoch 4\n",
            "Epoch 5\n",
            "Epoch 6\n",
            "Epoch 7\n",
            "Epoch 8\n",
            "Epoch 9\n",
            "Epoch 10\n",
            "Epoch 11\n",
            "Epoch 12\n",
            "Epoch 13\n",
            "Epoch 14\n",
            "Epoch 15\n",
            "Epoch 16\n",
            "Epoch 17\n",
            "Epoch 18\n",
            "Epoch 19\n",
            "Epoch 20\n",
            "Epoch 21\n",
            "Epoch 22\n",
            "Epoch 23\n",
            "Epoch 24\n",
            "Epoch 25\n",
            "Epoch 26\n",
            "Epoch 27\n",
            "Epoch 28\n",
            "Epoch 29\n",
            "Epoch 30\n",
            "Epoch 31\n",
            "Epoch 32\n",
            "Epoch 33\n",
            "Epoch 34\n",
            "Epoch 35\n",
            "Epoch 36\n",
            "Epoch 37\n",
            "Epoch 38\n",
            "Epoch 39\n",
            "Epoch 40\n",
            "Epoch 41\n",
            "Epoch 42\n",
            "Epoch 43\n",
            "Epoch 44\n",
            "Epoch 45\n",
            "Epoch 46\n",
            "Epoch 47\n",
            "Epoch 48\n",
            "Epoch 49\n",
            "Epoch 50\n",
            "Epoch 51\n",
            "Epoch 52\n",
            "Epoch 53\n",
            "Epoch 54\n",
            "Epoch 55\n",
            "Epoch 56\n",
            "Epoch 57\n",
            "Epoch 58\n",
            "Epoch 59\n",
            "Epoch 60\n",
            "Epoch 61\n",
            "Epoch 62\n",
            "Epoch 63\n",
            "Epoch 64\n",
            "Epoch 65\n",
            "Epoch 66\n",
            "Epoch 67\n",
            "Epoch 68\n",
            "Epoch 69\n",
            "Epoch 70\n",
            "Epoch 71\n",
            "Epoch 72\n",
            "Epoch 73\n",
            "Epoch 74\n",
            "Epoch 75\n",
            "Epoch 76\n",
            "Epoch 77\n",
            "Epoch 78\n",
            "Epoch 79\n",
            "Epoch 80\n",
            "Epoch 81\n",
            "Epoch 82\n",
            "Epoch 83\n",
            "Epoch 84\n",
            "Epoch 85\n",
            "Epoch 86\n",
            "Epoch 87\n",
            "Epoch 88\n",
            "Epoch 89\n",
            "Epoch 90\n",
            "Epoch 91\n",
            "Epoch 92\n",
            "Epoch 93\n",
            "Epoch 94\n",
            "Epoch 95\n",
            "Epoch 96\n",
            "Epoch 97\n",
            "Epoch 98\n",
            "Epoch 99\n"
          ]
        }
      ]
    },
    {
      "cell_type": "code",
      "source": [
        "new_dict=dict()\n",
        "for i in glove_words:\n",
        "  x=glove.word_vectors[glove.dictionary[i]]\n",
        "  average = sum(x) / len(x)\n",
        "  new_dict[i]=average\n",
        "rows, cols = (len(corpus),max)\n",
        "arr = [[0 for i in range(cols)] for j in range(rows)]\n",
        "for l in range(0, len(corpus)):\n",
        "    msg = corpus[l]\n",
        "    #msg = msg.split()\n",
        "    for j in range(0,len(msg)):\n",
        "        k=msg[j]\n",
        "        if k in new_dict:\n",
        "          arr[l][j]=new_dict[k]"
      ],
      "metadata": {
        "id": "jC08G4kOU_FR"
      },
      "execution_count": 11,
      "outputs": []
    },
    {
      "cell_type": "code",
      "source": [
        "print (glove.word_vectors[glove.dictionary['টিকা']])"
      ],
      "metadata": {
        "colab": {
          "base_uri": "https://localhost:8080/"
        },
        "id": "PaZLc-yyEOkb",
        "outputId": "b0e79955-1949-48b9-d2e1-a72b1db862d6"
      },
      "execution_count": 12,
      "outputs": [
        {
          "output_type": "stream",
          "name": "stdout",
          "text": [
            "[ 0.01392629 -0.00133709  0.0031      0.00985604 -0.00711841 -0.004763\n",
            "  0.01233076  0.00684668 -0.00334889  0.00854435 -0.01133388  0.00573437\n",
            " -0.0079265  -0.00402035  0.01149653 -0.01199506  0.0045639   0.01000482\n",
            " -0.01229657  0.01309204 -0.00381651  0.01355182 -0.0095118   0.00554704\n",
            " -0.00019986 -0.01285693 -0.01213573 -0.01799356  0.00931545 -0.00897961\n",
            "  0.0092908  -0.0116308   0.0106019  -0.00577096  0.00113752  0.0162195\n",
            "  0.01508399  0.01026815 -0.00527075  0.00102684 -0.0050939   0.00473886\n",
            " -0.00272413 -0.00741393 -0.01713882 -0.01158615 -0.00465904  0.00718153\n",
            " -0.01462863  0.01305416  0.01790218 -0.00333996 -0.00928781 -0.00580468\n",
            " -0.02123008 -0.00875871  0.01251989  0.0007407   0.00311547  0.02121656\n",
            " -0.00416045 -0.0011842   0.0006504  -0.00388311  0.00020381 -0.0233625\n",
            "  0.01975202  0.02071685  0.02175522  0.00890715 -0.01795277  0.01560587\n",
            " -0.00585822 -0.01032837  0.00918956  0.00206179  0.00719009  0.0197832\n",
            " -0.00521501  0.01291493 -0.00455517 -0.01890407 -0.00567965  0.01009371\n",
            "  0.00742851 -0.00960053  0.00106119  0.0104152  -0.00384233  0.01364594\n",
            "  0.01433428 -0.01983776  0.01619345  0.02647286  0.00227009  0.00867462\n",
            " -0.01979078  0.00414954  0.00099396 -0.00364152]\n"
          ]
        }
      ]
    },
    {
      "cell_type": "code",
      "source": [
        "glove.most_similar('টিকা')"
      ],
      "metadata": {
        "id": "1Wn5X1D_EW4i",
        "colab": {
          "base_uri": "https://localhost:8080/"
        },
        "outputId": "a2deca84-3807-465c-b624-95fb39807850"
      },
      "execution_count": 13,
      "outputs": [
        {
          "output_type": "execute_result",
          "data": {
            "text/plain": [
              "[('ডোজ', 0.8107482362466575),\n",
              " ('দিয়ে', 0.7495292736357836),\n",
              " ('সবাই', 0.6451934897615452),\n",
              " ('করোনার', 0.6375359306246893)]"
            ]
          },
          "metadata": {},
          "execution_count": 13
        }
      ]
    },
    {
      "cell_type": "code",
      "source": [
        "X = arr\n",
        "y = dataset.iloc[:, 1].values"
      ],
      "metadata": {
        "id": "KKGkWZDpFj2b"
      },
      "execution_count": 14,
      "outputs": []
    },
    {
      "cell_type": "markdown",
      "metadata": {
        "id": "cjDFt4lZvMRo"
      },
      "source": [
        "#SVM with 80:20 spliting"
      ]
    },
    {
      "cell_type": "code",
      "metadata": {
        "id": "E_1JtIAUYC-8"
      },
      "source": [
        "from sklearn.model_selection import train_test_split\n",
        "X_train, X_test, y_train, y_test = train_test_split(X, y, test_size = 0.20, random_state = 0)"
      ],
      "execution_count": 15,
      "outputs": []
    },
    {
      "cell_type": "code",
      "metadata": {
        "colab": {
          "base_uri": "https://localhost:8080/"
        },
        "id": "1idn3xOFYFqL",
        "outputId": "cb1ffe07-f68c-42d8-d853-b167f20c5005"
      },
      "source": [
        "# Fitting SVC to the training set\n",
        "from sklearn.svm import SVC\n",
        "classifier=SVC(kernel='linear',random_state=0)\n",
        "classifier.fit(X_train, y_train)\n",
        "\n"
      ],
      "execution_count": 16,
      "outputs": [
        {
          "output_type": "execute_result",
          "data": {
            "text/plain": [
              "SVC(kernel='linear', random_state=0)"
            ]
          },
          "metadata": {},
          "execution_count": 16
        }
      ]
    },
    {
      "cell_type": "code",
      "metadata": {
        "id": "DenGq9s7k3-N"
      },
      "source": [
        "#predicting the Test set results\n",
        "y_pred=classifier.predict(X_test)\n",
        "\n",
        "\n"
      ],
      "execution_count": 17,
      "outputs": []
    },
    {
      "cell_type": "code",
      "metadata": {
        "colab": {
          "base_uri": "https://localhost:8080/",
          "height": 334
        },
        "id": "gLAVdTwMk9Qb",
        "outputId": "1cee5629-279f-402b-8a36-f8da9661d006"
      },
      "source": [
        "#Making the confusion matrix\n",
        "from sklearn.metrics import confusion_matrix\n",
        "cm=confusion_matrix(y_test, y_pred)\n",
        "#print(cm)\n",
        "from mlxtend.plotting import plot_confusion_matrix\n",
        "print(\"Confusion Matrix for PassiveAggressiveClassifier\")\n",
        "plot_confusion_matrix(conf_mat=cm,show_absolute=True,\n",
        "                                show_normed=True,\n",
        "                                colorbar=True)"
      ],
      "execution_count": 18,
      "outputs": [
        {
          "output_type": "stream",
          "name": "stdout",
          "text": [
            "Confusion Matrix for PassiveAggressiveClassifier\n"
          ]
        },
        {
          "output_type": "execute_result",
          "data": {
            "text/plain": [
              "(<Figure size 432x288 with 2 Axes>,\n",
              " <matplotlib.axes._subplots.AxesSubplot at 0x7f1e87948990>)"
            ]
          },
          "metadata": {},
          "execution_count": 18
        },
        {
          "output_type": "display_data",
          "data": {
            "image/png": "[encoded data removed]",
            "text/plain": [
              "<Figure size 432x288 with 2 Axes>"
            ]
          },
          "metadata": {
            "needs_background": "light"
          }
        }
      ]
    },
    {
      "cell_type": "code",
      "metadata": {
        "colab": {
          "base_uri": "https://localhost:8080/"
        },
        "id": "7bDUEoL7v1XG",
        "outputId": "6b3bc3a0-0103-4b29-d1bf-14d33fe8581b"
      },
      "source": [
        "#finding accuracy\n",
        "from sklearn.metrics import accuracy_score\n",
        "accuracy=accuracy_score(y_test,y_pred)\n",
        "print('Accuracy %.3f'%accuracy)\n",
        "\n",
        "from sklearn.metrics import precision_score\n",
        "precision=precision_score(y_test,y_pred,average=\"binary\")\n",
        "print('precision %.3f'%precision)\n",
        "\n",
        "from sklearn.metrics import recall_score\n",
        "recall=recall_score(y_test,y_pred,average=\"binary\")\n",
        "print('Recall %.3f'%recall)\n",
        "\n",
        "from sklearn.metrics import f1_score\n",
        "f1=f1_score(y_test,y_pred,average=\"binary\")\n",
        "print('f1_score %.3f'%f1)\n"
      ],
      "execution_count": 19,
      "outputs": [
        {
          "output_type": "stream",
          "name": "stdout",
          "text": [
            "Accuracy 0.512\n",
            "precision 0.000\n",
            "Recall 0.000\n",
            "f1_score 0.000\n"
          ]
        },
        {
          "output_type": "stream",
          "name": "stderr",
          "text": [
            "/usr/local/lib/python3.7/dist-packages/sklearn/metrics/_classification.py:1318: UndefinedMetricWarning: Precision is ill-defined and being set to 0.0 due to no predicted samples. Use `zero_division` parameter to control this behavior.\n",
            "  _warn_prf(average, modifier, msg_start, len(result))\n"
          ]
        }
      ]
    },
    {
      "cell_type": "markdown",
      "source": [
        "# SVM with 10-fold cross validation"
      ],
      "metadata": {
        "id": "rXgVigDGk7nL"
      }
    },
    {
      "cell_type": "code",
      "source": [
        "#Applying 10-fold cross validation\n",
        "from sklearn.model_selection import cross_val_score\n",
        "from sklearn.model_selection import KFold\n",
        "from statistics import *\n",
        "# prepare the cross-validation procedure\n",
        "cv = KFold(n_splits=10,shuffle=True,random_state=0)\n",
        "# evaluate model\n",
        "from sklearn.svm import SVC\n",
        "classifier=SVC(kernel='linear',random_state=0)\n",
        "scores = cross_val_score(classifier, X, y, scoring='accuracy', cv=cv)\n",
        "recall = cross_val_score(classifier, X, y, scoring='recall', cv=cv)\n",
        "precision = cross_val_score(classifier, X, y, scoring='precision', cv=cv)\n",
        "f1 = cross_val_score(classifier, X, y, scoring='f1', cv=cv)\n",
        "# report performance\n",
        "print('Accuracy %.3f'%mean(scores))\n",
        "print('precision %.3f'%np.mean(precision))\n",
        "print('Recall %.3f'%np.mean(recall))\n",
        "print('f1_score %.3f'%np.mean(f1))"
      ],
      "metadata": {
        "colab": {
          "base_uri": "https://localhost:8080/"
        },
        "id": "PG54BLWVgIjz",
        "outputId": "186d3f4b-9fa5-464b-ba59-0fdb774ec807"
      },
      "execution_count": 20,
      "outputs": [
        {
          "output_type": "stream",
          "name": "stderr",
          "text": [
            "/usr/local/lib/python3.7/dist-packages/sklearn/metrics/_classification.py:1318: UndefinedMetricWarning: Precision is ill-defined and being set to 0.0 due to no predicted samples. Use `zero_division` parameter to control this behavior.\n",
            "  _warn_prf(average, modifier, msg_start, len(result))\n",
            "/usr/local/lib/python3.7/dist-packages/sklearn/metrics/_classification.py:1318: UndefinedMetricWarning: Precision is ill-defined and being set to 0.0 due to no predicted samples. Use `zero_division` parameter to control this behavior.\n",
            "  _warn_prf(average, modifier, msg_start, len(result))\n",
            "/usr/local/lib/python3.7/dist-packages/sklearn/metrics/_classification.py:1318: UndefinedMetricWarning: Precision is ill-defined and being set to 0.0 due to no predicted samples. Use `zero_division` parameter to control this behavior.\n",
            "  _warn_prf(average, modifier, msg_start, len(result))\n",
            "/usr/local/lib/python3.7/dist-packages/sklearn/metrics/_classification.py:1318: UndefinedMetricWarning: Precision is ill-defined and being set to 0.0 due to no predicted samples. Use `zero_division` parameter to control this behavior.\n",
            "  _warn_prf(average, modifier, msg_start, len(result))\n",
            "/usr/local/lib/python3.7/dist-packages/sklearn/metrics/_classification.py:1318: UndefinedMetricWarning: Precision is ill-defined and being set to 0.0 due to no predicted samples. Use `zero_division` parameter to control this behavior.\n",
            "  _warn_prf(average, modifier, msg_start, len(result))\n",
            "/usr/local/lib/python3.7/dist-packages/sklearn/metrics/_classification.py:1318: UndefinedMetricWarning: Precision is ill-defined and being set to 0.0 due to no predicted samples. Use `zero_division` parameter to control this behavior.\n",
            "  _warn_prf(average, modifier, msg_start, len(result))\n",
            "/usr/local/lib/python3.7/dist-packages/sklearn/metrics/_classification.py:1318: UndefinedMetricWarning: Precision is ill-defined and being set to 0.0 due to no predicted samples. Use `zero_division` parameter to control this behavior.\n",
            "  _warn_prf(average, modifier, msg_start, len(result))\n",
            "/usr/local/lib/python3.7/dist-packages/sklearn/metrics/_classification.py:1318: UndefinedMetricWarning: Precision is ill-defined and being set to 0.0 due to no predicted samples. Use `zero_division` parameter to control this behavior.\n",
            "  _warn_prf(average, modifier, msg_start, len(result))\n",
            "/usr/local/lib/python3.7/dist-packages/sklearn/metrics/_classification.py:1318: UndefinedMetricWarning: Precision is ill-defined and being set to 0.0 due to no predicted samples. Use `zero_division` parameter to control this behavior.\n",
            "  _warn_prf(average, modifier, msg_start, len(result))\n",
            "/usr/local/lib/python3.7/dist-packages/sklearn/metrics/_classification.py:1318: UndefinedMetricWarning: Precision is ill-defined and being set to 0.0 due to no predicted samples. Use `zero_division` parameter to control this behavior.\n",
            "  _warn_prf(average, modifier, msg_start, len(result))\n"
          ]
        },
        {
          "output_type": "stream",
          "name": "stdout",
          "text": [
            "Accuracy 0.524\n",
            "precision 0.000\n",
            "Recall 0.000\n",
            "f1_score 0.000\n"
          ]
        }
      ]
    },
    {
      "cell_type": "markdown",
      "source": [
        "# Decision Tree with 80:20 spliting"
      ],
      "metadata": {
        "id": "2pLh4aoB9LVa"
      }
    },
    {
      "cell_type": "code",
      "source": [
        "#Splitting the dataset into training set and test set\n",
        "from sklearn.model_selection import train_test_split\n",
        "X_train,X_test,y_train,y_test= train_test_split(X,y,test_size=0.2,random_state=1)\n",
        "print(X)"
      ],
      "metadata": {
        "colab": {
          "base_uri": "https://localhost:8080/"
        },
        "id": "2e6fYwX99a7T",
        "outputId": "098dafee-eb4f-4040-eb99-9a102a983427"
      },
      "execution_count": 21,
      "outputs": [
        {
          "output_type": "stream",
          "name": "stdout",
          "text": [
            "[[0.0003848427190360628, 0.00010036269475598659, -0.000633706945599865, -0.0002030858359140281, 0.00029208528912021706, 0.00014497717653333796, -0.0005241983263687409, 0, 0, 0, 0, 0, 0, 0, 0, 0, 0, 0, 0, 0, 0, 0, 0, 0, 0, 0, 0, 0, 0, 0, 0, 0, 0, 0, 0, 0, 0, 0, 0, 0, 0, 0, 0, 0, 0, 0, 0, 0, 0, 0, 0, 0, 0, 0], [0.0006083944990169883, 0.000361195987377939, 0.0003266176782465239, -0.00011057053683165978, -9.387746177848849e-05, -1.9892331601941634e-05, -0.00028110416475955464, 0.00038472375175161485, 0.0004804789227741952, -9.387746177848849e-05, -0.00011057053683165978, -0.00010889978011669702, 0.0003268285790726003, 9.622564955102516e-05, 1.7935507273991357e-05, 7.114930948614414e-05, -0.0004141597137017689, 0, 0, 0, 0, 0, 0, 0, 0, 0, 0, 0, 0, 0, 0, 0, 0, 0, 0, 0, 0, 0, 0, 0, 0, 0, 0, 0, 0, 0, 0, 0, 0, 0, 0, 0, 0, 0], [0.00031621210711778, 0.001170607591982639, 7.410956871639724e-05, 9.377210262455092e-05, 0.00015266091949319555, -8.748174631712687e-06, 0.00035289202142147, 0.001170607591982639, -0.00015389125904146552, -0.00045772969476156667, 0, 0, 0, 0, 0, 0, 0, 0, 0, 0, 0, 0, 0, 0, 0, 0, 0, 0, 0, 0, 0, 0, 0, 0, 0, 0, 0, 0, 0, 0, 0, 0, 0, 0, 0, 0, 0, 0, 0, 0, 0, 0, 0, 0], [-0.00024128651969392448, 0.00015266091949319555, 0.0002926294627488916, 0.0006560774838477594, 0.001170607591982639, 0.0010470380999786334, -0.00012755700408634266, -9.83044468267219e-05, -0.00013798516924716593, 0.00039762099861804395, 0.001170607591982639, 0.0010470380999786334, 0.0002926294627488916, 0.0005942297947023626, 0, 0, 0, 0, 0, 0, 0, 0, 0, 0, 0, 0, 0, 0, 0, 0, 0, 0, 0, 0, 0, 0, 0, 0, 0, 0, 0, 0, 0, 0, 0, 0, 0, 0, 0, 0, 0, 0, 0, 0], [2.693935599028102e-05, -0.0005804631269976856, -0.00019830282602913845, -7.504253363553203e-05, 0.0010470380999786334, 0.00011213562789807854, 0.0010470380999786334, 0, 0, 0, 0, 0, 0, 0, 0, 0, 0, 0, 0, 0, 0, 0, 0, 0, 0, 0, 0, 0, 0, 0, 0, 0, 0, 0, 0, 0, 0, 0, 0, 0, 0, 0, 0, 0, 0, 0, 0, 0, 0, 0, 0, 0, 0, 0], [-3.066336637371542e-05, -0.00042074470421930756, 0.00033881694450468136, -6.803573505667323e-05, -0.0003046661662151836, -0.0005292729108039884, -0.00016735458909757778, 0.00032272587869929177, 0.0010470380999786334, 0, 0, 0, 0, 0, 0, 0, 0, 0, 0, 0, 0, 0, 0, 0, 0, 0, 0, 0, 0, 0, 0, 0, 0, 0, 0, 0, 0, 0, 0, 0, 0, 0, 0, 0, 0, 0, 0, 0, 0, 0, 0, 0, 0, 0], [0.0003906845449487846, 0.00012744814719682312, 0.00013869887370186387, 0.00011725182663173944, -4.9389489814690026e-05, -0.00040196683097883573, 0.0003522101541572565, 0.0010470380999786334, 0.00024866803208165245, -0.00034852573178327414, 0, 0, 0, 0, 0, 0, 0, 0, 0, 0, 0, 0, 0, 0, 0, 0, 0, 0, 0, 0, 0, 0, 0, 0, 0, 0, 0, 0, 0, 0, 0, 0, 0, 0, 0, 0, 0, 0, 0, 0, 0, 0, 0, 0], [-0.00013533209134388168, 3.532845519810997e-05, -0.00013533209134388168, 6.357944254419905e-05, 0.0010470380999786334, -0.0001836506174604553, 0.00036437090453487656, -0.0008805235798247852, 0, 0, 0, 0, 0, 0, 0, 0, 0, 0, 0, 0, 0, 0, 0, 0, 0, 0, 0, 0, 0, 0, 0, 0, 0, 0, 0, 0, 0, 0, 0, 0, 0, 0, 0, 0, 0, 0, 0, 0, 0, 0, 0, 0, 0, 0], [-0.00012918180422771613, -0.0005921913416808014, 0.00021323379401712417, 0.00024018393476293688, 6.439693449549991e-05, -0.0001799977551487101, -7.497985269123304e-05, -0.0003046661662151836, 0.00013869887370186387, -7.5684890078559e-05, 0.0003906845449487846, -0.00011691682972151082, 0.00013804972389912056, 0.00028839140621268066, 0, 0, 0, 0, 0, 0, 0, 0, 0, 0, 0, 0, 0, 0, 0, 0, 0, 0, 0, 0, 0, 0, 0, 0, 0, 0, 0, 0, 0, 0, 0, 0, 0, 0, 0, 0, 0, 0, 0, 0], [0.0001284456542856232, -0.000791316304555892, -0.0006436321852861617, -0.000782746298564944, -0.0004899182375975092, 0.0003788512772840722, 0.0010470380999786334, -5.127486160505747e-05, 2.9080993320483795e-05, 0.00012505200350683966, 9.172426289173311e-05, 7.907297719651643e-05, 0.0003064804546395604, 0.0001800402225559886, -0.00012285173299477072, 0.0001199515339295625, 0, 0, 0, 0, 0, 0, 0, 0, 0, 0, 0, 0, 0, 0, 0, 0, 0, 0, 0, 0, 0, 0, 0, 0, 0, 0, 0, 0, 0, 0, 0, 0, 0, 0, 0, 0, 0, 0], [-0.00010506155535727296, 0.00035408080262730283, -7.168638107750782e-05, -0.0001454607776994762, 0.00018627304219995006, 0, 0, 0, 0, 0, 0, 0, 0, 0, 0, 0, 0, 0, 0, 0, 0, 0, 0, 0, 0, 0, 0, 0, 0, 0, 0, 0, 0, 0, 0, 0, 0, 0, 0, 0, 0, 0, 0, 0, 0, 0, 0, 0, 0, 0, 0, 0, 0, 0], [-0.0002455918026562904, -0.0004456610134242289, -0.0002148397571203737, -0.00015151756641380667, 0.00039762099861804395, 0.001170607591982639, -0.00015151756641380667, 0.0001794029936126843, 0.001170607591982639, 0.00024971999516635294, 9.198731273044615e-06, 0, 0, 0, 0, 0, 0, 0, 0, 0, 0, 0, 0, 0, 0, 0, 0, 0, 0, 0, 0, 0, 0, 0, 0, 0, 0, 0, 0, 0, 0, 0, 0, 0, 0, 0, 0, 0, 0, 0, 0, 0, 0, 0], [0.0001258903561636308, -0.0005921913416808014, -0.000284995895225313, 0.0006533848100584563, -8.848114545309368e-05, -0.0003699641898676877, 0.0004183257283832744, -6.790568105490021e-05, 0, 0, 0, 0, 0, 0, 0, 0, 0, 0, 0, 0, 0, 0, 0, 0, 0, 0, 0, 0, 0, 0, 0, 0, 0, 0, 0, 0, 0, 0, 0, 0, 0, 0, 0, 0, 0, 0, 0, 0, 0, 0, 0, 0, 0, 0], [-0.0001892157951105103, 0.00017928464285947332, 0.00035408080262730283, -0.0001233554330927554, 0.00016221263418536558, 0.0005135347243264921, 0.0010470380999786334, -0.00020416510232057776, 0.0004885189490371313, -0.00022905467746983898, -0.0006340721566397288, -0.00015004727089288993, -0.00034578648724946994, -2.6140950649472754e-05, -3.066336637371542e-05, -0.00037340550002563954, -0.0002689163634294664, 0, 0, 0, 0, 0, 0, 0, 0, 0, 0, 0, 0, 0, 0, 0, 0, 0, 0, 0, 0, 0, 0, 0, 0, 0, 0, 0, 0, 0, 0, 0, 0, 0, 0, 0, 0, 0], [-0.00034280910028255756, 5.184285437356178e-05, 0.0010470380999786334, 0.00030641524721761176, 0, 0, 0, 0, 0, 0, 0, 0, 0, 0, 0, 0, 0, 0, 0, 0, 0, 0, 0, 0, 0, 0, 0, 0, 0, 0, 0, 0, 0, 0, 0, 0, 0, 0, 0, 0, 0, 0, 0, 0, 0, 0, 0, 0, 0, 0, 0, 0, 0, 0], [0.0005335530814283336, 0.00034726127415991127, 3.5290657768956574e-05, -0.00019695343704619926, 0.0010470380999786334, 0.0006799595886358908, 8.03027653891316e-05, -9.916651549533546e-05, 9.75806325103004e-05, 0.0010470380999786334, 0, 0, 0, 0, 0, 0, 0, 0, 0, 0, 0, 0, 0, 0, 0, 0, 0, 0, 0, 0, 0, 0, 0, 0, 0, 0, 0, 0, 0, 0, 0, 0, 0, 0, 0, 0, 0, 0, 0, 0, 0, 0, 0, 0], [-8.566510106691582e-05, -0.0005825529581834319, 0.00053137288210427, 0.0010470380999786334, -0.0005170071177179852, -0.00046112566620126104, 0.00048044383501945733, 0.0003706508182751277, -0.00043848544266692955, -0.0005804631269976856, -0.0001412160964333382, 0.0004462495101910074, 0.0010470380999786334, -6.090922310385601e-05, 0.00033812140530890594, -0.0001000115079021217, 0.00017449158265772085, 0.0010470380999786334, 2.8590184836062484e-05, 0, 0, 0, 0, 0, 0, 0, 0, 0, 0, 0, 0, 0, 0, 0, 0, 0, 0, 0, 0, 0, 0, 0, 0, 0, 0, 0, 0, 0, 0, 0, 0, 0, 0, 0], [0.0010470380999786334, 0.0010470380999786334, 0.00016743892737596522, 2.740574995031245e-05, 0.0010470380999786334, -1.740313614077144e-05, 9.143431014611404e-06, -7.258732075816386e-05, 0.00064231573332037, 0.0001941627881638507, 0, 0, 0, 0, 0, 0, 0, 0, 0, 0, 0, 0, 0, 0, 0, 0, 0, 0, 0, 0, 0, 0, 0, 0, 0, 0, 0, 0, 0, 0, 0, 0, 0, 0, 0, 0, 0, 0, 0, 0, 0, 0, 0, 0], [7.009959015509677e-05, 1.3370736036559874e-06, 0.0010470380999786334, -9.218316223229088e-05, -0.0005804631269976856, 0, 0, 0, 0, 0, 0, 0, 0, 0, 0, 0, 0, 0, 0, 0, 0, 0, 0, 0, 0, 0, 0, 0, 0, 0, 0, 0, 0, 0, 0, 0, 0, 0, 0, 0, 0, 0, 0, 0, 0, 0, 0, 0, 0, 0, 0, 0, 0, 0], [0.00012505200350683966, -0.0005921913416808014, -0.0004899182375975092, 0.0003092384939939557, 1.2799225005581528e-05, 0, 0, 0, 0, 0, 0, 0, 0, 0, 0, 0, 0, 0, 0, 0, 0, 0, 0, 0, 0, 0, 0, 0, 0, 0, 0, 0, 0, 0, 0, 0, 0, 0, 0, 0, 0, 0, 0, 0, 0, 0, 0, 0, 0, 0, 0, 0, 0, 0], [-0.00018982247276462663, 0.0003287447588222771, 0.0004693563318878359, -0.00027893253835231305, -0.00044533975662617653, -0.00019319449405648392, 0.00012355322000692933, 0.00018627304219995006, 0, 0, 0, 0, 0, 0, 0, 0, 0, 0, 0, 0, 0, 0, 0, 0, 0, 0, 0, 0, 0, 0, 0, 0, 0, 0, 0, 0, 0, 0, 0, 0, 0, 0, 0, 0, 0, 0, 0, 0, 0, 0, 0, 0, 0, 0], [-0.0005921913416808014, -0.00016134060788810655, -0.00046112566620126104, 7.498051412863161e-05, -0.0001454607776994762, 2.9080993320483795e-05, 0, 0, 0, 0, 0, 0, 0, 0, 0, 0, 0, 0, 0, 0, 0, 0, 0, 0, 0, 0, 0, 0, 0, 0, 0, 0, 0, 0, 0, 0, 0, 0, 0, 0, 0, 0, 0, 0, 0, 0, 0, 0, 0, 0, 0, 0, 0, 0], [0.001170607591982639, 0.0002527092550437834, 0.0007471129190899656, 0.00015266091949319555, 0.0006560774838477594, 0.001170607591982639, -0.00010925882542033219, -0.0001637275564659344, -0.0001286056109871414, -0.00031811679422902116, 3.918128963962284e-05, -8.700633816292915e-05, 0, 0, 0, 0, 0, 0, 0, 0, 0, 0, 0, 0, 0, 0, 0, 0, 0, 0, 0, 0, 0, 0, 0, 0, 0, 0, 0, 0, 0, 0, 0, 0, 0, 0, 0, 0, 0, 0, 0, 0, 0, 0], [0.00015707181145937745, 0.00040370870847979465, -0.00028529380996588456, 0.00016221263418536558, -0.0001233554330927554, -0.00036411996241971086, 0.0010470380999786334, 0.00034726127415991127, -3.610403723740242e-05, 0.00012239684340853915, -0.00010941434105680367, 0.0004430755327507006, 0.00012381185422870468, 0.00014733709433512862, 0.000160310329850362, 0, 0, 0, 0, 0, 0, 0, 0, 0, 0, 0, 0, 0, 0, 0, 0, 0, 0, 0, 0, 0, 0, 0, 0, 0, 0, 0, 0, 0, 0, 0, 0, 0, 0, 0, 0, 0, 0, 0], [-0.00039818411051810497, -0.0005921913416808014, 0.00069866708833749, 0.0002120902347160493, 0, 0, 0, 0, 0, 0, 0, 0, 0, 0, 0, 0, 0, 0, 0, 0, 0, 0, 0, 0, 0, 0, 0, 0, 0, 0, 0, 0, 0, 0, 0, 0, 0, 0, 0, 0, 0, 0, 0, 0, 0, 0, 0, 0, 0, 0, 0, 0, 0, 0], [0.0006083944990169883, 0.00024202245685798598, 0.0003064804546395604, -0.00039250837835746544, 3.307165035490675e-05, 0.00024202245685798598, 0, 0, 0, 0, 0, 0, 0, 0, 0, 0, 0, 0, 0, 0, 0, 0, 0, 0, 0, 0, 0, 0, 0, 0, 0, 0, 0, 0, 0, 0, 0, 0, 0, 0, 0, 0, 0, 0, 0, 0, 0, 0, 0, 0, 0, 0, 0, 0], [0.0006083944990169883, -0.00014179729838414523, 7.757847638165481e-05, -0.0002153446246119439, -0.00011867070876007678, 0.00018497884865319533, 0.0002099121312537187, -0.0005579696524949413, 3.160401572717075e-05, -0.00021788609321666443, -0.0005579696524949413, 2.078256391636844e-05, 5.1325174930453505e-05, 0.0002684666564852435, -0.00017165618657280328, -0.00017165618657280328, 0.00035112638524255216, 0.0003064804546395604, -0.00023138222422919955, -0.00018437739012480692, -5.949581425834819e-05, 0.00010929624921155594, -9.763727577065864e-05, 0.00026005627364899495, -0.00010655468567482181, -7.475103242885557e-05, 0.00027040532137847807, 0.0006543671636990489, -0.00011833418480576545, 0, 0, 0, 0, 0, 0, 0, 0, 0, 0, 0, 0, 0, 0, 0, 0, 0, 0, 0, 0, 0, 0, 0, 0, 0], [-5.464799877121479e-05, 0.00036863551124580044, 0.00021328145676443458, -6.398589998239821e-05, 0.00012504407652654727, 0.00036863551124580044, 0.0001844644631686821, -0.00013253696500772718, 8.344083341140368e-05, -0.0003783990084494309, -4.0738546480103244e-05, -0.0001181407797707262, -0.00036723592734497906, -0.00017851251948047386, -0.0002525112787392942, 2.5320307415617805e-05, 0.0003181374083891732, 0.00021920467483081793, 0.00023719986144162518, -5.0617395364634837e-05, 0.0001844644631686821, -0.00013253696500772718, 1.3370736036559874e-06, 0, 0, 0, 0, 0, 0, 0, 0, 0, 0, 0, 0, 0, 0, 0, 0, 0, 0, 0, 0, 0, 0, 0, 0, 0, 0, 0, 0, 0, 0, 0], [-9.387746177848849e-05, -0.0003009974508153254, -0.0005464040664055916, -9.387746177848849e-05, -0.0003009974508153254, -4.182788341044505e-05, 0.0001842178175928689, 0.00042207096828178676, 0.00032221595212623424, 3.2749934039385543e-06, 0.0004850685636826305, 0.0003064804546395604, 0.00022203730536495342, 0.00040845724474917127, -0.0002843823405893892, 0.00022826280914279895, 7.783802151139648e-06, 0.00013201719063050238, 0.0004872850594420467, 0.0003064804546395604, 0.0006083944990169883, -0.00016134060788810655, -0.0002553947191030602, 3.4175710984890595e-05, 0.0003064804546395604, 0.0006083944990169883, -0.0003516421265309023, 0.0002717656431384695, -0.0004926161123802113, 1.6180725344184524e-05, -6.007361241513828e-05, -0.0003516421265309023, -9.088686020002139e-05, 0.00022203730536495342, -0.0002843823405893892, -0.00022248430260705655, 0.0006083944990169883, 0.0003064804546395604, -0.0002525112787392942, 0.00023787103423785267, 0.00039272313574131054, 0, 0, 0, 0, 0, 0, 0, 0, 0, 0, 0, 0, 0], [0.00011059176207444768, 0.000180394895465383, -0.0002222147273721915, 0.00012903309780500625, -0.00032993858364023553, 0, 0, 0, 0, 0, 0, 0, 0, 0, 0, 0, 0, 0, 0, 0, 0, 0, 0, 0, 0, 0, 0, 0, 0, 0, 0, 0, 0, 0, 0, 0, 0, 0, 0, 0, 0, 0, 0, 0, 0, 0, 0, 0, 0, 0, 0, 0, 0, 0], [0.0010470380999786334, 0.0007014369468725217, -0.0006229639550734822, -3.066336637371542e-05, 0.00016820715072572836, -0.00039699112660058903, 0.0005135347243264921, 0.0004084534053571217, 0, 0, 0, 0, 0, 0, 0, 0, 0, 0, 0, 0, 0, 0, 0, 0, 0, 0, 0, 0, 0, 0, 0, 0, 0, 0, 0, 0, 0, 0, 0, 0, 0, 0, 0, 0, 0, 0, 0, 0, 0, 0, 0, 0, 0, 0], [-6.19607472563765e-05, -0.00021071729122037122, -6.0709467605956036e-05, -0.0005921913416808014, 0.00024131356336313525, 0, 0, 0, 0, 0, 0, 0, 0, 0, 0, 0, 0, 0, 0, 0, 0, 0, 0, 0, 0, 0, 0, 0, 0, 0, 0, 0, 0, 0, 0, 0, 0, 0, 0, 0, 0, 0, 0, 0, 0, 0, 0, 0, 0, 0, 0, 0, 0, 0], [-0.0005921913416808014, 0.0002346364884042219, -0.0005921913416808014, 0.00021323379401712417, 0.0004460669724904952, -0.000782746298564944, 0, 0, 0, 0, 0, 0, 0, 0, 0, 0, 0, 0, 0, 0, 0, 0, 0, 0, 0, 0, 0, 0, 0, 0, 0, 0, 0, 0, 0, 0, 0, 0, 0, 0, 0, 0, 0, 0, 0, 0, 0, 0, 0, 0, 0, 0, 0, 0], [-0.00033543075909257087, -0.0003020338935101186, 0.0003037003621694488, 0.0001245003671982288, -9.83044468267219e-05, -0.00022611008272506068, -0.00030078630598408024, -6.29061710092001e-06, -8.370078666234995e-05, 0.0002926294627488916, 0.0005942297947023626, 0, 0, 0, 0, 0, 0, 0, 0, 0, 0, 0, 0, 0, 0, 0, 0, 0, 0, 0, 0, 0, 0, 0, 0, 0, 0, 0, 0, 0, 0, 0, 0, 0, 0, 0, 0, 0, 0, 0, 0, 0, 0, 0], [-9.387746177848849e-05, -6.6454224312349675e-06, 0.0005691268824217436, -0.0002217296040896029, 0.0010470380999786334, -0.0003892875211476462, -8.57917843381698e-05, -3.256754497024128e-05, -0.00012886549215511582, 0.0003901573780986531, 0, 0, 0, 0, 0, 0, 0, 0, 0, 0, 0, 0, 0, 0, 0, 0, 0, 0, 0, 0, 0, 0, 0, 0, 0, 0, 0, 0, 0, 0, 0, 0, 0, 0, 0, 0, 0, 0, 0, 0, 0, 0, 0, 0], [6.821950654191373e-05, -0.0001531358103655721, 0.00023719986144162518, -0.0002091191807472109, 1.1500333772242058e-05, 0.00022309158211262676, 0, 0, 0, 0, 0, 0, 0, 0, 0, 0, 0, 0, 0, 0, 0, 0, 0, 0, 0, 0, 0, 0, 0, 0, 0, 0, 0, 0, 0, 0, 0, 0, 0, 0, 0, 0, 0, 0, 0, 0, 0, 0, 0, 0, 0, 0, 0, 0], [3.532845519810997e-05, 0.0006799595886358908, 8.03027653891316e-05, -9.916651549533546e-05, 9.75806325103004e-05, 0.0002908546139842115, -0.0001672533321011024, -0.0005921913416808014, 0, 0, 0, 0, 0, 0, 0, 0, 0, 0, 0, 0, 0, 0, 0, 0, 0, 0, 0, 0, 0, 0, 0, 0, 0, 0, 0, 0, 0, 0, 0, 0, 0, 0, 0, 0, 0, 0, 0, 0, 0, 0, 0, 0, 0, 0], [0.0010470380999786334, 0.00048634381137043376, -0.0002854180181707009, 0.00017449158265772085, -0.0005249198240269286, 6.435722092477294e-05, 0.0002921290268575621, 2.0813721798129815e-06, 0.0006083944990169883, 4.391200638817646e-05, 0.0004816583213785092, -0.0002525112787392942, -4.274342783507964e-05, -0.00015041120147874458, 0, 0, 0, 0, 0, 0, 0, 0, 0, 0, 0, 0, 0, 0, 0, 0, 0, 0, 0, 0, 0, 0, 0, 0, 0, 0, 0, 0, 0, 0, 0, 0, 0, 0, 0, 0, 0, 0, 0, 0], [0.0010470380999786334, -0.0002566307656440395, -1.2794278409700142e-05, -0.0003516421265309023, 0, 0, 0, 0, 0, 0, 0, 0, 0, 0, 0, 0, 0, 0, 0, 0, 0, 0, 0, 0, 0, 0, 0, 0, 0, 0, 0, 0, 0, 0, 0, 0, 0, 0, 0, 0, 0, 0, 0, 0, 0, 0, 0, 0, 0, 0, 0, 0, 0, 0], [-5.2942398076064546e-05, -1.2077672346459132e-05, 5.4219375503502984e-05, 0.0003197047175844487, 0.0003351727842668187, 0.0006100897962057408, -0.00032790668072383504, 2.0813721798129815e-06, 0.00035408080262730283, -0.00010838447807968405, -0.00023587688656690264, 0, 0, 0, 0, 0, 0, 0, 0, 0, 0, 0, 0, 0, 0, 0, 0, 0, 0, 0, 0, 0, 0, 0, 0, 0, 0, 0, 0, 0, 0, 0, 0, 0, 0, 0, 0, 0, 0, 0, 0, 0, 0, 0], [0.00035408080262730283, -4.9389489814690026e-05, -6.779416855073964e-05, 0.00018309269680127346, -0.0001836506174604553, 0.0004902336494093276, -0.00021111847223673905, 0.00012023106483419415, -0.0005921913416808014, -9.387746177848849e-05, 0.0001520062934258682, 0.0007354745777028011, 0.00035408080262730283, -0.00038766075953084, 0, 0, 0, 0, 0, 0, 0, 0, 0, 0, 0, 0, 0, 0, 0, 0, 0, 0, 0, 0, 0, 0, 0, 0, 0, 0, 0, 0, 0, 0, 0, 0, 0, 0, 0, 0, 0, 0, 0, 0], [-6.827799791428559e-05, -0.0005994033239492942, 0.0004902336494093276, 0.0004872850594420467, 0.0010470380999786334, -0.0002217296040896029, -0.0002039271637869388, 0.0003901573780986531, 0.0004315176595403186, 0, 0, 0, 0, 0, 0, 0, 0, 0, 0, 0, 0, 0, 0, 0, 0, 0, 0, 0, 0, 0, 0, 0, 0, 0, 0, 0, 0, 0, 0, 0, 0, 0, 0, 0, 0, 0, 0, 0, 0, 0, 0, 0, 0, 0], [0.0004902336494093276, 0.0004872850594420467, 1.736333221182202e-05, 0.0010470380999786334, 0.0007014369468725217, -0.0002705634566767583, -0.0003997121622038824, 0.00013655342527680507, -0.00023284119813556954, 9.75806325103004e-05, -0.00020036292060235592, 0.00013928787232013373, 0.0006799595886358908, -0.0001661429475454066, 0.00017042679132486032, 0.0004872850594420467, 0, 0, 0, 0, 0, 0, 0, 0, 0, 0, 0, 0, 0, 0, 0, 0, 0, 0, 0, 0, 0, 0, 0, 0, 0, 0, 0, 0, 0, 0, 0, 0, 0, 0, 0, 0, 0, 0], [0.0001794029936126843, 0.001170607591982639, -0.00029032536367309166, -0.0005921913416808014, 0, 0, 0, 0, 0, 0, 0, 0, 0, 0, 0, 0, 0, 0, 0, 0, 0, 0, 0, 0, 0, 0, 0, 0, 0, 0, 0, 0, 0, 0, 0, 0, 0, 0, 0, 0, 0, 0, 0, 0, 0, 0, 0, 0, 0, 0, 0, 0, 0, 0], [-0.0005921913416808014, -0.0004185432442221129, 0.00037660761785517283, -0.000264394465000288, 0.00011400647776217668, -0.0005921913416808014, -0.00021111847223673905, 0.0003938082010087872, 0, 0, 0, 0, 0, 0, 0, 0, 0, 0, 0, 0, 0, 0, 0, 0, 0, 0, 0, 0, 0, 0, 0, 0, 0, 0, 0, 0, 0, 0, 0, 0, 0, 0, 0, 0, 0, 0, 0, 0, 0, 0, 0, 0, 0, 0], [-0.0002695467737832683, 4.86535088191295e-05, -2.1309747014027796e-05, 0.00035289202142147, 0.001170607591982639, 0.0010470380999786334, -0.00025808701425360475, -6.19607472563765e-05, 0.00024131356336313525, 0.001170607591982639, 0.0005250922733234684, -0.0003076721620968616, 0, 0, 0, 0, 0, 0, 0, 0, 0, 0, 0, 0, 0, 0, 0, 0, 0, 0, 0, 0, 0, 0, 0, 0, 0, 0, 0, 0, 0, 0, 0, 0, 0, 0, 0, 0, 0, 0, 0, 0, 0, 0], [0.0010470380999786334, -4.142839591804108e-05, -4.087758712937895e-05, 0, 0, 0, 0, 0, 0, 0, 0, 0, 0, 0, 0, 0, 0, 0, 0, 0, 0, 0, 0, 0, 0, 0, 0, 0, 0, 0, 0, 0, 0, 0, 0, 0, 0, 0, 0, 0, 0, 0, 0, 0, 0, 0, 0, 0, 0, 0, 0, 0, 0, 0], [-2.1309747014027796e-05, 0.0001258903561636308, 3.928121906839782e-06, 0.0001127607085398747, 0.0002638649708935186, 0.00012724125436963971, -0.00022772344571241534, 0.0010470380999786334, 0.00013484806198131558, 0.0002926294627488916, 0.0007507175802443666, -0.0001274852797127681, 0.00040845724474917127, 0, 0, 0, 0, 0, 0, 0, 0, 0, 0, 0, 0, 0, 0, 0, 0, 0, 0, 0, 0, 0, 0, 0, 0, 0, 0, 0, 0, 0, 0, 0, 0, 0, 0, 0, 0, 0, 0, 0, 0, 0], [0.00035408080262730283, -0.00018832604451936243, -0.00040766143531926986, 0, 0, 0, 0, 0, 0, 0, 0, 0, 0, 0, 0, 0, 0, 0, 0, 0, 0, 0, 0, 0, 0, 0, 0, 0, 0, 0, 0, 0, 0, 0, 0, 0, 0, 0, 0, 0, 0, 0, 0, 0, 0, 0, 0, 0, 0, 0, 0, 0, 0, 0], [8.648098311137638e-05, 1.3220340414103887e-05, 0.00032221595212623424, 8.648098311137638e-05, -0.0001601891391374894, 0.0003064804546395604, 0.00022203730536495342, 0.00013590408524893918, -4.517256394182677e-05, -8.765318428681605e-05, -6.169956831208503e-05, 0.0010470380999786334, 0.00025885056987255786, 4.391200638817646e-05, 0.00040845724474917127, -0.0005521231390165466, 0, 0, 0, 0, 0, 0, 0, 0, 0, 0, 0, 0, 0, 0, 0, 0, 0, 0, 0, 0, 0, 0, 0, 0, 0, 0, 0, 0, 0, 0, 0, 0, 0, 0, 0, 0, 0, 0], [-0.0001233554330927554, -0.00027427378043976854, -0.0002005652114397012, 0.0010470380999786334, 0.0001390762979798258, 0.00012355322000692933, -3.097909312987407e-05, -3.3471843910538136e-05, 0.0002738890031915288, -0.0001680841812565995, -0.0004657231161361114, 0.00014966594612647138, 0.00038193586925057795, -8.067991033850829e-05, -0.00017063167688397864, -0.0002985167852306356, 0.0001127607085398747, -0.000611185256597125, 0, 0, 0, 0, 0, 0, 0, 0, 0, 0, 0, 0, 0, 0, 0, 0, 0, 0, 0, 0, 0, 0, 0, 0, 0, 0, 0, 0, 0, 0, 0, 0, 0, 0, 0, 0], [0.00017850527658924201, 0, 0, 0, 0, 0, 0, 0, 0, 0, 0, 0, 0, 0, 0, 0, 0, 0, 0, 0, 0, 0, 0, 0, 0, 0, 0, 0, 0, 0, 0, 0, 0, 0, 0, 0, 0, 0, 0, 0, 0, 0, 0, 0, 0, 0, 0, 0, 0, 0, 0, 0, 0, 0], [0.00042574271679296326, -0.00013864671515991789, 1.4576055884490583e-05, -7.124212711531016e-05, 0.0005135347243264921, 0.0003140695962158298, 0.00012505200350683966, 0.0010470380999786334, -6.790568105490021e-05, 2.967733942061756e-05, 0.00025219514679542925, 0.00033139042859542866, 0.0002831392696389907, 0.00033139042859542866, 0.0003018864983966435, 0, 0, 0, 0, 0, 0, 0, 0, 0, 0, 0, 0, 0, 0, 0, 0, 0, 0, 0, 0, 0, 0, 0, 0, 0, 0, 0, 0, 0, 0, 0, 0, 0, 0, 0, 0, 0, 0, 0], [0.0008863078902243929, -9.387746177848849e-05, -0.0002217296040896029, 0.00027350351378899727, -0.0005921913416808014, -0.000189957582100898, -6.827799791428559e-05, 0.00016820715072572836, 0.0003445045924276368, -0.0004876908464814202, -0.0005497534404074146, -0.0002754134632880561, -0.00023357883301378858, -0.0005921913416808014, -0.00016134060788810655, 0, 0, 0, 0, 0, 0, 0, 0, 0, 0, 0, 0, 0, 0, 0, 0, 0, 0, 0, 0, 0, 0, 0, 0, 0, 0, 0, 0, 0, 0, 0, 0, 0, 0, 0, 0, 0, 0, 0], [0.000408065495121403, 0.0004482365121335767, -0.00023701387375987018, 0.00018940630149113052, -0.0005921913416808014, 0, 0, 0, 0, 0, 0, 0, 0, 0, 0, 0, 0, 0, 0, 0, 0, 0, 0, 0, 0, 0, 0, 0, 0, 0, 0, 0, 0, 0, 0, 0, 0, 0, 0, 0, 0, 0, 0, 0, 0, 0, 0, 0, 0, 0, 0, 0, 0, 0], [-0.0005921913416808014, 7.410956871639724e-05, -0.0002525112787392942, -0.00011548967057175775, -6.19607472563765e-05, 0.00042573115364870703, 0, 0, 0, 0, 0, 0, 0, 0, 0, 0, 0, 0, 0, 0, 0, 0, 0, 0, 0, 0, 0, 0, 0, 0, 0, 0, 0, 0, 0, 0, 0, 0, 0, 0, 0, 0, 0, 0, 0, 0, 0, 0, 0, 0, 0, 0, 0, 0], [-0.00016016048318358652, 0.00035408080262730283, 0.001170607591982639, 3.239609942518626e-05, 0.00020249676607920697, 0, 0, 0, 0, 0, 0, 0, 0, 0, 0, 0, 0, 0, 0, 0, 0, 0, 0, 0, 0, 0, 0, 0, 0, 0, 0, 0, 0, 0, 0, 0, 0, 0, 0, 0, 0, 0, 0, 0, 0, 0, 0, 0, 0, 0, 0, 0, 0, 0], [-0.00024882738503774477, -0.0005921913416808014, -0.00016134060788810655, -0.00017696240383194942, -2.984160101589813e-05, 0.00040845724474917127, 0, 0, 0, 0, 0, 0, 0, 0, 0, 0, 0, 0, 0, 0, 0, 0, 0, 0, 0, 0, 0, 0, 0, 0, 0, 0, 0, 0, 0, 0, 0, 0, 0, 0, 0, 0, 0, 0, 0, 0, 0, 0, 0, 0, 0, 0, 0, 0], [0.0001213606901253749, 0.0010470380999786334, -6.847373761922765e-05, 0.0002744086968225768, -0.00014592460027451208, -9.387746177848849e-05, 0.000200125695322568, 0.0010470380999786334, -0.0004899182375975092, -2.5400026900626865e-05, -6.007361241513828e-05, -0.0001601891391374894, 0.0010470380999786334, 1.736333221182202e-05, 8.556240092661347e-05, 0.00042924197894623426, -0.00035331222394706445, 7.783802151139648e-06, -0.00021337794568882816, -2.5430761927013825e-06, 0.00013590408524893918, 3.670201560629866e-05, 0, 0, 0, 0, 0, 0, 0, 0, 0, 0, 0, 0, 0, 0, 0, 0, 0, 0, 0, 0, 0, 0, 0, 0, 0, 0, 0, 0, 0, 0, 0, 0], [-0.0002565644692564007, 0.0001262721481801651, -4.614296074645059e-05, 0.0010470380999786334, -7.937420362800536e-06, 8.393895646862135e-05, 7.544089325995278e-05, 0.0001199515339295625, 0, 0, 0, 0, 0, 0, 0, 0, 0, 0, 0, 0, 0, 0, 0, 0, 0, 0, 0, 0, 0, 0, 0, 0, 0, 0, 0, 0, 0, 0, 0, 0, 0, 0, 0, 0, 0, 0, 0, 0, 0, 0, 0, 0, 0, 0], [0.0003188603553935942, 0.0010470380999786334, 0.00033267510939363043, -0.00017165618657280328, -0.00012703741065252233, -0.00014773989612990813, -0.00017165618657280328, 0.00013928787232013373, 0.00026071972637894465, 0.0003185047520957654, -8.566510106691582e-05, 0.0003321506709379548, 0.0010470380999786334, 0.00033267510939363043, -0.00017165618657280328, -0.00012703741065252233, -0.00014773989612990813, -0.00017165618657280328, 0.00013928787232013373, 0.00026071972637894465, 0.0003185047520957654, -8.566510106691582e-05, -7.696040492164941e-05, 0, 0, 0, 0, 0, 0, 0, 0, 0, 0, 0, 0, 0, 0, 0, 0, 0, 0, 0, 0, 0, 0, 0, 0, 0, 0, 0, 0, 0, 0, 0], [0.0002831392696389907, 0.00023719986144162518, 0.0010470380999786334, -0.00012423787670661794, 0.0003897424129198686, -0.0003997121622038824, 0.00037660761785517283, -0.0004311872802799006, -0.00046266100757326754, -0.0003608285364872855, 0.0010470380999786334, 0.00035303593873320003, -6.007361241513828e-05, 0.0002873335100744732, 0, 0, 0, 0, 0, 0, 0, 0, 0, 0, 0, 0, 0, 0, 0, 0, 0, 0, 0, 0, 0, 0, 0, 0, 0, 0, 0, 0, 0, 0, 0, 0, 0, 0, 0, 0, 0, 0, 0, 0], [-0.0005921913416808014, -0.00014147823236703382, 0.0001842178175928689, -0.00043602699045153107, 0, 0, 0, 0, 0, 0, 0, 0, 0, 0, 0, 0, 0, 0, 0, 0, 0, 0, 0, 0, 0, 0, 0, 0, 0, 0, 0, 0, 0, 0, 0, 0, 0, 0, 0, 0, 0, 0, 0, 0, 0, 0, 0, 0, 0, 0, 0, 0, 0, 0], [0.0010470380999786334, -0.00027121140502781244, -0.00043864671472540777, -0.0006353627716800933, 0, 0, 0, 0, 0, 0, 0, 0, 0, 0, 0, 0, 0, 0, 0, 0, 0, 0, 0, 0, 0, 0, 0, 0, 0, 0, 0, 0, 0, 0, 0, 0, 0, 0, 0, 0, 0, 0, 0, 0, 0, 0, 0, 0, 0, 0, 0, 0, 0, 0], [0.0010470380999786334, -8.848114545309368e-05, 0.00020013879032416016, -0.00026191066921068564, 0.0003064804546395604, -0.0002231510514123294, 0.0010470380999786334, 0.00019284513026094724, 0, 0, 0, 0, 0, 0, 0, 0, 0, 0, 0, 0, 0, 0, 0, 0, 0, 0, 0, 0, 0, 0, 0, 0, 0, 0, 0, 0, 0, 0, 0, 0, 0, 0, 0, 0, 0, 0, 0, 0, 0, 0, 0, 0, 0, 0], [0.0010470380999786334, 9.35192662123616e-05, 0.00014903099478396603, -0.0002525112787392942, -0.00022183464784709418, -0.0005382991429528594, -0.000326802139966958, 0, 0, 0, 0, 0, 0, 0, 0, 0, 0, 0, 0, 0, 0, 0, 0, 0, 0, 0, 0, 0, 0, 0, 0, 0, 0, 0, 0, 0, 0, 0, 0, 0, 0, 0, 0, 0, 0, 0, 0, 0, 0, 0, 0, 0, 0, 0], [-2.1309747014027796e-05, -0.0005921913416808014, -0.000284995895225313, 0.0001961353220110881, 0.001170607591982639, 0.00039762099861804395, 0.001170607591982639, 0.00047397409047654634, 0.00023373737212059806, 0, 0, 0, 0, 0, 0, 0, 0, 0, 0, 0, 0, 0, 0, 0, 0, 0, 0, 0, 0, 0, 0, 0, 0, 0, 0, 0, 0, 0, 0, 0, 0, 0, 0, 0, 0, 0, 0, 0, 0, 0, 0, 0, 0, 0], [0.0003181374083891732, 0.00027089804283897417, 0.00015677612619918068, 0.0002926294627488916, 0, 0, 0, 0, 0, 0, 0, 0, 0, 0, 0, 0, 0, 0, 0, 0, 0, 0, 0, 0, 0, 0, 0, 0, 0, 0, 0, 0, 0, 0, 0, 0, 0, 0, 0, 0, 0, 0, 0, 0, 0, 0, 0, 0, 0, 0, 0, 0, 0, 0], [0.00023719986144162518, -4.2842762676402814e-05, -0.00014942407461619237, 0.0010470380999786334, 0.00045757534382778514, -0.0003507391820869982, 0.0002883250186324087, 0.00023192016010720754, 0.00024053356766294678, 0, 0, 0, 0, 0, 0, 0, 0, 0, 0, 0, 0, 0, 0, 0, 0, 0, 0, 0, 0, 0, 0, 0, 0, 0, 0, 0, 0, 0, 0, 0, 0, 0, 0, 0, 0, 0, 0, 0, 0, 0, 0, 0, 0, 0], [9.197309021380943e-05, 0.00035408080262730283, -0.0001274852797127681, -0.0005615847229872213, 0.00040845724474917127, -0.0001315464616556773, -4.182788341044505e-05, 0.0004084534053571217, 0.0002921290268575621, 0, 0, 0, 0, 0, 0, 0, 0, 0, 0, 0, 0, 0, 0, 0, 0, 0, 0, 0, 0, 0, 0, 0, 0, 0, 0, 0, 0, 0, 0, 0, 0, 0, 0, 0, 0, 0, 0, 0, 0, 0, 0, 0, 0, 0], [-0.0005921913416808014, 7.410956871639724e-05, 4.5227743801860394e-05, 0.0001961353220110881, 0.00015907461823544986, -0.0006956824838586515, 0.0010470380999786334, 7.410956871639724e-05, 0.0003266176782465239, 0.0001965082337764347, 0.00015907461823544986, 6.977256181859028e-05, 3.223647981452052e-05, -0.0002039271637869388, 3.2749934039385543e-06, 0.00042488973642992845, -0.0005921913416808014, -0.00016134060788810655, 0, 0, 0, 0, 0, 0, 0, 0, 0, 0, 0, 0, 0, 0, 0, 0, 0, 0, 0, 0, 0, 0, 0, 0, 0, 0, 0, 0, 0, 0, 0, 0, 0, 0, 0, 0], [0.00017850527658924201, 0.00016352909060380022, -0.00017707679303526015, 0, 0, 0, 0, 0, 0, 0, 0, 0, 0, 0, 0, 0, 0, 0, 0, 0, 0, 0, 0, 0, 0, 0, 0, 0, 0, 0, 0, 0, 0, 0, 0, 0, 0, 0, 0, 0, 0, 0, 0, 0, 0, 0, 0, 0, 0, 0, 0, 0, 0, 0], [0.00012827693915736866, 0.00015907461823544986, -0.00010889978011669702, 0.0003268285790726003, -0.0003108234023685963, 0.0006533848100584563, 0.00023787103423785267, 0, 0, 0, 0, 0, 0, 0, 0, 0, 0, 0, 0, 0, 0, 0, 0, 0, 0, 0, 0, 0, 0, 0, 0, 0, 0, 0, 0, 0, 0, 0, 0, 0, 0, 0, 0, 0, 0, 0, 0, 0, 0, 0, 0, 0, 0, 0], [-0.00037340550002563954, 0.00011059176207444768, 0.00025153449887149146, 0.0004794156933044015, 0.0010470380999786334, -0.00010446853212410311, 0.0004460669724904952, 0.00026425266669694665, -0.0003483830434372431, -7.10127868992347e-05, 0, 0, 0, 0, 0, 0, 0, 0, 0, 0, 0, 0, 0, 0, 0, 0, 0, 0, 0, 0, 0, 0, 0, 0, 0, 0, 0, 0, 0, 0, 0, 0, 0, 0, 0, 0, 0, 0, 0, 0, 0, 0, 0, 0], [0.0010470380999786334, 0.00021323379401712417, 0.00035303593873320003, 0.00038831189586899614, 0.00024131356336313525, 0.00023787103423785267, -0.00011548967057175775, 0.0006533848100584563, 0, 0, 0, 0, 0, 0, 0, 0, 0, 0, 0, 0, 0, 0, 0, 0, 0, 0, 0, 0, 0, 0, 0, 0, 0, 0, 0, 0, 0, 0, 0, 0, 0, 0, 0, 0, 0, 0, 0, 0, 0, 0, 0, 0, 0, 0], [-0.00014987406441110555, -0.0005773999067461033, 0.0003188603553935942, 3.894754786859932e-05, 0.00017185813660384935, 0.0010470380999786334, 0.00021323379401712417, 0.0003266176782465239, 2.0435918101858973e-05, 0.00028839140621268066, 0, 0, 0, 0, 0, 0, 0, 0, 0, 0, 0, 0, 0, 0, 0, 0, 0, 0, 0, 0, 0, 0, 0, 0, 0, 0, 0, 0, 0, 0, 0, 0, 0, 0, 0, 0, 0, 0, 0, 0, 0, 0, 0, 0], [-0.00017165618657280328, -0.00036411996241971086, 0.000500930679429059, 0.0004885189490371313, -0.0001740178872810345, 0.0004872850594420467, 0.00013928787232013373, 0.0010470380999786334, 0.0008734490522283554, 9.087535046231957e-05, 6.235325634967149e-05, 0.00012889607759236703, 0, 0, 0, 0, 0, 0, 0, 0, 0, 0, 0, 0, 0, 0, 0, 0, 0, 0, 0, 0, 0, 0, 0, 0, 0, 0, 0, 0, 0, 0, 0, 0, 0, 0, 0, 0, 0, 0, 0, 0, 0, 0], [-0.0004505599761155054, 0.00035289202142147, 0.001170607591982639, -4.9389489814690026e-05, -0.0002444451315173531, -0.0005921913416808014, -0.00021111847223673905, -6.281183998026478e-05, 0.00019890257638845336, 7.1036417097361526e-06, 0.00022870705953889964, 0.00029152836623258835, -6.19607472563765e-05, 3.248955258938972e-05, 0, 0, 0, 0, 0, 0, 0, 0, 0, 0, 0, 0, 0, 0, 0, 0, 0, 0, 0, 0, 0, 0, 0, 0, 0, 0, 0, 0, 0, 0, 0, 0, 0, 0, 0, 0, 0, 0, 0, 0], [-0.00025247086299721175, 0.000322941462383775, 0.00015666473737361024, -0.00023701387375987018, 0.00028608331410400053, 0.0004019700547721112, -0.0003926585248508119, 0.00028608331410400053, 0.00018589116319802604, 0.0002793396586735916, 8.789854855945013e-07, -3.9863584662256456e-05, 0, 0, 0, 0, 0, 0, 0, 0, 0, 0, 0, 0, 0, 0, 0, 0, 0, 0, 0, 0, 0, 0, 0, 0, 0, 0, 0, 0, 0, 0, 0, 0, 0, 0, 0, 0, 0, 0, 0, 0, 0, 0], [3.5290657768956574e-05, 0.0010470380999786334, -0.0002525112787392942, -0.0001871589574651858, 0.00024548448651889827, 0.0005376513909677648, -0.0005000975188942355, 0, 0, 0, 0, 0, 0, 0, 0, 0, 0, 0, 0, 0, 0, 0, 0, 0, 0, 0, 0, 0, 0, 0, 0, 0, 0, 0, 0, 0, 0, 0, 0, 0, 0, 0, 0, 0, 0, 0, 0, 0, 0, 0, 0, 0, 0, 0], [0.001170607591982639, 0.0010470380999786334, 0.0003934941431311688, 0.00022305621262438274, -0.0003098404922442324, -9.495898943467606e-05, 0.0002614702735132349, 0, 0, 0, 0, 0, 0, 0, 0, 0, 0, 0, 0, 0, 0, 0, 0, 0, 0, 0, 0, 0, 0, 0, 0, 0, 0, 0, 0, 0, 0, 0, 0, 0, 0, 0, 0, 0, 0, 0, 0, 0, 0, 0, 0, 0, 0, 0], [1.951324990236449e-05, -0.00011548967057175775, -0.0004657231161361114, 0.00015666473737361024, -0.0004619096260118541, 0, 0, 0, 0, 0, 0, 0, 0, 0, 0, 0, 0, 0, 0, 0, 0, 0, 0, 0, 0, 0, 0, 0, 0, 0, 0, 0, 0, 0, 0, 0, 0, 0, 0, 0, 0, 0, 0, 0, 0, 0, 0, 0, 0, 0, 0, 0, 0, 0], [0.0010470380999786334, 0.00033267510939363043, 0.001170607591982639, 0, 0, 0, 0, 0, 0, 0, 0, 0, 0, 0, 0, 0, 0, 0, 0, 0, 0, 0, 0, 0, 0, 0, 0, 0, 0, 0, 0, 0, 0, 0, 0, 0, 0, 0, 0, 0, 0, 0, 0, 0, 0, 0, 0, 0, 0, 0, 0, 0, 0, 0], [0.0003906845449487846, -0.0006229639550734822, -3.066336637371542e-05, 0.00016820715072572836, -0.00039699112660058903, 0.0005135347243264921, 0.0004084534053571217, 0, 0, 0, 0, 0, 0, 0, 0, 0, 0, 0, 0, 0, 0, 0, 0, 0, 0, 0, 0, 0, 0, 0, 0, 0, 0, 0, 0, 0, 0, 0, 0, 0, 0, 0, 0, 0, 0, 0, 0, 0, 0, 0, 0, 0, 0, 0], [-0.00020386960309758023, 0.00013222653880361218, 0.0001961353220110881, 3.7073524077477076e-05, -0.0005921913416808014, 0.00011001343327600763, 0.0003064804546395604, -0.000782746298564944, 0.0006533848100584563, 0, 0, 0, 0, 0, 0, 0, 0, 0, 0, 0, 0, 0, 0, 0, 0, 0, 0, 0, 0, 0, 0, 0, 0, 0, 0, 0, 0, 0, 0, 0, 0, 0, 0, 0, 0, 0, 0, 0, 0, 0, 0, 0, 0, 0], [7.274999716678539e-05, 0.0006083944990169883, -0.00013312855872820662, -0.000118859220309619, -0.0003767594715369239, -0.00046112566620126104, 0.0001402517877628944, -5.910520525287139e-07, -0.0001233554330927554, 0.0006083944990169883, -0.0002709313465865228, -0.0002247434794738862, 0, 0, 0, 0, 0, 0, 0, 0, 0, 0, 0, 0, 0, 0, 0, 0, 0, 0, 0, 0, 0, 0, 0, 0, 0, 0, 0, 0, 0, 0, 0, 0, 0, 0, 0, 0, 0, 0, 0, 0, 0, 0], [9.197309021380943e-05, 0.0010470380999786334, 7.410956871639724e-05, -0.0001050918687596747, -0.0004876908464814202, -5.127486160505747e-05, 0.00015061241494965003, 0.0010470380999786334, -0.00020389319084794196, 0.0003381468273580898, -5.5942341376282935e-05, 0.0010470380999786334, 7.410956871639724e-05, 0.0001083700306361185, 0.00015266091949319555, -0.0004876908464814202, -5.127486160505747e-05, 0.00015061241494965003, 0, 0, 0, 0, 0, 0, 0, 0, 0, 0, 0, 0, 0, 0, 0, 0, 0, 0, 0, 0, 0, 0, 0, 0, 0, 0, 0, 0, 0, 0, 0, 0, 0, 0, 0, 0], [0.0003181374083891732, -9.387746177848849e-05, 0.0001356494875128885, 6.89241022772974e-05, 0.0001965082337764347, -0.000306108672919925, -0.00020319515610040643, -4.9812439566629084e-05, 0.00015686924777064747, -1.3408832836414173e-05, 3.532845519810997e-05, 0.0006080045145257234, 0.00012355322000692933, 0.00018627304219995006, 0, 0, 0, 0, 0, 0, 0, 0, 0, 0, 0, 0, 0, 0, 0, 0, 0, 0, 0, 0, 0, 0, 0, 0, 0, 0, 0, 0, 0, 0, 0, 0, 0, 0, 0, 0, 0, 0, 0, 0], [-0.00021860620886158725, 0.0010470380999786334, -0.00021111847223673905, 3.2749934039385543e-06, -0.00017954415649104906, -0.0006510565438037655, -4.0153704234201106e-05, -0.0001722435148607612, 0.00010466971333468385, 0.0010470380999786334, 0.00024866803208165245, 6.691141460339755e-05, 0.0001842178175928689, -0.00018004529086293144, 0.0010470380999786334, 0.00024866803208165245, 0.00040845724474917127, 0, 0, 0, 0, 0, 0, 0, 0, 0, 0, 0, 0, 0, 0, 0, 0, 0, 0, 0, 0, 0, 0, 0, 0, 0, 0, 0, 0, 0, 0, 0, 0, 0, 0, 0, 0, 0], [0.0010470380999786334, -0.00022836374806765248, -5.2942398076064546e-05, 0.00025544461291880714, -0.0007837044163749383, 0.0010470380999786334, -0.0001993405425859466, -0.00011270762493290255, 0.0010470380999786334, 0.0004902336494093276, 0.0003064804546395604, -0.00035331222394706445, 0.000486139759989267, -0.00021692201883811207, -9.387746177848849e-05, 0.0003494899902596217, 4.457055753564503e-05, -0.0002565644692564007, 6.435722092477294e-05, 0, 0, 0, 0, 0, 0, 0, 0, 0, 0, 0, 0, 0, 0, 0, 0, 0, 0, 0, 0, 0, 0, 0, 0, 0, 0, 0, 0, 0, 0, 0, 0, 0, 0, 0], [0.00035408080262730283, -0.0001274852797127681, 0.00039979556205614044, 1.0879662053291606e-05, -0.00023701387375987018, 0, 0, 0, 0, 0, 0, 0, 0, 0, 0, 0, 0, 0, 0, 0, 0, 0, 0, 0, 0, 0, 0, 0, 0, 0, 0, 0, 0, 0, 0, 0, 0, 0, 0, 0, 0, 0, 0, 0, 0, 0, 0, 0, 0, 0, 0, 0, 0, 0], [-9.295647976828427e-05, -6.552924829596924e-05, 0.00020169905966406582, 0, 0, 0, 0, 0, 0, 0, 0, 0, 0, 0, 0, 0, 0, 0, 0, 0, 0, 0, 0, 0, 0, 0, 0, 0, 0, 0, 0, 0, 0, 0, 0, 0, 0, 0, 0, 0, 0, 0, 0, 0, 0, 0, 0, 0, 0, 0, 0, 0, 0, 0], [8.648098311137638e-05, -1.3226401713007136e-05, 0.00020066277888788106, 0.00011174936371377472, 0.0010470380999786334, 0.0008734490522283554, 0, 0, 0, 0, 0, 0, 0, 0, 0, 0, 0, 0, 0, 0, 0, 0, 0, 0, 0, 0, 0, 0, 0, 0, 0, 0, 0, 0, 0, 0, 0, 0, 0, 0, 0, 0, 0, 0, 0, 0, 0, 0, 0, 0, 0, 0, 0, 0], [-0.00033388786365623686, -0.0003046661662151836, 8.648098311137638e-05, 0.0001245198683027677, -0.0003095705263318355, 0.0002926294627488916, 0.00039352861041323903, 0.0010470380999786334, -0.00016134060788810655, 0.00023787103423785267, 0.00042207096828178676, 0, 0, 0, 0, 0, 0, 0, 0, 0, 0, 0, 0, 0, 0, 0, 0, 0, 0, 0, 0, 0, 0, 0, 0, 0, 0, 0, 0, 0, 0, 0, 0, 0, 0, 0, 0, 0, 0, 0, 0, 0, 0, 0], [0.0002701545224838774, -6.682779976777278e-05, 7.114061395258846e-05, 0.0010470380999786334, 0.00024866803208165245, 0.00039979556205614044, 0, 0, 0, 0, 0, 0, 0, 0, 0, 0, 0, 0, 0, 0, 0, 0, 0, 0, 0, 0, 0, 0, 0, 0, 0, 0, 0, 0, 0, 0, 0, 0, 0, 0, 0, 0, 0, 0, 0, 0, 0, 0, 0, 0, 0, 0, 0, 0], [-0.00023357883301378858, -0.0005921913416808014, -0.00016134060788810655, -0.00020389319084794196, 2.0813721798129815e-06, 8.648098311137638e-05, -0.00013187355458451323, -4.274342783507964e-05, 0.00013928787232013373, 0.0002908546139842115, 0, 0, 0, 0, 0, 0, 0, 0, 0, 0, 0, 0, 0, 0, 0, 0, 0, 0, 0, 0, 0, 0, 0, 0, 0, 0, 0, 0, 0, 0, 0, 0, 0, 0, 0, 0, 0, 0, 0, 0, 0, 0, 0, 0], [3.707177764918342e-05, -0.00013669787269651225, 0.0006382265676799019, 0.0001632747547960909, -7.990833901035891e-05, 9.197309021380943e-05, 0.0010470380999786334, -0.00012005142000485237, 0, 0, 0, 0, 0, 0, 0, 0, 0, 0, 0, 0, 0, 0, 0, 0, 0, 0, 0, 0, 0, 0, 0, 0, 0, 0, 0, 0, 0, 0, 0, 0, 0, 0, 0, 0, 0, 0, 0, 0, 0, 0, 0, 0, 0, 0], [-4.766102824875151e-05, -4.718806870467293e-05, 0.00017402063452641946, 0.0010470380999786334, 0.0001205689237100073, 0.00010859031286613272, -0.0001762824571488062, 0.0010470380999786334, 0.0002289966431947189, 0, 0, 0, 0, 0, 0, 0, 0, 0, 0, 0, 0, 0, 0, 0, 0, 0, 0, 0, 0, 0, 0, 0, 0, 0, 0, 0, 0, 0, 0, 0, 0, 0, 0, 0, 0, 0, 0, 0, 0, 0, 0, 0, 0, 0], [0.0001422770403319142, 2.998927965915436e-05, -0.00020342982839478493, -0.00045540569318548057, -0.00023274451104331385, -1.0036713471384684e-05, 8.229670364596517e-05, -0.00018801970412266175, -0.0004049931765947444, -0.0003892875211476462, -0.00018682800273152976, -3.066336637371542e-05, 0.00041566117742062106, -0.0001454607776994762, -7.329185540930444e-05, 0.000728163698983231, 0.00015043762132166614, 0, 0, 0, 0, 0, 0, 0, 0, 0, 0, 0, 0, 0, 0, 0, 0, 0, 0, 0, 0, 0, 0, 0, 0, 0, 0, 0, 0, 0, 0, 0, 0, 0, 0, 0, 0, 0], [-9.886704730529567e-05, 0.00017449158265772085, 9.946643148409703e-06, 2.078256391636844e-05, -0.0001643268443059892, 0.0010470380999786334, 7.203545360140927e-05, 0.00035303593873320003, 0.00038831189586899614, 0.0001074968822459277, 0.00019942649117853006, -0.0005921913416808014, -0.00016134060788810655, 0, 0, 0, 0, 0, 0, 0, 0, 0, 0, 0, 0, 0, 0, 0, 0, 0, 0, 0, 0, 0, 0, 0, 0, 0, 0, 0, 0, 0, 0, 0, 0, 0, 0, 0, 0, 0, 0, 0, 0, 0], [0.0010470380999786334, -0.00035730945108579165, 4.391200638817646e-05, 7.788651537698171e-05, -0.0005921913416808014, 0.0002099121312537187, -0.000365343983413082, 7.853120747240162e-05, 0.0003351727842668187, 0, 0, 0, 0, 0, 0, 0, 0, 0, 0, 0, 0, 0, 0, 0, 0, 0, 0, 0, 0, 0, 0, 0, 0, 0, 0, 0, 0, 0, 0, 0, 0, 0, 0, 0, 0, 0, 0, 0, 0, 0, 0, 0, 0, 0], [-0.00017165618657280328, -0.00036411996241971086, -6.649821113588066e-05, 0.0004885189490371313, -0.0001740178872810345, 0.0004872850594420467, 0.00013928787232013373, 0.0010470380999786334, 0.0008734490522283554, 9.087535046231957e-05, 6.235325634967149e-05, 0.00012889607759236703, 0, 0, 0, 0, 0, 0, 0, 0, 0, 0, 0, 0, 0, 0, 0, 0, 0, 0, 0, 0, 0, 0, 0, 0, 0, 0, 0, 0, 0, 0, 0, 0, 0, 0, 0, 0, 0, 0, 0, 0, 0, 0], [4.428189672947362e-05, -0.0004447705302553427, 0.0010470380999786334, 0.0001675863712218723, 0, 0, 0, 0, 0, 0, 0, 0, 0, 0, 0, 0, 0, 0, 0, 0, 0, 0, 0, 0, 0, 0, 0, 0, 0, 0, 0, 0, 0, 0, 0, 0, 0, 0, 0, 0, 0, 0, 0, 0, 0, 0, 0, 0, 0, 0, 0, 0, 0, 0], [1.1730564877914753e-05, 0.0001083700306361185, -0.0005921913416808014, 0.0004303580169552799, -3.066336637371542e-05, 0.00016966514358046658, -0.0002751631790410103, 0.0001422770403319142, 0, 0, 0, 0, 0, 0, 0, 0, 0, 0, 0, 0, 0, 0, 0, 0, 0, 0, 0, 0, 0, 0, 0, 0, 0, 0, 0, 0, 0, 0, 0, 0, 0, 0, 0, 0, 0, 0, 0, 0, 0, 0, 0, 0, 0, 0], [0.00035408080262730283, -5.365534390852436e-05, 0.0001364018337377096, 5.52159057465704e-05, -0.000131985797160293, -0.00016796562857226388, -0.00022819202221260686, 0.0001961353220110881, 0.001170607591982639, 0.0010470380999786334, 0.00045348084334542613, -7.696040492164941e-05, -7.696040492164941e-05, 3.3254976096682584e-05, 3.5559571203949005e-05, 0.000444953540819543, -0.0001233554330927554, 0.00039570767064376483, 0.00023542257964220565, 0.000444953540819543, 0.0003100724118230433, 0, 0, 0, 0, 0, 0, 0, 0, 0, 0, 0, 0, 0, 0, 0, 0, 0, 0, 0, 0, 0, 0, 0, 0, 0, 0, 0, 0, 0, 0, 0, 0, 0], [0.0010470380999786334, -9.387746177848849e-05, -4.3263827668891555e-05, -0.00028969285273996445, 0, 0, 0, 0, 0, 0, 0, 0, 0, 0, 0, 0, 0, 0, 0, 0, 0, 0, 0, 0, 0, 0, 0, 0, 0, 0, 0, 0, 0, 0, 0, 0, 0, 0, 0, 0, 0, 0, 0, 0, 0, 0, 0, 0, 0, 0, 0, 0, 0, 0], [0.0005135347243264921, 5.368293340427336e-05, 9.291196340525567e-06, -0.00034405427480619895, 0.0003181374083891732, 0.0003848681190500361, 0.0010470380999786334, 6.841664502434886e-05, 0, 0, 0, 0, 0, 0, 0, 0, 0, 0, 0, 0, 0, 0, 0, 0, 0, 0, 0, 0, 0, 0, 0, 0, 0, 0, 0, 0, 0, 0, 0, 0, 0, 0, 0, 0, 0, 0, 0, 0, 0, 0, 0, 0, 0, 0], [-0.0005921913416808014, -0.00016134060788810655, 0.00023787103423785267, 0.00042207096828178676, 0, 0, 0, 0, 0, 0, 0, 0, 0, 0, 0, 0, 0, 0, 0, 0, 0, 0, 0, 0, 0, 0, 0, 0, 0, 0, 0, 0, 0, 0, 0, 0, 0, 0, 0, 0, 0, 0, 0, 0, 0, 0, 0, 0, 0, 0, 0, 0, 0, 0], [0.00016830371611014784, 0.00015266091949319555, -9.83044468267219e-05, 0.00031621210711778, 0.001170607591982639, 0.0010470380999786334, -0.00017847619556556472, 0.0010470380999786334, 0.0002878690959966241, 0.0002926294627488916, 0, 0, 0, 0, 0, 0, 0, 0, 0, 0, 0, 0, 0, 0, 0, 0, 0, 0, 0, 0, 0, 0, 0, 0, 0, 0, 0, 0, 0, 0, 0, 0, 0, 0, 0, 0, 0, 0, 0, 0, 0, 0, 0, 0], [0.001170607591982639, 0.0010470380999786334, 0.0003326201477590644, -0.00029314851577354054, -0.0004570270927508124, -2.433208904603758e-05, 0.00017655912457123225, -9.83044468267219e-05, -0.0002726139215610751, 0.001170607591982639, 0.00035408080262730283, 2.4145361899649903e-05, -0.0005165233074590201, 0, 0, 0, 0, 0, 0, 0, 0, 0, 0, 0, 0, 0, 0, 0, 0, 0, 0, 0, 0, 0, 0, 0, 0, 0, 0, 0, 0, 0, 0, 0, 0, 0, 0, 0, 0, 0, 0, 0, 0, 0], [-0.00011459148456890669, -0.0001482189335372661, 6.193076928620426e-05, 0.00039979556205614044, 1.0879662053291606e-05, 0.00023469331093861943, 0, 0, 0, 0, 0, 0, 0, 0, 0, 0, 0, 0, 0, 0, 0, 0, 0, 0, 0, 0, 0, 0, 0, 0, 0, 0, 0, 0, 0, 0, 0, 0, 0, 0, 0, 0, 0, 0, 0, 0, 0, 0, 0, 0, 0, 0, 0, 0], [0.0002143642623585466, 0.00035408080262730283, 0.00027769302048878295, 0.00011088366033906224, -0.0001233554330927554, 0.00010417479033786104, 0.00015043762132166614, 0, 0, 0, 0, 0, 0, 0, 0, 0, 0, 0, 0, 0, 0, 0, 0, 0, 0, 0, 0, 0, 0, 0, 0, 0, 0, 0, 0, 0, 0, 0, 0, 0, 0, 0, 0, 0, 0, 0, 0, 0, 0, 0, 0, 0, 0, 0], [0.0002099121312537187, -0.00034280910028255756, 0.0010470380999786334, -0.00047971735846613877, -0.0002451871457656207, 0.0010470380999786334, -0.00021111847223673905, -0.00014987406441110555, 0, 0, 0, 0, 0, 0, 0, 0, 0, 0, 0, 0, 0, 0, 0, 0, 0, 0, 0, 0, 0, 0, 0, 0, 0, 0, 0, 0, 0, 0, 0, 0, 0, 0, 0, 0, 0, 0, 0, 0, 0, 0, 0, 0, 0, 0], [-6.19607472563765e-05, -3.2113340490868176e-05, 0.000623592535269901, -3.066336637371542e-05, 0.0010470380999786334, -0.00025854888547654137, 0.00028387182155419316, 6.894364169087601e-05, 0, 0, 0, 0, 0, 0, 0, 0, 0, 0, 0, 0, 0, 0, 0, 0, 0, 0, 0, 0, 0, 0, 0, 0, 0, 0, 0, 0, 0, 0, 0, 0, 0, 0, 0, 0, 0, 0, 0, 0, 0, 0, 0, 0, 0, 0], [-0.0005921913416808014, -0.0001861088891939263, 0.00017449158265772085, 0.0010470380999786334, 0.00034157912425554683, 0, 0, 0, 0, 0, 0, 0, 0, 0, 0, 0, 0, 0, 0, 0, 0, 0, 0, 0, 0, 0, 0, 0, 0, 0, 0, 0, 0, 0, 0, 0, 0, 0, 0, 0, 0, 0, 0, 0, 0, 0, 0, 0, 0, 0, 0, 0, 0, 0], [-0.00037340550002563954, 0.00036437090453487656, 0.00043667703227975705, 0, 0, 0, 0, 0, 0, 0, 0, 0, 0, 0, 0, 0, 0, 0, 0, 0, 0, 0, 0, 0, 0, 0, 0, 0, 0, 0, 0, 0, 0, 0, 0, 0, 0, 0, 0, 0, 0, 0, 0, 0, 0, 0, 0, 0, 0, 0, 0, 0, 0, 0], [-0.0005921913416808014, -0.00022836374806765248, -0.00026450085087710996, 0.0002926294627488916, -9.764134616438292e-05, -0.0005921913416808014, -0.00016134060788810655, 0.0001842178175928689, 0.00042207096828178676, 0, 0, 0, 0, 0, 0, 0, 0, 0, 0, 0, 0, 0, 0, 0, 0, 0, 0, 0, 0, 0, 0, 0, 0, 0, 0, 0, 0, 0, 0, 0, 0, 0, 0, 0, 0, 0, 0, 0, 0, 0, 0, 0, 0, 0], [-0.0004542956707175365, -0.0005060093440091898, -0.0001233554330927554, -0.00021111847223673905, -0.0002434336931520911, 0.0002832249446061091, 0.00036673073708837407, 0.0001364018337377096, 0.00016947792446239261, -0.0001233554330927554, -0.00021111847223673905, 0.0010470380999786334, 0.00024772516565956047, 0.0003689516092767987, 0, 0, 0, 0, 0, 0, 0, 0, 0, 0, 0, 0, 0, 0, 0, 0, 0, 0, 0, 0, 0, 0, 0, 0, 0, 0, 0, 0, 0, 0, 0, 0, 0, 0, 0, 0, 0, 0, 0, 0], [-0.00017165618657280328, -0.00021111847223673905, 0.0004902336494093276, 0.0010470380999786334, -4.164896311964474e-05, 0, 0, 0, 0, 0, 0, 0, 0, 0, 0, 0, 0, 0, 0, 0, 0, 0, 0, 0, 0, 0, 0, 0, 0, 0, 0, 0, 0, 0, 0, 0, 0, 0, 0, 0, 0, 0, 0, 0, 0, 0, 0, 0, 0, 0, 0, 0, 0, 0], [4.573121089315459e-05, -0.0001233554330927554, 0.00012239684340853915, 0.00017850527658924201, -0.00012804259540055523, -0.0001233554330927554, -0.0002070395817982933, 3.900801068453173e-05, 0, 0, 0, 0, 0, 0, 0, 0, 0, 0, 0, 0, 0, 0, 0, 0, 0, 0, 0, 0, 0, 0, 0, 0, 0, 0, 0, 0, 0, 0, 0, 0, 0, 0, 0, 0, 0, 0, 0, 0, 0, 0, 0, 0, 0, 0], [0.001170607591982639, -0.00017847619556556472, 0, 0, 0, 0, 0, 0, 0, 0, 0, 0, 0, 0, 0, 0, 0, 0, 0, 0, 0, 0, 0, 0, 0, 0, 0, 0, 0, 0, 0, 0, 0, 0, 0, 0, 0, 0, 0, 0, 0, 0, 0, 0, 0, 0, 0, 0, 0, 0, 0, 0, 0, 0], [3.532845519810997e-05, 0.0006799595886358908, 8.03027653891316e-05, -9.916651549533546e-05, 9.75806325103004e-05, 0.0002908546139842115, 0.00017614205845152846, -0.0005921913416808014, 0, 0, 0, 0, 0, 0, 0, 0, 0, 0, 0, 0, 0, 0, 0, 0, 0, 0, 0, 0, 0, 0, 0, 0, 0, 0, 0, 0, 0, 0, 0, 0, 0, 0, 0, 0, 0, 0, 0, 0, 0, 0, 0, 0, 0, 0], [0.0003181374083891732, 8.12283445701991e-05, 0.00035408080262730283, 0.0006560774838477594, 0.001170607591982639, -0.00033876583659962057, 2.078256391636844e-05, -0.0005615095177701495, -4.716221344966442e-06, -3.202712018403017e-05, -6.396805483692147e-06, 0, 0, 0, 0, 0, 0, 0, 0, 0, 0, 0, 0, 0, 0, 0, 0, 0, 0, 0, 0, 0, 0, 0, 0, 0, 0, 0, 0, 0, 0, 0, 0, 0, 0, 0, 0, 0, 0, 0, 0, 0, 0, 0], [3.224478500477941e-05, 0.00015266091949319555, 0.0002926147292632665, -0.0001284807250697067, 0.001170607591982639, 0.0010470380999786334, -0.00017847619556556472, 0.0010470380999786334, 0.0002878690959966241, 0.0003652225024657671, -0.0001601891391374894, 0.00024202245685798598, 6.09615797848052e-05, -0.0001601891391374894, 0.00040845724474917127, 0, 0, 0, 0, 0, 0, 0, 0, 0, 0, 0, 0, 0, 0, 0, 0, 0, 0, 0, 0, 0, 0, 0, 0, 0, 0, 0, 0, 0, 0, 0, 0, 0, 0, 0, 0, 0, 0, 0], [0.00010929624921155594, -0.00021771871527681357, -0.0005921913416808014, 2.1957282565037103e-05, -9.387746177848849e-05, 1.3035466609882373e-05, -0.0005921913416808014, -0.00038766075953084, 0, 0, 0, 0, 0, 0, 0, 0, 0, 0, 0, 0, 0, 0, 0, 0, 0, 0, 0, 0, 0, 0, 0, 0, 0, 0, 0, 0, 0, 0, 0, 0, 0, 0, 0, 0, 0, 0, 0, 0, 0, 0, 0, 0, 0, 0], [0.00016339606480959062, 0.0001961353220110881, -0.0002877383359260742, 0.00031621210711778, 0.001170607591982639, 0.0010470380999786334, 0.0002878690959966241, 0.00028608331410400053, 5.345044786937973e-05, 2.693935599028102e-05, -0.00048474347027033704, 0.0010470380999786334, -0.00017104858008959746, -0.00040717057329978367, -0.00010716818098113736, 8.03027653891316e-05, -0.0005715621016519195, -0.0001359641050129592, 0.00028608331410400053, 0, 0, 0, 0, 0, 0, 0, 0, 0, 0, 0, 0, 0, 0, 0, 0, 0, 0, 0, 0, 0, 0, 0, 0, 0, 0, 0, 0, 0, 0, 0, 0, 0, 0, 0], [0.00027783872195421004, 5.5482843009811645e-05, -0.00021111847223673905, -0.00013269729074742647, 0.00014850877767346623, -0.0005921913416808014, 3.248955258938972e-05, -0.000365343983413082, 7.853120747240162e-05, 2.5353745964802125e-05, 0, 0, 0, 0, 0, 0, 0, 0, 0, 0, 0, 0, 0, 0, 0, 0, 0, 0, 0, 0, 0, 0, 0, 0, 0, 0, 0, 0, 0, 0, 0, 0, 0, 0, 0, 0, 0, 0, 0, 0, 0, 0, 0, 0], [-0.00027636739630466076, -5.464799877121479e-05, -0.00019993623022108973, 0.0010470380999786334, 7.410956871639724e-05, -0.00035962165607557523, 0.0002926294627488916, -1.3617616044904283e-05, 0, 0, 0, 0, 0, 0, 0, 0, 0, 0, 0, 0, 0, 0, 0, 0, 0, 0, 0, 0, 0, 0, 0, 0, 0, 0, 0, 0, 0, 0, 0, 0, 0, 0, 0, 0, 0, 0, 0, 0, 0, 0, 0, 0, 0, 0], [0.00023719986144162518, -9.387746177848849e-05, -9.335929112555044e-05, -0.00025092497335072703, -0.0001008606867980304, -9.335929112555044e-05, -0.0003010617579831245, -0.00023587688656690264, -6.596534979065663e-05, 2.495060966363089e-05, 0.0010470380999786334, 0.00031578062223756046, 0.00012744814719682312, 0, 0, 0, 0, 0, 0, 0, 0, 0, 0, 0, 0, 0, 0, 0, 0, 0, 0, 0, 0, 0, 0, 0, 0, 0, 0, 0, 0, 0, 0, 0, 0, 0, 0, 0, 0, 0, 0, 0, 0, 0], [-0.00027636739630466076, -0.0005921913416808014, 0.00045348084334542613, 0.00022203730536495342, 0.0004300429129481854, -0.0001661429475454066, 0.00014497717653333796, 1.4375612823847939e-05, -0.0005921913416808014, 0.00042924197894623426, -9.387746177848849e-05, 1.3035466609882373e-05, -0.0001601891391374894, -0.00027108493431542667, 0.0001842178175928689, 0.00042488973642992845, 0, 0, 0, 0, 0, 0, 0, 0, 0, 0, 0, 0, 0, 0, 0, 0, 0, 0, 0, 0, 0, 0, 0, 0, 0, 0, 0, 0, 0, 0, 0, 0, 0, 0, 0, 0, 0, 0], [0.0010470380999786334, 0.00019364483720535957, 0.00023469331093861943, 0.0010470380999786334, 0.00021323379401712417, 0.0004460669724904952, 8.393895646862135e-05, -0.0002749545438695947, 6.977256181859028e-05, 0, 0, 0, 0, 0, 0, 0, 0, 0, 0, 0, 0, 0, 0, 0, 0, 0, 0, 0, 0, 0, 0, 0, 0, 0, 0, 0, 0, 0, 0, 0, 0, 0, 0, 0, 0, 0, 0, 0, 0, 0, 0, 0, 0, 0], [0.00027783872195421004, 5.5482843009811645e-05, 3.359820656063327e-06, 0.0001961353220110881, 0.001170607591982639, 0.0010470380999786334, -0.00020389319084794196, 9.627225164170487e-05, -9.094910571522005e-05, 0.00038831189586899614, 0.00024131356336313525, 0.0003064804546395604, -9.387746177848849e-05, 3.307165035490675e-05, 0.0010470380999786334, 0, 0, 0, 0, 0, 0, 0, 0, 0, 0, 0, 0, 0, 0, 0, 0, 0, 0, 0, 0, 0, 0, 0, 0, 0, 0, 0, 0, 0, 0, 0, 0, 0, 0, 0, 0, 0, 0, 0], [-0.0005921913416808014, -0.00016134060788810655, 0.00048103535731458487, -0.0001968739745285932, -0.0005168110921130408, 0, 0, 0, 0, 0, 0, 0, 0, 0, 0, 0, 0, 0, 0, 0, 0, 0, 0, 0, 0, 0, 0, 0, 0, 0, 0, 0, 0, 0, 0, 0, 0, 0, 0, 0, 0, 0, 0, 0, 0, 0, 0, 0, 0, 0, 0, 0, 0, 0], [0.00015043762132166614, 0.00036437090453487656, -0.00027409424695144135, 0, 0, 0, 0, 0, 0, 0, 0, 0, 0, 0, 0, 0, 0, 0, 0, 0, 0, 0, 0, 0, 0, 0, 0, 0, 0, 0, 0, 0, 0, 0, 0, 0, 0, 0, 0, 0, 0, 0, 0, 0, 0, 0, 0, 0, 0, 0, 0, 0, 0, 0], [-0.00022247885498984083, -9.526023873601432e-05, -0.0008622003235075566, 0.0010470380999786334, 1.1889214453008676e-05, 0.00017449158265772085, 0.000200125695322568, -0.00017935553744158054, 0, 0, 0, 0, 0, 0, 0, 0, 0, 0, 0, 0, 0, 0, 0, 0, 0, 0, 0, 0, 0, 0, 0, 0, 0, 0, 0, 0, 0, 0, 0, 0, 0, 0, 0, 0, 0, 0, 0, 0, 0, 0, 0, 0, 0, 0], [-8.848114545309368e-05, -8.848114545309368e-05, 5.614496237530491e-06, 7.783802151139648e-06, -0.00012703741065252233, 0.0003906845449487846, -0.00011691682972151082, 0, 0, 0, 0, 0, 0, 0, 0, 0, 0, 0, 0, 0, 0, 0, 0, 0, 0, 0, 0, 0, 0, 0, 0, 0, 0, 0, 0, 0, 0, 0, 0, 0, 0, 0, 0, 0, 0, 0, 0, 0, 0, 0, 0, 0, 0, 0], [-5.888951778087789e-05, 0.00013928787232013373, 3.670201560629866e-05, 0.0010470380999786334, 0, 0, 0, 0, 0, 0, 0, 0, 0, 0, 0, 0, 0, 0, 0, 0, 0, 0, 0, 0, 0, 0, 0, 0, 0, 0, 0, 0, 0, 0, 0, 0, 0, 0, 0, 0, 0, 0, 0, 0, 0, 0, 0, 0, 0, 0, 0, 0, 0, 0], [0.0006560774838477594, 0.001170607591982639, 7.410956871639724e-05, -0.0004311872802799006, -0.00018982247276462663, 0.0001002795572609181, -0.00013475604821538482, 0.00048041179330516286, 6.997382764065393e-05, 4.428189672947362e-05, -0.0005170071177179852, 0, 0, 0, 0, 0, 0, 0, 0, 0, 0, 0, 0, 0, 0, 0, 0, 0, 0, 0, 0, 0, 0, 0, 0, 0, 0, 0, 0, 0, 0, 0, 0, 0, 0, 0, 0, 0, 0, 0, 0, 0, 0, 0], [-0.0001261671565574528, 8.302566366665408e-05, 0.0010470380999786334, -9.606770131014887e-05, 9.377210262455092e-05, 0.00014497717653333796, -0.0001687218826779395, -0.00010925882542033219, 8.537048882396486e-05, 0, 0, 0, 0, 0, 0, 0, 0, 0, 0, 0, 0, 0, 0, 0, 0, 0, 0, 0, 0, 0, 0, 0, 0, 0, 0, 0, 0, 0, 0, 0, 0, 0, 0, 0, 0, 0, 0, 0, 0, 0, 0, 0, 0, 0], [-0.0004278148634553851, -0.0004043088910028053, -9.387746177848849e-05, 0.00033139042859542866, -0.0002756805480657346, 7.765544565935317e-05, -0.00019915669351772383, 0, 0, 0, 0, 0, 0, 0, 0, 0, 0, 0, 0, 0, 0, 0, 0, 0, 0, 0, 0, 0, 0, 0, 0, 0, 0, 0, 0, 0, 0, 0, 0, 0, 0, 0, 0, 0, 0, 0, 0, 0, 0, 0, 0, 0, 0, 0], [0.0006083944990169883, -0.00016134060788810655, -9.387746177848849e-05, -0.00010972011322818075, 0.00032221595212623424, 0.0007367032240400115, -0.0001601891391374894, -0.0004926161123802113, 1.6180725344184524e-05, 6.700290319354333e-05, -0.0001968739745285932, -0.0005168110921130408, 0, 0, 0, 0, 0, 0, 0, 0, 0, 0, 0, 0, 0, 0, 0, 0, 0, 0, 0, 0, 0, 0, 0, 0, 0, 0, 0, 0, 0, 0, 0, 0, 0, 0, 0, 0, 0, 0, 0, 0, 0, 0], [-0.00011058492014012154, 8.105671167052626e-06, -0.000178424648998951, 0.0010470380999786334, 0, 0, 0, 0, 0, 0, 0, 0, 0, 0, 0, 0, 0, 0, 0, 0, 0, 0, 0, 0, 0, 0, 0, 0, 0, 0, 0, 0, 0, 0, 0, 0, 0, 0, 0, 0, 0, 0, 0, 0, 0, 0, 0, 0, 0, 0, 0, 0, 0, 0], [-0.00021319501682495626, -5.437237356464231e-05, 0.0003043907469523306, 0.0010470380999786334, -0.00010811151887269622, 1.1018216638252668e-05, -1.7992354482076782e-05, -0.0004121515343088766, -0.00021319501682495626, 0, 0, 0, 0, 0, 0, 0, 0, 0, 0, 0, 0, 0, 0, 0, 0, 0, 0, 0, 0, 0, 0, 0, 0, 0, 0, 0, 0, 0, 0, 0, 0, 0, 0, 0, 0, 0, 0, 0, 0, 0, 0, 0, 0, 0], [0.00035408080262730283, -6.790568105490021e-05, 5.184285437356178e-05, -0.00029142550591062323, 0.0005100903758160816, -3.066336637371542e-05, -0.0003997121622038824, 2.0813721798129815e-06, 0.0006376263985412928, -0.0005643688654748216, 0.00016830371611014784, 0.00033904964085980214, -8.107143982151243e-05, 0, 0, 0, 0, 0, 0, 0, 0, 0, 0, 0, 0, 0, 0, 0, 0, 0, 0, 0, 0, 0, 0, 0, 0, 0, 0, 0, 0, 0, 0, 0, 0, 0, 0, 0, 0, 0, 0, 0, 0, 0], [0.0003188603553935942, -0.0004185432442221129, 0.0010470380999786334, 7.410956871639724e-05, -9.387746177848849e-05, 0, 0, 0, 0, 0, 0, 0, 0, 0, 0, 0, 0, 0, 0, 0, 0, 0, 0, 0, 0, 0, 0, 0, 0, 0, 0, 0, 0, 0, 0, 0, 0, 0, 0, 0, 0, 0, 0, 0, 0, 0, 0, 0, 0, 0, 0, 0, 0, 0], [0.0006560774838477594, 0.001170607591982639, -0.00020416510232057776, -7.497985269123304e-05, 0.00039762099861804395, 0.001170607591982639, 0.00024202245685798598, 0, 0, 0, 0, 0, 0, 0, 0, 0, 0, 0, 0, 0, 0, 0, 0, 0, 0, 0, 0, 0, 0, 0, 0, 0, 0, 0, 0, 0, 0, 0, 0, 0, 0, 0, 0, 0, 0, 0, 0, 0, 0, 0, 0, 0, 0, 0], [-0.0002695467737832683, 0.00015266091949319555, -0.00010925882542033219, 0.0010470380999786334, 0.00011581293454405287, 0.00017865244339080593, -0.0002525112787392942, 0.00036589209374635273, 0, 0, 0, 0, 0, 0, 0, 0, 0, 0, 0, 0, 0, 0, 0, 0, 0, 0, 0, 0, 0, 0, 0, 0, 0, 0, 0, 0, 0, 0, 0, 0, 0, 0, 0, 0, 0, 0, 0, 0, 0, 0, 0, 0, 0, 0], [-0.0002726139215610751, 0.001170607591982639, 5.3315586162199955e-05, 7.189328759959191e-05, -4.1664773807256586e-05, 0, 0, 0, 0, 0, 0, 0, 0, 0, 0, 0, 0, 0, 0, 0, 0, 0, 0, 0, 0, 0, 0, 0, 0, 0, 0, 0, 0, 0, 0, 0, 0, 0, 0, 0, 0, 0, 0, 0, 0, 0, 0, 0, 0, 0, 0, 0, 0, 0], [-7.258732075816386e-05, -9.382889684580768e-05, -0.00032545572370575797, 0.0006083944990169883, 0.0007014369468725217, -0.00023701387375987018, 0, 0, 0, 0, 0, 0, 0, 0, 0, 0, 0, 0, 0, 0, 0, 0, 0, 0, 0, 0, 0, 0, 0, 0, 0, 0, 0, 0, 0, 0, 0, 0, 0, 0, 0, 0, 0, 0, 0, 0, 0, 0, 0, 0, 0, 0, 0, 0], [7.468993184205238e-05, 0.0010470380999786334, -0.00022407463906642635, 5.9709206501503174e-05, 0, 0, 0, 0, 0, 0, 0, 0, 0, 0, 0, 0, 0, 0, 0, 0, 0, 0, 0, 0, 0, 0, 0, 0, 0, 0, 0, 0, 0, 0, 0, 0, 0, 0, 0, 0, 0, 0, 0, 0, 0, 0, 0, 0, 0, 0, 0, 0, 0, 0], [-6.365505525955497e-05, 0.0010470380999786334, 0.00019284513026094724, 0.0010470380999786334, -0.00017140256976640948, 0, 0, 0, 0, 0, 0, 0, 0, 0, 0, 0, 0, 0, 0, 0, 0, 0, 0, 0, 0, 0, 0, 0, 0, 0, 0, 0, 0, 0, 0, 0, 0, 0, 0, 0, 0, 0, 0, 0, 0, 0, 0, 0, 0, 0, 0, 0, 0, 0], [-0.00018725807671302476, 8.03027653891316e-05, -0.00031359944575711, -0.000791316304555892, -0.0006436321852861617, 0.0004557133768359153, -0.00022069967653051497, 0.0010470380999786334, 5.637876639499478e-05, 0.00023569932857946883, 0, 0, 0, 0, 0, 0, 0, 0, 0, 0, 0, 0, 0, 0, 0, 0, 0, 0, 0, 0, 0, 0, 0, 0, 0, 0, 0, 0, 0, 0, 0, 0, 0, 0, 0, 0, 0, 0, 0, 0, 0, 0, 0, 0], [0.0010470380999786334, 1.4720968502766907e-05, -3.066336637371542e-05, 0, 0, 0, 0, 0, 0, 0, 0, 0, 0, 0, 0, 0, 0, 0, 0, 0, 0, 0, 0, 0, 0, 0, 0, 0, 0, 0, 0, 0, 0, 0, 0, 0, 0, 0, 0, 0, 0, 0, 0, 0, 0, 0, 0, 0, 0, 0, 0, 0, 0, 0], [0.0010470380999786334, 0.00017449158265772085, -4.818784511815166e-05, -0.0002588430602550531, 0.00018886168318212978, -0.00010655468567482181, 0.0010470380999786334, 7.274999716678539e-05, -0.00018046513318570334, 0, 0, 0, 0, 0, 0, 0, 0, 0, 0, 0, 0, 0, 0, 0, 0, 0, 0, 0, 0, 0, 0, 0, 0, 0, 0, 0, 0, 0, 0, 0, 0, 0, 0, 0, 0, 0, 0, 0, 0, 0, 0, 0, 0, 0], [-9.886704730529567e-05, -0.0003436132779139397, -0.00010101464766175157, 0, 0, 0, 0, 0, 0, 0, 0, 0, 0, 0, 0, 0, 0, 0, 0, 0, 0, 0, 0, 0, 0, 0, 0, 0, 0, 0, 0, 0, 0, 0, 0, 0, 0, 0, 0, 0, 0, 0, 0, 0, 0, 0, 0, 0, 0, 0, 0, 0, 0, 0], [-8.213999074816354e-05, -1.740313614077144e-05, 0.0006083944990169883, 0.0001390762979798258, 0.0002143642623585466, 0.0001519760169606105, 0.00044258493341386334, -0.00022407463906642635, 8.009524716845386e-05, 0.00023719986144162518, 0.0001519760169606105, -0.0003064465836983036, -0.0002039934858161708, -0.00012005142000485237, 0, 0, 0, 0, 0, 0, 0, 0, 0, 0, 0, 0, 0, 0, 0, 0, 0, 0, 0, 0, 0, 0, 0, 0, 0, 0, 0, 0, 0, 0, 0, 0, 0, 0, 0, 0, 0, 0, 0, 0], [0.0006533848100584563, -0.0005921913416808014, -0.00029032536367309166, 0, 0, 0, 0, 0, 0, 0, 0, 0, 0, 0, 0, 0, 0, 0, 0, 0, 0, 0, 0, 0, 0, 0, 0, 0, 0, 0, 0, 0, 0, 0, 0, 0, 0, 0, 0, 0, 0, 0, 0, 0, 0, 0, 0, 0, 0, 0, 0, 0, 0, 0], [-0.00025549713266400655, -0.00022611008272506068, 5.550021788041969e-05, 0.0001515760082789295, 6.894364169087601e-05, 0, 0, 0, 0, 0, 0, 0, 0, 0, 0, 0, 0, 0, 0, 0, 0, 0, 0, 0, 0, 0, 0, 0, 0, 0, 0, 0, 0, 0, 0, 0, 0, 0, 0, 0, 0, 0, 0, 0, 0, 0, 0, 0, 0, 0, 0, 0, 0, 0], [-2.1309747014027796e-05, 0.0001258903561636308, 3.928121906839782e-06, 0.0001127607085398747, 0.0002638649708935186, 0.00012724125436963971, -0.00022772344571241534, 0.0010470380999786334, -0.0003110822069875336, 0.00016560024974112336, 8.031723126809353e-05, 0.0007507175802443666, -0.0001274852797127681, 0.00040845724474917127, 0, 0, 0, 0, 0, 0, 0, 0, 0, 0, 0, 0, 0, 0, 0, 0, 0, 0, 0, 0, 0, 0, 0, 0, 0, 0, 0, 0, 0, 0, 0, 0, 0, 0, 0, 0, 0, 0, 0, 0], [0.00012903309780500625, 0.00011001343327600763, -9.886704730529567e-05, -8.772391330520532e-05, 0.0003938967702048295, 0.0002364127915274082, 0, 0, 0, 0, 0, 0, 0, 0, 0, 0, 0, 0, 0, 0, 0, 0, 0, 0, 0, 0, 0, 0, 0, 0, 0, 0, 0, 0, 0, 0, 0, 0, 0, 0, 0, 0, 0, 0, 0, 0, 0, 0, 0, 0, 0, 0, 0, 0], [5.5416041717163326e-05, -0.00011451947538753121, -0.00030510048983894386, 0.00017262484302241822, 0.00039352861041323903, 8.560950005018783e-05, -0.0004232715814806012, -0.0005921913416808014, 0.00017262484302241822, 0, 0, 0, 0, 0, 0, 0, 0, 0, 0, 0, 0, 0, 0, 0, 0, 0, 0, 0, 0, 0, 0, 0, 0, 0, 0, 0, 0, 0, 0, 0, 0, 0, 0, 0, 0, 0, 0, 0, 0, 0, 0, 0, 0, 0], [-0.0005921913416808014, -0.00015389125904146552, -0.00012120651746609422, -6.17399758101878e-05, 0.00023787103423785267, -0.00011548967057175775, 0.00019890257638845336, -6.19607472563765e-05, 0.00038831189586899614, 0.00024131356336313525, 0, 0, 0, 0, 0, 0, 0, 0, 0, 0, 0, 0, 0, 0, 0, 0, 0, 0, 0, 0, 0, 0, 0, 0, 0, 0, 0, 0, 0, 0, 0, 0, 0, 0, 0, 0, 0, 0, 0, 0, 0, 0, 0, 0], [0.001170607591982639, 6.589216380424904e-05, -0.0001286056109871414, -2.835113959590073e-05, 0.00035408080262730283, 0.0002062635527157435, 0, 0, 0, 0, 0, 0, 0, 0, 0, 0, 0, 0, 0, 0, 0, 0, 0, 0, 0, 0, 0, 0, 0, 0, 0, 0, 0, 0, 0, 0, 0, 0, 0, 0, 0, 0, 0, 0, 0, 0, 0, 0, 0, 0, 0, 0, 0, 0], [0.0010470380999786334, -6.930119797037988e-05, -0.000365343983413082, 7.853120747240162e-05, -0.0001114076664171772, -3.2302952078689646e-05, 0.00018009600593285792, -0.00040071948767275766, 6.043651381012983e-05, 0, 0, 0, 0, 0, 0, 0, 0, 0, 0, 0, 0, 0, 0, 0, 0, 0, 0, 0, 0, 0, 0, 0, 0, 0, 0, 0, 0, 0, 0, 0, 0, 0, 0, 0, 0, 0, 0, 0, 0, 0, 0, 0, 0, 0], [-0.0001482189335372661, 0.00011468665017783954, 0.0006016159174246547, -0.00011489712090861147, 0.0006083944990169883, 1.951324990236449e-05, -8.093774448205507e-05, -4.323779818186668e-05, 2.4145361899649903e-05, -0.00022819202221260686, 0.00024131356336313525, 0, 0, 0, 0, 0, 0, 0, 0, 0, 0, 0, 0, 0, 0, 0, 0, 0, 0, 0, 0, 0, 0, 0, 0, 0, 0, 0, 0, 0, 0, 0, 0, 0, 0, 0, 0, 0, 0, 0, 0, 0, 0, 0], [-0.00013864671515991789, -0.00011057053683165978, -0.00034280910028255756, -9.269508561866738e-05, 0.0002878690959966241, -9.387746177848849e-05, -7.091479524486197e-05, 0.00025544461291880714, 0.0003906446340059202, -0.0003904939902139639, 0.000380083869970585, -0.00034280910028255756, 0.00041382566206740615, -0.0001050918687596747, -9.387746177848849e-05, -0.0005248612727418956, 0.00015700166610192704, -9.264247033218124e-05, 5.8183354685416164e-05, -0.0002323729606928709, 0.0004166641240973035, 7.789764026567688e-05, 0.00025165535439198303, 0.00016709687538787182, -9.425081062096231e-05, 0, 0, 0, 0, 0, 0, 0, 0, 0, 0, 0, 0, 0, 0, 0, 0, 0, 0, 0, 0, 0, 0, 0, 0, 0, 0, 0, 0, 0], [7.648509973619792e-05, 0.0010470380999786334, -0.000297178902498326, 0.00042573115364870703, 0.0006002737242855744, -0.00014939700565319767, 9.75806325103004e-05, -0.0003632022490784212, -5.012755486880311e-05, -0.00029609154768502283, 0.0010470380999786334, 0.00069866708833749, 9.594604322746163e-05, -0.0002217296040896029, 0.0002926294627488916, 0.000200125695322568, 0.00039352861041323903, 0.0006799595886358908, 0.001170607591982639, 0.0010470380999786334, -0.00034280910028255756, -0.00047971735846613877, -8.238833944418416e-05, 0.0002717656431384695, 0.00017449158265772085, 0.000200125695322568, 2.7671319288433942e-05, -0.0001454607776994762, -0.0003091903912688895, -0.0002714079906365558, 0, 0, 0, 0, 0, 0, 0, 0, 0, 0, 0, 0, 0, 0, 0, 0, 0, 0, 0, 0, 0, 0, 0, 0], [-7.097061997226674e-05, 0.000883885943759149, 7.783802151139648e-06, 0.0006083944990169883, 9.61759083035288e-05, -0.00027490356591119617, 0.0004850624916495821, 0, 0, 0, 0, 0, 0, 0, 0, 0, 0, 0, 0, 0, 0, 0, 0, 0, 0, 0, 0, 0, 0, 0, 0, 0, 0, 0, 0, 0, 0, 0, 0, 0, 0, 0, 0, 0, 0, 0, 0, 0, 0, 0, 0, 0, 0, 0], [0.0010470380999786334, -0.00013314077345637695, 0, 0, 0, 0, 0, 0, 0, 0, 0, 0, 0, 0, 0, 0, 0, 0, 0, 0, 0, 0, 0, 0, 0, 0, 0, 0, 0, 0, 0, 0, 0, 0, 0, 0, 0, 0, 0, 0, 0, 0, 0, 0, 0, 0, 0, 0, 0, 0, 0, 0, 0, 0], [0.0006799595886358908, -0.0004311872802799006, -0.0005544576383102009, -0.00042340850204214143, -0.0001590751115751586, 0.00042574271679296326, -0.00013864671515991789, -0.00047548284189070076, -0.00034317183489461, 4.4244256381203856e-05, -0.0001233554330927554, 0.0007260961346854471, 0.0002783565932680862, -0.00015728612976250778, 0.0002298449760946217, -2.1774030186916425e-05, -0.0004941545469140114, 0.0003381468273580898, -0.00048474347027033704, 0.0003062677682772617, 0.0001286224802702272, -8.668496764857449e-06, 0.00020872641325323803, -3.551419380019064e-05, -5.811336233195511e-06, 0.00021323379401712417, -0.00011058492014012154, 0.00017032451331680697, -0.00015565203153723815, -0.00021111847223673905, -0.00032054585441265574, -8.767877230721077e-05, 0.0003427197965578811, 0.0003591654479254788, 0.0003062677682772617, 0.0005224562801944244, -0.0002740603825310814, 0.00013658333901143794, -0.0004941545469140114, 0.00038850950136071866, -0.00018129322862024493, 0.00025355205568507123, -0.0002740603825310814, -0.0005544576383102009, 0.0004500391885158491, -0.00047548284189070076, -0.0002703715072549124, 0.0001262721481801651, -0.00029447124792051396, 0.00017449158265772085, 0.0005326723401085578, -0.00019753996333394053, 0.00017402063452641946, -7.504253363553203e-05], [-0.00037340550002563954, -6.469312941669334e-05, 0.0003906845449487846, -0.00021557769206775507, 0.0002625648209371276, -0.000299675462499303, -0.0005382991429528594, -0.0006702855573289366, -0.0002734789767454616, 0, 0, 0, 0, 0, 0, 0, 0, 0, 0, 0, 0, 0, 0, 0, 0, 0, 0, 0, 0, 0, 0, 0, 0, 0, 0, 0, 0, 0, 0, 0, 0, 0, 0, 0, 0, 0, 0, 0, 0, 0, 0, 0, 0, 0], [0.0010470380999786334, 0.0010470380999786334, -0.0005573470986503302, 0, 0, 0, 0, 0, 0, 0, 0, 0, 0, 0, 0, 0, 0, 0, 0, 0, 0, 0, 0, 0, 0, 0, 0, 0, 0, 0, 0, 0, 0, 0, 0, 0, 0, 0, 0, 0, 0, 0, 0, 0, 0, 0, 0, 0, 0, 0, 0, 0, 0, 0], [0.0010470380999786334, 0.0006799595886358908, -0.00022438703565699574, 0.0010470380999786334, -3.161193533074199e-06, -0.0003167976208748658, 0, 0, 0, 0, 0, 0, 0, 0, 0, 0, 0, 0, 0, 0, 0, 0, 0, 0, 0, 0, 0, 0, 0, 0, 0, 0, 0, 0, 0, 0, 0, 0, 0, 0, 0, 0, 0, 0, 0, 0, 0, 0, 0, 0, 0, 0, 0, 0], [-0.000633706945599865, -9.387746177848849e-05, -0.00018725807671302476, 9.172426289173311e-05, -0.00028541990112037187, 0.0008135825641249676, 0.0010470380999786334, 0.00022052840154038916, 0.0004885189490371313, -0.00037340550002563954, 0.0010470380999786334, 0.0005799474639856577, -0.00011459964249555072, -9.688769096444512e-05, -0.0002531580603348033, 0, 0, 0, 0, 0, 0, 0, 0, 0, 0, 0, 0, 0, 0, 0, 0, 0, 0, 0, 0, 0, 0, 0, 0, 0, 0, 0, 0, 0, 0, 0, 0, 0, 0, 0, 0, 0, 0, 0], [0.00033881694450468136, 0.0010470380999786334, 0.00048634381137043376, -0.0001764981501602726, 0, 0, 0, 0, 0, 0, 0, 0, 0, 0, 0, 0, 0, 0, 0, 0, 0, 0, 0, 0, 0, 0, 0, 0, 0, 0, 0, 0, 0, 0, 0, 0, 0, 0, 0, 0, 0, 0, 0, 0, 0, 0, 0, 0, 0, 0, 0, 0, 0, 0], [0.00012744814719682312, -0.0005608102225433833, 0.00011560004832244754, 0.0010470380999786334, -3.34831380203823e-05, 2.4145361899649903e-05, -0.000284995895225313, 0.0003064804546395604, 0.0010470380999786334, -0.00016134060788810655, 0, 0, 0, 0, 0, 0, 0, 0, 0, 0, 0, 0, 0, 0, 0, 0, 0, 0, 0, 0, 0, 0, 0, 0, 0, 0, 0, 0, 0, 0, 0, 0, 0, 0, 0, 0, 0, 0, 0, 0, 0, 0, 0, 0], [-0.000807408600712546, 0.00041137984665738967, 0.0003015327553285269, 0.0005922539986800739, -3.0796765150220426e-05, 0.0005604764087444539, 0.00011916632924623155, 0.0004885189490371313, 0.0002804882180864619, 0.0004134844943612382, -0.000151009828214455, 0, 0, 0, 0, 0, 0, 0, 0, 0, 0, 0, 0, 0, 0, 0, 0, 0, 0, 0, 0, 0, 0, 0, 0, 0, 0, 0, 0, 0, 0, 0, 0, 0, 0, 0, 0, 0, 0, 0, 0, 0, 0, 0], [0.0002793396586735916, 0.0007686544172412654, -8.87950948975343e-05, 0.0010470380999786334, -0.00023701387375987018, -0.00037340550002563954, -7.258732075816386e-05, 4.4137347564481964e-05, -0.0003997121622038824, -0.0001792623801506223, 0.0001390762979798258, 0.00039570767064376483, 0.00028608331410400053, 0.0005835795779990548, 0.0002335032082497738, -0.00017285457151090559, 0, 0, 0, 0, 0, 0, 0, 0, 0, 0, 0, 0, 0, 0, 0, 0, 0, 0, 0, 0, 0, 0, 0, 0, 0, 0, 0, 0, 0, 0, 0, 0, 0, 0, 0, 0, 0, 0], [-0.0005921913416808014, -0.000297178902498326, -8.088961517394724e-05, 0.0002626984599469446, -9.36403940700501e-05, -0.00021226921803885106, -0.0001408482960670707, -5.464799877121479e-05, 0.00021328145676443458, 0.00017449158265772085, 0, 0, 0, 0, 0, 0, 0, 0, 0, 0, 0, 0, 0, 0, 0, 0, 0, 0, 0, 0, 0, 0, 0, 0, 0, 0, 0, 0, 0, 0, 0, 0, 0, 0, 0, 0, 0, 0, 0, 0, 0, 0, 0, 0], [-0.000284995895225313, 0.00039762099861804395, -0.0001286056109871414, 1.0879662053291606e-05, 0, 0, 0, 0, 0, 0, 0, 0, 0, 0, 0, 0, 0, 0, 0, 0, 0, 0, 0, 0, 0, 0, 0, 0, 0, 0, 0, 0, 0, 0, 0, 0, 0, 0, 0, 0, 0, 0, 0, 0, 0, 0, 0, 0, 0, 0, 0, 0, 0, 0], [-0.0005951267811606925, -2.1769808199800606e-05, 0.0004242499215780668, 8.212032958345691e-05, 0, 0, 0, 0, 0, 0, 0, 0, 0, 0, 0, 0, 0, 0, 0, 0, 0, 0, 0, 0, 0, 0, 0, 0, 0, 0, 0, 0, 0, 0, 0, 0, 0, 0, 0, 0, 0, 0, 0, 0, 0, 0, 0, 0, 0, 0, 0, 0, 0, 0], [8.12283445701991e-05, 0.0003456750938493765, 8.556240092661347e-05, 0.00042924197894623426, 0.0004482365121335767, -5.769908191021705e-05, 0.0003906845449487846, 5.184285437356178e-05, 0.00035408080262730283, 0.00023268800471954048, 0.0001284456542856232, -0.0003288252447643282, 0.00010542548069039709, -1.9514426451644735e-06, -0.0003285197401786829, 0.0003901573780986531, -0.0003583712533459565, 0, 0, 0, 0, 0, 0, 0, 0, 0, 0, 0, 0, 0, 0, 0, 0, 0, 0, 0, 0, 0, 0, 0, 0, 0, 0, 0, 0, 0, 0, 0, 0, 0, 0, 0, 0, 0], [0.00020782008174952696, -0.0002217296040896029, -0.0002552910529448363, 0.0010470380999786334, -0.0003892875211476462, -0.00012886549215511582, 0.0003901573780986531, -0.0003635379951885713, 0.00019006030287956006, 0.00016818352170242543, 0.00039352861041323903, 0.0004902336494093276, 0.0010470380999786334, -0.00016134060788810655, 0, 0, 0, 0, 0, 0, 0, 0, 0, 0, 0, 0, 0, 0, 0, 0, 0, 0, 0, 0, 0, 0, 0, 0, 0, 0, 0, 0, 0, 0, 0, 0, 0, 0, 0, 0, 0, 0, 0, 0], [-1.7445544809010175e-05, -9.35511340040271e-05, 0.0010470380999786334, -5.127486160505747e-05, 0.0010470380999786334, 0.00022870705953889964, 0.00018182411828664716, 0.0005315346999168983, 0.0003064804546395604, 0, 0, 0, 0, 0, 0, 0, 0, 0, 0, 0, 0, 0, 0, 0, 0, 0, 0, 0, 0, 0, 0, 0, 0, 0, 0, 0, 0, 0, 0, 0, 0, 0, 0, 0, 0, 0, 0, 0, 0, 0, 0, 0, 0, 0], [0.0010470380999786334, -0.00016134060788810655, 0.00023787103423785267, 0.00042207096828178676, -6.169956831208503e-05, 0.0010470380999786334, 0.00025885056987255786, 4.391200638817646e-05, 0.00040845724474917127, 0, 0, 0, 0, 0, 0, 0, 0, 0, 0, 0, 0, 0, 0, 0, 0, 0, 0, 0, 0, 0, 0, 0, 0, 0, 0, 0, 0, 0, 0, 0, 0, 0, 0, 0, 0, 0, 0, 0, 0, 0, 0, 0, 0, 0], [-0.00022098848841822959, -0.000782746298564944, -0.00010196929708521644, 0.00020329822703561332, -0.00012206733309125001, -0.00011810805181612294, 0.00023931995470952922, -0.0002832655611715705, 0.0010470380999786334, 1.1889214453008676e-05, 0.000200125695322568, 0, 0, 0, 0, 0, 0, 0, 0, 0, 0, 0, 0, 0, 0, 0, 0, 0, 0, 0, 0, 0, 0, 0, 0, 0, 0, 0, 0, 0, 0, 0, 0, 0, 0, 0, 0, 0, 0, 0, 0, 0, 0, 0], [-0.0005921913416808014, -5.127486160505747e-05, -0.0005921913416808014, 7.410956871639724e-05, 0.0003266176782465239, 0.0001842178175928689, 0.00042488973642992845, 0.00018886168318212978, -0.00025473030340020865, 0.00042488973642992845, 0.0002600830313925467, 0, 0, 0, 0, 0, 0, 0, 0, 0, 0, 0, 0, 0, 0, 0, 0, 0, 0, 0, 0, 0, 0, 0, 0, 0, 0, 0, 0, 0, 0, 0, 0, 0, 0, 0, 0, 0, 0, 0, 0, 0, 0, 0], [0.0003188603553935942, 0.0010470380999786334, 0.0005358363353225505, -0.0003009425886411295, 0.00015700166610192704, -5.968289740320747e-05, 0, 0, 0, 0, 0, 0, 0, 0, 0, 0, 0, 0, 0, 0, 0, 0, 0, 0, 0, 0, 0, 0, 0, 0, 0, 0, 0, 0, 0, 0, 0, 0, 0, 0, 0, 0, 0, 0, 0, 0, 0, 0, 0, 0, 0, 0, 0, 0], [-0.00042074470421930756, 0.0003951519774771401, 0.0003064804546395604, -0.0005921913416808014, 7.410956871639724e-05, 0.00033231528663671487, 0.0005135347243264921, 0.00023787103423785267, -0.0003065390472353649, 0.0003064804546395604, 0.00031472147529556827, 0, 0, 0, 0, 0, 0, 0, 0, 0, 0, 0, 0, 0, 0, 0, 0, 0, 0, 0, 0, 0, 0, 0, 0, 0, 0, 0, 0, 0, 0, 0, 0, 0, 0, 0, 0, 0, 0, 0, 0, 0, 0, 0], [0.00023719986144162518, -0.0001008606867980304, 0.0002447789933346348, 0.0010470380999786334, -5.127486160505747e-05, -0.0004526333490594503, -0.0005921913416808014, 0.0007507175802443666, 4.2304449657758924e-05, 0.00040845724474917127, 0, 0, 0, 0, 0, 0, 0, 0, 0, 0, 0, 0, 0, 0, 0, 0, 0, 0, 0, 0, 0, 0, 0, 0, 0, 0, 0, 0, 0, 0, 0, 0, 0, 0, 0, 0, 0, 0, 0, 0, 0, 0, 0, 0], [-0.000807408600712546, -6.007361241513828e-05, 0.0003015327553285269, 0.0005922539986800739, -3.0796765150220426e-05, 0, 0, 0, 0, 0, 0, 0, 0, 0, 0, 0, 0, 0, 0, 0, 0, 0, 0, 0, 0, 0, 0, 0, 0, 0, 0, 0, 0, 0, 0, 0, 0, 0, 0, 0, 0, 0, 0, 0, 0, 0, 0, 0, 0, 0, 0, 0, 0, 0], [-0.00037340550002563954, -0.00038518949345070047, 0.0010470380999786334, 1.1889214453008676e-05, -0.00012703741065252233, -0.0005919180177967622, 0.00012053098922425069, 0, 0, 0, 0, 0, 0, 0, 0, 0, 0, 0, 0, 0, 0, 0, 0, 0, 0, 0, 0, 0, 0, 0, 0, 0, 0, 0, 0, 0, 0, 0, 0, 0, 0, 0, 0, 0, 0, 0, 0, 0, 0, 0, 0, 0, 0, 0], [-6.596534979065663e-05, -8.772391330520532e-05, -0.0005921913416808014, 0.0002833550523662044, 0.00022728441719120242, -0.00022986703531603222, 0.0008734490522283554, 0, 0, 0, 0, 0, 0, 0, 0, 0, 0, 0, 0, 0, 0, 0, 0, 0, 0, 0, 0, 0, 0, 0, 0, 0, 0, 0, 0, 0, 0, 0, 0, 0, 0, 0, 0, 0, 0, 0, 0, 0, 0, 0, 0, 0, 0, 0], [0.0006533848100584563, 0.00031621210711778, 0.001170607591982639, -0.0003167618913343179, 0, 0, 0, 0, 0, 0, 0, 0, 0, 0, 0, 0, 0, 0, 0, 0, 0, 0, 0, 0, 0, 0, 0, 0, 0, 0, 0, 0, 0, 0, 0, 0, 0, 0, 0, 0, 0, 0, 0, 0, 0, 0, 0, 0, 0, 0, 0, 0, 0, 0], [0.00028608331410400053, 0.0010470380999786334, 0.00069866708833749, -0.0004311872802799006, -0.00015552285879609672, 5.1376856309718274e-05, 3.619764031575305e-05, 0.00032968726656338205, 0.00013920094771362806, 0, 0, 0, 0, 0, 0, 0, 0, 0, 0, 0, 0, 0, 0, 0, 0, 0, 0, 0, 0, 0, 0, 0, 0, 0, 0, 0, 0, 0, 0, 0, 0, 0, 0, 0, 0, 0, 0, 0, 0, 0, 0, 0, 0, 0], [-0.0005921913416808014, 7.410956871639724e-05, 0.00016830371611014784, -6.0709467605956036e-05, 0.00014656846962776845, 0.0002614702735132349, 5.6549787118193856e-05, 0.00022834072171259073, 0.0006533848100584563, 0.0002926294627488916, 0, 0, 0, 0, 0, 0, 0, 0, 0, 0, 0, 0, 0, 0, 0, 0, 0, 0, 0, 0, 0, 0, 0, 0, 0, 0, 0, 0, 0, 0, 0, 0, 0, 0, 0, 0, 0, 0, 0, 0, 0, 0, 0, 0], [-0.0005921913416808014, 0.00012759812615067536, -0.00034280910028255756, 0.0003901573780986531, 0.0004315176595403186, 6.435722092477294e-05, 0, 0, 0, 0, 0, 0, 0, 0, 0, 0, 0, 0, 0, 0, 0, 0, 0, 0, 0, 0, 0, 0, 0, 0, 0, 0, 0, 0, 0, 0, 0, 0, 0, 0, 0, 0, 0, 0, 0, 0, 0, 0, 0, 0, 0, 0, 0, 0], [6.559753866251836e-05, -0.0003009705155902624, -0.00021111847223673905, 1.3370736036559874e-06, 2.4145361899649903e-05, 0.00023469331093861943, 0.00016830371611014784, 0.00015266091949319555, 2.4145361899649903e-05, -7.5684890078559e-05, 0.0010470380999786334, -0.00021111847223673905, -3.0884506497452294e-05, 0, 0, 0, 0, 0, 0, 0, 0, 0, 0, 0, 0, 0, 0, 0, 0, 0, 0, 0, 0, 0, 0, 0, 0, 0, 0, 0, 0, 0, 0, 0, 0, 0, 0, 0, 0, 0, 0, 0, 0, 0], [0.001170607591982639, 0.0010470380999786334, 0.00069866708833749, 0.0006560774838477594, 0.001170607591982639, -0.0003276506488556027, -0.00011489712090861147, -0.00011193685219815341, -3.100076667502418e-05, -0.0004041490672869, 0.00038850950136071866, 0.0001753276544557642, 6.841664502434886e-05, 0.00020080310004507451, 4.723349548902769e-05, 0, 0, 0, 0, 0, 0, 0, 0, 0, 0, 0, 0, 0, 0, 0, 0, 0, 0, 0, 0, 0, 0, 0, 0, 0, 0, 0, 0, 0, 0, 0, 0, 0, 0, 0, 0, 0, 0, 0], [0.0002744086968225768, 0.00034940744074543563, 6.14438609863408e-05, 0.0010470380999786334, -3.34831380203823e-05, -0.0001274852797127681, -0.00034852573178327414, 6.14438609863408e-05, 0.0010470380999786334, -3.34831380203823e-05, -0.0001274852797127681, 0.0003938082010087872, 0, 0, 0, 0, 0, 0, 0, 0, 0, 0, 0, 0, 0, 0, 0, 0, 0, 0, 0, 0, 0, 0, 0, 0, 0, 0, 0, 0, 0, 0, 0, 0, 0, 0, 0, 0, 0, 0, 0, 0, 0, 0], [2.692841846790458e-05, -0.00030852916462565636, 2.0813721798129815e-06, 0.00010232088740104687, -5.999357927373759e-06, 0.0010470380999786334, -5.127486160505747e-05, -0.0003892875211476462, 0.00012505200350683966, -0.0002217296040896029, -0.0002039271637869388, 0.0003901573780986531, 0.00024033802243296105, 0.00016818352170242543, 0.00039352861041323903, 0, 0, 0, 0, 0, 0, 0, 0, 0, 0, 0, 0, 0, 0, 0, 0, 0, 0, 0, 0, 0, 0, 0, 0, 0, 0, 0, 0, 0, 0, 0, 0, 0, 0, 0, 0, 0, 0, 0], [0.0005499488828695877, -6.914128148278618e-05, -0.0005921913416808014, 0.00017000766472437059, 0.0005342557098481085, 0.00033081874512653375, -0.0005921913416808014, -0.000807408600712546, -0.000297178902498326, -0.00021857992546228154, -0.000807408600712546, 6.818909362762957e-05, 0.00011710512671747095, -0.0006209625828368855, -9.700181141863221e-05, 0.0003350897028813113, 0.0004253947183857765, -0.00021857992546228154, 0.0001998129121501982, 0.0003944687458213863, -0.0004969520895022881, -0.00043945220689956465, -0.0003997121622038824, -0.00021857992546228154, 0.00028387182155419316, 0.0004885189490371313, 0.0002281840573884896, 0.00017000766472437059, -7.073378032991871e-05, -0.00013166040121728525, -0.0005921913416808014, 8.848401745609897e-05, 0.000584641539346229, 0.0005499488828695877, -0.0005921913416808014, -0.00023174297118798757, 0.00019036917302736673, -0.0001846433709108051, -0.0003997121622038824, -6.914128148278618e-05, 0.000345056434169123, -0.00024760349545565485, -0.0005921913416808014, -0.00046879197013076324, 0.0002713380081472823, 0.0003225001400761416, 1.659086546811858e-05, 5.150718066106251e-05, 0, 0, 0, 0, 0, 0], [-0.00023729523097036777, 0.001170607591982639, 0.00039762099861804395, 0.001170607591982639, -0.00020389319084794196, 0.0006533848100584563, -0.000782746298564944, -3.9863584662256456e-05, 0, 0, 0, 0, 0, 0, 0, 0, 0, 0, 0, 0, 0, 0, 0, 0, 0, 0, 0, 0, 0, 0, 0, 0, 0, 0, 0, 0, 0, 0, 0, 0, 0, 0, 0, 0, 0, 0, 0, 0, 0, 0, 0, 0, 0, 0], [0.0002552132662897403, 0.0010470380999786334, 0.00016830371611014784, -0.0003009705155902624, -0.00019300551696316073, 0.00016425469778921803, -0.00013889263321880508, 0.00040167569419729746, 0.00035289202142147, 0.001170607591982639, -0.000115480106775427, -0.0002181086448376947, -0.00013889263321880508, 0.00040167569419729746, -9.83044468267219e-05, -0.0005170071177179852, 0.00024131356336313525, 0, 0, 0, 0, 0, 0, 0, 0, 0, 0, 0, 0, 0, 0, 0, 0, 0, 0, 0, 0, 0, 0, 0, 0, 0, 0, 0, 0, 0, 0, 0, 0, 0, 0, 0, 0, 0], [0.0001961353220110881, 0.00016830371611014784, -0.0003009705155902624, -0.0002769137641961331, 0.00013048487616474833, 0.00015666473737361024, 0.00048634381137043376, 0.0004439901036499532, -6.85658898807773e-05, 0.0005204688792476321, 0, 0, 0, 0, 0, 0, 0, 0, 0, 0, 0, 0, 0, 0, 0, 0, 0, 0, 0, 0, 0, 0, 0, 0, 0, 0, 0, 0, 0, 0, 0, 0, 0, 0, 0, 0, 0, 0, 0, 0, 0, 0, 0, 0], [0.0010470380999786334, -0.00021111847223673905, 0.0001675863712218723, 0, 0, 0, 0, 0, 0, 0, 0, 0, 0, 0, 0, 0, 0, 0, 0, 0, 0, 0, 0, 0, 0, 0, 0, 0, 0, 0, 0, 0, 0, 0, 0, 0, 0, 0, 0, 0, 0, 0, 0, 0, 0, 0, 0, 0, 0, 0, 0, 0, 0, 0], [-0.00047133524128314014, -0.00012249136608032682, -0.00020031876815192393, -0.00022852879768684508, -0.00044634744335359715, 0.00030987673658758997, 0.0004838721555615974, -0.0001274852797127681, 0.00039979556205614044, 0.0010470380999786334, -0.0002957705287271527, 1.3370736036559874e-06, -0.00041400059180916947, 0.00025388789459585047, 0.00028839140621268066, 0, 0, 0, 0, 0, 0, 0, 0, 0, 0, 0, 0, 0, 0, 0, 0, 0, 0, 0, 0, 0, 0, 0, 0, 0, 0, 0, 0, 0, 0, 0, 0, 0, 0, 0, 0, 0, 0, 0], [0.00015666473737361024, 0.0004764088031984439, -0.00017063167688397864, 0.00020662420489965603, -9.387746177848849e-05, -0.0005463911001713962, -0.0006581161862783203, 0.00013928787232013373, 0.0002908546139842115, 5.815516899938833e-05, -0.0005693944033099971, 3.979859875195214e-05, 0, 0, 0, 0, 0, 0, 0, 0, 0, 0, 0, 0, 0, 0, 0, 0, 0, 0, 0, 0, 0, 0, 0, 0, 0, 0, 0, 0, 0, 0, 0, 0, 0, 0, 0, 0, 0, 0, 0, 0, 0, 0], [0.00015666473737361024, -0.0003009425886411295, 8.832464205127664e-05, 9.522404930142824e-05, -0.00019146365623603787, -0.00018292523020189952, -7.497985269123304e-05, 0.00015666473737361024, -0.0003009425886411295, 8.832464205127664e-05, 9.522404930142824e-05, 0.0004153213380019338, -8.286935554656414e-05, -0.00018292523020189952, 0, 0, 0, 0, 0, 0, 0, 0, 0, 0, 0, 0, 0, 0, 0, 0, 0, 0, 0, 0, 0, 0, 0, 0, 0, 0, 0, 0, 0, 0, 0, 0, 0, 0, 0, 0, 0, 0, 0, 0], [0.00020769365940093157, 0.0010470380999786334, -0.00018866689090536184, -0.0003656456073874241, -9.495898943467606e-05, 0, 0, 0, 0, 0, 0, 0, 0, 0, 0, 0, 0, 0, 0, 0, 0, 0, 0, 0, 0, 0, 0, 0, 0, 0, 0, 0, 0, 0, 0, 0, 0, 0, 0, 0, 0, 0, 0, 0, 0, 0, 0, 0, 0, 0, 0, 0, 0, 0], [-9.387746177848849e-05, 0.0003494899902596217, -0.0003612795504640927, 0.00042488973642992845, -9.916651549533546e-05, 9.75806325103004e-05, 0.0002908546139842115, 0.00034849224284360514, 0.0003092384939939557, -3.364381840079954e-05, 0.00012505200350683966, -0.0005921913416808014, -9.387746177848849e-05, -0.00018725807671302476, 8.03027653891316e-05, 0.0005655872351307831, 0.0004557133768359153, 0.00015673654881123077, 0, 0, 0, 0, 0, 0, 0, 0, 0, 0, 0, 0, 0, 0, 0, 0, 0, 0, 0, 0, 0, 0, 0, 0, 0, 0, 0, 0, 0, 0, 0, 0, 0, 0, 0, 0], [-0.00023729523097036777, 0.00017850527658924201, 9.75806325103004e-05, -0.0004121515343088766, 5.8264895463733074e-05, 0.0002099121312537187, 0.0001755034635384337, -3.780360620287719e-05, 0, 0, 0, 0, 0, 0, 0, 0, 0, 0, 0, 0, 0, 0, 0, 0, 0, 0, 0, 0, 0, 0, 0, 0, 0, 0, 0, 0, 0, 0, 0, 0, 0, 0, 0, 0, 0, 0, 0, 0, 0, 0, 0, 0, 0, 0], [-0.000339074953656719, -1.8857542956672882e-06, -0.00019915669351772383, 0.0005455557016612944, 0.00033904964085980214, 0.00019027155250311324, -0.00047133524128314014, 9.970007632878331e-05, 0.00039762099861804395, 0.001170607591982639, -0.00010446853212410311, 4.428189672947362e-05, -8.037446771275214e-05, 0, 0, 0, 0, 0, 0, 0, 0, 0, 0, 0, 0, 0, 0, 0, 0, 0, 0, 0, 0, 0, 0, 0, 0, 0, 0, 0, 0, 0, 0, 0, 0, 0, 0, 0, 0, 0, 0, 0, 0, 0], [-0.00014213208925737306, -0.00022407463906642635, 0.0004118668701594471, 0.0010470380999786334, 0.0002614702735132349, 0.00024878592382704477, -0.00019882088836194363, -0.00019882088836194363, -0.00017089330204926606, 0.00019630266460161826, -0.0003507473968225542, -0.00015262399359698708, -0.0001408482960670707, 0, 0, 0, 0, 0, 0, 0, 0, 0, 0, 0, 0, 0, 0, 0, 0, 0, 0, 0, 0, 0, 0, 0, 0, 0, 0, 0, 0, 0, 0, 0, 0, 0, 0, 0, 0, 0, 0, 0, 0, 0], [0.0010470380999786334, 0.0002467863609549299, 5.783205590263456e-05, -6.596534979065663e-05, -0.0001950922297180557, 0.0003702156407873402, -0.00016006024269678423, 0.0004872850594420467, -0.000804746577451919, -0.00011774457389324022, 0.00012666354785283222, 7.723348067717717e-06, 9.989495661725986e-05, 0.0010470380999786334, -6.098578814770909e-05, 0.00016755766167577058, -0.00014253346598653118, 0, 0, 0, 0, 0, 0, 0, 0, 0, 0, 0, 0, 0, 0, 0, 0, 0, 0, 0, 0, 0, 0, 0, 0, 0, 0, 0, 0, 0, 0, 0, 0, 0, 0, 0, 0, 0], [-0.00028376319059389773, -0.00040568948352804674, -9.855575635930747e-06, 0.0010470380999786334, 1.5410759060521293e-05, -0.00022905467746983898, 0, 0, 0, 0, 0, 0, 0, 0, 0, 0, 0, 0, 0, 0, 0, 0, 0, 0, 0, 0, 0, 0, 0, 0, 0, 0, 0, 0, 0, 0, 0, 0, 0, 0, 0, 0, 0, 0, 0, 0, 0, 0, 0, 0, 0, 0, 0, 0], [0.0006083944990169883, -2.9617315024063338e-05, -0.00016134060788810655, -0.0005242244321761159, 0.00010155189707925375, 0.00040845724474917127, 0, 0, 0, 0, 0, 0, 0, 0, 0, 0, 0, 0, 0, 0, 0, 0, 0, 0, 0, 0, 0, 0, 0, 0, 0, 0, 0, 0, 0, 0, 0, 0, 0, 0, 0, 0, 0, 0, 0, 0, 0, 0, 0, 0, 0, 0, 0, 0], [0.00017729876983500482, 0.0006083944990169883, -4.291537661863371e-05, -0.0002525112787392942, -0.00046112566620126104, -5.949581425834819e-05, 0.0001284456542856232, -6.007361241513828e-05, 0, 0, 0, 0, 0, 0, 0, 0, 0, 0, 0, 0, 0, 0, 0, 0, 0, 0, 0, 0, 0, 0, 0, 0, 0, 0, 0, 0, 0, 0, 0, 0, 0, 0, 0, 0, 0, 0, 0, 0, 0, 0, 0, 0, 0, 0], [0.00028608331410400053, 0.00012505200350683966, 0.0010470380999786334, 0.0001074968822459277, -8.037446771275214e-05, -0.00014008243451430264, 0.001170607591982639, 0.00011090872451256035, 0.0001961353220110881, 0.00015266091949319555, -3.0663529389382945e-05, -6.19607472563765e-05, 0.00042573115364870703, 0, 0, 0, 0, 0, 0, 0, 0, 0, 0, 0, 0, 0, 0, 0, 0, 0, 0, 0, 0, 0, 0, 0, 0, 0, 0, 0, 0, 0, 0, 0, 0, 0, 0, 0, 0, 0, 0, 0, 0, 0], [0.00035408080262730283, -4.31678835306066e-05, 7.410956871639724e-05, -0.0001804201659961542, -0.00020053824323329846, 0.00026005627364899495, 0, 0, 0, 0, 0, 0, 0, 0, 0, 0, 0, 0, 0, 0, 0, 0, 0, 0, 0, 0, 0, 0, 0, 0, 0, 0, 0, 0, 0, 0, 0, 0, 0, 0, 0, 0, 0, 0, 0, 0, 0, 0, 0, 0, 0, 0, 0, 0], [-0.0005615847229872213, 0.00048634381137043376, -6.19607472563765e-05, -0.0001653725171288193, -3.103920951437718e-06, -0.00011962560304345884, 0.00019321003710046032, -0.0001408482960670707, 0, 0, 0, 0, 0, 0, 0, 0, 0, 0, 0, 0, 0, 0, 0, 0, 0, 0, 0, 0, 0, 0, 0, 0, 0, 0, 0, 0, 0, 0, 0, 0, 0, 0, 0, 0, 0, 0, 0, 0, 0, 0, 0, 0, 0, 0], [-0.00023357883301378858, 0.0003234405588112455, 0.00037660761785517283, 0.00041260171970845463, 0.0006083944990169883, -0.00016134060788810655, -6.827799791428559e-05, -0.00046206321125269597, 0.0006083944990169883, 7.410956871639724e-05, 0.0004460669724904952, 0.00024866803208165245, 0.00040845724474917127, 0, 0, 0, 0, 0, 0, 0, 0, 0, 0, 0, 0, 0, 0, 0, 0, 0, 0, 0, 0, 0, 0, 0, 0, 0, 0, 0, 0, 0, 0, 0, 0, 0, 0, 0, 0, 0, 0, 0, 0, 0], [0.000235078256962094, 0.0004983977845979831, -3.066336637371542e-05, 0.0004084534053571217, -0.00029045538511841324, 0.0001473182935773677, -0.0005615847229872213, -0.0001408482960670707, 0.000275164618969188, -0.00046790829140321585, -3.066336637371542e-05, -0.0003640428295570944, 0.0005318656233981619, -0.00019570186694394938, -0.00038518949345070047, 0.0004984306467924872, 1.8786841708917588e-05, 0, 0, 0, 0, 0, 0, 0, 0, 0, 0, 0, 0, 0, 0, 0, 0, 0, 0, 0, 0, 0, 0, 0, 0, 0, 0, 0, 0, 0, 0, 0, 0, 0, 0, 0, 0, 0], [0.0010470380999786334, 0.001170607591982639, -0.00010446853212410311, 0.0003266176782465239, -9.387746177848849e-05, 0, 0, 0, 0, 0, 0, 0, 0, 0, 0, 0, 0, 0, 0, 0, 0, 0, 0, 0, 0, 0, 0, 0, 0, 0, 0, 0, 0, 0, 0, 0, 0, 0, 0, 0, 0, 0, 0, 0, 0, 0, 0, 0, 0, 0, 0, 0, 0, 0], [-0.0004372324329137651, -6.596534979065663e-05, 0.0003188603553935942, 0.0010470380999786334, 0.00033267510939363043, -0.00027636739630466076, -4.818784511815166e-05, 0.0001074968822459277, 0.0005689197027159382, 0.0010470380999786334, 0.0010898868802947336, 0.00022706771628034524, 0.0001074968822459277, -5.968289740320747e-05, 0, 0, 0, 0, 0, 0, 0, 0, 0, 0, 0, 0, 0, 0, 0, 0, 0, 0, 0, 0, 0, 0, 0, 0, 0, 0, 0, 0, 0, 0, 0, 0, 0, 0, 0, 0, 0, 0, 0, 0], [-0.0005994033239492942, -9.387746177848849e-05, -0.0002217296040896029, -0.0002039271637869388, 0.0002621247994151466, 9.087535046231957e-05, 0.0002700002373305746, 0.00017614205845152846, -0.0005921913416808014, 0, 0, 0, 0, 0, 0, 0, 0, 0, 0, 0, 0, 0, 0, 0, 0, 0, 0, 0, 0, 0, 0, 0, 0, 0, 0, 0, 0, 0, 0, 0, 0, 0, 0, 0, 0, 0, 0, 0, 0, 0, 0, 0, 0, 0], [-0.0002911216424791602, 0.00010488938988817409, 0.0010470380999786334, 0.00015770391559116075, -0.00013314077345637695, 0, 0, 0, 0, 0, 0, 0, 0, 0, 0, 0, 0, 0, 0, 0, 0, 0, 0, 0, 0, 0, 0, 0, 0, 0, 0, 0, 0, 0, 0, 0, 0, 0, 0, 0, 0, 0, 0, 0, 0, 0, 0, 0, 0, 0, 0, 0, 0, 0], [0.0010470380999786334, 9.35192662123616e-05, -3.642096767330963e-05, -0.0002525112787392942, 0, 0, 0, 0, 0, 0, 0, 0, 0, 0, 0, 0, 0, 0, 0, 0, 0, 0, 0, 0, 0, 0, 0, 0, 0, 0, 0, 0, 0, 0, 0, 0, 0, 0, 0, 0, 0, 0, 0, 0, 0, 0, 0, 0, 0, 0, 0, 0, 0, 0], [2.693935599028102e-05, 0.00040167569419729746, -0.0001274852797127681, 0.00023373737212059806, -9.83044468267219e-05, 2.4145361899649903e-05, 0.0002862933923919218, 0, 0, 0, 0, 0, 0, 0, 0, 0, 0, 0, 0, 0, 0, 0, 0, 0, 0, 0, 0, 0, 0, 0, 0, 0, 0, 0, 0, 0, 0, 0, 0, 0, 0, 0, 0, 0, 0, 0, 0, 0, 0, 0, 0, 0, 0, 0], [0.0005720289501559259, -0.0006484496079926713, -0.00048552604812788266, -6.773549869658898e-05, 0.000399633421310406, 0.0003185047520957654, -0.0004115623765566041, 0, 0, 0, 0, 0, 0, 0, 0, 0, 0, 0, 0, 0, 0, 0, 0, 0, 0, 0, 0, 0, 0, 0, 0, 0, 0, 0, 0, 0, 0, 0, 0, 0, 0, 0, 0, 0, 0, 0, 0, 0, 0, 0, 0, 0, 0, 0], [-0.0004121515343088766, 0.0010470380999786334, -0.00017140256976640948, 0, 0, 0, 0, 0, 0, 0, 0, 0, 0, 0, 0, 0, 0, 0, 0, 0, 0, 0, 0, 0, 0, 0, 0, 0, 0, 0, 0, 0, 0, 0, 0, 0, 0, 0, 0, 0, 0, 0, 0, 0, 0, 0, 0, 0, 0, 0, 0, 0, 0, 0], [-0.0003321320679530729, 0.00023719986144162518, 0.00035408080262730283, -0.00016427864973590092, 0.0008734490522283554, 0.00024202245685798598, -3.691539225263319e-06, -0.0002695467737832683, 7.648509973619792e-05, -8.061444595164449e-05, -0.00017140256976640948, 0, 0, 0, 0, 0, 0, 0, 0, 0, 0, 0, 0, 0, 0, 0, 0, 0, 0, 0, 0, 0, 0, 0, 0, 0, 0, 0, 0, 0, 0, 0, 0, 0, 0, 0, 0, 0, 0, 0, 0, 0, 0, 0], [-9.387746177848849e-05, 1.3035466609882373e-05, 0.00035408080262730283, -0.00038766075953084, 0.0010470380999786334, -0.0004899182375975092, 0.0006799595886358908, 8.03027653891316e-05, 0.0002923517972598036, -0.0006436321852861617, -6.007361241513828e-05, 0, 0, 0, 0, 0, 0, 0, 0, 0, 0, 0, 0, 0, 0, 0, 0, 0, 0, 0, 0, 0, 0, 0, 0, 0, 0, 0, 0, 0, 0, 0, 0, 0, 0, 0, 0, 0, 0, 0, 0, 0, 0, 0], [-0.00026081533958678037, 0.0010470380999786334, 0.00048634381137043376, -4.922830603786626e-05, -3.0563020335775305e-05, 0.0010470380999786334, 0.0003181374083891732, 0.00024772516565956047, -0.00020416510232057776, -0.00040717057329978367, -0.00025549713266400655, 0.00026071972637894465, 0.00013823754741874465, 0, 0, 0, 0, 0, 0, 0, 0, 0, 0, 0, 0, 0, 0, 0, 0, 0, 0, 0, 0, 0, 0, 0, 0, 0, 0, 0, 0, 0, 0, 0, 0, 0, 0, 0, 0, 0, 0, 0, 0, 0], [0.0005311060311501289, -6.19607472563765e-05, 0.0006799595886358908, 6.89241022772974e-05, -6.52097449650585e-06, 0.00014169149111176033, -0.0005921913416808014, 0.00027222397571564113, 0, 0, 0, 0, 0, 0, 0, 0, 0, 0, 0, 0, 0, 0, 0, 0, 0, 0, 0, 0, 0, 0, 0, 0, 0, 0, 0, 0, 0, 0, 0, 0, 0, 0, 0, 0, 0, 0, 0, 0, 0, 0, 0, 0, 0, 0], [-0.00010925882542033219, 3.248955258938972e-05, 0.00023495256557386308, 0.00013590408524893918, -0.00011086849596008161, 7.757847638165481e-05, -3.6364489119237245e-05, 0.00025987615130224523, -0.0003894458606961224, 0.000110768156078002, 9.35192662123616e-05, 0, 0, 0, 0, 0, 0, 0, 0, 0, 0, 0, 0, 0, 0, 0, 0, 0, 0, 0, 0, 0, 0, 0, 0, 0, 0, 0, 0, 0, 0, 0, 0, 0, 0, 0, 0, 0, 0, 0, 0, 0, 0, 0], [-0.0007377150643289945, 0.0006083944990169883, 0.0003100724118230433, 7.693463127791521e-07, -0.0004311872802799006, -0.00014830141730831644, 0, 0, 0, 0, 0, 0, 0, 0, 0, 0, 0, 0, 0, 0, 0, 0, 0, 0, 0, 0, 0, 0, 0, 0, 0, 0, 0, 0, 0, 0, 0, 0, 0, 0, 0, 0, 0, 0, 0, 0, 0, 0, 0, 0, 0, 0, 0, 0], [0.0003872836316703682, 0.00013590408524893918, -2.930779005408612e-05, -6.17399758101878e-05, 0.00017850527658924201, 0.0002099121312537187, 0.00025388789459585047, -0.0003178469035603922, -0.00025549713266400655, -0.00019005384656764094, -0.000199558616812029, -0.00030253685584483424, -0.00028376319059389773, 6.337582996625967e-05, 0, 0, 0, 0, 0, 0, 0, 0, 0, 0, 0, 0, 0, 0, 0, 0, 0, 0, 0, 0, 0, 0, 0, 0, 0, 0, 0, 0, 0, 0, 0, 0, 0, 0, 0, 0, 0, 0, 0, 0], [-0.0001861505017285434, 5.891248596764272e-05, -6.168496990945161e-05, -4.174293273695026e-05, 0.00042573115364870703, -9.387746177848849e-05, -0.0005921913416808014, 0, 0, 0, 0, 0, 0, 0, 0, 0, 0, 0, 0, 0, 0, 0, 0, 0, 0, 0, 0, 0, 0, 0, 0, 0, 0, 0, 0, 0, 0, 0, 0, 0, 0, 0, 0, 0, 0, 0, 0, 0, 0, 0, 0, 0, 0, 0], [-6.596534979065663e-05, 0.00035408080262730283, 0.00025599541875575627, 0.00035408080262730283, 3.456600060360262e-05, -0.0005381503677559849, -0.0004281556210653774, 1.9849009343543682e-05, 0, 0, 0, 0, 0, 0, 0, 0, 0, 0, 0, 0, 0, 0, 0, 0, 0, 0, 0, 0, 0, 0, 0, 0, 0, 0, 0, 0, 0, 0, 0, 0, 0, 0, 0, 0, 0, 0, 0, 0, 0, 0, 0, 0, 0, 0], [-0.0001649355658347502, -7.040417116270802e-05, 0.00042574271679296326, -0.00012184477080685676, 4.273820849723312e-05, -0.0004841753546408152, -0.0001590751115751586, 0.00042574271679296326, -0.00013864671515991789, 1.4576055884490583e-05, -3.066336637371542e-05, -9.387746177848849e-05, -0.0001315464616556773, 7.907297719651643e-05, 0.00035408080262730283, 0.0004460669724904952, -0.00027818610451178246, 0.00031978595824227795, 0, 0, 0, 0, 0, 0, 0, 0, 0, 0, 0, 0, 0, 0, 0, 0, 0, 0, 0, 0, 0, 0, 0, 0, 0, 0, 0, 0, 0, 0, 0, 0, 0, 0, 0, 0], [0.0006799595886358908, 0.0010470380999786334, -6.090922310385601e-05, 0.00026564450748285196, 0.00015696575344886904, 0.00011767618504919244, 0.00015696575344886904, 0, 0, 0, 0, 0, 0, 0, 0, 0, 0, 0, 0, 0, 0, 0, 0, 0, 0, 0, 0, 0, 0, 0, 0, 0, 0, 0, 0, 0, 0, 0, 0, 0, 0, 0, 0, 0, 0, 0, 0, 0, 0, 0, 0, 0, 0, 0], [-6.365505525955497e-05, 0.0010470380999786334, -0.00033543075909257087, 0.0004250611552849893, -0.00018292523020189952, 0.00019284513026094724, 0, 0, 0, 0, 0, 0, 0, 0, 0, 0, 0, 0, 0, 0, 0, 0, 0, 0, 0, 0, 0, 0, 0, 0, 0, 0, 0, 0, 0, 0, 0, 0, 0, 0, 0, 0, 0, 0, 0, 0, 0, 0, 0, 0, 0, 0, 0, 0], [-0.00012120651746609422, -6.17399758101878e-05, -0.0002091191807472109, 0.001170607591982639, 8.789854855945013e-07, 9.018675279009194e-06, 0.00014497717653333796, 0.00014497717653333796, 1.7935507273991357e-05, 0.00037040943073018485, -0.0002726139215610751, -0.00030148004019685644, 8.789854855945013e-07, -0.00016625322256239237, 0, 0, 0, 0, 0, 0, 0, 0, 0, 0, 0, 0, 0, 0, 0, 0, 0, 0, 0, 0, 0, 0, 0, 0, 0, 0, 0, 0, 0, 0, 0, 0, 0, 0, 0, 0, 0, 0, 0, 0], [-0.0001672533321011024, -0.0002451871457656207, -0.00027188609763198897, 0.0010470380999786334, -0.0003009705155902624, -0.0002565644692564007, 0, 0, 0, 0, 0, 0, 0, 0, 0, 0, 0, 0, 0, 0, 0, 0, 0, 0, 0, 0, 0, 0, 0, 0, 0, 0, 0, 0, 0, 0, 0, 0, 0, 0, 0, 0, 0, 0, 0, 0, 0, 0, 0, 0, 0, 0, 0, 0], [0.0006799595886358908, 0.0010470380999786334, -0.00037340550002563954, 8.638317721464301e-05, 0.0002640741176248922, 0.00034716038741729877, -0.00036275914347920095, -0.00033876583659962057, 3.1790637426748204e-05, 3.7595877187806355e-05, -0.0005228580436042621, 0, 0, 0, 0, 0, 0, 0, 0, 0, 0, 0, 0, 0, 0, 0, 0, 0, 0, 0, 0, 0, 0, 0, 0, 0, 0, 0, 0, 0, 0, 0, 0, 0, 0, 0, 0, 0, 0, 0, 0, 0, 0, 0], [0.0006560774838477594, 0.001170607591982639, 3.359820656063327e-06, -0.00010925882542033219, -0.0003009705155902624, 0.0001834422372571641, 0.0002912669595356334, 0, 0, 0, 0, 0, 0, 0, 0, 0, 0, 0, 0, 0, 0, 0, 0, 0, 0, 0, 0, 0, 0, 0, 0, 0, 0, 0, 0, 0, 0, 0, 0, 0, 0, 0, 0, 0, 0, 0, 0, 0, 0, 0, 0, 0, 0, 0], [-0.0001315464616556773, -4.182788341044505e-05, -0.00032790668072383504, 2.0813721798129815e-06, 0.00035408080262730283, 0.0006080045145257234, -0.00023587688656690264, -0.0005061096065435633, -9.43275616077036e-05, 0.0005408271188601333, -0.000573968362940466, -0.0001740178872810345, 0.00015568268193009532, 0.000648018459270041, 0.00020169905966406582, 0, 0, 0, 0, 0, 0, 0, 0, 0, 0, 0, 0, 0, 0, 0, 0, 0, 0, 0, 0, 0, 0, 0, 0, 0, 0, 0, 0, 0, 0, 0, 0, 0, 0, 0, 0, 0, 0, 0], [0.00017449158265772085, 0.0010470380999786334, 0.00039352861041323903, 0.0010470380999786334, -0.0001082465902980643, 0.0010470380999786334, 0.0010470380999786334, 0.00019510459013732676, -0.0002841466166490834, 0, 0, 0, 0, 0, 0, 0, 0, 0, 0, 0, 0, 0, 0, 0, 0, 0, 0, 0, 0, 0, 0, 0, 0, 0, 0, 0, 0, 0, 0, 0, 0, 0, 0, 0, 0, 0, 0, 0, 0, 0, 0, 0, 0, 0], [0.0002427555312315078, 0.00040167569419729746, 0.0006083944990169883, 0.00012744814719682312, -0.0006015058225990259, -9.83044468267219e-05, 2.4145361899649903e-05, -0.00022819202221260686, 0, 0, 0, 0, 0, 0, 0, 0, 0, 0, 0, 0, 0, 0, 0, 0, 0, 0, 0, 0, 0, 0, 0, 0, 0, 0, 0, 0, 0, 0, 0, 0, 0, 0, 0, 0, 0, 0, 0, 0, 0, 0, 0, 0, 0, 0], [3.532845519810997e-05, -6.596534979065663e-05, 0.0004872850594420467, 0.0004902336494093276, 0, 0, 0, 0, 0, 0, 0, 0, 0, 0, 0, 0, 0, 0, 0, 0, 0, 0, 0, 0, 0, 0, 0, 0, 0, 0, 0, 0, 0, 0, 0, 0, 0, 0, 0, 0, 0, 0, 0, 0, 0, 0, 0, 0, 0, 0, 0, 0, 0, 0], [0.0010470380999786334, 0.0006799595886358908, 8.03027653891316e-05, -0.00010319832714722459, -0.000782746298564944, -3.69459020412433e-05, 0.0003064804546395604, 0.0010470380999786334, 0.0006799595886358908, 8.03027653891316e-05, -0.00010319832714722459, 0.000187883106391755, 0, 0, 0, 0, 0, 0, 0, 0, 0, 0, 0, 0, 0, 0, 0, 0, 0, 0, 0, 0, 0, 0, 0, 0, 0, 0, 0, 0, 0, 0, 0, 0, 0, 0, 0, 0, 0, 0, 0, 0, 0, 0], [0.00015184531678042641, -0.00028694042445142395, -0.0002039271637869388, -8.57917843381698e-05, -3.256754497024128e-05, -0.00047971735846613877, 0.0010470380999786334, -0.0002898625702635414, 9.75806325103004e-05, 0.0002636717365275391, 0.00010130379338559384, -0.0003276506488556027, 0.00041260171970845463, 0.0010470380999786334, -0.00016134060788810655, 0, 0, 0, 0, 0, 0, 0, 0, 0, 0, 0, 0, 0, 0, 0, 0, 0, 0, 0, 0, 0, 0, 0, 0, 0, 0, 0, 0, 0, 0, 0, 0, 0, 0, 0, 0, 0, 0, 0], [-0.0003128203547357609, 0.00015209953693930118, 0.0002099121312537187, 0.0010470380999786334, -0.0005382991429528594, -0.000299675462499303, -5.127486160505747e-05, 0.0004872850594420467, -5.464799877121479e-05, -3.213846250915463e-05, 0.00015644394912214698, 0, 0, 0, 0, 0, 0, 0, 0, 0, 0, 0, 0, 0, 0, 0, 0, 0, 0, 0, 0, 0, 0, 0, 0, 0, 0, 0, 0, 0, 0, 0, 0, 0, 0, 0, 0, 0, 0, 0, 0, 0, 0, 0], [0.0006083944990169883, 7.670646739022392e-06, -1.69848737710983e-05, 0.000380083869970585, -0.000538093452787043, -0.0002269472473462173, 0.0002878690959966241, -0.0001100928078328942, -0.00047161777105606705, 0.0006083944990169883, 0, 0, 0, 0, 0, 0, 0, 0, 0, 0, 0, 0, 0, 0, 0, 0, 0, 0, 0, 0, 0, 0, 0, 0, 0, 0, 0, 0, 0, 0, 0, 0, 0, 0, 0, 0, 0, 0, 0, 0, 0, 0, 0, 0], [-0.0003009425886411295, -0.0002648116215876702, -0.0003064465836983036, -0.00016374164009508118, 0.00010232088740104687, 0.0006799595886358908, 0.00035408080262730283, 0.00019707138066723224, -0.0002708423256638986, 0.00031941314364215053, 0.0010470380999786334, -0.00027882023902220566, -0.0007073163485040236, -0.0001147916391911109, -0.0002580936469403465, 0.0001961353220110881, 0.0003237409057288165, 0.000623592535269901, -0.00042388326070991097, -0.0002910025666033504, 0.00010848237872669235, -0.00017438958265935344, 0, 0, 0, 0, 0, 0, 0, 0, 0, 0, 0, 0, 0, 0, 0, 0, 0, 0, 0, 0, 0, 0, 0, 0, 0, 0, 0, 0, 0, 0, 0, 0], [-0.0002076969859627589, 0.001170607591982639, 3.928121906839782e-06, -0.0005921913416808014, 0.0005548415173301204, -6.19607472563765e-05, 5.4746477485145045e-05, 0.0006533848100584563, 0, 0, 0, 0, 0, 0, 0, 0, 0, 0, 0, 0, 0, 0, 0, 0, 0, 0, 0, 0, 0, 0, 0, 0, 0, 0, 0, 0, 0, 0, 0, 0, 0, 0, 0, 0, 0, 0, 0, 0, 0, 0, 0, 0, 0, 0], [2.693935599028102e-05, 0.00019006030287956006, 0.00042068334830014457, 8.468035980068931e-07, 0.00043270081958867384, -0.0003777317524205242, 0.00041307966937518506, 9.78802367872567e-05, 0, 0, 0, 0, 0, 0, 0, 0, 0, 0, 0, 0, 0, 0, 0, 0, 0, 0, 0, 0, 0, 0, 0, 0, 0, 0, 0, 0, 0, 0, 0, 0, 0, 0, 0, 0, 0, 0, 0, 0, 0, 0, 0, 0, 0, 0], [-0.0001274852797127681, -0.00011548967057175775, -0.00013798516924716593, 0.0003181374083891732, 0.0010470380999786334, -0.00028110416475955464, 0.00019657641350882628, -1.5472879874147e-05, 0.0001877860337450601, -3.387571642546541e-05, 0, 0, 0, 0, 0, 0, 0, 0, 0, 0, 0, 0, 0, 0, 0, 0, 0, 0, 0, 0, 0, 0, 0, 0, 0, 0, 0, 0, 0, 0, 0, 0, 0, 0, 0, 0, 0, 0, 0, 0, 0, 0, 0, 0], [0.0010470380999786334, -0.00016134060788810655, 0.0003901573780986531, 0.00030989552294762696, 0.0010470380999786334, 2.0813721798129815e-06, -0.00012759049325895532, 0.00040845724474917127, 0, 0, 0, 0, 0, 0, 0, 0, 0, 0, 0, 0, 0, 0, 0, 0, 0, 0, 0, 0, 0, 0, 0, 0, 0, 0, 0, 0, 0, 0, 0, 0, 0, 0, 0, 0, 0, 0, 0, 0, 0, 0, 0, 0, 0, 0], [0.0001258903561636308, -0.0005921913416808014, -0.000284995895225313, 0.0001961353220110881, 0.001170607591982639, 0.00039762099861804395, 0.001170607591982639, 0.00047397409047654634, 0.00023373737212059806, 0, 0, 0, 0, 0, 0, 0, 0, 0, 0, 0, 0, 0, 0, 0, 0, 0, 0, 0, 0, 0, 0, 0, 0, 0, 0, 0, 0, 0, 0, 0, 0, 0, 0, 0, 0, 0, 0, 0, 0, 0, 0, 0, 0, 0], [-0.00037340550002563954, 0.00038472375175161485, -4.735662732996233e-05, -0.00042340850204214143, 0.000444953540819543, 7.515715336536462e-05, -0.00033876583659962057, 0.00025221647957246793, -0.00025549713266400655, 9.932707850847287e-05, -0.00021788609321666443, 2.078256391636844e-05, 0.0010470380999786334, -0.0007837044163749383, -0.00017015515461582021, 0, 0, 0, 0, 0, 0, 0, 0, 0, 0, 0, 0, 0, 0, 0, 0, 0, 0, 0, 0, 0, 0, 0, 0, 0, 0, 0, 0, 0, 0, 0, 0, 0, 0, 0, 0, 0, 0, 0], [0.0001262721481801651, -0.0002525112787392942, 5.492325001444063e-05, 0.00044880600641233057, 0.00020662420489965603, 0, 0, 0, 0, 0, 0, 0, 0, 0, 0, 0, 0, 0, 0, 0, 0, 0, 0, 0, 0, 0, 0, 0, 0, 0, 0, 0, 0, 0, 0, 0, 0, 0, 0, 0, 0, 0, 0, 0, 0, 0, 0, 0, 0, 0, 0, 0, 0, 0], [-0.0005921913416808014, 1.948221958054929e-05, 0.0003234405588112455, -0.000636722718215187, 0.0005268607563192762, -0.0004499915497920455, 1.0194902445689532e-06, -0.000567426355190359, 3.3667860979303634e-05, 0, 0, 0, 0, 0, 0, 0, 0, 0, 0, 0, 0, 0, 0, 0, 0, 0, 0, 0, 0, 0, 0, 0, 0, 0, 0, 0, 0, 0, 0, 0, 0, 0, 0, 0, 0, 0, 0, 0, 0, 0, 0, 0, 0, 0], [0.00044019061500191406, 0.0002926294627488916, -0.0001274852797127681, 0.0010470380999786334, -3.34831380203823e-05, -9.83044468267219e-05, 2.4145361899649903e-05, -0.0005165233074590201, 0, 0, 0, 0, 0, 0, 0, 0, 0, 0, 0, 0, 0, 0, 0, 0, 0, 0, 0, 0, 0, 0, 0, 0, 0, 0, 0, 0, 0, 0, 0, 0, 0, 0, 0, 0, 0, 0, 0, 0, 0, 0, 0, 0, 0, 0], [0.0002483908709074587, -0.0005932959557323037, -5.365534390852436e-05, -0.00020555041959516345, 0, 0, 0, 0, 0, 0, 0, 0, 0, 0, 0, 0, 0, 0, 0, 0, 0, 0, 0, 0, 0, 0, 0, 0, 0, 0, 0, 0, 0, 0, 0, 0, 0, 0, 0, 0, 0, 0, 0, 0, 0, 0, 0, 0, 0, 0, 0, 0, 0, 0], [-5.8503966842481095e-05, -0.00027480811664525566, 0.00028349229217447937, -0.00019674969444992998, -0.00032054585441265574, 0.00012744814719682312, 0.00042562442281862206, 0.00041382566206740615, -0.0001233554330927554, -0.00028482761866403377, 0.0005553060720122527, -0.000419635434311875, 0, 0, 0, 0, 0, 0, 0, 0, 0, 0, 0, 0, 0, 0, 0, 0, 0, 0, 0, 0, 0, 0, 0, 0, 0, 0, 0, 0, 0, 0, 0, 0, 0, 0, 0, 0, 0, 0, 0, 0, 0, 0], [-0.00011398225318137774, 0.00015043762132166614, 0.00047901614516684927, 0.00024202245685798598, 0.00021753124087244217, -0.00016023895652631212, 0.0003181374083891732, -0.0005693944033099971, 0.0010470380999786334, -0.0001651890110028982, -0.00010446853212410311, -9.83044468267219e-05, 0.00035408080262730283, 0.0006080045145257234, -0.0005165233074590201, 0.00035408080262730283, 0.0006080045145257234, -0.00023587688656690264, -6.773549869658898e-05, 0.0002099121312537187, 0.0010470380999786334, -0.0001651890110028982, -0.00010446853212410311, 0.00020181720510255082, -0.0003242316146709217, -2.2411460769837173e-06, 0.00027428597411759966, 0.00015043762132166614, 0, 0, 0, 0, 0, 0, 0, 0, 0, 0, 0, 0, 0, 0, 0, 0, 0, 0, 0, 0, 0, 0, 0, 0, 0, 0], [-6.827799791428559e-05, 0.0003064804546395604, 0.0010470380999786334, 0.0008734490522283554, 0.00039979556205614044, 2.078256391636844e-05, -0.0003830954850299863, -6.827799791428559e-05, 9.087535046231957e-05, 2.078256391636844e-05, 0.0002549640942705953, 0.0010470380999786334, 0.0008734490522283554, 0.00040845724474917127, 0, 0, 0, 0, 0, 0, 0, 0, 0, 0, 0, 0, 0, 0, 0, 0, 0, 0, 0, 0, 0, 0, 0, 0, 0, 0, 0, 0, 0, 0, 0, 0, 0, 0, 0, 0, 0, 0, 0, 0], [0.0001513408628673957, 0.0010470380999786334, -0.00021111847223673905, 6.841664502434886e-05, -7.497985269123304e-05, 0.0010470380999786334, 0.0002878690959966241, 0.0002926294627488916, 0.0001413889605977473, 0.0010470380999786334, -9.886704730529567e-05, -0.0005497530743035624, 0, 0, 0, 0, 0, 0, 0, 0, 0, 0, 0, 0, 0, 0, 0, 0, 0, 0, 0, 0, 0, 0, 0, 0, 0, 0, 0, 0, 0, 0, 0, 0, 0, 0, 0, 0, 0, 0, 0, 0, 0, 0], [0.0010470380999786334, 0.0006799595886358908, 0.00036347845557977766, -0.00010319832714722459, 0.00040845724474917127, 0, 0, 0, 0, 0, 0, 0, 0, 0, 0, 0, 0, 0, 0, 0, 0, 0, 0, 0, 0, 0, 0, 0, 0, 0, 0, 0, 0, 0, 0, 0, 0, 0, 0, 0, 0, 0, 0, 0, 0, 0, 0, 0, 0, 0, 0, 0, 0, 0], [-0.0003155381730414042, -9.387746177848849e-05, -4.350558172268079e-05, -0.00011797500988906439, -0.0005921913416808014, -0.00020280828596438614, -0.0002944957160637197, 0.00020877574171055327, 7.748359424462527e-05, -2.326819129092041e-05, -0.0005921913416808014, 0.0004621696573712846, 0.00039570767064376483, 0, 0, 0, 0, 0, 0, 0, 0, 0, 0, 0, 0, 0, 0, 0, 0, 0, 0, 0, 0, 0, 0, 0, 0, 0, 0, 0, 0, 0, 0, 0, 0, 0, 0, 0, 0, 0, 0, 0, 0, 0], [-7.622069868303485e-05, -9.387746177848849e-05, -0.0002217296040896029, 0.0002926294627488916, 0.000200125695322568, -0.00047295827001036047, 0.0001800402225559886, -0.0005921913416808014, -0.00016134060788810655, 0.0001842178175928689, -0.0001708788695262253, 0, 0, 0, 0, 0, 0, 0, 0, 0, 0, 0, 0, 0, 0, 0, 0, 0, 0, 0, 0, 0, 0, 0, 0, 0, 0, 0, 0, 0, 0, 0, 0, 0, 0, 0, 0, 0, 0, 0, 0, 0, 0, 0], [0.0010470380999786334, -0.00016134060788810655, -0.000782746298564944, 0.00042207096828178676, 0.0002156011292821586, -0.000782746298564944, 0.0004850685636826305, 0.0010470380999786334, 0.00027783872195421004, 5.5482843009811645e-05, 3.359820656063327e-06, 0, 0, 0, 0, 0, 0, 0, 0, 0, 0, 0, 0, 0, 0, 0, 0, 0, 0, 0, 0, 0, 0, 0, 0, 0, 0, 0, 0, 0, 0, 0, 0, 0, 0, 0, 0, 0, 0, 0, 0, 0, 0, 0], [-0.0005000975188942355, -0.0002244053693117384, 0.0010470380999786334, 7.410956871639724e-05, 8.03027653891316e-05, 0, 0, 0, 0, 0, 0, 0, 0, 0, 0, 0, 0, 0, 0, 0, 0, 0, 0, 0, 0, 0, 0, 0, 0, 0, 0, 0, 0, 0, 0, 0, 0, 0, 0, 0, 0, 0, 0, 0, 0, 0, 0, 0, 0, 0, 0, 0, 0, 0], [-0.0001482189335372661, 0.00032654704256219303, -0.00011489712090861147, 1.951324990236449e-05, -8.093774448205507e-05, -9.83044468267219e-05, 2.4145361899649903e-05, 0.00023469331093861943, 0, 0, 0, 0, 0, 0, 0, 0, 0, 0, 0, 0, 0, 0, 0, 0, 0, 0, 0, 0, 0, 0, 0, 0, 0, 0, 0, 0, 0, 0, 0, 0, 0, 0, 0, 0, 0, 0, 0, 0, 0, 0, 0, 0, 0, 0], [-0.00046613816212362074, -1.3226401713007136e-05, 0.00020066277888788106, -9.387746177848849e-05, 0.00025987615130224523, 0.0010470380999786334, -0.00020416510232057776, -0.00032686171983225133, 0, 0, 0, 0, 0, 0, 0, 0, 0, 0, 0, 0, 0, 0, 0, 0, 0, 0, 0, 0, 0, 0, 0, 0, 0, 0, 0, 0, 0, 0, 0, 0, 0, 0, 0, 0, 0, 0, 0, 0, 0, 0, 0, 0, 0, 0], [-8.213999074816354e-05, -2.6357367709266195e-05, 7.648509973619792e-05, -9.079072330108912e-05, 0.0003447451759178674, 0.0010470380999786334, -0.000297178902498326, 0.00038663410201927303, 0.00011989916201478429, -2.943752634988866e-05, 5.1325174930453505e-05, 0.00031941314364215053, 0.0010470380999786334, -0.000297178902498326, 7.042366459727883e-05, 2.693935599028102e-05, 0.0001083700306361185, 0.00042322962748815736, 9.75806325103004e-05, 6.977256181859028e-05, 0.0010470380999786334, -0.00016453860244399675, -0.0002836766603734709, -0.00020037841770962703, 0.0005679436857004523, 9.426568355522317e-05, -0.0005556146003013703, -3.0016040657194044e-05, 0.00016969029642507975, 2.692841846790458e-05, 0, 0, 0, 0, 0, 0, 0, 0, 0, 0, 0, 0, 0, 0, 0, 0, 0, 0, 0, 0, 0, 0, 0, 0], [-3.8125149290290205e-05, -3.315511849140986e-05, -0.0004102826787453103, -6.321320145756938e-05, -0.00022879064139783633, 0.00013912848117822376, 0.0010470380999786334, 0.00023719986144162518, 0.00035785434372907564, -0.00025549713266400655, -0.000782746298564944, 0, 0, 0, 0, 0, 0, 0, 0, 0, 0, 0, 0, 0, 0, 0, 0, 0, 0, 0, 0, 0, 0, 0, 0, 0, 0, 0, 0, 0, 0, 0, 0, 0, 0, 0, 0, 0, 0, 0, 0, 0, 0, 0], [-0.00012805421772730608, -0.00035542462167461735, 7.757847638165481e-05, 8.617642199538697e-05, 1.951324990236449e-05, -2.1960193008869703e-05, 0.00022232521778473978, 0.0002099121312537187, 0.0001961353220110881, 0.001170607591982639, 0.0006083944990169883, 0.00013804972389912056, -7.497985269123304e-05, 0, 0, 0, 0, 0, 0, 0, 0, 0, 0, 0, 0, 0, 0, 0, 0, 0, 0, 0, 0, 0, 0, 0, 0, 0, 0, 0, 0, 0, 0, 0, 0, 0, 0, 0, 0, 0, 0, 0, 0, 0], [0.0003181374083891732, 0.0003202045038094991, -0.0003009425886411295, 0.00042488973642992845, 0.00035408080262730283, 1.1730564877914753e-05, 0.0005499488828695877, 0, 0, 0, 0, 0, 0, 0, 0, 0, 0, 0, 0, 0, 0, 0, 0, 0, 0, 0, 0, 0, 0, 0, 0, 0, 0, 0, 0, 0, 0, 0, 0, 0, 0, 0, 0, 0, 0, 0, 0, 0, 0, 0, 0, 0, 0, 0], [0.0002156011292821586, 0.0010470380999786334, 0.00011090872451256035, 0.0010470380999786334, 0.00021323379401712417, 0.00035303593873320003, 0.00038831189586899614, 0.00024131356336313525, 0, 0, 0, 0, 0, 0, 0, 0, 0, 0, 0, 0, 0, 0, 0, 0, 0, 0, 0, 0, 0, 0, 0, 0, 0, 0, 0, 0, 0, 0, 0, 0, 0, 0, 0, 0, 0, 0, 0, 0, 0, 0, 0, 0, 0, 0], [-0.0005420963074730435, 4.320347160467141e-05, 0.00033881694450468136, -0.00037340550002563954, 0.0004328057660457654, 0.0010470380999786334, 0, 0, 0, 0, 0, 0, 0, 0, 0, 0, 0, 0, 0, 0, 0, 0, 0, 0, 0, 0, 0, 0, 0, 0, 0, 0, 0, 0, 0, 0, 0, 0, 0, 0, 0, 0, 0, 0, 0, 0, 0, 0, 0, 0, 0, 0, 0, 0], [0.0002959216926923468, -4.174293273695026e-05, -0.0005224612143569252, -0.0003285454665637971, 0.0003642547219508269, 0.000200125695322568, 0.00035408080262730283, -0.00046021898384183117, 0.0002540304619552623, -0.00011548967057175775, 0.0010470380999786334, -0.0005494050332387081, 0, 0, 0, 0, 0, 0, 0, 0, 0, 0, 0, 0, 0, 0, 0, 0, 0, 0, 0, 0, 0, 0, 0, 0, 0, 0, 0, 0, 0, 0, 0, 0, 0, 0, 0, 0, 0, 0, 0, 0, 0, 0], [-0.00018523181477116555, 0.00012759812615067536, -0.0002039271637869388, 2.078256391636844e-05, 0.0001284456542856232, -0.000791316304555892, -0.0006436321852861617, -0.0002525112787392942, -0.0005921913416808014, 0.00069866708833749, 0, 0, 0, 0, 0, 0, 0, 0, 0, 0, 0, 0, 0, 0, 0, 0, 0, 0, 0, 0, 0, 0, 0, 0, 0, 0, 0, 0, 0, 0, 0, 0, 0, 0, 0, 0, 0, 0, 0, 0, 0, 0, 0, 0], [0.00014130247261085577, -0.0002752360703475898, -0.0005804631269976856, 0.001170607591982639, 7.410956871639724e-05, 0.00015666473737361024, -0.00017104858008959746, 0, 0, 0, 0, 0, 0, 0, 0, 0, 0, 0, 0, 0, 0, 0, 0, 0, 0, 0, 0, 0, 0, 0, 0, 0, 0, 0, 0, 0, 0, 0, 0, 0, 0, 0, 0, 0, 0, 0, 0, 0, 0, 0, 0, 0, 0, 0], [0.00016693952779585401, 0.00021720958008325164, 0.0010470380999786334, 0.00039352861041323903, -0.00043864671472540777, -9.83044468267219e-05, 0.0010470380999786334, -0.00013798516924716593, 0.0004925903466828615, -0.00026191066921068564, -0.0001930971813142571, 0, 0, 0, 0, 0, 0, 0, 0, 0, 0, 0, 0, 0, 0, 0, 0, 0, 0, 0, 0, 0, 0, 0, 0, 0, 0, 0, 0, 0, 0, 0, 0, 0, 0, 0, 0, 0, 0, 0, 0, 0, 0, 0], [0.0002130199998258811, 0.0003590429802972307, 0.0010470380999786334, 0.00039570767064376483, -7.696040492164941e-05, -2.321588656344415e-05, 0.0002926294627488916, -0.0006204830768748167, 4.4639963552954565e-05, 0, 0, 0, 0, 0, 0, 0, 0, 0, 0, 0, 0, 0, 0, 0, 0, 0, 0, 0, 0, 0, 0, 0, 0, 0, 0, 0, 0, 0, 0, 0, 0, 0, 0, 0, 0, 0, 0, 0, 0, 0, 0, 0, 0, 0], [-0.0001813402945686213, 0.00042322962748815736, 0.0010470380999786334, 0.00069866708833749, 0.00035303593873320003, -0.0007837044163749383, 0, 0, 0, 0, 0, 0, 0, 0, 0, 0, 0, 0, 0, 0, 0, 0, 0, 0, 0, 0, 0, 0, 0, 0, 0, 0, 0, 0, 0, 0, 0, 0, 0, 0, 0, 0, 0, 0, 0, 0, 0, 0, 0, 0, 0, 0, 0, 0], [0.0010470380999786334, 0.0001515760082789295, 6.718597793410613e-05, 5.345044786937973e-05, -0.0003863436328093033, -0.0005825529581834319, 0.00053137288210427, -3.9863584662256456e-05, 0, 0, 0, 0, 0, 0, 0, 0, 0, 0, 0, 0, 0, 0, 0, 0, 0, 0, 0, 0, 0, 0, 0, 0, 0, 0, 0, 0, 0, 0, 0, 0, 0, 0, 0, 0, 0, 0, 0, 0, 0, 0, 0, 0, 0, 0], [-0.0002217296040896029, -0.0002552910529448363, -0.00029065061784296526, -0.0002039271637869388, 1.4939358765557292e-05, 6.3205403574876196e-06, -3.0663529389382945e-05, -0.0001532446191971475, -0.00010115409416371056, 0.00035303593873320003, -0.0003892875211476462, 0.0010470380999786334, -0.00034852573178327414, 0, 0, 0, 0, 0, 0, 0, 0, 0, 0, 0, 0, 0, 0, 0, 0, 0, 0, 0, 0, 0, 0, 0, 0, 0, 0, 0, 0, 0, 0, 0, 0, 0, 0, 0, 0, 0, 0, 0, 0, 0], [-0.00010678040120582409, -8.566510106691582e-05, 1.951324990236449e-05, -8.093774448205507e-05, 3.239609942518626e-05, -0.0001482189335372661, 0.0002688342189910409, -0.00045772969476156667, -0.0005170071177179852, -0.000168714533459172, 0.0010470380999786334, -0.0004162422484039225, -0.0003997121622038824, -0.00019105377432528784, -4.2842762676402814e-05, 8.556240092661347e-05, 0.0003970033882894573, -0.0002434336931520911, 0, 0, 0, 0, 0, 0, 0, 0, 0, 0, 0, 0, 0, 0, 0, 0, 0, 0, 0, 0, 0, 0, 0, 0, 0, 0, 0, 0, 0, 0, 0, 0, 0, 0, 0, 0], [0.0004257404983919192, 0.0002116241420528746, -0.0005921913416808014, -0.00020389319084794196, -0.00021071729122037122, -3.9863584662256456e-05, 0, 0, 0, 0, 0, 0, 0, 0, 0, 0, 0, 0, 0, 0, 0, 0, 0, 0, 0, 0, 0, 0, 0, 0, 0, 0, 0, 0, 0, 0, 0, 0, 0, 0, 0, 0, 0, 0, 0, 0, 0, 0, 0, 0, 0, 0, 0, 0], [-0.00015209580700744366, 0.00031621210711778, 0.001170607591982639, -0.00017847619556556472, -0.00011871785353627639, 6.193076928620426e-05, 0.00039979556205614044, 1.0879662053291606e-05, 0.0002862933923919218, -0.0003581671250223528, 0.00021927356532528764, 0.00016825012130136565, 2.495060966363089e-05, 0.0010470380999786334, -0.00016453860244399675, 0.00012744814719682312, 0.0010470380999786334, -0.0002451871457656207, -0.0005518958362791856, 3.3024819788084453e-06, -0.00012563561431371383, -9.084233499484687e-05, 0.00035289202142147, 0.001170607591982639, -0.00022852879768684508, -0.00015313077062740327, -0.00015313077062740327, 0, 0, 0, 0, 0, 0, 0, 0, 0, 0, 0, 0, 0, 0, 0, 0, 0, 0, 0, 0, 0, 0, 0, 0, 0, 0, 0], [0.0006533848100584563, -0.0004505599761155054, 0.00047609769796085126, 0.0006083944990169883, 0.001170607591982639, 0.0002878690959966241, 0, 0, 0, 0, 0, 0, 0, 0, 0, 0, 0, 0, 0, 0, 0, 0, 0, 0, 0, 0, 0, 0, 0, 0, 0, 0, 0, 0, 0, 0, 0, 0, 0, 0, 0, 0, 0, 0, 0, 0, 0, 0, 0, 0, 0, 0, 0, 0], [0.0010470380999786334, -3.066336637371542e-05, -0.00010034990696015108, 6.894364169087601e-05, 0, 0, 0, 0, 0, 0, 0, 0, 0, 0, 0, 0, 0, 0, 0, 0, 0, 0, 0, 0, 0, 0, 0, 0, 0, 0, 0, 0, 0, 0, 0, 0, 0, 0, 0, 0, 0, 0, 0, 0, 0, 0, 0, 0, 0, 0, 0, 0, 0, 0], [0.0010470380999786334, 0.000623592535269901, 3.239609942518626e-05, 0, 0, 0, 0, 0, 0, 0, 0, 0, 0, 0, 0, 0, 0, 0, 0, 0, 0, 0, 0, 0, 0, 0, 0, 0, 0, 0, 0, 0, 0, 0, 0, 0, 0, 0, 0, 0, 0, 0, 0, 0, 0, 0, 0, 0, 0, 0, 0, 0, 0, 0], [0.00018423278576046399, -0.00034405427480619895, -3.343572524587553e-05, -0.0005107768900254279, -0.0001114076664171772, -0.00021111847223673905, 0.0010470380999786334, -8.75880579081861e-05, 0.00014374547832093107, -0.00010211523533698679, 0, 0, 0, 0, 0, 0, 0, 0, 0, 0, 0, 0, 0, 0, 0, 0, 0, 0, 0, 0, 0, 0, 0, 0, 0, 0, 0, 0, 0, 0, 0, 0, 0, 0, 0, 0, 0, 0, 0, 0, 0, 0, 0, 0], [0.00035289202142147, 0.001170607591982639, 0.00023469331093861943, 0, 0, 0, 0, 0, 0, 0, 0, 0, 0, 0, 0, 0, 0, 0, 0, 0, 0, 0, 0, 0, 0, 0, 0, 0, 0, 0, 0, 0, 0, 0, 0, 0, 0, 0, 0, 0, 0, 0, 0, 0, 0, 0, 0, 0, 0, 0, 0, 0, 0, 0], [-1.752817192797822e-05, 0.0006083944990169883, -3.066336637371542e-05, 0.0003181374083891732, -0.0005015558903939393, -0.00019882088836194363, 0.00019980772495765465, 6.408639773703541e-05, 8.772413874158355e-05, 0, 0, 0, 0, 0, 0, 0, 0, 0, 0, 0, 0, 0, 0, 0, 0, 0, 0, 0, 0, 0, 0, 0, 0, 0, 0, 0, 0, 0, 0, 0, 0, 0, 0, 0, 0, 0, 0, 0, 0, 0, 0, 0, 0, 0], [-0.00028871780377243665, 0.0004491251974488371, 0.0005135347243264921, -0.00019941405611297814, 0.0002060253170055016, 0.0010470380999786334, 0.00038420637536731275, 0.0003852799819741181, -0.0003982286659713259, -0.00014687688492062947, 0.0007078188518040718, 0.00017042679132486032, 0.0005135347243264921, -0.0006492092563379467, 0, 0, 0, 0, 0, 0, 0, 0, 0, 0, 0, 0, 0, 0, 0, 0, 0, 0, 0, 0, 0, 0, 0, 0, 0, 0, 0, 0, 0, 0, 0, 0, 0, 0, 0, 0, 0, 0, 0, 0], [-0.00011058492014012154, 0.00010452428424325647, -0.00014869442546751294, 3.099748065715927e-05, 0.0006744147872885623, -7.311122105304046e-06, -0.0001233554330927554, -0.00014869442546751294, 3.099748065715927e-05, 0.0006744147872885623, 6.582499812341061e-05, 9.401881310313192e-05, 0.0006651664660022699, -0.0007837044163749383, 0.00038831189586899614, 0.00035408080262730283, -0.000438992557406844, -0.00020416510232057776, 0.00018627304219995006, 0, 0, 0, 0, 0, 0, 0, 0, 0, 0, 0, 0, 0, 0, 0, 0, 0, 0, 0, 0, 0, 0, 0, 0, 0, 0, 0, 0, 0, 0, 0, 0, 0, 0, 0], [0.00035408080262730283, 3.670201560629866e-05, -6.190998367867758e-06, -6.19607472563765e-05, 0.00042573115364870703, 0.0005757241573176104, -0.00016134060788810655, 0, 0, 0, 0, 0, 0, 0, 0, 0, 0, 0, 0, 0, 0, 0, 0, 0, 0, 0, 0, 0, 0, 0, 0, 0, 0, 0, 0, 0, 0, 0, 0, 0, 0, 0, 0, 0, 0, 0, 0, 0, 0, 0, 0, 0, 0, 0], [-0.0002686360539219791, 0.0010470380999786334, -0.00023134008122156793, -6.773549869658898e-05, 0.00019695846102902418, 0.00024053356766294678, -0.00013259651628077997, 0.00010765574520412525, -0.00025549713266400655, -0.0004825723865208764, 0.000623592535269901, -0.00015506490196710423, 0.0001961353220110881, 0.00014648664207752088, 0.00035449918817280615, -0.000210061392408885, -0.00014987406441110555, 0.00035408080262730283, -0.0004311872802799006, 0.00017922238238084025, -0.0003997121622038824, -6.773549869658898e-05, 0.00017449158265772085, 0.00041079777317949587, -0.000541738469008701, -0.00032161040770378686, -0.0003128203547357609, -2.7652674948705052e-05, -0.000362234037695784, -0.0003128203547357609, 9.320268145551462e-05, -0.0001687218826779395, 0.00034439569769722345, -0.00028363340021688544, 0.000664124633828633, -0.00015386710393217655, 0.0002253826091469199, 9.94168595932746e-05, 0.0010470380999786334, 0.00034726127415991127, 0.0003990124683794778, -0.00040717057329978367, -0.00024283293251601258, -0.00013355730290008508, 3.6707048264376944e-05, 0.0003351727842668187, -0.0003932236563181394, 0.00025221647957246793, -3.4722066981265936e-05, -0.0008334281792761748, 0, 0, 0, 0], [0.0010470380999786334, 0.0004281632315561397, 5.184285437356178e-05, -9.387746177848849e-05, 0, 0, 0, 0, 0, 0, 0, 0, 0, 0, 0, 0, 0, 0, 0, 0, 0, 0, 0, 0, 0, 0, 0, 0, 0, 0, 0, 0, 0, 0, 0, 0, 0, 0, 0, 0, 0, 0, 0, 0, 0, 0, 0, 0, 0, 0, 0, 0, 0, 0], [0.0010470380999786334, -0.0001861088891939263, -0.00010925882542033219, 4.713253905111637e-06, 9.999797900992071e-05, 0.00015266091949319555, 0.0002926294627488916, -4.441987676358109e-05, 1.951324990236449e-05, -9.83044468267219e-05, 0.00035408080262730283, 4.428189672947362e-05, 0.0001675863712218723, 0, 0, 0, 0, 0, 0, 0, 0, 0, 0, 0, 0, 0, 0, 0, 0, 0, 0, 0, 0, 0, 0, 0, 0, 0, 0, 0, 0, 0, 0, 0, 0, 0, 0, 0, 0, 0, 0, 0, 0, 0], [0.00030612559051508656, 0.0002783565932680862, -3.237059362396527e-05, -9.83044468267219e-05, 0.00039762099861804395, 0.001170607591982639, 0.0006083944990169883, 0.00042573115364870703, 0, 0, 0, 0, 0, 0, 0, 0, 0, 0, 0, 0, 0, 0, 0, 0, 0, 0, 0, 0, 0, 0, 0, 0, 0, 0, 0, 0, 0, 0, 0, 0, 0, 0, 0, 0, 0, 0, 0, 0, 0, 0, 0, 0, 0, 0], [0.0010470380999786334, -0.00017728426245778813, -0.00034280910028255756, 0.00048634381137043376, 0, 0, 0, 0, 0, 0, 0, 0, 0, 0, 0, 0, 0, 0, 0, 0, 0, 0, 0, 0, 0, 0, 0, 0, 0, 0, 0, 0, 0, 0, 0, 0, 0, 0, 0, 0, 0, 0, 0, 0, 0, 0, 0, 0, 0, 0, 0, 0, 0, 0], [0.0005385102823648388, 0.00035408080262730283, 0.0002053651397715234, -1.740313614077144e-05, -0.00010925882542033219, -0.0001601891391374894, -0.0005151365999926861, -0.00041414001895912774, -0.00010716818098113736, -0.00014942407461619237, -0.0005288989026771902, 0.00019840669406879407, 0.0010470380999786334, 0.00019630266460161826, 2.078256391636844e-05, 0.00034576820548685424, -0.0001233554330927554, -0.0005948924470530411, 0.00016989337279882508, 7.891381495416611e-06, -0.00010446853212410311, 0.0003266176782465239, -9.83044468267219e-05, -0.00037340550002563954, 0.0010470380999786334, -0.0005165233074590201, -0.0001598220346172097, -0.00046112566620126104, -0.0003892875211476462, -0.00011228607755789557, -0.0002921908902440246, 0, 0, 0, 0, 0, 0, 0, 0, 0, 0, 0, 0, 0, 0, 0, 0, 0, 0, 0, 0, 0, 0, 0], [-0.00014252525029365145, 0.0010470380999786334, -0.0003783990084494309, 0, 0, 0, 0, 0, 0, 0, 0, 0, 0, 0, 0, 0, 0, 0, 0, 0, 0, 0, 0, 0, 0, 0, 0, 0, 0, 0, 0, 0, 0, 0, 0, 0, 0, 0, 0, 0, 0, 0, 0, 0, 0, 0, 0, 0, 0, 0, 0, 0, 0, 0], [0.000491465635553961, 0.0004024034786624689, 0.0003181721411996319, -0.0002091191807472109, -0.0001274852797127681, 0.00018717580186995134, 0.00033904964085980214, -0.0007837044163749383, 0, 0, 0, 0, 0, 0, 0, 0, 0, 0, 0, 0, 0, 0, 0, 0, 0, 0, 0, 0, 0, 0, 0, 0, 0, 0, 0, 0, 0, 0, 0, 0, 0, 0, 0, 0, 0, 0, 0, 0, 0, 0, 0, 0, 0, 0], [0.0010470380999786334, 0.00017449158265772085, -0.0005785592986205051, -0.0004967976096913504, 4.429160656139418e-05, 6.517306319149632e-06, -1.5082934785647125e-05, -5.1498271514396585e-05, 0.0002030689701423733, 2.986292190794374e-05, 0.0002878690959966241, 0.0002600830313925467, 0, 0, 0, 0, 0, 0, 0, 0, 0, 0, 0, 0, 0, 0, 0, 0, 0, 0, 0, 0, 0, 0, 0, 0, 0, 0, 0, 0, 0, 0, 0, 0, 0, 0, 0, 0, 0, 0, 0, 0, 0, 0], [7.498051412863161e-05, 0.0002447789933346348, 0.00042924197894623426, 0.00012505200350683966, -9.419969181997561e-05, -7.739976738450839e-05, -0.00010683053893170638, -0.0003892875211476462, -0.00047295827001036047, 0.0003181374083891732, 0.0004872850594420467, 0.0010470380999786334, 0.0008734490522283554, 0.00040845724474917127, 0, 0, 0, 0, 0, 0, 0, 0, 0, 0, 0, 0, 0, 0, 0, 0, 0, 0, 0, 0, 0, 0, 0, 0, 0, 0, 0, 0, 0, 0, 0, 0, 0, 0, 0, 0, 0, 0, 0, 0], [-5.546825335686564e-05, -0.0005694695378711007, -0.0005921913416808014, 0.0004953732546877659, 0.00037634890877500277, -0.00020416510232057776, -4.427946856085359e-05, 6.052248588810087e-05, 0, 0, 0, 0, 0, 0, 0, 0, 0, 0, 0, 0, 0, 0, 0, 0, 0, 0, 0, 0, 0, 0, 0, 0, 0, 0, 0, 0, 0, 0, 0, 0, 0, 0, 0, 0, 0, 0, 0, 0, 0, 0, 0, 0, 0, 0], [-9.83044468267219e-05, 5.4746477485145045e-05, -3.9162386695757326e-05, 0.00038831189586899614, 0.00024131356336313525, -9.83044468267219e-05, 0, 0, 0, 0, 0, 0, 0, 0, 0, 0, 0, 0, 0, 0, 0, 0, 0, 0, 0, 0, 0, 0, 0, 0, 0, 0, 0, 0, 0, 0, 0, 0, 0, 0, 0, 0, 0, 0, 0, 0, 0, 0, 0, 0, 0, 0, 0, 0], [-0.0005921913416808014, -5.227149579913111e-06, 0.0003268285790726003, 0.0002614702735132349, 6.977256181859028e-05, 0.0005757241573176104, -0.0005921913416808014, -0.00016134060788810655, 0, 0, 0, 0, 0, 0, 0, 0, 0, 0, 0, 0, 0, 0, 0, 0, 0, 0, 0, 0, 0, 0, 0, 0, 0, 0, 0, 0, 0, 0, 0, 0, 0, 0, 0, 0, 0, 0, 0, 0, 0, 0, 0, 0, 0, 0], [-2.5941368024786064e-06, 8.20831715397502e-05, -0.0005921913416808014, -2.835113959590073e-05, 0.00023373737212059806, 0, 0, 0, 0, 0, 0, 0, 0, 0, 0, 0, 0, 0, 0, 0, 0, 0, 0, 0, 0, 0, 0, 0, 0, 0, 0, 0, 0, 0, 0, 0, 0, 0, 0, 0, 0, 0, 0, 0, 0, 0, 0, 0, 0, 0, 0, 0, 0, 0], [0.00026594242043897527, -0.0005921913416808014, -0.00029344766596966723, 0.0005778581375679041, 8.25745930148478e-05, 0.0001807780974751444, -0.0003117028046987831, -5.968289740320747e-05, 0, 0, 0, 0, 0, 0, 0, 0, 0, 0, 0, 0, 0, 0, 0, 0, 0, 0, 0, 0, 0, 0, 0, 0, 0, 0, 0, 0, 0, 0, 0, 0, 0, 0, 0, 0, 0, 0, 0, 0, 0, 0, 0, 0, 0, 0], [0.0006799595886358908, 0.00035408080262730283, 0.0006560774838477594, 0.001170607591982639, -0.00010446853212410311, 4.86535088191295e-05, -9.387746177848849e-05, 0.00016258270874191505, -0.0001429245729326401, -4.274342783507964e-05, 2.078256391636844e-05, -0.00012938642691618827, 0.00037660761785517283, 0.0010470380999786334, 0, 0, 0, 0, 0, 0, 0, 0, 0, 0, 0, 0, 0, 0, 0, 0, 0, 0, 0, 0, 0, 0, 0, 0, 0, 0, 0, 0, 0, 0, 0, 0, 0, 0, 0, 0, 0, 0, 0, 0], [0.0010470380999786334, -0.0003926977677937011, -0.0003778115691415506, 0.000200125695322568, 0, 0, 0, 0, 0, 0, 0, 0, 0, 0, 0, 0, 0, 0, 0, 0, 0, 0, 0, 0, 0, 0, 0, 0, 0, 0, 0, 0, 0, 0, 0, 0, 0, 0, 0, 0, 0, 0, 0, 0, 0, 0, 0, 0, 0, 0, 0, 0, 0, 0], [-8.975044838953263e-05, 0.00015700166610192704, 0.0010470380999786334, -0.00027121140502781244, 0.00018663133717603103, 0.0010470380999786334, 0.0003945594048572179, -0.0002702203910356805, -8.975044838953263e-05, -0.00013355730290008508, 0, 0, 0, 0, 0, 0, 0, 0, 0, 0, 0, 0, 0, 0, 0, 0, 0, 0, 0, 0, 0, 0, 0, 0, 0, 0, 0, 0, 0, 0, 0, 0, 0, 0, 0, 0, 0, 0, 0, 0, 0, 0, 0, 0], [-0.0004522284018564716, 1.4939358765557292e-05, 0.00040167569419729746, 0.0006083944990169883, 0.00012744814719682312, -8.093774448205507e-05, -9.83044468267219e-05, -8.286935554656414e-05, 2.4145361899649903e-05, -0.00022819202221260686, 0, 0, 0, 0, 0, 0, 0, 0, 0, 0, 0, 0, 0, 0, 0, 0, 0, 0, 0, 0, 0, 0, 0, 0, 0, 0, 0, 0, 0, 0, 0, 0, 0, 0, 0, 0, 0, 0, 0, 0, 0, 0, 0, 0], [-0.0003871418620667496, 0.000305065304888481, -0.00048232192644330257, -3.842912249711189e-05, -0.00025820554950698246, -0.00019830282602913845, 4.527340717018103e-05, 0.0003181374083891732, -0.00021788609321666443, 2.078256391636844e-05, -0.0002549254638799184, 2.078256391636844e-05, -0.0005608102225433833, -0.0001762824571488062, 0.0006799595886358908, 0.00035408080262730283, -0.0004738809671508205, -0.0002707644777839793, -0.0001233554330927554, -0.00014987406441110555, -0.00025549713266400655, -0.00032915677620084014, 0, 0, 0, 0, 0, 0, 0, 0, 0, 0, 0, 0, 0, 0, 0, 0, 0, 0, 0, 0, 0, 0, 0, 0, 0, 0, 0, 0, 0, 0, 0, 0], [0.00015043762132166614, 0.00020169905966406582, 0.0002017534377568102, -3.066336637371542e-05, -0.0003997121622038824, 0, 0, 0, 0, 0, 0, 0, 0, 0, 0, 0, 0, 0, 0, 0, 0, 0, 0, 0, 0, 0, 0, 0, 0, 0, 0, 0, 0, 0, 0, 0, 0, 0, 0, 0, 0, 0, 0, 0, 0, 0, 0, 0, 0, 0, 0, 0, 0, 0], [0.00011261516963246978, 0.00031941314364215053, 0.0002742591905262644, -0.00023587688656690264, 8.302862433277941e-05, 2.0813721798129815e-06, 0.00013912848117822376, -0.00018292523020189952, -0.00010446853212410311, 0.0002120902347160493, -0.00047203512180592504, -3.551419380019064e-05, 0.0004341562540324747, -0.0004102826787453103, -9.387746177848849e-05, 0.0002742591905262644, 0.00035162018119089256, 0, 0, 0, 0, 0, 0, 0, 0, 0, 0, 0, 0, 0, 0, 0, 0, 0, 0, 0, 0, 0, 0, 0, 0, 0, 0, 0, 0, 0, 0, 0, 0, 0, 0, 0, 0, 0], [0.0006799595886358908, 0.00035408080262730283, 0.0006560774838477594, 0.001170607591982639, -0.00010446853212410311, 4.86535088191295e-05, -9.387746177848849e-05, 0.00016258270874191505, -0.0001429245729326401, -4.274342783507964e-05, 2.078256391636844e-05, -0.00012938642691618827, 0.00037660761785517283, 0.0010470380999786334, 0, 0, 0, 0, 0, 0, 0, 0, 0, 0, 0, 0, 0, 0, 0, 0, 0, 0, 0, 0, 0, 0, 0, 0, 0, 0, 0, 0, 0, 0, 0, 0, 0, 0, 0, 0, 0, 0, 0, 0], [-0.0001286056109871414, 1.0879662053291606e-05, -0.00013798516924716593, 0.00023719986144162518, -1.3226401713007136e-05, -0.00018075361504539945, -0.000407130792825494, 0.00018717580186995134, 0.00019657641350882628, 0.00026665422486386544, 0.001170607591982639, 0.0003689516092767987, 0.0001345170282540923, -0.00048547450245308837, 0.0001430821888201349, -0.0005007374768128862, 3.248955258938972e-05, -6.596534979065663e-05, 0, 0, 0, 0, 0, 0, 0, 0, 0, 0, 0, 0, 0, 0, 0, 0, 0, 0, 0, 0, 0, 0, 0, 0, 0, 0, 0, 0, 0, 0, 0, 0, 0, 0, 0, 0], [6.517306319149632e-06, 0.0002156011292821586, -0.0005224612143569252, 6.517306319149632e-06, -0.00011545328844948714, 0.00029933870113585577, -6.19607472563765e-05, 0, 0, 0, 0, 0, 0, 0, 0, 0, 0, 0, 0, 0, 0, 0, 0, 0, 0, 0, 0, 0, 0, 0, 0, 0, 0, 0, 0, 0, 0, 0, 0, 0, 0, 0, 0, 0, 0, 0, 0, 0, 0, 0, 0, 0, 0, 0], [0.0001502998572499209, 0.0002442475627581676, 0.00035408080262730283, 0.0006080045145257234, -0.00022819202221260686, -0.0004092999862875305, 0.0005135347243264921, 0.00014214030398299954, -0.00034405427480619895, 0.00023719986144162518, 6.89241022772974e-05, 0.0004084534053571217, 0, 0, 0, 0, 0, 0, 0, 0, 0, 0, 0, 0, 0, 0, 0, 0, 0, 0, 0, 0, 0, 0, 0, 0, 0, 0, 0, 0, 0, 0, 0, 0, 0, 0, 0, 0, 0, 0, 0, 0, 0, 0], [0.0010470380999786334, 0.0004902336494093276, -0.00014057951606182597, 0, 0, 0, 0, 0, 0, 0, 0, 0, 0, 0, 0, 0, 0, 0, 0, 0, 0, 0, 0, 0, 0, 0, 0, 0, 0, 0, 0, 0, 0, 0, 0, 0, 0, 0, 0, 0, 0, 0, 0, 0, 0, 0, 0, 0, 0, 0, 0, 0, 0, 0], [0.00035408080262730283, -0.00020250896536072282, -9.387746177848849e-05, 0.00017042679132486032, 6.119164312762566e-05, 0.00010368274368538911, -0.0003575531292478619, 0.0010470380999786334, 5.184285437356178e-05, 0.0006799595886358908, -0.00026589726961335336, -0.00022537925370355407, 0.00017042679132486032, 0.00034726127415991127, 0.0004872850594420467, 0, 0, 0, 0, 0, 0, 0, 0, 0, 0, 0, 0, 0, 0, 0, 0, 0, 0, 0, 0, 0, 0, 0, 0, 0, 0, 0, 0, 0, 0, 0, 0, 0, 0, 0, 0, 0, 0, 0], [0.0006533848100584563, -9.387746177848849e-05, -0.0003009974508153254, 0.00035408080262730283, 0.0006560774838477594, 0.001170607591982639, 0.0006083944990169883, 0.00024866803208165245, -6.29061710092001e-06, -9.387746177848849e-05, -0.0003009974508153254, 1.3035466609882373e-05, 0.00028608331410400053, 0.0003064804546395604, -0.00042074470421930756, 0.00022203730536495342, -0.000206314800883401, 0.00040845724474917127, -1.7989986710142835e-05, 2.967733942061756e-05, 0.0004850685636826305, 0, 0, 0, 0, 0, 0, 0, 0, 0, 0, 0, 0, 0, 0, 0, 0, 0, 0, 0, 0, 0, 0, 0, 0, 0, 0, 0, 0, 0, 0, 0, 0, 0], [0.0006533848100584563, 0.00047609769796085126, 0.0006083944990169883, 0.001170607591982639, 0.00039762099861804395, 0.0005548415173301204, 0, 0, 0, 0, 0, 0, 0, 0, 0, 0, 0, 0, 0, 0, 0, 0, 0, 0, 0, 0, 0, 0, 0, 0, 0, 0, 0, 0, 0, 0, 0, 0, 0, 0, 0, 0, 0, 0, 0, 0, 0, 0, 0, 0, 0, 0, 0, 0], [0.00017850527658924201, 7.7699487340325e-05, 5.1325174930453505e-05, 0.0002744086968225768, 1.3370736036559874e-06, -0.0002695467737832683, -0.0002217296040896029, -0.00010659382256011384, 6.977256181859028e-05, 0.0010470380999786334, -0.00016134060788810655, 0, 0, 0, 0, 0, 0, 0, 0, 0, 0, 0, 0, 0, 0, 0, 0, 0, 0, 0, 0, 0, 0, 0, 0, 0, 0, 0, 0, 0, 0, 0, 0, 0, 0, 0, 0, 0, 0, 0, 0, 0, 0, 0], [-0.0002726139215610751, -0.0001286056109871414, 4.428189672947362e-05, -9.83044468267219e-05, -0.00010811151887269622, 0, 0, 0, 0, 0, 0, 0, 0, 0, 0, 0, 0, 0, 0, 0, 0, 0, 0, 0, 0, 0, 0, 0, 0, 0, 0, 0, 0, 0, 0, 0, 0, 0, 0, 0, 0, 0, 0, 0, 0, 0, 0, 0, 0, 0, 0, 0, 0, 0], [0.0010470380999786334, -0.00017728426245778813, -9.387746177848849e-05, -0.0002217296040896029, -0.0003110822069875336, -0.0003178469035603922, 0.0010470380999786334, 0.00048634381137043376, -2.5400026900626865e-05, -6.007361241513828e-05, 0.0010470380999786334, 7.410956871639724e-05, -0.000366299419067777, 0, 0, 0, 0, 0, 0, 0, 0, 0, 0, 0, 0, 0, 0, 0, 0, 0, 0, 0, 0, 0, 0, 0, 0, 0, 0, 0, 0, 0, 0, 0, 0, 0, 0, 0, 0, 0, 0, 0, 0, 0], [0.0010470380999786334, -0.00033873859181217326, 0, 0, 0, 0, 0, 0, 0, 0, 0, 0, 0, 0, 0, 0, 0, 0, 0, 0, 0, 0, 0, 0, 0, 0, 0, 0, 0, 0, 0, 0, 0, 0, 0, 0, 0, 0, 0, 0, 0, 0, 0, 0, 0, 0, 0, 0, 0, 0, 0, 0, 0, 0], [-0.0005921913416808014, -0.00032331999564472744, -0.0005405460241126989, 0.00017658882875104756, 0.00045971635367404506, 0.00026347473813033705, -0.00014830141730831644, 0, 0, 0, 0, 0, 0, 0, 0, 0, 0, 0, 0, 0, 0, 0, 0, 0, 0, 0, 0, 0, 0, 0, 0, 0, 0, 0, 0, 0, 0, 0, 0, 0, 0, 0, 0, 0, 0, 0, 0, 0, 0, 0, 0, 0, 0, 0], [-9.83044468267219e-05, 0.00011442280389344293, 0.00035289202142147, -0.0005982684759485006, -0.00013798516924716593, 0, 0, 0, 0, 0, 0, 0, 0, 0, 0, 0, 0, 0, 0, 0, 0, 0, 0, 0, 0, 0, 0, 0, 0, 0, 0, 0, 0, 0, 0, 0, 0, 0, 0, 0, 0, 0, 0, 0, 0, 0, 0, 0, 0, 0, 0, 0, 0, 0], [-0.00020608402598015326, 0.0004136397967610048, 0.00036125768330255936, -0.0003462917265417839, 0.00015710405928896963, -0.00039246257126019003, -0.0005921913416808014, 0.00012744814719682312, -7.953261763068206e-05, 0, 0, 0, 0, 0, 0, 0, 0, 0, 0, 0, 0, 0, 0, 0, 0, 0, 0, 0, 0, 0, 0, 0, 0, 0, 0, 0, 0, 0, 0, 0, 0, 0, 0, 0, 0, 0, 0, 0, 0, 0, 0, 0, 0, 0], [0.0010470380999786334, 0.00048634381137043376, -9.387746177848849e-05, -0.00043864671472540777, -0.0002810485446010534, -6.365505525955497e-05, -0.00012120651746609422, 0.0003091919330326068, 2.5320307415617805e-05, 0.000547392913820989, 0, 0, 0, 0, 0, 0, 0, 0, 0, 0, 0, 0, 0, 0, 0, 0, 0, 0, 0, 0, 0, 0, 0, 0, 0, 0, 0, 0, 0, 0, 0, 0, 0, 0, 0, 0, 0, 0, 0, 0, 0, 0, 0, 0], [0.0002467863609549299, 0.00015266091949319555, 0.00015266091949319555, -0.00047001141692771154, -0.0001233554330927554, -0.00022611008272506068, 0, 0, 0, 0, 0, 0, 0, 0, 0, 0, 0, 0, 0, 0, 0, 0, 0, 0, 0, 0, 0, 0, 0, 0, 0, 0, 0, 0, 0, 0, 0, 0, 0, 0, 0, 0, 0, 0, 0, 0, 0, 0, 0, 0, 0, 0, 0, 0], [-0.00040071948767275766, 8.031723126809353e-05, 7.640231621851482e-05, -2.207927502990245e-05, 8.12283445701991e-05, -0.0003406866415912644, -0.00047328701629833196, -0.00042584970354523445, -0.00046112566620126104, 8.031723126809353e-05, 0.0002708465206549565, 0.00025544461291880714, 0.0004902336494093276, 9.172426289173311e-05, -7.258732075816386e-05, -8.803080661647905e-05, 0.0006390869209558736, -0.00016569972947139158, -7.900684372499148e-05, 0.00030860723138504884, -0.0003009425886411295, -7.258732075816386e-05, 9.522404930142824e-05, 0.0002921290268575621, -9.71312837651277e-05, 4.811379699789521e-05, -0.00035331222394706445, 7.783802151139648e-06, -3.9260558612900525e-05, 0.0001520062934258682, 8.415839214591659e-06, 8.556240092661347e-05, 0.0001865837649160834, 1.3220340414103887e-05, 0.0010470380999786334, 0.0003787031163339347, 0.00033958817218965613, 0.00022203730536495342, -0.0004657027466785043, 0.00018339995348299573, -0.0001661429475454066, -0.00017702068184761533, 0, 0, 0, 0, 0, 0, 0, 0, 0, 0, 0, 0], [-5.1498271514396585e-05, -0.00030230359417080096, 2.7138443332313365e-05, 5.76620595751026e-05, 0.0006083944990169883, -0.00016134060788810655, 3.2749934039385543e-06, 0.00042207096828178676, 0, 0, 0, 0, 0, 0, 0, 0, 0, 0, 0, 0, 0, 0, 0, 0, 0, 0, 0, 0, 0, 0, 0, 0, 0, 0, 0, 0, 0, 0, 0, 0, 0, 0, 0, 0, 0, 0, 0, 0, 0, 0, 0, 0, 0, 0], [-0.0005921913416808014, -0.00020389319084794196, 0.0005520490897240022, 0.00033231528663671487, 0.00024131356336313525, 0, 0, 0, 0, 0, 0, 0, 0, 0, 0, 0, 0, 0, 0, 0, 0, 0, 0, 0, 0, 0, 0, 0, 0, 0, 0, 0, 0, 0, 0, 0, 0, 0, 0, 0, 0, 0, 0, 0, 0, 0, 0, 0, 0, 0, 0, 0, 0, 0], [0.00015666473737361024, -0.00027121140502781244, 2.495060966363089e-05, 0.00015666473737361024, 0.00031578062223756046, -0.00017185949414514227, -3.842912249711189e-05, 0.00015666473737361024, -0.000215674962944236, -0.00015492023514671955, 0, 0, 0, 0, 0, 0, 0, 0, 0, 0, 0, 0, 0, 0, 0, 0, 0, 0, 0, 0, 0, 0, 0, 0, 0, 0, 0, 0, 0, 0, 0, 0, 0, 0, 0, 0, 0, 0, 0, 0, 0, 0, 0, 0], [0.0010470380999786334, -0.00047334845015087616, 0.00011001343327600763, 3.297621710126465e-05, 0.0002707331091586788, 0.0003944687458213863, 0.0005499488828695877, 1.1215751535080187e-05, -9.310806450527587e-05, 0.00012899143108390792, -0.0002869836369882323, 0, 0, 0, 0, 0, 0, 0, 0, 0, 0, 0, 0, 0, 0, 0, 0, 0, 0, 0, 0, 0, 0, 0, 0, 0, 0, 0, 0, 0, 0, 0, 0, 0, 0, 0, 0, 0, 0, 0, 0, 0, 0, 0], [0.0003064804546395604, 0.0010470380999786334, 0.00023787103423785267, 0.00042207096828178676, 0.0003064804546395604, -0.00033876583659962057, -0.0001429245729326401, -7.920289697449448e-05, 0.00024202245685798598, 0.0010470380999786334, 0.0010470380999786334, 0.0010470380999786334, -6.596534979065663e-05, 0, 0, 0, 0, 0, 0, 0, 0, 0, 0, 0, 0, 0, 0, 0, 0, 0, 0, 0, 0, 0, 0, 0, 0, 0, 0, 0, 0, 0, 0, 0, 0, 0, 0, 0, 0, 0, 0, 0, 0, 0], [-8.772391330520532e-05, -0.00023729523097036777, 0.001170607591982639, 0.00012759812615067536, -0.00034280910028255756, 0.0003901573780986531, 0.0004315176595403186, 6.435722092477294e-05, 0, 0, 0, 0, 0, 0, 0, 0, 0, 0, 0, 0, 0, 0, 0, 0, 0, 0, 0, 0, 0, 0, 0, 0, 0, 0, 0, 0, 0, 0, 0, 0, 0, 0, 0, 0, 0, 0, 0, 0, 0, 0, 0, 0, 0, 0], [0.00037973293981665725, 0.0010470380999786334, 0.0005358363353225505, 0, 0, 0, 0, 0, 0, 0, 0, 0, 0, 0, 0, 0, 0, 0, 0, 0, 0, 0, 0, 0, 0, 0, 0, 0, 0, 0, 0, 0, 0, 0, 0, 0, 0, 0, 0, 0, 0, 0, 0, 0, 0, 0, 0, 0, 0, 0, 0, 0, 0, 0], [0.00022309158211262676, 0.0005835795779990548, 0.0003934941431311688, -0.0005429166072162629, -0.0001693605548913121, -0.00027643762192342913, -0.00019298084934319523, -0.00015719709179428886, 0, 0, 0, 0, 0, 0, 0, 0, 0, 0, 0, 0, 0, 0, 0, 0, 0, 0, 0, 0, 0, 0, 0, 0, 0, 0, 0, 0, 0, 0, 0, 0, 0, 0, 0, 0, 0, 0, 0, 0, 0, 0, 0, 0, 0, 0], [0.0010470380999786334, -0.00022879064139783633, -0.00027636739630466076, -0.0003741375886282206, 0.00018392944240546284, 0.0003968246863784754, -0.0005246384319958729, 0.00029998337168033053, 0.0004794156933044015, -0.00025549713266400655, 0.0002192096284880894, -7.497985269123304e-05, 0.0003064804546395604, -0.0003741375886282206, -0.0005785592986205051, -0.0004311872802799006, 0.0001842178175928689, 0, 0, 0, 0, 0, 0, 0, 0, 0, 0, 0, 0, 0, 0, 0, 0, 0, 0, 0, 0, 0, 0, 0, 0, 0, 0, 0, 0, 0, 0, 0, 0, 0, 0, 0, 0, 0], [0.0006533848100584563, 3.5290657768956574e-05, 0.001170607591982639, -0.00018523181477116555, 0.001170607591982639, -0.00030191300315313905, 0.0006083944990169883, 0.00011090872451256035, 0, 0, 0, 0, 0, 0, 0, 0, 0, 0, 0, 0, 0, 0, 0, 0, 0, 0, 0, 0, 0, 0, 0, 0, 0, 0, 0, 0, 0, 0, 0, 0, 0, 0, 0, 0, 0, 0, 0, 0, 0, 0, 0, 0, 0, 0], [-0.0003639343106613937, 2.0813721798129815e-06, 0.0010470380999786334, 4.391200638817646e-05, 0.00040845724474917127, 0.00012505200350683966, -0.0002380073435871967, 0.0003494899902596217, 0.0002744086968225768, 0, 0, 0, 0, 0, 0, 0, 0, 0, 0, 0, 0, 0, 0, 0, 0, 0, 0, 0, 0, 0, 0, 0, 0, 0, 0, 0, 0, 0, 0, 0, 0, 0, 0, 0, 0, 0, 0, 0, 0, 0, 0, 0, 0, 0], [-5.437237356464231e-05, -0.0005921913416808014, 0.0005548415173301204, 9.627225164170487e-05, -9.094910571522005e-05, 0.00038831189586899614, 0.00024131356336313525, -0.0002525112787392942, -3.9863584662256456e-05, 0, 0, 0, 0, 0, 0, 0, 0, 0, 0, 0, 0, 0, 0, 0, 0, 0, 0, 0, 0, 0, 0, 0, 0, 0, 0, 0, 0, 0, 0, 0, 0, 0, 0, 0, 0, 0, 0, 0, 0, 0, 0, 0, 0, 0], [7.904282412481881e-05, -0.0006423037190107029, -2.3454242845677184e-05, 0.00039762099861804395, 0.001170607591982639, 6.3205403574876196e-06, -7.696040492164941e-05, -9.906452827575054e-05, 0.00012738183309205398, -9.532852941917608e-05, 2.693935599028102e-05, 2.8822635036769368e-05, 0.00033904964085980214, 0.0004482365121335767, -9.387746177848849e-05, -0.00035834114259962105, 0.00035408080262730283, -0.00011058492014012154, 9.60538960672759e-05, -0.00024319027031857157, 1.951324990236449e-05, 0.0005064047147251797, 7.328079305266155e-05, 0.00020371866951960821, 0.00020169905966406582, 0, 0, 0, 0, 0, 0, 0, 0, 0, 0, 0, 0, 0, 0, 0, 0, 0, 0, 0, 0, 0, 0, 0, 0, 0, 0, 0, 0, 0], [-0.00023701387375987018, 0.0005408271188601333, 0.0003689516092767987, -0.00018523181477116555, 0, 0, 0, 0, 0, 0, 0, 0, 0, 0, 0, 0, 0, 0, 0, 0, 0, 0, 0, 0, 0, 0, 0, 0, 0, 0, 0, 0, 0, 0, 0, 0, 0, 0, 0, 0, 0, 0, 0, 0, 0, 0, 0, 0, 0, 0, 0, 0, 0, 0], [-0.000216765405036216, 0.0006083944990169883, 0.0003689516092767987, -0.00010446853212410311, -0.0002525112787392942, -0.00025549713266400655, -0.0003747316286102038, -0.00025641785853500117, 0.00018397860318719554, 0.0006083944990169883, -0.00021111847223673905, -0.00014987406441110555, -0.0003608285364872855, 0.00035289202142147, -0.0004738809671508205, -0.0001813402945686213, 0.0001933989821822598, -5.811336233195511e-06, -0.00044893377655740545, 0.00023445390700664473, -9.906452827575054e-05, 5.419621887147315e-05, -0.00018697973127523016, 4.5905253100846686e-05, 0.0006080045145257234, 0.00024772516565956047, 0.00046118029201485923, 0.00016510141626613538, 0.0007014369468725217, 0.0006083944990169883, 0.00012594129278258674, 0.0003181374083891732, -0.00023701387375987018, -0.00017854850241175678, 0.0003968246863784754, -0.0001949196256736492, -4.818784511815166e-05, 0.0001074968822459277, -6.090922310385601e-05, 0, 0, 0, 0, 0, 0, 0, 0, 0, 0, 0, 0, 0, 0, 0], [0.00019439289159084327, -0.0005921913416808014, 0.000267222858956954, -0.00018292523020189952, 0.00038831189586899614, 0, 0, 0, 0, 0, 0, 0, 0, 0, 0, 0, 0, 0, 0, 0, 0, 0, 0, 0, 0, 0, 0, 0, 0, 0, 0, 0, 0, 0, 0, 0, 0, 0, 0, 0, 0, 0, 0, 0, 0, 0, 0, 0, 0, 0, 0, 0, 0, 0], [0.00012903309780500625, -0.00038769492411293543, 0.0003934941431311688, -0.00044323099634500414, 0.00020066277888788106, 0.00015723362718252833, 0.0002598307304563508, 0.0005135347243264921, -0.0004595301796463582, 5.492325001444063e-05, -0.00018926739666419326, -2.3447600486699932e-06, -0.00037340550002563954, 0.00019284513026094724, 0, 0, 0, 0, 0, 0, 0, 0, 0, 0, 0, 0, 0, 0, 0, 0, 0, 0, 0, 0, 0, 0, 0, 0, 0, 0, 0, 0, 0, 0, 0, 0, 0, 0, 0, 0, 0, 0, 0, 0], [0.0010470380999786334, -5.127486160505747e-05, -0.0003858893243235243, -0.0003595884472944807, -0.0005249198240269286, -0.0002608234967650896, 0, 0, 0, 0, 0, 0, 0, 0, 0, 0, 0, 0, 0, 0, 0, 0, 0, 0, 0, 0, 0, 0, 0, 0, 0, 0, 0, 0, 0, 0, 0, 0, 0, 0, 0, 0, 0, 0, 0, 0, 0, 0, 0, 0, 0, 0, 0, 0], [3.928121906839782e-06, -0.0005921913416808014, -0.000284995895225313, 0.0001961353220110881, 0.001170607591982639, 0.00039762099861804395, 0.001170607591982639, 0.00047397409047654634, 0.00023373737212059806, 0, 0, 0, 0, 0, 0, 0, 0, 0, 0, 0, 0, 0, 0, 0, 0, 0, 0, 0, 0, 0, 0, 0, 0, 0, 0, 0, 0, 0, 0, 0, 0, 0, 0, 0, 0, 0, 0, 0, 0, 0, 0, 0, 0, 0], [0.0003906845449487846, -8.848114545309368e-05, 0.00017449158265772085, 0.00019364483720535957, -0.00024319027031857157, -0.0007350869647890373, -0.0001432254112316932, 0.0003244959531160217, 0, 0, 0, 0, 0, 0, 0, 0, 0, 0, 0, 0, 0, 0, 0, 0, 0, 0, 0, 0, 0, 0, 0, 0, 0, 0, 0, 0, 0, 0, 0, 0, 0, 0, 0, 0, 0, 0, 0, 0, 0, 0, 0, 0, 0, 0], [-0.0005921913416808014, -0.0002525112787392942, -0.00011548967057175775, -6.19607472563765e-05, 0.00042573115364870703, 0, 0, 0, 0, 0, 0, 0, 0, 0, 0, 0, 0, 0, 0, 0, 0, 0, 0, 0, 0, 0, 0, 0, 0, 0, 0, 0, 0, 0, 0, 0, 0, 0, 0, 0, 0, 0, 0, 0, 0, 0, 0, 0, 0, 0, 0, 0, 0, 0], [-6.827799791428559e-05, 0.0003064804546395604, 0.0010470380999786334, -0.0001490718145417343, 0.00023787103423785267, 0, 0, 0, 0, 0, 0, 0, 0, 0, 0, 0, 0, 0, 0, 0, 0, 0, 0, 0, 0, 0, 0, 0, 0, 0, 0, 0, 0, 0, 0, 0, 0, 0, 0, 0, 0, 0, 0, 0, 0, 0, 0, 0, 0, 0, 0, 0, 0, 0], [0.00035408080262730283, 1.6342179410291077e-05, -0.0003892875211476462, 0.0004172004958878247, -0.00019830282602913845, -0.00012703741065252233, 0, 0, 0, 0, 0, 0, 0, 0, 0, 0, 0, 0, 0, 0, 0, 0, 0, 0, 0, 0, 0, 0, 0, 0, 0, 0, 0, 0, 0, 0, 0, 0, 0, 0, 0, 0, 0, 0, 0, 0, 0, 0, 0, 0, 0, 0, 0, 0], [0.0010470380999786334, -0.00021111847223673905, 0.00042562442281862206, 8.648098311137638e-05, 0.0002926294627488916, 0.0010470380999786334, -0.000189957582100898, -0.0001414969751994448, 0.00022870705953889964, -1.0691183751178712e-05, 0.0003064804546395604, 9.776726130986284e-05, 0.0010470380999786334, -3.790692761430272e-05, 0.00042207096828178676, 0, 0, 0, 0, 0, 0, 0, 0, 0, 0, 0, 0, 0, 0, 0, 0, 0, 0, 0, 0, 0, 0, 0, 0, 0, 0, 0, 0, 0, 0, 0, 0, 0, 0, 0, 0, 0, 0, 0], [0.0006533848100584563, -0.00020788063898475085, -0.00020782044123369623, 0.00030237219170340594, -0.0005151365999926861, 0.0003872836316703682, -0.00012120651746609422, 0, 0, 0, 0, 0, 0, 0, 0, 0, 0, 0, 0, 0, 0, 0, 0, 0, 0, 0, 0, 0, 0, 0, 0, 0, 0, 0, 0, 0, 0, 0, 0, 0, 0, 0, 0, 0, 0, 0, 0, 0, 0, 0, 0, 0, 0, 0], [-0.0002695467737832683, 4.86535088191295e-05, 0.00035289202142147, 0.001170607591982639, 0.0001258903561636308, 0.0010470380999786334, -0.00025808701425360475, -6.19607472563765e-05, 0.00024131356336313525, 0.001170607591982639, 0.0005250922733234684, -0.0003076721620968616, 0, 0, 0, 0, 0, 0, 0, 0, 0, 0, 0, 0, 0, 0, 0, 0, 0, 0, 0, 0, 0, 0, 0, 0, 0, 0, 0, 0, 0, 0, 0, 0, 0, 0, 0, 0, 0, 0, 0, 0, 0, 0], [-0.0001454607776994762, -0.0002525112787392942, 0.00017357599021137552, -0.00025648634232058973, 0.0003064804546395604, -0.0001531358103655721, -0.0001531358103655721, -0.0006205238791335621, 0.0010470380999786334, 7.601673471074543e-05, 0.00013590408524893918, 2.0813721798129815e-06, 0.0003494899902596217, 0.00017042679132486032, 0.00040845724474917127, 0, 0, 0, 0, 0, 0, 0, 0, 0, 0, 0, 0, 0, 0, 0, 0, 0, 0, 0, 0, 0, 0, 0, 0, 0, 0, 0, 0, 0, 0, 0, 0, 0, 0, 0, 0, 0, 0, 0], [-0.0005544576383102009, -0.00035038842979534507, 0.00042574271679296326, -0.0002267546279823544, 0.00015043762132166614, 2.0813721798129815e-06, -8.772391330520532e-05, 0.0006080045145257234, -6.098578814770909e-05, 0, 0, 0, 0, 0, 0, 0, 0, 0, 0, 0, 0, 0, 0, 0, 0, 0, 0, 0, 0, 0, 0, 0, 0, 0, 0, 0, 0, 0, 0, 0, 0, 0, 0, 0, 0, 0, 0, 0, 0, 0, 0, 0, 0, 0], [0.00012051514379648115, -0.00015041120147874458, -0.0005152938982260839, -0.0005921913416808014, -0.00021111847223673905, 0.0003938082010087872, 9.61759083035288e-05, 0.00042207096828178676, 0.00023787103423785267, 0.00042207096828178676, 0, 0, 0, 0, 0, 0, 0, 0, 0, 0, 0, 0, 0, 0, 0, 0, 0, 0, 0, 0, 0, 0, 0, 0, 0, 0, 0, 0, 0, 0, 0, 0, 0, 0, 0, 0, 0, 0, 0, 0, 0, 0, 0, 0], [-5.464799877121479e-05, 0.0010470380999786334, -0.00021111847223673905, 0.00035408080262730283, 0.001170607591982639, 0.0003934941431311688, 0.00018550192011604732, 0.00017134139418168435, -9.201727956153292e-05, -6.596534979065663e-05, -3.066336637371542e-05, -9.657875034693444e-05, 0, 0, 0, 0, 0, 0, 0, 0, 0, 0, 0, 0, 0, 0, 0, 0, 0, 0, 0, 0, 0, 0, 0, 0, 0, 0, 0, 0, 0, 0, 0, 0, 0, 0, 0, 0, 0, 0, 0, 0, 0, 0], [0.0010470380999786334, -0.00013798516924716593, 0.00016830371611014784, 0.00015266091949319555, -0.0001274852797127681, 0.0001634280448561282, 0.0010470380999786334, -0.00017847619556556472, 0.00019994205440683208, -0.00022852879768684508, 0, 0, 0, 0, 0, 0, 0, 0, 0, 0, 0, 0, 0, 0, 0, 0, 0, 0, 0, 0, 0, 0, 0, 0, 0, 0, 0, 0, 0, 0, 0, 0, 0, 0, 0, 0, 0, 0, 0, 0, 0, 0, 0, 0], [0.00031178865464843086, 0.00015666473737361024, -0.00014532764774758381, 0, 0, 0, 0, 0, 0, 0, 0, 0, 0, 0, 0, 0, 0, 0, 0, 0, 0, 0, 0, 0, 0, 0, 0, 0, 0, 0, 0, 0, 0, 0, 0, 0, 0, 0, 0, 0, 0, 0, 0, 0, 0, 0, 0, 0, 0, 0, 0, 0, 0, 0], [0.0001961353220110881, 0.00014497717653333796, 0.0010470380999786334, 0.00021323379401712417, 2.9645428162009463e-05, 4.5227743801860394e-05, 1.7935507273991357e-05, 0.0006002737242855744, -0.0002811576044811556, 0.0001074968822459277, 0.00019630266460161826, -9.387746177848849e-05, 1.3035466609882373e-05, 0.00035408080262730283, -0.00038766075953084, 0, 0, 0, 0, 0, 0, 0, 0, 0, 0, 0, 0, 0, 0, 0, 0, 0, 0, 0, 0, 0, 0, 0, 0, 0, 0, 0, 0, 0, 0, 0, 0, 0, 0, 0, 0, 0, 0, 0], [6.435722092477294e-05, -0.0006022656735991651, 6.474514885033965e-05, 5.3315586162199955e-05, 2.4145361899649903e-05, 0.00042924197894623426, -0.0002565644692564007, -0.00028376319059389773, -0.00046112566620126104, 0, 0, 0, 0, 0, 0, 0, 0, 0, 0, 0, 0, 0, 0, 0, 0, 0, 0, 0, 0, 0, 0, 0, 0, 0, 0, 0, 0, 0, 0, 0, 0, 0, 0, 0, 0, 0, 0, 0, 0, 0, 0, 0, 0, 0], [-0.0005921913416808014, 7.410956871639724e-05, 0.00017449158265772085, -0.0002217296040896029, 0.0001561895538129072, 5.891248596764272e-05, -0.0002401189577621071, -0.00012705142765050798, -0.00037340550002563954, 0.00016560024974112336, 0.00039405598609306325, 0.00032138989730654986, 0, 0, 0, 0, 0, 0, 0, 0, 0, 0, 0, 0, 0, 0, 0, 0, 0, 0, 0, 0, 0, 0, 0, 0, 0, 0, 0, 0, 0, 0, 0, 0, 0, 0, 0, 0, 0, 0, 0, 0, 0, 0], [-0.000782746298564944, -0.00011548967057175775, -6.19607472563765e-05, -0.0005921913416808014, 0, 0, 0, 0, 0, 0, 0, 0, 0, 0, 0, 0, 0, 0, 0, 0, 0, 0, 0, 0, 0, 0, 0, 0, 0, 0, 0, 0, 0, 0, 0, 0, 0, 0, 0, 0, 0, 0, 0, 0, 0, 0, 0, 0, 0, 0, 0, 0, 0, 0], [-3.066336637371542e-05, -9.387746177848849e-05, -0.0003009974508153254, 0.00012505200350683966, 0.00032654704256219303, 0.0006083944990169883, 0.0003012041257773883, 0.00012744814719682312, 0.00040845724474917127, 0, 0, 0, 0, 0, 0, 0, 0, 0, 0, 0, 0, 0, 0, 0, 0, 0, 0, 0, 0, 0, 0, 0, 0, 0, 0, 0, 0, 0, 0, 0, 0, 0, 0, 0, 0, 0, 0, 0, 0, 0, 0, 0, 0, 0], [-9.700181141863221e-05, -2.0921778339964154e-05, -0.00021495381868307832, 0.0010470380999786334, -6.007361241513828e-05, -3.420911091991227e-05, -0.00027636739630466076, -5.968289740320747e-05, -0.00020363445388368257, 0, 0, 0, 0, 0, 0, 0, 0, 0, 0, 0, 0, 0, 0, 0, 0, 0, 0, 0, 0, 0, 0, 0, 0, 0, 0, 0, 0, 0, 0, 0, 0, 0, 0, 0, 0, 0, 0, 0, 0, 0, 0, 0, 0, 0], [-0.000782746298564944, -0.0005382991429528594, -4.274342783507964e-05, 0.0003266176782465239, 0.00017449158265772085, -0.0005921913416808014, -0.0003027923492847789, 0.0003064804546395604, -0.0005921913416808014, -0.00016134060788810655, 0, 0, 0, 0, 0, 0, 0, 0, 0, 0, 0, 0, 0, 0, 0, 0, 0, 0, 0, 0, 0, 0, 0, 0, 0, 0, 0, 0, 0, 0, 0, 0, 0, 0, 0, 0, 0, 0, 0, 0, 0, 0, 0, 0], [0.0010470380999786334, 0.00048634381137043376, 0.0001364018337377096, -0.00034280910028255756, -7.528612867322943e-05, 3.4175710984890595e-05, 8.137832303135365e-05, 5.76620595751026e-05, 8.731156771454565e-05, 0.0001284456542856232, -1.2874893323849105e-05, -0.0003926977677937011, 0.0003245044971731148, 0.00042488973642992845, 0, 0, 0, 0, 0, 0, 0, 0, 0, 0, 0, 0, 0, 0, 0, 0, 0, 0, 0, 0, 0, 0, 0, 0, 0, 0, 0, 0, 0, 0, 0, 0, 0, 0, 0, 0, 0, 0, 0, 0], [-8.772391330520532e-05, 7.259449437878848e-05, 0, 0, 0, 0, 0, 0, 0, 0, 0, 0, 0, 0, 0, 0, 0, 0, 0, 0, 0, 0, 0, 0, 0, 0, 0, 0, 0, 0, 0, 0, 0, 0, 0, 0, 0, 0, 0, 0, 0, 0, 0, 0, 0, 0, 0, 0, 0, 0, 0, 0, 0, 0], [7.304245816888773e-05, 5.368293340427336e-05, 6.89241022772974e-05, -0.00034405427480619895, 0.0001519760169606105, -0.00022472706081601258, 0.0006083944990169883, 0, 0, 0, 0, 0, 0, 0, 0, 0, 0, 0, 0, 0, 0, 0, 0, 0, 0, 0, 0, 0, 0, 0, 0, 0, 0, 0, 0, 0, 0, 0, 0, 0, 0, 0, 0, 0, 0, 0, 0, 0, 0, 0, 0, 0, 0, 0], [7.498051412863161e-05, 0.0002447789933346348, -0.00020784187916663582, 0.00042924197894623426, 0.00012505200350683966, -0.0005921913416808014, 0.0008734490522283554, 0.00040845724474917127, -0.0001403220197335556, -6.133602444574122e-05, 9.513985987618005e-05, 0.0002926294627488916, 0.0004866807673973749, 9.087535046231957e-05, 0.00035408080262730283, -0.00038766075953084, 0.00027222397571564113, 0, 0, 0, 0, 0, 0, 0, 0, 0, 0, 0, 0, 0, 0, 0, 0, 0, 0, 0, 0, 0, 0, 0, 0, 0, 0, 0, 0, 0, 0, 0, 0, 0, 0, 0, 0, 0], [0.0010470380999786334, 0.00021323379401712417, 0.0003266176782465239, 0.00012505200350683966, -0.0002217296040896029, 0.00034849224284360514, 0.0001284456542856232, -0.000791316304555892, -0.0006436321852861617, -9.387746177848849e-05, -0.0003009974508153254, 1.3035466609882373e-05, 0.0002083185138463592, 0.0004902336494093276, 0.0010470380999786334, -0.00016134060788810655, 0, 0, 0, 0, 0, 0, 0, 0, 0, 0, 0, 0, 0, 0, 0, 0, 0, 0, 0, 0, 0, 0, 0, 0, 0, 0, 0, 0, 0, 0, 0, 0, 0, 0, 0, 0, 0, 0], [-0.0005921913416808014, -8.848114545309368e-05, -0.0002525112787392942, -0.00022183464784709418, -0.0005382991429528594, 0, 0, 0, 0, 0, 0, 0, 0, 0, 0, 0, 0, 0, 0, 0, 0, 0, 0, 0, 0, 0, 0, 0, 0, 0, 0, 0, 0, 0, 0, 0, 0, 0, 0, 0, 0, 0, 0, 0, 0, 0, 0, 0, 0, 0, 0, 0, 0, 0], [-0.0005622826041564316, -0.00012227500736928121, 2.693935599028102e-05, -0.0004102826787453103, 0.0008687433305188401, 0.001170607591982639, -0.00012227500736928121, -0.00016103012152425647, -0.00030530559335721565, 0.00014862990793336413, -0.0002209208617070876, 7.930508485273178e-06, 0.001170607591982639, -0.00012227500736928121, 2.693935599028102e-05, -0.00013889263321880508, 0.0001521753419265986, 6.894364169087601e-05, 0, 0, 0, 0, 0, 0, 0, 0, 0, 0, 0, 0, 0, 0, 0, 0, 0, 0, 0, 0, 0, 0, 0, 0, 0, 0, 0, 0, 0, 0, 0, 0, 0, 0, 0, 0], [-0.00018688531612887958, -0.0001531358103655721, 0.0003181374083891732, 0.0010470380999786334, -0.0005614822794425071, 0.0002873335100744732, 0.00028608331410400053, 0.0002099121312537187, 0.0007078188518040718, 0.00017042679132486032, -0.00013206025758247196, 2.078256391636844e-05, 0.0006752074159138733, 0, 0, 0, 0, 0, 0, 0, 0, 0, 0, 0, 0, 0, 0, 0, 0, 0, 0, 0, 0, 0, 0, 0, 0, 0, 0, 0, 0, 0, 0, 0, 0, 0, 0, 0, 0, 0, 0, 0, 0, 0], [0.0005499488828695877, 0.0003968246863784754, 0.00044693448719001924, 0.0010470380999786334, 0.00018886545260852545, -0.00016569972947139158, -0.0005221031460793018, 0.0003968246863784754, -0.00026191066921068564, 0.00042573115364870703, -0.00016569972947139158, -0.00011518699137156892, -0.0003065390472353649, 0.0002600830313925467, 0, 0, 0, 0, 0, 0, 0, 0, 0, 0, 0, 0, 0, 0, 0, 0, 0, 0, 0, 0, 0, 0, 0, 0, 0, 0, 0, 0, 0, 0, 0, 0, 0, 0, 0, 0, 0, 0, 0, 0], [0.0010470380999786334, -0.00022819202221260686, 0.00017449158265772085, 0.0010470380999786334, 0.00024131356336313525, 0.00035408080262730283, 0.0002718163910979989, 0, 0, 0, 0, 0, 0, 0, 0, 0, 0, 0, 0, 0, 0, 0, 0, 0, 0, 0, 0, 0, 0, 0, 0, 0, 0, 0, 0, 0, 0, 0, 0, 0, 0, 0, 0, 0, 0, 0, 0, 0, 0, 0, 0, 0, 0, 0], [0.0003181374083891732, 8.393895646862135e-05, -8.566510106691582e-05, 0.00035408080262730283, -0.00016660646085153236, -0.00023905316745524976, 0.00010237582423040957, -0.00021557769206775507, -9.36403940700501e-05, 0.0006096538949311329, 0, 0, 0, 0, 0, 0, 0, 0, 0, 0, 0, 0, 0, 0, 0, 0, 0, 0, 0, 0, 0, 0, 0, 0, 0, 0, 0, 0, 0, 0, 0, 0, 0, 0, 0, 0, 0, 0, 0, 0, 0, 0, 0, 0], [0.0010470380999786334, 8.484425250764719e-05, 7.114930948614414e-05, -0.0002039271637869388, -3.760764918991946e-05, 0.0001961353220110881, 0.001170607591982639, 0.0010470380999786334, 0.0008734490522283554, 0.00039979556205614044, -0.00012120651746609422, -6.17399758101878e-05, 0.00024131356336313525, 0, 0, 0, 0, 0, 0, 0, 0, 0, 0, 0, 0, 0, 0, 0, 0, 0, 0, 0, 0, 0, 0, 0, 0, 0, 0, 0, 0, 0, 0, 0, 0, 0, 0, 0, 0, 0, 0, 0, 0, 0], [-0.0005693944033099971, 3.239609942518626e-05, 0.001170607591982639, -0.0004121515343088766, 0.00012505200350683966, -0.0005921913416808014, -0.00043602699045153107, 0, 0, 0, 0, 0, 0, 0, 0, 0, 0, 0, 0, 0, 0, 0, 0, 0, 0, 0, 0, 0, 0, 0, 0, 0, 0, 0, 0, 0, 0, 0, 0, 0, 0, 0, 0, 0, 0, 0, 0, 0, 0, 0, 0, 0, 0, 0], [0.0010470380999786334, -0.00016039719241302264, 0.0003150371599640982, -0.00024709245067328794, 0.00011476894716922398, 0, 0, 0, 0, 0, 0, 0, 0, 0, 0, 0, 0, 0, 0, 0, 0, 0, 0, 0, 0, 0, 0, 0, 0, 0, 0, 0, 0, 0, 0, 0, 0, 0, 0, 0, 0, 0, 0, 0, 0, 0, 0, 0, 0, 0, 0, 0, 0, 0], [3.032961123685423e-05, -0.00028157232721380624, -0.0001701763983572934, -0.00017913748080066342, 0.0010470380999786334, 0.00012759812615067536, -4.1096607496775115e-05, 0, 0, 0, 0, 0, 0, 0, 0, 0, 0, 0, 0, 0, 0, 0, 0, 0, 0, 0, 0, 0, 0, 0, 0, 0, 0, 0, 0, 0, 0, 0, 0, 0, 0, 0, 0, 0, 0, 0, 0, 0, 0, 0, 0, 0, 0, 0], [-9.886704730529567e-05, 0.0010470380999786334, 0.00048634381137043376, 8.789854855945013e-07, 9.018675279009194e-06, -0.00016453860244399675, 0.00015907461823544986, 0.0001364018337377096, 0.0001364018337377096, -0.00037624153802393034, 2.666402490078848e-05, -0.0002695467737832683, 8.789854855945013e-07, 5.6549787118193856e-05, 0.0006083944990169883, 7.601673471074543e-05, -0.00037624153802393034, -0.00018801970412266175, 0.00012930334712438665, 0.00022718075763480724, -6.19607472563765e-05, -0.00018801970412266175, 0.00042924197894623426, 0.0006083944990169883, -0.00034852573178327414, 0, 0, 0, 0, 0, 0, 0, 0, 0, 0, 0, 0, 0, 0, 0, 0, 0, 0, 0, 0, 0, 0, 0, 0, 0, 0, 0, 0, 0], [-0.0006209625828368855, 8.556240092661347e-05, -0.00029563533722729756, 0.0004300415486325835, -3.066336637371542e-05, 0.0010470380999786334, 8.582902667262302e-05, 0.00013823754741874465, 0, 0, 0, 0, 0, 0, 0, 0, 0, 0, 0, 0, 0, 0, 0, 0, 0, 0, 0, 0, 0, 0, 0, 0, 0, 0, 0, 0, 0, 0, 0, 0, 0, 0, 0, 0, 0, 0, 0, 0, 0, 0, 0, 0, 0, 0], [-8.566510106691582e-05, 0.00015266091949319555, 0.0002926294627488916, 0.0006560774838477594, 0.001170607591982639, 0.00035408080262730283, 1.0879662053291606e-05, -9.83044468267219e-05, -0.0005170071177179852, 0, 0, 0, 0, 0, 0, 0, 0, 0, 0, 0, 0, 0, 0, 0, 0, 0, 0, 0, 0, 0, 0, 0, 0, 0, 0, 0, 0, 0, 0, 0, 0, 0, 0, 0, 0, 0, 0, 0, 0, 0, 0, 0, 0, 0], [2.078256391636844e-05, 0.00026471985910447935, 0.0002156011292821586, -0.0003014450073653868, 2.078256391636844e-05, 0.00026471985910447935, 0.0010470380999786334, 0.0008734490522283554, 0.00040845724474917127, 0, 0, 0, 0, 0, 0, 0, 0, 0, 0, 0, 0, 0, 0, 0, 0, 0, 0, 0, 0, 0, 0, 0, 0, 0, 0, 0, 0, 0, 0, 0, 0, 0, 0, 0, 0, 0, 0, 0, 0, 0, 0, 0, 0, 0], [0.0010470380999786334, -0.0001900133805081273, 0.00024131356336313525, 0.00014665979970213607, -0.0001482100521143252, 0.00053137288210427, 0.0010470380999786334, 0.0002890571103129154, 0, 0, 0, 0, 0, 0, 0, 0, 0, 0, 0, 0, 0, 0, 0, 0, 0, 0, 0, 0, 0, 0, 0, 0, 0, 0, 0, 0, 0, 0, 0, 0, 0, 0, 0, 0, 0, 0, 0, 0, 0, 0, 0, 0, 0, 0], [0.0010470380999786334, -0.00022836374806765248, -5.2942398076064546e-05, 0.00025544461291880714, -0.0007837044163749383, 0.0010470380999786334, -0.0001993405425859466, -0.00011270762493290255, 0.0010470380999786334, 0.0004902336494093276, 0.0003064804546395604, -0.00035331222394706445, 0.000486139759989267, -0.00021692201883811207, -9.387746177848849e-05, 0.0003494899902596217, 4.457055753564503e-05, -0.0002565644692564007, 6.435722092477294e-05, 0, 0, 0, 0, 0, 0, 0, 0, 0, 0, 0, 0, 0, 0, 0, 0, 0, 0, 0, 0, 0, 0, 0, 0, 0, 0, 0, 0, 0, 0, 0, 0, 0, 0, 0], [-9.83044468267219e-05, 0, 0, 0, 0, 0, 0, 0, 0, 0, 0, 0, 0, 0, 0, 0, 0, 0, 0, 0, 0, 0, 0, 0, 0, 0, 0, 0, 0, 0, 0, 0, 0, 0, 0, 0, 0, 0, 0, 0, 0, 0, 0, 0, 0, 0, 0, 0, 0, 0, 0, 0, 0, 0], [1.1730564877914753e-05, 1.5138948726105804e-06, -0.0005009957359205162, 0.0005499488828695877, -0.00022322056400272665, 0.00023719986144162518, 6.517306319149632e-06, 8.085820374640956e-07, -0.00020423196985712964, -7.771172262896345e-07, -0.0004175905404346488, -4.201674940374714e-05, -0.0004687994792226949, 4.02634799450737e-05, 4.4754344432506976e-05, 0.00016630467494637422, 8.105671167052626e-06, -0.0003516421265309023, 0, 0, 0, 0, 0, 0, 0, 0, 0, 0, 0, 0, 0, 0, 0, 0, 0, 0, 0, 0, 0, 0, 0, 0, 0, 0, 0, 0, 0, 0, 0, 0, 0, 0, 0, 0], [-0.0005921913416808014, -0.0006423037190107029, 0.0004300429129481854, 0.00042573115364870703, 0.00012744814719682312, 0.0004024034786624689, -0.0002703889900153625, 0, 0, 0, 0, 0, 0, 0, 0, 0, 0, 0, 0, 0, 0, 0, 0, 0, 0, 0, 0, 0, 0, 0, 0, 0, 0, 0, 0, 0, 0, 0, 0, 0, 0, 0, 0, 0, 0, 0, 0, 0, 0, 0, 0, 0, 0, 0], [6.388874494795184e-05, -9.387746177848849e-05, -0.0003009974508153254, 0.00030878319887451644, -0.0003065390472353649, 0.00012505200350683966, 0.00032654704256219303, 0.0006083944990169883, -0.00016134060788810655, 0, 0, 0, 0, 0, 0, 0, 0, 0, 0, 0, 0, 0, 0, 0, 0, 0, 0, 0, 0, 0, 0, 0, 0, 0, 0, 0, 0, 0, 0, 0, 0, 0, 0, 0, 0, 0, 0, 0, 0, 0, 0, 0, 0, 0], [-0.00015848871023030394, -0.00037340550002563954, 0.0003287447588222771, -0.00014939700565319767, -0.00019830282602913845, -0.0002590408357532584, -0.0002053298595223418, 2.693935599028102e-05, 0.0010470380999786334, 2.8590184836062484e-05, 0.00036164445531241976, 0.0003448393714427637, 0, 0, 0, 0, 0, 0, 0, 0, 0, 0, 0, 0, 0, 0, 0, 0, 0, 0, 0, 0, 0, 0, 0, 0, 0, 0, 0, 0, 0, 0, 0, 0, 0, 0, 0, 0, 0, 0, 0, 0, 0, 0], [0.0003906845449487846, -0.0005382991429528594, -0.0007505359729192229, -0.0001432254112316932, -3.066336637371542e-05, 0.00023445390700664473, 0.00015043762132166614, 0.0004027647530379971, 0, 0, 0, 0, 0, 0, 0, 0, 0, 0, 0, 0, 0, 0, 0, 0, 0, 0, 0, 0, 0, 0, 0, 0, 0, 0, 0, 0, 0, 0, 0, 0, 0, 0, 0, 0, 0, 0, 0, 0, 0, 0, 0, 0, 0, 0], [-0.00019105377432528784, 0.0002099121312537187, 0.0010470380999786334, 0.00010232088740104687, 0, 0, 0, 0, 0, 0, 0, 0, 0, 0, 0, 0, 0, 0, 0, 0, 0, 0, 0, 0, 0, 0, 0, 0, 0, 0, 0, 0, 0, 0, 0, 0, 0, 0, 0, 0, 0, 0, 0, 0, 0, 0, 0, 0, 0, 0, 0, 0, 0, 0], [-0.0005693944033099971, 3.239609942518626e-05, 0.001170607591982639, -0.0004121515343088766, 0.00012505200350683966, -0.0005921913416808014, -0.00043602699045153107, 0, 0, 0, 0, 0, 0, 0, 0, 0, 0, 0, 0, 0, 0, 0, 0, 0, 0, 0, 0, 0, 0, 0, 0, 0, 0, 0, 0, 0, 0, 0, 0, 0, 0, 0, 0, 0, 0, 0, 0, 0, 0, 0, 0, 0, 0, 0], [-6.365505525955497e-05, -9.498198268514096e-05, 8.302566366665408e-05, -0.00019105377432528784, 0.00017449158265772085, 0.00017729876983500482, 0.0010470380999786334, 0.00022870705953889964, -0.0002525112787392942, -0.00043437092548404016, 0.0010470380999786334, -0.00010941434105680367, -0.0002525112787392942, -0.00043437092548404016, 0.0010470380999786334, -7.504253363553203e-05, -4.735662732996233e-05, 0.00028383698800710515, 0, 0, 0, 0, 0, 0, 0, 0, 0, 0, 0, 0, 0, 0, 0, 0, 0, 0, 0, 0, 0, 0, 0, 0, 0, 0, 0, 0, 0, 0, 0, 0, 0, 0, 0, 0], [-8.076544185760422e-05, -0.00011058492014012154, 0.0004794156933044015, 0.0010470380999786334, -0.00020416510232057776, -0.0001900133805081273, 0.0003255887179780653, 0.00024131356336313525, 0.0010470380999786334, -0.00022183464784709418, -0.0005382991429528594, 0, 0, 0, 0, 0, 0, 0, 0, 0, 0, 0, 0, 0, 0, 0, 0, 0, 0, 0, 0, 0, 0, 0, 0, 0, 0, 0, 0, 0, 0, 0, 0, 0, 0, 0, 0, 0, 0, 0, 0, 0, 0, 0], [0.000180394895465383, 0.00039841377058580526, -0.00015526936217772955, -0.0003944138647683531, 0.00026772182152064525, 0.0003188603553935942, 0.00016793006297424762, -0.00043523909421005314, 0.0001074968822459277, 2.8590184836062484e-05, 0, 0, 0, 0, 0, 0, 0, 0, 0, 0, 0, 0, 0, 0, 0, 0, 0, 0, 0, 0, 0, 0, 0, 0, 0, 0, 0, 0, 0, 0, 0, 0, 0, 0, 0, 0, 0, 0, 0, 0, 0, 0, 0, 0], [0.0010470380999786334, 0.0001284456542856232, -0.000791316304555892, -0.0006436321852861617, 0.0004557133768359153, 0.00027998664168871033, 0, 0, 0, 0, 0, 0, 0, 0, 0, 0, 0, 0, 0, 0, 0, 0, 0, 0, 0, 0, 0, 0, 0, 0, 0, 0, 0, 0, 0, 0, 0, 0, 0, 0, 0, 0, 0, 0, 0, 0, 0, 0, 0, 0, 0, 0, 0, 0], [0.0010470380999786334, -0.00016134060788810655, 0.00023787103423785267, 0.00042207096828178676, 0, 0, 0, 0, 0, 0, 0, 0, 0, 0, 0, 0, 0, 0, 0, 0, 0, 0, 0, 0, 0, 0, 0, 0, 0, 0, 0, 0, 0, 0, 0, 0, 0, 0, 0, 0, 0, 0, 0, 0, 0, 0, 0, 0, 0, 0, 0, 0, 0, 0], [1.3085196960674406e-05, 2.332964889007576e-05, 0.0002857575410064984, 0.0010470380999786334, 0.00024131356336313525, 0, 0, 0, 0, 0, 0, 0, 0, 0, 0, 0, 0, 0, 0, 0, 0, 0, 0, 0, 0, 0, 0, 0, 0, 0, 0, 0, 0, 0, 0, 0, 0, 0, 0, 0, 0, 0, 0, 0, 0, 0, 0, 0, 0, 0, 0, 0, 0, 0], [-0.00022247885498984083, 0.0010470380999786334, 0.0004921314677815079, -0.00034841744963023523, -0.0001454607776994762, -0.0002525112787392942, -6.19607472563765e-05, 0.00042573115364870703, 0, 0, 0, 0, 0, 0, 0, 0, 0, 0, 0, 0, 0, 0, 0, 0, 0, 0, 0, 0, 0, 0, 0, 0, 0, 0, 0, 0, 0, 0, 0, 0, 0, 0, 0, 0, 0, 0, 0, 0, 0, 0, 0, 0, 0, 0]]\n"
          ]
        }
      ]
    },
    {
      "cell_type": "code",
      "source": [
        "# Fitting Decision Tree to the training set\n",
        "training_accuracy = []\n",
        "test_accuracy = []\n",
        "from sklearn.tree import DecisionTreeClassifier\n",
        "classifier=DecisionTreeClassifier(criterion=\"entropy\", random_state=0)\n",
        "classifier.fit(X_train, y_train)"
      ],
      "metadata": {
        "colab": {
          "base_uri": "https://localhost:8080/"
        },
        "id": "bwSCvuQu9g3q",
        "outputId": "e08b698f-f761-4b1b-8064-a9d2c37b813d"
      },
      "execution_count": 22,
      "outputs": [
        {
          "output_type": "execute_result",
          "data": {
            "text/plain": [
              "DecisionTreeClassifier(criterion='entropy', random_state=0)"
            ]
          },
          "metadata": {},
          "execution_count": 22
        }
      ]
    },
    {
      "cell_type": "code",
      "source": [
        "#predicting the Test set results\n",
        "y_pred=classifier.predict(X_test)\n",
        "\n",
        "\n",
        "#Making the confusion matrix\n",
        "from sklearn.metrics import confusion_matrix\n",
        "cm=confusion_matrix(y_test, y_pred)\n",
        "#print(cm)\n",
        "from mlxtend.plotting import plot_confusion_matrix\n",
        "print(\"Confusion Matrix for PassiveAggressiveClassifier\")\n",
        "plot_confusion_matrix(conf_mat=cm,show_absolute=True,\n",
        "                                show_normed=True,\n",
        "                                colorbar=True)"
      ],
      "metadata": {
        "colab": {
          "base_uri": "https://localhost:8080/",
          "height": 334
        },
        "id": "B1n_AJrS9keB",
        "outputId": "44c3d979-6da9-46ea-c637-6fb6d0f701a4"
      },
      "execution_count": 23,
      "outputs": [
        {
          "output_type": "stream",
          "name": "stdout",
          "text": [
            "Confusion Matrix for PassiveAggressiveClassifier\n"
          ]
        },
        {
          "output_type": "execute_result",
          "data": {
            "text/plain": [
              "(<Figure size 432x288 with 2 Axes>,\n",
              " <matplotlib.axes._subplots.AxesSubplot at 0x7f1e857c33d0>)"
            ]
          },
          "metadata": {},
          "execution_count": 23
        },
        {
          "output_type": "display_data",
          "data": {
            "image/png": "[encoded data removed]",
            "text/plain": [
              "<Figure size 432x288 with 2 Axes>"
            ]
          },
          "metadata": {
            "needs_background": "light"
          }
        }
      ]
    },
    {
      "cell_type": "code",
      "source": [
        "#finding accuracy\n",
        "from sklearn.metrics import accuracy_score\n",
        "accuracy=accuracy_score(y_test,y_pred)\n",
        "print('Accuracy %.3f'%accuracy) \n",
        "\n",
        "from sklearn.metrics import precision_score\n",
        "precision=precision_score(y_test,y_pred,average=\"binary\")\n",
        "print('precision %.3f'%precision)\n",
        "\n",
        "from sklearn.metrics import recall_score\n",
        "recall=recall_score(y_test,y_pred,average=\"binary\")\n",
        "print('Recall %.3f'%recall)\n",
        "\n",
        "\n",
        "from sklearn.metrics import f1_score\n",
        "f1=f1_score(y_test,y_pred,average=\"binary\")\n",
        "print('f1_score %.3f'%f1)\n"
      ],
      "metadata": {
        "colab": {
          "base_uri": "https://localhost:8080/"
        },
        "id": "AE_dskXZ9nqK",
        "outputId": "7447eb06-af7e-4877-d007-94f7a82de8c0"
      },
      "execution_count": 24,
      "outputs": [
        {
          "output_type": "stream",
          "name": "stdout",
          "text": [
            "Accuracy 0.595\n",
            "precision 0.562\n",
            "Recall 0.675\n",
            "f1_score 0.614\n"
          ]
        }
      ]
    },
    {
      "cell_type": "markdown",
      "source": [
        "# Decision Tree with 10-fold cross validation"
      ],
      "metadata": {
        "id": "bB2JvwUb9yQB"
      }
    },
    {
      "cell_type": "code",
      "source": [
        "#Applying 10-fold cross validation\n",
        "\n",
        "from sklearn.model_selection import cross_val_score\n",
        "from sklearn.model_selection import KFold\n",
        "from statistics import *\n",
        "# prepare the cross-validation procedure\n",
        "cv = KFold(n_splits=10,shuffle=True, random_state=0)\n",
        "# evaluate model\n",
        "from sklearn.tree import DecisionTreeClassifier\n",
        "classifier=DecisionTreeClassifier(criterion=\"entropy\", random_state=0)\n",
        "scores = cross_val_score(classifier, X, y, scoring='accuracy', cv=cv)\n",
        "recall = cross_val_score(classifier, X, y, scoring='recall', cv=cv)\n",
        "precision = cross_val_score(classifier, X, y, scoring='precision', cv=cv)\n",
        "f1 = cross_val_score(classifier, X, y, scoring='f1', cv=cv)\n",
        "# report performance\n",
        "print('%.3f'%mean(scores))\n",
        "print('%.3f'%np.mean(precision))\n",
        "print('%.3f'%np.mean(recall))\n",
        "print('%.3f'%np.mean(f1))"
      ],
      "metadata": {
        "colab": {
          "base_uri": "https://localhost:8080/"
        },
        "id": "N6WZw7vp9w46",
        "outputId": "64431259-4fa3-4922-e997-f47d3e382d59"
      },
      "execution_count": null,
      "outputs": [
        {
          "output_type": "stream",
          "name": "stdout",
          "text": [
            "0.593\n",
            "0.572\n",
            "0.582\n",
            "0.571\n"
          ]
        }
      ]
    },
    {
      "cell_type": "markdown",
      "source": [
        "# Naive Bayes with 80:20 spliting"
      ],
      "metadata": {
        "id": "wdUD8o8F-zZK"
      }
    },
    {
      "cell_type": "code",
      "source": [
        "#Splitting the dataset into training set and test set\n",
        "from sklearn.model_selection import train_test_split\n",
        "X_train,X_test,y_train,y_test= train_test_split(X,y,test_size=0.2,random_state=1)\n",
        "#print(X)"
      ],
      "metadata": {
        "id": "ct1-2bHI_F4S"
      },
      "execution_count": 25,
      "outputs": []
    },
    {
      "cell_type": "code",
      "source": [
        "# Fitting SVC to the training set\n",
        "from sklearn.naive_bayes import GaussianNB\n",
        "classifier=GaussianNB()\n",
        "classifier.fit(X_train, y_train)\n",
        "#predicting the Test set results\n",
        "y_pred=classifier.predict(X_test)\n",
        "#Making the confusion matrix\n",
        "from sklearn.metrics import confusion_matrix\n",
        "cm=confusion_matrix(y_test, y_pred)\n",
        "#print(cm)\n",
        "from mlxtend.plotting import plot_confusion_matrix\n",
        "print(\"Confusion Matrix for PassiveAggressiveClassifier\")\n",
        "plot_confusion_matrix(conf_mat=cm,show_absolute=True,\n",
        "                                show_normed=True,\n",
        "                                colorbar=True)\n",
        "#finding accuracy\n",
        "from sklearn.metrics import accuracy_score\n",
        "accuracy=accuracy_score(y_test,y_pred)\n",
        "print('Accuracy %.3f'%accuracy)\n",
        "\n",
        "from sklearn.metrics import precision_score\n",
        "precision=precision_score(y_test,y_pred,average=\"binary\")\n",
        "print('precision %.3f'%precision)\n",
        "\n",
        "from sklearn.metrics import recall_score\n",
        "recall=recall_score(y_test,y_pred,average=\"binary\")\n",
        "print('Recall %.3f'%recall)\n",
        "\n",
        "from sklearn.metrics import f1_score\n",
        "f1=f1_score(y_test,y_pred,average=\"binary\")\n",
        "print('f1_score %.3f'%f1)"
      ],
      "metadata": {
        "colab": {
          "base_uri": "https://localhost:8080/",
          "height": 370
        },
        "id": "iG3nHJG3_Kdy",
        "outputId": "97efcfa6-569b-4140-88c5-63f3c7f22852"
      },
      "execution_count": 26,
      "outputs": [
        {
          "output_type": "stream",
          "name": "stdout",
          "text": [
            "Confusion Matrix for PassiveAggressiveClassifier\n",
            "Accuracy 0.464\n",
            "precision 0.469\n",
            "Recall 0.950\n",
            "f1_score 0.628\n"
          ]
        },
        {
          "output_type": "display_data",
          "data": {
            "image/png": "[encoded data removed]",
            "text/plain": [
              "<Figure size 432x288 with 2 Axes>"
            ]
          },
          "metadata": {
            "needs_background": "light"
          }
        }
      ]
    },
    {
      "cell_type": "markdown",
      "source": [
        "# Naive Bayes with 10-fold cross validation"
      ],
      "metadata": {
        "id": "ZaQdfc0w_oX6"
      }
    },
    {
      "cell_type": "code",
      "source": [
        "#Applying 10-fold cross validation\n",
        "\n",
        "from sklearn.model_selection import cross_val_score\n",
        "from sklearn.model_selection import KFold\n",
        "from statistics import *\n",
        "# prepare the cross-validation procedure\n",
        "cv = KFold(n_splits=10,shuffle=True, random_state=0)\n",
        "# evaluate model\n",
        "from sklearn.naive_bayes import GaussianNB\n",
        "classifier=GaussianNB()\n",
        "scores = cross_val_score(classifier, X, y, scoring='accuracy', cv=cv)\n",
        "recall = cross_val_score(classifier, X, y, scoring='recall', cv=cv)\n",
        "precision = cross_val_score(classifier, X, y, scoring='precision', cv=cv)\n",
        "f1 = cross_val_score(classifier, X, y, scoring='f1', cv=cv)\n",
        "# report performance\n",
        "print('%.3f'%mean(scores))\n",
        "print('%.3f'%np.mean(precision))\n",
        "print('%.3f'%np.mean(recall))\n",
        "print('%.3f'%np.mean(f1))"
      ],
      "metadata": {
        "colab": {
          "base_uri": "https://localhost:8080/"
        },
        "id": "7ziXmTsf_OUy",
        "outputId": "4e2a7d14-6114-45d7-84e9-8701f1f44189"
      },
      "execution_count": 27,
      "outputs": [
        {
          "output_type": "stream",
          "name": "stdout",
          "text": [
            "0.481\n",
            "0.477\n",
            "0.972\n",
            "0.637\n"
          ]
        }
      ]
    },
    {
      "cell_type": "markdown",
      "source": [
        "# Random Forest with 80:20 spliting"
      ],
      "metadata": {
        "id": "NoqxI7ioAEpK"
      }
    },
    {
      "cell_type": "code",
      "source": [
        "#Splitting the dataset into training set and test set\n",
        "from sklearn.model_selection import train_test_split\n",
        "X_train,X_test,y_train,y_test= train_test_split(X,y,test_size=0.2,random_state=0)\n",
        "#print(X)"
      ],
      "metadata": {
        "id": "OoXcL6DgAjW7"
      },
      "execution_count": 28,
      "outputs": []
    },
    {
      "cell_type": "code",
      "source": [
        "# Fitting Random Forest to the training set\n",
        "from sklearn.ensemble import RandomForestClassifier\n",
        "classifier=RandomForestClassifier(n_estimators=10,criterion='entropy',random_state=0)\n",
        "classifier.fit(X_train, y_train)\n",
        "\n",
        "#predicting the Test set results\n",
        "y_pred=classifier.predict(X_test)\n",
        "#Making the confusion matrix\n",
        "from sklearn.metrics import confusion_matrix\n",
        "cm=confusion_matrix(y_test, y_pred)\n",
        "#print(cm)\n",
        "from mlxtend.plotting import plot_confusion_matrix\n",
        "print(\"Confusion Matrix for PassiveAggressiveClassifier\")\n",
        "plot_confusion_matrix(conf_mat=cm,show_absolute=True,\n",
        "                                show_normed=True,\n",
        "                                colorbar=True)\n",
        "#finding accuracy\n",
        "from sklearn.metrics import accuracy_score\n",
        "accuracy=accuracy_score(y_test,y_pred)\n",
        "print('Accuracy %.3f'%accuracy)\n",
        "\n",
        "from sklearn.metrics import precision_score\n",
        "precision=precision_score(y_test,y_pred,average=\"binary\")\n",
        "print('precision %.3f'%precision)\n",
        "\n",
        "from sklearn.metrics import recall_score\n",
        "recall=recall_score(y_test,y_pred,average=\"binary\")\n",
        "print('Recall %.3f'%recall)\n",
        "\n",
        "from sklearn.metrics import f1_score\n",
        "f1=f1_score(y_test,y_pred,average=\"binary\")\n",
        "print('f1_score %.3f'%f1)"
      ],
      "metadata": {
        "colab": {
          "base_uri": "https://localhost:8080/",
          "height": 370
        },
        "id": "VxjylX6xA34a",
        "outputId": "adfe9279-6da5-45bb-ad90-78eb1979d3d2"
      },
      "execution_count": 29,
      "outputs": [
        {
          "output_type": "stream",
          "name": "stdout",
          "text": [
            "Confusion Matrix for PassiveAggressiveClassifier\n",
            "Accuracy 0.548\n",
            "precision 0.548\n",
            "Recall 0.415\n",
            "f1_score 0.472\n"
          ]
        },
        {
          "output_type": "display_data",
          "data": {
            "image/png": "[encoded data removed]",
            "text/plain": [
              "<Figure size 432x288 with 2 Axes>"
            ]
          },
          "metadata": {
            "needs_background": "light"
          }
        }
      ]
    },
    {
      "cell_type": "markdown",
      "source": [
        "# Random Forest with 10-fold cross validation"
      ],
      "metadata": {
        "id": "qsPMm1ydBRhp"
      }
    },
    {
      "cell_type": "code",
      "source": [
        "#Applying 10-fold cross validation\n",
        "\n",
        "from sklearn.model_selection import cross_val_score\n",
        "from sklearn.model_selection import KFold\n",
        "from statistics import *\n",
        "# prepare the cross-validation procedure\n",
        "cv = KFold(n_splits=10,shuffle=True, random_state=0)\n",
        "# evaluate model\n",
        "from sklearn.ensemble import RandomForestClassifier\n",
        "classifier=RandomForestClassifier(n_estimators=10,criterion='entropy',random_state=0)\n",
        "scores = cross_val_score(classifier, X, y, scoring='accuracy', cv=cv)\n",
        "recall = cross_val_score(classifier, X, y, scoring='recall', cv=cv)\n",
        "precision = cross_val_score(classifier, X, y, scoring='precision', cv=cv)\n",
        "f1 = cross_val_score(classifier, X, y, scoring='f1', cv=cv)\n",
        "# report performance\n",
        "print('%.3f'%mean(scores))\n",
        "print('%.3f'%np.mean(precision))\n",
        "print('%.3f'%np.mean(recall))\n",
        "print('%.3f'%np.mean(f1))"
      ],
      "metadata": {
        "colab": {
          "base_uri": "https://localhost:8080/"
        },
        "id": "MsjoGLKABWvD",
        "outputId": "d8b403fc-b35d-477d-cb2f-216b4ad46b39"
      },
      "execution_count": 30,
      "outputs": [
        {
          "output_type": "stream",
          "name": "stdout",
          "text": [
            "0.601\n",
            "0.609\n",
            "0.462\n",
            "0.518\n"
          ]
        }
      ]
    }
  ]
}