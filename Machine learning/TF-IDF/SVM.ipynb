{
  "nbformat": 4,
  "nbformat_minor": 0,
  "metadata": {
    "colab": {
      "name": "SVC.ipynb",
      "provenance": [],
      "collapsed_sections": [],
      "toc_visible": true
    },
    "kernelspec": {
      "name": "python3",
      "display_name": "Python 3"
    },
    "language_info": {
      "name": "python"
    }
  },
  "cells": [
    {
      "cell_type": "markdown",
      "source": [
        "# Installing bnlp toolkit and bnltk library"
      ],
      "metadata": {
        "id": "BYV1E2cvkA6o"
      }
    },
    {
      "cell_type": "code",
      "metadata": {
        "colab": {
          "base_uri": "https://localhost:8080/"
        },
        "id": "2-Aiau5sXcr_",
        "outputId": "e8509184-f25c-43d6-d4bd-dbae91620b54"
      },
      "source": [
        "pip install bnlp_toolkit"
      ],
      "execution_count": 10,
      "outputs": [
        {
          "output_type": "stream",
          "name": "stdout",
          "text": [
            "Requirement already satisfied: bnlp_toolkit in /usr/local/lib/python3.7/dist-packages (3.1.2)\n",
            "Requirement already satisfied: sentencepiece in /usr/local/lib/python3.7/dist-packages (from bnlp_toolkit) (0.1.96)\n",
            "Requirement already satisfied: sklearn-crfsuite in /usr/local/lib/python3.7/dist-packages (from bnlp_toolkit) (0.3.6)\n",
            "Requirement already satisfied: nltk in /usr/local/lib/python3.7/dist-packages (from bnlp_toolkit) (3.2.5)\n",
            "Requirement already satisfied: wasabi in /usr/local/lib/python3.7/dist-packages (from bnlp_toolkit) (0.9.0)\n",
            "Requirement already satisfied: gensim==4.0.1 in /usr/local/lib/python3.7/dist-packages (from bnlp_toolkit) (4.0.1)\n",
            "Requirement already satisfied: scipy in /usr/local/lib/python3.7/dist-packages (from bnlp_toolkit) (1.4.1)\n",
            "Requirement already satisfied: numpy in /usr/local/lib/python3.7/dist-packages (from bnlp_toolkit) (1.19.5)\n",
            "Requirement already satisfied: smart-open>=1.8.1 in /usr/local/lib/python3.7/dist-packages (from gensim==4.0.1->bnlp_toolkit) (5.2.1)\n",
            "Requirement already satisfied: six in /usr/local/lib/python3.7/dist-packages (from nltk->bnlp_toolkit) (1.15.0)\n",
            "Requirement already satisfied: tqdm>=2.0 in /usr/local/lib/python3.7/dist-packages (from sklearn-crfsuite->bnlp_toolkit) (4.62.3)\n",
            "Requirement already satisfied: python-crfsuite>=0.8.3 in /usr/local/lib/python3.7/dist-packages (from sklearn-crfsuite->bnlp_toolkit) (0.9.7)\n",
            "Requirement already satisfied: tabulate in /usr/local/lib/python3.7/dist-packages (from sklearn-crfsuite->bnlp_toolkit) (0.8.9)\n"
          ]
        }
      ]
    },
    {
      "cell_type": "code",
      "metadata": {
        "colab": {
          "base_uri": "https://localhost:8080/"
        },
        "id": "8WxP1prXXpN8",
        "outputId": "a8c30cbc-5e32-428a-e9b8-063c942a123d"
      },
      "source": [
        "pip install bnltk"
      ],
      "execution_count": 11,
      "outputs": [
        {
          "output_type": "stream",
          "name": "stdout",
          "text": [
            "Requirement already satisfied: bnltk in /usr/local/lib/python3.7/dist-packages (0.7.6)\n",
            "Requirement already satisfied: tensorflow in /usr/local/lib/python3.7/dist-packages (from bnltk) (2.7.0)\n",
            "Requirement already satisfied: keras in /usr/local/lib/python3.7/dist-packages (from bnltk) (2.7.0)\n",
            "Requirement already satisfied: numpy in /usr/local/lib/python3.7/dist-packages (from bnltk) (1.19.5)\n",
            "Requirement already satisfied: sklearn in /usr/local/lib/python3.7/dist-packages (from bnltk) (0.0)\n",
            "Requirement already satisfied: requests in /usr/local/lib/python3.7/dist-packages (from bnltk) (2.23.0)\n",
            "Requirement already satisfied: urllib3!=1.25.0,!=1.25.1,<1.26,>=1.21.1 in /usr/local/lib/python3.7/dist-packages (from requests->bnltk) (1.24.3)\n",
            "Requirement already satisfied: chardet<4,>=3.0.2 in /usr/local/lib/python3.7/dist-packages (from requests->bnltk) (3.0.4)\n",
            "Requirement already satisfied: idna<3,>=2.5 in /usr/local/lib/python3.7/dist-packages (from requests->bnltk) (2.10)\n",
            "Requirement already satisfied: certifi>=2017.4.17 in /usr/local/lib/python3.7/dist-packages (from requests->bnltk) (2021.10.8)\n",
            "Requirement already satisfied: scikit-learn in /usr/local/lib/python3.7/dist-packages (from sklearn->bnltk) (1.0.2)\n",
            "Requirement already satisfied: threadpoolctl>=2.0.0 in /usr/local/lib/python3.7/dist-packages (from scikit-learn->sklearn->bnltk) (3.1.0)\n",
            "Requirement already satisfied: joblib>=0.11 in /usr/local/lib/python3.7/dist-packages (from scikit-learn->sklearn->bnltk) (1.1.0)\n",
            "Requirement already satisfied: scipy>=1.1.0 in /usr/local/lib/python3.7/dist-packages (from scikit-learn->sklearn->bnltk) (1.4.1)\n",
            "Requirement already satisfied: grpcio<2.0,>=1.24.3 in /usr/local/lib/python3.7/dist-packages (from tensorflow->bnltk) (1.43.0)\n",
            "Requirement already satisfied: h5py>=2.9.0 in /usr/local/lib/python3.7/dist-packages (from tensorflow->bnltk) (3.1.0)\n",
            "Requirement already satisfied: tensorflow-estimator<2.8,~=2.7.0rc0 in /usr/local/lib/python3.7/dist-packages (from tensorflow->bnltk) (2.7.0)\n",
            "Requirement already satisfied: wheel<1.0,>=0.32.0 in /usr/local/lib/python3.7/dist-packages (from tensorflow->bnltk) (0.37.1)\n",
            "Requirement already satisfied: tensorflow-io-gcs-filesystem>=0.21.0 in /usr/local/lib/python3.7/dist-packages (from tensorflow->bnltk) (0.23.1)\n",
            "Requirement already satisfied: typing-extensions>=3.6.6 in /usr/local/lib/python3.7/dist-packages (from tensorflow->bnltk) (3.10.0.2)\n",
            "Requirement already satisfied: protobuf>=3.9.2 in /usr/local/lib/python3.7/dist-packages (from tensorflow->bnltk) (3.17.3)\n",
            "Requirement already satisfied: astunparse>=1.6.0 in /usr/local/lib/python3.7/dist-packages (from tensorflow->bnltk) (1.6.3)\n",
            "Requirement already satisfied: wrapt>=1.11.0 in /usr/local/lib/python3.7/dist-packages (from tensorflow->bnltk) (1.13.3)\n",
            "Requirement already satisfied: opt-einsum>=2.3.2 in /usr/local/lib/python3.7/dist-packages (from tensorflow->bnltk) (3.3.0)\n",
            "Requirement already satisfied: gast<0.5.0,>=0.2.1 in /usr/local/lib/python3.7/dist-packages (from tensorflow->bnltk) (0.4.0)\n",
            "Requirement already satisfied: absl-py>=0.4.0 in /usr/local/lib/python3.7/dist-packages (from tensorflow->bnltk) (1.0.0)\n",
            "Requirement already satisfied: google-pasta>=0.1.1 in /usr/local/lib/python3.7/dist-packages (from tensorflow->bnltk) (0.2.0)\n",
            "Requirement already satisfied: libclang>=9.0.1 in /usr/local/lib/python3.7/dist-packages (from tensorflow->bnltk) (13.0.0)\n",
            "Requirement already satisfied: flatbuffers<3.0,>=1.12 in /usr/local/lib/python3.7/dist-packages (from tensorflow->bnltk) (2.0)\n",
            "Requirement already satisfied: six>=1.12.0 in /usr/local/lib/python3.7/dist-packages (from tensorflow->bnltk) (1.15.0)\n",
            "Requirement already satisfied: tensorboard~=2.6 in /usr/local/lib/python3.7/dist-packages (from tensorflow->bnltk) (2.7.0)\n",
            "Requirement already satisfied: keras-preprocessing>=1.1.1 in /usr/local/lib/python3.7/dist-packages (from tensorflow->bnltk) (1.1.2)\n",
            "Requirement already satisfied: termcolor>=1.1.0 in /usr/local/lib/python3.7/dist-packages (from tensorflow->bnltk) (1.1.0)\n",
            "Requirement already satisfied: cached-property in /usr/local/lib/python3.7/dist-packages (from h5py>=2.9.0->tensorflow->bnltk) (1.5.2)\n",
            "Requirement already satisfied: werkzeug>=0.11.15 in /usr/local/lib/python3.7/dist-packages (from tensorboard~=2.6->tensorflow->bnltk) (1.0.1)\n",
            "Requirement already satisfied: google-auth-oauthlib<0.5,>=0.4.1 in /usr/local/lib/python3.7/dist-packages (from tensorboard~=2.6->tensorflow->bnltk) (0.4.6)\n",
            "Requirement already satisfied: tensorboard-data-server<0.7.0,>=0.6.0 in /usr/local/lib/python3.7/dist-packages (from tensorboard~=2.6->tensorflow->bnltk) (0.6.1)\n",
            "Requirement already satisfied: markdown>=2.6.8 in /usr/local/lib/python3.7/dist-packages (from tensorboard~=2.6->tensorflow->bnltk) (3.3.6)\n",
            "Requirement already satisfied: setuptools>=41.0.0 in /usr/local/lib/python3.7/dist-packages (from tensorboard~=2.6->tensorflow->bnltk) (57.4.0)\n",
            "Requirement already satisfied: tensorboard-plugin-wit>=1.6.0 in /usr/local/lib/python3.7/dist-packages (from tensorboard~=2.6->tensorflow->bnltk) (1.8.1)\n",
            "Requirement already satisfied: google-auth<3,>=1.6.3 in /usr/local/lib/python3.7/dist-packages (from tensorboard~=2.6->tensorflow->bnltk) (1.35.0)\n",
            "Requirement already satisfied: pyasn1-modules>=0.2.1 in /usr/local/lib/python3.7/dist-packages (from google-auth<3,>=1.6.3->tensorboard~=2.6->tensorflow->bnltk) (0.2.8)\n",
            "Requirement already satisfied: rsa<5,>=3.1.4 in /usr/local/lib/python3.7/dist-packages (from google-auth<3,>=1.6.3->tensorboard~=2.6->tensorflow->bnltk) (4.8)\n",
            "Requirement already satisfied: cachetools<5.0,>=2.0.0 in /usr/local/lib/python3.7/dist-packages (from google-auth<3,>=1.6.3->tensorboard~=2.6->tensorflow->bnltk) (4.2.4)\n",
            "Requirement already satisfied: requests-oauthlib>=0.7.0 in /usr/local/lib/python3.7/dist-packages (from google-auth-oauthlib<0.5,>=0.4.1->tensorboard~=2.6->tensorflow->bnltk) (1.3.1)\n",
            "Requirement already satisfied: importlib-metadata>=4.4 in /usr/local/lib/python3.7/dist-packages (from markdown>=2.6.8->tensorboard~=2.6->tensorflow->bnltk) (4.10.1)\n",
            "Requirement already satisfied: zipp>=0.5 in /usr/local/lib/python3.7/dist-packages (from importlib-metadata>=4.4->markdown>=2.6.8->tensorboard~=2.6->tensorflow->bnltk) (3.7.0)\n",
            "Requirement already satisfied: pyasn1<0.5.0,>=0.4.6 in /usr/local/lib/python3.7/dist-packages (from pyasn1-modules>=0.2.1->google-auth<3,>=1.6.3->tensorboard~=2.6->tensorflow->bnltk) (0.4.8)\n",
            "Requirement already satisfied: oauthlib>=3.0.0 in /usr/local/lib/python3.7/dist-packages (from requests-oauthlib>=0.7.0->google-auth-oauthlib<0.5,>=0.4.1->tensorboard~=2.6->tensorflow->bnltk) (3.2.0)\n"
          ]
        }
      ]
    },
    {
      "cell_type": "code",
      "metadata": {
        "colab": {
          "base_uri": "https://localhost:8080/"
        },
        "id": "KZbeDNuaX2FT",
        "outputId": "55d12299-949c-419a-c9a7-4fab5e385b20"
      },
      "source": [
        "pip install -U bnlp_toolkit"
      ],
      "execution_count": 12,
      "outputs": [
        {
          "output_type": "stream",
          "name": "stdout",
          "text": [
            "Requirement already satisfied: bnlp_toolkit in /usr/local/lib/python3.7/dist-packages (3.1.2)\n",
            "Requirement already satisfied: gensim==4.0.1 in /usr/local/lib/python3.7/dist-packages (from bnlp_toolkit) (4.0.1)\n",
            "Requirement already satisfied: numpy in /usr/local/lib/python3.7/dist-packages (from bnlp_toolkit) (1.19.5)\n",
            "Requirement already satisfied: nltk in /usr/local/lib/python3.7/dist-packages (from bnlp_toolkit) (3.2.5)\n",
            "Requirement already satisfied: sklearn-crfsuite in /usr/local/lib/python3.7/dist-packages (from bnlp_toolkit) (0.3.6)\n",
            "Requirement already satisfied: sentencepiece in /usr/local/lib/python3.7/dist-packages (from bnlp_toolkit) (0.1.96)\n",
            "Requirement already satisfied: wasabi in /usr/local/lib/python3.7/dist-packages (from bnlp_toolkit) (0.9.0)\n",
            "Requirement already satisfied: scipy in /usr/local/lib/python3.7/dist-packages (from bnlp_toolkit) (1.4.1)\n",
            "Requirement already satisfied: smart-open>=1.8.1 in /usr/local/lib/python3.7/dist-packages (from gensim==4.0.1->bnlp_toolkit) (5.2.1)\n",
            "Requirement already satisfied: six in /usr/local/lib/python3.7/dist-packages (from nltk->bnlp_toolkit) (1.15.0)\n",
            "Requirement already satisfied: tabulate in /usr/local/lib/python3.7/dist-packages (from sklearn-crfsuite->bnlp_toolkit) (0.8.9)\n",
            "Requirement already satisfied: python-crfsuite>=0.8.3 in /usr/local/lib/python3.7/dist-packages (from sklearn-crfsuite->bnlp_toolkit) (0.9.7)\n",
            "Requirement already satisfied: tqdm>=2.0 in /usr/local/lib/python3.7/dist-packages (from sklearn-crfsuite->bnlp_toolkit) (4.62.3)\n"
          ]
        }
      ]
    },
    {
      "cell_type": "markdown",
      "source": [
        "# Importing Library"
      ],
      "metadata": {
        "id": "QJXhbfyukN0X"
      }
    },
    {
      "cell_type": "code",
      "metadata": {
        "id": "TstOUDjUkYdN"
      },
      "source": [
        "\n",
        "import numpy as np\n",
        "import matplotlib.pyplot as plt\n",
        "import pandas as pd\n",
        "from bnlp.corpus import stopwords\n",
        "from bnlp.corpus.util import remove_stopwords\n",
        "\n",
        "from bnltk.stemmer import BanglaStemmer\n",
        "from pandas import read_excel\n",
        "import re\n",
        "from re import sub\n",
        "import multiprocessing\n",
        "\n",
        "import os\n",
        "from time import time \n",
        "import tensorflow as tf\n",
        "import keras\n",
        "from keras.models import Sequential\n",
        "from keras.layers import LSTM,Dense,Dropout,Activation,Embedding,Flatten,Bidirectional,MaxPooling2D, Conv1D, MaxPooling1D\n",
        "\n",
        "from keras import regularizers\n",
        "from keras.preprocessing.text import Tokenizer\n",
        "from keras.preprocessing.sequence import pad_sequences\n",
        "from keras.utils.np_utils import to_categorical\n",
        "import h5py\n",
        "import csv\n",
        "import seaborn as sns\n",
        "import matplotlib.pyplot as plt\n",
        "from sklearn.model_selection import train_test_split\n",
        "from sklearn.model_selection import StratifiedKFold\n",
        "#from tensorflow.keras.preprocessing.text import Tokenizer\n",
        "#from tensorflow.keras.preprocessing.sequence import pad_sequences"
      ],
      "execution_count": 29,
      "outputs": []
    },
    {
      "cell_type": "markdown",
      "source": [
        "# Read dataset"
      ],
      "metadata": {
        "id": "aautGAxOkUuQ"
      }
    },
    {
      "cell_type": "code",
      "metadata": {
        "id": "ANwKKdniX7iy"
      },
      "source": [
        "from google.colab import drive\n",
        "#drive.mount('/content/drive')\n",
        "dataset=pd.read_csv('/content/Covid vaccine data.csv')\n"
      ],
      "execution_count": 30,
      "outputs": []
    },
    {
      "cell_type": "code",
      "metadata": {
        "colab": {
          "base_uri": "https://localhost:8080/"
        },
        "id": "vdjlwedwVQ5h",
        "outputId": "103d33ee-0ac6-46aa-df56-93e1781ed895"
      },
      "source": [
        "dataset.shape"
      ],
      "execution_count": 31,
      "outputs": [
        {
          "output_type": "execute_result",
          "data": {
            "text/plain": [
              "(418, 2)"
            ]
          },
          "metadata": {},
          "execution_count": 31
        }
      ]
    },
    {
      "cell_type": "code",
      "metadata": {
        "colab": {
          "base_uri": "https://localhost:8080/",
          "height": 313
        },
        "id": "mFrmJQ2LeLCO",
        "outputId": "daab9436-f703-4159-e2b3-1ba75bcfbd0b"
      },
      "source": [
        "target_vc = dataset[\"Polarity\"].value_counts(normalize=False)\n",
        "print(\"Non-urgent: {:.2%}, Urgent: {:.2%}\".format(target_vc[0], target_vc[1]))\n",
        "sns.barplot(x=target_vc.index, y=target_vc)\n",
        "plt.title(\"Dataset Distribution\")\n",
        "plt.xlabel(\"0 = Non-urgent, 1 = Urgent\")\n",
        "plt.ylabel(\"Number of data\")\n",
        "plt.show()"
      ],
      "execution_count": 16,
      "outputs": [
        {
          "output_type": "stream",
          "name": "stdout",
          "text": [
            "Non-urgent: 21900.00%, Urgent: 19900.00%\n"
          ]
        },
        {
          "output_type": "display_data",
          "data": {
            "image/png": "[encoded data removed]",
            "text/plain": [
              "<Figure size 432x288 with 1 Axes>"
            ]
          },
          "metadata": {
            "needs_background": "light"
          }
        }
      ]
    },
    {
      "cell_type": "markdown",
      "source": [
        "# Data Preprocessing"
      ],
      "metadata": {
        "id": "Czfg6DsOkis3"
      }
    },
    {
      "cell_type": "code",
      "metadata": {
        "colab": {
          "base_uri": "https://localhost:8080/"
        },
        "id": "RUyvbeINX-EE",
        "outputId": "6ac656b0-cfcd-4ee3-9353-acd4336b06bc"
      },
      "source": [
        "import re\n",
        "corpus=[]\n",
        "max=0\n",
        "for i in range(0,418):\n",
        "    review = re.sub('[\\!\"#$%&()*,./:;<=>?@[\\\\]^`{|}~\\t\\n।+-]', ' ', dataset['Text'][i])\n",
        "    review=review.replace('_',' ')\n",
        "    review=review.replace('ঃ',' ')\n",
        "    review = re.sub('[a-zA-Z0-9]+', ' ', review)    \n",
        "    review = re.sub('[''```\u0012\u0010\u0002\b`\u0007\b£|¢|\u0007Ñ/=EROero।!“’<>‘॥”‰\\'🤓⌚🤰🥺⚽️✌�￰🥀🤣🤡🤗🤐🤦🤔⏩⏹￰]', ' ', review)               \n",
        "    emoji_pattern = re.compile(\"[\"\n",
        "                           u\"\\U0001F600-\\U0001F64F\"  # emoticons\n",
        "                           u\"\\U0001F300-\\U0001F5FF\"  # symbols & pictographs\n",
        "                           u\"\\U0001F680-\\U0001F6FF\"  # transport & map symbols\n",
        "                           u\"\\U0001F1E0-\\U0001F1FF\"  # flags (iOS)\n",
        "                           u\"\\U00002702-\\U000027B0\"\n",
        "                           u\"\\U000024C2-\\U0001F251\"\n",
        "                           u\"\\u00C0-\\u017F\"          #latin\n",
        "                           u\"\\u2000-\\u206F\"          #generalPunctuations \n",
        "                           u\"\\\\U0001f90f\" \n",
        "                           u\"\\\\U0001f9cf\"\n",
        "                           u\"\\U0001fa78\"  \n",
        "                           \"]+\", flags=re.UNICODE)\n",
        "    review=emoji_pattern.sub(r'', review)\n",
        "    #review=str(review)\n",
        "    #review=review.split()\n",
        "    '''review=review.replace('A', 'এ')\n",
        "    review=review.replace('B', 'বি')\n",
        "    review=review.replace('AB', 'এবি')\n",
        "    review=review.replace('O', 'ও')\n",
        "    review=review.replace('+','পজিটিভ')\n",
        "    review=review.replace('-','নেগেটিভ')'''\n",
        "    review=review.lower()\n",
        "    bn_stemmer = BanglaStemmer()\n",
        "    review=bn_stemmer.stem(review)\n",
        "    review = remove_stopwords(review, stopwords)\n",
        "    #review=str(review)\n",
        "    #review=review.split()\n",
        "    review=' '.join(review)\n",
        "    corpus.append(review)\n",
        "    if(max<len(review)):\n",
        "      max=len(review)\n",
        "print(max)\n"
      ],
      "execution_count": 32,
      "outputs": [
        {
          "output_type": "stream",
          "name": "stdout",
          "text": [
            "384\n"
          ]
        }
      ]
    },
    {
      "cell_type": "code",
      "metadata": {
        "id": "CrX8v3JMv--j",
        "colab": {
          "base_uri": "https://localhost:8080/"
        },
        "outputId": "f6dc4151-a175-472f-c403-cf52a3b96934"
      },
      "source": [
        "corpus"
      ],
      "execution_count": 33,
      "outputs": [
        {
          "output_type": "execute_result",
          "data": {
            "text/plain": [
              "['ম্যাডাম টিকাটা ভারতে সম্পকে জানেনই একটু ব',\n",
              " 'ভ্যাকসিন নেয়ার পরও বাবার করোনা পজেটিভ এসেছে ছোট ছেলের করোনা বাবার হালকা জ্বর গলা ব্যাথা অসুস্থ হননি',\n",
              " '১ম ডোজ নেয়ার দের মাস আজোও ২য় ডোজ নেবার এম',\n",
              " 'আড়াই মাস হয়ে দ্বিতীয় ডোজ টিকা টাই এখনো পেলাম বুস্টার ডোজ টিকা হয়ে গ',\n",
              " '৫ লোক কিভাবে পাবে টিকা রোহিঙ্গাদের টিকা',\n",
              " 'বাংলাদেশ সবসময় ভারতের নির্ভর কারনে বিপদ উদাহারন পেঁয়াজ টিকা',\n",
              " 'টিকাদান রেজিস্ট্রেশন বিড়ম্বনা যেইদিন ডেট পড়বে অইদিন টিকা গ্রহণ পারবেন',\n",
              " 'কারা ভ্যাক্সিনেশন কারা বর্তমানে টিকা দিচ্ছেন ইউনিসেফ জানেন',\n",
              " 'হাস্পাতালগুলাতে ভ্যাক্সিন দেয়ার আলাদা স্থান নির্ধারণ হয়েছে কারনে বিড়ম্বনা ছাড়াই টিকাদান কর্মসূচি সম্পন্ন হ',\n",
              " 'রোগ প্রতিরোধ ক্ষমতা ভাল শরীরে তাদেরও টিকা নেয়া জরুরী কোভিড সংক্রমণ রোধে সবাই ভ্যাক্সিনেটেড শঙ্কামুক্ত হবো',\n",
              " 'মূহুর্তে টিকার মজুদ খুবই দরক',\n",
              " 'আশ্চর্য ফরমে কোথাও লেখা বুস্টার ডোজ লেখা ৩য় ডোজ গ্রহীতা বুঝবে',\n",
              " 'ফাইযার ভ্যাক্সিন পেয়েছি আলহামদুলিল্লাহ কেন্দ্রে ফাইযারের পর্যাপ্ত সরবরাহ',\n",
              " 'সিদ্ধান্ত মাইরি টিকার টাকা অগ্রীম দেশ টিকা দেয়া বন্ধ রেখেছে পাঠাচ্ছি রেমডিসিভির বলুন হ্যাঁ বাংলাদেশ বাংলাদেশের সৌন্দর্য',\n",
              " 'মৃত্যু নিশ্চিত টিকা অর্বাচীন',\n",
              " 'গবেষণায় পাওয়া ফাইজার মডোরনা টিকা করোনার বিরুদ্ধে সবচেয়ে কার্যকর টিকা',\n",
              " 'তিন লাইনে দাঁড়িয়ে টিকা পাই কারন লাইনের বাহিরে দলিয় লোক অ নিয়মবহির্ভূত টিকা নেয় জারা নিরীহ মানুষ টিকা পায়',\n",
              " 'টিকা টিকা ফ্রিতে বাকি টিকা টাকার বিনিময়ে স্বাস্থ্য মন্ত্রণালয়ের পরিকল্পনা',\n",
              " 'কাকে দিবে টিকা বড় লোক',\n",
              " 'কোভিড ভ্যাক্সিন শরীরে ইমিউনিটি বৃদ্ধি',\n",
              " '১৮ জনসংখ্যা মিনিমাম ১৩কোটি ভেকসিনের আওতা আনা দরক',\n",
              " 'ভ্যাক্সিন নিন কারন বিদেশ খুবই জরুরী',\n",
              " 'ডোজ দিছি ৩ মাস দ্বিতীয় ডোজ খবর তৃতীয় ডোজের গান গাওয়া হইছে',\n",
              " 'অতিমাত্রায় গোলামীর ফলাফল অগ্রীম টাকা দিয়েও টিকা পাওয়া টাকাও ফেরত পাবেনা পেলেও কাঠ খড় পুড়িয়ে',\n",
              " 'গো ভ্যাক্সিন নেওয়ার আহবান',\n",
              " 'ভ্যাকসিন চাই সবাই মিলেই বাঁচতে চাই',\n",
              " 'ভ্যাকসিন প্রত্যেকটি মানুষকে নওগাঁ নচেৎ বাংলার মানুষের মনের তাগিদ জনগণের মনের কথা ভাগ মানুষই লকডাউন লকডাউন বিরোধিতা সবাই পুঁজিবাদী সুদখোর তারাই শুধুমাত্র লকডাউনের সমর্থন কেননা অঢেল সম্পদ জীবনের মায়া',\n",
              " 'বাংলাদেশে পরীক্ষা সুইডেনে উদ্ভাবন ওইখানেই পরীক্ষা ক্লিনিকাল ট্রায়াল করুক এগুলা লোকজন বুঝে নেতৃত্বস্থানীয় ব্যক্তিবর্গ ভালো হইলে দেশে কখনোই দেশের ওষুধের ক্লিনিকাল ট্রায়াল দিবে',\n",
              " 'করোনা ভাইরাস আতঙ্ক করোনা ভাইরাস মোকাবেলায় সতর্ক থাকুন অন্যকে সুরক্ষিত রাখুন সবাই মাস্ক করুন সোশ্যাল ডিসটেন্স মেনে চলুন সম্ভব সবাই ভ্যাকসিন নিন রাখবেন যতদিন সবাই ভ্যাকসিন পারব অর্থাৎ কালেক্টিভ ইমুনিটি তৈরি পারব ততোদিন মাস্ক সোশ্যাল ডিসটেন্সই ভ্যাকসিন সবাই ভালো সুস্থ সাবধানে',\n",
              " 'প্রতিটি স্কুল মাদ্রাসায় ভেক্সিন ব্যাবস্থা',\n",
              " 'টিকা প্রদান ব্যবস্থাপনায় বাংলাদেশ অন্যান্য এশিয়ান দেশ এগিয়ে',\n",
              " 'সমস্যা ঠাক শরীর ভ্যাক্সিন নি',\n",
              " 'ভ্যাক্সিন আসলাম ভ্যাক্সিন দেয়ার ব্যবস্থা ভাল',\n",
              " 'সৌদি যাবো প্রতম ডুস এখনো পাইনা আবেদন করলাম অনেকদিন হয়ে গ',\n",
              " 'করোনা যেকোনো মানুষকেই আক্রান্ত টিকা থাকলে গুরুতর অসুস্থতা মৃত্যুর ঝুঁকি',\n",
              " 'ভাললাগছে নিজ দেশের ভ্যাকসিনের সফলতার দোয়া',\n",
              " 'ভ্যাক্সিনেশন করোনার বিরুদ্ধে সবচেয়ে কার্যকর উপায় তাড়াতাড়ি ভ্যাক্সিন',\n",
              " 'টিকা নিলে শ্বাসকষ্টে মানুষ মরে ইনশাআল্লাহ আসুন সবাইকে ভ্যাকসিন উৎসাহিত একা ভালো থাকার সুযোগ',\n",
              " 'টিকা তোমাকে বাচাতে পারব',\n",
              " 'সংক্রমণের মাত্রা কমিয়ে ভ্যারিয়েন্টের সৃষ্টি থামানোর অবিলম্বে সবাইকে টিকার আওতায় আনতে',\n",
              " 'টিকার ডেট পেয়েছেন আলসেমি দিচ্ছেন দ্রুত দিয়ে ফেলেন ভ্যাক্সিন করোনা আবারো বাড়ছে টিকার বিকল্প',\n",
              " 'পরিবারের বয়স্কদের দ্রুত সম্ভব টিকা আক্রান্ত হওয়ার ঝুঁকি কমবে',\n",
              " 'দ্রুত সম্ভব সকলকে টিকা প্রদান বিষয়গুলো সরকার গুরুত্ব সহকারে কার্যকর করলেই একমাত্র করোনার হাত রক্ষা সম্ভব',\n",
              " '৩য় ডোজ কমপ্লিট ভ্যাক্সিন',\n",
              " 'ভ্যাক্সিন গুজব সঠিক তথ্য জানুন ভ্যাক্সিন দিয়ে ফেলুন',\n",
              " 'এক সপ্তাহ মডার্না ২য় ডোজ টিকা দিলাম সমস্যা নি ডোজ সুস্থই ছিলাম',\n",
              " 'টিকা ব্যাপসা সুরু',\n",
              " 'মডার্না ফাইযার সিনোফারম সবই বিশ্বজুড়ে গ্রহণযোগ্যতা পেয়েছে টিকা বিভ্রান্ত হয়ে আজই নিবন্ধন করুন',\n",
              " 'টিকার ভেতর স্যালাইন',\n",
              " 'সচেতন হই অন্যকে সচেতন সাহায্য সবাই মাস্ক আল্লাহ সহায় হওক অন্যদের টিকা গ্রহণে উৎসাহিত করুন আমিন',\n",
              " 'টাকা খরচ বিদেশী টিকা কিনে আনা দেশী কোম্পানী ধনী হয়েযাবে ভয়ে অন্যকোন অদৃশ্য ষড়যন্ত্রে নিরুৎসাহিত রাষ্ট্রে সবই সম্বভ',\n",
              " 'টিকাই',\n",
              " 'শেখ হাসিনার নেতৃত্বে সম্পূর্ণ দেশ জুড়ে কোভিড টিকা সরবরাহ অব্যাহত রয়েছে জয় বাংলা জয় বঙ্গবন্ধু',\n",
              " 'হয়তো করোনা আক্রান্ত হচ্ছেন ভ্যাক্সিন নিচ্ছেন পরিবারের অন্যান্য মানুষজন বাচ্চা বয়স্করা সক্রমিত দেরি ভ্যাক্সিন নিন',\n",
              " 'সুসংবাদ শিশুদের আসছে বেবি ভ্যাক্সিন',\n",
              " 'ভ্যাক্সিন নেয়ার ভালো আছি সমস্যা হয়নি',\n",
              " 'চীনের টিকার ডোজ ২৫ মে',\n",
              " 'নিযে ভ্যাক্সিন নিন অন্যকেও উদ্বুদ্ধ করুন',\n",
              " 'কোম্পানিই টিকা একশভাগ সুরক্ষা দেবে করোনা মারা টিকা শরীরে এন্টিবডি তৈরি সাহায্য টিকা সকলকে সাথে অবশ্যই স্বাস্থ্যবিধি মেনে চলতে বাকিটা আল্লাহ ভরসা',\n",
              " 'আসবে জানি গন টিকা জানিনা আগের স্বাধিন হবো',\n",
              " 'এসব টিকা ফিকা লকডাউন চলছে চলবে লকডাউন একমাত্র সমাধান কমপক্ষে তিন বছরএসব টিকা ফিকা লকডাউন চলছে চলবে লকডাউন একমাত্র সমাধান কমপক্ষে তিন বছর',\n",
              " 'বাংলা দেশের টিকা বঙ্গ ভেস্ক সরকার সঠিক সময় ওনোমদন দিতো টিকা জটিলতা তৈরি হতো',\n",
              " 'ভ্যাক্সিন আন সতর্ক আস',\n",
              " 'টিকা আসতেছে কোথায় সেগুলো',\n",
              " 'টিকা কেন্দ্রে অনিয়মের অভিযোগ সবাই সাবলীলভাবে টিকা দি',\n",
              " 'টিকা দান কেন্দ্র ভালো সুশৃঙ্খল ব্যবস্থাপনা লক্ষ্য',\n",
              " 'মডার্না ভ্যাক্সিন পেয়েছি ২ ডোজ বুস্টার ডোজ অপক্ষা করছি',\n",
              " 'দেশে টিকাও নকল হয়ে',\n",
              " 'দেশের জনগনের টাকায় টিকা কিনবেন নিশ্চই বড় রকমের চুরি',\n",
              " 'করোনাভাইরাস টিকার নিবন্ধন সহায়তা করুন মহামারি মোকাবেলায় এগিয়ে আসুন',\n",
              " 'ভ্যাক্সিন নেয়ার পেশিতে ২ ব্যথা ছোটকালে টিকা নেয়ার পরও এরকম ব্যথা স্বাভাবিক শঙ্কিত হওয়ার সুরক্ষিত থাকতে ভ্যাক্সিন নিন',\n",
              " 'টিকাই মৃত্যুকে তরান্বিত',\n",
              " 'হাতে ব্যথা হালকা জ্বর এখান আলহামদুলিল্লাহ সুস্থ',\n",
              " 'বাংলাদেশের প্রতিটি উপজেলা হাসপাতালে টিকা দেওয়ার ব্যবস্থা কাহিনি হইতো না৷',\n",
              " 'টিকা দেয়ার জটিলতা দেয় নি সুস্থ আছি আলহামদুলিল্লাহ',\n",
              " 'লাভ ভেরিয়েন্ট এসব টিকাতেও হচ্ছেনা টিকা দেয়ার পরও অাক্রান্ত হ',\n",
              " 'লকডাউন দিয়েও জনসমাগম বন্ধ সম্পূর্ণভাবে সম্ভব একমাত্র টিকা গ্রহন সুরক্ষার অন্যতম মাধ্যম',\n",
              " 'আজকে ২য় ডোজ ডেট আগেরবারও ভ্যাক্সিন দিয়ে এসেছি কোনরকম ঝামেলা ছাড়া এইবারো সমস্যা আশা',\n",
              " 'চ্যানেলে কোম্পানির টীকা আসছে আপনারা জানাচ্ছেন লুকাচ্ছেন আপনারা জানালে আপনাদের অসুবিধা আ',\n",
              " 'ফাইজার টিকা ভালো দুবাইতে এগুলো দেখছি আমিও',\n",
              " 'ডোজ টিকা গুলো বুড়িগঙ্গা নদীর পানি ছিলো',\n",
              " 'রেজিষ্ট্রেশন আছি ভয়ে টীকা পারছি',\n",
              " 'টিকা ফিকা ডোজ',\n",
              " 'টিকাদান ব্যবস্থাপনায় বাংলাদেশ অন্যান্য এশিয়ান দেশ এগিয়ে',\n",
              " 'বাবা মা ২ জনই ভ্যাক্সিন নিয়েছে সবাই ভাল আলহামদুলিল্লাহ',\n",
              " 'ধনীরা ভ্যাকসিন গুলিয়ে খা কিনবো কারন ভাত খাওয়ার টাকা ভ্যাকসিন বিলাসিতা মাএ',\n",
              " 'করোনাভাইরাস টিকা নেয়ার কতদিন বাচ্চা নেয়া যাবেনা টিকা নিয়েছি একজন নার্স টিকা নেয়ার ৬ মাস বাচ্চা নেয়া যাবেনা',\n",
              " 'দেশে করোনা রুগীর চেয়ে এরকম ফাউল ফুড ব্লগার সংখ্যায় এদেরকে ভ্যাক্সিনেশন আওতায় আনা দরক',\n",
              " 'ভাবছেন টিকা দিয়ে সুরক্ষিত আছেন পরিসংখ্যান দেখলেই বুঝবেন মৃত্যুহার টিকা গ্রহণ করেনি সতর্ক হোন টিকা গ্রহণ করুন',\n",
              " 'টিকা নিয়েছেন সংক্রমণের হার কম টিকা নেননি তুলনায় টিকা দ্রুত সবাই স্বাস্থ্যবিধি অনুসরণ একসময় করোনা মহামারী নিয়ন্ত্রণে আসবে ইনশাআল্লাহ',\n",
              " 'টিকার নিবন্ধন করেছি এসএমএস আসছে',\n",
              " 'ইউনিসেফকে সাধুবাদ জানাই',\n",
              " 'সচেতন নাগরিক হিসেবে উচিৎ টিকা গ্রহন',\n",
              " 'শিরোনামের কারনে সচেতন মানুষগুলো অসচেতন হয়ে যায় টিকা নিন সুস্থ থাকুন',\n",
              " 'আলহামদুলিল্লাহ্ ডোজ করোনা টিকা গ্রহণ করেছি',\n",
              " 'দেরি ভ্যাক্সিন নিন নিয়েছি সবাইকে সচেতন টিকে থাকার একমাত্র উপায়',\n",
              " 'গবেষকদের মতে গর্ভবতী প্রসূতি মায়েরাও করোনাভাইরাস টিকা পার',\n",
              " 'ওরে বাঙ্গালি আদৌ টিকা নিবেনা অভিনয় দেখলাম টিকা হাহুতাশ',\n",
              " 'বিমান নামানোর ছবি শিপমেন্ট সেপি অর্থের সামঞ্জস্য কিনা অগ্যতা থাকলে উনিসেফ বাংলাদেশ পেজ খুবই বিষ্মিত হলাম ধন্যবাদ',\n",
              " 'আসলে মানুষ জেনে কথা ছড়ায় টিকা পরবর্তী জটিলতা দেয় ভয় পেয়ে ভ্যাক্সিন নিন',\n",
              " 'টিকা দানে উৎসাহিত ক্যাম্পেইন ভ্যাক্সিন মানুষের ভ্রান্ত ধারনা সৃষ্টি',\n",
              " 'লকডাউন দিয়েও চলাচল বন্ধ সম্পূর্ণভাবে সম্ভব একমাত্র টিকা গ্রহন সুরক্ষার অন্যতম মাধ্যম',\n",
              " 'ম্যাসেজ পেয়ও টিকা পাচ্ছিনা',\n",
              " 'চীন ৬ ভ্যাক্সিন যাত্রা বাংলাদেশ বিমানবাহিনীর পরিবহন বিমান',\n",
              " 'টিকার মেয়াদ কারো ভাবার টাইম প্রশ্ন আসে ২ ডোজ টিকা দিলেই বছর বছর এখনতো পিছনের পকেট টাকা নিচ্ছে সামনের পকেট নিবে',\n",
              " 'টিকা করোনা ভয়াবহ মারাত্মক',\n",
              " 'দেশ সিঙ্গাপুরের চেয়েও উন্নত দেশে বাহির টিকা আসতে',\n",
              " 'ভ্যাক্সিন নিন সুস্থ থাকুন',\n",
              " '১ মাস এখনো ১ম ডোজ টিকা পারলাম টিকা শেষ হয়ে',\n",
              " 'ডোজ টিকা দিয়েছি একমাস পেরিয়ে মাসের কাছাকাছি এখনো দ্বিতীয় ডোজ টিকার মেসেজ আসেনি',\n",
              " '২০ জুলাই রেজিষ্টেশন করেছি এসএমএস পাইনি',\n",
              " 'এভাবে টিকার প্রলোভন দেখিয়ে টাকা নিয়েছে ধন্যবাদ',\n",
              " 'মানুষের মৃত্যু টিকা ঠেকাতে পারবে টিকা দিয়ে লাভ',\n",
              " 'সমস্যা বাংলাদেশর লাগবে বাংলাদেশ টিকা হাঙ্গেরি রপ্তানি কর',\n",
              " 'ভ্যাক্সিন আসার মানুষ টিকা পারছেন',\n",
              " 'বাংলাদেশের ইউনিসেফ অভিনন্দন',\n",
              " 'ভ্যাক্সিন নিয়েছেন অসতর্ক হয়ে চলা ভ্যাক্সিন নিন সতর্ক থাকুন',\n",
              " 'রাষ্ট্র ট্যাক্সের টাকা দিয়ে করতেছে এইখানে ফাঁফরবাজি কারো বাপের টাকা দিয়ে টিকা এনে দিচ্ছে',\n",
              " 'লকডাউন দিয়ে দ্রুত টিকা দ',\n",
              " 'সেরাম টাকা ফেরত টিকাই দিলোনা টাকা ফেলে রাখবো',\n",
              " 'ডোজ পারলাম',\n",
              " 'ভ্যাক্সিনেশন করোনার বিরুদ্ধে সবচেয়ে কার্যকর উপায় অনতিবিলম্বে ভ্যাক্সিন',\n",
              " 'দেশে করোনাভাইরাসের টিকার দ্বিতীয় ডোজ চিন্তা কথা জানালেন স্বাস্থ্যমন্ত্রী জাহিদ মালেক',\n",
              " 'আজ১ মাস এখনো১ ম ডোজ টিকা পারলাম টিকা শেষ সাবর সাহায্য চাই ০১৮৭৪৫৭৪৭০৬ সাহায্য করুন',\n",
              " 'শুধুমাত্র বয়স্করাই ভ্যাক্সিন যুবকদেরও করোনা প্রতিরোধে ভ্যাক্সিন বিকল্প',\n",
              " 'পৌনে ২ লোককে ১ম ডোজ টিকা শেষ আপনারা বলছেন ৫ লোকও টিকা পায়নি সরকারের রাষ্ট্রের বিরুদ্ধে অপপ্রচার চালাচ্ছেন আপনারা',\n",
              " 'গুজবে কান দিয়ে এক্সপারট সাজেশন ভ্যাক্সিন আশা ভ্রান্ত ধারনা পরিষ্কার',\n",
              " 'খালি বাংলাদেশে অফার টিকা নেয়ার খুনাখুনি হয়ে যাব',\n",
              " 'দেশের করোনা পরিস্থিতি নিয়ন্ত্রণের বাইরে পরিস্থিতি নিয়ন্ত্রণে আনতে দরকার গণ টিকা কার্যক্রম রেজিস্ট্রেশন',\n",
              " 'খালি ভ্যাক্সিন দিলেই মাস্ক পড়তে হাত একটু সেনিটাইজ ভ্যাক্সিন অবশ্যই করোনা প্রতিরোধে সাহায্য তারপরো সতর্ক থাকতে',\n",
              " 'টিকা ভিড় পাইনি টিকা দেয়ার ব্যবস্থা আগের মতই স্বাভাবিক',\n",
              " 'গুজবে কান দিবেন ২ ডোজ টিকা নিয়েছি পার্শ্ব প্রতিক্রিয়া দেয় নি সবাই করোনা বাঁচতে টিকা',\n",
              " 'ভ্যাক্সিন নিন বাচুন দেশকে বাঁচান',\n",
              " 'ধন্যবাদ ইউনিসেফ কর্তিপক্ষ',\n",
              " 'এলাকার ডাক্তারের শুনলাম টিকা নিয়েও মানুষ মারা গিয়েছে',\n",
              " 'কেন্দ্রে কেন্দ্রে সাস্থ্যবিধি মেনে চলছে টিকাদান কর্মসূচি',\n",
              " 'আল্লাহ্ একমাত্র ভরসা টিকা',\n",
              " 'দ্বিতীয় ডোজ নেয়ার সময় ১৮ ০৫ ২১ তাং আজও ম্যাসেজ পাই',\n",
              " 'প্রত্যন্ত অঞ্চলে টিকা প্রদানকারী দের একটু খোঁজ খবর নেন',\n",
              " 'দারিদ্রতা ক্ষুধা করোনা জয় শক্তি জোগায় সত্য',\n",
              " 'ভ্যাকসিন নিন করোনা বাঁচেন অন্যকে বাঁচাতে সাহায্য কালেক্টিভ ইমুনিটি তৈরিকরেন দেশকে বাঁচান',\n",
              " 'সরকারি চাকরি লইতে টিকা',\n",
              " 'তাইলে গতকাল কিসের টিকা পাইলাম আগামিকাল সিনোফার্মা মর্ডানা তাইলে',\n",
              " 'টিকার সরবরাহ নিশ্চিত দৃঢ় প্রতিজ্ঞ বাংলাদেশ সরকার সবাইকে টিকাদানের আওতাভুক্ত ১ বছরের মধ্য',\n",
              " 'এসব গুজব টিকা নেয়ার করোনা',\n",
              " 'দ্বিতীয় ডোজ দেয়া হয়েছে বুস্টার ডোজ চাই',\n",
              " 'এক মাস খবর টিকা পাবো আল্লাহই ভালো জান',\n",
              " 'দ্বিতীয় ডোজ যাবেন ধামা থাক',\n",
              " 'স্বাস্থ্য সহকারী রা ভ্যাকসিন প্রদান আসছে',\n",
              " 'খাচ্ছে টিকা বাঙালি খাওয়া',\n",
              " 'ভাই টিকা দি টিকা চা',\n",
              " 'ভাইরাসের বিরুদ্ধে শরীরের প্রতিরোধ ক্ষমতা গড়ে তুলতে টিকা অত্যন্ত জরুরি',\n",
              " 'টিকা খুঁজছে বাংলাদেশ',\n",
              " 'টিকা মানুষ মরার মেসিন পরিস্কার কেননা টিকা ধনীরা আগ্রহী',\n",
              " 'আসলে আমরাত পাচ্ছি',\n",
              " 'এতো টাকার ভ্যাকসিন কিনে এভাবে ভিক্ষা চাওয়ার বাঙালি জানলে দেশের ভিক্ষা ঠিকই চায়তে পার',\n",
              " 'আলহামদুলিল্লাহ ভ্যাক্সিন কমপ্লিট',\n",
              " 'একটা পাইনা দুইটার আসা কর',\n",
              " 'মডার্না ফাইযার সিনোফারম সবই বিশ্বজুড়ে গ্রহণযোগ্যতা পেয়েছে টিকা ভুল সংবাদ ছড়িয়ে আজই নিবন্ধন করুন',\n",
              " 'ভেক্সিন নিয়েছে আসলে ভ্যাক্সিনের ফরমুল প্রকাশ',\n",
              " 'যানতাম গাজার নৌকা পাহাড়তলী যায় দেখি চিনা ভ্যাক্সিন পাহাড়তলী',\n",
              " 'ভ্যাক্সিন নেবার আল্লাহর রহমতে সুস্থ আছি কোনরকম সমস্যা দেয় নি',\n",
              " 'ডোজ ২য় ডোজের অপেক্ষা টিকার নিশ্চয়তা',\n",
              " 'টিকা সম্পর্কে ভ্রান্ত ধারনা বাদ টিকারই কার্যকারিতা বিশ্বব্যাপী গ্রহনযোগ্য',\n",
              " 'জুলাই মাসে ১৭ তারিখ ভ্যাকসিন রেজিষ্ট্রেশন করেছিলাম পযন্ত মেসেজ আসে নি',\n",
              " 'হাসিনার বাবার মৃত্যু দিবস শেষ করোনা আক্রান্তের হার ১০০০০ হাজারে পৌছাবে মৃত্যু ৩০০ কতদিন করোনা আপাকে রাজনীতির ইসু বানাবি পিসু করাবি খেয়ে মরি তুই চাস',\n",
              " 'পৃথিবীতে টিকা আবিষ্কার হয়নি যেটা ১০০ কার্যকর ছোটবেলায় হাম নিউমোনিয়ার টিকা নেওয়ার পরবর্তীতে আক্রান্ত হয়ে মারা যায় করোনার ডোজ টিকা মৃত্যু ঠেকাতে ৯৮ অর্থাৎ মানুষ মারা যেতেই খুবই রেয়ার কেস',\n",
              " 'প্রচন্ড স্বাস্থ্যবিধী মেনে ভ্যাকসিন নিরাপদ দুরত্ব একেক',\n",
              " 'টিকা নিবো',\n",
              " 'করোনার সময় মাননীয় প্রধানমন্ত্রী জননেত্রী শেখ হাসিনার প্রণোদনা ভাতার ২৫০০ টাকা মৌলভীবাজার জেলার কমলগঞ্জ উপজেলার শমশেরনগর ইউনিয়নের একজন লোকও পেল ৮৫০ তালিকা প্রত্যেকের মোবাইল নাম্বার দেয়ার সরকারি বিদ্যালয়ের শিক্ষক দিয়ে নাম্বারে কল যাচাই বাছাই পেল দুর্নীতির কারণে আত্মসাৎ ইউনিয়নের জনগণ অপরাধে অপরাধী কারণে মাননীয় প্রধানমন্ত্রীর প্রণোদনা বঞ্চিত জানি শমশেরনগরের মানুষ প্রশ্নের জবাব আদৌ পাবে',\n",
              " 'বাংলাদেশের প্রেক্ষাপটে টিকাদান কর্মসূচির এহেন সুষ্ঠ ব্যবস্থাপনা সত্যি প্রশংসনী',\n",
              " 'টিকা টিকা পাবেননা',\n",
              " 'টিকা করোনার ভয়ংকর টিকা দেওয়াই উত্তম',\n",
              " 'ভারতে করোনা ভাইরাসের সংক্রমণ বেড়ে দেশটি টিকা রপ্তানী বন্ধ বাংলাদেশের টিকা পাওয়ার অনিশ্চয়তার মুখে পড়েছে',\n",
              " 'ভারতের টিকা নিলে এরকমই',\n",
              " 'রেজিস্ট্রেশন কিছুদিন মাথায় টিকা গ্রহনের মেসেজ পেয়েছি সবাই টিকা নিন',\n",
              " 'নিজেরা তৈয়ার অন্যের আশায় থাকো শিক্ষা প্রতিষ্ঠান বন্ধ প্রজন্মকে মুর্খ বানাও',\n",
              " 'আপনাদের কোভ্যাক্সের যেসব টিকা আসছে বাংলাদেশের স্বাস্থ্য মন্ত্রী সরকার বলছে কিনে নিচ্ছে আপনারা অনুদান বলছেন৷ সত্যিটা',\n",
              " 'ভ্যাক্সিন আবিষ্কার করলো সুইডেন পরীক্ষামূলক প্রয়োগ চায় বাংলাদেশে সুইডেনে মানুষ',\n",
              " 'পেয়েছি বুস্টার ডোজের এসএমএস',\n",
              " 'গুলোয় বাটপাররা লুটেপুটে খাব',\n",
              " 'করোনাভাইরাসের মোকাবেলা সাথে অবশ্যই শিশুদের নিয়মিত টিকাদান নিশ্চিত টিকার প্রতিরোধযোগ্য রোগ থামানো একাধিক রোগের উত্থানের ঝুঁকি এড়ানো',\n",
              " 'করোনাভাইরাসে আক্রান্ত ব্যক্তি টিকা থাকলে মৃত্যুর ঝুঁকি ৯০ শতাংশ কমে যায় দ্রুত টিকা নিন',\n",
              " 'ছোটবড় নির্বিশেষে টিকা নেয়া টিকা ছাড়া জীবণঝুঁকি তে সবাই',\n",
              " 'টিকা নিন সুস্থ থাকুন অন্যদের টিকা গ্রহণে উৎসাহিত করুন',\n",
              " 'এস্টোজেনিকা ভাল করেনা বাসায় ভাড়া থাকতেন হেডমাস্টার সাহেব টিকা নিয়েও মারা',\n",
              " 'ভ্যাক্সিন নেয়া ভ্যাক্সিন নেয়ার পরও সতর্ক থাকতে পরিস্কার পরিচ্ছন্ন থাকতে হব',\n",
              " 'এসব টিকা ভুয়া বিশ্ব রাজনীতির ব্যবসা',\n",
              " 'সবসময় আসছি সবাই ভ্যাক্সিন নেয়ার বলছি দেশ সুস্থ রাখতে সবাই দায়িত্বশীল',\n",
              " 'দেশের বাইরে যাওয়ার টিকা নেয়া বাধ্যতামূলক ভ্যাক্সিন আজই রেজিস্টার করুন',\n",
              " 'নিজেরা তৈরি অন্যের আশায় থাকো',\n",
              " 'বাংলাদেশের চোর টিকা নিয়েও চলছে দুর্নীতি রাজনীতি',\n",
              " 'দরকার ভ্যাক্সিনের ভ্যাক্সিন প্রভাবশালী ক্ষমতাসীন মানুষরা গ্রহন',\n",
              " 'আলহামদুলিল্লাহ ১ম ডোজ ডান',\n",
              " 'আপনারা টিকা নেওয়ার সময় টনের লট লোহা ডুকাই দিতাছে',\n",
              " 'ভ্যাক্সিন নেয়ার ১ শরীর খারাপ ছিলো যেদিন এসেছিলে আলহামদুলিল্লাহ হয়ে',\n",
              " 'ভ্যাক্সিন দিলে মৃত্যু ঝুঁকি কমবে ইনশাআল্লাহ',\n",
              " 'ফরম টা দিয়ে দিবে মেসেজ পাইনি ১ মাস মেসেজ ছাড়াই টিকা দিয়ে দিছে',\n",
              " 'ডোজ টিকা নেওয়ার দ্বিতীয় ডোজ নির্ধারিত তারিখ মোতাবেক পারছেনা হাসপাতাল জনগণ গুরে আসতে কেমন জগাখিচুরি',\n",
              " 'সুরক্ষা ওয়েবসাইটে সহজেই টিকা গ্রহনের নিবন্ধন পারবেন সহজেই টিকা গ্রহনের নিবন্ধন ফেলুন',\n",
              " 'গুরুত্বপূর্ণ প্রতিদিন সবাইকে বের হবেই টিকা নেয়া থাকলে কোভিড আক্রান্ত হওয়ার ঝুঁকি অনেকাংশে কমে যায়',\n",
              " 'ভারত যেই ভ্যাক্সিন দিসে জনগণরে বাংলাদেশরেও ভ্যাক্সিন নিজেরা আবিষ্কার কাঁচামাল নিজেরা প্রোডিউস ব্যবস্থাও এইটার ফর্মুলা কিনসে অক্সফোর্ড কাঁচামাল আনতো আমেরিকা জো বাইডেনের সরকার কাঁচামাল রপ্তানি বন্ধ কইরা দিসে জন্যই প্রচুর ভ্যাক্সিন বানানো লাগতেসে ভারত ভ্যাক্সিন বানাইতে পারতেসে বিজেপি সরকার যেই ফাঁপড় নিসিলো ভ্যাক্সিন নিয়া সেইটা বুমেরাং হইয়া গেসে',\n",
              " 'সকল ডোজ বুস্টার ডোজ নিয়েছি আলহামদুলিল্লাহ ভাল আ',\n",
              " 'অক্সফোর্ডের টিকা ১ টা পাইছিলাম এপ্রিলের ১০ তারিখে ২য় ডোজ লিখেছিলো জুনের ১০ তারিখে এখনো পাই নি',\n",
              " '২ ১ টা এক্সেপশন থাকতেই টীকা নিলে আপনারাই ঝুকিতে পরবেন',\n",
              " 'টিকা দিয়ে পাচ্ছিনা',\n",
              " 'বয়স ৫০বছর ঢকায় থাকি গত৮ ৭ ২১তারিখে নিবন্ধন করেছি টিকা কখন দিবে পারলে উপকার হ',\n",
              " 'টীকা নেয়াতে নিরুৎসাহিত মানে করোনা মোকাবিলাতে টীকাই একমাত্র উপায় সাংবাদিককে আরো প্রফেশনাল',\n",
              " 'টীকা বিশ্ব সাস্থ্য সংস্থা ব্যবহারে অনুমতি হয়েছে টীকা বিশ্ব সাস্থ্য সংস্থা ব্যবহারের পযর্ন্ত অনুমতি',\n",
              " 'জানে টিকা নাকী ওয়াসার পানি',\n",
              " 'করোনা মহামারী বেচে থাকতে সবচেয়ে কার্যকর উপায় দেহের ইমিউনিটি ডেভেলপ কোভিড ভ্যাক্সিন করোনা ভাইরাসের বিরুদ্ধে ইমেউনিটি গড়ে তোলে',\n",
              " 'সকল টিকাই কার্যকর মর্ডানা ফাইজারের মানুষের আস্থা যেহুতু',\n",
              " 'খ জনক সত্য ৪০ বছরের নীচে বয়স তারাও বুস্টার ডোজ দেওয়ার ম্যাসেজ পাচ্ছেন',\n",
              " 'হায়রে বাঙালি এতোদিন টিকা ছিলো ইন্ডিয়ার গোমূত্র গোমূত্র টাইমলি পাওয়ার ক্ষোভে মামলা চায়',\n",
              " 'টিকা সারা বিশ্বে দরকার চাহিদা একসাথে পুরন সম্ভব আমাদেরকে ধৈর্য ধরতে কর্তৃপক্ষকে প্রয়োজনীয় টিকা আনার যথাযথ পদক্ষেপ',\n",
              " 'চিন্তার তারেক রহমান টিকা আটকে রেখেছে',\n",
              " 'ভ্যাকসিন অবেহেলা নিন অপরকে সহযোগিতা করুন',\n",
              " 'চিনের ভ্যাকসিন সবচেয়ে ভালো কারন তারাই রোগ তৈরি',\n",
              " 'আপনারা কোভিড টিকা ভয় পাচ্ছেন ডাবল ডোজ দিয়েছি ২ মাস ধরনের সমস্যা হয়নি',\n",
              " 'টিকার মেধাস্বত্ব নেয়ার প্রস্তাবে পুতিনের সমর্থন',\n",
              " 'সহায়তা নিলে সমস্যা দুষ্টরা একটার পরিবর্তে আরেকটা চায়',\n",
              " 'দেরি সংশয় সঠিক সময়ে ভ্যাকসিন নিন পরিবারের বয়োজ্যেষ্ঠদের ভ্যাকসিন নেয়ার ব্যবস্থা গ্রহণ করুন',\n",
              " 'অর্থনৌতিক দিক বাংলাদেশ এগিয়ে বলো ভিখারির সহায়তা চায় চাপা মারো বাংলাদেশ রোল মডেল সালার চোর চট্টা কোথাক',\n",
              " 'টিকা ডোজ দেওয়ার পরও করোনা',\n",
              " 'ভূয়া দরকার এসব টিকা ফিকা খালি মরার ভয় দেখায় টিকা ব্যবসার ধান্দা ভয় ব্যবসা',\n",
              " 'বয়স্কদের করোনা আক্রান্ত হওয়ার সম্ভবনা সুরক্ষার স্বার্থে অনতিবিলম্বে ভ্যাক্সিন',\n",
              " 'বাড়তে থাকুক টিকা সময় নিবো',\n",
              " 'টিকা দান পরিবেশ ভালো',\n",
              " '৫ তারিখে নিবন্ধন করছি এখনো মেসেজ আসলো',\n",
              " 'দুচার সতের টিকাতে এদেশের প্রয়োজন কমপক্ষে বিশ',\n",
              " 'মর্ডানা টিকা চা',\n",
              " 'পৃথিবীর দেশের টিকার সাধ গ্রহন চাই সাধহীন এক পৃথিবীতে বসবাস চা',\n",
              " 'করোনা প্রতিরোধে টিকার বিকল্প টিকা শরীরে করোনার বিরুদ্ধে লড়ার ক্ষমতা তৈরি',\n",
              " 'চায়না টিকা নিলে হজ উমরা টিকা দেশে এনে দেয়া সরকারের একটা সমাধান ক',\n",
              " 'বাংলাদেশীদের সমস্যা করোনার চেয়ে শক্তিশালী বিপদে ভ্যাক্সিন নে',\n",
              " 'খবর আশা জাগায় আল্লাহ তাড়াতাড়ি মানুষকে করনার প্রতিরোধক বানানোর তৌফিক দান',\n",
              " 'শীতে ভ্যাকসিন নিবে গরমের সময় মরব',\n",
              " 'মহান আল্লাহ পাকের রহমতে টিকাই মানুষের উপকার ধারণা একটা অনাকাঙ্ক্ষিত ঘটনাতো ঘটতেই চিন্তার করিনা',\n",
              " 'এধরনের সম্ভাবনা বৈজ্ঞানিকভাবে প্রমাণিত হয়নি করোনা ভ্যাক্সিন',\n",
              " 'দরকার টিকার জনাব টিকার চালান দেখিয়ে বুঝাতে চেয়েছেন',\n",
              " 'জাতির পিতা শেখ মুজিবুর রহমানের আদর্শে জননেত্রী শেখ হাসিনার নেতৃত্বে বাংলাদেশ করোনা মহামারি রোধে টিকার ব্যবস্থা সদা তৎপর',\n",
              " 'করোনার টিকা নেয় ভাবছিলাম নিমু দেখার নিমু',\n",
              " 'ভাই টিকা সৌদি আরবের অনুমতি দি',\n",
              " 'আল্লাহর রহমতে ভ্যাকসিনের ডোজ অসুবিধা ইনজেকশন একটু একটু ব্যাথা করেছিল দ্বিতীয় তারপরে অসুবিধা এখনোও',\n",
              " 'তাড়াতাড়ি পারবে কোরোনার টিকা টা আসবে',\n",
              " 'করোনার টিকা বাংলাদেশের এমপি মন্ত্রীদের পুটকিতে লাগানোর চিন্তা করবো দিমু দিমুনা',\n",
              " 'দ্বিতীয় ডোজ দিবেন খবর টা আনন্দ বট',\n",
              " 'মহামারি মোকাবেলায় অবিলম্বে সবাইকে টিকার আওতায় আনতে সমৃদ্ধ দেশগুলোকে কোভ্যাক্স ফ্যাসিলিটি সম্পূর্ণভাবে অর্থায়ন আহ্বান জানাই',\n",
              " 'মানুষ টিকা যায় টিকা পায়না টিকা টিকা এমনই লুকোচুরি',\n",
              " 'আগস্ট তারিখে ভ্যাকসিন রেজিস্ট্রেশন করছিলাম এখনো মেসেজ আসে',\n",
              " 'ভ্যাক্সিনেশন দরকার সম্ভব দ্রুত',\n",
              " 'টিকা করোনার বিরুদ্ধে লড়াই ভাল হাতিয়ার সবাই টিকা করোনার বিরুদ্ধে লড়াই নামতে',\n",
              " 'করোনায় সংক্রমিত হওয়ার গুরুতর অসুস্থতা ঠেকাতে টিকা উচ্চমাত্রায় কার্যকর আপনজনদের জীবনরক্ষায় নির্ধারিত সময়ে টিকা নিন',\n",
              " 'কখনো ভাবিনি মানুষের টিকা ব্যবস্থাপনা সুষ্ঠ নেয়া সম্ভব বাংলাদেশে হ্যাটস অফ',\n",
              " 'ভ্যাকসিন জনগন পৌঁছাবেনা পৌছাবে দলীয় দোকদের শেষ জনগনকে ক্রয় ভ্যাকসিন',\n",
              " 'বিশ্ব একদিন ঠিকই রিসার্চ বের করোনার টিকার নামই বাঙালী কার্যকরী টিকা বানাতে বীর বাঙালীর রক্ত ২ ফোঁটা লাগবে মোটামুটি শিওর আরিফ হোস',\n",
              " 'উভয় ডোজ সিনোফারম ভ্যাক্সিন নিলাম সমস্যা দেয়নি আলহামদুলিল্লাহ',\n",
              " '৫ শতাংশ তাতেই নেতারা মাঠ গরম ফেলছেন গর্বে',\n",
              " 'নিবন্ধন আছি পেলাম দেশে টিকা এসেছে শুনছি টিভি চ্যানেল দেখ',\n",
              " 'টিকা নিন ঝুঁকি কমান টিকা সবাইকে উৎসাহী করুন',\n",
              " 'ফাইযার ভ্যাক্সিন পেয়েছি ২ ডোজ বুস্টার ডোজ অপক্ষা করছি',\n",
              " 'বাংলাদেশের ছোট নেতা প্রধানমন্ত্রী পকেট ভরানোর চিন্তা দল একটা বারও জনগণের কথা টিকা কম দামে',\n",
              " 'জানি ভালো কিন্তুু নিয়ম মানে',\n",
              " 'ভ্যাক্সিন পুশ সংশয় অভিজ্ঞ নার্সরা দায়িত্ব ঠিকভাবেই পালন আসছ',\n",
              " '৮মাস হয়ে নিবন্ধন টিকা গ্রহনের এখনো মেসেজ আসেনি',\n",
              " 'বিদেশগামি ভিসার মেয়াদ ফুরাই',\n",
              " 'প্রবাসীদের বিমাতাশুলভ আচরণ পাসপোর্ট নাম্বারে রেজিস্ট্রেশন হবেনা ৩০০ টাকা গুনতে অপেক্ষার পালা',\n",
              " 'পথেমেই ধন্যবাদ জানাতে চাই উএসএ গভর্মেন্টকে দেশে আরো টিকা পৌছে দেওয়ার এখনো টিকার আওতায় আসেনি টিকার আওতায় আনতে এদেশের মানুষের টিকা পৌছে দেওয়ার নিরালসভাবে প্ররিশ্রম যাচ্ছেন অসংখ্য ধন্যবাদ',\n",
              " 'পরিবারের সবাই টিকা গ্রহন করেছি কথা ভাবলেও পরিবারের সুরক্ষার কথা ভেবে টিকা গ্রহন করুন',\n",
              " 'গিয়েও টিকা দিয়ে আসতে হয়েছে টিকা শেষ হয়ে নেক্সটে টিকা আসলে বল',\n",
              " 'টিকা করোনার বিরুদ্ধ্যে লড়াই করুন',\n",
              " 'হালায় করোনা ছড়াইছে হালায়ই ভ্যাক্সিন বানাইছে কেবল বোকা আবালরা বুঝেই ভ্যাক্সিন বিষ নিচ্ছে',\n",
              " 'যাারা করোনা আক্রান্ত হয়ে মারা বেশিরভাগ ভ্যাক্সিনেটেড ভ্যাক্সিন নিন সতর্ক হউন',\n",
              " 'টিকা নিন ভাল থাকুন পরিবার ভাল রাখুন টিকা গুজবে কান দিবেন',\n",
              " 'আমিও করোনার টিকা নেয়ার বিরুদ্ধে',\n",
              " 'জুলাই ১৯ তারিখ রেজিষ্ট্রেশন করেছিলাম এখনো মেসেজ পাইনি',\n",
              " 'সুচেতন নাগরিক হিসেবে করোনা প্রতিরোধক টিকা দেয়া অপরিহার্য',\n",
              " 'এতো মাতামাতির পৃথিবীতে শতভাগ সফল টিকা আবিষ্কার সর্বোচ্চ ৯৪ ৯৫ ভাগ কার্যকরী টিকা আবিষ্কার বাকী ৫ ৬ ভাগের কার্যকর স্বাভাবিক টিকা দেয়া স্বাস্হ্য বিধি মানা সবসময় সৃষ্টিকর্তার আস্হা বিশ্বাস গুরুত্বপূর্ণ',\n",
              " 'ভিটামিন ক্যাপসুল মত মাইক মেরে গণহারে টিকা দেশের অবস্থা একটা ভাল',\n",
              " 'আমাদেন গ্রামে মানুষকে ফ্রী রেজিষ্ট্রেশন হয়ছে অধিকাংশ মানুষের ২ ডোজ ভ্যাকসিন সম্পন্ন হয়েছে',\n",
              " 'দেশে ২০০ বিশ্ব থাকতে টিকার চীন ভারত',\n",
              " 'পরিবার টিকা দিয়েছি টিকা দেয়ার জটিলতা দেয় নি',\n",
              " 'অসাধারণ বন্ধুত্ব ভারতের বাংলাদেশের দূর্দিনে টিকা',\n",
              " 'এতেই প্রমাণিত টিকায় ফকির আলমগীর মারা টিকার বিষক্রিয়ায় চিন্তায় আছি টিকা নেব',\n",
              " 'সিনোফার্ম দিলে হওয়ার কথা রোগ প্রতিরোধ ক্ষমতা ভালো ভ্যাক্সিন নেওয়ার',\n",
              " '১৫ লাখ লোক ডোজ নেয়ার টীকা পায়নি',\n",
              " 'বাহ দারুণ টিকা যায় কোথায় এখনো টিকা পেলাম কার অভিযোগ দিবো',\n",
              " 'বাল ছাল টিকা নিচ্ছে বছর বানর হয়ে কথাটা রাইখেন',\n",
              " 'বেশির ভাগের টিকা নেওয়ার জটিলতা কম',\n",
              " 'টিকা আসা ব্যক্তিরা বলছেন সকাল লাইনে দাঁড়িয়ে আ',\n",
              " 'আক্রান্ত ব্যক্তি নেগেটিভ হওয়ার ২৮ ৩০ ধরনের তীব্র করোনাপরবর্তী জটিলতা থাকলে টিকা পারবেন',\n",
              " 'নিবন্ধিত তিন রেজিষ্ট্রেশন করেছিলাম ২৫ জুলাই ফিরতি এম পাই গনহারে টিকা নামে সরকার সাধারন জনগনের সাথে তামসা করতেছে',\n",
              " 'গত পরশু ভ্যাক্সিন নিয়েছি ঠাক আ',\n",
              " 'ভাইজান ১ম ডোজ পারলাম ১৫দিন রেজিষ্টেশন করেছি এসএমএস আসলো স্টপ রাখলো সার্ভার গণ টিকা দেয়া রেজিস্ট্রেশন টিকা পারবে আম্রহত মও আসি এদিকে ২য় ডোজ থাকি বাহ্ বাহ্',\n",
              " 'আলহামদুলিল্লাহ আজকে করনা ভ্যাকসিন ডোজ শেষ',\n",
              " 'টিকা বাংলাদেশ বিক্রি কর',\n",
              " 'টিকা লাগবে ২৫',\n",
              " 'সেতু উন্নত রাস্তা মুহূর্তে বাদ দিয়ে টিকা কিনেন দেশটাকে বাচান',\n",
              " '২য় ডোজ পাইনি',\n",
              " 'ভারতীয় ভ্যাকসিন বাংলাদেশ দেশে যাবেও গোমূত্র সংযোজিত অবিশ্বাস অবকাশ',\n",
              " 'সিরামের সিইও দেশ ছেড়ে পালাইছে টিকা তোমরা পাবা বেক্সিমকো সালমানের স্বার্থ রক্ষা দেশ হুমকিতে',\n",
              " 'সরকারি চাকরিজীবী শিল্প কারখানার মালিকের ঘুশের টাকা শিল্প কারখানার মালিকের গরিবের কাজের মজরি কম দেয় টিকার খরচগুলো দেয়া দরক',\n",
              " 'টিকার ভরসা রেখেছি সমস্যা হয়নি আপনারাও নিন',\n",
              " 'যতোই টিকা আসুক এদেশের চোরেরা চুরি মজুত রাকবে একটা ইউনিয়নে লাগবে ধুরুন ২ ৩লাক ৪০০টিকা দেই লাভ টিকার সময় নষ্ট সরকার এদেশের মানুষ রুপি জানোয়ারের পেট কখনো ভরাতে পারেনাই কখনো পারবেনা খোঁজ দেকবেন বিছানার চাদর বালিশের ফ্রিজের ডোরজন টিকা পাওয়া জাবে সরকারের কনো দোষ সমস্যার সৃষ্টি চোরের দল কুলাংগারের বাচ্চারা',\n",
              " 'টিকা দিয়েও নিশ্চিত করোনা',\n",
              " 'টিকা আসার খবর শুনি দেড় মাস হয়ে গেলো রেজিষ্ট্রেশন এখনো টিকার ম্যাসেজ পাচ্ছিনা',\n",
              " 'জয়পুরহাট জেলার আক্কেলপুরে এখনো বুস্টার ডোজ ভ্যাকসিন হয়নি',\n",
              " 'টিকা নিলেই মৃত্যু নিলে',\n",
              " 'ভারতকে টিকার ৬০০ টাকার খবর সাহায্য কামনা করেতো রাষ্ট্রের টাকায় যথা সময়ে টিকা পাওয়ার কথা এতোগুলা টাকা অগ্রিম উতপাদনকারি কোম্পানিকে দেওয়ার পরও এখনো বাংলাদেশের টিকা আসেনি সংগত কারন থাকলে দয়াকরে বলবেন',\n",
              " 'নিম্নমানের টিকা এগুলা',\n",
              " 'আইডি কার্ড সত্বেও ভ্যাকসিনের নিবন্ধন পারছিনা বছরের কম',\n",
              " 'টিকা মানুষ মারার কারিগর একদিকে অর্থ অপর জীবন অনেকের দুটোই শেষ হব',\n",
              " 'বিদেশ যাওয়ার অবশ্যই কোভিড টেস্ট করাতে ভেক্সিনেটেড থাকলে বেশিরভাগ দেশে সম্ভব টিকা গ্রহন করুন',\n",
              " 'গ্লোব বায়োটেক ভ্যাক্সিন দ্রুতো অনুমোদন দেয়া হউক প্লিজ',\n",
              " 'এখনো দেয়নি কলেজে দেয় নি এখনো',\n",
              " 'ভ্যাক্সিন হাল্কা জ্বর ছিলো স্বাভাবিক আপনারাও ভ্যাক্সিন নিন',\n",
              " 'গ্লোব বায়োটেকের ভ্যাক্সিন অপেক্ষা করছি',\n",
              " 'কভিডের ভ্যাক্সিন অনেকটা মেন্টাল ট্রিটমেন্ট মূলে কেবলই ব্যবসা',\n",
              " 'করোনার টিকার দ্বিতীয় ডোজ দেওয়ার সপ্তাহ করোনা চিরতরে মুক্ত থাকার কথা সন্দেহ সঠিক টিকা',\n",
              " 'টিকা খেতে পেরে মারা',\n",
              " 'বিএনপির রাজনীতির টিকা আসতেছে বিএনপি টিকা আটকায় রাখছে বিএনপির দোষ',\n",
              " 'জুলাইয়ের ২৮ তারিখে ভ্যাকসিন রেজিস্ট্রেশন করেছিলাম এখনো পযর্ন্ত মেসেজ আসে',\n",
              " 'অক্সিজেন প্ল্যান্ট ফেললে দূর্নীতিবাজরা দূর্নীতি কিভাবে কেউতো দেশে জনগণের কথা পকেটের কথা কিছুদিন দেখলাম করোনার টিকার ডোজে ৭৩ টাকা লাভ একটা কোম্পানি',\n",
              " 'ধন্যবাদ জানাই গনপ্রজাতন্ত্রী বাংলাদেশ সরকার',\n",
              " 'মানসম্মত কার্যকরী ভেকসিন আনতে চাইবে সবাইকে গণহারে অনুমতি দেওয়ার আহবান জানাচ্ছি মোবাইল সিমকার্ডের মত করোনা ভেকসিন কাম্য',\n",
              " 'করোনার টিকার দ্বিতীয় ডোজ দেওয়ার সপ্তাহ করোনা চিরতরে মুক্ত থাকার কথা সন্দেহ সঠিক টিকা',\n",
              " 'ডোজের এসএমএস পেলাম দেশের নাগরিক রহিঙ্গা বুঝতে পারছিনা শুনছি বুষ্টার ডোজ দিচ্ছে বিষয়টা মাননিয় প্রধানমন্ত্রির নজরে আশা দরকার',\n",
              " 'অর্থ পরিবার টিকায় অর্থ প্রত্যাশীরা বলবে সমস্যা',\n",
              " 'বলেছিল আমারই টিকার আওতায় আসে পাশের দেশ বটেই উন্নত দেশের চেয়ে এগিয়ে',\n",
              " 'টিকা দ্রুত খুলে',\n",
              " 'টিকার সুফল করোনা রক্ষা পেতে সর্বস্তরের সাধারনের টিকা নিশ্চিত করোনার ভয়াল থাবা রক্ষা পাওয়া সম্ভব',\n",
              " 'আলহামদুলিল্লাহ করোনা ভাইরাস টিকার দ্বিতীয় ডোজ ভ্যাকসিন গ্রহণ করলাম করোনা ভাইরাস প্রতিরোধে আপনারা সবাই সবসময় মাস্ক পরিধান করুন ভবিষ্যতে অব্যাহত রাখুন',\n",
              " 'আলহামদুলিল্লাহ করনা ভ্যাকসিন ডোজ বুস্টার নিলাম',\n",
              " 'টিকাই বলেনি ভাগ সুরক্ষা দিবে এক আক্রান্ত হওয়াটাই স্বাভাবিক টিকা নিন',\n",
              " 'দ্বিতীয় ডোজের ম্যাসেজ এখনো পাইলাম',\n",
              " 'টিকা নিলেই করোনা আক্রান্ত ভুল ধারণা টিকা নিলে এন্টিবডি তৈরি টিকা নেয়ার বেটার',\n",
              " 'টিকা অস্ত্র',\n",
              " 'ভ্যাক্সিন দিলেও নেবনা উল্টো রিএকশান আমিই মরব',\n",
              " 'এখনো ত ২য় ডুজই পেলাম',\n",
              " 'বাসার পাশেই রিকশার গ্যারেজ অলরেডি ৩৫ ভ্যাক্সিন রেজিস্ট্রেশন দিয়েছিা',\n",
              " 'টিকা নিলে করোনা কোথায় ভাইরে ভাই আল্লাহর মাইর হইলে টিকাবিকা',\n",
              " 'সারা মাস মাস শেষে টাকা পাইনা',\n",
              " 'বিশ্বব্যাপী ছড়িয়ে পড়ছে ওমিক্রন করোনাভাইরাসের রূপ অন্ত্যন্ত প্রাণহানির কারন ছড়িয়ে পরার হার দ্রুত সংক্রমণ স্বাস্থ্য সেবায় বাধা বিষয়ে সতর্কতা জারি বিশ্ব স্বাস্থ্য সংস্থা আসুন অপরের সুরক্ষায় স্বাস্থ্যবিধি মেনে চলার আবারো গুরুত্বের সাথে যত্নশীল হই টিকা নিই নিয়মিত মাস্ক পরি প্রয়োজনমত হাত স্যানেটাইজ',\n",
              " 'জীবন বাঁচলে জীবিকা বাঁচবে ভ্যাকসিন নিন সুরক্ষিত থাকুন',\n",
              " 'ভ্যাক্সিন নিয়েছি দেরও বলছি নি',\n",
              " 'টীকা আসতেছে গণ টীকা কার্যক্রম গতিহীন দূর্নীতিবাজরা টীকা বিক্রির পায়তারা',\n",
              " 'টিকা দেসগুলো নিয়েছে প্রানহানি বেসি আমেরিকা ভারত ব্রাজিল রাসিয়া ইন্দনেসিয়া মেক্সিকো',\n",
              " 'সবাই টিকা সুস্থ থাকুন সবাই চিন্তা মুক্ত এটুকুই চাই টিকা টিকা টিকা দরকার',\n",
              " 'ভ্যাক্সিনের সকল ডোজ দিলে মৃত্যু ঝুঁকি কমবে ইনশাআল্লাহ',\n",
              " 'বলেছি টিকা ভুয়া',\n",
              " 'দোয়া অনুদান গুলো যেনো রাগব গোয়ালে চোখে পড়ে',\n",
              " 'টিকা মেরে খালি সুই ঢোকায় কেনো হাস্যকর জেনারেল হাসপাতালে একটা ঘটনা হয়েছে সবাই সুই মারার সময় সতর্ক',\n",
              " 'আলহামদুলিল্লাহ ফাইজার ডোজ সিনোফার্ম ডোজ দুটিই ভ্যাকসিন দিয়েছি',\n",
              " 'চারিপাশের সবাইকে টিকা উৎসাহিত করুন কোভিড ভ্যাক্সিনই মহামারী সুরক্ষা',\n",
              " 'গতকাল ভ্যাক্সিন নিলাম পার্শ্ব প্রতিক্রিয়া দেয় নি ভালো আ',\n",
              " 'ঠান্ডাজনিত সমস্যায় চিকিৎসাধীন বুস্টার ডোজ ৩০ বছর অনুরোধ থাকছে পাশাপাশি ৫ ১১ বছরের শিশুদের করোনা প্রতিরোধী টিকার সরকারি নির্দেশনা থাকলেও রেজিষ্ট্রেশন এটিও দ্রুতই দাবি জানাই',\n",
              " 'আসছে কোভ্যাক্স দিচ্ছে সিনোফার্ম',\n",
              " 'যেভাবে ভ্যাকসিন দিচ্ছে দেওয়ার ভালো একটা ভেঙে ১০জনকে বাটপারি ভ্যাকসিন দিয়ে লাভ দিতো ২য় ডোজে বেশির ভাগই নাম্বার দিচ্ছেই সরকারকে অনুরোধ এসকল লোকদের আইনের আওতায় এনে কঠিন শাস্তি প্রদান ভ্যাকসিন সিরিঞ্জ দেশে আসছে তবুও কেনো নাম্বারি মরার ভয় নেয়',\n",
              " 'দেশীয় ভ্যাক্সিন ট্রায়ালের অনুমতি দেয়',\n",
              " 'ভেক্সিন কম্পানি গুলো গিনিপিগ হিসেবে করতো আফ্রিকান দেশ গুলোকে কিন্তুু শকুনি দৃষ্টি বাংলাদেশের দি',\n",
              " 'টিকা নেয়া হটাৎ হার্টএটাক মরে আলোচনা',\n",
              " 'সিনোফারম ভ্যাক্সিন পেয়েছি ২ ডোজ বুস্টার ডোজ অপক্ষা করছি',\n",
              " 'টিকাদান কেন্দ্রে মানুষ ভিড় থাকলেও সুন্দরভাবে পরিচালনা প্রশংসনীয়',\n",
              " 'ভ্যাক্সিন ভালো আছি সমস্যা হয়নি',\n",
              " 'পরিবারের সবাই টিকা দিয়েছে সুস্থ',\n",
              " 'টিকার ঘাটতি থাকলে গণটিকা কিভাবে চলছে',\n",
              " 'টিকা দিয়ে হবেনা সচেতন হয়ে টিকা নিচ্ছেন পাকনামি ছাড়া করতেছেনা সবাই আবাল টিকা দূরে থাকুন',\n",
              " 'আলহামদুলিল্লাহ ভ্যাক্সিনটি মানবদেহে কার্যকারী কামনা মহান আল্লাহর',\n",
              " 'এক সপ্তাহ ২য় ডোজ ফাইযার টিকা দিলাম সমস্যা নি ডোজ সুস্থই ছিলাম',\n",
              " 'খুবই ভালো উদ্যোগ আশাকরি সবাই নিজ নিজ এলাকায় টিকা নিবেন আল্লাহ সবাইকে মহামারী রক্ষা করুন',\n",
              " 'মাননীয় প্রধানমত্রী শেখ হাসিনা ধন্যবাদ সবাইকে ভ্যাক্সিনের আওতায় আনার',\n",
              " 'নিশ্চিন্তে সুযোগ আসলেই ভ্যাক্সিন দিয়ে ফেলুন নিরাপদ থাকুন সুস্থ থাকুন',\n",
              " 'বাংলাদেশে টিকা দিয়ে টিকার ডোজ গুলো গোডাউনে পাচার রাষ্টে দরকার বাংলাদেশ ভা',\n",
              " 'টিকা পেলাম ১ মাস নিবন্ধন হয়েছি টিকা পারলাম ঢাকা থাকি',\n",
              " 'আমদের টীকা উৎপাদনে',\n",
              " '২ একটু টিকা দেয়ার স্থানে পেশিতে ব্যাথা যেটা সহনীয় ভয় পাওয়ার করোনা প্রতিরোধে টিকার বিকল্প',\n",
              " 'ইনশাআল্লাহ অতি শিগগিরই যাবেন মেসেজ অবশ্যই আসবে চিন্তার কারন',\n",
              " 'ভ্যাক্সিন নেয়ার মানুষ আক্রান্ত রিকাভার সম্ভাবনা শিরোনাম দায়িত্বজ্ঞানহীন বাংলাদেশের সংবাদ মাধ্যমের আশাও',\n",
              " 'ভাল আছি সমস্যা ভ্যাক্সিন',\n",
              " 'বাংলাদেশ করোনা ভাইরাস কোভিড ১৯ ভ্যাকসিন ফ্রি রেজিস্ট্রেশন করুন',\n",
              " 'ফর্মুলা পাঠালেই নিজেরাই টিকা তৈরি করব খালি ব্যবসা বাণিজ্য',\n",
              " 'ভাল ব্যবস্থাপনা থাকার পরও মানুষ ভ্যাক্সিন দ্বিধাবোধ সবাই ভ্যাক্সিন নিন',\n",
              " 'টিকা নিলে কারো মৃত্যু হায়াত যতদিন ততদিন বাঁচবে হে রোগ ঔষধও খেতে সচেতনও থাকতে',\n",
              " 'ভ্যাক্সিনের নজর',\n",
              " 'আমরাতো সিঙ্গাপুরের চেয়ে উন্নত ভিক্ষা চাও ভ্যাকসিন',\n",
              " 'বিদেশ যাওয়ার প্লান অবশ্যই কোভিড ভ্যাক্সিন গ্রহন করুন নতুবা ভিসা রিজেক্টেড হয়ে এছাড়াও সুরক্ষার টিকার বিকল্প নে',\n",
              " 'টিকা দেয়ার পরও কোভিড আক্রান্ত দেহের রোগ প্রতিরোধ ক্ষমতা করোনা ভাইরাস প্রতিরোধে প্রস্তুত দ্রুত টিকা নিন',\n",
              " 'ভ্যাক্সিন কেন্দ্রে ভালো সুশৃঙ্খল ব্যবস্থাপনা',\n",
              " 'রাশিয়া স্পুটনিক ৫ মত সিংগল ডোজ স্পুটনিক লাইট ব্যপারে জোরেশোরে মার্কেটিং করলেও ডোজ স্পুটনিক ৫ ১০ দাবী কর',\n",
              " 'এতদিন নিজ দেশে টিকা উৎপাদন হতো আপনারা মানুষের স্বার্থ রক্ষা অধিকাংশের কথা ভাবতেন',\n",
              " 'ভারত কেনো পাওনা টিকা দিতেছেনা বিষয়ে জাতিসংঘের কেনো অভিযোগ হয়নি বিষয়ে খেয়াল রাখতে হব',\n",
              " 'টিকা আসে মানুষ টিকা নি টিকার হাহাকার',\n",
              " 'দেশে আগের তিন টিকার প্রতিটির ক্ষেত্রেই গণটিকাদান কর্মসূচির পরীক্ষামূলক প্রয়োগ',\n",
              " 'টিকা দেয়াার অসুস্থ হওয়ার আশঙ্কা ২ ডোজ টিকা গ্রহন করেছি আল্লাহর রহমতে নি',\n",
              " 'আরো ২৫ ডোজ মর্ডানা কোভিড ভ্যাক্সিন আস',\n",
              " 'টিকা আমদানি প্রয়োগে গতি বাড়ানো',\n",
              " 'কাম সারছে গরীব দ্যাশে টিকা দিলে পাইতাম',\n",
              " 'আসলে টিকা নিলে অসুবিধা ইনজেকশন দেয়া ব্যথা কারো কারো টেম্পারেচার কিছুটা এক অসুবিধা যেদিন ভ্যাকসিন নিবেন টেম্পারেচার কিনা অ্যালার্জি জনিত সমস্যা কিনা অবশ্যই ভ্যাকসিন পারবেন',\n",
              " 'এইটার সাথে ইজরাইল জড়িত বাংলাদেশ টিকা নিল ক',\n",
              " 'তিন মাস হয়ে দ্বিতীয় ডোজ টিকার এসএমএস এখনো পাই',\n",
              " 'কথা ভাবুন পরিবার সমাজের কথা ভাবুন টিকা গ্রহন করুন',\n",
              " 'টিকা ভোগান্তি নি সময়মত সিরিয়ালে দাঁড়িয়ে টিকা পেরেছি',\n",
              " 'টিকা নিয়েছেন সংক্রমণের হার কম টিকা নেননি তুলনায় টিকা দ্রুত সবাই স্বাস্থ্যবিধি অনুসরণ একসময় করোনা মহামারী নিয়ন্ত্রণে আসবে ইনশাআল্লাহ',\n",
              " 'এখনো',\n",
              " 'চীন বনিজ্যে বেইমানী ভারত আমাদে দেশের অর্থ নৈতিক উন্নয়নের পিছনে জীনের ভূমিকা অপরিসীম প্যাক্টেরি ভিন্ন কোম্পানিতে চাকরি পারব',\n",
              " 'ভ্যাক্সিন সমস্যায় পড়তে হয়নি রেজিস্ট্রেশন কার্ড ভুলবেন',\n",
              " 'প্রিয়জনকে করোনা ভাইরাস নিরাপদে রাখতে কোভিড ১৯ ভ্যাকসিন নিন',\n",
              " 'বুঝলাম বাংলাদেশের জনসংখ্যা ১০০ কিভাবে কাঙ্ক্ষিত জনসংখ্যার ৫ টিকা পায় যায়গাতে গড়মিল',\n",
              " 'টিকাদান ব্যবস্থাপনা সুশৃঙ্খলভাবে পরিচালনা বাংলাদেশ সরকারকে ধন্যবাদ জানাতেই',\n",
              " 'সাধারন মানুষের টিকা বের',\n",
              " 'আরো ২৫ ডোজ মর্ডানা কোভিড ভ্যাক্সিন আস',\n",
              " 'ভাই গ্রাম অঞ্চলে সাধারন মানুষ চিনের টিকা ছাড়া ভালো মানের টিকা পাবেনা ভালো মানের টিকা পাবে নেতা কমী',\n",
              " 'ভেবেছিলাম সরকারি হাসপাতালে টিকা দেয়া ভোগান্তি পোহাতে নি টিকা সুশৃঙ্খল ব্যবস্থাপনা',\n",
              " 'স্কুল কলেজ মাদ্রাসার ছাত্র ছাত্রীরা এসব পোস্ট দেখলে ভয় পায়',\n",
              " 'টিকা রোগ প্রতিরোধ ক্ষমতা গড়ে তুলুন',\n",
              " 'টিকা নিন সুস্থ থাকুন',\n",
              " 'যুক্তরাষ্ট্রের অভিবাসিরা মিস টিকা নি',\n",
              " 'এলাকার টিকা কেন্দ্রের মান খুবই ভালো সমস্যা হয়নি']"
            ]
          },
          "metadata": {},
          "execution_count": 33
        }
      ]
    },
    {
      "cell_type": "markdown",
      "source": [
        "# Feature Selection"
      ],
      "metadata": {
        "id": "8s-cZSS5kq_v"
      }
    },
    {
      "cell_type": "code",
      "metadata": {
        "id": "uKd8q8m9YAzb"
      },
      "source": [
        "# TF-IDF process\n",
        "from sklearn.feature_extraction.text import TfidfVectorizer\n",
        "cv = TfidfVectorizer()\n",
        "X= cv.fit_transform(corpus).toarray()\n",
        "y= dataset.iloc[:, 1].values\n",
        "#print(X)\n",
        "#print(y)"
      ],
      "execution_count": 36,
      "outputs": []
    },
    {
      "cell_type": "markdown",
      "metadata": {
        "id": "cjDFt4lZvMRo"
      },
      "source": [
        "#SVM with 80:20 spliting"
      ]
    },
    {
      "cell_type": "code",
      "metadata": {
        "colab": {
          "base_uri": "https://localhost:8080/"
        },
        "id": "E_1JtIAUYC-8",
        "outputId": "8db1d4da-e550-426c-eea1-52354070f3d5"
      },
      "source": [
        "#Splitting the dataset into training set and test set\n",
        "from sklearn.model_selection import train_test_split\n",
        "X_train,X_test,y_train,y_test= train_test_split(X,y,test_size=0.2,random_state=0)\n",
        "print(X)"
      ],
      "execution_count": 35,
      "outputs": [
        {
          "output_type": "stream",
          "name": "stdout",
          "text": [
            "[[0. 0. 0. ... 0. 0. 0.]\n",
            " [0. 0. 0. ... 0. 0. 0.]\n",
            " [0. 0. 0. ... 0. 0. 0.]\n",
            " ...\n",
            " [0. 0. 0. ... 0. 0. 0.]\n",
            " [0. 0. 0. ... 0. 0. 0.]\n",
            " [0. 0. 0. ... 0. 0. 0.]]\n"
          ]
        }
      ]
    },
    {
      "cell_type": "code",
      "metadata": {
        "colab": {
          "base_uri": "https://localhost:8080/"
        },
        "id": "1idn3xOFYFqL",
        "outputId": "b79459c6-f455-4d70-b050-daf7cb8fec88"
      },
      "source": [
        "# Fitting SVC to the training set\n",
        "from sklearn.svm import SVC\n",
        "classifier=SVC(kernel='linear',random_state=0)\n",
        "classifier.fit(X_train, y_train)\n",
        "\n"
      ],
      "execution_count": 21,
      "outputs": [
        {
          "output_type": "execute_result",
          "data": {
            "text/plain": [
              "SVC(kernel='linear', random_state=0)"
            ]
          },
          "metadata": {},
          "execution_count": 21
        }
      ]
    },
    {
      "cell_type": "code",
      "metadata": {
        "id": "DenGq9s7k3-N"
      },
      "source": [
        "#predicting the Test set results\n",
        "y_pred=classifier.predict(X_test)\n",
        "\n",
        "\n"
      ],
      "execution_count": 22,
      "outputs": []
    },
    {
      "cell_type": "code",
      "metadata": {
        "colab": {
          "base_uri": "https://localhost:8080/",
          "height": 331
        },
        "id": "gLAVdTwMk9Qb",
        "outputId": "39021f76-6040-4c42-dc6e-746fe28cc749"
      },
      "source": [
        "#Making the confusion matrix\n",
        "from sklearn.metrics import confusion_matrix\n",
        "cm=confusion_matrix(y_test, y_pred)\n",
        "#print(cm)\n",
        "from mlxtend.plotting import plot_confusion_matrix\n",
        "print(\"Confusion Matrix for PassiveAggressiveClassifier\")\n",
        "plot_confusion_matrix(conf_mat=cm,show_absolute=True,\n",
        "                                show_normed=True,\n",
        "                                colorbar=True)"
      ],
      "execution_count": 23,
      "outputs": [
        {
          "output_type": "stream",
          "name": "stdout",
          "text": [
            "Confusion Matrix for PassiveAggressiveClassifier\n"
          ]
        },
        {
          "output_type": "execute_result",
          "data": {
            "text/plain": [
              "(<Figure size 432x288 with 2 Axes>,\n",
              " <matplotlib.axes._subplots.AxesSubplot at 0x7f852fd9fad0>)"
            ]
          },
          "metadata": {},
          "execution_count": 23
        },
        {
          "output_type": "display_data",
          "data": {
            "image/png": "[encoded data removed]",
            "text/plain": [
              "<Figure size 432x288 with 2 Axes>"
            ]
          },
          "metadata": {
            "needs_background": "light"
          }
        }
      ]
    },
    {
      "cell_type": "code",
      "metadata": {
        "colab": {
          "base_uri": "https://localhost:8080/"
        },
        "id": "7bDUEoL7v1XG",
        "outputId": "131053f0-9028-4153-a50d-0cd8e61ad78f"
      },
      "source": [
        "#finding accuracy\n",
        "from sklearn.metrics import accuracy_score\n",
        "accuracy=accuracy_score(y_test,y_pred)\n",
        "print('Accuracy %.3f'%accuracy)\n",
        "\n",
        "from sklearn.metrics import precision_score\n",
        "precision=precision_score(y_test,y_pred,average=\"binary\")\n",
        "print('precision %.3f'%precision)\n",
        "\n",
        "from sklearn.metrics import recall_score\n",
        "recall=recall_score(y_test,y_pred,average=\"binary\")\n",
        "print('Recall %.3f'%recall)\n",
        "\n",
        "from sklearn.metrics import f1_score\n",
        "f1=f1_score(y_test,y_pred,average=\"binary\")\n",
        "print('f1_score %.3f'%f1)\n"
      ],
      "execution_count": 40,
      "outputs": [
        {
          "output_type": "stream",
          "name": "stdout",
          "text": [
            "Accuracy 0.690\n",
            "precision 0.826\n",
            "Recall 0.463\n",
            "f1_score 0.594\n"
          ]
        }
      ]
    },
    {
      "cell_type": "markdown",
      "source": [
        "# SVM with 10-fold cross validation"
      ],
      "metadata": {
        "id": "rXgVigDGk7nL"
      }
    },
    {
      "cell_type": "code",
      "source": [
        "#Applying 10-fold cross validation\n",
        "from sklearn.model_selection import cross_val_score\n",
        "from sklearn.model_selection import KFold\n",
        "from statistics import *\n",
        "# prepare the cross-validation procedure\n",
        "cv = KFold(n_splits=10,shuffle=True,random_state=0)\n",
        "# evaluate model\n",
        "from sklearn.svm import SVC\n",
        "classifier=SVC(kernel='linear',random_state=0)\n",
        "scores = cross_val_score(classifier, X, y, scoring='accuracy', cv=cv)\n",
        "recall = cross_val_score(classifier, X, y, scoring='recall', cv=cv)\n",
        "precision = cross_val_score(classifier, X, y, scoring='precision', cv=cv)\n",
        "f1 = cross_val_score(classifier, X, y, scoring='f1', cv=cv)\n",
        "# report performance\n",
        "print('Accuracy %.3f'%mean(scores))\n",
        "print('precision %.3f'%np.mean(precision))\n",
        "print('Recall %.3f'%np.mean(recall))\n",
        "print('f1_score %.3f'%np.mean(f1))"
      ],
      "metadata": {
        "colab": {
          "base_uri": "https://localhost:8080/"
        },
        "id": "PG54BLWVgIjz",
        "outputId": "d08ca7a1-606f-4ff2-abff-db5b041528bb"
      },
      "execution_count": 39,
      "outputs": [
        {
          "output_type": "stream",
          "name": "stdout",
          "text": [
            "Accuracy 0.727\n",
            "precision 0.767\n",
            "Recall 0.613\n",
            "f1_score 0.672\n"
          ]
        }
      ]
    }
  ]
}