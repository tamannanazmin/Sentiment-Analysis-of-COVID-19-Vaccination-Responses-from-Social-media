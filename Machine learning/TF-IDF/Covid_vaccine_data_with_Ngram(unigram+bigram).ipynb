{
  "nbformat": 4,
  "nbformat_minor": 0,
  "metadata": {
    "colab": {
      "name": "Covid_vaccine_data_with_TF_IDF.ipynb",
      "provenance": [],
      "collapsed_sections": [],
      "toc_visible": true
    },
    "kernelspec": {
      "name": "python3",
      "display_name": "Python 3"
    },
    "language_info": {
      "name": "python"
    }
  },
  "cells": [
    {
      "cell_type": "markdown",
      "source": [
        "# Installing bnlp toolkit and bnltk library"
      ],
      "metadata": {
        "id": "BYV1E2cvkA6o"
      }
    },
    {
      "cell_type": "code",
      "metadata": {
        "colab": {
          "base_uri": "https://localhost:8080/"
        },
        "id": "2-Aiau5sXcr_",
        "outputId": "3d3b7d3b-5ed8-4e7d-b062-1e05d5c0d5af"
      },
      "source": [
        "pip install bnlp_toolkit"
      ],
      "execution_count": 20,
      "outputs": [
        {
          "output_type": "stream",
          "name": "stdout",
          "text": [
            "Requirement already satisfied: bnlp_toolkit in /usr/local/lib/python3.7/dist-packages (3.1.2)\n",
            "Requirement already satisfied: sentencepiece in /usr/local/lib/python3.7/dist-packages (from bnlp_toolkit) (0.1.96)\n",
            "Requirement already satisfied: scipy in /usr/local/lib/python3.7/dist-packages (from bnlp_toolkit) (1.4.1)\n",
            "Requirement already satisfied: nltk in /usr/local/lib/python3.7/dist-packages (from bnlp_toolkit) (3.2.5)\n",
            "Requirement already satisfied: numpy in /usr/local/lib/python3.7/dist-packages (from bnlp_toolkit) (1.21.5)\n",
            "Requirement already satisfied: gensim==4.0.1 in /usr/local/lib/python3.7/dist-packages (from bnlp_toolkit) (4.0.1)\n",
            "Requirement already satisfied: sklearn-crfsuite in /usr/local/lib/python3.7/dist-packages (from bnlp_toolkit) (0.3.6)\n",
            "Requirement already satisfied: wasabi in /usr/local/lib/python3.7/dist-packages (from bnlp_toolkit) (0.9.0)\n",
            "Requirement already satisfied: smart-open>=1.8.1 in /usr/local/lib/python3.7/dist-packages (from gensim==4.0.1->bnlp_toolkit) (5.2.1)\n",
            "Requirement already satisfied: six in /usr/local/lib/python3.7/dist-packages (from nltk->bnlp_toolkit) (1.15.0)\n",
            "Requirement already satisfied: python-crfsuite>=0.8.3 in /usr/local/lib/python3.7/dist-packages (from sklearn-crfsuite->bnlp_toolkit) (0.9.7)\n",
            "Requirement already satisfied: tqdm>=2.0 in /usr/local/lib/python3.7/dist-packages (from sklearn-crfsuite->bnlp_toolkit) (4.63.0)\n",
            "Requirement already satisfied: tabulate in /usr/local/lib/python3.7/dist-packages (from sklearn-crfsuite->bnlp_toolkit) (0.8.9)\n"
          ]
        }
      ]
    },
    {
      "cell_type": "code",
      "metadata": {
        "colab": {
          "base_uri": "https://localhost:8080/"
        },
        "id": "8WxP1prXXpN8",
        "outputId": "dee93f68-2646-4137-f4c3-58a4c490e375"
      },
      "source": [
        "pip install bnltk"
      ],
      "execution_count": 21,
      "outputs": [
        {
          "output_type": "stream",
          "name": "stdout",
          "text": [
            "Requirement already satisfied: bnltk in /usr/local/lib/python3.7/dist-packages (0.7.6)\n",
            "Requirement already satisfied: numpy in /usr/local/lib/python3.7/dist-packages (from bnltk) (1.21.5)\n",
            "Requirement already satisfied: requests in /usr/local/lib/python3.7/dist-packages (from bnltk) (2.23.0)\n",
            "Requirement already satisfied: tensorflow in /usr/local/lib/python3.7/dist-packages (from bnltk) (2.8.0)\n",
            "Requirement already satisfied: keras in /usr/local/lib/python3.7/dist-packages (from bnltk) (2.8.0)\n",
            "Requirement already satisfied: sklearn in /usr/local/lib/python3.7/dist-packages (from bnltk) (0.0)\n",
            "Requirement already satisfied: chardet<4,>=3.0.2 in /usr/local/lib/python3.7/dist-packages (from requests->bnltk) (3.0.4)\n",
            "Requirement already satisfied: idna<3,>=2.5 in /usr/local/lib/python3.7/dist-packages (from requests->bnltk) (2.10)\n",
            "Requirement already satisfied: certifi>=2017.4.17 in /usr/local/lib/python3.7/dist-packages (from requests->bnltk) (2021.10.8)\n",
            "Requirement already satisfied: urllib3!=1.25.0,!=1.25.1,<1.26,>=1.21.1 in /usr/local/lib/python3.7/dist-packages (from requests->bnltk) (1.24.3)\n",
            "Requirement already satisfied: scikit-learn in /usr/local/lib/python3.7/dist-packages (from sklearn->bnltk) (1.0.2)\n",
            "Requirement already satisfied: scipy>=1.1.0 in /usr/local/lib/python3.7/dist-packages (from scikit-learn->sklearn->bnltk) (1.4.1)\n",
            "Requirement already satisfied: threadpoolctl>=2.0.0 in /usr/local/lib/python3.7/dist-packages (from scikit-learn->sklearn->bnltk) (3.1.0)\n",
            "Requirement already satisfied: joblib>=0.11 in /usr/local/lib/python3.7/dist-packages (from scikit-learn->sklearn->bnltk) (1.1.0)\n",
            "Requirement already satisfied: opt-einsum>=2.3.2 in /usr/local/lib/python3.7/dist-packages (from tensorflow->bnltk) (3.3.0)\n",
            "Requirement already satisfied: tf-estimator-nightly==2.8.0.dev2021122109 in /usr/local/lib/python3.7/dist-packages (from tensorflow->bnltk) (2.8.0.dev2021122109)\n",
            "Requirement already satisfied: tensorflow-io-gcs-filesystem>=0.23.1 in /usr/local/lib/python3.7/dist-packages (from tensorflow->bnltk) (0.24.0)\n",
            "Requirement already satisfied: libclang>=9.0.1 in /usr/local/lib/python3.7/dist-packages (from tensorflow->bnltk) (13.0.0)\n",
            "Requirement already satisfied: flatbuffers>=1.12 in /usr/local/lib/python3.7/dist-packages (from tensorflow->bnltk) (2.0)\n",
            "Requirement already satisfied: wrapt>=1.11.0 in /usr/local/lib/python3.7/dist-packages (from tensorflow->bnltk) (1.13.3)\n",
            "Requirement already satisfied: absl-py>=0.4.0 in /usr/local/lib/python3.7/dist-packages (from tensorflow->bnltk) (1.0.0)\n",
            "Requirement already satisfied: protobuf>=3.9.2 in /usr/local/lib/python3.7/dist-packages (from tensorflow->bnltk) (3.17.3)\n",
            "Requirement already satisfied: keras-preprocessing>=1.1.1 in /usr/local/lib/python3.7/dist-packages (from tensorflow->bnltk) (1.1.2)\n",
            "Requirement already satisfied: setuptools in /usr/local/lib/python3.7/dist-packages (from tensorflow->bnltk) (57.4.0)\n",
            "Requirement already satisfied: termcolor>=1.1.0 in /usr/local/lib/python3.7/dist-packages (from tensorflow->bnltk) (1.1.0)\n",
            "Requirement already satisfied: astunparse>=1.6.0 in /usr/local/lib/python3.7/dist-packages (from tensorflow->bnltk) (1.6.3)\n",
            "Requirement already satisfied: six>=1.12.0 in /usr/local/lib/python3.7/dist-packages (from tensorflow->bnltk) (1.15.0)\n",
            "Requirement already satisfied: tensorboard<2.9,>=2.8 in /usr/local/lib/python3.7/dist-packages (from tensorflow->bnltk) (2.8.0)\n",
            "Requirement already satisfied: grpcio<2.0,>=1.24.3 in /usr/local/lib/python3.7/dist-packages (from tensorflow->bnltk) (1.44.0)\n",
            "Requirement already satisfied: h5py>=2.9.0 in /usr/local/lib/python3.7/dist-packages (from tensorflow->bnltk) (3.1.0)\n",
            "Requirement already satisfied: typing-extensions>=3.6.6 in /usr/local/lib/python3.7/dist-packages (from tensorflow->bnltk) (3.10.0.2)\n",
            "Requirement already satisfied: gast>=0.2.1 in /usr/local/lib/python3.7/dist-packages (from tensorflow->bnltk) (0.5.3)\n",
            "Requirement already satisfied: google-pasta>=0.1.1 in /usr/local/lib/python3.7/dist-packages (from tensorflow->bnltk) (0.2.0)\n",
            "Requirement already satisfied: wheel<1.0,>=0.23.0 in /usr/local/lib/python3.7/dist-packages (from astunparse>=1.6.0->tensorflow->bnltk) (0.37.1)\n",
            "Requirement already satisfied: cached-property in /usr/local/lib/python3.7/dist-packages (from h5py>=2.9.0->tensorflow->bnltk) (1.5.2)\n",
            "Requirement already satisfied: markdown>=2.6.8 in /usr/local/lib/python3.7/dist-packages (from tensorboard<2.9,>=2.8->tensorflow->bnltk) (3.3.6)\n",
            "Requirement already satisfied: google-auth<3,>=1.6.3 in /usr/local/lib/python3.7/dist-packages (from tensorboard<2.9,>=2.8->tensorflow->bnltk) (1.35.0)\n",
            "Requirement already satisfied: werkzeug>=0.11.15 in /usr/local/lib/python3.7/dist-packages (from tensorboard<2.9,>=2.8->tensorflow->bnltk) (1.0.1)\n",
            "Requirement already satisfied: tensorboard-plugin-wit>=1.6.0 in /usr/local/lib/python3.7/dist-packages (from tensorboard<2.9,>=2.8->tensorflow->bnltk) (1.8.1)\n",
            "Requirement already satisfied: google-auth-oauthlib<0.5,>=0.4.1 in /usr/local/lib/python3.7/dist-packages (from tensorboard<2.9,>=2.8->tensorflow->bnltk) (0.4.6)\n",
            "Requirement already satisfied: tensorboard-data-server<0.7.0,>=0.6.0 in /usr/local/lib/python3.7/dist-packages (from tensorboard<2.9,>=2.8->tensorflow->bnltk) (0.6.1)\n",
            "Requirement already satisfied: cachetools<5.0,>=2.0.0 in /usr/local/lib/python3.7/dist-packages (from google-auth<3,>=1.6.3->tensorboard<2.9,>=2.8->tensorflow->bnltk) (4.2.4)\n",
            "Requirement already satisfied: rsa<5,>=3.1.4 in /usr/local/lib/python3.7/dist-packages (from google-auth<3,>=1.6.3->tensorboard<2.9,>=2.8->tensorflow->bnltk) (4.8)\n",
            "Requirement already satisfied: pyasn1-modules>=0.2.1 in /usr/local/lib/python3.7/dist-packages (from google-auth<3,>=1.6.3->tensorboard<2.9,>=2.8->tensorflow->bnltk) (0.2.8)\n",
            "Requirement already satisfied: requests-oauthlib>=0.7.0 in /usr/local/lib/python3.7/dist-packages (from google-auth-oauthlib<0.5,>=0.4.1->tensorboard<2.9,>=2.8->tensorflow->bnltk) (1.3.1)\n",
            "Requirement already satisfied: importlib-metadata>=4.4 in /usr/local/lib/python3.7/dist-packages (from markdown>=2.6.8->tensorboard<2.9,>=2.8->tensorflow->bnltk) (4.11.2)\n",
            "Requirement already satisfied: zipp>=0.5 in /usr/local/lib/python3.7/dist-packages (from importlib-metadata>=4.4->markdown>=2.6.8->tensorboard<2.9,>=2.8->tensorflow->bnltk) (3.7.0)\n",
            "Requirement already satisfied: pyasn1<0.5.0,>=0.4.6 in /usr/local/lib/python3.7/dist-packages (from pyasn1-modules>=0.2.1->google-auth<3,>=1.6.3->tensorboard<2.9,>=2.8->tensorflow->bnltk) (0.4.8)\n",
            "Requirement already satisfied: oauthlib>=3.0.0 in /usr/local/lib/python3.7/dist-packages (from requests-oauthlib>=0.7.0->google-auth-oauthlib<0.5,>=0.4.1->tensorboard<2.9,>=2.8->tensorflow->bnltk) (3.2.0)\n"
          ]
        }
      ]
    },
    {
      "cell_type": "code",
      "metadata": {
        "colab": {
          "base_uri": "https://localhost:8080/"
        },
        "id": "KZbeDNuaX2FT",
        "outputId": "f3fa6868-e4b5-4813-fc56-0e6dfe489247"
      },
      "source": [
        "pip install -U bnlp_toolkit"
      ],
      "execution_count": 22,
      "outputs": [
        {
          "output_type": "stream",
          "name": "stdout",
          "text": [
            "Requirement already satisfied: bnlp_toolkit in /usr/local/lib/python3.7/dist-packages (3.1.2)\n",
            "Requirement already satisfied: scipy in /usr/local/lib/python3.7/dist-packages (from bnlp_toolkit) (1.4.1)\n",
            "Requirement already satisfied: gensim==4.0.1 in /usr/local/lib/python3.7/dist-packages (from bnlp_toolkit) (4.0.1)\n",
            "Requirement already satisfied: wasabi in /usr/local/lib/python3.7/dist-packages (from bnlp_toolkit) (0.9.0)\n",
            "Requirement already satisfied: sentencepiece in /usr/local/lib/python3.7/dist-packages (from bnlp_toolkit) (0.1.96)\n",
            "Requirement already satisfied: sklearn-crfsuite in /usr/local/lib/python3.7/dist-packages (from bnlp_toolkit) (0.3.6)\n",
            "Requirement already satisfied: numpy in /usr/local/lib/python3.7/dist-packages (from bnlp_toolkit) (1.21.5)\n",
            "Requirement already satisfied: nltk in /usr/local/lib/python3.7/dist-packages (from bnlp_toolkit) (3.2.5)\n",
            "Requirement already satisfied: smart-open>=1.8.1 in /usr/local/lib/python3.7/dist-packages (from gensim==4.0.1->bnlp_toolkit) (5.2.1)\n",
            "Requirement already satisfied: six in /usr/local/lib/python3.7/dist-packages (from nltk->bnlp_toolkit) (1.15.0)\n",
            "Requirement already satisfied: tqdm>=2.0 in /usr/local/lib/python3.7/dist-packages (from sklearn-crfsuite->bnlp_toolkit) (4.63.0)\n",
            "Requirement already satisfied: tabulate in /usr/local/lib/python3.7/dist-packages (from sklearn-crfsuite->bnlp_toolkit) (0.8.9)\n",
            "Requirement already satisfied: python-crfsuite>=0.8.3 in /usr/local/lib/python3.7/dist-packages (from sklearn-crfsuite->bnlp_toolkit) (0.9.7)\n"
          ]
        }
      ]
    },
    {
      "cell_type": "markdown",
      "source": [
        "# Importing Library"
      ],
      "metadata": {
        "id": "QJXhbfyukN0X"
      }
    },
    {
      "cell_type": "code",
      "metadata": {
        "id": "TstOUDjUkYdN"
      },
      "source": [
        "\n",
        "import numpy as np\n",
        "import matplotlib.pyplot as plt\n",
        "import pandas as pd\n",
        "from bnlp.corpus import stopwords\n",
        "from bnlp.corpus.util import remove_stopwords\n",
        "\n",
        "from bnltk.stemmer import BanglaStemmer\n",
        "from pandas import read_excel\n",
        "import re\n",
        "from re import sub\n",
        "import multiprocessing\n",
        "\n",
        "import os\n",
        "from time import time \n",
        "import tensorflow as tf\n",
        "import keras\n",
        "from keras.models import Sequential\n",
        "from keras.layers import LSTM,Dense,Dropout,Activation,Embedding,Flatten,Bidirectional,MaxPooling2D, Conv1D, MaxPooling1D\n",
        "\n",
        "from keras import regularizers\n",
        "from keras.preprocessing.text import Tokenizer\n",
        "from keras.preprocessing.sequence import pad_sequences\n",
        "from keras.utils.np_utils import to_categorical\n",
        "import h5py\n",
        "import csv\n",
        "import seaborn as sns\n",
        "import matplotlib.pyplot as plt\n",
        "from sklearn.model_selection import train_test_split\n",
        "from sklearn.model_selection import StratifiedKFold\n",
        "#from tensorflow.keras.preprocessing.text import Tokenizer\n",
        "#from tensorflow.keras.preprocessing.sequence import pad_sequences"
      ],
      "execution_count": 23,
      "outputs": []
    },
    {
      "cell_type": "markdown",
      "source": [
        "# Read dataset"
      ],
      "metadata": {
        "id": "aautGAxOkUuQ"
      }
    },
    {
      "cell_type": "code",
      "metadata": {
        "id": "ANwKKdniX7iy"
      },
      "source": [
        "from google.colab import drive\n",
        "#drive.mount('/content/drive')\n",
        "dataset=pd.read_csv('/content/Covid Vaccine data(3807).csv')\n"
      ],
      "execution_count": 24,
      "outputs": []
    },
    {
      "cell_type": "code",
      "metadata": {
        "colab": {
          "base_uri": "https://localhost:8080/"
        },
        "id": "vdjlwedwVQ5h",
        "outputId": "7f546360-78e2-4bad-ef4b-fb67b6e427df"
      },
      "source": [
        "dataset.shape"
      ],
      "execution_count": 25,
      "outputs": [
        {
          "output_type": "execute_result",
          "data": {
            "text/plain": [
              "(3807, 2)"
            ]
          },
          "metadata": {},
          "execution_count": 25
        }
      ]
    },
    {
      "cell_type": "code",
      "metadata": {
        "colab": {
          "base_uri": "https://localhost:8080/",
          "height": 314
        },
        "id": "mFrmJQ2LeLCO",
        "outputId": "fa118261-1382-4f09-aee9-6a1be713213e"
      },
      "source": [
        "target_vc = dataset[\"Polarity\"].value_counts(normalize=False)\n",
        "print(\"Non-urgent: {:.2%}, Urgent: {:.2%}\".format(target_vc[0], target_vc[1]))\n",
        "sns.barplot(x=target_vc.index, y=target_vc)\n",
        "plt.title(\"Dataset Distribution\")\n",
        "plt.xlabel(\"0 = Non-urgent, 1 = Urgent\")\n",
        "plt.ylabel(\"Number of data\")\n",
        "plt.show()"
      ],
      "execution_count": 26,
      "outputs": [
        {
          "output_type": "stream",
          "name": "stdout",
          "text": [
            "Non-urgent: 180000.00%, Urgent: 200700.00%\n"
          ]
        },
        {
          "output_type": "display_data",
          "data": {
            "image/png": "[encoded data removed]",
            "text/plain": [
              "<Figure size 432x288 with 1 Axes>"
            ]
          },
          "metadata": {
            "needs_background": "light"
          }
        }
      ]
    },
    {
      "cell_type": "markdown",
      "source": [
        "# Data Preprocessing"
      ],
      "metadata": {
        "id": "Czfg6DsOkis3"
      }
    },
    {
      "cell_type": "code",
      "metadata": {
        "colab": {
          "base_uri": "https://localhost:8080/"
        },
        "id": "RUyvbeINX-EE",
        "outputId": "5c7517e2-4b48-43ae-87aa-0862d5ae7eda"
      },
      "source": [
        "import re\n",
        "corpus=[]\n",
        "max=0\n",
        "for i in range(0,len(dataset)):\n",
        "    review = re.sub('[\\!\"#$%&()*,./:;<=>?@[\\\\]^`{|}~\\t\\n।+-]', ' ', dataset['Text'][i])\n",
        "    review=review.replace('_',' ')\n",
        "    #review=review.replace('ঃ',' ')\n",
        "    #review = re.sub('[a-zA-Z0-9]+', ' ', review)    \n",
        "    review = re.sub('[''```\u0012\u0010\u0002\b`\u0007\b£|¢|\u0007/=।!“’<>‘॥”‰\\'🤓⌚🤰🥺⚽️✌�￰🥀🤣🤡🤗🤐🤦🤔⏩⏹￰]', ' ', review)               \n",
        "    emoji_pattern = re.compile(\"[\"\n",
        "                           u\"\\U0001F600-\\U0001F64F\"  # emoticons\n",
        "                           u\"\\U0001F300-\\U0001F5FF\"  # symbols & pictographs\n",
        "                           u\"\\U0001F680-\\U0001F6FF\"  # transport & map symbols\n",
        "                           u\"\\U0001F1E0-\\U0001F1FF\"  # flags (iOS)\n",
        "                           u\"\\U00002702-\\U000027B0\"\n",
        "                           u\"\\U000024C2-\\U0001F251\"\n",
        "                           u\"\\u00C0-\\u017F\"          #latin\n",
        "                           u\"\\u2000-\\u206F\"          #generalPunctuations \n",
        "                           u\"\\\\U0001f90f\" \n",
        "                           u\"\\\\U0001f9cf\"\n",
        "                           u\"\\U0001fa78\"  \n",
        "                           \"]+\", flags=re.UNICODE)\n",
        "    review=emoji_pattern.sub(r'', review)\n",
        "    #review=str(review)\n",
        "    #review=review.split()\n",
        "    '''review=review.replace('A', 'এ')\n",
        "    review=review.replace('B', 'বি')\n",
        "    review=review.replace('AB', 'এবি')\n",
        "    review=review.replace('O', 'ও')\n",
        "    review=review.replace('+','পজিটিভ')\n",
        "    review=review.replace('-','নেগেটিভ')'''\n",
        "    review=review.lower()\n",
        "    #bn_stemmer = BanglaStemmer()\n",
        "    #review=bn_stemmer.stem(review)\n",
        "    #review = remove_stopwords(review, stopwords)\n",
        "    review=str(review)\n",
        "    review=review.split()\n",
        "    review=' '.join(review)\n",
        "    corpus.append(review)\n",
        "    if(max<len(review)):\n",
        "      max=len(review)\n",
        "print(max)\n"
      ],
      "execution_count": 43,
      "outputs": [
        {
          "output_type": "stream",
          "name": "stdout",
          "text": [
            "502\n"
          ]
        }
      ]
    },
    {
      "cell_type": "code",
      "metadata": {
        "id": "CrX8v3JMv--j",
        "colab": {
          "base_uri": "https://localhost:8080/"
        },
        "outputId": "70fb9e9f-68a2-45ef-e8ac-cd24f6584cb5"
      },
      "source": [
        "corpus"
      ],
      "execution_count": 44,
      "outputs": [
        {
          "output_type": "execute_result",
          "data": {
            "text/plain": [
              "['আমাদের সজাগ থাকতে হবে টিকা নেওয়া নিয়ে',\n",
              " 'ভ্যাকসিন ভালো না',\n",
              " 'আমার পরিবারের সকলেই টিকা নিয়েছে',\n",
              " 'টিকা লক্ষণীয় রোগ প্রতিরোধে একইভাবে উচ্চ কার্যকারিতা রয়েছে',\n",
              " 'অনলাইনে আবেদন করে আমি ভ্যাকসিন নিয়েছি',\n",
              " 'নিজে সচেতন হই এবং অন্যকে সচেতন হতে সাহায্য করি সবাই মাস্ক ব্যবহার করি আল্লাহ আমাদের সহায় হওক অন্যদের টিকা গ্রহণে উৎসাহিত করুন আমিন',\n",
              " 'আমাদের সতর্ক থাকতে হবে টিকা প্রদান নিয়ে অনেক টিকা শরীরের ক্ষতিও করে',\n",
              " 'টিকা নিয়ে যদি অসুস্থ হয়ে পরি তখন আমার বাচ্চাদের খাওয়াবে কে আপনি',\n",
              " 'গনটিকা প্রদানের যে পরকিল্পনা গ্রহণ করা হয়েছে সেটি সাধুবাদযোগ্য',\n",
              " 'আমার দ্বিতীয় ডোজ দেয়া হয়েছে এখন বুস্টার ডোজ নিতে চাই',\n",
              " 'আমার বয়স ৯০ আমি টিকা নিয়েছি',\n",
              " 'নির্ভয়ে টিকা নিয়ে নির্ভয়ে এখন বেঁচে আছি',\n",
              " 'টিকা নেওয়ার আগে অনেকে বলেছে ১০ থেকে ১৫ মিনিট মাথা ঘুরতে পারে এটা সত্যি',\n",
              " 'গর্ভবতীরা টিকা নিলে বিপদ আছে',\n",
              " 'ভেক্সিন নিলে সংক্রমণের মাত্রা অনেকটা কম হবে নাকি আরও বেড়ে যেতে পারে সেটা আগে সরকারকে আমাদের বুঝাতে হবে',\n",
              " 'এই যুগে বেঁচে থাকার প্রথম শর্ত হলো হলো ভ্যাকসিন',\n",
              " 'ভেকসিন নিলে মানসিক ক্ষতি হয়',\n",
              " 'ওরে বাঙ্গালি আদৌ কেউ টিকা নিবেনা কত অভিনয় দেখলাম টিকা নেওয়া নিয়ে আর এখন হাহুতাশ শুরু করছে',\n",
              " 'মেসেঞ্জার আরএনএ ভ্যাকসিনগুলি কোষকে শেখায় যে কীভাবে একটি প্রোটিন তৈরি করতে হয় যা শরীরের অভ্যন্তরে একটি ইমিউন প্রতিক্রিয়া ট্রিগার করে',\n",
              " 'নিরাপদ এবং কার্যকর covid 19 ভ্যাকসিনের বিকাশ মহামারী শেষ করার জন্য আমাদের বিশ্বব্যাপী প্রচেষ্টার একটি বিশাল পদক্ষেপ',\n",
              " 'ভ্যাকসিনের কাজ শরীরকে ভাইরাস চিনিয়ে দেওয়া এবং তার সঙ্গে লড়াই করতে শরীরের রোগ প্রতিরোধী ব্যবস্থা জাগিয়ে তোলা',\n",
              " 'কেন্দ্রে কেন্দ্রে সাস্থ্যবিধি মেনে চলছে টিকাদান কর্মসূচি',\n",
              " 'তেমন কিছু হয়নি প্রথম দুই দিন হাতে ব্যথা এবং হালকা জ্বর ছিল এখান আলহামদুলিল্লাহ সুস্থ',\n",
              " 'আমাদের বাঁচানোর জন্য না মারার জন্য বিজ্ঞানীরা টিকা আবিষ্কার করছে তা বুঝবো কিভাবে',\n",
              " 'বাচ্চাদের টিকা দেওয়ার পর স্কুলে পাঠাবো',\n",
              " 'ভ্যাকসিন নিয়ে অসুস্থ হলে ও কাজ করতে হয় ছুটি নাই তাই ভ্যাকসিন নেই না',\n",
              " 'করোনাকে ভয় পেলে দ্রুত সম্ভব টিকা গ্রহণ করুন',\n",
              " 'টিকা দেওয়ার আগে বা পরে স্তন্যদান বন্ধ করার দরকার নেই',\n",
              " 'আল্লাহ আমাকে করোনা থেকে বাঁচাবে',\n",
              " 'ভেকসিন এ মানুষ অমিক্রন এ আক্রান্ত হচ্ছে',\n",
              " 'আমার মনে হয় আমি প্রথমেই টিকা নিসিলাম বইলাই এখনো করোনা হয় নাই আমার',\n",
              " 'ভেকসিন নিলে মানসিক অশান্তির সৃষ্টি হয়',\n",
              " 'অল্প জ্বর পেশীতে ব্যথা মাথা ধরা এগুলি সবই ভ্যাকসিনের সাইড এফেক্ট এর থেকে ভয়ংকরও হতে পারে',\n",
              " 'করোনার বিরুদ্ধে ভ্যাক্সিন গ্রহণ করে করোনা জয় করা যাবো না',\n",
              " 'আমার ফামিলির কারো করোনা হয়নি তাহলে ভেকসিন লাগবে কেন',\n",
              " 'ফাইজার বায়োএনটেক কোম্পানির তৈরি টিকা নেওয়ার পর জমাট বাঁধার ঘটনার কোনও খবর পাওয়া যায়নি',\n",
              " 'ঘোষণার পরও মিলছে না ভেক্সিন ভোগান্তি নিয়ে ফিরছে মানুষ',\n",
              " 'who অনুমোদিত covid 19 ভ্যাকসিনের কোনোটিতেই প্রাণীজ পণ্য নেই',\n",
              " 'ভাইরােসর বিরুদ্ধে এই লড়াইেয় ভ্যাকসিন একটা গুরুত্বপূর্ণ অংশ',\n",
              " 'টিকার অনেক পার্শ্ব প্রতিক্রিয়া আছে এসব ভালো না',\n",
              " 'ভ্যাকসিন নেওয়ার পূর্বেই ৫০০ জনের অ্যান্টিবডি পরীক্ষা করা হয়',\n",
              " 'ভ্যাকসিন শরীরের জন্য ক্ষতিকর এটা না দেয়া ভালো',\n",
              " 'ভেক্সিন নেওয়া না থাকলেও আমরা যদি ভবিষ্যতে কখনও সংক্রামিত হই মেমোরি কোষগুলি ভাইরাসটিকে চিনে লড়াই করবো',\n",
              " 'করোনা তো বাড়ছেই ভেকসিন এর ভুমিকা কি',\n",
              " 'আব্বা ভ্যাকসিন নেওয়ায় বেশি চিন্তা হয় উনি যদি অসুখ হন',\n",
              " 'খালি ভ্যাক্সিন দিলেই হবে না মাস্ক পড়তে হবে আর হাত একটু পর পর সেনিটাইজ করতে হবে ভ্যাক্সিন অবশ্যই করোনা প্রতিরোধে সাহায্য করে তারপরো সতর্ক থাকতে হবে',\n",
              " 'ভ্যাকসিন নেওয়া এবং না নেওয়া উভয় ব্যক্তির শরীরেই করোনা ঢুকলে উপসর্গগুলি সবার আগে দেখা যায়',\n",
              " 'টিকা বাধ্যতামূলক না করার জন্য অনেক যুক্তি রয়েছে',\n",
              " 'করোনা না হলে ভেক্সিননেয়ার কোন প্রয়োজন আছে বলে আমি মনে করি না',\n",
              " 'আমার বয়স প্রায় ৮০ টিকা দিয়েছি এরপর অনেক সমস্যা হয়েছে',\n",
              " 'আমাদের সুস্থ থাকার জন্য টিকার কোনো বিকল্প নেই',\n",
              " 'আমি তৃতীয় ডোজ নিতে খুবই আগ্রহী',\n",
              " 'শতভাগ শিক্ষার্থী ভ্যাকসিনেটেড হয়ে গেলে শিক্ষাপ্রতিষ্ঠান খোলা নিয়ে আর অসুবিধা থাকবে না',\n",
              " 'হুদাই জালাইয়েন না ভাই আমি টীকা দিব না',\n",
              " 'টিকা নিলে মরন নিশ্চিত',\n",
              " 'ভ্যাকসিন নিলেে জর হয় ভ্যাক্সিন এ ভরসা নেই',\n",
              " 'করোনা ভ্যাকসিন তো অকাজের এটা নেয়া নিছক কাজ',\n",
              " 'covax হল একটি বিশ্বব্যাপী প্রচেষ্টার অংশ যার লক্ষ্য covid 19 ভ্যাকসিনের বিকাশ এবং উৎপাদন ত্বরান্বিত করা',\n",
              " 'গ্রামের অনেক মানুষ টিকা নেয় নি তো তাঁরা কি মরে গেসে ভেকসিন না নিয়ে',\n",
              " 'টিকা ছাড়া কি বাঁচন যাইবো না নাকি',\n",
              " 'আমি ভ্যাকসিন দেইনি',\n",
              " 'টিকা আপনাকে এবং অন্য মানুষদের ঝুঁকি থেকে রক্ষা করবে',\n",
              " 'প্রচুর ভ্যাকসিন উৎপাদন করা হলেও ভ্যাকসিন নিচ্ছে খুব কম মানুষ',\n",
              " 'ভেকসিন নিয়ে অযথা সময় নষ্ট',\n",
              " 'টিকা নিলে নিরাপদ থাকা যায় না',\n",
              " 'নিশ্চিন্তে সুযোগ আসলেই ভ্যাক্সিন দিয়ে ফেলুন নিরাপদ থাকুন সুস্থ থাকুন',\n",
              " 'আমার ফেমিলির কেউ টিকা নেয়নি',\n",
              " 'covid 19 টিকা দেওয়ার পরে কিছু লোক অসুস্থ বোধ করতে পারে ভ্যাকসিন নেওয়ার পরে এক বা দুই দিনের জন্য জ্বর বা ক্লান্তির মতো লক্ষণগুলি সহ',\n",
              " 'সমীক্ষা থেকে স্পষ্ট করোনা ভ্যাকসিন নিলে কমছে সংক্রমণের হার',\n",
              " 'ভ্যাকসিন নিতে দেশের অবশিষ্ট মানুষদের এগিয়ে আসার কোনো মানে নেই',\n",
              " 'আগে যানতাম গাজার নৌকা পাহাড়তলী যায় এখন দেখি চিনা ভ্যাক্সিন ও পাহাড়তলী যায়',\n",
              " 'টিকা নিয়ে ও তো করোনা হয় তাহলে ভ্যাকসিন নিব কেন',\n",
              " 'আমার বয়স ৬০ আমি টিকা নিয়েছি',\n",
              " 'আমি টিকা দেই নাই কিন্তু আমি টিকা দিতে চাই',\n",
              " 'আপনার যদি covid 19 ভ্যাকসিন নেওয়া উচিত কিনা সে সম্পর্কে আপনার কোনো প্রশ্ন থাকে তাহলে আপনার স্বাস্থ্যসেবা প্রদানকারীর সাথে কথা বলুন',\n",
              " 'ভ্যাকসিন আপনাকে আপনার কাছের মানুষদের কাছে আরও ঝুঁকির কারণ ঘটাতে পারে',\n",
              " 'আমাদের স্কুল থেকে বলা হয়েছে সেখান থেকে ভেক্সিন দেওয়ার কোন ব্যবস্থা করা হবে না',\n",
              " 'আমাদের জীবন রক্ষা করার জন্য আল্লাহ আছেন তাই ভ্যাকসিন প্রয়োজন নেই',\n",
              " 'টিকা যদি করোনার চেয়ে ভয়ংকর হয় তবে সেই টিকা না দেওয়াই উত্তম',\n",
              " 'ভ্যাকসিন কে নিজেও ভয় পাবেন না অন্য কেউ ভয় পাওয়ানো থেকে বিরত রাখুন',\n",
              " 'আরো ২৫ লক্ষ ডোজ মর্ডানা র কোভিড ভ্যাক্সিন আসছে',\n",
              " 'যদিও covid 19 থেকে পুনরুদ্ধার করা লোকেরা ভাইরাসের কিছুটা প্রাকৃতিক অনাক্রম্যতা বিকাশ করতে পারে আমরা এখনও জানি না এটি কতক্ষণ স্থায়ী হয় বা আপনি কতটা সুরক্ষিত ভ্যাকসিন আরো নির্ভরযোগ্য সুরক্ষা প্রদান করে',\n",
              " 'করোনার টিকা যথেষ্ট নিরাপদ এবং রোগ নিয়ন্ত্রণে কার্যকর',\n",
              " 'আমার পরিবারের সবাই টিকা দিয়েছে এবং সুস্থ আছে',\n",
              " 'ভ্যাকসিন কে ভয় না পেয়ে নিজে এবং অন্যকে ভ্যাকসিন নিতে উৎসাহী করে তুলুন',\n",
              " 'মডার্না ফাইযার সিনোফারম সবই বিশ্বজুড়ে গ্রহণযোগ্যতা পেয়েছে টিকা নিয়ে বিভ্রান্ত না হয়ে আজই নিবন্ধন করুন',\n",
              " 'টিকা নিলে মেয়েদের শারীরিক কোনো ক্ষতি হয় না',\n",
              " 'আমি টিকা নিমুনা আল্লাহ আছেন৷ আল্লাহ বাঁচাইবো',\n",
              " 'ওমিক্রন ভেরিয়েন্টের বিস্তৃতির কারণে বুস্টার ভ্যাকসিনেশনের প্রতি জোর দিতে হবে',\n",
              " 'বাধ্যতামূলকভাবে টিকা নেওয়ার পক্ষে অনেক যুক্তি রয়েছে',\n",
              " 'যে কোভিড এর টীকা নিয়ে মানুষ এত আশাবাদি ছিল সেই টিকা এখন অকাজের',\n",
              " 'ভ্যাক্সিনকে না করুন করোনাকে এমনেই করব জয়',\n",
              " 'এ পর্যন্ত যত টিকা তৈরি হয়েছে তার মধ্যে অক্সফোর্ড অ্যাস্ট্রাজেনেকার টিকা সবচেয়ে ভালো বলে দাবি করা হয়েছে যেটা ভুয়া',\n",
              " 'বুস্টার ডোজ দেওয়ার পর আমি বেশি অসুস্থ হয়ে পড়েছি',\n",
              " 'দেশে প্রথম করোনাভাইরাসের ভ্যাকসিন প্রয়োগ করা হয়',\n",
              " 'করোনাভাইরাস ও করোনার বিভিন্ন ধরনের ভ্যারিয়েন্ট মোকাবিলায় ভ্যাকসিনের বিকল্প নেই',\n",
              " 'ভেক্সিন ছাড়াই ভালোভাবে বেঁচে আছি আমি',\n",
              " 'একজন সুনাগরিক হিসেবে টিকা নিয়ে আমি আমার কর্তব্য পালন করেছি',\n",
              " 'টিকা নেওয়ার পর জ্বর উঠেছিল তবুও আমি টিকা নেওয়ার পর খুবই সন্তুষ্ট',\n",
              " 'এখন টিকা বাধ্যতামূলক না করলে দেশ থেকে আর কখনোই করোনা যাইবো না',\n",
              " 'করোনা ঠেকানোর জন্য টিকার গুরুত্ব অপরিসীম',\n",
              " 'আমি শুনছিলাম টিকা নিলে নাকি বাচ্চা হয়না এসব গুজবে কান না দিয়ে আমিও ভ্যাকসিন নিছি',\n",
              " 'আপনার ভ্যাক্সিন গ্রহনে আপনি অসুস্থ হয়ে যেতে পারেন',\n",
              " 'ভ্যাকসিন ফ্রিজে ২ থেকে ৮ ডিগ্রি সেলসিয়াসে এবং আলো থেকে দূরে রাখতে হবে',\n",
              " 'সংক্রমণের ঝুঁকি যেহেতু সব সময়ই থাকছে তাই স্বাস্থ্যবিধি মানার কোন বিকল্প নেই',\n",
              " 'টিকা নেয়া অনেক ঝামেলা তাই টিকা নেই নাই',\n",
              " 'করোনাপ্রতিরোধী ভ্যাকসিন চাই তা নিশ্চিত করার বিষয়ে প্রতিশ্রুতিবদ্ধ থাকবে',\n",
              " 'টিকা দিয়ে ও তো করোনা হচ্ছে তাহলে টিকা আমি নিতে যাব কেন',\n",
              " 'টীকা গুলো যে যথেষ্ট নিরাপদ নয় তার অনেক প্রমাণ পাওয়া গেছে',\n",
              " 'টিকা নিলে শরীরে নানা ধরনের রোগ দেখা দেয়',\n",
              " 'টিকা গুরুতর অসুস্থতার কারন হয়',\n",
              " 'ভ্যাকসিন নিলে ক্ষতি হবো',\n",
              " 'করোনা ভাইরাসের টিকা শেষ পর্যন্ত সবার ব্যবহারের জন্য তৈরি করা হবে না',\n",
              " 'ভ্যাকসিননকে কোন রকম ভয় না করে খুশিমনে গ্রহণ করুন',\n",
              " 'আমি টিকা নিতে একদমই দেরি করি নাই',\n",
              " 'pfizer biontech moderna এবং johnson johnson janssen covid 19 ভ্যাকসিনগুলি সবচেয়ে নিবিড় নিরাপত্তা পর্যবেক্ষণের মধ্য দিয়ে চলতে থাকবে',\n",
              " 'টীকা নেয়াতে নিরুৎসাহিত করার কোনো মানে হয় না কারণ করোনা মোকাবিলাতে টীকাই এখন একমাত্র উপায় সাংবাদিককে আরো প্রফেশনাল হতে হবে',\n",
              " 'আমি মনে করি যে টিকাটি আমার শরীরের ঠিক কাজ করেছে',\n",
              " 'মাকে সময় থাকতে থাকতে টিকাটা নেওয়াইলে মা মনে হয় বাঁইচা যাইতো',\n",
              " 'কারো কথায় ভেকসিন দিয়েন না এটা ফাও',\n",
              " 'আমি আমার পাড়া প্রতিবেশী দেশ গ্রাম অফিসারের যাকে পেয়েছি তাকে টিকা নিতে বলেছি',\n",
              " 'ভ্যাক্সিন গ্রহনে খারাপ হতে পারে এমন গুজব সত্য',\n",
              " 'বাধ্যতামূলক টিকাকরণ ভাইরাস মোকাবিলার সম্ভাব্য সবচেয়ে ভালো উপায়',\n",
              " 'বিভিন্ন স্বাস্থ্য কমপ্লেক্সে শুধুমাত্র আইডি কার্ড নিয়ে গেলেই টিকা দেওয়া যায় না',\n",
              " 'মানুষ বেশি টিকা নেয়নি বলেও এখন মৃতুহার বাড়েনি',\n",
              " 'একটা নির্দিষ্ট সময় পর পর নতুন করে টিকা নেওয়া প্রয়োজন হতে পারে বলে ধারণা করছেন বিশেষজ্ঞরা',\n",
              " 'টিকার ওপর আস্থা রাখুন',\n",
              " 'ফাইজার ও মডার্নার ভ্যাকসিন যে প্রযুক্তিতে তৈরি হয়েছে তা এমআরএনএ নামে পরিচিত এতে মানুষের দেহে একটি মেসেঞ্জার সিকুয়েন্স প্রবেশ করানো হয় যাতে জেনেটিক নির্দেশ থাকে এই নির্দেশে ওই ব্যক্তির দেহকোষকে অ্যান্টিজেন উৎপাদনের কথা বলা হয় এবং প্রতিরোধ ক্ষমতা তৈরি হয়',\n",
              " 'আমি অবশ্যই টিকা নিতে আগ্রহী',\n",
              " 'আমিও করোনার টিকা নেয়ার বিরুদ্ধে',\n",
              " 'করোনা ভাইরাস প্রতিরোধের মূল অস্ত্র হচ্ছে ভ্যাক্সিন',\n",
              " 'আমি ফাইযার ভ্যাক্সিন পেয়েছি ২ ডোজ ই বুস্টার ডোজ এর জন্য অপক্ষা করছি',\n",
              " 'ভেক্সিন নিতে দেশের অবশিষ্ট মানুষদের এগিয়ে আসার কোনো মানে নেই',\n",
              " 'এটা মানুষকে বুঝতে হবে যে ভ্যাকসিন নেওয়া মানে শতভাগ সুরক্ষা নয় জীবন রক্ষা',\n",
              " 'ভ্যাকসিনগুলির জন্য পরীক্ষার প্রক্রিয়াগুলি কোনও পদক্ষেপ এড়িয়ে যায়নি তবে যত তাড়াতাড়ি সম্ভব ডেটা সংগ্রহ করার জন্য ভ্যাকসিন বিকাশকারীরা প্রক্রিয়াটির কয়েকটি ধাপ একই সাথে পরিচালনা করেছিল তবুও মনে হয় ব্যর্থ হবে',\n",
              " 'সাধারণ সর্দি জ্বরের কারণে রোগ প্রতিরোধক্ষমতা ও টিকা থেকে পাওয়া সুরক্ষা দুই মিলে কিছু মানুষের করোনায় আবার সংক্রমিত হওয়ার ঝুঁকি কমে যায়',\n",
              " 'সাধারণ সর্দি জ্বরের কারণে রোগ প্রতিরোধ ক্ষমতা ও ঠিকানাতে করোনার বিরুদ্ধে লড়াই করার ক্ষমতা আরও কমে যায়',\n",
              " 'করোনার টিকা আর চার পাঁচটা টিকার মতই একটি টিকা এটা অকাজের',\n",
              " 'করোনাকে ভয় না পেয়ে সচেতন নাগরিক হিসেবে মাক্স ব্যবহার করুন টিকা নিতে হবে না',\n",
              " 'টিকা বেশী দিন কাজ করে না',\n",
              " 'টিকা ছাড়া গতি নাই বাঁইচা আছি',\n",
              " 'পাশের বাসার ভাবি বলসে টিকা নিলে বাচ্চা হবে না আমি টিকা নিবই না',\n",
              " 'গনটিকাদান এ করোনা ছড়ায় বেশী',\n",
              " 'ভেক্সিন যারা সৃষ্টি করছেন তাদের উদ্দেশ্য ভালো না খারাপ তা তো আর আমরা জানি না',\n",
              " 'বর্তমানের ভয়ঙ্কর অবস্থা থেকে রক্ষা পাওয়ার জন্য টিকা নিয়েছি',\n",
              " 'টীকা নেয়ার পর কোন পার্থক্য বুঝলাম না',\n",
              " 'আড়াই মাস হয়ে গেল দ্বিতীয় ডোজ টিকা টাই এখনো পেলাম না বুস্টার ডোজ টিকা শুরু হয়ে গেল',\n",
              " 'টিকা নিয়েরে ভাই কাজ হবে না',\n",
              " 'টিকা দেওয়ার পর এখন আমরা নিরাপদ বোধ করছি',\n",
              " 'ভেকসিন মানুষ কে বোকা বানানোর ফন্দি',\n",
              " 'টিকা নিতে ভয় পাই তাই আব্বা আম্মারেও নিতে দেই নাই',\n",
              " 'ভ্যাকসিন নেয়া মানেই করোনাভাইরাস সংক্রমণ থেকে নিরাপদ থাকার গ্যারান্টি',\n",
              " 'প্রতিষেধক হিসেবে বাংলাদেশে এখন পর্যন্ত চার ধরনের টিকা ব্যবহার করা হচ্ছে',\n",
              " 'আমাদের বাসার পাশেই একটি রিকশার গ্যারেজ আছে আমি অলরেডি তাদের মধ্যে ৩৫ জনের ভ্যাক্সিন রেজিস্ট্রেশন করে দিয়েছিা',\n",
              " 'টিকা নিয়ে ও ভাই অনেক মানুষ অক্কা পেয়েছে তাহলে টিকা নেব কেন',\n",
              " 'করোনা নিয়ন্ত্রণে সরকার ইতোমধ্যে ১৭ কোটির বেশি ভেক্সিন দিয়েছে এটা ভুয়া কথা',\n",
              " 'শিশুদের টিকা দেওয়াতে সাবধান',\n",
              " 'টিকা নিলে নিজেরে সাহসী সাহসী মনে হয়',\n",
              " 'শুনলাম কোভিড ভ্যাকসিন নিলে নাকি হাতের রক্ত জমাট বেধে যায় অনেক কষ্ট হয়',\n",
              " 'যে টিকা তৈরি করা হচ্ছে সেই একই টিকা বা ভ্যাকসিন কি মিউটেশনের ফলে রূপান্তরিত ভাইরাস রোধ করতে পারবে',\n",
              " 'ভ্যাকসিনেশন অ ফার্মাসিউটিক্যাল হস্তক্ষেপের সংমিশ্রণে মহামারী নিয়ন্ত্রণের সর্বোত্তম উপায়',\n",
              " 'করোনা ভাইরাস প্রতিরোধে ভ্যাক্সিন এর গুরুত্ব তেমন নয়',\n",
              " 'অনেকই ভেকসিন না নিয়ে দিব্বি ঘুরে বেরাচ্ছে তাহলে আর আমার নেয়ার দরকার কি',\n",
              " 'টিকা দেওয়ার পরে অনাক্রম্যতা তৈরির প্রক্রিয়াটি জ্বর শরীর ব্যথা হয়',\n",
              " 'টিকা নিশ্চিত করা গেলও মৃত্যু হার কমানো সম্ভব হচ্ছে না',\n",
              " 'কোভিড ১৯ মহামারী শেষ করার জন্য নিরাপদ এবং কার্যকর ভ্যাকসিনের গুরুত্ব রয়েছে',\n",
              " 'ভেকসিন মানব দেহে কাজ করে না',\n",
              " 'নবগঠিত পিপলস ভ্যাকসিন অ্যালায়েন্স বলছে তাদের এই জোট বিশ্বের সব মানুষের জন্য করোনাপ্রতিরোধী ভ্যাকসিন চাই তা নিশ্চিত করার বিষয়ে প্রতিশ্রুতিবদ্ধ থাকবে',\n",
              " 'অক্সফোর্ড অস্ট্রাজেনেকা ভ্যাকসিন একটি ক্ষতিকারক ভাইরাস ব্যবহার করে যা দেখতে অনেকটা মহামারী ভাইরাসের মতো দেখতে',\n",
              " 'ভাইরাসের প্রতিকার হিসেবে ভ্যাকসিন তো দিতেই হইব',\n",
              " 'পরিবারের সবার টিকা নেওয়া জরুরি এমনটা জরুরি না',\n",
              " 'জুলাইয়ের ২৮ তারিখে ভ্যাকসিন রেজিস্ট্রেশন করেছিলাম এখনো পযর্ন্ত মেসেজ আসে নাই',\n",
              " 'কপালে থাকলে মরব ভেকসিন নিব না আমি',\n",
              " 'বিশেষজ্ঞরা বার বার সব সন্দেহকে দূরে রেখে ভ্যাকসিন নেবার পরামর্শ দিচ্ছেন',\n",
              " 'বউরে টিকাটা নেওয়ানোর পরেওতো বউটারে বাঁচাতে পারিনি',\n",
              " 'ভেক্সিন নিতে গেলে নাকি দুইদিন আগে থেইকা লাইনে দাঁড়াতে হয়',\n",
              " 'আমি টিকা নেওয়ার পর ভালোই আছি টিকা নিয়ে যারা গুজব ছড়াচ্ছে তারা উদ্দেশ্যপ্রণোদিতভাবে তা করছে',\n",
              " 'বুস্টার ডোজ এর টীকা দেওয়ার পর আমি বেশি অসুস্থ হয়ে পড়েছি',\n",
              " 'সুস্থ থাকার জন্য টিকা দেওয়া হয় অসুস্থ হওয়ার জন্য নয়',\n",
              " 'টিকা তো জীবন বাঁচাতে পারে না তাহলে টিকা নেয়া বাদ্ধতামুলক কেন',\n",
              " 'whoএর মতে বেশিরভাগ লোকের অন্তত ছয় মাসের জন্য গুরুতর অসুস্থতা এবং মৃত্যুর বিরুদ্ধে শক্তিশালী সুরক্ষা রয়েছে',\n",
              " 'ভেক্সিন দেওয়ার সময়কাল তেমন কোন গুরুত্বপূর্ণ বিষয় নয়',\n",
              " 'টিকা দিন করোনার বিরুদ্ধ্যে লড়াই করুন',\n",
              " 'অনেকে প্রথম ডোজ নিয়েছেন আমিও নিছি',\n",
              " 'ভ্যাকসিন নিলেই ভালো থাকা যায় ভ্যাকসিন ছাড়া ভালো থাকা যায় না',\n",
              " 'দুই বছর হল কই আমার তো টীকা লাগে নি',\n",
              " 'টিকা নিতে আমার কোনো রকমেই ভয় হয় নাই',\n",
              " 'টিকা দিতে এসে কোন ভোগান্তি হয় নি সময়মত সিরিয়ালে দাঁড়িয়ে টিকা নিতে পেরেছি',\n",
              " 'কোভিশিল্ড নামের এই ভ্যাকসিনের দুই ডোজ গ্রহণের পরে গ্রহীতাদের মাঝে তৈরি হচ্ছে শতভাগ অ্যান্টিবডি',\n",
              " 'টিকা কিন্তু অনিরাপদ শিশুদের দিবেন না',\n",
              " 'ভ্যাকসিন যখন তৈরি হয়েছিল তখন তো ভাইরাসের এই রূপান্তর হয়নি',\n",
              " 'কাজ হচ্ছে না টিকাই',\n",
              " 'করোনা টীকা বেশী দিন আমাদের সুরক্ষা দিতে পারে না কিছু দিন পর এটা অকার্যকর হয়ে যায়',\n",
              " 'খুব সহজেই ভ্যাকসিন পাওয়া যায় আমাদের দেশে',\n",
              " 'প্রথম ডোজ দিছি ৩ মাস দ্বিতীয় ডোজ এর খবর নাই এখন আবার তৃতীয় ডোজের গান গাওয়া শুরু হইছে',\n",
              " 'গরিব মানুষদের বাঁচার জন্য টিকার এর ভূমিকা সীমিত',\n",
              " 'মহামারী রুখতে একমাত্র ভরসা কোভিড ভ্যাকসিন',\n",
              " 'আমি দুইটা ডোজই নিয়েছি আমি সিনোফার্ম নিয়েছি এবং আমার কোন সমস্যা হয়নি',\n",
              " 'টিকা নেওয়া ছাড়া আর উপায় নেই',\n",
              " 'প্রত্যেকটা ভ্যাকসিন এর ক্ষেত্রেই প্রাথমিক ডোজ দেওয়ার পর বুস্টার ডোজ দিতে হয়েছে',\n",
              " 'প্রতিকূল ঘটনা সনাক্ত করতে ভ্যাকসিনগুলি ক্রমাগত পর্যবেক্ষণ করা হয় এবং তা পাওয়া যায়',\n",
              " 'দুঃখ জনক হলেও সত্য ৪০ বছরের নীচে যাদের বয়স তারাও বুস্টার ডোজ দেওয়ার জন্য ম্যাসেজ পাচ্ছেন',\n",
              " 'কোভ্যাক্স লক্ষ্য হলো করোনার ভ্যাকসিন প্রস্তুত করা',\n",
              " 'মানসিক শক্তি এমনিই পাবো ভেক্সিন নিয়ে পাইতে হবে না',\n",
              " 'টিকা জীবন বাঁচায় না',\n",
              " 'ভ্যাকসিন প্রয়োগের পরেও প্রায় একই মাত্রার অ্যান্টিবডি দেখা যাচ্ছে অর্থাৎ ভ্যাকসিনের উপকারিতা কিন্তু সবাই পাচ্ছেন',\n",
              " 'আমি সিনোফারম ভ্যাক্সিন পেয়েছি ২ ডোজ ই বুস্টার ডোজ এর জন্য অপক্ষা করছি',\n",
              " 'টিকার উপর ভরসা রেখেছি সমস্যা হয়নি আপনারাও নিন',\n",
              " 'টিকা নেওয়া উত্তম',\n",
              " 'ভ্যাকসিনেই করোনা রোগ আটকানো যাবে',\n",
              " 'গর্ভবতী মহিলাদের টিকাকরণ ক্ষেত্রটি নিরাপদ পাওয়া যায় তাহলে তাদের যথ দ্রুত সম্ভব ২টি করে টিকা দেওয়ার ব্যবস্থা করা হবে',\n",
              " 'করোনাভাইরাসের কোভিড ১৯ টিকা বাধ্যতামূলক করার পক্ষে সবচেয়ে সহজ যুক্তি হলো এটি জীবন বাঁচায়',\n",
              " 'এসব টিকা ভুয়া এটা বিশ্ব রাজনীতির ব্যবসা',\n",
              " 'কোভিড ভ্যাক্সিন আপনার শরীরে ইমিউনিটি বৃদ্ধি করে',\n",
              " 'করোনাভাইরাসকে নিয়ন্ত্রণে আনার সবচেয়ে কার্যকরী কৌশল হচ্ছে টিকা',\n",
              " 'কোভিড ১৯ ভ্যাকসিনের দ্বিতীয় ডোজ নেওয়ার পর প্রথম ২ সপ্তাহ টিকার সুরক্ষামূলক প্রভাব শরীরে সবথেকে বেশি থাকে',\n",
              " 'টিকা নিয়ে কত রকমের গুজব ছড়ায় এসব গুজবে কান দেওয়া বোকামি',\n",
              " 'টিকা ছাড়া অন্যরা বাঁচতে পারলে আমিও পারুম',\n",
              " 'একটি ভ্যাকসিন নেওয়ার নির্দিষ্ট সময় পর নিতে হবে আরও একটি ডোজ৷',\n",
              " 'টিকা কাজে দেয় আমি টিকা নেয়া ভালো আছি',\n",
              " 'দুই ধরনের ভ্যাকসিন একসঙ্গে নিলে সমস্যা হবে',\n",
              " 'টিকা নেয়ার পর কেউ কেউ হালকা জ্বরের মতো উপসর্গ ইনজেকশনের স্থানে ব্যথা বা দুর্বলতা বোধ করেছিলেন',\n",
              " 'একটা ভাইরাস যখন আইছে সেটা আবার ঠিক মতোই যাবোগা হুদাহুদি ভেক্সিন নিয়ে এত দৌড়াদৌড়ির করার কিছু নাই',\n",
              " 'টিকা এখন অস্ত্র হিসাবে ব্যবহার হচ্ছে',\n",
              " 'covid এর বাড়বাড়ন্তে এখন সকলেই টিকার খোঁজে হন্যে হয়ে ঘুরছেন',\n",
              " 'এসব টিকা ভালো নয় এগুলো মানুষ মারার বুদ্ধি',\n",
              " 'রাষ্ট্র আমার ট্যাক্সের টাকা দিয়ে সব করতেছে এইখানে ফাঁফরবাজি করার কিছু নাই কেউ কারো বাপের টাকা দিয়ে টিকা এনে দিচ্ছে না',\n",
              " 'টিকা নিলে ও মানুষ মারা যায় টিকার কোন দরকার নাই',\n",
              " 'গন টিকাদান করোনা ছড়ানোর মুল কারন হতে পারে',\n",
              " 'আমি আর আমার স্ত্রী টিকা নিয়েছি এখন আমাদের বাচ্চাদের টিকা দেওয়ানোর জন্য অপেক্ষা করছি',\n",
              " 'কর্ম ক্ষেত্রে কাজ করার জন্য আমি সুরক্ষা পাওয়ার জন্য টিকা নিয়েছি',\n",
              " 'আমি উচ্চ রক্তচাপের রোগী হওয়া সত্বেও টিকা নিয়েছি',\n",
              " 'পৃথিবীতে অনেক মানুষ টীকা ছাড়াই আছে তাঁরা কি মরে গেসে ভাই',\n",
              " 'বিশ্বব্যাপী ছড়িয়ে পড়ছে ওমিক্রন করোনাভাইরাসের এই রূপ অন্ত্যন্ত প্রাণহানির কারন না হলেও এর ছড়িয়ে পরার হার অনেক বেশি এই দ্রুত সংক্রমণ স্বাস্থ্য সেবায় বাধা হতে পারে এই বিষয়ে বিশেষ সতর্কতা জারি করেছে বিশ্ব স্বাস্থ্য সংস্থা আসুন আমরা নিজের ও অপরের সুরক্ষায় স্বাস্থ্যবিধি মেনে চলার ব্যাপারে আবারো গুরুত্বের সাথে যত্নশীল হই টিকা নিই নিয়মিত মাস্ক পরি প্রয়োজনমত হাত স্যানেটাইজ করি',\n",
              " 'আমি প্রথমেই ভাবছি টিকা নেব এবং নিছিও',\n",
              " 'ভ্যাকসিন নিয়ে আমি ভালো আছি এবং বিশ্বাস করি আপনিও ভালো থাকবেন',\n",
              " 'অন্যের থেকে নিজেকে সুরক্ষা রাখার একমাত্র উপায় হচ্ছে দূরত্ব বজায় রাখা ভেক্সিন নয়',\n",
              " 'আমি টিকা নেওয়ার ক্ষেত্রে শতভাগ সম্মতি প্রদান করছি',\n",
              " 'ভেকসিন দিয়ে করোনা যায় না',\n",
              " 'সবাই টিকা দিবে না কারন ভেকসিন সবাই বিশ্বাস করে না',\n",
              " 'ভ্যাকসিন হল এমন একটি প্রযুক্তি যা মানবজাতি অতীতে প্রায়শই সংক্রামক রোগের মৃত্যুর সংখ্যা কমানোর জন্য নির্ভর করেছে',\n",
              " 'গুরুতর covid 19 রোগ প্রতিরোধে ভ্যাকসিনগুলি এখনও গুরুত্বপূর্ণ ভূমিকা পালন করে',\n",
              " 'মাস্ক পরিধান করুন নিজে সুস্থ থাকুন অন্যকে সুস্থ রাখুন টিকা নিতে হবে না',\n",
              " 'এই মহামারিতে টিকা না নিলে বাঁচতাম কেমনে',\n",
              " 'করোনার ভ্যাকসিন প্রায় সব ধরনের রূপান্তরিত করোনাভাইরাসের বিরুদ্ধে প্রতিরোধ গড়ে তুলতে সক্ষম হবে এগুলু অপপ্রচার',\n",
              " 'টিকা দেওয়া টা এখন বাধ্যতামূলক',\n",
              " 'বাংলাদেশ সরকার ইতোমধ্যে পত্রিকায় বিজ্ঞাপন দিয়ে ভ্যাকসিন গ্রহণের কার্যকারিতা সম্পর্কে জনগণকে আগ্রহী করে তোলার চেষ্টা করলেও তাতে সফল হতে পারছেন না',\n",
              " 'টিকার ওপর আস্থা রাখতে চাই না আমি',\n",
              " 'গতবছর ভ্যাকসিন নিছিলাম বইলাই মনে হয় এইবার করোনা থেইকা বাঁইচা ফিরছি করোনা আমার ক্ষতি করতে পারে নাই',\n",
              " 'ভবিষ্যতে শিশুশের টিকা নেওয়ার প্রয়োজন হতে পারে',\n",
              " 'টিকা দিয়ে বড় বড় দেশ গুলো ঠেকাতে পারছে না আমরা টিকা নিয়ে কি করবো',\n",
              " 'ভ্যাকসিন প্রয়োগের পরেও প্রায় একই মাত্রার অ্যান্টিবডি দেখা যাচ্ছে',\n",
              " 'আমি ভ্যাকসিন নিয়েছি কারণ এটি শরীরের জন্য জরুরী',\n",
              " 'ভ্যাকসিন গুরুত্বপূর্ণ হাতিয়ার হিসাবে কাজ করবে',\n",
              " 'তিন সপ্তাহের ব্যবধানে দ্বিতীয় ডোজ নিতে হবে',\n",
              " 'বাড়ির আমরা সবাই ভ্যাক্সিন নিয়েছি',\n",
              " 'আমি মনে করি ভ্যাকসিনগুলি অন্তত একটি নতুন স্বাভাবিক অবস্থায় ফিরে আসার একটি উপায় প্রদান করে',\n",
              " 'সম্পূর্ণ ভ্যাকসিন নিলে গ্রহীতাদের মাঝে তৈরি হচ্ছে শতভাগ অ্যান্টিবডি',\n",
              " 'করোনা যেন না হয় সে জন্য ম্যাক্স পরি',\n",
              " 'এই টিকা প্রাণ বাঁচানোর একমাত্র মন্ত্র',\n",
              " 'করোনার চিকিৎসা করার মতো ক্ষমতা সকলের নাই তাই বিনামূল্যে টিকা গ্রহণ করে করোনার থেকে সুরক্ষিত থাকুন',\n",
              " 'টিকার প্রথম ডোজ দেওয়ার ১০ ১২ দিন পর রোগ প্রতিরোধ ক্ষমতা বাড়তে শুরু হলেও তা সম্পূর্ন কার্যকরী হতে অন্তত ৫ ৬ সপ্তাহ সময় লাগে',\n",
              " 'আমি মনে করি টিকা নিলে সবাই নিজেরে সুস্থ মনে করে',\n",
              " 'ভ্যাকসিনের দ্বিতীয় ডোজের পরে 2 থেকে 6 মাসের মধ্যে তৃতীয় ডোজ নেয়া উচিৎ',\n",
              " 'সরকার সবাইকে টিকা দিতে সফল নয়',\n",
              " 'টিকাতেই মোদের রক্ষা',\n",
              " 'আপনি গর্ভবতী হলে আপনি টিকা পেতে পারেন',\n",
              " 'আপনারও আপনার সন্তানকে ভ্যাক্সিন দিন',\n",
              " 'টিকা নেওয়াতে আমার শরীরের জন্য ভালো হয়েছে',\n",
              " 'আমার তৃতীয় ডোজ দেওয়ার সময় হয়েছে ওটিও নিব',\n",
              " 'ফাইজার ভ্যাকসিনের দুটি ডোজ যখন আলফা ভ্যারিয়েন্টের সংস্পর্শে আসে তখন এটি অপেক্ষাকৃত কম সুরক্ষা প্রদান করে',\n",
              " 'নিবন্ধন করেননি বা অগ্রাধিকারভিত্তিক তালিকায় অন্তর্ভুক্ত হননি এমন কোনো ব্যক্তিকে কোভিড ১৯ এর টিকা নেওয়া হবে না',\n",
              " 'যখন কেউ করোনার টিকা নেয় ভাবছিলাম নিমু এটা দেখার পর আর নিমু না',\n",
              " 'কোয়ারান্টিনে থাকা মানুষদেরও ভ্যাকসিন দেয়া উচিত নয়',\n",
              " '১ম ডোজ দেয়া হয় না তাই আর টিকা দিতে পারবো না',\n",
              " 'বর্তমান covid 19 ভ্যাকসিনগুলির কোনওটিতেই লাইভ ভাইরাস নেই তাই ভ্যাকসিন থেকে আপনার বুকের দুধের মাধ্যমে আপনার শিশুর মধ্যে covid 19 সংক্রমণের কোনও ঝুঁকি নেই',\n",
              " 'শিশুদের টিকা দিলে তা তাদের covid 19 ধরন বা ভাইরাসের গুরুতর উপসর্গ দেখা থেকে রক্ষা করতে পারে',\n",
              " 'টিকা ছাড়াই বিন্দাস আছি',\n",
              " 'এসব টিকা ফিকা কিছুই না লকডাউন চলছে চলবে লকডাউন ই একমাত্র সমাধান কমপক্ষে আগামী তিন বছরএসব টিকা ফিকা কিছুই না লকডাউন চলছে চলবে লকডাউন ই একমাত্র সমাধান কমপক্ষে আগামী তিন বছর',\n",
              " 'টিকাটি রাষ্ট্রীয়ভাবে দেওয়া হচ্ছে এটাকে আমি সমর্থন করি',\n",
              " 'ভেক্সিন বেশী দিন আমাদের সুরক্ষা দিতে পারে না কিছু দিন পর এটা অকার্যকর হয়ে যায়',\n",
              " 'করোনাকে ভয় পাবেন না টিকা নিয়ে শারীরিক ও মানসিকভাবে শক্তিশালী হয়ে উঠুন',\n",
              " 'ভ্যাকসিন নিলেই যে করোনা হবে না তাঁর কোন গ্যারান্টি আছে',\n",
              " 'এন্টিবায়োটিক খেলে করোনা কমে যায়',\n",
              " 'ভ্যাকসিন এখন একজন মানুষের জীবনে মৌলিক অধিকার হয়ে গিয়েছে',\n",
              " 'প্রথম ডোজ ই দিতে পারলাম না',\n",
              " 'এত লম্বা লাইনে কে দাঁড়াবে আমি পারবো না',\n",
              " 'নিজেরা কিছু তৈয়ার করবে না অন্যের আশায় থাকো আর শিক্ষা প্রতিষ্ঠান বন্ধ রেখে আগামী প্রজন্মকে মুর্খ বানাও এটাই',\n",
              " 'ভ্যাকসিন তৈরি করা একটি অসাধারণ সাফল্য',\n",
              " 'টিকা নিলে নাকি মানুষ মইরা যায় এটা সম্পূর্ণ গুজব',\n",
              " 'ভ্যাকসিন এর সাথে আপোষ করে নিজেকে বিপদে ফেলা বোকামো হবে',\n",
              " 'ভ্যাকসিনের জন্য ডেভেলপারদের জন্য উচ্চ নিরাপত্তা মান নির্ধারণ করেছে',\n",
              " 'আমি 2 মাস আগে 2 টি টিকা নিয়েছি সবাই নিয়েছে বলেই নিয়েছি',\n",
              " 'ভ্যাকসিন নিলে তো ডাইবেটিস বেড়ে যায় তাই তো নেই না',\n",
              " 'টিকার সাথে আপোষ নয় করোনা থেকে বাঁচতে হলে টিকা নিতেই হবে',\n",
              " 'আমারে কি সরকার নোটিশ দিয়ে বলসে টিকা দিতে',\n",
              " 'ভারতে করোনা ভাইরাসের সংক্রমণ বেড়ে যাওয়ার পর দেশটি টিকা রপ্তানী বন্ধ করে দেয় ফলে বাংলাদেশের টিকা পাওয়ার বিষয়টি অনিশ্চয়তার মুখে পড়েছে',\n",
              " 'করোনা হলে কোভিড এর টীকা নিব এখন না',\n",
              " 'ভেকসিন দিতেই হবে এমন কোথাও লেখা নেই',\n",
              " 'টিকা নিয়ে বিছানায় পরে থাকতে হয়',\n",
              " 'যারা ভ্যাকসিন নিচ্ছেন তাদের সবার মাঝেই কিন্তু অ্যান্টিবডি তৈরি হচ্ছে দ্বিতীয় ডোজ নেওয়ার পরে শতভাগ অ্যান্টিবডির মাত্রা পাওয়া যাচ্ছে',\n",
              " 'একবার টিকা দেওয়ার পর আমাদের নিজেদেরকে এবং অন্যদের রক্ষা করার জন্য আপাতত সতর্কতা অবলম্বন করতে হবে',\n",
              " 'টিকা দিয়েও নিশ্চিত নয় যে করোনা হবে না',\n",
              " 'এলাকার যারা যারা এখনো টিকা নেয় নাই তাদের টিকা নিতে উৎসাহ দিন',\n",
              " 'করোনা বাড়ছে কিন্তু টিকা কিছুই করতে পারছে না',\n",
              " 'ভ্যাকসিন নেওয়ার পর নিজেকে মানসিকভাবে সুস্থ মনে করছি',\n",
              " 'ভ্যাকসিন এর কারনে মানুষ এখন আরও সমস্যায় পরে',\n",
              " 'ভ্যাকসিন আবিষ্কার এবং উৎপাদনের জন্য বিভিন্ন পদ্ধতি ব্যবহার করা হয়',\n",
              " 'বিভিন্ন দেশের সরকার টিকা দেওয়ার জন্য বিভিন্ন রকমের নিয়ম তৈরি করতেছেন',\n",
              " 'ভেকসিন নিয়ে অনেক সন্দেহ আছে এটা না দেয়া ভালো',\n",
              " 'আপনার আশেপাশের মানুষদেরও টিকা নিতে নিরুৎসাহিত করুন কারন টীকা কোন কাজের না',\n",
              " 'জীবাণু র সংক্রামক এজেন্টকে অনুকরণ করেই ভ্যাকসিনগুলো কাজ করে',\n",
              " 'ভেক্সিন এত বাজে রে ভাই ২ দিন হাত উঠাইতে পারি নি',\n",
              " 'অক্সফোর্ড ভ্যাকসিনের হাফ ডোজ প্রাইম ও ফুল ডোজ বুস্টারেও ভালভাবে লড়াই করা যায় না',\n",
              " 'পৃথিবীতে এখনো হাজার হাজার মানুষ টিকা নিতে অস্বীকার করছে',\n",
              " 'প্রতিদিন বর্তমান সময় থেকে টিকা প্রদানের হার ক্রমশই কয়েকগুণ করে কমে আসছে',\n",
              " 'আল্লাহর রহমতে ভ্যাকসিনের প্রথম ডোজ দেওয়ার পরে আমাদের তেমন কোনো অসুবিধা হয়নি শুধু যেখানে ইনজেকশন দেওয়া হয়েছে সেখানে একটু একটু ব্যাথা করেছিল এবং দ্বিতীয় তারপরে তেমন কোনো অসুবিধা এখনোও হয়নি',\n",
              " 'ভ্যাকসিনও কমপক্ষে নয় মাস সুরক্ষা দেবেই',\n",
              " 'আগে থেকে অসুস্থ ব্যক্তিদের টিকা নেওয়া উচিত নয়',\n",
              " 'অক্সফোর্ড ভ্যাকসিনের মাধ্যমে আমরা অনেক প্রাণ বাঁচানো সম্ভব হবে না',\n",
              " 'আমি টিকা নেইনি আমার এখন পর্যন্ত কোনো অসুবিধা হয়নি',\n",
              " 'covid 19 টিকা আমাদের দেহগুলি ভাইরাস প্রতিরোধ ক্ষমতা বাড়াতে সহায়তা করেনা',\n",
              " 'যত দ্রুত সম্ভব সকলকে টিকা প্রদান করা এ বিষয়গুলো সরকার গুরুত্ব সহকারে কার্যকর করলেই একমাত্র করোনার হাত থেকে রক্ষা পাওয়া সম্ভব',\n",
              " 'টিকা দেওয়াটা জরুরি মনে হয়েছে এবং এটি স্বাস্থ্যের জন্য মঙ্গল এজন্য টিকা দিয়েছি',\n",
              " 'লকডাউন দিয়েও জনসমাগম বন্ধ করা সম্পূর্ণভাবে সম্ভব না একমাত্র টিকা গ্রহন ই নিজের সুরক্ষার অন্যতম মাধ্যম',\n",
              " 'গ্রামের সকল সাধারণ মানুষদের টিকার আওতায় আনা কখনোই সম্ভব নয়',\n",
              " 'টিকা তৈরির কারণে করোনাতে অারও মৃত্যুহার বেড়ে গিয়েছে',\n",
              " 'করোনাভাইরাসের বিভিন্ন ধরনের ভেরিয়েন্ট মোকাবিলায় ভ্যাকসিনের অনেক বিকল্প রয়েছে',\n",
              " 'দেশে কোভিড ভ্যাকসিন দেওয়া শুরু হওয়ার পরপরই আমি এবং আমার পরিবারের সবাই নিজ দায়িত্বে ভ্যাকসিন নিয়েছি',\n",
              " 'ভ্যাকসিন না দিয়ে সুরক্ষাবিধি মানলে হয়তো এগুলো থেকে মুক্তি পাওয়া যাবে',\n",
              " 'রূপান্তর সত্ত্বেও করোনাভাইরাসের স্পাইক প্রোটিন অপরিবর্তিত থাকলে ভ্যাকসিনের মাধ্যমে সৃষ্ট অ্যান্টিবডি করোনাভাইরাস শনাক্ত করতে পারে',\n",
              " 'ভ্যাকসিন নিলে শুধু আমােদর উপকার হবে এমন নয় আমােদর আশেপাশের মানুষেদরও এতে উপকার হবে',\n",
              " 'ভেকসিন এ শুধু পানি আর পানি এটা নিয়েন না',\n",
              " 'জাতীয় কোভিড ১৯ টিকাদান ও কর্মপরিকল্পনা অনুসারে অগ্রাধিকারভিত্তিক তালিকা অনুযায়ী সবাইকে টিকা দেওয়া হবে',\n",
              " 'যে কোন টিকা আসার আগে বেশ কয়েকবছর সময় নিয়ে এর কার্যকারিতাসহ বিভিন্ন বিষয় দেখা হয়',\n",
              " 'খেয়েদেয়ে কাজ নেই যে সারা দিন লাইনে দাড়িয়ে ভ্যাকসিন নিব',\n",
              " 'কোম্পানিগুলি তাদের অনুমোদন বা অনুমোদনের আগে ভ্যাকসিন তৈরি করা শুরু করে যাতে অনুমোদন পাওয়া গেলে কিছু সরবরাহ প্রস্তুত থাকে যা পরে নষ্ট হয়',\n",
              " 'covid 19 টিকা কোভিড ১৯ রোগে আক্রান্ত হওয়ার চেয়ে ভাল সুরক্ষা দিতে পারে',\n",
              " 'ভ্যাকসিন নিয়ে মানসিকভাবেও ভালো থাকেন',\n",
              " 'ভ্যাকসিন নিয়ে ফেলাটা জরুরি',\n",
              " 'যারা covid 19 সংক্রমণ থেকে সেরে উঠেছেন তাদের এখন আর টিকা কাজ হবে না',\n",
              " 'ভ্যাকসিন নিতে অবেহেলা করবেন না নিজে নিন অপরকে নেওয়ার জন্য সহযোগিতা করুন',\n",
              " 'আমরা আশা করি করছি করোনাভাইরাস দূর হয়ে যাবে ফাইনাল ব্লো টা আমরা দেব ভ্যাকসিনের মাধ্যমে',\n",
              " 'ভ্যাকসিন আমাদের দেহেতে ভাইরাস প্রতিরোধ ক্ষমতা বাড়াতে সহায়তা করে',\n",
              " 'ভবিষ্যতে ভ্যাকসিন করোনা সংক্রমণ থেকে শতভাগ সুরক্ষা দিতে পারবে',\n",
              " 'এই ভ্যাকসিন জনগন পর্যন্ত পৌঁছাবেনা পৌছাবে দলীয় দোকদের কাছে শেষ পর্যন্ত জনগনকে ক্রয় করেই নিতে হবে এই ভ্যাকসিন',\n",
              " 'আল্লাহ রোগ দিছেন তিনিই সারাবেন',\n",
              " 'আমার বয়স 20 বছর আমি সময় মত দুটি ডোজই সম্পন্ন করেছি',\n",
              " 'আমি তো এখনও ভ্যাকসিন নেই নি কই আমার তো কোন সমস্যা হয় নি',\n",
              " 'আমি শুনছিলাম টিকা নিলে নাকি বাচ্চা হয়না এসব গুজবে কান না দিয়ে আমিও ভ্যাকসিন নিছি আর আমার পরিচিত সবাইকে টিকা নেওয়ার কথা বলছি',\n",
              " 'moderna এবং pfizer উভয় টিকাই 12 বছর বা তার বেশি বয়সী শিশুদের ব্যবহারের জন্য who দ্বারা অনুমোদিত হয়েছে',\n",
              " 'করোনা নিয়ে আমাদের মনে যে ভয় তা টিকার মাধ্যমে দূর করা সম্ভব',\n",
              " 'নিরাপদ একটি ভ্যাকসিন সরবরাহ করা দরকার',\n",
              " 'একজন মানুষকে ২ ডোজ টিকা নিতে হবে প্রথম ডোজ নেওয়ার ২৮ দিন পরে দ্বিতীয় ডোজ নিতে হবে',\n",
              " 'টিকা নেওয়ার পর মনে হচ্ছে আমি যেন করোনা থেকে মুক্ত হলাম',\n",
              " 'ভ্যাকসিন নিয়ে ভালো থাকুন',\n",
              " 'টিকা নিলে কোন ক্ষতি নাই',\n",
              " 'কাকে দিবে টিকা বড় লোক',\n",
              " 'আমার বয়স ৭০ আমি টিকা নিয়েছি এবং টিকাটি খুব ভালো',\n",
              " 'শিশুদের ভ্যাকসিন দেওয়া কমিউনিটিতে করোনার বিস্তারকে ধীর করতে সাহায্য করতে পারে',\n",
              " 'mrna covid 19 টিকা গর্ভবতী মা বা তাদের শিশুদের গর্ভাবস্থার কোনো জটিলতা সৃষ্টি করে না',\n",
              " 'টিকা নেওয়ার পর হাসপাতালে ভর্তি হওয়ার ঝুঁকিও অনেক কমেছে',\n",
              " 'আমি টিকা দি নাই আমি টিকা দিতেও চাইনা',\n",
              " 'টিকা নিলেই করোনা হবেনা এমনটা নয় তবে সেটা খারাপ হইবো না',\n",
              " 'এখন চ্যালেঞ্জ হল এই ভ্যাকসিনগুলি সারা বিশ্বের মানুষের কাছে উপলব্ধ করা কিন্তু কোনোভাবেই টিকাকে বিশ্বাস করতে পারছেনা',\n",
              " 'টিকা নেওয়ার বিষয়ে আমার কোনো ভয় হয় নাই',\n",
              " 'আমার প্রথম ডোজের এসএমএস এখনো আসেনি',\n",
              " 'এখন বাঁচার একমাত্র উপায় হইলো টিকা নিয়া',\n",
              " 'টিকা আপনাকে আপনার কাছের মানুষদের ঝুঁকির হাত থেকে রক্ষা করবে',\n",
              " 'শুনেছি ভ্যাক্সিন নিয়ে অনেক মানুষ মারা গেসে',\n",
              " 'টিকাই করোনা থেকে বাঁচার শেষ ভরসা',\n",
              " 'ফাইজার ভ্যাকসিনটি আলফা বৈকল্পিক থেকে গুরুতর রোগ বা মৃত্যুর বিরুদ্ধে 95 এর বেশি কার্যকর বলে এখনো প্রমাণিত হয়নি',\n",
              " 'ভ্যাক্সিন নিন সুস্থ থাকুন',\n",
              " 'ভ্যাকসিন নিয়ে বিছানায় পরে থাকতে হয়',\n",
              " 'টিকার সাধারণত পার্শ্বপ্রতিক্রিয়াগুলো হালকা হয় এবং মাত্র কয়েক দিন স্থায়ী হয়',\n",
              " 'কোভিড ১৯ ভ্যাকসিনের কোনোটিই কোনোভাবেই আপনার ডিএনএকে প্রভাবিত করে না',\n",
              " 'শারীরিক সুস্থ থাকার জন্য টিকা নেওয়া প্রয়োজন',\n",
              " 'টিকা দিয়ে করোনা মুকাবেলা সম্ভব নয়',\n",
              " 'টিকা নিলে কোন ক্ষতি নাই এটা কেউ বলতে পারবে না',\n",
              " 'টিকা নিছি বলেই তো এই মহামারীতে আল্লাহর রহমতে এখনো বেঁচে আছি',\n",
              " 'টিকা সুরক্ষায় আস্থা নেই অনেকের করোনা হচ্ছে',\n",
              " 'টিকা নিলেও যদি করোনা হয় তাহলে টিকা আমাদের শরীরে কি উপকার করতেছে',\n",
              " 'ক্লিনিকাল ট্রায়ালে দেখা গেছে যে মডার্নার ভ্যাকসিন একজন ব্যক্তির কোভিড ১৯ হওয়ার ঝুঁকি ৯৪ কমিয়ে দিয়েছে',\n",
              " 'এলাকার ছোট ভাি বলছে ভেক্সিনে শূকরের মাংস মিশায়',\n",
              " 'ফাইজার ও মডার্নার তে ব্যবহার করা প্রযুক্তি ঝুঁকি বাড়ায়',\n",
              " 'গ্রামেও টিকা দেওয়ার জন্য অনলাইনের হাজার ঝামেলা পোহাতে হয় আমি নিজে পোহাইছি',\n",
              " 'কোয়ারান্টিনের সময় শেষ হলে তাঁদের ভ্যাকসিন দিয়ে কোন লাভ নেই কারণ তারা তো করোনা মুক্তই তখন',\n",
              " 'প্রথম ডোজের টিকা বিশেষ প্রয়োজন ছাড়া পাওয়া যাবে না৷',\n",
              " 'ভ্যাকসিনের ঝুঁকির চেয়ে উপকারিতা বেশি',\n",
              " 'শুনেছি অ্যাস্ট্রাজেনেকার টিকা অনেক পাওয়ার ফুল এটা ক্ষতিকর শরীরের জন্য',\n",
              " 'আমি বুস্টার ডোজ দিয়েছি আশা করি আমার আর কোন সমস্যা হবে না',\n",
              " 'ভেকসিন নিলে হাত পা অবস হয়ে যায়',\n",
              " 'করোনা ভাইরাস আতঙ্ক নয় করোনা ভাইরাস মোকাবেলায় নিজে সতর্ক থাকুন ও অন্যকে সুরক্ষিত রাখুন সবাই মাস্ক ব্যবহার করুন এবং সোশ্যাল ডিসটেন্স মেনে চলুন সম্ভব হলে সবাই ভ্যাকসিন নিন মনে রাখবেন যতদিন আমরা সবাই ভ্যাকসিন না নিতে পারব অর্থাৎ কালেক্টিভ ইমুনিটি তৈরি না করতে পারব ততোদিন মাস্ক এবং সোশ্যাল ডিসটেন্সই হোক আমাদের ভ্যাকসিন সবাই ভালো থাকবেন সুস্থ থাকবেন সাবধানে থাকবেন',\n",
              " 'টিকা এটা বাজে জিনিস মানুষ হয়রানি হচ্ছে',\n",
              " 'বিশ্বজুড়ে সবার জন্য ভ্যাকসিন দাবিটি ক্রমেই জোরদার হচ্ছে',\n",
              " 'বিশ্বের সব মানুষের জন্য করোনাপ্রতিরোধী ভ্যাকসিন চাই না ভ্যাকসিন দিলে কয়জনরে বা করোনা ঠেকানো যাবে',\n",
              " 'আমাদের গ্লোব বায়োটেকের ভ্যাক্সিন এর জন্য অপেক্ষা করছি',\n",
              " 'টিকা নেওয়ার জন্য করোনা আমার খুব একটা বেশি ক্ষতি করতে পারে নাই এটার কোনো গ্যারান্টি নাই',\n",
              " 'টিকা করোনা থেকে মুক্তি দিতে পারে না',\n",
              " 'ভ্যাকসিন এলে হয়তো এগুলো থেকে মুক্তি পাওয়া যাবে',\n",
              " 'আমদের আরও আগে ই উচিত ছিল টীকা উৎপাদনে যাওয়া',\n",
              " 'ঘোষণার পরও মিলছে না টিকা ভোগান্তি নিয়ে ফিরছে মানুষ',\n",
              " 'সাবধান হস্পিটাল এ যাবেন না সেখানে অনেক করোনা',\n",
              " 'প্রত্যেক ক্ষেত্রেই প্রাথমিক কিছু উপসর্গ দেখা গেছে যেমন ভ্যাকসিন দেওয়ার পর জ্বর জ্বর ভাব গায়ে ব্যাথা মাথা ব্যাথা গা গোলানো ইত্যাদি',\n",
              " 'ভ্যাকসিন নেওয়ার জন্য অসুস্থতার প্রাথমিক পর্যায়ে মানুষদের সেরকম শারীরিক কষ্ট বা দীর্ঘস্থায়ী কোভিড হওয়ার সম্ভাবনাও বেড়েছে',\n",
              " 'টিকা দিতে নাকি অনেক ঝামেলা হয় তাই টিকা দিই নাই',\n",
              " 'ভ্যাকসিনগুলিতে অ্যালার্জির প্রতিক্রিয়া বিরল',\n",
              " 'ভ্যাকসিন নেওয়ার কোনো মানেই হয় না',\n",
              " 'টিকা নেয়ার পর মানুষ যদি কিছু সময়ের জন্যও খারাপ অনুভব করে তাহলে এগুলো নিয়ে স্বাভাবিকভাবেই সোশ্যাল মিডিয়ায় অনেক কথাবার্তা হবে',\n",
              " 'প্রস্তাবিত সময়কালের মধ্যে আপনি আপনার টিকার দ্বিতীয় ডোজটি নিতে না পারলে নাকি মানুষ মরে যাবো',\n",
              " 'সংক্রমণ থেকে টিকা শতভাগ সুরক্ষা দিতে পারে না',\n",
              " 'সরকার সবচেয়ে দুর্বল ব্যক্তিদের একটি বুস্টার ডোজ দেওয়ার পরিকল্পনা করছে',\n",
              " 'গ্রামে সরকারের টিকাদান পরিকল্পনা নিঃসন্দেহে সবাইকে আশ্বস্ত করবে',\n",
              " 'আমার ছোট বাচ্চাকে টিকা দেওয়াতে চাই না',\n",
              " 'যাদের বয়স ৬০ বছরের বেশি তাদের মাঝে অ্যান্টিবডির মাত্রা কম দেখা যাচ্ছে তাদের টিকা নেওয়া জরুরি',\n",
              " 'টিকা আমাদের অনেক অপকার করে',\n",
              " 'যাঁদের করোনা হয়েছে জ্বর আছে বা সর্দি হয়েছে তাঁদের তখনই ভ্যাকসিন দেয়া উচিত নয় সেরে যাওয়ার পর দেয়া উচিত',\n",
              " 'করোনার সঙ্গে লড়াই করার মূল হাতিয়ার হল টিকা',\n",
              " 'হোটেল মার্কেটে যাওয়ার জন্য টিকা কার্ড দেখানোর পদক্ষেপটা একদম ঠিক নেওয়া হয়েছে',\n",
              " 'টিকা নিয়ে আমি ভালো নাই',\n",
              " 'টিকা নেওয়ার পরে কারও কারও ক্ষেত্রে নানা ধরনের শারীরিক সমস্যা দেখা দিতে পারে',\n",
              " 'আমার কথা শুনে অনেকে টিকা দিয়েছেন',\n",
              " 'আমার পরিবারের সকলকে টিকা দেওয়াইসি এবং এমনকি আমার কাজের মেয়েকেও টিকা নেওয়াইছি',\n",
              " 'টিকা সম্পর্কে ভ্রান্ত ধারনা বাদ দিন সব টিকারই কার্যকারিতা বিশ্বব্যাপী গ্রহনযোগ্য',\n",
              " 'আপনার পরিবারের ও আশেপাশের পরিবেশের সুরক্ষায় যত দ্রুত সম্ভব ভ্যাক্সিন নিয়ে ফেলুন',\n",
              " 'টিকা হল বাচ্চাদের আমাদের না',\n",
              " 'বৃদ্ধ মানুষ রে দিয়েন না ভেকসিন মরতে ও পারে',\n",
              " 'অ্যাস্ট্রাজেনেকা ফাইজার ও মডার্নার ট্রায়ালগুলো ডিজাইন করা হয়েছে ভ্যাকসিন কভিড ১৯ এর উপসর্গ হ্রাস করাকে কেন্দ্র করে',\n",
              " 'করোনাতে তো ঠিকই মানুষ মারা যাচ্ছে তাহলে টিকা নিয়ে লাভ কি',\n",
              " 'প্রথম প্রথম খুব চিন্তিত ছিলাম ভ্যাক্সিন নিবো কি নিবোনা কিন্তু এম্ন কিচ্ছু না',\n",
              " 'টিকাতে শুকর এর রক্ত আছে',\n",
              " 'প্রত্যেককে দুইটি করে ডোজ দিতে হবে',\n",
              " 'ভ্যাকসিন নিলে আমার দ্বারা আমার কর্মক্ষেত্রের অন্যান্য সদস্যের আক্রান্ত হওয়ার সম্ভাবনাও কমে যাবে',\n",
              " 'আপনি টিকা নিতে গেলে টিকা পাবেননা',\n",
              " 'টিকা নেওয়ার পর করোনারর প্রতি যে মানসিক চিন্তা কাজ করত সেই চিন্তাটা এখন আর কাজ করে না',\n",
              " 'ভ্যাকসিন নেওয়ার আগে ও পরে পুষ্টিকর খাবারগুলি খেয়ে নিজের শরীরের রোগ প্রতিরোধ ক্ষমতা বাড়িয়ে তুলুন',\n",
              " 'কোটি কোটি মানুষ টিকা দেয়না তাতেকি তারা বাচেনা',\n",
              " 'টিকাকে ভয় পাওয়ার জন্যও অনেকে নেয় না',\n",
              " 'রাশিয়া স্পুটনিক ৫ এর মত সিংগল ডোজ স্পুটনিক লাইট এর ব্যপারে বেশ জোরেশোরে মার্কেটিং করলেও প্রতি ডোজ স্পুটনিক ৫ এর জন্য ১০ করে দাবী করছে',\n",
              " 'টিকা আমাদের মতো গরীবদের জন্য শেষ ভরসা',\n",
              " 'আমার মেয়ের বয়স ১৪ বছর আমরা ওর ভ্যাক্সিন সেবা নিতে চাই না',\n",
              " 'টিকা মোটেও ভালো জিনিস না',\n",
              " 'আপনার যদি খুব মারাত্মক এলার্জি হয় তবে আপনি ওষুধ খাওয়া চালিয়ে যান এবং আপনি টিকা পাবেন',\n",
              " 'দেশের বাইরে যেতে হলে এখন সবার আগে টিকা নিতে হবে এমনটা জরুরি না',\n",
              " 'আমার ভেক্সিন দেওয়ার পরও করানো হয়েছিল',\n",
              " 'টিকা নিছি আর গ্রামের সবাইকেও নেওয়াইছি',\n",
              " 'ভ্যাকসিন নেওয়াতে শারীরিক রোগ প্রতিরোধ ক্ষমতা বৃদ্ধির পাশাপাশি মানসিক শক্তিও বৃদ্ধি পেয়েছে',\n",
              " 'কোয়ারান্টিনের সময় শেষ হলে তাঁদের ভ্যাকসিন দেয়ার প্রয়োজন নেই',\n",
              " 'আমি করোনা রোগীদের থেকে দূরে থাকি তাই টিকা নিবো না',\n",
              " 'সব ভ্যাকসিনে হাল্কা কিছু পার্শ্বপ্রতিক্রিয়া হতে পারে এ নিয়ে বিভ্রান্ত না হয়ে নিজে ভ্যাকসিন নিন এবং নিজের পরিবার আশপাশের মানুষকেও নিতে উৎসাহিত করুন',\n",
              " 'আমি একজন জেলার ইউনিটের প্রধান হয়ে বলতে পারি ভ্যাকসিন সম্পূর্ণ কার্যকরী নয়',\n",
              " 'টিকায় পরিবর্তন আনতে হবে আগামী কয়েক মাসের মধ্যেই',\n",
              " 'বিশ্বের প্রতিটি দেশের জন্য ভ্যাকসিন অবাধ প্রাপ্যতা নিশ্চিত হচ্ছে না',\n",
              " 'করোনা ভ্যাকসিিন দিয়ে আরও মরবো নাকি জা আসি ভালো আসি',\n",
              " 'সংক্রমণ এবং রোগের বিরুদ্ধে প্রতিরোধ ক্ষমতা হ্রাস রোধ করতে বুস্টারগুলি কার্যকর নয়',\n",
              " 'জাতির পিতা শেখ মুজিবুর রহমানের আদর্শে জননেত্রী শেখ হাসিনার নেতৃত্বে বাংলাদেশ করোনা মহামারি রোধে সবার জন্য টিকার ব্যবস্থা করতে সদা তৎপর',\n",
              " 'টিকা নিবন্ধন করতে ১০০ টাকা চায়',\n",
              " 'টিকা মোটেও ভালো না',\n",
              " 'টিকা নেওয়ার পর কিছুটা শরীরে ব্যথা হয়েছিল তবে সেটা একদিন ছিল',\n",
              " 'ভেকসিন এ অনেক জটিলতা আছে',\n",
              " 'দুই ধরনের ভ্যাকসিন একসঙ্গে নিলেও কোনো সমস্যা হবে না',\n",
              " 'ভ্যাকসিন গ্রহনের পর পুরুষদের চেয়ে নারীদের শরীরে অ্যান্টিবডি বেশি পাওয়া যাচ্ছে বলে মনে করছেন ডাক্তাররা',\n",
              " 'সময়ের অভাবে এতদিন টিকা নিতে পারিনি আমার বাড়ির সবাই টিকা নিয়েছে আমিও খুব শিগগিরই নিব',\n",
              " 'টিকা নিয়ে ও অনেকের করোনার ছবল খেয়েছে তাহলে টিকার কাজ কি',\n",
              " 'দেশে নভেল করোনাভাইরাস কোভিড ১৯ সংক্রমণ নিয়ন্ত্রণে জাতীয় গণটিকাদান কর্মসূচির আওতায় পর্যায়ে প্রয়োগ করা হচ্ছে অক্সফোর্ড অ্যাস্ট্রাজেনেকার ভ্যাকসিন',\n",
              " 'করোনার দানবীয় দ্বিতীয় স্রোত রোখার অন্যতম বড় উপায় ভ্যাকসিন',\n",
              " 'করোনার চিকিৎসা করার মতো ক্ষমতা সকলের নাই তাই আল্লাহ ছাড়া গতি নাই টিকা নিলেও তো করোনা হয়',\n",
              " 'বিভ্রান্ত না হয়ে নিজে ভ্যাকসিন নিন',\n",
              " 'শিশুদের ভেকসিন দেয়ার দরকার নাই',\n",
              " 'টিকাদানের সুবিধার সবচেয়ে ভালো উদাহরণ হলো এটা শুধু একজন ব্যক্তিকে নিরাপত্তা দেয় না বরং একটা কমিউনিটিকে নিরাপদ করে তোলে',\n",
              " 'covid 19 টি ভ্যাকসিন আমাদের দেহগুলি ভাইরাস প্রতিরোধ ক্ষমতা বাড়াতে সহায়তা করেনা',\n",
              " 'প্রথম ডোজ দেওয়ার পর জ্বর হয়েছিল তবুও দ্বিতীয় ডোজ নিয়েছি',\n",
              " 'করোনা টিকা দিয়ে মানুষ মারা যায়',\n",
              " 'ভ্যাকসিন নিয়ে গরিমশি নয় বরং সময় থাকতেই ভ্যাকসিন নিয়ে নিজেকে সুরক্ষিত রাখা উচিত',\n",
              " 'টিকা তো মানুষের দুশমন',\n",
              " 'করোনার কথা বলে এতদিন মাস্ক বিক্রি করসে এখন টিকা ও বিক্রি করবে',\n",
              " 'আমার আব্বা আম্মা দুইজনেরই করোনা হইছিলো আব্বা টিকা নেওয়া ছিলো আম্মায় নেয় নাই আব্বারে বাঁচাইতে পারছি কিন্তু আম্মারে পারি নাই বাঁচাইতে',\n",
              " 'ভ্যাকসিন কি দিয়ে তৈরি হয়েছে তা নিয়ে মানুষের মনে তীব্র আতংক রয়েছে',\n",
              " 'অক্সিজেন প্ল্যান্ট করে ফেললে দূর্নীতিবাজরা দূর্নীতি করবে কিভাবে কেউতো দেশে আর জনগণের কথা ভাবে না পকেটের কথা ভাবে কিছুদিন আগে দেখলাম করোনার টিকার প্রতি ডোজে ৭৩ টাকা করে লাভ করছে একটা কোম্পানি',\n",
              " 'ভ্যাকসিন দিয়ে কি হবে বাচা মরা আল্লাহর হাতে',\n",
              " 'করোনাভাইরাস এর অনেক পাওয়ার আছে ভেকসিন তো পানি ওটা রুখতে পারবে না',\n",
              " 'মানসম্মত কার্যকরী ভেকসিন যারা আনতে চাইবে সবাইকে গণহারে অনুমতি দেওয়ার আহবান জানাচ্ছি মোবাইল সিমকার্ডের মত হোক করোনা ভেকসিন এটাই কাম্য',\n",
              " 'বুস্টার টিকা একটা ভাইরাস টিকা',\n",
              " 'নিরাপত্তা এবং কার্যকারিতার জন্য তারা আন্তর্জাতিকভাবে সম্মত বেঞ্চমার্ক পূরণ করে তা প্রমাণ করার জন্য টিকাগুলোকে ক্লিনিকাল ট্রায়ালে কঠোর পরীক্ষার মধ্য দিয়ে যেতে হবে',\n",
              " 'টিকা দেওয়া টা এখন বাধ্যতামূলক হওয়ার জন্য আমি টিকা নিয়েছি',\n",
              " 'মডার্না ও ফাইজারের চেয়ে দামে সস্তা অক্সফোর্ডের ভ্যাকসিন',\n",
              " 'মহান আল্লাহ পাকের রহমতে টিকাই মানুষের উপকার হচ্ছে বলে আমার ধারণা তবে দুই একটা অনাকাঙ্ক্ষিত ঘটনাতো ঘটতেই পারে এ নিয়ে চিন্তার কিছু আছে বলে আমি মনে করিনা',\n",
              " 'এখন সব নকল টিকা দেয়া হচ্ছে',\n",
              " 'ফাইজার আগামী বছর ১৩০ কোটি ডোজ ভ্যাকসিন তৈরি করবে',\n",
              " 'টিকা নিলে শতভাগ সুরক্ষিত না হলেও ৯০ ভাগ সুরক্ষিত তো থাকতে পারবো',\n",
              " 'ভ্যাকসিনগুলির কার্যকারিতা প্রমাণিত হয়েছে',\n",
              " 'ভ্যাকসিন আসছে৷সরকার বিনামূল্যে এই ভ্যাকসিন মানুষকে দেবে',\n",
              " 'আমাদের কারো ভেক্সিন লাগবে না',\n",
              " 'ফাইজার ও মর্ডানার মতো অক্সফোর্ডের তৈরি ভ্যাকসিনেও কোভিড ১৯ রোগ আটকানো যাবে না',\n",
              " 'এ বাল ছাল টিকা যারা নিচ্ছে পাচ বছর পর সব বানর হয়ে যাবে কথাটা মনে রাইখেন',\n",
              " 'আমি করোনার ভয় পাই তাই টিকা নিয়ে নিসে আগেই',\n",
              " 'আমি এবং আমার পরিবারের সকলেই গত বছরই টিকা দিয়ে দিয়েছি এখন আমরা সবাই বুস্টার ডোজ এর জন্য অপেক্ষা করছি',\n",
              " 'টিকা নিলেই করোনা হবেনা এমনটা নয়',\n",
              " 'করোনাভাইরাস যা covid 19 সৃষ্টি করে তা ভ্যাকসিন দিয়েও কাজ হবে না',\n",
              " 'সংক্রমণের মাত্রা কমিয়ে নতুন ভ্যারিয়েন্টের সৃষ্টি থামানোর অবিলম্বে সবাইকে টিকার আওতায় আনতে হবে',\n",
              " 'সবাই ২টা টিকা নিয়েছে বলেই নিয়েছি',\n",
              " 'টিকা দেওয়ার আগে সময় এবং পরে সমস্ত লোককে তাদের অঞ্চলে covid 19 থেকে সুরক্ষার জন্য সম্পূর্ণ কার্যকর নয়',\n",
              " 'ক্লিনিকাল ট্রায়ালে ভেকসিন অনেকটাই অকার্যকর',\n",
              " 'করণা আসার পর যতটা চিন্তিত ছিলাম ভ্যাকসিন দেয়ার পর এখন আর সেই চিন্তাটা হয়না',\n",
              " 'টিকা নিঃসন্দেহে একটা আশার আলো',\n",
              " 'যারা এখনো ভ্যাকসিন নেয়নি সরকারের উচিত তাদের দ্রুত ভ্যাকসিন এর আওতায় নিয়ে আসা',\n",
              " 'ভেকসিন নিয়ে কত কথা শুনলাম রে ভাই এত ভয় করে কিভাবে টিকা দিব',\n",
              " 'সাধারণ জীবনযাত্রা পুনরায় চালু করার জন্য সাধারণ মানুষের কাছে সুরক্ষিত ও কার্যকরী ভ্যাকসিন পৌঁছে দেওয়া খুব জরুরি',\n",
              " 'হোটেল মার্কেটে যাওয়ার জন্য টিকা কার্ড দেখানোর পদক্ষেপটা একদম ঠিক নেওয়া হয়েছে এই ব্যাপারটা সবসময়ই মানা উচিত আমাদের',\n",
              " 'এখনও লাখ লাখ মানুষ টীকা নেয় নি তাদের কি টীকা দিতে পারবেন',\n",
              " 'ভ্যাকসিন বাধ্যতামূলক না করার জন্য অনেক যুক্তি রয়েছে',\n",
              " 'এত মানুষ টিকা নিল তাহলে করোনা বাড়ছে কেন টিকা তাহলে কাজ করে না',\n",
              " 'অন্য টিকার মত করোনার টিকাও সাধারন টিকা এটা করোনাকে রুখতে পারে না',\n",
              " 'টিকার উপকার আজ পর্যন্ত পেলাম না',\n",
              " 'ভ্যাকসিন যাতে যে কোন সংক্রমণের মোকাবিলা করতে পারে সেভাবেই প্রস্তুত করা হচ্ছে',\n",
              " 'এসবের জন্য সময় নাই ভাই অনেক কাজ আছে',\n",
              " 'আমি টিকা নিয়ে অসুস্থ হতে চাইনা',\n",
              " 'বিশ্বের বিভিন্ন দেশ ভ্যাকসিন নেওয়ার ক্ষেত্রে বাধ্যবাধকতাও জারি করেছে এইটা ঠিক হইছে',\n",
              " 'বুুস্টার ডোজ নিলে অমিক্রন হয়',\n",
              " 'বয়স্কদের করোনা আক্রান্ত হওয়ার সম্ভবনা বেশি থাকে তাদের সুরক্ষার স্বার্থে অনতিবিলম্বে ভ্যাক্সিন দিন',\n",
              " 'একাধিক সমীক্ষায় প্রমাণিত হয়েছে সংক্রমণ রুখতে কোভিড টিকার কার্যকারিতা',\n",
              " 'তরুণদের মাঝে অ্যান্টিবডি তৈরি হওয়ার হার বেশি',\n",
              " 'নিজের কথা ভাবুন নিজের পরিবার ও সমাজের কথা ভাবুন টিকা গ্রহন করুন',\n",
              " 'টীকা নেয়ার দুঃসাহস করিও না ভাই',\n",
              " 'টিকা দেওয়ার আগে করোনারে অনেক ভয় পাইতাম এখন টিকা দেওয়ার পরেও ভয় করি',\n",
              " 'টিকা কার্ডের জন্য ভ্যাকসিন নিয়েছি',\n",
              " 'টিকার সরবরাহ নিশ্চিত করতে দৃঢ় প্রতিজ্ঞ বাংলাদেশ সরকার সবাইকে টিকাদানের আওতাভুক্ত করা হবে ১ বছরের মধ্যে',\n",
              " 'আশীর্বাদ হিসেবে এই টিকা আবিষ্কার করা হয়েছে যা আজও কাজ করে না',\n",
              " 'টিকা নিয়ে আমি ভালো আছি আশা করি আপনিও ভালো থাকবেন',\n",
              " 'প্রায় মানুষ এ টিকা নেয়ার পর অনেক অসুস্থ হয়ে পরে এজন্য টিকা নিতে ভয় করে',\n",
              " 'ভেকসিন নেওয়ার পর আমার অনেক অসুখ হয়েছে',\n",
              " 'আমি প্রথমে গুজবে কান দিয়ে ভ্যাক্সিন গ্রহণ করিনি পরবর্তীতে আমার মা বাবা গ্রহণ করেছিলেন তাদের কোনো সাইড এফেক্ট ও হয়নি তা দেখে আমিও ভ্যাক্সিন নিয়ে নিরাপদ আছি আলহামদুলিল্লাহ',\n",
              " 'টিকা নিয়ে কত রকমের গুজব ছড়ায় সব গুজব মিথ্যা না',\n",
              " 'চিন্তার কিছু নাই বলে দেন তারেক রহমান টিকা আটকে রেখেছে',\n",
              " 'টিকা নিয়ে আমার কোন সমস্যা হয়নি',\n",
              " 'একটা ভাইরাস যখন আইছে তখন তার প্রতিকার হিসেবে ভ্যাকসিন তো দিতেই হইব',\n",
              " 'আমার এলাকার অনেক এই তো টিকা নিল না তো কি হইসে',\n",
              " 'ভ্যাকসিন নিয়ে অনেকেই অসুস্থ হয়ে পড়েছেন',\n",
              " 'করোনার সংক্রমণ নিয়ন্ত্রণের জন্য টিকা অপরিহার্য',\n",
              " 'ভ্যাকসিন নেওয়ার আগে সংকিত ছিলাম কিন্তু ভ্যাক্সিন গ্রহণ করে নিজেকে সুরক্ষিত মনে হচ্ছে',\n",
              " 'কিছু ভ্যাকসিনের ক্ষেত্রে প্রাথমিক ডোজ নেওয়ার কিছু দিন পর রোগ প্রতিরোধ ক্ষমতা আস্তে আস্তে কমে যায় তখনও বুস্টার ডোজ দিতে হয়',\n",
              " 'ভ্যাকসিন নিলে আমাদের শরীরে যথেষ্ট অ্যান্টিবডি তৈরি হবে',\n",
              " 'টিকা নেওয়ার পর আমাকে কার্ডও দিয়ে দিছে',\n",
              " 'বর্তমানে ভ্যাকসিন না নিলে কোন দেশে যাওয়া যাবে না এটা আমি মানি না',\n",
              " 'ভারত সহ পৃথিবীর নানা দেশের গবেষকরা দেখছেন আরও কীভাবে উন্নত ভ্যাকসিন তৈরি করা যায়',\n",
              " 'কভিডের ভ্যাক্সিন অনেকটা মেন্টাল ট্রিটমেন্ট এর মূলে আছে কেবলই ব্যবসা',\n",
              " 'শুনেছি টিকা নিলে অনেক অসুস্থ হয়ে যায় তাই আমি ঠিক করেছি টিকা নিব না',\n",
              " 'যতই লকডাউন দেওয়া হোক টিকা প্রদান নিশ্চিত করতেই হবে',\n",
              " 'ভ্যাকসিন নিয়ে কোনরকম দ্বিধা কেই মনে জায়গা দিবেন না',\n",
              " 'আমার ভেকসিন লাগবে না ভাই আমি বাসা থেকে বের হই না',\n",
              " 'আমি টিভিতে টিকার বিজ্ঞাপন দেখছি সেই থেকেই টিকা নিছি',\n",
              " 'টিকাতে কোন উপকার না থাকলে তো আর মানুষ কোটি কোটি টাকা টিকার পিছনে খরচ করতো না',\n",
              " 'টিকা নিয়ে কে কত লাভবান হয়েছেন বলেন তো',\n",
              " 'টিকা নিয়া কি লাভ হইলো না হইলো কিছুই তো বুঝলাম না',\n",
              " 'আমি বুস্টার ডোজ দিয়েছি আশা করি আমার আর কোন সমস্যা হবে না করোনার সাথে যুদ্ধ করার মত ক্ষমতা আমার তৈরি হয়েছে',\n",
              " 'টিকা সবার জন্য নয় তাই টিকা দেয়া উচিত না',\n",
              " 'ভ্যাকসিনগুলি গুরুতর অসুস্থতা এবং মৃত্যুর বিরুদ্ধে অত্যন্ত কার্যকর কিন্তু কোনও ভ্যাকসিনই 100 কার্যকর নয়',\n",
              " 'মৃত্যু যেখানে নিশ্চিত টিকা সেখানে অর্বাচীন',\n",
              " 'টিকা অবশ্যই একটি ভালো জিনিস',\n",
              " 'আমি দুইটা ডোজই নিতে চাইনা আমার কখনো করোনা হয়নি',\n",
              " 'ভেকসিন নিিলে যে শরীরে রুগ বাসা বাধবে না এর কোন গ্যারান্টি নাই',\n",
              " 'ভ্যাকসিন নেবার সাথে সাথেই তো হাত এ বেথা করে',\n",
              " 'আমার টিকাদান কেন্দ্রে অনেক মানুষ এর ভিড় থাকলেও তারা সুন্দরভাবে সব পরিচালনা করছে প্রশংসনীয়',\n",
              " '২য় ডোজ পাইনি',\n",
              " 'টিকা ছাড়াই আমি বেঁচে থাকবো',\n",
              " 'ভেকসিন একদিকে ভালো করে অন্য দিকে অমিক্রন শরীরে ঢুকায়',\n",
              " 'আমি আমার বাসার বয়স্ক ব্যক্তিদের টিকা নিশ্চিত করেছি এবং নিজেও নিয়েছি',\n",
              " 'ভয়ে ছিলাম কিন্তু পরবর্তীতে সাহস করে ভ্যাক্সিনেট হয়েছি',\n",
              " 'ভ্যাকসিন নেওয়ার পর আমি অনেক দিন অসুস্থ ছিলাম',\n",
              " 'টিকা এবং এর কার্যকরীতা নিয়ে অনেক সন্দেহ আছে',\n",
              " 'ঐতিহাসিকভাবে ভ্যাকসিন ক্যাম্পেইনের ব্যাপক সফলতা এখনো পাওয়া যায়নি',\n",
              " 'ভ্যাকসিন নিয়ে অনেককে দেখছি অনেক রকম ক্ষতির সম্মুখীন হয়েছে',\n",
              " 'সরকার টিকাটি বাধ্যতামূলক করে একদমই ঠিক কাজ করেনি',\n",
              " 'এই টিকাগুলো কিছু সময়ের জন্য হলেও অন্যান্য পার্শ্বপ্রতিক্রিয়া তৈরি করে তাহলে মানুষকে সে ব্যাপারে প্রস্তুত করে তুলতে হবে',\n",
              " 'যারা গর্ভবতী বা যারা শীঘ্রই গর্ভবতী হতে পারে তারা তাদের স্থানীয় টিকাদান কর্তৃপক্ষের সুপারিশ অনুসারে covid 19 টিকা গ্রহণ করতে পারে না',\n",
              " 'ভ্যাকসিন নেয়া মানেই করোনাভাইরাস সংক্রমণ থেকে অনেকটা রক্ষা পাওয়া',\n",
              " 'রোগ যখন হইছে প্রতিকার আল্লাহি দিবো টিকা নিতে হবেনা',\n",
              " 'আমি টিকায় বিশ্বাস করি না',\n",
              " 'ইনশাআল্লাহ অতি শিগগিরই পেয়ে যাবেন মেসেজ অবশ্যই আসবে চিন্তার কোন কারন নাই',\n",
              " 'টিকা দিয়ে অসুস্থ হয়ে পরা থেকে না দিয়ে ভাল থাকা ভালো',\n",
              " 'করোনার বিরুদ্ধে ভ্যাক্সিন গ্রহণ করে আমি নিরাপদ আছি',\n",
              " 'যাদের বয়স ৬০ বছরের বেশি তাদের মাঝে অ্যান্টিবডির মাত্রা কম দেখা যাচ্ছে কারণ বিবেচনা করতে গেলে দেখা যায় বয়স নিজেই কিন্তু একটি রোগ',\n",
              " 'টিকা না নিিয়ে অনেক ভালো আসি ভাই আমার অসুখ হয়ার মোটেও ইচ্ছা নাই',\n",
              " 'করোনাকে ভয় না পেয়ে বরং টিকা নিতে উৎসাহী হয়ে উঠুন',\n",
              " 'ভেকসিন করোনার ঝুঁকি বহুগুনে বাড়িয়ে দেয়',\n",
              " 'ভেক্সিন ছাড়াও ভালো হয়',\n",
              " 'দেশে করোনাভাইরাসের টিকার দ্বিতীয় ডোজ দেওয়া নিয়ে চিন্তা র কথা জানালেন স্বাস্থ্যমন্ত্রী জাহিদ মালেক',\n",
              " 'মর্ডানা ভ্যাকসিন জরুরী ব্যবহারের অনুমোদন পেয়েছে',\n",
              " 'টিকার পার্শ্বপ্রতিক্রিয়াগুলি সাধারণত বিশ্রাম হাইড্রেশন এবং অ্যাসিটামিনোফেনের মতো ওষুধের এক বা দুই দিনের মধ্যে সমাধান হয়',\n",
              " 'এ মহামারি মোকাবেলায় অবিলম্বে সবাইকে টিকার আওতায় আনতে সমৃদ্ধ দেশগুলোকে কোভ্যাক্স ফ্যাসিলিটি সম্পূর্ণভাবে অর্থায়ন করার আহ্বান জানাই',\n",
              " 'টিকাই যদি সব তাহলে আর মানুষ মরে কেন',\n",
              " 'covid 19 টিকার সুবিধাগুলি পরিচিত এবং সম্ভাব্য ঝুঁকির চেয়ে বেশি',\n",
              " 'কোভিড এর টীকা নিয়ে বিছানায় পরে থাকতে হয়',\n",
              " 'তৃতীয় ডোজ বুস্টার করোনার বিরুদ্ধে ক্রমাগত রোগ প্রতিরোধ ক্ষমতা কমে যাওয়া এবং সুরক্ষা হ্রাস পাওয়া প্রতিরোধ করতে সহায়তা করে',\n",
              " 'টিকা তো কাজ করে না',\n",
              " 'পানি ছাড়া যেমন জীবন বাঁচে না ভ্যাকসিন ছাড়াও দুইদিন পর জীবন বাঁচব না',\n",
              " 'ভ্যাকসিন আমি নিজে থেকে নিতে চাই না',\n",
              " 'ভ্যাকসিনগুলি জীবন বাঁচাতে এবং গবেষকদের ফিরে আসতে এবং উত্সাহিত করতে স্বাভাবিক জীবনের কিছু আভাস দিতে সহায়তা করবে',\n",
              " 'অ্যাস্ট্রাজেনেকা ভ্যাকসিন নেয়ার পর আমার নানাধরনের পার্শ্বপ্রতিক্রিয়া দেখা দিয়েছে',\n",
              " 'আপনি যদি আপনার স্বাস্থ্য বা covid 19 টিকা দেওয়া নিয়ে চিন্তিত হন তাহলে আপনার ডাক্তারের সাথে কথা বলুন',\n",
              " 'ভ্যাকসিন নিয়ে নিশ্চিন্তে চলাফেরা করুন',\n",
              " 'লকডাউন দিয়েও সবার চলাচল বন্ধ করা সম্পূর্ণভাবে সম্ভব না একমাত্র টিকা গ্রহন ই নিজের সুরক্ষার অন্যতম মাধ্যম',\n",
              " 'varicella vaccine নিলে হৃদয় এর ক্ষতি হওয়ার আশঙ্কা নেই',\n",
              " 'নিজ দায়িত্বে আমাদের সকলের ভ্যাকসিন গ্রহণ করা উচিত',\n",
              " 'আমি বিশ্বাস করে ভ্যাকসিন নিয়েছি',\n",
              " 'টীকা নিয়ে স্বাভাবিক জীবনযাপন করা যায় না',\n",
              " 'টিকা আমাদের রোগ প্রতিরোধ ক্ষমতা দ্রুত চিনতে পারে এবং এর বিরুদ্ধে লড়াই করতে পারে',\n",
              " 'টীকা দেওয়া হইলে ভাইরাসটি শরীরের মধ্যে আরও ঢুইকা যায়',\n",
              " 'ভ্যাকসিনগুলি বেশিরভাগ লোককে অসুস্থ হওয়া থেকে বিরত রাখতে পারে তবে কোনও টিকাই 100 শতাংশ সুরক্ষা প্রদান করে না',\n",
              " 'টিকাই যদি জীবন বাচাইতে তাহলেতো আর টিকা আবিষ্কারে পরদিন থেকে পৃথিবীতে করোনায় কেউ মরতোই না',\n",
              " 'আমরাতো সিঙ্গাপুরের চেয়ে উন্নত এখন ভিক্ষা চাও কে ভ্যাকসিন',\n",
              " 'প্রস্তাবিত সময়কালের মধ্যে টিকার দ্বিতীয় ডোজটি নেওয়া দরকার',\n",
              " 'টিকার অনেক খারাপ দিক আছে',\n",
              " 'ভ্যাক্সিন নিজে নিয়েছি অন্য দেরও বলছি নিতে',\n",
              " 'দেরি না করে কোন সংশয় না রেখে সঠিক সময়ে ভ্যাকসিন নিন পরিবারের বয়োজ্যেষ্ঠদের আগে ভ্যাকসিন নেয়ার ব্যবস্থা গ্রহণ করুন',\n",
              " 'ভ্যাকসিন অত্যন্ত দ্রুত বর্ধনশীল ভেরিয়েন্টের বিরুদ্ধেও কার্যকর হয়েছেi',\n",
              " 'ভেক্সিন নিিয়ে রে ভাই হস্পিটাল ছিলাম ৭ দিন',\n",
              " 'টিকা নিয়ে সুস্থ আছি এবং যারা নেয় তারাও সুস্থ থাকে',\n",
              " 'করোনা হওয়ার পরও শুধুমাত্র ভ্যাকসিন থাকার জন্য আমাদের পরিবারের তেমন কোনো কারোর ক্ষতি হয়নি',\n",
              " 'বাড়ির আমরা কেউ ভ্যাক্সিন নেইনি তাহলে কি আমরা মারা গেসি',\n",
              " 'টিকার পার্শ্ব প্রতিক্রিয়া পরে অনেক বড় আকার ধারণ করে',\n",
              " 'বৈশ্বিকভাবে ভ্যাকসিন তৈরির দৌড়ে নেমেছে ২শ টিরও বেশি প্রতিষ্ঠান',\n",
              " 'করোনা আতঙ্কের ছায়া এখনও কাটে নি বিশ্ব থেকে এই মুহূর্তে এই মহামারীর হাত থেকে রক্ষা পাওয়ার একমাত্র উপায় হল টিকাকরণ',\n",
              " 'স্থানীয় চাহিদা মিটিয়ে এই ভ্যাকসিন আগামীতে রফতানি করা যেতে পারে বিদেশেও',\n",
              " 'বেশিরভাগ স্বেচ্ছাসেবকের ক্ষেত্রেই এই ভ্যাকসিন দেওয়ার ফলে অ্যান্টিবডি তৈরি হয়েছে',\n",
              " 'সম্পূর্ণ বিনামূল্যে টিকা প্রদান করা হয়',\n",
              " 'করোনা শুরু হওয়ার পর থেকেই ভ্যাকসিন তৈরি প্রাথমিক সূচনা শুরু করা হয়েছিল',\n",
              " 'টিকা যে কাজ করবো তা ভালে খাইলে এমনিতেই হবে',\n",
              " 'ভেকসিন আমাদের কোন ভালো করে না \\\\',\n",
              " 'আমি ভ্যাক্সিন নিতে না পেরে ভালোই আছি',\n",
              " 'ডেল্টা ভ্যারিয়েন্টসহ করোনার বিভিন্ন ধরনের ভ্যারিয়েন্ট মোকাবিলায় ভ্যাকসিনের বিকল্প নেই',\n",
              " 'ভবিষ্যতে নতুন রূপের বিরুদ্ধে সুরক্ষার জন্য পরিবর্তিত covid 19 ভ্যাকসিনের প্রয়োজন হতে পারে',\n",
              " 'মা বাবা কে বুঝানো যাচ্ছে না তাই উনাদের টিকা দেয়া হয় নি',\n",
              " 'কোভিড ১৯ এর ওমিক্রন ভেরিয়েন্টের বিস্তৃতির কারণে বুস্টার ভ্যাকসিনেশনের প্রতি জোর দেওয়া হচ্ছে',\n",
              " 'কে যেন বলেছিল আমারই নাকি টিকার আওতায় আসে পাশের দেশ তো বটেই অনেক উন্নত দেশের চেয়ে বেশি এগিয়ে',\n",
              " 'দেশের প্রতিটি নাগরিক টিকা নিতে পারেন',\n",
              " 'বিভিন্ন তথ্য যাচাই করে দেখা হয়েছে ভ্যাকসিন সম্পূর্ণ নিরাপদ',\n",
              " 'বিভিন্ন ধরণের ভ্যাকসিন বিভিন্ন উপায়ে সুরক্ষা দেয়',\n",
              " 'টিকা নিলে কোন ক্ষতি নাই বরং উপকারই হয়',\n",
              " 'কিছু ধরণের covid 19 ভ্যাকসিন মেসেঞ্জার rna mrna ব্যবহার করে তৈরি করা হয়েছে এটি একটি নতুন প্রযুক্তি যা প্রচলিত পদ্ধতির ভ্যাকসিন তৈরির চেয়ে দ্রুত পদ্ধতির অনুমতি দেয়',\n",
              " 'বিশ্বব্যাপী ছড়িয়ে পড়া করোনা অতিমারী দেশে দেশে ভ্যাকসিন তৈরির প্রয়োজনীয়তা ও গুরুত্ব সর্বোপরি অপরিহার্যতা সবার চোখে আঙ্গুল দিয়ে দেখিয়ে দিয়েছে',\n",
              " 'টিকা নিলে বড়ধরনের রুগ হয়',\n",
              " 'টিকা ছাড়াও করোনা মুকাবেলা করা যায় এতে সন্ধেহ নেই',\n",
              " 'অ্যাস্ট্রাজেনেকা টীকা নেয়ার পর আমার নানাধরনের পার্শ্বপ্রতিক্রিয়া দেখা দিয়েছে',\n",
              " 'টিকা নিলে তা আপনার চারপাশে যারা আছেন তাদের সুরক্ষিত রাখতেও সাহায্য করে না',\n",
              " 'প্রবাসীদের প্রতি বিমাতাশুলভ আচরণ কেন পাসপোর্ট নাম্বারে কেন রেজিস্ট্রেশন হবেনা কেন ৩০০ টাকা গুনতে হবে তারপর অপেক্ষার পালা',\n",
              " 'কিছু ব্যক্তি অ্যান্টিবডি টেস্ট করার পরে টিকা নেওয়ার চেষ্টা করছেন',\n",
              " 'আশ্চর্য ফরমে কোথাও লেখা নেই এটা বুস্টার ডোজ বরং লেখা আছে ৩য় ডোজ এতে গ্রহীতা কি বুঝবে',\n",
              " 'ভ্যাকসিন নিলে আমরা এই করোনাকে হারাতে পারবো',\n",
              " 'টিকা দেওয়ার পরে অনাক্রম্যতা তৈরির প্রক্রিয়াটি জ্বর শরীর ব্যথা লক্ষনগুলো দেখা দিতে পারে এই লক্ষনগুলো স্বাভাবিক এবং এটি শরীরের রোগ প্রতিরোধ ক্ষমতা বাড়ানোর লক্ষন',\n",
              " 'ভ্যাকসিন হয় যা প্রাথমিক ডোজে যথেষ্ট ইমিউন রেসপন্স ঘটাতে পারেনা তাই বুস্টার ডোজের দরকার',\n",
              " 'সকলেই দ্রুত টিকা নিন এবং দ্রুত পৃথিবীকে করোনা মুক্ত করে ফেলুন',\n",
              " 'আমরা কেউ ভ্যাকসিন নেইনি',\n",
              " 'অনেকে দুই ডোজ টিকা ও বুস্টার ডোজ নেওয়ার পরও অমিক্রনে সংক্রমিত হচ্ছেন এতে ভয়ের কিছু নেই',\n",
              " 'ম্যাডাম এই টিকাটা ভারতে নাই কেন ওরা এটা সম্পকে কিছু জানেনই কেন একটু বলেন',\n",
              " 'প্রথম যখন টিকা আসে তখন মানুষ টিকা দেয় নি আর এখন টিকার জন্য হাহাকার',\n",
              " 'দেশ কোভিড মোকাবেলায় এত ভালো করেছে শুধুমাত্র চিকিৎসা সেবার কাজ করার কারণেই',\n",
              " 'আমি স্বাস্থ্য কমপ্লেক্স থেকে টিকা গ্রহণ করেছি',\n",
              " 'ভ্যাকসিনের মাধ্যমে covid 19 এর বিরুদ্ধে টিকাদান শুধুমাত্র ভাইরাসের বিস্তার রোধ করবে না মহামারীর গুরুতর স্বাস্থ্যের পরিণতিও সীমিত করবে',\n",
              " 'সবাইর কোভিড ১৯ টিকা নেওয়া উচিত টিকার উপর শতভাগ আস্থা রাখা উচিত',\n",
              " 'টিকা হলে পরে দেখা যাবে এখন টিকা নিব না',\n",
              " 'আব্বা ভ্যাকসিন নেওয়ায় এখন তিনি বাইরে গিয়ে মেলামেশা করলেও আমার বেশি চিন্তা হয়না',\n",
              " 'আপনার চারপাশে যারা আছেন তাদের সুরক্ষিত রাখতে টিকা সাহায্য করে',\n",
              " 'টিকা নিলেই করোনা হবেনা এমনটা নয় কিন্তু টিকা নেওয়া থাকলে সাধারণত করোনা হলেও শরীরের খুব বেশি ক্ষতি করতে পারে না',\n",
              " 'টিকা নিয়া মানুষ অযথাই ভয় পায়',\n",
              " 'টিকা নিয়ে অনেকেই চিন্তা করে সরকার যেটি দিয়েছে সেটি নেওয়াই ভালো',\n",
              " 'বাধ্যতামূলক না হলেও আমি টিকাটি নিতাম',\n",
              " 'টিকা নিন সুস্থ থাকুন এবং অন্যদের টিকা গ্রহণে উৎসাহিত করুন',\n",
              " 'টিকা নিয়ে যদি অসুস্থ হয়ে পরি তখন আমার বাচ্চাদের খাওয়াবে কে',\n",
              " 'ব্যস্ততার জন্যে এতদিন টিকা নিতে পারেনি কিন্তু আমি খুব তাড়াতাড়ি টিকা নিব',\n",
              " 'এত টিকা দিয়ে কি হবে আমরা তো পাচ্ছিনা',\n",
              " 'আমি টিকাকে সম্পূর্ণভাবে ভরসা করতে পারিনা',\n",
              " 'টীকা ভয় পাওয়ার জন্যও অনেকে নেয় না',\n",
              " 'আশীর্বাদ হিসেবে এই ভেক্সিন আবিষ্কার করা হয়নি',\n",
              " 'টিকার কার্যকারিতা সমীক্ষায় প্রমাণিত',\n",
              " 'ভ্যাকসিন covid 19 এর বিরুদ্ধে একটি নিষ্ক্রিয় প্রতিষেধক',\n",
              " 'টিকা নিয়ে কোনোরকম ভয় পাওয়ার কিছু নাই সম্পূর্ণ নির্ভয়ে টিকা নেওয়া উচিত সকলের টিকা নিলেনা মানুষ সুস্থ হতে পারব',\n",
              " 'আমি টিকা নিতে ভয় পাই পাশের বাসার মানুষ টিকা নিয়ে অসুস্থ হয়েছেন',\n",
              " 'আমার সরকার ও টিকার উপর সম্পূর্ণ আস্থা আছে',\n",
              " 'এখন বাঁচার একমাত্র উপায় টিকা নয়',\n",
              " 'সাম্প্রতিক সময়ে করোনা হয়ে থাকলে ১ দিন থেকে ৩ মাসের মধ্যে ভ্যাকসিন নেওয়ার জন্য ব্যস্ত হবেন না',\n",
              " 'ভেকসিন আজকাল করোনা বাড়িয়ে দিয়েছে',\n",
              " 'এই টিকা মানুষ মারার কারিগর একদিকে অর্থ অপর দিকে জীবন অনেকের দুটোই শেষ হবে',\n",
              " 'ভ্যাকসিন নিয়ে করোনা কে জয় করুন',\n",
              " 'প্রতিটি মানুষকে ভ্যাকসিন দিয়ে পৃথিবীকে করোনা মুক্ত করতে হবে',\n",
              " 'দুর্বল ব্যক্তিদের একটি বুস্টার ডোজ দেওয়ার পরিকল্পনা করছে',\n",
              " 'ভ্যাকসিনের মূল কাজ দেহের প্রতিরোধী কোষগুলোকে উদ্দীপ্ত করে সার্স কোভিড ২ বা করোনা ভাইরাসের বিরূদ্ধে অ্যান্টিবডি তৈরি করে',\n",
              " 'দুটি ভ্যাকসিন নেবার পর মানবদেহে এই ভাইরাসের সক্রিয়তা ভ্যাকসিন না নেওয়া মানুষের শরীরে ভাইরাসের সক্রিয়তা থেকে কিছুটা অন্যরকম হয় এটা আমার মনে হয় না',\n",
              " 'আমার ফ্যামিলির সবাইকে টিকা দেওয়াইসি',\n",
              " 'ভ্যাকসিন নেওয়ার পর আমি এবং আমার পরিবারের সকলের নিরাপদে আছি',\n",
              " 'নিজে টিকা নিন ঝুঁকি কমান টিকা নিতে সবাইকে উৎসাহী করুন',\n",
              " 'টিকা প্রায় সব ধরনের রূপান্তরিত করোনাভাইরাসের বিরুদ্ধে প্রতিরোধ গড়ে তুলতে সক্ষম',\n",
              " 'টিকার কাোন ভিত্তি নাই সব বোকা বানানোর ফন্দি',\n",
              " 'দ্রুততম সময়ে গ্রামের সাধারণ মানুষের টিকার আওতায় আনা হবে উত্তম এবং সঠিক পদক্ষেপ',\n",
              " 'প্রথম ডোজ নেবার সময় দ্বিতীয় ডোজটির সময় বলে দেয়া হবে',\n",
              " 'ভ্যাকসিন দেওয়া হইলে ভাইরাসটি শরীরের মধ্যে আরও ঢুইকা যায়',\n",
              " 'টিকা নিয়া মানুষ অনেক রটনা ছড়ায়',\n",
              " 'বাংলাদেশেও ভ্যাকসিন নেওয়ার পর কেউ মারা গেলে পরীক্ষাটা করতে হবে',\n",
              " 'বিজ্ঞানীরা ইতিমধ্যেই ভ্যাকসিন নিয়ে গবেষণা শুরু করেছেন যেটি যে কোনও ভ্যারিয়েন্টের সঙ্গে মোকাবিলা করতে সম্ভব',\n",
              " 'মানুষকে যে ভ্যাকসিন দেওয়া হচ্ছে তা অত্যন্ত নিরাপদ',\n",
              " 'শিশুদের টিকা দিলে তা তাদের covid 19 ধরন বা ভাইরাসের গুরুতর উপসর্গ দেখা থেকে রক্ষা করতে পারে এর কোনো প্রমাণ নেই',\n",
              " '১০ ধরনের ভেকসিন আছে সব টা কি দিতে হবে',\n",
              " 'ভ্যাকসিন না নিয়ে শুধু স্বাস্থ্যবিধি পালন করলেই হবে',\n",
              " 'করোনা হলে পরে দেখা যাবে এখন কোভিড এর টীকা নিব না',\n",
              " 'টিকা নিয়ে আরামসে বেঁচে থাকুন জীবনকে উপভোগ করুন',\n",
              " 'ভ্যাকসিন covid 19 এর বিরুদ্ধে একটি নিষ্ক্রিয় প্রতিষেধক যা রোগের ঝুঁকি ছাড়াই শরীরের প্রতিরোধ ব্যবস্থাকে উদ্দীপিত করে',\n",
              " 'টিকা গ্রহণ করতে আমি কোনরকম গুজবে কান দেই নি',\n",
              " 'আমি খবরে ভেক্সিন অপকারী দিকগুলোও দেখছি',\n",
              " 'অক্সফোর্ডের ভ্যাকসিন মানুষের দেহকোষে করোনাভাইরাসের জিনের প্রবেশ ঘটায় যা স্পাইক প্রোটিন তৈরি করে এটাতো শরীরের জন্য খারাপও হতে পারে',\n",
              " 'বাংলাদেশের মানুষ এখনও করোনা বিশ্বাস করে না',\n",
              " 'জানি অনেক ভালো হচ্ছে কিন্তুু নিয়ম তো অনেকেই মানে না',\n",
              " 'টিকা নিবো না',\n",
              " 'এখন ভ্যাকসিন নিয়েই ভালো থাকতে হবে',\n",
              " 'আরে এখন তো মাস্ক ও লাগে না টিকা লাগবে কেন',\n",
              " 'আপনার আগে covid 19 থাকলেও আপনার টিকা নেওয়া উচিত',\n",
              " 'স্কুল থেকে আমাদের টিকা দেওয়া হয়নি',\n",
              " 'এইবার ছুটিতে বাড়ি গিয়ে আমি টিকা নিব',\n",
              " 'আপনার covid 19 হয়ে থাকলেও টীকা নেওয়া জরুরি কারণ তা আপনার আবার covid 19 হওয়ার ঝুঁকি কমিয়ে দেয়',\n",
              " 'আমার কখনো করোনা হয়নি তাও টিকা নিছি',\n",
              " 'করোনা টিকা মানুষকে কোভিড এ অসুস্থ করে তুলছে',\n",
              " 'সরকার উদ্যোগ ভালো নয় টিকা আবার বাদ্ধতামুলক কেন',\n",
              " 'বিদেশ যাব পাসপোর্ট করেছি এখন ভ্যাকসিন নিব',\n",
              " 'টীকা দুটি ডোজ হয়ে গেলেও জ্বর এবং কাশির সমস্যা একই রকম থাকে',\n",
              " 'খালি বাংলাদেশে একবার অফার দেন টিকা নেয়ার জন্য খুনাখুনি হয়ে যাবে',\n",
              " 'টিকা নেওয়াতে আমি আগের থেকে অসুস্থ বোধ করি',\n",
              " 'কখনো ভাবিনি এত মানুষের টিকা ব্যবস্থাপনা এত সুষ্ঠ ভাবে নেয়া সম্ভব বাংলাদেশে হ্যাটস অফ',\n",
              " 'কোভিড ১৯ মহামারী শেষ করার জন্য নিরাপদ এবং কার্যকর ভ্যাকসিনের সুষম অ্যাক্সেস অত্যন্ত গুরুত্বপূর্ণ তাই অনেকগুলি ভ্যাকসিন প্রমাণিত এবং বিকাশের দিকে যেতে দেখা অত্যন্ত উৎসাহজনক',\n",
              " 'ভ্যাকসিনগুলো যে যথেষ্ট নিরাপদ এবং রোগ নিয়ন্ত্রণে কার্যকর তা প্রমাণ করতে মানুষের মধ্যে ব্যবহারের জন্য বিশ্ব স্বাস্থ্য সংস্থা দ্বারা অনুমোদিত ভ্যাকসিনগুলোকে কঠোর পরীক্ষা নিরীক্ষা এবং ক্লিনিকাল পরীক্ষার মধ্য দিয়ে যেতে হয়েছে',\n",
              " 'গরিব দেশগুলোর জন্যও টিকা পাওয়ার সুযোগ ও সহযোগিতায় এগিয়ে যেতে হবে',\n",
              " '৮মাস হয়ে গেছে নিবন্ধন করেছে টিকা গ্রহনের এখনো মেসেজ আসেনি',\n",
              " 'শুনেছি ভ্যাকসিন নিতে টাকা লাগে আমি ভ্যাকসিন নিব না',\n",
              " 'ভ্যাকসিন নিলে যদি বাচ্চা না হয় তখন তো সমস্যা',\n",
              " 'আমার দুইটা ডোজ শেষ হইছে বুষ্টার ডোজ নিলে মনে হয় আরো বেশি সুস্থ হয়ে যাব',\n",
              " 'আপনার নিকটস্ত কেন্দ্র থেকে ভ্যাক্সিন নিন বাংলাদেশ সরকার বিনামূল্যে ভ্যাক্সিন সেবা দিচ্ছে',\n",
              " 'চায়না টিকা নিলে হজ ও উমরা করতে যাওয়া যাবে না তবে ঐ টিকা কেন আমাদের দেশে এনে দেয়া হলো এখন আমাদের কি হবে সরকারের উচিত এর একটা সমাধান করা',\n",
              " 'আমি দুইটা ডোজই নিয়েছি আমার কখনো করোনা হয়নি তবুও টিকা নিয়েছি',\n",
              " 'টিকা নিলে নিজে এবং আপনার পরিবার সুরক্ষিত থাকবে',\n",
              " 'তিন মাস হয়ে গেল দ্বিতীয় ডোজ টিকার এসএমএস এখনো পাই নাই',\n",
              " 'এখন বিশ্বজুড়ে কোভিড ১৯ প্রতিরোধে কেবল একটি নয় বিভিন্ন ধরনের করোনার টিকা দেয়া হচ্ছে যেটা আরও আশংকা তৈরি হচ্ছে',\n",
              " 'টিকা নিয়ে এখনো অনেকে ভয় পায় তারা বোকামি করতেছে',\n",
              " 'প্রচন্ড স্বাস্থ্যবিধী মেনে ভ্যাকসিন দেওয়া হচ্ছে অনেক নিরাপদ দুরত্ব একেক জন',\n",
              " 'প্রত্যেককে দুইটি করে ডোজ না নিলেও হবে',\n",
              " 'দেশের সকলে ভ্যাকসিন নিলে তবেই তো দেশ সুরক্ষিত হবে',\n",
              " 'ফাইজার ভেকসিন কার্যকরী ও নিরাপদ নয়',\n",
              " 'যত দ্রুত সম্ভব দেশের সকল বাচ্চাকে করোনার টিকার আওতায় আনা উচিত',\n",
              " 'যুক্তরাষ্ট্র যুক্তরাজ্যসহ ইউরোপের দেশগুলোর দিকে তাকালেই ভ্যাকসিন যে ব্যর্থ তা উপলব্ধি করা যায়',\n",
              " 'টিকার কার্যকরিতা নেই বললেই চলে',\n",
              " 'আমি টিকা বিশ্বাস করি না',\n",
              " 'বাইরের দেশগুলোতে ভ্যাকসিনের প্রয়োজনীয়তা উপলব্ধি করা যায়',\n",
              " 'আমি প্রথম ডোজ টিকা দিয়েছি একমাস পেরিয়ে দুই মাসের কাছাকাছি এখনো দ্বিতীয় ডোজ টিকার মেসেজ আসেনি',\n",
              " 'গতবছর ভ্যাকসিন নিছিলাম বইলাই মনে হয় এইবার করোনা থেইকা বাঁইচা ফিরছি',\n",
              " 'টিকার আওতায় সবাইকে না আনতে পারলে সংক্রমণ কমিয়ে আনা অনেক কঠিন ব্যাপার',\n",
              " 'দেশের জনগনের টাকায় টিকা কিনবেন তার মধ্যে নিশ্চই বড় রকমের চুরি আছে না হলে',\n",
              " 'শুনলাম ভ্যাকসিন নিলে নাকি হাতের রক্ত জমাট বেধে যায় অনেক কষ্ট হয়',\n",
              " 'করোনা থেকে সুরক্ষার জন্য টিকার কষ্ট বোধহয় স্বীকার করাই যায়',\n",
              " 'আমার তো এলারজি আছে তাই টিকা নেই নি',\n",
              " 'ভাই গ্রাম অঞ্চলে সাধারন মানুষ চিনের টিকা ছাড়া ভালো মানের কোন টিকা পাবেনা ভালো মানের টিকা পাবে তো নেতা কমীরা',\n",
              " 'নিজেকে মানসিকভাবে প্রস্তুত করার জন্য হলেও ভ্যাকসিন নেওয়া এখন বর্তমানে প্রত্যেকটি নাগরিকের দায়িত্ব',\n",
              " 'বর্তমানে সারাবিশ্বে জনজীবনে করোনার টিকাকরণ কোন কাজে আসছে না',\n",
              " 'আপনার অঞ্চলের যে কোন জায়গায় ভ্যাকসিন পাওয়া গেলে দয়া করে টিকা নিন',\n",
              " 'পরিবারের সকলে ভ্যাকসিন নিয়ে সুস্থ আছি',\n",
              " 'টিকা বিভিন্ন ধরণের সুরক্ষা দেয়',\n",
              " 'টিকা নেওয়ার পরেও স্বাস্থ্যবিধি মেনে স্বাভাবিক জীবনযাপন করুন',\n",
              " 'আপনি যদি বর্তমানে গর্ভবতী হওয়ার চেষ্টা করছেন তবে আপনার টিকা নেওয়া উচিত',\n",
              " 'ভেকসিন নিয়ে পরে বাণিজ্য হবে',\n",
              " 'আমার তৃতীয় ডোজ দেওয়ার সময় হয়েছে ওটার মেসেজ আসলে ওটাও সময়মতো নিয়ে নিবো',\n",
              " 'দেশের বাইরে যেতে হলে টিকা অবশ্যই দিতে হবে',\n",
              " 'ভ্যাক্সিন নিয়ে ভয় নয় করোনাকে করো জয়',\n",
              " 'দেশের সবাইকে টিকা দিলে ও করোনা বন্ধ হবে না',\n",
              " 'লকডাউন না দিয়ে দ্রুত টিকা দেন',\n",
              " 'ভেকসিন নিয়ে মরতে যাব না কি',\n",
              " 'করোনার জন্য মাক্স পড়লেই হবে টিকা নেওয়ার দরকার নেই বলে আমি মনে করি',\n",
              " 'করোনার টিকা ফাও একটা টিকা নিবেন না কেউ',\n",
              " 'স্বাস্থ্য ও সামাজিক কার্যক্রমের ওপর কভিড ১৯ এর প্রভাব কমিয়ে আনার জন্য সকলকে সচেতন হতে হবে টীকা কিছুই করতে পারবেনা',\n",
              " 'ভ্যাকসিন দেওয়া ভালো',\n",
              " 'ভ্যাকসিন নেওয়ার ঠিক আগে বা পরে সংক্রমিত হয় তাহলে কিন্তু সে অসুস্থ হবেই',\n",
              " 'ভ্যাকসিনগুলো বিভিন্ন পদ্ধতির মাধ্যমে একটিই লক্ষ্য পূরণ করে তা হলো করোনাকে রোধ করা',\n",
              " 'বিভিন্ন দেশের বহু মানুষ এখনো টিকা নিতে রাজি নয়',\n",
              " 'ভ্যাকসিন গ্রহণ করার পর মানসিকভাবে অনেক শক্তিশালী হয়ে উঠেছি',\n",
              " 'টিকা শরীরের শক্তি নস্ট করে দেয়',\n",
              " 'ভেকসিন নিলে অমিক্রন হয়ার চান্স বাড়ে',\n",
              " 'টিকার মেয়াদ নিয়ে কারো ভাবার টাইম নাই মনে প্রশ্ন ও আসে না এই ২ ডোজ টিকা দিলেই কি হবে না বছর বছর দিতে হবে আর এখনতো পিছনের পকেট থেকে টাকা নিচ্ছে সামনে দিতে হলে কি সামনের পকেট থেকে নিবে',\n",
              " 'অসাধারণ বন্ধুত্ব ভারতের বাংলাদেশের দূর্দিনে নেই টিকা',\n",
              " 'ভ্যাকসিন নেওয়ার জন্য আমি পুরোপুরি সুস্থ আছি',\n",
              " 'ভ্যাকসিন এর নিবন্ধন কিভাবে করে জানি না ভাই আমি মূর্খ মানুষ',\n",
              " 'করোনার টিকা আগে বাংলাদেশের সব এমপি মন্ত্রীদের পুটকিতে লাগানোর পর চিন্তা করবো দিমু কি দিমুনা',\n",
              " 'টিকা নেওয়ার পর আমার এবং আমার পরিবারের কারোরই কোন রকমের কোন জ্বর ঠান্ডা কিছু না আসে নাই',\n",
              " 'জীবনের নিরাপত্তা সবাই চাই এজন্য টিকা নিয়েছি',\n",
              " 'দেশের একজন সচেতন নাগরিক হিসেবে নিজ দায়িত্বে ভ্যাকসিন নেওয়া আমার কর্তব্য এর মধ্যে পরে না',\n",
              " 'দেশে সবার আগে স্বাস্থ্যকর্মীদের ভ্যাকসিন দেওয়া নিশ্চিত করতে হবে তাহলে তারা আমাদের সুস্থ করে তুলতে পারবে',\n",
              " 'হাস্পাতালগুলাতে ভ্যাক্সিন দেয়ার জন্য আলাদা স্থান নির্ধারণ করা হয়েছে যার কারনে কোন রকম বিড়ম্বনা ছাড়াই টিকাদান কর্মসূচি সম্পন্ন হচ্ছে',\n",
              " 'আমাদের বাঁচানোর জন্যই তো বিজ্ঞানীরা টিকা আবিষ্কার করছে',\n",
              " 'ভেকসিন এর যন্ত্রণা কবে শেষ হবে রে ভাই',\n",
              " 'টিকা নিয়ে মাশাআল্লাহ আমি এখন ভালো আছি',\n",
              " 'ভ্যাকসিন নেওয়ার পক্ষে জোরদার সওয়াল করেছেন',\n",
              " 'টিকা অসুস্থতার ঝুঁকি কমায় মানুষও বাঁচায়',\n",
              " 'ভেকসিন নিরাপদ এটা প্রমান হয়নি এখনও',\n",
              " 'করনোর বিভিন্ন ভ্যারিয়েন্ট আসলেও টিকা নেওয়া থাকলে তা লড়াই করতে সক্ষম হবে',\n",
              " 'দুর্বল ব্যক্তিদের একটি ডোজ দেওয়ার মানেই তারা মৃত্যুর মুখেয় পাও দিলো',\n",
              " 'সংক্রমণ ব্যাধি থেকে বাঁচার জন্য টিকা নিয়েছি',\n",
              " 'এর মধ্যে কয়েকটি নতুন ভ্যাকসিন জরুরি ব্যবহারের জন্য অনুমোদিত হচ্ছে',\n",
              " 'আমাদের এলাকার টিকা কেন্দ্রের মান খুবই ভালো আমার কোন সমস্যা হয়নি',\n",
              " 'ভ্যাকসিনে শুওরের কোনো প্রোডাক্ট ব্যবহার করা হয়নি',\n",
              " 'বাঁচতে চাইলে সময়মতো নিজে ভ্যাকসিন নিতে উৎসাহিত হয়ে উুঠুন',\n",
              " 'সমস্ত গর্ভবতী মহিলাদের জন্য covid 19 ভ্যাকসিন দেওয়ার পরামর্শ দেওয়া হয়',\n",
              " 'শিশু এবং তাদের পরিবারের নিরাপত্তার জন্য আগেই টিকা নিয়ে বেশি মাতামাতি করবেন না',\n",
              " 'ভ্যাকসিন নেয়া মানেই করোনাভাইরাস সংক্রমণ থেকে নিরাপদ থাকার গ্যারান্টি নয়',\n",
              " 'টিকা না দেওয়া ব্যক্তিদের তুলনায় টিকাপ্রাপ্তদের হাসপাতালে ভর্তি হওয়ার সম্ভাবনা অনেক কম থাকে',\n",
              " 'করোনার ভেক্সিন মেয়েদের বন্ধ্যা করে দেয়',\n",
              " 'করোনার হাত থেকে বাঁচার জন্য একমাত্র উপায় হইলো টিকা নেওয়া এটা ভুল',\n",
              " 'টিকা নিতে যাবেন না করোনার আখড়া সেখানে',\n",
              " 'মানুষের শরীরে ভ্যাকসিনের প্রোটিন রেপ্লিকেট করে',\n",
              " 'করোনা নিয়ে আর চিন্তা করিনা গতবছরেই ২ ডোজ টিকা নিয়ে নিছি',\n",
              " 'আমি মানুষের সাথে কাজ করি তাই টিকা নিয়েছি',\n",
              " 'যাঁদের করোনা হয়েছে তাঁদেরও ভ্যাকসিন নেয়া জরুরি এবং তাঁদের প্রতিষেধক দেয়া হচ্ছে',\n",
              " 'শিক্ষার্থীদের ভ্যাকসিনের গুরুত্ব বোঝাতে হবে যাতে করে তারা অন্যদের ভ্যাকসিন নেওয়াতে আগ্রহী করে তুলতে পারে',\n",
              " 'বাংলাদেশ সবসময় ভারতের উপর বেশি নির্ভর করার কারনে এমন বিপদ হয় তার উদাহারন পেঁয়াজ এ টিকা',\n",
              " 'টিকা দিতে গেলে টাকা চায়',\n",
              " 'ভেকসিন নেয়ার প্রক্রিয়া এত জটিল করায় অনেকেই টিকা নিয়ে চায় না',\n",
              " 'ভেকসিন দিয়ে কিছু হয় না আর এগুলা নিরাপদ ও নয়',\n",
              " 'আমার দ্বিতীয় ডোজ দেয়া হয়েছে এখন আর বুস্টার ডোজ নিতে চাই না',\n",
              " 'সব জায়গাতেই এখন ভ্যাকসিন কার্ড প্রয়োজন হয়',\n",
              " 'একটি কারিগরি কমিটি গঠন করা হবে ভ্যাকসিন নীতিমালা প্রণয়ন ও বাস্তবায়নের জন্য',\n",
              " 'ভেক্সিন সাথে আমার কোনো সম্পর্ক নাই',\n",
              " 'হাজার কোটি টাকা খরচ করে বিদেশী টিকা কিনে আনা হয় দেশী কোম্পানী ধনী হয়েযাবে এ ভয়ে নাকি অন্যকোন অদৃশ্য ষড়যন্ত্রে তাদের নিরুৎসাহিত করা হয় এ রাষ্ট্রে সবই সম্বভ',\n",
              " 'টিকাদান রেজিস্ট্রেশন এ কোন বিড়ম্বনা নেই যেইদিন ডেট পড়বে অইদিন ই আপনি আপনার টিকা গ্রহণ করতে পারবেন',\n",
              " 'আমি ও আমার পরিবার টিকা দিয়েছি টিকা দেয়ার পর তেমন কোন জটিলতা দেখা দেয় নি',\n",
              " 'করোনাভাইরাস বিস্তার রোধে সারাদেশে ১২ থেকে ১৭ বছর বয়সী শিক্ষার্থীদের ভেক্সিন দেওয়া হয়নি',\n",
              " 'ভ্যাকসিন নিন করোনা থেকে নিজে বাঁচেন অন্যকে বাঁচাতে সাহায্য করেন কালেক্টিভ ইমুনিটি তৈরিকরেন দেশকে বাঁচান',\n",
              " 'আমি ভেক্সিন নিছি টিকা নেওয়ার পর আমার অনেক শরীর খারাপ হয়েছিল',\n",
              " 'বিদেশ যাওয়ার আগে অবশ্যই কোভিড টেস্ট করাতে হবে আর ভেক্সিনেটেড না থাকলে বেশিরভাগ দেশে যাওয়া সম্ভব না তাই টিকা গ্রহন করুন',\n",
              " 'টিকা নিয়ে এখন আর ভাবি না',\n",
              " 'টিকা নিলেওতো মানুষ মরে',\n",
              " 'টিকা বিশেষজ্ঞশের মতে সিরাম ইনস্টিটিউশের তৈরি অ্যাস্ট্রাজেনেকার টিকা যথেষ্ট নিরাপদ',\n",
              " 'করোনা এখন অনেক কম তাই আর টিকা না নিলে ও চলবে',\n",
              " '২০২১ হলো সেই বছর যেটি covid 19 ভ্যাকসিনগুলিকে তাদের দক্ষতা প্রমাণ করতে হয়েছিল',\n",
              " 'টিকা নিছি বইলাই তো এখনো বাঁইচা আছি',\n",
              " 'টিকা নিলে নাকি করোনা হয়ার সম্ভাবনা বেড়ে যায় তাই টিকা নিব না',\n",
              " 'সতর্কতার জন্য আমি টিকা নিয়েছি',\n",
              " 'টিকা নিয়ে দেশের বাইরে যাইতে চাই',\n",
              " 'টিকাতে ভরসা নাই ভাই',\n",
              " 'আচ্ছা দিব পরে টিকা',\n",
              " 'ভেকসিন না নিলে ও করোনা ভালো হয়',\n",
              " 'বিশ্বব্যাপী মানুষ অপেক্ষা করেছেন ভ্যাকসিনের',\n",
              " 'ভ্যাকসিন মনে অনেক সাহস বাড়িয়ে দিয়েছে নিজেকে শক্তিশালী মনে হয়',\n",
              " 'আমাদের উচিত নিজেদের ভ্যাক্সিনের দিকে নজর দেওয়া',\n",
              " 'বিদেশে কোভিড ভ্যাকসিন নেওয়াতে অনেক মানুষ মারা গিয়েছে',\n",
              " 'টিকা পাওয়ার কোনো লক্ষণ নেই',\n",
              " 'ভ্যাকসিন নিলে আপনার ইমিউন সিস্টেম ইম্প্রুভ করবে',\n",
              " 'যে টিকা নিয়ে মানুষ এত আশাবাদি ছিল সেই টিকা এখন অকাজের',\n",
              " 'তৃতীয় ডোজ বুস্টার covid 19 এর বিরুদ্ধে ক্রমাগত রোগ প্রতিরোধ ক্ষমতা কমে যাওয়া waning immunity এবং সুরক্ষা হ্রাস পাওয়া প্রতিরোধ করতে সহায়তা করে',\n",
              " 'আমার এলাকায় কয়েকজন মানুষের দেখছি টিকা নিয়ে বহুদিন অসুস্থ ছিল',\n",
              " 'দুই ডোজ টীকা নেয়ার পর করোনার হাত থেকে ৯৫ শতাংশ বাঁচা যাবে বলে প্রস্তুতকারকরা দাবি করছেন তারপরও টীকা নিয়ে অনেকেই করোনাতে আক্রান্ত হয়েছে',\n",
              " 'করোনার টিকাদান কার্যক্রমে অন্যান্য জেলার তুলনায় নারায়ণগঞ্জ কিছুটা পিছিয়ে রয়েছে',\n",
              " 'মানুষের মৃত্যু টিকা ঠেকাতে পারবে টিকা দিয়ে লাভ কি',\n",
              " 'এমন খবর আমাদের আশা জাগায় আল্লাহ যেন খুব তাড়াতাড়ি মানুষকে করনার প্রতিরোধক বানানোর তৌফিক দান করেন',\n",
              " 'তৃতীয় ডোজ বুস্টার covid 19 এর বিরুদ্ধে ক্রমাগত রোগ প্রতিরোধ ক্ষমতা কমে যাওয়া এবং সুরক্ষা হ্রাস পাওয়া প্রতিরোধ করতে সহায়তা করে',\n",
              " '১৬ বছর বা তার বেশি বয়সী যারা তিন মাস বা তারও আগে করোনার টিকার দ্বিতীয় ডোজ নিয়েছেন তারা সবাই তৃতীয় ডোজ বুস্টার নিতে পারবেন',\n",
              " 'ভ্যাকসিন নিয়ে সরাসরি বিশ্ববিদ্যালয়ে ক্লাস করতে চাই',\n",
              " 'ভ্যাক্সিনের সকল ডোজ দিলে মৃত্যু ঝুঁকি কমবে ইনশাআল্লাহ',\n",
              " 'হুায়াত থাকলে বাঁচবো নয়ত মরব তবুও টীকা নিব না',\n",
              " 'ভ্যাকসিন নিলে শরীর সম্পূর্ণ সুস্থ থাকবে এটার কোন গ্যারান্টি নেই',\n",
              " 'পৃথিবীর সব মানুষ ভ্যাকসিন দিলেও করোনা থেকে মুক্তি পাওয়া যাবেনা',\n",
              " 'আমি আমার গ্রাম থেকেই দুইটি ডোজ সম্পন্ন করে এসেছি',\n",
              " 'ভ্যাকসিন গ্রহনের পর পুরুষদের চেয়ে নারীদের শরীরে অ্যান্টিবডি বেশি পাওয়া যাচ্ছে',\n",
              " 'আপনার পরিবারের সুরক্ষায় যত দ্রুত সম্ভব ভ্যাক্সিন নিয়ে ফেলুন',\n",
              " 'অ্যাস্ট্রাজেনেকার ভ্যাকসিন উচ্চমাত্রায় কার্যকর বলে প্রমাণিত হয়নি এটি গুরুতর রোগ ও হাসপাতালে যাওয়া প্রতিরোধে সক্ষম নয়',\n",
              " 'টিকার প্রথম ডোজ দেওয়ার কয়দিন পর রোগ প্রতিরোধ ক্ষমতা বাড়তে শুরু করবে',\n",
              " 'টিকা নেইনা অনেক ভয় করে',\n",
              " 'করোনার ভ্যাকসিনগুলিতে কোনও ভাইরাস বা অন্যান্য সংক্রামক উপাদান নেই এগুলো সম্পূর্ণ হালাল',\n",
              " 'বিশেষজ্ঞ চিকিৎসকেরা বার বার করোনার টিকা নিতে বলছেন',\n",
              " 'ভেকসিন নিয়ে আমি মরলে এ দায় আপনার',\n",
              " 'আমি এখনো দিতে পারি নাই',\n",
              " 'করোনার টিকা আর চার পাঁচটা টিকার মতই একটি টিকা এটা আমাদের উপকার করে না',\n",
              " 'আমরা আশা করি করছি করোনাভাইরাস দূর হয়ে যাবে তাই আর টিকা নিতে হবে না',\n",
              " 'ভ্যাকসিন নিয়ে নিজে ভাল থাকুন এবং অন্যকে ভালো থাকতে উৎসাহিত করুন',\n",
              " 'টিকা থাকলে করোনাকে ভয় নেই',\n",
              " '৩য় ডোজ কমপ্লিট ভ্যাক্সিন',\n",
              " 'সবার আগে আল্লাহকে বিশ্বাস করুন ভেক্সিন মানুষকে বাঁচাতে পারবেনা',\n",
              " 'করোনা টিকা অবশ্যই বিকল্প কোনো ব্যবস্থার চেয়ে ভালো',\n",
              " 'এখনই টিকা বাধ্যমূলক করলে ভালো হতো',\n",
              " 'ভ্যাকসিন আপনার কোভিড ১৯ হওয়ার সম্ভাবনাকে ব্যাপকভাবে হ্রাস করে যা ভুয়া',\n",
              " 'ভেকসিন ১০ ও কাজ করে না',\n",
              " 'ভ্যাক্সিন শুধু নিজের ও নিজের পরিবারের এর জন্য না আপনি নিরাপদ থাকলে নিরাপদ থাকবে আপনার গোটা দেশ',\n",
              " 'ভেক্সিন পাওয়ার কোনো লক্ষণ নেই',\n",
              " 'বিশেষজ্ঞরা মনে করছেন এমআরএনএ ভ্যাকসিন গর্ভবতী নারীদের কোনো ক্ষতি করবে না',\n",
              " 'টিকা নিলে নাকি মানুষ মইরা যায় এটা সম্পূর্ণ ভুয়া কথা',\n",
              " 'ভ্যাকসিন নিলে আপনার ইমিউন সিস্টেম কমে যেতে পারে',\n",
              " 'আমি ডায়াবেটিসের রোগী হওয়া সত্বেও টিকা নিয়েছি',\n",
              " 'টিকা নেওয়ার পরে আর করোনা হয়নি',\n",
              " 'ভ্যাকসিনের প্রতি আস্থা রাখুন আর আল্লাহকে বিশ্বাস করুন',\n",
              " 'আমি ভ্যাক্সিন নিতে পেরে খুব খুশি এখন বুস্টার ডোজের অপেক্ষায় আছি বুষ্টার ডোজ নিয়ে ১০০ সুরক্ষিত থাইক্কা যামু',\n",
              " 'কোন ব্যক্তি কোভিড ১৯ এ আক্রান্ত হলে তার সুস্থ হওয়ার তিন মাস পরে এই টিকা নিতে পারবে',\n",
              " 'বর্তমান মহামারী সংক্রান্ত প্রসঙ্গে টিকা দেওয়ার সম্ভাব্য উপকারিতা এবং গর্ভবতী মহিলাদের সুরক্ষা তথ্যের বর্তমান সীমাবদ্ধতা',\n",
              " 'টিকা নিয়া নাকি মানুষ মরছে',\n",
              " 'অনেকে করোনায় আক্রান্ত হয়েছেন ঠিকই কিন্তু তিনি হয়তো মারা গেছেন হার্ট অ্যাটাক বা স্ট্রোকে',\n",
              " 'ভ্যাকসিন দিতে গিয়ে কোনরকম ঝামেলার সম্মুখীন হতে হয়নি',\n",
              " 'ভ্যাকসিন নিয়ে আমি ভালো আছি',\n",
              " 'কতো টিকা নিলাম রে ভাই আরও নিতে হবে',\n",
              " 'অক্সফোর্ড ভ্যাকসিনের মাধ্যমে প্রাণ বাঁচানো সম্ভব হবেনা',\n",
              " 'ভেকসিন কিন্তু মানব শরীরের জন্য বিপদ ডাকতে পারে',\n",
              " 'আজ গিয়েও টিকা না দিয়ে ফিরে আসতে হয়েছে টিকা নাকি শেষ হয়ে গেছে নেক্সটে টিকা আসলে তখন যেতে বলছে',\n",
              " 'প্রথম ডোজ নেবার সময় আপনার দ্বিতীয় ডোজটি কখন নিতে হবে তা বলে দেয়া হবে',\n",
              " 'বিশ্ব একদিন ঠিকই রিসার্চ করে বের করবে এই করোনার টিকার নামই বাঙালী কার্যকরী টিকা বানাতে হলে এতে বীর বাঙালীর রক্ত ২ ফোঁটা হলেও লাগবে এটা আমি আজ মোটামুটি শিওর আরিফ আর হোসেন',\n",
              " 'আমি কিছুদিন আগে buster dose গ্রহণ করেছি আমার এতে করে সংক্রমণের হার অনেকটাই কমে যাবে বলে আমি মনে করি',\n",
              " 'টিকাকে একটা ঝামেলা মনে হয়',\n",
              " 'অ্যান্টিজেনগুলোকে জানার পরিবর্তে আরএনএ এবং ডিএনএ ভ্যাকসিনগুলো আমাদের শরীরকে প্রয়োজনীয় জিনগত কোড দেয় যা আমাদের রোগ প্রতিরোধ ব্যবস্থাকে নিজে থেকেই অ্যান্টিজেন তৈরি করতে সহায়তা করে',\n",
              " 'টিকা নেওয়ার পরেও যদি আপনার এলাকায় এখনও করোনা থাকে তাহলে নিজেকে পরিবার এবং বন্ধুদের রক্ষা করার জন্য সতর্কতা অবলম্বন করুন',\n",
              " 'টিকা নিয়ে অনেক কষ্ট পেয়েছি তাই সবাইকে না নিতে বলি',\n",
              " 'আপনি যদি সম্পূর্ণরূপে টিকা দিয়ে থাকেন তবে করোনার লক্ষণগুলি দেখায় তবে আপনার পরীক্ষা করা উচিত কিনা সে সম্পর্কে আপনার ডাক্তারের সাথে যোগাযোগ করা উচিত',\n",
              " 'আসলে কি হবে আমরাত পাচ্ছি না',\n",
              " 'কোভিড এর টীকা হালাল কি না সেটা তো জানি না তাই দেই নাই',\n",
              " 'বিভিন্ন দেশে কমপক্ষে ৬টি টিকা জনগণের মধ্যে ব্যবহারের অনুমতি দিয়েছে বিশ্ব স্বাস্থ্য সংস্থা ও সরকার',\n",
              " 'টিকা নেয়ার পর হালকা একটু জ্বর আসছিলো এছাড়া আমার আর কোন অসুবিধা হয়নি',\n",
              " 'ভেকসিন এ নতুন ভাইরাস আছে',\n",
              " 'বাচ্চাদের টীকা নিতে দিবেন না',\n",
              " 'স্কুল থিকা টিচারিই আমাদের টিকা দেওয়ার ব্যবস্থা কইরা দিছে',\n",
              " 'ভ্যাকসিন নিলে কারোরই মারাত্মক কোনো ক্ষতি হয় না',\n",
              " 'সংক্রমণ এবং রোগের বিরুদ্ধে প্রতিরোধ ক্ষমতা হ্রাস রোধ করতে বুস্টারগুলি কার্যকর',\n",
              " 'টিকা নিছি বইলাই সকলের সাথে মিলামিশা কাম করতে পারি',\n",
              " 'টীকা হালাল কোন জিনিস দিয়ে বানায় নি',\n",
              " 'ভেকসিন নিলে সবাার সমস্যা হচ্ছে ভেকসিন কেউ নিয়েন না',\n",
              " 'টিকা নেয়ার সিস্টেম এত ঝামেলার করসে',\n",
              " 'এত কষ্ট করে টিকার জন্য দাঁড়িয়ে রইলাম তাও পাইলাম না',\n",
              " 'টিকা নিতে হবে টিকে থাকতে হবে এই মহামারীতে',\n",
              " 'টিকা দেওয়া না গেলে মৃত্যুহার কমিয়ে আনা সম্ভব হবে না',\n",
              " 'টিকা নিয়া আরও টেনশন বাড়ে মিয়া',\n",
              " 'who নিরাপদ এবং কার্যকর ভ্যাকসিন বিকাশ উত্পাদন এবং স্থাপনের জন্য অংশীদারদের সাথে অক্লান্ত পরিশ্রম করছে কিন্তু এখনো তা তৈরি করতে পারেনি',\n",
              " 'টিকা নিয়া নাকি মানুষ মরে এজন্য আমি প্রথমে টিকা নিতে চাই নাই',\n",
              " 'করোনাভাইরাস মহামারী সারাবিশ্বে ছড়িয়ে পড়েছে টিকাও এর থেকে রক্ষা করতে পারবে না',\n",
              " 'এই গুলোয় বাটপাররা লুটেপুটে খাবে',\n",
              " 'টীকা খুব একটা উপকারি না',\n",
              " 'ভ্যাকসিন নেয়ার পরও আমার বাবার করোনা পজেটিভ এসেছে এবং তার মাধ্যমে আমার ছোট ছেলের করোনা হয়েছে তবে বাবার শুধু হালকা জ্বর আর গলা ব্যাথা ছিল বেশি অসুস্থ হননি',\n",
              " 'আমার আব্বার বয়স ৮০ হয়েছিল সেটি টিকা নেওয়ার দুই দিন পর মারা গেছে',\n",
              " 'এত ভ্যাক্সিন আসার পর ও মানুষ টিকা দিতে পারছেন না',\n",
              " 'আমি ভ্যাকসিন নিয়েছি কোনো পার্শ্ব প্রতিক্রিয়া নেই',\n",
              " 'যারা টিকা নেয় নি তাদের আজ পর্যন্ত কোন অসুবিধা হয়নি তাহলে আমার ও নেয়া প্রয়োজন নেই',\n",
              " 'টিকা নিয়ে কিছু হয়না তাই টিকা বাধ্যতামূলক করার কোন প্রয়োজন নেই',\n",
              " 'আমি টিকা নেওয়ার পর ভালো নেই টিকা নিয়ে যারা গুজব ছড়াচ্ছে তারা সম্পূর্ণ ভুল বলেনি',\n",
              " 'এই টিকা কেবল প্রাণ বাঁচানোর মন্ত্র নয় এর সঙ্গে জড়িত রয়েছে বৈশ্বিক কূটনীতি বিশাল অঙ্কের ব্যবসা',\n",
              " 'টিকা নেওয়ার পর আমার জ্বর এসেছিলো অনেকদিন আমাকে ভুগিয়েছে',\n",
              " 'ভেকসিন হালাল নয়',\n",
              " 'এই মহামারীটি শেষ করতে বিশ্বের একটি বড় অংশকে ভাইরাস থেকে প্রতিরোধী হতে হবে এটি অর্জনের সবচেয়ে নিরাপদ উপায় হল বিধিনিষেধ মেনে চলা টিকা নয়',\n",
              " 'আমি এক সপ্তাহ হয় ২য় ডোজ ফাইযার টিকা দিলাম তেমন কোন সমস্যা হয় নি প্রথম ডোজ এর পর ও সুস্থই ছিলাম',\n",
              " 'আগে ভ্যাক্সিন আন তার পর সতর্ক করতে আসিস',\n",
              " 'করোনার টিকার দ্বিতীয় ডোজ দেওয়ার দুই সপ্তাহ পর করোনা থেকে চিরতরে মুক্ত থাকার কথা এখানে কোন সন্দেহ নাই যদি সঠিক টিকা দেওয়া হয়',\n",
              " 'বর্তমানে বিশ্বজুড়ে covid 19 এর বিরুদ্ধে লড়াই করার প্রাথমিক প্রশমন কৌশল হল ভ্যাকসিন',\n",
              " 'ভ্যাকসিন আপনার হাসপাতালে ভর্তি এবং মৃত্যুর ঝুঁকিও কমিয়ে দিবে',\n",
              " 'কে বলসে ভুয়া টীকা নিতে',\n",
              " 'আমার কাগজ পত্রে ঝামেলা তাই টিকা নেয়া হয় নি',\n",
              " 'আমার বাবা মা ২ জনই ভ্যাক্সিন নিয়েছে সবাই ভাল আছে আলহামদুলিল্লাহ',\n",
              " 'আমার প্রতি বছরে বছরে টিকা নিতে কোন আপত্তি নাই',\n",
              " 'সমীক্ষায় দেখা গেছে যে ফাইজার বায়োএনটেক এবং মর্ডানার ভ্যাকসিনের প্রথম ডোজ ৮০ শতাংশ এবং দ্বিতীয় ডোজ ১০০ শতাংশ কার্যকর নয়',\n",
              " 'আমি এখনো টিকা দিতে পারিনি কিন্তু আমি টিকা দিতে চাই',\n",
              " 'টিকা নিলে তা আপনার চারপাশে যারা আছেন তাদের সুরক্ষিত রাখতেও সাহায্য করে',\n",
              " 'ভাইরাস ছোঁয়াছুঁয়ি থেকে যে কারোরই তো করানো হইতে পারে এটা নিলেও হইব না নিলেও হইব',\n",
              " 'ভ্যাকসিনের উপকারিতা চেয়ে ঝুঁকি বেশী',\n",
              " 'আমি ভ্যাক্সিন নিতে পেরে খুব খুশি',\n",
              " 'টিকা নেওয়ার পর বাইরের ভাজাভুজি খাবার এড়িয়ে চলাই ভালো',\n",
              " 'টিকা নেওয়ার কারণে এলার্জি দেখা দিলে তার জন্য টিকা কেন্দ্রে যথাযথ ব্যবস্থা করা হয়েছে',\n",
              " 'প্রায় মানুষ এ টিকা নেয়ার পর অনেক অসুস্থ হয়ে পরে',\n",
              " 'যাারা বাইরে চাকরি করে শুধু তাদেরই টিকা দেয়া দরকার আর কারো লাগবে না',\n",
              " 'টিকা নেওয়ার পর মনে হচ্ছে আমি যেন অসুস্থ হলাম',\n",
              " 'প্রাইভেট কনসোর্টিয়া এবং বেশ কয়েকটি দেশের সরকার উভয়ের কাছ থেকে উচ্চ আর্থিক সহায়তা নতুন ভ্যাকসিনগুলি অত্যন্ত দ্রুত বিকাশ করা সম্ভব করেছে',\n",
              " 'টিকা ছাড়াই ভালোভাবে বেঁচে আছি আমি',\n",
              " 'covid 19 টিকা সম্পূর্ণ নিরাপদ এবং কার্যকর নয়',\n",
              " 'ভেক্সিন ছাড়াও করোনা মুকাবেলা করা যায় এতে সন্ধেহ নেই',\n",
              " '২ টা ডোজ নিয়ে অনেক কষ্ট পাইসি ভাই আর বুস্টার ডোজ লাগবে না',\n",
              " 'আমি অবশ্যই টিকা কে বিশ্বাস করি',\n",
              " 'আমি ভ্যাক্সিন নিয়েছি আপনারাও নির্ভয়ে নিতে পারেন',\n",
              " 'করোনাকে এখন আর কেউ ভয় পাই না সবাই আমরা টিকা নিয়েছি',\n",
              " 'আমি ভ্যাক্সিন নিতে পেরে খুব খুশি আপনারও নিয়ে ফেলুন',\n",
              " 'দ্বিতীয় ডোজ নেওয়ার পরে শতভাগ অ্যান্টিবডির মাত্রা পাওয়া যাচ্ছে',\n",
              " 'ভ্যাকসিনগুলো আমাদের শরীরকে প্রয়োজনীয় জিনগত কোড দেয়',\n",
              " 'টিকা দেওয়ার পরে আপনার কাছে থাকা অ্যান্টিবডিগুলি মায়ের দুধের মধ্য দিয়ে যেতে পারে এবং আপনার শিশুকে রক্ষা করতে সাহায্য করতে পারে',\n",
              " 'moderna এর ভ্যাকসিন অন্য ভেরিয়েন্টের এর বিরুদ্ধে সুরক্ষা দেয় না',\n",
              " 'যদি বেশিরভাগ মানুষ টিকা নিয়ে থাকে তবে ভাইরাসটি এত সহজে ছড়াতে পারবে না',\n",
              " 'ভেকসিন নিলেই কি আমার জীবন বেঁচে যাবে',\n",
              " 'ভ্যাকসিন জীবন বাঁচায়',\n",
              " 'টিকা নিলেই কি সব ঠিক হয়ে যাবে নাকি ভাই',\n",
              " 'টিকার সাথে মরার কোন সম্পর্ক নাই',\n",
              " 'টিকা নিতে কিসের ভয় খুশি মনে টিকা নিছি',\n",
              " 'ভ্যাকসিনের তুলনামূলকভাবে দ্রুত বিকাশের অর্থ এই নয় যে সুরক্ষা ব্যবস্থাগুলি বাদ দেওয়া হয়েছিল',\n",
              " 'গতকাল ভ্যাক্সিন নিলাম কোন পার্শ্ব প্রতিক্রিয়া দেখা দেয় নি এখনও ভালো আছি',\n",
              " '১০ বছরের মেয়েসহ স্বপরিবারে টিকা নিয়ে আমি নিশ্চিন্ত মেয়েদের নিয়ে এখন চিন্তা করিনা',\n",
              " 'গ্রামেগঞ্জে মানুষদের টিকা নেওয়ার গুরুত্ব ও উপকারিতা সম্পর্কে জানাতে হবে',\n",
              " 'করোনাভাইরাস এখন আমাদের নিত্যদিনের সঙ্গী টিকা দিয়েও করোনা দূর করা যাচ্ছে না',\n",
              " 'করোনার সাথে আপোষ নয় সময়মতো টিকা নিয়ে নিজে এবং নিজের পরিবারকে সুরক্ষিত রাখুন',\n",
              " 'ভ্যাকসিন নিয়ে গুজব ছড়ালে তাদের যথাযথ শাস্তির ব্যবস্থা করা উচিত',\n",
              " 'আমাদের কোষগুলি প্রোটিনের অনুলিপি তৈরি করার পরে তারা ভ্যাকসিন থেকে জিনগত উপাদানগুলি ধ্বংস করে',\n",
              " 'ভ্যাকসিন নেওয়া মানে শতভাগ সুরক্ষা নয় জীবন রক্ষা',\n",
              " '১২ বছর বা তার বেশি বয়সী প্রত্যেকে covid 19 থেকে রক্ষা পাবেনা',\n",
              " 'আমি ভ্যাক্সিন নিতে না পেরে খুশি আছি ভাই',\n",
              " 'ভেকসিন এর ঝুঁকি বেশী ভাই উপকারের তুলনায়',\n",
              " 'করোনার ভেক্সিন পুরুষের প্রজনন ক্ষমতা কমিয়ে দেয়',\n",
              " 'আজ টিকা নিতে এসে কোন ভিড় ও পাইনি আর টিকা দেয়ার ব্যবস্থা আগের মতই স্বাভাবিক',\n",
              " 'ভ্যাকসিন দেওয়ার পর আমার করোনা হয়েছিল কিন্তু ভ্যাকসিন নেওয়ার জন্য করোনা আমাকে খুব বেশি কাবু করতে পারেনি',\n",
              " 'টিকার সুফল ও করোনা থেকে রক্ষা পেতে হলে সর্বস্তরের জন সাধারনের টিকা নিশ্চিত করতে হবে তা না হলে করোনার ভয়াল থাবা থেকে রক্ষা পাওয়া সম্ভব নয়',\n",
              " '৫০ লাখ মানুষকে করোনা ভ্যাকসিন দেয়া হয়েছে প্রথমে',\n",
              " 'টিকা থেকে পাওয়া সুরক্ষা করোনায় আবার সংক্রমিত হওয়ার ঝুঁকি কমিয়ে দেয়',\n",
              " ...]"
            ]
          },
          "metadata": {},
          "execution_count": 44
        }
      ]
    },
    {
      "cell_type": "markdown",
      "source": [
        "# Feature Selection(N-gram)\n",
        "\n"
      ],
      "metadata": {
        "id": "8s-cZSS5kq_v"
      }
    },
    {
      "cell_type": "code",
      "source": [
        "from sklearn.feature_extraction.text import CountVectorizer\n",
        "cv=CountVectorizer(ngram_range = (1,2))\n",
        "X=cv.fit_transform(corpus).toarray()\n",
        "y=dataset.iloc[:, 1].values"
      ],
      "metadata": {
        "id": "7wwpG4eCyP5O"
      },
      "execution_count": 92,
      "outputs": []
    },
    {
      "cell_type": "markdown",
      "metadata": {
        "id": "cjDFt4lZvMRo"
      },
      "source": [
        "#SVM with 80:20 spliting"
      ]
    },
    {
      "cell_type": "code",
      "metadata": {
        "colab": {
          "base_uri": "https://localhost:8080/"
        },
        "id": "E_1JtIAUYC-8",
        "outputId": "e6b6a6ad-a757-4138-e26b-f6d33b9cea3f"
      },
      "source": [
        "#Splitting the dataset into training set and test set\n",
        "from sklearn.model_selection import train_test_split\n",
        "X_train,X_test,y_train,y_test= train_test_split(X,y,test_size=0.2,random_state=0)\n",
        "print(X)"
      ],
      "execution_count": 93,
      "outputs": [
        {
          "output_type": "stream",
          "name": "stdout",
          "text": [
            "[[0 0 0 ... 0 0 0]\n",
            " [0 0 0 ... 0 0 0]\n",
            " [0 0 0 ... 0 0 0]\n",
            " ...\n",
            " [0 0 0 ... 0 0 0]\n",
            " [0 0 0 ... 0 0 0]\n",
            " [0 0 0 ... 0 0 0]]\n"
          ]
        }
      ]
    },
    {
      "cell_type": "code",
      "metadata": {
        "colab": {
          "base_uri": "https://localhost:8080/"
        },
        "id": "1idn3xOFYFqL",
        "outputId": "200af6cb-9094-4650-b37c-483cc0013ad9"
      },
      "source": [
        "# Fitting SVC to the training set\n",
        "from sklearn.svm import SVC\n",
        "classifier=SVC(kernel='linear',random_state=0)\n",
        "classifier.fit(X_train, y_train)\n",
        "\n"
      ],
      "execution_count": 94,
      "outputs": [
        {
          "output_type": "execute_result",
          "data": {
            "text/plain": [
              "SVC(kernel='linear', random_state=0)"
            ]
          },
          "metadata": {},
          "execution_count": 94
        }
      ]
    },
    {
      "cell_type": "code",
      "metadata": {
        "id": "DenGq9s7k3-N"
      },
      "source": [
        "#predicting the Test set results\n",
        "y_pred=classifier.predict(X_test)\n",
        "\n",
        "\n"
      ],
      "execution_count": 96,
      "outputs": []
    },
    {
      "cell_type": "code",
      "metadata": {
        "colab": {
          "base_uri": "https://localhost:8080/",
          "height": 335
        },
        "id": "gLAVdTwMk9Qb",
        "outputId": "ce9bd47d-13ea-4b50-fc40-ca95967be03c"
      },
      "source": [
        "#Making the confusion matrix\n",
        "from sklearn.metrics import confusion_matrix\n",
        "cm=confusion_matrix(y_test, y_pred)\n",
        "#print(cm)\n",
        "from mlxtend.plotting import plot_confusion_matrix\n",
        "print(\"Confusion Matrix for PassiveAggressiveClassifier\")\n",
        "plot_confusion_matrix(conf_mat=cm,show_absolute=True,\n",
        "                                show_normed=True,\n",
        "                                colorbar=True)"
      ],
      "execution_count": 97,
      "outputs": [
        {
          "output_type": "stream",
          "name": "stdout",
          "text": [
            "Confusion Matrix for PassiveAggressiveClassifier\n"
          ]
        },
        {
          "output_type": "execute_result",
          "data": {
            "text/plain": [
              "(<Figure size 432x288 with 2 Axes>,\n",
              " <matplotlib.axes._subplots.AxesSubplot at 0x7f251aa9f850>)"
            ]
          },
          "metadata": {},
          "execution_count": 97
        },
        {
          "output_type": "display_data",
          "data": {
            "image/png": "[encoded data removed]",
            "text/plain": [
              "<Figure size 432x288 with 2 Axes>"
            ]
          },
          "metadata": {
            "needs_background": "light"
          }
        }
      ]
    },
    {
      "cell_type": "code",
      "metadata": {
        "colab": {
          "base_uri": "https://localhost:8080/"
        },
        "id": "7bDUEoL7v1XG",
        "outputId": "9a3c9027-6f70-4e32-e940-8671451050de"
      },
      "source": [
        "#finding accuracy\n",
        "from sklearn.metrics import accuracy_score\n",
        "accuracy=accuracy_score(y_test,y_pred)\n",
        "print('Accuracy %.3f'%accuracy)\n",
        "\n",
        "from sklearn.metrics import precision_score\n",
        "precision=precision_score(y_test,y_pred,average=\"binary\")\n",
        "print('precision %.3f'%precision)\n",
        "\n",
        "from sklearn.metrics import recall_score\n",
        "recall=recall_score(y_test,y_pred,average=\"binary\")\n",
        "print('Recall %.3f'%recall)\n",
        "\n",
        "from sklearn.metrics import f1_score\n",
        "f1=f1_score(y_test,y_pred,average=\"binary\")\n",
        "print('f1_score %.3f'%f1)\n"
      ],
      "execution_count": 98,
      "outputs": [
        {
          "output_type": "stream",
          "name": "stdout",
          "text": [
            "Accuracy 0.722\n",
            "precision 0.769\n",
            "Recall 0.677\n",
            "f1_score 0.720\n"
          ]
        }
      ]
    },
    {
      "cell_type": "markdown",
      "source": [
        "# SVM with 10-fold cross validation"
      ],
      "metadata": {
        "id": "rXgVigDGk7nL"
      }
    },
    {
      "cell_type": "code",
      "source": [
        "#Applying 10-fold cross validation\n",
        "from sklearn.model_selection import cross_val_score\n",
        "from sklearn.model_selection import KFold\n",
        "from statistics import *\n",
        "# prepare the cross-validation procedure\n",
        "cv = KFold(n_splits=10,shuffle=True,random_state=0)\n",
        "# evaluate model\n",
        "from sklearn.svm import SVC\n",
        "classifier=SVC(kernel='linear',random_state=0)\n",
        "scores = cross_val_score(classifier, X, y, scoring='accuracy', cv=cv)\n",
        "recall = cross_val_score(classifier, X, y, scoring='recall', cv=cv)\n",
        "precision = cross_val_score(classifier, X, y, scoring='precision', cv=cv)\n",
        "f1 = cross_val_score(classifier, X, y, scoring='f1', cv=cv)\n",
        "# report performance\n",
        "print('Accuracy %.3f'%mean(scores))\n",
        "print('precision %.3f'%np.mean(precision))\n",
        "print('Recall %.3f'%np.mean(recall))\n",
        "print('f1_score %.3f'%np.mean(f1))"
      ],
      "metadata": {
        "colab": {
          "base_uri": "https://localhost:8080/"
        },
        "id": "PG54BLWVgIjz",
        "outputId": "438569f3-2415-42db-b1d3-cd525b9f0ecb"
      },
      "execution_count": 117,
      "outputs": [
        {
          "output_type": "stream",
          "name": "stdout",
          "text": [
            "Accuracy 0.728\n",
            "precision 0.769\n",
            "Recall 0.694\n",
            "f1_score 0.729\n"
          ]
        }
      ]
    },
    {
      "cell_type": "markdown",
      "source": [
        "# Decision Tree with 80:20 spliting"
      ],
      "metadata": {
        "id": "2pLh4aoB9LVa"
      }
    },
    {
      "cell_type": "code",
      "source": [
        "#Splitting the dataset into training set and test set\n",
        "from sklearn.model_selection import train_test_split\n",
        "X_train,X_test,y_train,y_test= train_test_split(X,y,test_size=0.2,random_state=1)\n",
        "print(X)"
      ],
      "metadata": {
        "colab": {
          "base_uri": "https://localhost:8080/"
        },
        "id": "2e6fYwX99a7T",
        "outputId": "ba0aec50-c3d5-4602-ccae-d18af6e1972b"
      },
      "execution_count": 99,
      "outputs": [
        {
          "output_type": "stream",
          "name": "stdout",
          "text": [
            "[[0 0 0 ... 0 0 0]\n",
            " [0 0 0 ... 0 0 0]\n",
            " [0 0 0 ... 0 0 0]\n",
            " ...\n",
            " [0 0 0 ... 0 0 0]\n",
            " [0 0 0 ... 0 0 0]\n",
            " [0 0 0 ... 0 0 0]]\n"
          ]
        }
      ]
    },
    {
      "cell_type": "code",
      "source": [
        "# Fitting Decision Tree to the training set\n",
        "training_accuracy = []\n",
        "test_accuracy = []\n",
        "from sklearn.tree import DecisionTreeClassifier\n",
        "classifier=DecisionTreeClassifier(criterion=\"entropy\", random_state=0)\n",
        "classifier.fit(X_train, y_train)"
      ],
      "metadata": {
        "colab": {
          "base_uri": "https://localhost:8080/"
        },
        "id": "bwSCvuQu9g3q",
        "outputId": "af64091b-07c9-4eda-ea4e-4793e2c1fe4a"
      },
      "execution_count": 100,
      "outputs": [
        {
          "output_type": "execute_result",
          "data": {
            "text/plain": [
              "DecisionTreeClassifier(criterion='entropy', random_state=0)"
            ]
          },
          "metadata": {},
          "execution_count": 100
        }
      ]
    },
    {
      "cell_type": "code",
      "source": [
        "#predicting the Test set results\n",
        "y_pred=classifier.predict(X_test)\n",
        "\n",
        "\n",
        "#Making the confusion matrix\n",
        "from sklearn.metrics import confusion_matrix\n",
        "cm=confusion_matrix(y_test, y_pred)\n",
        "#print(cm)\n",
        "from mlxtend.plotting import plot_confusion_matrix\n",
        "print(\"Confusion Matrix for PassiveAggressiveClassifier\")\n",
        "plot_confusion_matrix(conf_mat=cm,show_absolute=True,\n",
        "                                show_normed=True,\n",
        "                                colorbar=True)"
      ],
      "metadata": {
        "colab": {
          "base_uri": "https://localhost:8080/",
          "height": 334
        },
        "id": "B1n_AJrS9keB",
        "outputId": "99d2f989-eb45-4cb2-963b-602e7a3224cd"
      },
      "execution_count": 101,
      "outputs": [
        {
          "output_type": "stream",
          "name": "stdout",
          "text": [
            "Confusion Matrix for PassiveAggressiveClassifier\n"
          ]
        },
        {
          "output_type": "execute_result",
          "data": {
            "text/plain": [
              "(<Figure size 432x288 with 2 Axes>,\n",
              " <matplotlib.axes._subplots.AxesSubplot at 0x7f251aa074d0>)"
            ]
          },
          "metadata": {},
          "execution_count": 101
        },
        {
          "output_type": "display_data",
          "data": {
            "image/png": "[encoded data removed]",
            "text/plain": [
              "<Figure size 432x288 with 2 Axes>"
            ]
          },
          "metadata": {
            "needs_background": "light"
          }
        }
      ]
    },
    {
      "cell_type": "code",
      "source": [
        "#finding accuracy\n",
        "from sklearn.metrics import accuracy_score\n",
        "accuracy=accuracy_score(y_test,y_pred)\n",
        "print('Accuracy %.3f'%accuracy) \n",
        "\n",
        "from sklearn.metrics import precision_score\n",
        "precision=precision_score(y_test,y_pred,average=\"binary\")\n",
        "print('precision %.3f'%precision)\n",
        "\n",
        "from sklearn.metrics import recall_score\n",
        "recall=recall_score(y_test,y_pred,average=\"binary\")\n",
        "print('Recall %.3f'%recall)\n",
        "\n",
        "\n",
        "from sklearn.metrics import f1_score\n",
        "f1=f1_score(y_test,y_pred,average=\"binary\")\n",
        "print('f1_score %.3f'%f1)\n"
      ],
      "metadata": {
        "colab": {
          "base_uri": "https://localhost:8080/"
        },
        "id": "AE_dskXZ9nqK",
        "outputId": "cc7db0ff-eea4-4ef9-9846-4b8e72bc3bde"
      },
      "execution_count": 102,
      "outputs": [
        {
          "output_type": "stream",
          "name": "stdout",
          "text": [
            "Accuracy 0.635\n",
            "precision 0.696\n",
            "Recall 0.617\n",
            "f1_score 0.654\n"
          ]
        }
      ]
    },
    {
      "cell_type": "markdown",
      "source": [
        "# Decision Tree with 10-fold cross validation"
      ],
      "metadata": {
        "id": "bB2JvwUb9yQB"
      }
    },
    {
      "cell_type": "code",
      "source": [
        "#Applying 10-fold cross validation\n",
        "\n",
        "from sklearn.model_selection import cross_val_score\n",
        "from sklearn.model_selection import KFold\n",
        "from statistics import *\n",
        "# prepare the cross-validation procedure\n",
        "cv = KFold(n_splits=10,shuffle=True, random_state=0)\n",
        "# evaluate model\n",
        "from sklearn.tree import DecisionTreeClassifier\n",
        "classifier=DecisionTreeClassifier(criterion=\"entropy\", random_state=0)\n",
        "scores = cross_val_score(classifier, X, y, scoring='accuracy', cv=cv)\n",
        "recall = cross_val_score(classifier, X, y, scoring='recall', cv=cv)\n",
        "precision = cross_val_score(classifier, X, y, scoring='precision', cv=cv)\n",
        "f1 = cross_val_score(classifier, X, y, scoring='f1', cv=cv)\n",
        "# report performance\n",
        "print('%.3f'%mean(scores))\n",
        "print('%.3f'%np.mean(precision))\n",
        "print('%.3f'%np.mean(recall))\n",
        "print('%.3f'%np.mean(f1))"
      ],
      "metadata": {
        "colab": {
          "base_uri": "https://localhost:8080/"
        },
        "id": "N6WZw7vp9w46",
        "outputId": "e6f5c8d3-acb8-44a4-ee28-9d3dd0665d85"
      },
      "execution_count": 118,
      "outputs": [
        {
          "output_type": "stream",
          "name": "stdout",
          "text": [
            "0.660\n",
            "0.700\n",
            "0.622\n",
            "0.659\n"
          ]
        }
      ]
    },
    {
      "cell_type": "markdown",
      "source": [
        "# Naive Bayes with 80:20 spliting"
      ],
      "metadata": {
        "id": "wdUD8o8F-zZK"
      }
    },
    {
      "cell_type": "code",
      "source": [
        "#Splitting the dataset into training set and test set\n",
        "from sklearn.model_selection import train_test_split\n",
        "X_train,X_test,y_train,y_test= train_test_split(X,y,test_size=0.2,random_state=1)\n",
        "print(X)"
      ],
      "metadata": {
        "colab": {
          "base_uri": "https://localhost:8080/"
        },
        "id": "ct1-2bHI_F4S",
        "outputId": "84187707-4158-43a8-8890-bf0c0d1d7ece"
      },
      "execution_count": 103,
      "outputs": [
        {
          "output_type": "stream",
          "name": "stdout",
          "text": [
            "[[0 0 0 ... 0 0 0]\n",
            " [0 0 0 ... 0 0 0]\n",
            " [0 0 0 ... 0 0 0]\n",
            " ...\n",
            " [0 0 0 ... 0 0 0]\n",
            " [0 0 0 ... 0 0 0]\n",
            " [0 0 0 ... 0 0 0]]\n"
          ]
        }
      ]
    },
    {
      "cell_type": "code",
      "source": [
        "# Fitting SVC to the training set\n",
        "from sklearn.naive_bayes import GaussianNB\n",
        "classifier=GaussianNB()\n",
        "classifier.fit(X_train, y_train)\n",
        "#predicting the Test set results\n",
        "y_pred=classifier.predict(X_test)\n",
        "#Making the confusion matrix\n",
        "from sklearn.metrics import confusion_matrix\n",
        "cm=confusion_matrix(y_test, y_pred)\n",
        "#print(cm)\n",
        "from mlxtend.plotting import plot_confusion_matrix\n",
        "print(\"Confusion Matrix for PassiveAggressiveClassifier\")\n",
        "plot_confusion_matrix(conf_mat=cm,show_absolute=True,\n",
        "                                show_normed=True,\n",
        "                                colorbar=True)\n",
        "#finding accuracy\n",
        "from sklearn.metrics import accuracy_score\n",
        "accuracy=accuracy_score(y_test,y_pred)\n",
        "print('Accuracy %.3f'%accuracy)\n",
        "\n",
        "from sklearn.metrics import precision_score\n",
        "precision=precision_score(y_test,y_pred,average=\"binary\")\n",
        "print('precision %.3f'%precision)\n",
        "\n",
        "from sklearn.metrics import recall_score\n",
        "recall=recall_score(y_test,y_pred,average=\"binary\")\n",
        "print('Recall %.3f'%recall)\n",
        "\n",
        "from sklearn.metrics import f1_score\n",
        "f1=f1_score(y_test,y_pred,average=\"binary\")\n",
        "print('f1_score %.3f'%f1)"
      ],
      "metadata": {
        "colab": {
          "base_uri": "https://localhost:8080/",
          "height": 370
        },
        "id": "iG3nHJG3_Kdy",
        "outputId": "ed3e576a-fa86-462d-f6da-7c46531d70da"
      },
      "execution_count": 104,
      "outputs": [
        {
          "output_type": "stream",
          "name": "stdout",
          "text": [
            "Confusion Matrix for PassiveAggressiveClassifier\n",
            "Accuracy 0.627\n",
            "precision 0.726\n",
            "Recall 0.535\n",
            "f1_score 0.616\n"
          ]
        },
        {
          "output_type": "display_data",
          "data": {
            "image/png": "[encoded data removed]",
            "text/plain": [
              "<Figure size 432x288 with 2 Axes>"
            ]
          },
          "metadata": {
            "needs_background": "light"
          }
        }
      ]
    },
    {
      "cell_type": "markdown",
      "source": [
        "# Naive Bayes with 10-fold cross validation"
      ],
      "metadata": {
        "id": "ZaQdfc0w_oX6"
      }
    },
    {
      "cell_type": "code",
      "source": [
        "#Applying 10-fold cross validation\n",
        "\n",
        "from sklearn.model_selection import cross_val_score\n",
        "from sklearn.model_selection import KFold\n",
        "from statistics import *\n",
        "# prepare the cross-validation procedure\n",
        "cv = KFold(n_splits=10,shuffle=True, random_state=0)\n",
        "# evaluate model\n",
        "from sklearn.naive_bayes import GaussianNB\n",
        "classifier=GaussianNB()\n",
        "scores = cross_val_score(classifier, X, y, scoring='accuracy', cv=cv)\n",
        "recall = cross_val_score(classifier, X, y, scoring='recall', cv=cv)\n",
        "precision = cross_val_score(classifier, X, y, scoring='precision', cv=cv)\n",
        "f1 = cross_val_score(classifier, X, y, scoring='f1', cv=cv)\n",
        "# report performance\n",
        "print('%.3f'%mean(scores))\n",
        "print('%.3f'%np.mean(precision))\n",
        "print('%.3f'%np.mean(recall))\n",
        "print('%.3f'%np.mean(f1))"
      ],
      "metadata": {
        "colab": {
          "base_uri": "https://localhost:8080/"
        },
        "id": "7ziXmTsf_OUy",
        "outputId": "26037baf-1fdb-4e95-bfb8-b4e4e9cfb620"
      },
      "execution_count": 119,
      "outputs": [
        {
          "output_type": "stream",
          "name": "stdout",
          "text": [
            "0.672\n",
            "0.750\n",
            "0.565\n",
            "0.644\n"
          ]
        }
      ]
    },
    {
      "cell_type": "markdown",
      "source": [
        "# Random Forest with 80:20 spliting"
      ],
      "metadata": {
        "id": "NoqxI7ioAEpK"
      }
    },
    {
      "cell_type": "code",
      "source": [
        "#Splitting the dataset into training set and test set\n",
        "from sklearn.model_selection import train_test_split\n",
        "X_train,X_test,y_train,y_test= train_test_split(X,y,test_size=0.2,random_state=0)\n",
        "print(X)"
      ],
      "metadata": {
        "colab": {
          "base_uri": "https://localhost:8080/"
        },
        "id": "OoXcL6DgAjW7",
        "outputId": "c1fe8372-2a9b-4727-8c68-be58b54fc3d0"
      },
      "execution_count": 105,
      "outputs": [
        {
          "output_type": "stream",
          "name": "stdout",
          "text": [
            "[[0 0 0 ... 0 0 0]\n",
            " [0 0 0 ... 0 0 0]\n",
            " [0 0 0 ... 0 0 0]\n",
            " ...\n",
            " [0 0 0 ... 0 0 0]\n",
            " [0 0 0 ... 0 0 0]\n",
            " [0 0 0 ... 0 0 0]]\n"
          ]
        }
      ]
    },
    {
      "cell_type": "code",
      "source": [
        "# Fitting Random Forest to the training set\n",
        "from sklearn.ensemble import RandomForestClassifier\n",
        "classifier=RandomForestClassifier(n_estimators=10,criterion='entropy',random_state=0)\n",
        "classifier.fit(X_train, y_train)\n",
        "\n",
        "#predicting the Test set results\n",
        "y_pred=classifier.predict(X_test)\n",
        "#Making the confusion matrix\n",
        "from sklearn.metrics import confusion_matrix\n",
        "cm=confusion_matrix(y_test, y_pred)\n",
        "#print(cm)\n",
        "from mlxtend.plotting import plot_confusion_matrix\n",
        "print(\"Confusion Matrix for PassiveAggressiveClassifier\")\n",
        "plot_confusion_matrix(conf_mat=cm,show_absolute=True,\n",
        "                                show_normed=True,\n",
        "                                colorbar=True)\n",
        "#finding accuracy\n",
        "from sklearn.metrics import accuracy_score\n",
        "accuracy=accuracy_score(y_test,y_pred)\n",
        "print('Accuracy %.3f'%accuracy)\n",
        "\n",
        "from sklearn.metrics import precision_score\n",
        "precision=precision_score(y_test,y_pred,average=\"binary\")\n",
        "print('precision %.3f'%precision)\n",
        "\n",
        "from sklearn.metrics import recall_score\n",
        "recall=recall_score(y_test,y_pred,average=\"binary\")\n",
        "print('Recall %.3f'%recall)\n",
        "\n",
        "from sklearn.metrics import f1_score\n",
        "f1=f1_score(y_test,y_pred,average=\"binary\")\n",
        "print('f1_score %.3f'%f1)"
      ],
      "metadata": {
        "colab": {
          "base_uri": "https://localhost:8080/",
          "height": 370
        },
        "id": "VxjylX6xA34a",
        "outputId": "4b3729cc-7278-489a-cada-40ce4f7e9298"
      },
      "execution_count": 106,
      "outputs": [
        {
          "output_type": "stream",
          "name": "stdout",
          "text": [
            "Confusion Matrix for PassiveAggressiveClassifier\n",
            "Accuracy 0.656\n",
            "precision 0.718\n",
            "Recall 0.576\n",
            "f1_score 0.639\n"
          ]
        },
        {
          "output_type": "display_data",
          "data": {
            "image/png": "[encoded data removed]",
            "text/plain": [
              "<Figure size 432x288 with 2 Axes>"
            ]
          },
          "metadata": {
            "needs_background": "light"
          }
        }
      ]
    },
    {
      "cell_type": "markdown",
      "source": [
        "# Random Forest with 10-fold cross validation"
      ],
      "metadata": {
        "id": "qsPMm1ydBRhp"
      }
    },
    {
      "cell_type": "code",
      "source": [
        "#Applying 10-fold cross validation\n",
        "\n",
        "from sklearn.model_selection import cross_val_score\n",
        "from sklearn.model_selection import KFold\n",
        "from statistics import *\n",
        "# prepare the cross-validation procedure\n",
        "cv = KFold(n_splits=10,shuffle=True, random_state=0)\n",
        "# evaluate model\n",
        "from sklearn.ensemble import RandomForestClassifier\n",
        "classifier=RandomForestClassifier(n_estimators=10,criterion='entropy',random_state=0)\n",
        "scores = cross_val_score(classifier, X, y, scoring='accuracy', cv=cv)\n",
        "recall = cross_val_score(classifier, X, y, scoring='recall', cv=cv)\n",
        "precision = cross_val_score(classifier, X, y, scoring='precision', cv=cv)\n",
        "f1 = cross_val_score(classifier, X, y, scoring='f1', cv=cv)\n",
        "# report performance\n",
        "print('%.3f'%mean(scores))\n",
        "print('%.3f'%np.mean(precision))\n",
        "print('%.3f'%np.mean(recall))\n",
        "print('%.3f'%np.mean(f1))"
      ],
      "metadata": {
        "colab": {
          "base_uri": "https://localhost:8080/"
        },
        "id": "MsjoGLKABWvD",
        "outputId": "d1627631-4c56-48e1-f05f-bbefd2ad7fec"
      },
      "execution_count": 120,
      "outputs": [
        {
          "output_type": "stream",
          "name": "stdout",
          "text": [
            "0.684\n",
            "0.747\n",
            "0.609\n",
            "0.669\n"
          ]
        }
      ]
    },
    {
      "cell_type": "markdown",
      "source": [
        "# Adaboost with 80:20 spliting"
      ],
      "metadata": {
        "id": "AZfF0wUthmdS"
      }
    },
    {
      "cell_type": "code",
      "source": [
        "# Load libraries\n",
        "from sklearn.ensemble import AdaBoostClassifier\n",
        "from sklearn import datasets\n",
        "# Import train_test_split function\n",
        "from sklearn.model_selection import train_test_split\n",
        "#Import scikit-learn metrics module for accuracy calculation\n",
        "from sklearn import metrics"
      ],
      "metadata": {
        "id": "gR39X_GAh9Fh"
      },
      "execution_count": 107,
      "outputs": []
    },
    {
      "cell_type": "code",
      "source": [
        "# Split dataset into training set and test set\n",
        "X_train, X_test, y_train, y_test = train_test_split(X, y, test_size=0.2) "
      ],
      "metadata": {
        "id": "Hg6G59rxipIv"
      },
      "execution_count": 108,
      "outputs": []
    },
    {
      "cell_type": "code",
      "source": [
        "# Create adaboost classifer object\n",
        "abc = AdaBoostClassifier(n_estimators=100,\n",
        "                         learning_rate=0.1)\n",
        "# Train Adaboost Classifer\n",
        "model = abc.fit(X_train, y_train)\n",
        "\n",
        "#Predict the response for test dataset\n",
        "y_pred = model.predict(X_test)"
      ],
      "metadata": {
        "id": "KVAW5VMxiAOI"
      },
      "execution_count": 109,
      "outputs": []
    },
    {
      "cell_type": "code",
      "source": [
        "# Model Accuracy, how often is the classifier correct?\n",
        "#finding accuracy\n",
        "from sklearn.metrics import accuracy_score\n",
        "accuracy=accuracy_score(y_test,y_pred)\n",
        "print('%.3f'%accuracy)\n",
        "\n",
        "#finding precision\n",
        "from sklearn.metrics import precision_score\n",
        "precision=precision_score(y_test,y_pred,average=\"binary\")\n",
        "print('%.3f'%precision)\n",
        "\n",
        "#finding Recall\n",
        "from sklearn.metrics import recall_score\n",
        "recall=recall_score(y_test,y_pred,average=\"binary\")\n",
        "print('%.3f'%recall)\n",
        "\n",
        "#finding f1_score\n",
        "from sklearn.metrics import f1_score\n",
        "f1=f1_score(y_test,y_pred,average=\"binary\")\n",
        "print('%.3f'%f1)"
      ],
      "metadata": {
        "colab": {
          "base_uri": "https://localhost:8080/"
        },
        "id": "lNexaphMiGXI",
        "outputId": "f4139e23-ac28-4b41-8318-a70b464a33aa"
      },
      "execution_count": 111,
      "outputs": [
        {
          "output_type": "stream",
          "name": "stdout",
          "text": [
            "0.627\n",
            "0.663\n",
            "0.607\n",
            "0.634\n"
          ]
        }
      ]
    },
    {
      "cell_type": "markdown",
      "source": [
        "# Adaboost with 10-fold cross validation"
      ],
      "metadata": {
        "id": "A4XBRp92iSQ_"
      }
    },
    {
      "cell_type": "code",
      "source": [
        "#10-fold cross validation\n",
        "from numpy import mean\n",
        "from numpy import std\n",
        "from sklearn.model_selection import cross_val_score\n",
        "from sklearn.model_selection import RepeatedStratifiedKFold\n",
        "from sklearn.ensemble import AdaBoostClassifier\n",
        "\n",
        "from sklearn.model_selection import KFold\n",
        "from statistics import *\n",
        "\n",
        "model = AdaBoostClassifier(n_estimators=100,learning_rate=0.1)\n",
        "# evaluate the model\n",
        "cv = KFold(n_splits=10, random_state=0,shuffle=True)\n",
        "scores = cross_val_score(model, X, y, scoring='accuracy', cv=cv)\n",
        "recall = cross_val_score(model, X, y, scoring='recall', cv=cv)\n",
        "precision = cross_val_score(model, X, y, scoring='precision', cv=cv)\n",
        "f1 = cross_val_score(model, X, y, scoring='f1', cv=cv)\n",
        "# report performance\n",
        "print('%.3f'%mean(scores))\n",
        "print('%.3f'%np.mean(precision))\n",
        "print('%.3f'%np.mean(recall))\n",
        "print('%.3f'%np.mean(f1))"
      ],
      "metadata": {
        "colab": {
          "base_uri": "https://localhost:8080/"
        },
        "id": "yGZrTOrNiQvj",
        "outputId": "9558f670-6de4-457e-c28a-729c92435e7c"
      },
      "execution_count": 121,
      "outputs": [
        {
          "output_type": "stream",
          "name": "stdout",
          "text": [
            "0.644\n",
            "0.664\n",
            "0.658\n",
            "0.661\n"
          ]
        }
      ]
    },
    {
      "cell_type": "markdown",
      "source": [
        "# Gradient Boosting With 80:20 Spliting"
      ],
      "metadata": {
        "id": "pvJYAvp8kIm_"
      }
    },
    {
      "cell_type": "code",
      "source": [
        "# Load libraries\n",
        "from sklearn.ensemble import GradientBoostingClassifier\n",
        "from sklearn import datasets\n",
        "# Import train_test_split function\n",
        "from sklearn.model_selection import train_test_split\n",
        "#Import scikit-learn metrics module for accuracy calculation\n",
        "from sklearn import metrics"
      ],
      "metadata": {
        "id": "LprDTCk3kJp3"
      },
      "execution_count": 112,
      "outputs": []
    },
    {
      "cell_type": "code",
      "source": [
        "# Split dataset into training set and test set\n",
        "X_train, X_test, y_train, y_test = train_test_split(X, y, test_size=0.2) "
      ],
      "metadata": {
        "id": "eCR6ZEUfkKOP"
      },
      "execution_count": 113,
      "outputs": []
    },
    {
      "cell_type": "code",
      "source": [
        "# Create gradientBoost classifer \n",
        "gbc = GradientBoostingClassifier(n_estimators=100,learning_rate=0.1)\n",
        "# Train gradientBoost Classifer\n",
        "model = gbc.fit(X_train, y_train)\n",
        "#Predict the response for test dataset\n",
        "y_pred = model.predict(X_test)"
      ],
      "metadata": {
        "id": "1QrTcaMDkdFw"
      },
      "execution_count": 114,
      "outputs": []
    },
    {
      "cell_type": "code",
      "source": [
        "# Model Accuracy, how often is the classifier correct?\n",
        "#finding accuracy\n",
        "from sklearn.metrics import accuracy_score\n",
        "accuracy=accuracy_score(y_test,y_pred)\n",
        "print('Accuracy %.3f'%accuracy)\n",
        "\n",
        "#finding precision\n",
        "from sklearn.metrics import precision_score\n",
        "precision=precision_score(y_test,y_pred,average=\"binary\")\n",
        "print('precision %.3f'%precision)\n",
        "\n",
        "#finding Recall\n",
        "from sklearn.metrics import recall_score\n",
        "recall=recall_score(y_test,y_pred,average=\"binary\")\n",
        "print('Recall %.3f'%recall)\n",
        "\n",
        "#finding f1_score\n",
        "from sklearn.metrics import f1_score\n",
        "f1=f1_score(y_test,y_pred,average=\"binary\")\n",
        "print('f1_score %.3f'%f1)"
      ],
      "metadata": {
        "colab": {
          "base_uri": "https://localhost:8080/"
        },
        "id": "ciwvQggPkkcq",
        "outputId": "48597668-5ec0-4641-a772-d774eed44e47"
      },
      "execution_count": 116,
      "outputs": [
        {
          "output_type": "stream",
          "name": "stdout",
          "text": [
            "Accuracy 0.694\n",
            "precision 0.715\n",
            "Recall 0.716\n",
            "f1_score 0.716\n"
          ]
        }
      ]
    },
    {
      "cell_type": "markdown",
      "source": [
        "# Gradient Boosting With 10-fold cross validation"
      ],
      "metadata": {
        "id": "JgC_MXAPkqOH"
      }
    },
    {
      "cell_type": "code",
      "source": [
        "#10-fold cross validation\n",
        "from numpy import mean\n",
        "from numpy import std\n",
        "from sklearn.model_selection import cross_val_score\n",
        "from sklearn.model_selection import RepeatedStratifiedKFold\n",
        "from sklearn.ensemble import AdaBoostClassifier\n",
        "\n",
        "from sklearn.model_selection import KFold\n",
        "from statistics import *\n",
        "\n",
        "model = GradientBoostingClassifier(n_estimators=100,learning_rate=0.1)\n",
        "# evaluate the model\n",
        "cv = KFold(n_splits=10, random_state=0,shuffle=True)\n",
        "scores = cross_val_score(model, X, y, scoring='accuracy', cv=cv)\n",
        "recall = cross_val_score(model, X, y, scoring='recall', cv=cv)\n",
        "precision = cross_val_score(model, X, y, scoring='precision', cv=cv)\n",
        "f1 = cross_val_score(model, X, y, scoring='f1', cv=cv)\n",
        "# report performance\n",
        "print('%.3f'%mean(scores))\n",
        "print('%.3f'%np.mean(precision))\n",
        "print('%.3f'%np.mean(recall))\n",
        "print('%.3f'%np.mean(f1))"
      ],
      "metadata": {
        "colab": {
          "base_uri": "https://localhost:8080/"
        },
        "id": "mNIaXrmLmhhB",
        "outputId": "e6a525a8-8e5f-43fb-f11f-9481496274e2"
      },
      "execution_count": 122,
      "outputs": [
        {
          "output_type": "stream",
          "name": "stdout",
          "text": [
            "0.686\n",
            "0.702\n",
            "0.690\n",
            "0.698\n"
          ]
        }
      ]
    }
  ]
}