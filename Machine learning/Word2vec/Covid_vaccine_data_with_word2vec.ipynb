{
  "nbformat": 4,
  "nbformat_minor": 0,
  "metadata": {
    "colab": {
      "name": "Covid vaccine data with TF-IDF.ipynb",
      "provenance": [],
      "collapsed_sections": []
    },
    "kernelspec": {
      "name": "python3",
      "display_name": "Python 3"
    },
    "language_info": {
      "name": "python"
    }
  },
  "cells": [
    {
      "cell_type": "markdown",
      "source": [
        "# Installing bnlp toolkit and bnltk library"
      ],
      "metadata": {
        "id": "BYV1E2cvkA6o"
      }
    },
    {
      "cell_type": "code",
      "metadata": {
        "colab": {
          "base_uri": "https://localhost:8080/"
        },
        "id": "2-Aiau5sXcr_",
        "outputId": "69d144c2-ebf4-4822-c090-b65510e49028"
      },
      "source": [
        "pip install bnlp_toolkit"
      ],
      "execution_count": 1,
      "outputs": [
        {
          "output_type": "stream",
          "name": "stdout",
          "text": [
            "Collecting bnlp_toolkit\n",
            "  Downloading bnlp_toolkit-3.1.2-py3-none-any.whl (17 kB)\n",
            "Collecting sklearn-crfsuite\n",
            "  Downloading sklearn_crfsuite-0.3.6-py2.py3-none-any.whl (12 kB)\n",
            "Collecting sentencepiece\n",
            "  Downloading sentencepiece-0.1.96-cp37-cp37m-manylinux_2_17_x86_64.manylinux2014_x86_64.whl (1.2 MB)\n",
            "\u001b[K     |████████████████████████████████| 1.2 MB 6.8 MB/s \n",
            "\u001b[?25hRequirement already satisfied: numpy in /usr/local/lib/python3.7/dist-packages (from bnlp_toolkit) (1.19.5)\n",
            "Requirement already satisfied: wasabi in /usr/local/lib/python3.7/dist-packages (from bnlp_toolkit) (0.9.0)\n",
            "Requirement already satisfied: nltk in /usr/local/lib/python3.7/dist-packages (from bnlp_toolkit) (3.2.5)\n",
            "Requirement already satisfied: scipy in /usr/local/lib/python3.7/dist-packages (from bnlp_toolkit) (1.4.1)\n",
            "Collecting gensim==4.0.1\n",
            "  Downloading gensim-4.0.1-cp37-cp37m-manylinux1_x86_64.whl (23.9 MB)\n",
            "\u001b[K     |████████████████████████████████| 23.9 MB 1.7 MB/s \n",
            "\u001b[?25hRequirement already satisfied: smart-open>=1.8.1 in /usr/local/lib/python3.7/dist-packages (from gensim==4.0.1->bnlp_toolkit) (5.2.1)\n",
            "Requirement already satisfied: six in /usr/local/lib/python3.7/dist-packages (from nltk->bnlp_toolkit) (1.15.0)\n",
            "Requirement already satisfied: tqdm>=2.0 in /usr/local/lib/python3.7/dist-packages (from sklearn-crfsuite->bnlp_toolkit) (4.62.3)\n",
            "Requirement already satisfied: tabulate in /usr/local/lib/python3.7/dist-packages (from sklearn-crfsuite->bnlp_toolkit) (0.8.9)\n",
            "Collecting python-crfsuite>=0.8.3\n",
            "  Downloading python_crfsuite-0.9.7-cp37-cp37m-manylinux1_x86_64.whl (743 kB)\n",
            "\u001b[K     |████████████████████████████████| 743 kB 46.1 MB/s \n",
            "\u001b[?25hInstalling collected packages: python-crfsuite, sklearn-crfsuite, sentencepiece, gensim, bnlp-toolkit\n",
            "  Attempting uninstall: gensim\n",
            "    Found existing installation: gensim 3.6.0\n",
            "    Uninstalling gensim-3.6.0:\n",
            "      Successfully uninstalled gensim-3.6.0\n",
            "Successfully installed bnlp-toolkit-3.1.2 gensim-4.0.1 python-crfsuite-0.9.7 sentencepiece-0.1.96 sklearn-crfsuite-0.3.6\n"
          ]
        }
      ]
    },
    {
      "cell_type": "code",
      "metadata": {
        "colab": {
          "base_uri": "https://localhost:8080/"
        },
        "id": "8WxP1prXXpN8",
        "outputId": "e269a1d0-ea43-461d-e335-87fc5cb8840a"
      },
      "source": [
        "pip install bnltk"
      ],
      "execution_count": 2,
      "outputs": [
        {
          "output_type": "stream",
          "name": "stdout",
          "text": [
            "Collecting bnltk\n",
            "  Downloading bnltk-0.7.6-py3-none-any.whl (11 kB)\n",
            "Requirement already satisfied: keras in /usr/local/lib/python3.7/dist-packages (from bnltk) (2.7.0)\n",
            "Requirement already satisfied: numpy in /usr/local/lib/python3.7/dist-packages (from bnltk) (1.19.5)\n",
            "Requirement already satisfied: tensorflow in /usr/local/lib/python3.7/dist-packages (from bnltk) (2.7.0)\n",
            "Requirement already satisfied: sklearn in /usr/local/lib/python3.7/dist-packages (from bnltk) (0.0)\n",
            "Requirement already satisfied: requests in /usr/local/lib/python3.7/dist-packages (from bnltk) (2.23.0)\n",
            "Requirement already satisfied: certifi>=2017.4.17 in /usr/local/lib/python3.7/dist-packages (from requests->bnltk) (2021.10.8)\n",
            "Requirement already satisfied: urllib3!=1.25.0,!=1.25.1,<1.26,>=1.21.1 in /usr/local/lib/python3.7/dist-packages (from requests->bnltk) (1.24.3)\n",
            "Requirement already satisfied: idna<3,>=2.5 in /usr/local/lib/python3.7/dist-packages (from requests->bnltk) (2.10)\n",
            "Requirement already satisfied: chardet<4,>=3.0.2 in /usr/local/lib/python3.7/dist-packages (from requests->bnltk) (3.0.4)\n",
            "Requirement already satisfied: scikit-learn in /usr/local/lib/python3.7/dist-packages (from sklearn->bnltk) (1.0.2)\n",
            "Requirement already satisfied: threadpoolctl>=2.0.0 in /usr/local/lib/python3.7/dist-packages (from scikit-learn->sklearn->bnltk) (3.1.0)\n",
            "Requirement already satisfied: scipy>=1.1.0 in /usr/local/lib/python3.7/dist-packages (from scikit-learn->sklearn->bnltk) (1.4.1)\n",
            "Requirement already satisfied: joblib>=0.11 in /usr/local/lib/python3.7/dist-packages (from scikit-learn->sklearn->bnltk) (1.1.0)\n",
            "Requirement already satisfied: libclang>=9.0.1 in /usr/local/lib/python3.7/dist-packages (from tensorflow->bnltk) (13.0.0)\n",
            "Requirement already satisfied: h5py>=2.9.0 in /usr/local/lib/python3.7/dist-packages (from tensorflow->bnltk) (3.1.0)\n",
            "Requirement already satisfied: flatbuffers<3.0,>=1.12 in /usr/local/lib/python3.7/dist-packages (from tensorflow->bnltk) (2.0)\n",
            "Requirement already satisfied: absl-py>=0.4.0 in /usr/local/lib/python3.7/dist-packages (from tensorflow->bnltk) (1.0.0)\n",
            "Requirement already satisfied: google-pasta>=0.1.1 in /usr/local/lib/python3.7/dist-packages (from tensorflow->bnltk) (0.2.0)\n",
            "Requirement already satisfied: tensorflow-io-gcs-filesystem>=0.21.0 in /usr/local/lib/python3.7/dist-packages (from tensorflow->bnltk) (0.23.1)\n",
            "Requirement already satisfied: typing-extensions>=3.6.6 in /usr/local/lib/python3.7/dist-packages (from tensorflow->bnltk) (3.10.0.2)\n",
            "Requirement already satisfied: astunparse>=1.6.0 in /usr/local/lib/python3.7/dist-packages (from tensorflow->bnltk) (1.6.3)\n",
            "Requirement already satisfied: keras-preprocessing>=1.1.1 in /usr/local/lib/python3.7/dist-packages (from tensorflow->bnltk) (1.1.2)\n",
            "Requirement already satisfied: tensorboard~=2.6 in /usr/local/lib/python3.7/dist-packages (from tensorflow->bnltk) (2.7.0)\n",
            "Requirement already satisfied: grpcio<2.0,>=1.24.3 in /usr/local/lib/python3.7/dist-packages (from tensorflow->bnltk) (1.43.0)\n",
            "Requirement already satisfied: tensorflow-estimator<2.8,~=2.7.0rc0 in /usr/local/lib/python3.7/dist-packages (from tensorflow->bnltk) (2.7.0)\n",
            "Requirement already satisfied: wrapt>=1.11.0 in /usr/local/lib/python3.7/dist-packages (from tensorflow->bnltk) (1.13.3)\n",
            "Requirement already satisfied: protobuf>=3.9.2 in /usr/local/lib/python3.7/dist-packages (from tensorflow->bnltk) (3.17.3)\n",
            "Requirement already satisfied: wheel<1.0,>=0.32.0 in /usr/local/lib/python3.7/dist-packages (from tensorflow->bnltk) (0.37.1)\n",
            "Requirement already satisfied: gast<0.5.0,>=0.2.1 in /usr/local/lib/python3.7/dist-packages (from tensorflow->bnltk) (0.4.0)\n",
            "Requirement already satisfied: termcolor>=1.1.0 in /usr/local/lib/python3.7/dist-packages (from tensorflow->bnltk) (1.1.0)\n",
            "Requirement already satisfied: opt-einsum>=2.3.2 in /usr/local/lib/python3.7/dist-packages (from tensorflow->bnltk) (3.3.0)\n",
            "Requirement already satisfied: six>=1.12.0 in /usr/local/lib/python3.7/dist-packages (from tensorflow->bnltk) (1.15.0)\n",
            "Requirement already satisfied: cached-property in /usr/local/lib/python3.7/dist-packages (from h5py>=2.9.0->tensorflow->bnltk) (1.5.2)\n",
            "Requirement already satisfied: setuptools>=41.0.0 in /usr/local/lib/python3.7/dist-packages (from tensorboard~=2.6->tensorflow->bnltk) (57.4.0)\n",
            "Requirement already satisfied: google-auth<3,>=1.6.3 in /usr/local/lib/python3.7/dist-packages (from tensorboard~=2.6->tensorflow->bnltk) (1.35.0)\n",
            "Requirement already satisfied: tensorboard-plugin-wit>=1.6.0 in /usr/local/lib/python3.7/dist-packages (from tensorboard~=2.6->tensorflow->bnltk) (1.8.1)\n",
            "Requirement already satisfied: werkzeug>=0.11.15 in /usr/local/lib/python3.7/dist-packages (from tensorboard~=2.6->tensorflow->bnltk) (1.0.1)\n",
            "Requirement already satisfied: google-auth-oauthlib<0.5,>=0.4.1 in /usr/local/lib/python3.7/dist-packages (from tensorboard~=2.6->tensorflow->bnltk) (0.4.6)\n",
            "Requirement already satisfied: markdown>=2.6.8 in /usr/local/lib/python3.7/dist-packages (from tensorboard~=2.6->tensorflow->bnltk) (3.3.6)\n",
            "Requirement already satisfied: tensorboard-data-server<0.7.0,>=0.6.0 in /usr/local/lib/python3.7/dist-packages (from tensorboard~=2.6->tensorflow->bnltk) (0.6.1)\n",
            "Requirement already satisfied: rsa<5,>=3.1.4 in /usr/local/lib/python3.7/dist-packages (from google-auth<3,>=1.6.3->tensorboard~=2.6->tensorflow->bnltk) (4.8)\n",
            "Requirement already satisfied: cachetools<5.0,>=2.0.0 in /usr/local/lib/python3.7/dist-packages (from google-auth<3,>=1.6.3->tensorboard~=2.6->tensorflow->bnltk) (4.2.4)\n",
            "Requirement already satisfied: pyasn1-modules>=0.2.1 in /usr/local/lib/python3.7/dist-packages (from google-auth<3,>=1.6.3->tensorboard~=2.6->tensorflow->bnltk) (0.2.8)\n",
            "Requirement already satisfied: requests-oauthlib>=0.7.0 in /usr/local/lib/python3.7/dist-packages (from google-auth-oauthlib<0.5,>=0.4.1->tensorboard~=2.6->tensorflow->bnltk) (1.3.1)\n",
            "Requirement already satisfied: importlib-metadata>=4.4 in /usr/local/lib/python3.7/dist-packages (from markdown>=2.6.8->tensorboard~=2.6->tensorflow->bnltk) (4.10.1)\n",
            "Requirement already satisfied: zipp>=0.5 in /usr/local/lib/python3.7/dist-packages (from importlib-metadata>=4.4->markdown>=2.6.8->tensorboard~=2.6->tensorflow->bnltk) (3.7.0)\n",
            "Requirement already satisfied: pyasn1<0.5.0,>=0.4.6 in /usr/local/lib/python3.7/dist-packages (from pyasn1-modules>=0.2.1->google-auth<3,>=1.6.3->tensorboard~=2.6->tensorflow->bnltk) (0.4.8)\n",
            "Requirement already satisfied: oauthlib>=3.0.0 in /usr/local/lib/python3.7/dist-packages (from requests-oauthlib>=0.7.0->google-auth-oauthlib<0.5,>=0.4.1->tensorboard~=2.6->tensorflow->bnltk) (3.2.0)\n",
            "Installing collected packages: bnltk\n",
            "Successfully installed bnltk-0.7.6\n"
          ]
        }
      ]
    },
    {
      "cell_type": "code",
      "metadata": {
        "colab": {
          "base_uri": "https://localhost:8080/"
        },
        "id": "KZbeDNuaX2FT",
        "outputId": "19f54ad9-115a-4cfa-ea43-5de347d80fae"
      },
      "source": [
        "pip install -U bnlp_toolkit"
      ],
      "execution_count": 3,
      "outputs": [
        {
          "output_type": "stream",
          "name": "stdout",
          "text": [
            "Requirement already satisfied: bnlp_toolkit in /usr/local/lib/python3.7/dist-packages (3.1.2)\n",
            "Requirement already satisfied: sklearn-crfsuite in /usr/local/lib/python3.7/dist-packages (from bnlp_toolkit) (0.3.6)\n",
            "Requirement already satisfied: wasabi in /usr/local/lib/python3.7/dist-packages (from bnlp_toolkit) (0.9.0)\n",
            "Requirement already satisfied: nltk in /usr/local/lib/python3.7/dist-packages (from bnlp_toolkit) (3.2.5)\n",
            "Requirement already satisfied: sentencepiece in /usr/local/lib/python3.7/dist-packages (from bnlp_toolkit) (0.1.96)\n",
            "Requirement already satisfied: numpy in /usr/local/lib/python3.7/dist-packages (from bnlp_toolkit) (1.19.5)\n",
            "Requirement already satisfied: scipy in /usr/local/lib/python3.7/dist-packages (from bnlp_toolkit) (1.4.1)\n",
            "Requirement already satisfied: gensim==4.0.1 in /usr/local/lib/python3.7/dist-packages (from bnlp_toolkit) (4.0.1)\n",
            "Requirement already satisfied: smart-open>=1.8.1 in /usr/local/lib/python3.7/dist-packages (from gensim==4.0.1->bnlp_toolkit) (5.2.1)\n",
            "Requirement already satisfied: six in /usr/local/lib/python3.7/dist-packages (from nltk->bnlp_toolkit) (1.15.0)\n",
            "Requirement already satisfied: tabulate in /usr/local/lib/python3.7/dist-packages (from sklearn-crfsuite->bnlp_toolkit) (0.8.9)\n",
            "Requirement already satisfied: tqdm>=2.0 in /usr/local/lib/python3.7/dist-packages (from sklearn-crfsuite->bnlp_toolkit) (4.62.3)\n",
            "Requirement already satisfied: python-crfsuite>=0.8.3 in /usr/local/lib/python3.7/dist-packages (from sklearn-crfsuite->bnlp_toolkit) (0.9.7)\n"
          ]
        }
      ]
    },
    {
      "cell_type": "markdown",
      "source": [
        "# Importing Library"
      ],
      "metadata": {
        "id": "QJXhbfyukN0X"
      }
    },
    {
      "cell_type": "code",
      "metadata": {
        "id": "TstOUDjUkYdN",
        "colab": {
          "base_uri": "https://localhost:8080/"
        },
        "outputId": "d9d80f60-6176-47ed-81c9-c6c2dac2f20c"
      },
      "source": [
        "\n",
        "import gensim\n",
        "import pandas as pd\n",
        "import numpy as np\n",
        "from sklearn.model_selection import cross_val_score\n",
        "! pip install glove-python-binary\n",
        "from glove import Corpus, Glove\n",
        "\n",
        "import numpy as np\n",
        "import matplotlib.pyplot as plt\n",
        "import pandas as pd\n",
        "from bnlp.corpus import stopwords\n",
        "from bnlp.corpus.util import remove_stopwords\n",
        "from bnltk.stemmer import BanglaStemmer"
      ],
      "execution_count": 4,
      "outputs": [
        {
          "output_type": "stream",
          "name": "stderr",
          "text": [
            "/usr/local/lib/python3.7/dist-packages/gensim/similarities/__init__.py:15: UserWarning: The gensim.similarities.levenshtein submodule is disabled, because the optional Levenshtein package <https://pypi.org/project/python-Levenshtein/> is unavailable. Install Levenhstein (e.g. `pip install python-Levenshtein`) to suppress this warning.\n",
            "  warnings.warn(msg)\n"
          ]
        },
        {
          "output_type": "stream",
          "name": "stdout",
          "text": [
            "Collecting glove-python-binary\n",
            "  Downloading glove_python_binary-0.2.0-cp37-cp37m-manylinux1_x86_64.whl (948 kB)\n",
            "\u001b[?25l\r\u001b[K     |▍                               | 10 kB 19.6 MB/s eta 0:00:01\r\u001b[K     |▊                               | 20 kB 13.1 MB/s eta 0:00:01\r\u001b[K     |█                               | 30 kB 9.6 MB/s eta 0:00:01\r\u001b[K     |█▍                              | 40 kB 8.8 MB/s eta 0:00:01\r\u001b[K     |█▊                              | 51 kB 5.1 MB/s eta 0:00:01\r\u001b[K     |██                              | 61 kB 5.2 MB/s eta 0:00:01\r\u001b[K     |██▍                             | 71 kB 5.5 MB/s eta 0:00:01\r\u001b[K     |██▊                             | 81 kB 6.1 MB/s eta 0:00:01\r\u001b[K     |███                             | 92 kB 4.7 MB/s eta 0:00:01\r\u001b[K     |███▌                            | 102 kB 5.0 MB/s eta 0:00:01\r\u001b[K     |███▉                            | 112 kB 5.0 MB/s eta 0:00:01\r\u001b[K     |████▏                           | 122 kB 5.0 MB/s eta 0:00:01\r\u001b[K     |████▌                           | 133 kB 5.0 MB/s eta 0:00:01\r\u001b[K     |████▉                           | 143 kB 5.0 MB/s eta 0:00:01\r\u001b[K     |█████▏                          | 153 kB 5.0 MB/s eta 0:00:01\r\u001b[K     |█████▌                          | 163 kB 5.0 MB/s eta 0:00:01\r\u001b[K     |█████▉                          | 174 kB 5.0 MB/s eta 0:00:01\r\u001b[K     |██████▏                         | 184 kB 5.0 MB/s eta 0:00:01\r\u001b[K     |██████▋                         | 194 kB 5.0 MB/s eta 0:00:01\r\u001b[K     |███████                         | 204 kB 5.0 MB/s eta 0:00:01\r\u001b[K     |███████▎                        | 215 kB 5.0 MB/s eta 0:00:01\r\u001b[K     |███████▋                        | 225 kB 5.0 MB/s eta 0:00:01\r\u001b[K     |████████                        | 235 kB 5.0 MB/s eta 0:00:01\r\u001b[K     |████████▎                       | 245 kB 5.0 MB/s eta 0:00:01\r\u001b[K     |████████▋                       | 256 kB 5.0 MB/s eta 0:00:01\r\u001b[K     |█████████                       | 266 kB 5.0 MB/s eta 0:00:01\r\u001b[K     |█████████▎                      | 276 kB 5.0 MB/s eta 0:00:01\r\u001b[K     |█████████▊                      | 286 kB 5.0 MB/s eta 0:00:01\r\u001b[K     |██████████                      | 296 kB 5.0 MB/s eta 0:00:01\r\u001b[K     |██████████▍                     | 307 kB 5.0 MB/s eta 0:00:01\r\u001b[K     |██████████▊                     | 317 kB 5.0 MB/s eta 0:00:01\r\u001b[K     |███████████                     | 327 kB 5.0 MB/s eta 0:00:01\r\u001b[K     |███████████▍                    | 337 kB 5.0 MB/s eta 0:00:01\r\u001b[K     |███████████▊                    | 348 kB 5.0 MB/s eta 0:00:01\r\u001b[K     |████████████                    | 358 kB 5.0 MB/s eta 0:00:01\r\u001b[K     |████████████▍                   | 368 kB 5.0 MB/s eta 0:00:01\r\u001b[K     |████████████▊                   | 378 kB 5.0 MB/s eta 0:00:01\r\u001b[K     |█████████████▏                  | 389 kB 5.0 MB/s eta 0:00:01\r\u001b[K     |█████████████▌                  | 399 kB 5.0 MB/s eta 0:00:01\r\u001b[K     |█████████████▉                  | 409 kB 5.0 MB/s eta 0:00:01\r\u001b[K     |██████████████▏                 | 419 kB 5.0 MB/s eta 0:00:01\r\u001b[K     |██████████████▌                 | 430 kB 5.0 MB/s eta 0:00:01\r\u001b[K     |██████████████▉                 | 440 kB 5.0 MB/s eta 0:00:01\r\u001b[K     |███████████████▏                | 450 kB 5.0 MB/s eta 0:00:01\r\u001b[K     |███████████████▌                | 460 kB 5.0 MB/s eta 0:00:01\r\u001b[K     |███████████████▉                | 471 kB 5.0 MB/s eta 0:00:01\r\u001b[K     |████████████████▎               | 481 kB 5.0 MB/s eta 0:00:01\r\u001b[K     |████████████████▋               | 491 kB 5.0 MB/s eta 0:00:01\r\u001b[K     |█████████████████               | 501 kB 5.0 MB/s eta 0:00:01\r\u001b[K     |█████████████████▎              | 512 kB 5.0 MB/s eta 0:00:01\r\u001b[K     |█████████████████▋              | 522 kB 5.0 MB/s eta 0:00:01\r\u001b[K     |██████████████████              | 532 kB 5.0 MB/s eta 0:00:01\r\u001b[K     |██████████████████▎             | 542 kB 5.0 MB/s eta 0:00:01\r\u001b[K     |██████████████████▋             | 552 kB 5.0 MB/s eta 0:00:01\r\u001b[K     |███████████████████             | 563 kB 5.0 MB/s eta 0:00:01\r\u001b[K     |███████████████████▍            | 573 kB 5.0 MB/s eta 0:00:01\r\u001b[K     |███████████████████▊            | 583 kB 5.0 MB/s eta 0:00:01\r\u001b[K     |████████████████████            | 593 kB 5.0 MB/s eta 0:00:01\r\u001b[K     |████████████████████▍           | 604 kB 5.0 MB/s eta 0:00:01\r\u001b[K     |████████████████████▊           | 614 kB 5.0 MB/s eta 0:00:01\r\u001b[K     |█████████████████████           | 624 kB 5.0 MB/s eta 0:00:01\r\u001b[K     |█████████████████████▍          | 634 kB 5.0 MB/s eta 0:00:01\r\u001b[K     |█████████████████████▊          | 645 kB 5.0 MB/s eta 0:00:01\r\u001b[K     |██████████████████████          | 655 kB 5.0 MB/s eta 0:00:01\r\u001b[K     |██████████████████████▌         | 665 kB 5.0 MB/s eta 0:00:01\r\u001b[K     |██████████████████████▉         | 675 kB 5.0 MB/s eta 0:00:01\r\u001b[K     |███████████████████████▏        | 686 kB 5.0 MB/s eta 0:00:01\r\u001b[K     |███████████████████████▌        | 696 kB 5.0 MB/s eta 0:00:01\r\u001b[K     |███████████████████████▉        | 706 kB 5.0 MB/s eta 0:00:01\r\u001b[K     |████████████████████████▏       | 716 kB 5.0 MB/s eta 0:00:01\r\u001b[K     |████████████████████████▌       | 727 kB 5.0 MB/s eta 0:00:01\r\u001b[K     |████████████████████████▉       | 737 kB 5.0 MB/s eta 0:00:01\r\u001b[K     |█████████████████████████▏      | 747 kB 5.0 MB/s eta 0:00:01\r\u001b[K     |█████████████████████████▌      | 757 kB 5.0 MB/s eta 0:00:01\r\u001b[K     |██████████████████████████      | 768 kB 5.0 MB/s eta 0:00:01\r\u001b[K     |██████████████████████████▎     | 778 kB 5.0 MB/s eta 0:00:01\r\u001b[K     |██████████████████████████▋     | 788 kB 5.0 MB/s eta 0:00:01\r\u001b[K     |███████████████████████████     | 798 kB 5.0 MB/s eta 0:00:01\r\u001b[K     |███████████████████████████▎    | 808 kB 5.0 MB/s eta 0:00:01\r\u001b[K     |███████████████████████████▋    | 819 kB 5.0 MB/s eta 0:00:01\r\u001b[K     |████████████████████████████    | 829 kB 5.0 MB/s eta 0:00:01\r\u001b[K     |████████████████████████████▎   | 839 kB 5.0 MB/s eta 0:00:01\r\u001b[K     |████████████████████████████▋   | 849 kB 5.0 MB/s eta 0:00:01\r\u001b[K     |█████████████████████████████   | 860 kB 5.0 MB/s eta 0:00:01\r\u001b[K     |█████████████████████████████▍  | 870 kB 5.0 MB/s eta 0:00:01\r\u001b[K     |█████████████████████████████▊  | 880 kB 5.0 MB/s eta 0:00:01\r\u001b[K     |██████████████████████████████  | 890 kB 5.0 MB/s eta 0:00:01\r\u001b[K     |██████████████████████████████▍ | 901 kB 5.0 MB/s eta 0:00:01\r\u001b[K     |██████████████████████████████▊ | 911 kB 5.0 MB/s eta 0:00:01\r\u001b[K     |███████████████████████████████ | 921 kB 5.0 MB/s eta 0:00:01\r\u001b[K     |███████████████████████████████▍| 931 kB 5.0 MB/s eta 0:00:01\r\u001b[K     |███████████████████████████████▊| 942 kB 5.0 MB/s eta 0:00:01\r\u001b[K     |████████████████████████████████| 948 kB 5.0 MB/s \n",
            "\u001b[?25hRequirement already satisfied: scipy in /usr/local/lib/python3.7/dist-packages (from glove-python-binary) (1.4.1)\n",
            "Requirement already satisfied: numpy in /usr/local/lib/python3.7/dist-packages (from glove-python-binary) (1.19.5)\n",
            "Installing collected packages: glove-python-binary\n",
            "Successfully installed glove-python-binary-0.2.0\n",
            "punkt not found. downloading...\n",
            "[nltk_data] Downloading package punkt to /root/nltk_data...\n",
            "[nltk_data]   Unzipping tokenizers/punkt.zip.\n"
          ]
        }
      ]
    },
    {
      "cell_type": "code",
      "source": [
        "from bnlp.corpus import stopwords\n",
        "from bnlp.corpus.util import remove_stopwords\n",
        "\n",
        "from bnltk.stemmer import BanglaStemmer\n",
        "\n",
        "from pandas import read_excel\n",
        "import re\n",
        "from re import sub\n",
        "import multiprocessing\n",
        "\n",
        "import os\n",
        "from time import time \n",
        "import tensorflow as tf\n",
        "import keras\n",
        "from keras.models import Sequential\n",
        "from keras.layers import LSTM,Dense,Dropout,Activation,Embedding,Flatten,Bidirectional,MaxPooling2D, Conv1D, MaxPooling1D\n",
        "\n",
        "from keras import regularizers\n",
        "from keras.preprocessing.text import Tokenizer\n",
        "from keras.preprocessing.sequence import pad_sequences\n",
        "from keras.utils.np_utils import to_categorical\n",
        "import h5py\n",
        "import csv\n",
        "import seaborn as sns\n",
        "import matplotlib.pyplot as plt\n",
        "from sklearn.model_selection import train_test_split\n",
        "from sklearn.model_selection import StratifiedKFold"
      ],
      "metadata": {
        "id": "d3WEfQ_wDT8z"
      },
      "execution_count": 5,
      "outputs": []
    },
    {
      "cell_type": "markdown",
      "source": [
        "# Read dataset"
      ],
      "metadata": {
        "id": "aautGAxOkUuQ"
      }
    },
    {
      "cell_type": "code",
      "metadata": {
        "id": "ANwKKdniX7iy"
      },
      "source": [
        "from google.colab import drive\n",
        "#drive.mount('/content/drive')\n",
        "dataset=pd.read_csv('/content/Covid vaccine data.csv')\n"
      ],
      "execution_count": 6,
      "outputs": []
    },
    {
      "cell_type": "code",
      "metadata": {
        "colab": {
          "base_uri": "https://localhost:8080/"
        },
        "id": "vdjlwedwVQ5h",
        "outputId": "2afd155d-1c68-435d-cf91-cc687b042596"
      },
      "source": [
        "dataset.shape"
      ],
      "execution_count": 7,
      "outputs": [
        {
          "output_type": "execute_result",
          "data": {
            "text/plain": [
              "(418, 2)"
            ]
          },
          "metadata": {},
          "execution_count": 7
        }
      ]
    },
    {
      "cell_type": "code",
      "metadata": {
        "colab": {
          "base_uri": "https://localhost:8080/",
          "height": 313
        },
        "id": "mFrmJQ2LeLCO",
        "outputId": "3f0d2152-f52d-4aa3-fb42-89ee418799f5"
      },
      "source": [
        "target_vc = dataset[\"Polarity\"].value_counts(normalize=False)\n",
        "print(\"Non-urgent: {:.2%}, Urgent: {:.2%}\".format(target_vc[0], target_vc[1]))\n",
        "sns.barplot(x=target_vc.index, y=target_vc)\n",
        "plt.title(\"Dataset Distribution\")\n",
        "plt.xlabel(\"0 = Non-urgent, 1 = Urgent\")\n",
        "plt.ylabel(\"Number of data\")\n",
        "plt.show()"
      ],
      "execution_count": null,
      "outputs": [
        {
          "output_type": "stream",
          "name": "stdout",
          "text": [
            "Non-urgent: 21900.00%, Urgent: 19900.00%\n"
          ]
        },
        {
          "output_type": "display_data",
          "data": {
            "image/png": "[encoded data removed]",
            "text/plain": [
              "<Figure size 432x288 with 1 Axes>"
            ]
          },
          "metadata": {
            "needs_background": "light"
          }
        }
      ]
    },
    {
      "cell_type": "markdown",
      "source": [
        "# Data Preprocessing"
      ],
      "metadata": {
        "id": "Czfg6DsOkis3"
      }
    },
    {
      "cell_type": "code",
      "metadata": {
        "colab": {
          "base_uri": "https://localhost:8080/"
        },
        "id": "RUyvbeINX-EE",
        "outputId": "b0e29fe1-6f9e-42b1-b7a8-ba191c7c4e9b"
      },
      "source": [
        "import re\n",
        "corpus=[]\n",
        "max=0\n",
        "for i in range(0,418):\n",
        "    review = re.sub('[\\!\"#$%&()*,./:;<=>?@[\\\\]^`{|}~\\t\\n।+-]', ' ', dataset['Text'][i])\n",
        "    review=review.replace('_',' ')\n",
        "    review=review.replace('ঃ',' ')\n",
        "    review = re.sub('[a-zA-Z0-9]+', ' ', review)    \n",
        "    review = re.sub('[''```\u0012\u0010\u0002\b`\u0007\b£|¢|\u0007Ñ/=EROero।!“’<>‘॥”‰\\'🤓⌚🤰🥺⚽️✌�￰🥀🤣🤡🤗🤐🤦🤔⏩⏹￰]', ' ', review)               \n",
        "    emoji_pattern = re.compile(\"[\"\n",
        "                           u\"\\U0001F600-\\U0001F64F\"  # emoticons\n",
        "                           u\"\\U0001F300-\\U0001F5FF\"  # symbols & pictographs\n",
        "                           u\"\\U0001F680-\\U0001F6FF\"  # transport & map symbols\n",
        "                           u\"\\U0001F1E0-\\U0001F1FF\"  # flags (iOS)\n",
        "                           u\"\\U00002702-\\U000027B0\"\n",
        "                           u\"\\U000024C2-\\U0001F251\"\n",
        "                           u\"\\u00C0-\\u017F\"          #latin\n",
        "                           u\"\\u2000-\\u206F\"          #generalPunctuations \n",
        "                           u\"\\\\U0001f90f\" \n",
        "                           u\"\\\\U0001f9cf\"\n",
        "                           u\"\\U0001fa78\"  \n",
        "                           \"]+\", flags=re.UNICODE)\n",
        "    review=emoji_pattern.sub(r'', review)\n",
        "    #review=str(review)\n",
        "    #review=review.split()\n",
        "    '''review=review.replace('A', 'এ')\n",
        "    review=review.replace('B', 'বি')\n",
        "    review=review.replace('AB', 'এবি')\n",
        "    review=review.replace('O', 'ও')\n",
        "    review=review.replace('+','পজিটিভ')\n",
        "    review=review.replace('-','নেগেটিভ')'''\n",
        "    review=review.lower()\n",
        "    bn_stemmer = BanglaStemmer()\n",
        "    review=bn_stemmer.stem(review)\n",
        "    review = remove_stopwords(review, stopwords)\n",
        "    #review=str(review)\n",
        "    #review=review.split()\n",
        "    #review=' '.join(review)\n",
        "    corpus.append(review)\n",
        "    if(max<len(review)):\n",
        "      max=len(review)\n",
        "print(max)\n"
      ],
      "execution_count": 8,
      "outputs": [
        {
          "output_type": "stream",
          "name": "stdout",
          "text": [
            "54\n"
          ]
        }
      ]
    },
    {
      "cell_type": "code",
      "metadata": {
        "id": "CrX8v3JMv--j"
      },
      "source": [
        "#corpus"
      ],
      "execution_count": null,
      "outputs": []
    },
    {
      "cell_type": "markdown",
      "source": [
        "# Feature Selection"
      ],
      "metadata": {
        "id": "8s-cZSS5kq_v"
      }
    },
    {
      "cell_type": "code",
      "metadata": {
        "id": "uKd8q8m9YAzb",
        "colab": {
          "base_uri": "https://localhost:8080/"
        },
        "outputId": "a8c51646-b56c-4db3-e24f-5b89fc578f6c"
      },
      "source": [
        "model=gensim.models.Word2Vec(min_count=3,vector_size=50,workers=4,window=5)\n",
        "model.build_vocab(corpus,progress_per=100)\n",
        "model.train(corpus,total_examples=model.corpus_count,epochs=10)\n",
        "words=list(model.wv.index_to_key)\n",
        "print(words)"
      ],
      "execution_count": 9,
      "outputs": [
        {
          "output_type": "stream",
          "name": "stdout",
          "text": [
            "['টিকা', 'ভ্যাক্সিন', 'ডোজ', 'টিকার', 'করোনা', 'ভ্যাকসিন', 'নিন', 'সবাই', 'করুন', 'এখনো', 'দিয়ে', 'ভালো', 'করোনার', 'বাংলাদেশ', 'হয়ে', 'নেয়ার', 'মানুষ', 'নি', 'সমস্যা', 'টাকা', 'দেশে', 'কথা', '২', 'আলহামদুলিল্লাহ', 'মাস', 'কোভিড', 'বাংলাদেশের', 'আক্রান্ত', 'নিবন্ধন', 'দেশের', 'বুস্টার', 'সুস্থ', 'থাকুন', 'সবাইকে', 'দ্রুত', 'দ্বিতীয়', 'মেসেজ', 'সম্ভব', 'গ্রহন', 'ভাল', 'টীকা', 'নিলে', 'মানুষের', 'দেশ', 'দেওয়ার', 'হয়নি', 'রেজিস্ট্রেশন', 'বিরুদ্ধে', 'আপনারা', 'লকডাউন', 'দেয়', '২য়', 'নেয়া', 'দরকার', 'সরকার', 'একটা', 'কার্যকর', 'মৃত্যু', 'দেয়ার', '৫', 'তৈরি', 'ঝুঁকি', 'থাকলে', 'সতর্ক', 'শেষ', 'পরও', 'হওয়ার', 'একমাত্র', 'টিকাদান', 'ধন্যবাদ', 'আছি', 'মারা', 'ভয়', 'থাকতে', 'সময়', '১', 'অবশ্যই', 'আসছে', 'সাহায্য', 'রেজিষ্ট্রেশন', 'আওতায়', 'করেছি', 'যায়', 'ভাইরাস', 'ব্যবস্থাপনা', 'কারন', 'খবর', 'রোগ', 'দেয়া', 'চাই', 'একটু', 'ক্ষমতা', 'কম', 'তিন', 'রক্ষা', 'নিয়েছি', 'এসএমএস', 'এক', 'বন্ধ', 'সচেতন', 'কেন্দ্রে', 'ভারত', 'পেয়েছি', 'খুবই', 'হয়েছে', 'পরিবারের', 'বিশ্ব', 'ইনশাআল্লাহ', 'মাস্ক', 'জটিলতা', 'আসে', 'পেলাম', 'প্রতিরোধে', 'টিকাই', 'এসব', 'নেওয়ার', 'গ্রহণ', 'চলছে', 'ভ্যাক্সিনেশন', 'আসবে', 'প্রতিরোধ', 'সাথে', '১ম', 'বছর', 'এগিয়ে', 'শেখ', 'ডোজের', 'মেনে', 'উপায়', 'বাংলাদেশে', 'উৎসাহিত', 'থাকার', 'আনতে', 'দিবে', 'ফাইযার', 'বিকল্প', 'স্বাস্থ্য', 'পাই', 'নিশ্চিত', 'ব্যবস্থা', 'আল্লাহ', 'সঠিক', '২৫', 'মহামারী', 'আ', 'স্বাভাবিক', 'টা', 'লাভ', 'অনুমতি', 'সুরক্ষার', 'পারলাম', 'আবিষ্কার', 'খালি', 'কারো', 'ম্যাসেজ', 'তারিখে', 'সরকারি', 'করছি', 'মর্ডানা', 'আসলে', 'আল্লাহর', 'ভ্যাক্সিনের', 'পাইনি', 'অসুবিধা', 'দ্বিতীয়', 'নিজ', 'দিলে', 'উন্নত', 'নিচ্ছে', 'শরীরে', 'প্রদান', 'পারবেন', 'জানাই', 'আসেনি', 'চিন্তা', 'জুলাই', 'পারব', 'ভাই', 'সবচেয়ে', 'বছরের', 'পাওয়া', 'রহমতে', 'করেছিলাম', 'দি', 'গ্রহনের', 'নিজেরা', 'দিচ্ছে', 'চায়', 'সুরক্ষিত', 'দরক', 'কর', 'ব্যবসা', 'লাগবে', 'আরো', 'হার', 'লোক', 'ছিলো', 'গুলো', 'আশা', 'ছাড়া', 'হাসিনার', 'কিভাবে', 'কেনো', 'মডার্না', 'সুরক্ষা', 'ব্যথা', 'স্বাস্থ্যবিধি', 'পরিবার', 'ফিকা', 'অর্থ', 'সিনোফারম', 'এদেশের', 'সপ্তাহ', 'চেয়ে', 'বের', 'সাধারন', 'মাননীয়', '১৯', 'দেয়া', 'পৃথিবীতে', 'রাজনীতির', 'তারিখ', 'মত', 'সিনোফার্ম', 'ফাইজার', 'সংস্থা', 'ব্যাথা', 'জ্বর', 'গোমূত্র', 'বাবার', 'মুক্ত', 'বিষয়ে', 'ছড়িয়ে', 'ভিক্ষা', 'দাঁড়িয়ে', 'সরবরাহ', 'নিলাম', 'সবসময়', 'কারনে', 'চিন্তার', 'কাঁচামাল', 'পাবে', 'সকল', '১০', 'সংক্রমণ', 'ভারতের', 'যাওয়ার', 'হ', 'দিয়েছি', 'কার্যকরী', 'রাখতে', 'ডেট', 'লড়াই', 'থাকি', 'গড়ে', 'কখনো', 'হব', 'পাওয়ার', 'ইউনিসেফ', 'মরার', 'দান', 'নেয়', 'ফেলুন', 'বাচ্চা', 'জয়', 'কিনে', 'আজই', 'সবই', 'নিয়েছে', '৬', 'শিশুদের', 'হাত', 'নিয়েছেন', 'কমবে', 'নাগরিক', 'হিসেবে', 'কিনা', 'দেরি', 'সম্পূর্ণভাবে', 'সংক্রমণের', 'কমপক্ষে', 'অভিযোগ', 'কোথায়', 'আসতেছে', 'আস', 'সুশৃঙ্খল', 'অপক্ষা', 'সমাধান', 'হাসপাতালে', 'করোনাভাইরাস', 'সহায়তা', 'আগের', 'জানি', 'মহামারি', 'ভরসা', 'সৃষ্টি', 'ভ্রান্ত', 'ভাইরাসের', 'নিয়েও', 'কান', 'ভাগ', 'গণ', 'জনগণের', 'দিবেন', 'মানুষকে', 'দিয়েও', 'সরকারের', 'বিদেশ', 'বাঙালি', 'আনা', 'চা', 'টাকার', 'পায়', 'গুজবে', 'করোনাভাইরাসের', 'ধারনা', 'আসতে', 'আসুন', 'পাচ্ছিনা', 'চীন', 'ভ্যাকসিনের', 'পকেট', 'পাইনা', 'অন্যান্য', 'মোকাবেলায়', 'ভেক্সিন', 'ঠেকাতে', 'পারবে', 'রাখুন', 'অন্যকে', 'এনে', 'স্পুটনিক']\n"
          ]
        }
      ]
    },
    {
      "cell_type": "code",
      "source": [
        "model.wv.most_similar('টিকার')\n",
        "#model.wv.similarity(w1=\"খারাপ\",w2=\"খারাপ\")\n",
        "#print(model['খারাপ'])"
      ],
      "metadata": {
        "colab": {
          "base_uri": "https://localhost:8080/"
        },
        "id": "PaZLc-yyEOkb",
        "outputId": "74556f92-aad7-44b6-c594-574dc59f9e85"
      },
      "execution_count": 10,
      "outputs": [
        {
          "output_type": "execute_result",
          "data": {
            "text/plain": [
              "[('টিকা', 0.9784058332443237),\n",
              " ('ডোজ', 0.9706361889839172),\n",
              " ('ভ্যাক্সিন', 0.9658877849578857),\n",
              " ('সবাই', 0.9621188640594482),\n",
              " ('একটা', 0.9614769220352173),\n",
              " ('করোনার', 0.9609214663505554),\n",
              " ('করোনা', 0.960078775882721),\n",
              " ('ভ্যাকসিন', 0.9586904048919678),\n",
              " ('দেশের', 0.9562996625900269),\n",
              " ('কোভিড', 0.9559192657470703)]"
            ]
          },
          "metadata": {},
          "execution_count": 10
        }
      ]
    },
    {
      "cell_type": "code",
      "source": [
        "new_dict=dict()\n",
        "for i in words:\n",
        "  x=model.wv[i]\n",
        "  average = sum(x) / len(x)\n",
        "  new_dict[i]=average\n",
        "#print(new_dict[i])\n",
        "rows, cols = (len(corpus),max)\n",
        "arr = [[0 for i in range(cols)] for j in range(rows)]\n",
        "m=0\n",
        "for l in range(0, len(corpus)):\n",
        "    msg = corpus[l]\n",
        "    #msg = msg.split()\n",
        "    for j in range(0,len(msg)):\n",
        "        k=msg[j]\n",
        "        if k in new_dict:\n",
        "          arr[l][j]=new_dict[k]"
      ],
      "metadata": {
        "id": "1Wn5X1D_EW4i"
      },
      "execution_count": 11,
      "outputs": []
    },
    {
      "cell_type": "code",
      "source": [
        "X = arr\n",
        "y = dataset.iloc[:, 1].values"
      ],
      "metadata": {
        "id": "KKGkWZDpFj2b"
      },
      "execution_count": 12,
      "outputs": []
    },
    {
      "cell_type": "markdown",
      "metadata": {
        "id": "cjDFt4lZvMRo"
      },
      "source": [
        "#SVM with 80:20 spliting"
      ]
    },
    {
      "cell_type": "code",
      "metadata": {
        "id": "E_1JtIAUYC-8"
      },
      "source": [
        "from sklearn.model_selection import train_test_split\n",
        "X_train, X_test, y_train, y_test = train_test_split(X, y, test_size = 0.20, random_state = 0)"
      ],
      "execution_count": null,
      "outputs": []
    },
    {
      "cell_type": "code",
      "metadata": {
        "colab": {
          "base_uri": "https://localhost:8080/"
        },
        "id": "1idn3xOFYFqL",
        "outputId": "7720e4b8-1220-4820-c1e2-077e6b9d6f70"
      },
      "source": [
        "# Fitting SVC to the training set\n",
        "from sklearn.svm import SVC\n",
        "classifier=SVC(kernel='linear',random_state=0)\n",
        "classifier.fit(X_train, y_train)\n",
        "\n"
      ],
      "execution_count": null,
      "outputs": [
        {
          "output_type": "execute_result",
          "data": {
            "text/plain": [
              "SVC(kernel='linear', random_state=0)"
            ]
          },
          "metadata": {},
          "execution_count": 116
        }
      ]
    },
    {
      "cell_type": "code",
      "metadata": {
        "id": "DenGq9s7k3-N"
      },
      "source": [
        "#predicting the Test set results\n",
        "y_pred=classifier.predict(X_test)\n",
        "\n",
        "\n"
      ],
      "execution_count": null,
      "outputs": []
    },
    {
      "cell_type": "code",
      "metadata": {
        "colab": {
          "base_uri": "https://localhost:8080/",
          "height": 334
        },
        "id": "gLAVdTwMk9Qb",
        "outputId": "8233a256-368c-45c1-dae7-4284d565b407"
      },
      "source": [
        "#Making the confusion matrix\n",
        "from sklearn.metrics import confusion_matrix\n",
        "cm=confusion_matrix(y_test, y_pred)\n",
        "#print(cm)\n",
        "from mlxtend.plotting import plot_confusion_matrix\n",
        "print(\"Confusion Matrix for PassiveAggressiveClassifier\")\n",
        "plot_confusion_matrix(conf_mat=cm,show_absolute=True,\n",
        "                                show_normed=True,\n",
        "                                colorbar=True)"
      ],
      "execution_count": null,
      "outputs": [
        {
          "output_type": "stream",
          "name": "stdout",
          "text": [
            "Confusion Matrix for PassiveAggressiveClassifier\n"
          ]
        },
        {
          "output_type": "execute_result",
          "data": {
            "text/plain": [
              "(<Figure size 432x288 with 2 Axes>,\n",
              " <matplotlib.axes._subplots.AxesSubplot at 0x7f852bac03d0>)"
            ]
          },
          "metadata": {},
          "execution_count": 118
        },
        {
          "output_type": "display_data",
          "data": {
            "image/png": "[encoded data removed]",
            "text/plain": [
              "<Figure size 432x288 with 2 Axes>"
            ]
          },
          "metadata": {
            "needs_background": "light"
          }
        }
      ]
    },
    {
      "cell_type": "code",
      "metadata": {
        "colab": {
          "base_uri": "https://localhost:8080/"
        },
        "id": "7bDUEoL7v1XG",
        "outputId": "820f5f64-ce1a-4871-b817-e94cb9c27633"
      },
      "source": [
        "#finding accuracy\n",
        "from sklearn.metrics import accuracy_score\n",
        "accuracy=accuracy_score(y_test,y_pred)\n",
        "print('Accuracy %.3f'%accuracy)\n",
        "\n",
        "from sklearn.metrics import precision_score\n",
        "precision=precision_score(y_test,y_pred,average=\"binary\")\n",
        "print('precision %.3f'%precision)\n",
        "\n",
        "from sklearn.metrics import recall_score\n",
        "recall=recall_score(y_test,y_pred,average=\"binary\")\n",
        "print('Recall %.3f'%recall)\n",
        "\n",
        "from sklearn.metrics import f1_score\n",
        "f1=f1_score(y_test,y_pred,average=\"binary\")\n",
        "print('f1_score %.3f'%f1)\n"
      ],
      "execution_count": null,
      "outputs": [
        {
          "output_type": "stream",
          "name": "stdout",
          "text": [
            "Accuracy 0.512\n",
            "precision 0.000\n",
            "Recall 0.000\n",
            "f1_score 0.000\n"
          ]
        },
        {
          "output_type": "stream",
          "name": "stderr",
          "text": [
            "/usr/local/lib/python3.7/dist-packages/sklearn/metrics/_classification.py:1318: UndefinedMetricWarning: Precision is ill-defined and being set to 0.0 due to no predicted samples. Use `zero_division` parameter to control this behavior.\n",
            "  _warn_prf(average, modifier, msg_start, len(result))\n"
          ]
        }
      ]
    },
    {
      "cell_type": "markdown",
      "source": [
        "# SVM with 10-fold cross validation"
      ],
      "metadata": {
        "id": "rXgVigDGk7nL"
      }
    },
    {
      "cell_type": "code",
      "source": [
        "#Applying 10-fold cross validation\n",
        "from sklearn.model_selection import cross_val_score\n",
        "from sklearn.model_selection import KFold\n",
        "from statistics import *\n",
        "# prepare the cross-validation procedure\n",
        "cv = KFold(n_splits=10,shuffle=True,random_state=0)\n",
        "# evaluate model\n",
        "from sklearn.svm import SVC\n",
        "classifier=SVC(kernel='linear',random_state=0)\n",
        "scores = cross_val_score(classifier, X, y, scoring='accuracy', cv=cv)\n",
        "recall = cross_val_score(classifier, X, y, scoring='recall', cv=cv)\n",
        "precision = cross_val_score(classifier, X, y, scoring='precision', cv=cv)\n",
        "f1 = cross_val_score(classifier, X, y, scoring='f1', cv=cv)\n",
        "# report performance\n",
        "print('Accuracy %.3f'%mean(scores))\n",
        "print('precision %.3f'%np.mean(precision))\n",
        "print('Recall %.3f'%np.mean(recall))\n",
        "print('f1_score %.3f'%np.mean(f1))"
      ],
      "metadata": {
        "colab": {
          "base_uri": "https://localhost:8080/"
        },
        "id": "PG54BLWVgIjz",
        "outputId": "add62882-c02e-47a1-d6b5-0f7f67fb30b2"
      },
      "execution_count": null,
      "outputs": [
        {
          "output_type": "stream",
          "name": "stderr",
          "text": [
            "/usr/local/lib/python3.7/dist-packages/sklearn/metrics/_classification.py:1318: UndefinedMetricWarning: Precision is ill-defined and being set to 0.0 due to no predicted samples. Use `zero_division` parameter to control this behavior.\n",
            "  _warn_prf(average, modifier, msg_start, len(result))\n",
            "/usr/local/lib/python3.7/dist-packages/sklearn/metrics/_classification.py:1318: UndefinedMetricWarning: Precision is ill-defined and being set to 0.0 due to no predicted samples. Use `zero_division` parameter to control this behavior.\n",
            "  _warn_prf(average, modifier, msg_start, len(result))\n",
            "/usr/local/lib/python3.7/dist-packages/sklearn/metrics/_classification.py:1318: UndefinedMetricWarning: Precision is ill-defined and being set to 0.0 due to no predicted samples. Use `zero_division` parameter to control this behavior.\n",
            "  _warn_prf(average, modifier, msg_start, len(result))\n",
            "/usr/local/lib/python3.7/dist-packages/sklearn/metrics/_classification.py:1318: UndefinedMetricWarning: Precision is ill-defined and being set to 0.0 due to no predicted samples. Use `zero_division` parameter to control this behavior.\n",
            "  _warn_prf(average, modifier, msg_start, len(result))\n",
            "/usr/local/lib/python3.7/dist-packages/sklearn/metrics/_classification.py:1318: UndefinedMetricWarning: Precision is ill-defined and being set to 0.0 due to no predicted samples. Use `zero_division` parameter to control this behavior.\n",
            "  _warn_prf(average, modifier, msg_start, len(result))\n",
            "/usr/local/lib/python3.7/dist-packages/sklearn/metrics/_classification.py:1318: UndefinedMetricWarning: Precision is ill-defined and being set to 0.0 due to no predicted samples. Use `zero_division` parameter to control this behavior.\n",
            "  _warn_prf(average, modifier, msg_start, len(result))\n",
            "/usr/local/lib/python3.7/dist-packages/sklearn/metrics/_classification.py:1318: UndefinedMetricWarning: Precision is ill-defined and being set to 0.0 due to no predicted samples. Use `zero_division` parameter to control this behavior.\n",
            "  _warn_prf(average, modifier, msg_start, len(result))\n",
            "/usr/local/lib/python3.7/dist-packages/sklearn/metrics/_classification.py:1318: UndefinedMetricWarning: Precision is ill-defined and being set to 0.0 due to no predicted samples. Use `zero_division` parameter to control this behavior.\n",
            "  _warn_prf(average, modifier, msg_start, len(result))\n",
            "/usr/local/lib/python3.7/dist-packages/sklearn/metrics/_classification.py:1318: UndefinedMetricWarning: Precision is ill-defined and being set to 0.0 due to no predicted samples. Use `zero_division` parameter to control this behavior.\n",
            "  _warn_prf(average, modifier, msg_start, len(result))\n",
            "/usr/local/lib/python3.7/dist-packages/sklearn/metrics/_classification.py:1318: UndefinedMetricWarning: Precision is ill-defined and being set to 0.0 due to no predicted samples. Use `zero_division` parameter to control this behavior.\n",
            "  _warn_prf(average, modifier, msg_start, len(result))\n"
          ]
        },
        {
          "output_type": "stream",
          "name": "stdout",
          "text": [
            "Accuracy 0.524\n",
            "precision 0.000\n",
            "Recall 0.000\n",
            "f1_score 0.000\n"
          ]
        }
      ]
    },
    {
      "cell_type": "markdown",
      "source": [
        "# Decision Tree with 80:20 spliting"
      ],
      "metadata": {
        "id": "2pLh4aoB9LVa"
      }
    },
    {
      "cell_type": "code",
      "source": [
        "#Splitting the dataset into training set and test set\n",
        "from sklearn.model_selection import train_test_split\n",
        "X_train,X_test,y_train,y_test= train_test_split(X,y,test_size=0.2,random_state=1)\n",
        "print(X)"
      ],
      "metadata": {
        "colab": {
          "base_uri": "https://localhost:8080/"
        },
        "id": "2e6fYwX99a7T",
        "outputId": "9a4fb237-7ae7-4adf-bfab-f39bc37466e4"
      },
      "execution_count": null,
      "outputs": [
        {
          "output_type": "stream",
          "name": "stdout",
          "text": [
            "[[0, 0, 0, 0, 0, 0.0104539439851942, 0, 0, 0, 0, 0, 0, 0, 0, 0, 0, 0, 0, 0, 0, 0, 0, 0, 0, 0, 0, 0, 0, 0, 0, 0, 0, 0, 0, 0, 0, 0, 0, 0, 0, 0, 0, 0, 0, 0, 0, 0, 0, 0, 0, 0, 0, 0, 0], [0.012333311457186937, 0, 0.009670199446845799, 0.004803649918176234, 0.010456243525259196, 0, 0, 0, 0, 0.010456243525259196, 0.004803649918176234, 0, 0.0013589951646281405, 0, 0.003900494877016172, 0, 0, 0, 0, 0, 0, 0, 0, 0, 0, 0, 0, 0, 0, 0, 0, 0, 0, 0, 0, 0, 0, 0, 0, 0, 0, 0, 0, 0, 0, 0, 0, 0, 0, 0, 0, 0, 0, 0], [0.0035800947027746586, 0.018780211105477066, 0.007955136921955272, 0, 0.005423012659302912, 0, 0.003718848031130619, 0.018780211105477066, 0, 0, 0, 0, 0, 0, 0, 0, 0, 0, 0, 0, 0, 0, 0, 0, 0, 0, 0, 0, 0, 0, 0, 0, 0, 0, 0, 0, 0, 0, 0, 0, 0, 0, 0, 0, 0, 0, 0, 0, 0, 0, 0, 0, 0, 0], [0, 0.005423012659302912, 0.007885654815472662, 0.013961807426530868, 0.018780211105477066, 0.021911076959804633, 0, 0.009062755212653428, 0.00479595081473235, 0.0037486705265473573, 0.018780211105477066, 0.021911076959804633, 0.007885654815472662, 0, 0, 0, 0, 0, 0, 0, 0, 0, 0, 0, 0, 0, 0, 0, 0, 0, 0, 0, 0, 0, 0, 0, 0, 0, 0, 0, 0, 0, 0, 0, 0, 0, 0, 0, 0, 0, 0, 0, 0, 0], [0.00820138094946742, 0.002984581945784157, 0.0025138584442902356, 0.005137940256099682, 0.021911076959804633, 0, 0.021911076959804633, 0, 0, 0, 0, 0, 0, 0, 0, 0, 0, 0, 0, 0, 0, 0, 0, 0, 0, 0, 0, 0, 0, 0, 0, 0, 0, 0, 0, 0, 0, 0, 0, 0, 0, 0, 0, 0, 0, 0, 0, 0, 0, 0, 0, 0, 0, 0], [0.0025610892141412476, 0.0013662435638252645, 0.0023140144150238483, 0, 0.0028220192321168724, 0, 0, 0, 0.021911076959804633, 0, 0, 0, 0, 0, 0, 0, 0, 0, 0, 0, 0, 0, 0, 0, 0, 0, 0, 0, 0, 0, 0, 0, 0, 0, 0, 0, 0, 0, 0, 0, 0, 0, 0, 0, 0, 0, 0, 0, 0, 0, 0, 0, 0, 0], [0.004088982024695724, 0.005808940853239619, 0, 0, -0.0027303162826865447, 0, 0, 0.021911076959804633, 0.004857929669087753, 0.004261096743866801, 0, 0, 0, 0, 0, 0, 0, 0, 0, 0, 0, 0, 0, 0, 0, 0, 0, 0, 0, 0, 0, 0, 0, 0, 0, 0, 0, 0, 0, 0, 0, 0, 0, 0, 0, 0, 0, 0, 0, 0, 0, 0, 0, 0], [0, 0.0009915670281043275, 0, 0, 0.021911076959804633, 0, 0.003079380203271285, 0, 0, 0, 0, 0, 0, 0, 0, 0, 0, 0, 0, 0, 0, 0, 0, 0, 0, 0, 0, 0, 0, 0, 0, 0, 0, 0, 0, 0, 0, 0, 0, 0, 0, 0, 0, 0, 0, 0, 0, 0, 0, 0, 0, 0, 0, 0], [0, 0.013081385986879468, 0.006014448357746005, 0, 0, 0, 0.006342179416678846, 0.0028220192321168724, 0, 0, 0.004088982024695724, 0, 0, 0.004762614017381566, 0, 0, 0, 0, 0, 0, 0, 0, 0, 0, 0, 0, 0, 0, 0, 0, 0, 0, 0, 0, 0, 0, 0, 0, 0, 0, 0, 0, 0, 0, 0, 0, 0, 0, 0, 0, 0, 0, 0, 0], [0.010687941344658612, 0.008615999628091231, 0.005407290417933836, 0.004387113240663893, 0.003448162187123671, 0, 0.021911076959804633, 0.00629557338077575, 0, 0.009321353193372487, 0.00599917630868731, 0, 0.009849514192901553, 0, 0, 0, 0, 0, 0, 0, 0, 0, 0, 0, 0, 0, 0, 0, 0, 0, 0, 0, 0, 0, 0, 0, 0, 0, 0, 0, 0, 0, 0, 0, 0, 0, 0, 0, 0, 0, 0, 0, 0, 0], [0, 0.011783356991363689, 0, 0.004062576834403444, 0.0023042819811962545, 0, 0, 0, 0, 0, 0, 0, 0, 0, 0, 0, 0, 0, 0, 0, 0, 0, 0, 0, 0, 0, 0, 0, 0, 0, 0, 0, 0, 0, 0, 0, 0, 0, 0, 0, 0, 0, 0, 0, 0, 0, 0, 0, 0, 0, 0, 0, 0, 0], [0, 0, 0, 0, 0.0037486705265473573, 0.018780211105477066, 0, 0, 0.018780211105477066, 0, 0, 0, 0, 0, 0, 0, 0, 0, 0, 0, 0, 0, 0, 0, 0, 0, 0, 0, 0, 0, 0, 0, 0, 0, 0, 0, 0, 0, 0, 0, 0, 0, 0, 0, 0, 0, 0, 0, 0, 0, 0, 0, 0, 0], [0.004900831277482211, 0.013081385986879468, 0.005861717363586649, 0.006640149247832596, 0.004974764182697981, 0, 0, 0.0032367902022087947, 0, 0, 0, 0, 0, 0, 0, 0, 0, 0, 0, 0, 0, 0, 0, 0, 0, 0, 0, 0, 0, 0, 0, 0, 0, 0, 0, 0, 0, 0, 0, 0, 0, 0, 0, 0, 0, 0, 0, 0, 0, 0, 0, 0, 0, 0], [0, 0, 0.011783356991363689, 0.008384832798037678, 0, 0.005929450906696729, 0.021911076959804633, 0.0030494545213878154, 0.0029245092638302593, 0, 0, 0, 0, 0, 0.0025610892141412476, 0.005609775264747441, 0, 0, 0, 0, 0, 0, 0, 0, 0, 0, 0, 0, 0, 0, 0, 0, 0, 0, 0, 0, 0, 0, 0, 0, 0, 0, 0, 0, 0, 0, 0, 0, 0, 0, 0, 0, 0, 0], [0.003553662784397602, 0.002242506952024996, 0.021911076959804633, 0, 0, 0, 0, 0, 0, 0, 0, 0, 0, 0, 0, 0, 0, 0, 0, 0, 0, 0, 0, 0, 0, 0, 0, 0, 0, 0, 0, 0, 0, 0, 0, 0, 0, 0, 0, 0, 0, 0, 0, 0, 0, 0, 0, 0, 0, 0, 0, 0, 0, 0], [0, 0.004135885057039559, 0.004333774293772876, 0, 0.021911076959804633, 0.007619252814911306, 0.0087313675833866, 0.005009827462490648, 0.010212600417435169, 0.021911076959804633, 0, 0, 0, 0, 0, 0, 0, 0, 0, 0, 0, 0, 0, 0, 0, 0, 0, 0, 0, 0, 0, 0, 0, 0, 0, 0, 0, 0, 0, 0, 0, 0, 0, 0, 0, 0, 0, 0, 0, 0, 0, 0, 0, 0], [0.005459203681675717, 0, -1.030107552651316e-05, 0.021911076959804633, 0.005270850855158642, 0.0033612935594283045, 0, 0, 0, 0.002984581945784157, 0, 0, 0.021911076959804633, 0.005066851952578872, 0, 0, 0.007573577610310167, 0.021911076959804633, 0.0013083024561638013, 0, 0, 0, 0, 0, 0, 0, 0, 0, 0, 0, 0, 0, 0, 0, 0, 0, 0, 0, 0, 0, 0, 0, 0, 0, 0, 0, 0, 0, 0, 0, 0, 0, 0, 0], [0.021911076959804633, 0.021911076959804633, 0, 0, 0.021911076959804633, 0.0027079001697711646, 0, 0.00558613175409846, 0, 0, 0, 0, 0, 0, 0, 0, 0, 0, 0, 0, 0, 0, 0, 0, 0, 0, 0, 0, 0, 0, 0, 0, 0, 0, 0, 0, 0, 0, 0, 0, 0, 0, 0, 0, 0, 0, 0, 0, 0, 0, 0, 0, 0, 0], [0, 0.006906141615472734, 0.021911076959804633, 0, 0.002984581945784157, 0, 0, 0, 0, 0, 0, 0, 0, 0, 0, 0, 0, 0, 0, 0, 0, 0, 0, 0, 0, 0, 0, 0, 0, 0, 0, 0, 0, 0, 0, 0, 0, 0, 0, 0, 0, 0, 0, 0, 0, 0, 0, 0, 0, 0, 0, 0, 0, 0], [0.009321353193372487, 0.013081385986879468, 0.003448162187123671, 0, 0, 0, 0, 0, 0, 0, 0, 0, 0, 0, 0, 0, 0, 0, 0, 0, 0, 0, 0, 0, 0, 0, 0, 0, 0, 0, 0, 0, 0, 0, 0, 0, 0, 0, 0, 0, 0, 0, 0, 0, 0, 0, 0, 0, 0, 0, 0, 0, 0, 0], [0, 0, 0, 0, 0, 0, 0.0018435810842493084, 0.0023042819811962545, 0, 0, 0, 0, 0, 0, 0, 0, 0, 0, 0, 0, 0, 0, 0, 0, 0, 0, 0, 0, 0, 0, 0, 0, 0, 0, 0, 0, 0, 0, 0, 0, 0, 0, 0, 0, 0, 0, 0, 0, 0, 0, 0, 0, 0, 0], [0.013081385986879468, 0.009972903087327723, 0.0033612935594283045, 0.0017453991188085638, 0.004062576834403444, 0, 0, 0, 0, 0, 0, 0, 0, 0, 0, 0, 0, 0, 0, 0, 0, 0, 0, 0, 0, 0, 0, 0, 0, 0, 0, 0, 0, 0, 0, 0, 0, 0, 0, 0, 0, 0, 0, 0, 0, 0, 0, 0, 0, 0, 0, 0, 0, 0], [0.018780211105477066, 0, 0, 0.005423012659302912, 0.013961807426530868, 0.018780211105477066, 0.0025579108705278486, 0, -0.0002902647212613374, 0, 0, 0, 0, 0, 0, 0, 0, 0, 0, 0, 0, 0, 0, 0, 0, 0, 0, 0, 0, 0, 0, 0, 0, 0, 0, 0, 0, 0, 0, 0, 0, 0, 0, 0, 0, 0, 0, 0, 0, 0, 0, 0, 0, 0], [0, 0, 0, 0, 0.008384832798037678, 0.000617985233257059, 0.021911076959804633, 0.004135885057039559, 0, 0, 0, 0, 0, 0, 0, 0, 0, 0, 0, 0, 0, 0, 0, 0, 0, 0, 0, 0, 0, 0, 0, 0, 0, 0, 0, 0, 0, 0, 0, 0, 0, 0, 0, 0, 0, 0, 0, 0, 0, 0, 0, 0, 0, 0], [0, 0.013081385986879468, 0.004325853048685531, 0, 0, 0, 0, 0, 0, 0, 0, 0, 0, 0, 0, 0, 0, 0, 0, 0, 0, 0, 0, 0, 0, 0, 0, 0, 0, 0, 0, 0, 0, 0, 0, 0, 0, 0, 0, 0, 0, 0, 0, 0, 0, 0, 0, 0, 0, 0, 0, 0, 0, 0], [0.012333311457186937, 0.004672845379100181, 0.009849514192901553, 0, 0, 0.004672845379100181, 0, 0, 0, 0, 0, 0, 0, 0, 0, 0, 0, 0, 0, 0, 0, 0, 0, 0, 0, 0, 0, 0, 0, 0, 0, 0, 0, 0, 0, 0, 0, 0, 0, 0, 0, 0, 0, 0, 0, 0, 0, 0, 0, 0, 0, 0, 0, 0], [0.012333311457186937, 0, 2.8064374928362666e-05, 0, 0, 0, 0.007200968124670908, 0, 0, 0.0040978914807783436, 0, 0.010076890250202268, 0.005973038374213502, 0, 0.011772906742116902, 0.011772906742116902, 0, 0.009849514192901553, 0, 0, 0, 0, 0, 0, 0, 0, 0, 0, 0, 0, 0, 0, 0, 0, 0, 0, 0, 0, 0, 0, 0, 0, 0, 0, 0, 0, 0, 0, 0, 0, 0, 0, 0, 0], [0.0010871552588650956, 0, 0, 0, 0, 0, 0, 0, 0, 0, 0, 0, 0, 0, 0.008896041447296738, 0, 0.008405648718471638, 0, 0.008595072099706159, 0, 0, 0, 0.006906141615472734, 0, 0, 0, 0, 0, 0, 0, 0, 0, 0, 0, 0, 0, 0, 0, 0, 0, 0, 0, 0, 0, 0, 0, 0, 0, 0, 0, 0, 0, 0, 0], [0.010456243525259196, 0.007416368604172021, 0, 0.010456243525259196, 0.007416368604172021, 0.002993646936956793, 0.008366612775207614, 0.004999528252519667, 0.0024718022462911905, 0.004371776874759235, 0.004531958240550011, 0.009849514192901553, 0.006603947264375165, 0.007053639809601009, 0, 0, 0.00463579706614837, 0, 0.011056487309979275, 0.009849514192901553, 0.012333311457186937, 0.009972903087327723, 0, 0, 0.009849514192901553, 0.012333311457186937, 0.0014948985567025375, 0, 0, 0, 0.004602464619092643, 0.0014948985567025375, 0, 0.006603947264375165, 0, 0, 0.012333311457186937, 0.009849514192901553, 0.008896041447296738, 0.006935624140314758, 0, 0, 0, 0, 0, 0, 0, 0, 0, 0, 0, 0, 0, 0], [0, 0, 0, 0.003085333442140836, 0, 0, 0, 0, 0, 0, 0, 0, 0, 0, 0, 0, 0, 0, 0, 0, 0, 0, 0, 0, 0, 0, 0, 0, 0, 0, 0, 0, 0, 0, 0, 0, 0, 0, 0, 0, 0, 0, 0, 0, 0, 0, 0, 0, 0, 0, 0, 0, 0, 0], [0.021911076959804633, 0.005358639836777002, 0, 0.0025610892141412476, 0.002277512393920915, 0, 0.005929450906696729, 0.005181689184391871, 0, 0, 0, 0, 0, 0, 0, 0, 0, 0, 0, 0, 0, 0, 0, 0, 0, 0, 0, 0, 0, 0, 0, 0, 0, 0, 0, 0, 0, 0, 0, 0, 0, 0, 0, 0, 0, 0, 0, 0, 0, 0, 0, 0, 0, 0], [0.0076260346005437895, 0, 0, 0.013081385986879468, 0.00669992613082286, 0, 0, 0, 0, 0, 0, 0, 0, 0, 0, 0, 0, 0, 0, 0, 0, 0, 0, 0, 0, 0, 0, 0, 0, 0, 0, 0, 0, 0, 0, 0, 0, 0, 0, 0, 0, 0, 0, 0, 0, 0, 0, 0, 0, 0, 0, 0, 0, 0], [0.013081385986879468, 0, 0.013081385986879468, 0.006014448357746005, 0.007317330074092751, 0.004387113240663893, 0, 0, 0, 0, 0, 0, 0, 0, 0, 0, 0, 0, 0, 0, 0, 0, 0, 0, 0, 0, 0, 0, 0, 0, 0, 0, 0, 0, 0, 0, 0, 0, 0, 0, 0, 0, 0, 0, 0, 0, 0, 0, 0, 0, 0, 0, 0, 0], [0, 0, 0, 0, 0.009062755212653428, 0.001574312481097877, 0, 0, 0, 0.007885654815472662, 0, 0, 0, 0, 0, 0, 0, 0, 0, 0, 0, 0, 0, 0, 0, 0, 0, 0, 0, 0, 0, 0, 0, 0, 0, 0, 0, 0, 0, 0, 0, 0, 0, 0, 0, 0, 0, 0, 0, 0, 0, 0, 0, 0], [0.010456243525259196, 0, 0, 0.011260298262350261, 0.021911076959804633, 0.007160692566540092, 0, 0, 0, 0.005541188955539837, 0, 0, 0, 0, 0, 0, 0, 0, 0, 0, 0, 0, 0, 0, 0, 0, 0, 0, 0, 0, 0, 0, 0, 0, 0, 0, 0, 0, 0, 0, 0, 0, 0, 0, 0, 0, 0, 0, 0, 0, 0, 0, 0, 0], [0, 0.004879427684063558, 0.008595072099706159, 0.003225922184064984, 0, 0, 0, 0, 0, 0, 0, 0, 0, 0, 0, 0, 0, 0, 0, 0, 0, 0, 0, 0, 0, 0, 0, 0, 0, 0, 0, 0, 0, 0, 0, 0, 0, 0, 0, 0, 0, 0, 0, 0, 0, 0, 0, 0, 0, 0, 0, 0, 0, 0], [0.0009915670281043275, 0.007619252814911306, 0.0087313675833866, 0.005009827462490648, 0.010212600417435169, 0.001117255136196036, 0, 0.013081385986879468, 0, 0, 0, 0, 0, 0, 0, 0, 0, 0, 0, 0, 0, 0, 0, 0, 0, 0, 0, 0, 0, 0, 0, 0, 0, 0, 0, 0, 0, 0, 0, 0, 0, 0, 0, 0, 0, 0, 0, 0, 0, 0, 0, 0, 0, 0], [0.021911076959804633, 0.005294305666611762, 0, 0.007573577610310167, 0, 0.007056011047097854, 0.004008113062591292, 0.009079633490182459, 0.012333311457186937, 0.0019620056310668587, 0, 0.008896041447296738, 0.007710027979919687, 0, 0, 0, 0, 0, 0, 0, 0, 0, 0, 0, 0, 0, 0, 0, 0, 0, 0, 0, 0, 0, 0, 0, 0, 0, 0, 0, 0, 0, 0, 0, 0, 0, 0, 0, 0, 0, 0, 0, 0, 0], [0.021911076959804633, 0, 0, 0.0014948985567025375, 0, 0, 0, 0, 0, 0, 0, 0, 0, 0, 0, 0, 0, 0, 0, 0, 0, 0, 0, 0, 0, 0, 0, 0, 0, 0, 0, 0, 0, 0, 0, 0, 0, 0, 0, 0, 0, 0, 0, 0, 0, 0, 0, 0, 0, 0, 0, 0, 0, 0], [0.004155018795281649, 0, 0, 0, 0.002757819969119737, 0, 0, 0.009079633490182459, 0.011783356991363689, 0, 0.002286195635970216, 0, 0, 0, 0, 0, 0, 0, 0, 0, 0, 0, 0, 0, 0, 0, 0, 0, 0, 0, 0, 0, 0, 0, 0, 0, 0, 0, 0, 0, 0, 0, 0, 0, 0, 0, 0, 0, 0, 0, 0, 0, 0, 0], [0.011783356991363689, -0.0027303162826865447, 0, 0, 0, 0.006893606712692417, 0.003704766325536184, 0, 0.013081385986879468, 0.010456243525259196, 0, 0, 0.011783356991363689, 0.0038704705481723066, 0, 0, 0, 0, 0, 0, 0, 0, 0, 0, 0, 0, 0, 0, 0, 0, 0, 0, 0, 0, 0, 0, 0, 0, 0, 0, 0, 0, 0, 0, 0, 0, 0, 0, 0, 0, 0, 0, 0, 0], [0.0011946333479136229, 0, 0.006893606712692417, 0.011056487309979275, 0.021911076959804633, 0.011260298262350261, 0.005154816899448633, 0.005541188955539837, 0.0019445237796753645, 0, 0, 0, 0, 0, 0, 0, 0, 0, 0, 0, 0, 0, 0, 0, 0, 0, 0, 0, 0, 0, 0, 0, 0, 0, 0, 0, 0, 0, 0, 0, 0, 0, 0, 0, 0, 0, 0, 0, 0, 0, 0, 0, 0, 0], [0.006893606712692417, 0.011056487309979275, 0, 0.021911076959804633, 0.005358639836777002, 0, 0.006372695593163371, 0, 0, 0.010212600417435169, 0, 0.0062575521483086045, 0.007619252814911306, 0.0046022253343835475, 0.0015877409384120256, 0.011056487309979275, 0, 0, 0, 0, 0, 0, 0, 0, 0, 0, 0, 0, 0, 0, 0, 0, 0, 0, 0, 0, 0, 0, 0, 0, 0, 0, 0, 0, 0, 0, 0, 0, 0, 0, 0, 0, 0, 0], [0, 0.018780211105477066, 0, 0.013081385986879468, 0, 0, 0, 0, 0, 0, 0, 0, 0, 0, 0, 0, 0, 0, 0, 0, 0, 0, 0, 0, 0, 0, 0, 0, 0, 0, 0, 0, 0, 0, 0, 0, 0, 0, 0, 0, 0, 0, 0, 0, 0, 0, 0, 0, 0, 0, 0, 0, 0, 0], [0.013081385986879468, 0, 0.00479869622271508, 0, 0, 0.013081385986879468, 0.003704766325536184, 0.0037227635637100322, 0, 0, 0, 0, 0, 0, 0, 0, 0, 0, 0, 0, 0, 0, 0, 0, 0, 0, 0, 0, 0, 0, 0, 0, 0, 0, 0, 0, 0, 0, 0, 0, 0, 0, 0, 0, 0, 0, 0, 0, 0, 0, 0, 0, 0, 0], [0.005273815686814487, 0.00676110339423758, 0.004174472408703877, 0.003718848031130619, 0.018780211105477066, 0.021911076959804633, 0, 0.0076260346005437895, 0.00669992613082286, 0.018780211105477066, 0, 0, 0, 0, 0, 0, 0, 0, 0, 0, 0, 0, 0, 0, 0, 0, 0, 0, 0, 0, 0, 0, 0, 0, 0, 0, 0, 0, 0, 0, 0, 0, 0, 0, 0, 0, 0, 0, 0, 0, 0, 0, 0, 0], [0.021911076959804633, 0, 0, 0, 0, 0, 0, 0, 0, 0, 0, 0, 0, 0, 0, 0, 0, 0, 0, 0, 0, 0, 0, 0, 0, 0, 0, 0, 0, 0, 0, 0, 0, 0, 0, 0, 0, 0, 0, 0, 0, 0, 0, 0, 0, 0, 0, 0, 0, 0, 0, 0, 0, 0], [0.004174472408703877, 0.004900831277482211, 0.003971495085861534, 0.004144498145869875, 0, 0, 0, 0.021911076959804633, 0, 0.007885654815472662, 0.0012642589129973202, 0.009351481785997748, 0.007053639809601009, 0, 0, 0, 0, 0, 0, 0, 0, 0, 0, 0, 0, 0, 0, 0, 0, 0, 0, 0, 0, 0, 0, 0, 0, 0, 0, 0, 0, 0, 0, 0, 0, 0, 0, 0, 0, 0, 0, 0, 0, 0], [0.011783356991363689, 0, 0, 0, 0, 0, 0, 0, 0, 0, 0, 0, 0, 0, 0, 0, 0, 0, 0, 0, 0, 0, 0, 0, 0, 0, 0, 0, 0, 0, 0, 0, 0, 0, 0, 0, 0, 0, 0, 0, 0, 0, 0, 0, 0, 0, 0, 0, 0, 0, 0, 0, 0, 0], [0.00487159380223602, 0, 0.0024718022462911905, 0.00487159380223602, 0.0056350874487543475, 0.009849514192901553, 0.006603947264375165, 0.006830525555415079, 0, 0, 0, 0.021911076959804633, 0, 0.0019620056310668587, 0.007053639809601009, 0, 0, 0, 0, 0, 0, 0, 0, 0, 0, 0, 0, 0, 0, 0, 0, 0, 0, 0, 0, 0, 0, 0, 0, 0, 0, 0, 0, 0, 0, 0, 0, 0, 0, 0, 0, 0, 0, 0], [0.008384832798037678, 0, 0, 0.021911076959804633, 0.00290492742031347, 0.0018435810842493084, 0, 0, 0, 0, 0, 0, 0, 0, 0, 0, 0.004144498145869875, 0, 0, 0, 0, 0, 0, 0, 0, 0, 0, 0, 0, 0, 0, 0, 0, 0, 0, 0, 0, 0, 0, 0, 0, 0, 0, 0, 0, 0, 0, 0, 0, 0, 0, 0, 0, 0], [0.0005533947073854506, 0, 0, 0, 0, 0, 0, 0, 0, 0, 0, 0, 0, 0, 0, 0, 0, 0, 0, 0, 0, 0, 0, 0, 0, 0, 0, 0, 0, 0, 0, 0, 0, 0, 0, 0, 0, 0, 0, 0, 0, 0, 0, 0, 0, 0, 0, 0, 0, 0, 0, 0, 0, 0], [0.00393807357060723, 0.00400205964280758, 0, 0, 0.005929450906696729, 0, 0.009321353193372487, 0.021911076959804633, 0.0032367902022087947, 0, 0, 0.0009670209136675112, 0, 0.0009670209136675112, 0, 0, 0, 0, 0, 0, 0, 0, 0, 0, 0, 0, 0, 0, 0, 0, 0, 0, 0, 0, 0, 0, 0, 0, 0, 0, 0, 0, 0, 0, 0, 0, 0, 0, 0, 0, 0, 0, 0, 0], [0, 0.010456243525259196, 0.011260298262350261, 0, 0.013081385986879468, 0, 0.0011946333479136229, 0.002277512393920915, 0, 0.0042117861763108526, 0, 0, 0.0029551934415940197, 0.013081385986879468, 0.009972903087327723, 0, 0, 0, 0, 0, 0, 0, 0, 0, 0, 0, 0, 0, 0, 0, 0, 0, 0, 0, 0, 0, 0, 0, 0, 0, 0, 0, 0, 0, 0, 0, 0, 0, 0, 0, 0, 0, 0, 0], [0, 0.0019006309797987343, 0.0047591373324394224, 0, 0.013081385986879468, 0, 0, 0, 0, 0, 0, 0, 0, 0, 0, 0, 0, 0, 0, 0, 0, 0, 0, 0, 0, 0, 0, 0, 0, 0, 0, 0, 0, 0, 0, 0, 0, 0, 0, 0, 0, 0, 0, 0, 0, 0, 0, 0, 0, 0, 0, 0, 0, 0], [0.013081385986879468, 0.007955136921955272, 0.008896041447296738, 0.00438595422252547, 0.0076260346005437895, 0.004285012255422771, 0, 0, 0, 0, 0, 0, 0, 0, 0, 0, 0, 0, 0, 0, 0, 0, 0, 0, 0, 0, 0, 0, 0, 0, 0, 0, 0, 0, 0, 0, 0, 0, 0, 0, 0, 0, 0, 0, 0, 0, 0, 0, 0, 0, 0, 0, 0, 0], [0, 0.011783356991363689, 0.018780211105477066, 0.006346868523396551, 0, 0, 0, 0, 0, 0, 0, 0, 0, 0, 0, 0, 0, 0, 0, 0, 0, 0, 0, 0, 0, 0, 0, 0, 0, 0, 0, 0, 0, 0, 0, 0, 0, 0, 0, 0, 0, 0, 0, 0, 0, 0, 0, 0, 0, 0, 0, 0, 0, 0], [0, 0.013081385986879468, 0.009972903087327723, 0, 0, 0.007053639809601009, 0, 0, 0, 0, 0, 0, 0, 0, 0, 0, 0, 0, 0, 0, 0, 0, 0, 0, 0, 0, 0, 0, 0, 0, 0, 0, 0, 0, 0, 0, 0, 0, 0, 0, 0, 0, 0, 0, 0, 0, 0, 0, 0, 0, 0, 0, 0, 0], [0, 0.021911076959804633, 0, 0.004760817767528351, 0, 0.010456243525259196, 0.0018721467698924244, 0.021911076959804633, 0.003448162187123671, 0, 0.004602464619092643, 0.0056350874487543475, 0.021911076959804633, 0, 0.007650797410169616, 0.01141196773503907, 0.004765153521439061, 0.00463579706614837, 0, 0, 0.006830525555415079, 0.0006875827303156256, 0, 0, 0, 0, 0, 0, 0, 0, 0, 0, 0, 0, 0, 0, 0, 0, 0, 0, 0, 0, 0, 0, 0, 0, 0, 0, 0, 0, 0, 0, 0, 0], [0.004159468441503123, 0.0003125323075801134, 0, 0.021911076959804633, 0, 0.0037522187491413205, 0, 0, 0, 0, 0, 0, 0, 0, 0, 0, 0, 0, 0, 0, 0, 0, 0, 0, 0, 0, 0, 0, 0, 0, 0, 0, 0, 0, 0, 0, 0, 0, 0, 0, 0, 0, 0, 0, 0, 0, 0, 0, 0, 0, 0, 0, 0, 0], [0.003954554310184904, 0.021911076959804633, 0.004436952991527505, 0.011772906742116902, 0.006295382839161903, 0, 0.011772906742116902, 0.0062575521483086045, 0.005339696251321584, -0.0003362944605760276, 0.005459203681675717, 0, 0.021911076959804633, 0.004436952991527505, 0.011772906742116902, 0.006295382839161903, 0, 0.011772906742116902, 0.0062575521483086045, 0.005339696251321584, -0.0003362944605760276, 0.005459203681675717, 0.005864947179798036, 0, 0, 0, 0, 0, 0, 0, 0, 0, 0, 0, 0, 0, 0, 0, 0, 0, 0, 0, 0, 0, 0, 0, 0, 0, 0, 0, 0, 0, 0, 0], [0, 0.008595072099706159, 0.021911076959804633, 0, 0, 0.006372695593163371, 0.00479869622271508, 0.0054919070517644285, 0, 0, 0.021911076959804633, 0.004491522522512241, 0.004602464619092643, 0, 0, 0, 0, 0, 0, 0, 0, 0, 0, 0, 0, 0, 0, 0, 0, 0, 0, 0, 0, 0, 0, 0, 0, 0, 0, 0, 0, 0, 0, 0, 0, 0, 0, 0, 0, 0, 0, 0, 0, 0], [0.013081385986879468, 0, 0.008366612775207614, -0.0008510353573365137, 0, 0, 0, 0, 0, 0, 0, 0, 0, 0, 0, 0, 0, 0, 0, 0, 0, 0, 0, 0, 0, 0, 0, 0, 0, 0, 0, 0, 0, 0, 0, 0, 0, 0, 0, 0, 0, 0, 0, 0, 0, 0, 0, 0, 0, 0, 0, 0, 0, 0], [0.021911076959804633, 0.000905002634972334, 0.0037843242660164835, 0, 0, 0, 0, 0, 0, 0, 0, 0, 0, 0, 0, 0, 0, 0, 0, 0, 0, 0, 0, 0, 0, 0, 0, 0, 0, 0, 0, 0, 0, 0, 0, 0, 0, 0, 0, 0, 0, 0, 0, 0, 0, 0, 0, 0, 0, 0, 0, 0, 0, 0], [0.021911076959804633, 0.004974764182697981, 0, 0.0026330027834046634, 0.009849514192901553, 0, 0.021911076959804633, 0.0027217954643128906, 0, 0, 0, 0, 0, 0, 0, 0, 0, 0, 0, 0, 0, 0, 0, 0, 0, 0, 0, 0, 0, 0, 0, 0, 0, 0, 0, 0, 0, 0, 0, 0, 0, 0, 0, 0, 0, 0, 0, 0, 0, 0, 0, 0, 0, 0], [0.021911076959804633, 0.0021095626791066023, 0, 0.008896041447296738, 0.002886687439167872, 0.005105516132898629, 0, 0, 0, 0, 0, 0, 0, 0, 0, 0, 0, 0, 0, 0, 0, 0, 0, 0, 0, 0, 0, 0, 0, 0, 0, 0, 0, 0, 0, 0, 0, 0, 0, 0, 0, 0, 0, 0, 0, 0, 0, 0, 0, 0, 0, 0, 0, 0], [0.004174472408703877, 0.013081385986879468, 0.005861717363586649, 0.00717169804032892, 0.018780211105477066, 0.0037486705265473573, 0.018780211105477066, 0.0018867091269930824, 0.0037258451245725157, 0, 0, 0, 0, 0, 0, 0, 0, 0, 0, 0, 0, 0, 0, 0, 0, 0, 0, 0, 0, 0, 0, 0, 0, 0, 0, 0, 0, 0, 0, 0, 0, 0, 0, 0, 0, 0, 0, 0, 0, 0, 0, 0, 0, 0], [0.008405648718471638, 0, 0, 0.007885654815472662, 0, 0, 0, 0, 0, 0, 0, 0, 0, 0, 0, 0, 0, 0, 0, 0, 0, 0, 0, 0, 0, 0, 0, 0, 0, 0, 0, 0, 0, 0, 0, 0, 0, 0, 0, 0, 0, 0, 0, 0, 0, 0, 0, 0, 0, 0, 0, 0, 0, 0], [0.008595072099706159, 0, 0, 0.021911076959804633, 0, 0, 0, 0, 0, 0, 0, 0, 0, 0, 0, 0, 0, 0, 0, 0, 0, 0, 0, 0, 0, 0, 0, 0, 0, 0, 0, 0, 0, 0, 0, 0, 0, 0, 0, 0, 0, 0, 0, 0, 0, 0, 0, 0, 0, 0, 0, 0, 0, 0], [0.0001460871344897896, 0.011783356991363689, 0.009351481785997748, 0.0010148012406716589, 0.007053639809601009, 0.003421361803775653, 0.002993646936956793, 0.005181689184391871, 0.004008113062591292, 0, 0, 0, 0, 0, 0, 0, 0, 0, 0, 0, 0, 0, 0, 0, 0, 0, 0, 0, 0, 0, 0, 0, 0, 0, 0, 0, 0, 0, 0, 0, 0, 0, 0, 0, 0, 0, 0, 0, 0, 0, 0, 0, 0, 0], [0.013081385986879468, 0.007955136921955272, 0, 0.00717169804032892, 0.009261562030296773, 0, 0.021911076959804633, 0.007955136921955272, 0.009670199446845799, 0, 0.009261562030296773, 0.00595191415573936, 0, 0.005154816899448633, 0.004371776874759235, 0.008095858281012624, 0.013081385986879468, 0.009972903087327723, 0, 0, 0, 0, 0, 0, 0, 0, 0, 0, 0, 0, 0, 0, 0, 0, 0, 0, 0, 0, 0, 0, 0, 0, 0, 0, 0, 0, 0, 0, 0, 0, 0, 0, 0, 0], [0.0005533947073854506, 0, 0, 0, 0, 0, 0, 0, 0, 0, 0, 0, 0, 0, 0, 0, 0, 0, 0, 0, 0, 0, 0, 0, 0, 0, 0, 0, 0, 0, 0, 0, 0, 0, 0, 0, 0, 0, 0, 0, 0, 0, 0, 0, 0, 0, 0, 0, 0, 0, 0, 0, 0, 0], [0, 0.009261562030296773, 0, 0.0013589951646281405, 0, 0.006640149247832596, 0.006935624140314758, 0, 0, 0, 0, 0, 0, 0, 0, 0, 0, 0, 0, 0, 0, 0, 0, 0, 0, 0, 0, 0, 0, 0, 0, 0, 0, 0, 0, 0, 0, 0, 0, 0, 0, 0, 0, 0, 0, 0, 0, 0, 0, 0, 0, 0, 0, 0], [0.005609775264747441, 0, 0, 0.007234833455295302, 0.021911076959804633, 0.01004290053853765, 0.007317330074092751, 0, 0, 0, 0, 0, 0, 0, 0, 0, 0, 0, 0, 0, 0, 0, 0, 0, 0, 0, 0, 0, 0, 0, 0, 0, 0, 0, 0, 0, 0, 0, 0, 0, 0, 0, 0, 0, 0, 0, 0, 0, 0, 0, 0, 0, 0, 0], [0.021911076959804633, 0.006014448357746005, 0.004491522522512241, 0.003671275819360744, 0.00669992613082286, 0.006935624140314758, 0.00438595422252547, 0.006640149247832596, 0, 0, 0, 0, 0, 0, 0, 0, 0, 0, 0, 0, 0, 0, 0, 0, 0, 0, 0, 0, 0, 0, 0, 0, 0, 0, 0, 0, 0, 0, 0, 0, 0, 0, 0, 0, 0, 0, 0, 0, 0, 0, 0, 0, 0, 0], [0.004330233988002874, 0, 0.003954554310184904, 0, 0, 0.021911076959804633, 0.006014448357746005, 0.009670199446845799, 0, 0.004762614017381566, 0, 0, 0, 0, 0, 0, 0, 0, 0, 0, 0, 0, 0, 0, 0, 0, 0, 0, 0, 0, 0, 0, 0, 0, 0, 0, 0, 0, 0, 0, 0, 0, 0, 0, 0, 0, 0, 0, 0, 0, 0, 0, 0, 0], [0.011772906742116902, 0.000617985233257059, 0, 0.0029245092638302593, 0.0011680733051616697, 0.011056487309979275, 0.0062575521483086045, 0.021911076959804633, 0.006347513883374631, 0.002142472059058491, 0, 0, 0, 0, 0, 0, 0, 0, 0, 0, 0, 0, 0, 0, 0, 0, 0, 0, 0, 0, 0, 0, 0, 0, 0, 0, 0, 0, 0, 0, 0, 0, 0, 0, 0, 0, 0, 0, 0, 0, 0, 0, 0, 0], [0, 0.003718848031130619, 0.018780211105477066, -0.0027303162826865447, 0, 0.013081385986879468, 0.003704766325536184, 0, 0, 0, 0.0012770785321481527, 0, 0.0076260346005437895, 0.002660141712985933, 0, 0, 0, 0, 0, 0, 0, 0, 0, 0, 0, 0, 0, 0, 0, 0, 0, 0, 0, 0, 0, 0, 0, 0, 0, 0, 0, 0, 0, 0, 0, 0, 0, 0, 0, 0, 0, 0, 0, 0], [0, 0, 0.00711763059720397, 0.0047591373324394224, 0.005172213345067575, 0, 0, 0.005172213345067575, 0, 0, 0.008410259273368866, 0.004261014768853783, 0, 0, 0, 0, 0, 0, 0, 0, 0, 0, 0, 0, 0, 0, 0, 0, 0, 0, 0, 0, 0, 0, 0, 0, 0, 0, 0, 0, 0, 0, 0, 0, 0, 0, 0, 0, 0, 0, 0, 0, 0, 0], [0.004333774293772876, 0.021911076959804633, 0.008896041447296738, 0, 0, 0, 0, 0, 0, 0, 0, 0, 0, 0, 0, 0, 0, 0, 0, 0, 0, 0, 0, 0, 0, 0, 0, 0, 0, 0, 0, 0, 0, 0, 0, 0, 0, 0, 0, 0, 0, 0, 0, 0, 0, 0, 0, 0, 0, 0, 0, 0, 0, 0], [0.018780211105477066, 0.021911076959804633, 0.002615711437538266, 0, 0, 0, 0.0001885391178075224, 0, 0, 0, 0, 0, 0, 0, 0, 0, 0, 0, 0, 0, 0, 0, 0, 0, 0, 0, 0, 0, 0, 0, 0, 0, 0, 0, 0, 0, 0, 0, 0, 0, 0, 0, 0, 0, 0, 0, 0, 0, 0, 0, 0, 0, 0, 0], [0.006398396545555443, 0.00438595422252547, 0, 0.00711763059720397, 0, 0, 0, 0, 0, 0, 0, 0, 0, 0, 0, 0, 0, 0, 0, 0, 0, 0, 0, 0, 0, 0, 0, 0, 0, 0, 0, 0, 0, 0, 0, 0, 0, 0, 0, 0, 0, 0, 0, 0, 0, 0, 0, 0, 0, 0, 0, 0, 0, 0], [0.021911076959804633, 0.004436952991527505, 0.018780211105477066, 0, 0, 0, 0, 0, 0, 0, 0, 0, 0, 0, 0, 0, 0, 0, 0, 0, 0, 0, 0, 0, 0, 0, 0, 0, 0, 0, 0, 0, 0, 0, 0, 0, 0, 0, 0, 0, 0, 0, 0, 0, 0, 0, 0, 0, 0, 0, 0, 0, 0, 0], [0.004088982024695724, 0, 0.0025610892141412476, 0.002277512393920915, 0, 0.005929450906696729, 0.005181689184391871, 0, 0, 0, 0, 0, 0, 0, 0, 0, 0, 0, 0, 0, 0, 0, 0, 0, 0, 0, 0, 0, 0, 0, 0, 0, 0, 0, 0, 0, 0, 0, 0, 0, 0, 0, 0, 0, 0, 0, 0, 0, 0, 0, 0, 0, 0, 0], [0, 0, 0.00717169804032892, 0, 0.013081385986879468, 0.0018529881141148507, 0.009849514192901553, 0.004387113240663893, 0.006640149247832596, 0, 0, 0, 0, 0, 0, 0, 0, 0, 0, 0, 0, 0, 0, 0, 0, 0, 0, 0, 0, 0, 0, 0, 0, 0, 0, 0, 0, 0, 0, 0, 0, 0, 0, 0, 0, 0, 0, 0, 0, 0, 0, 0, 0, 0], [0, 0.012333311457186937, 0, 0, 0, 0.0033612935594283045, 0, 0, 0.008384832798037678, 0.012333311457186937, 0, 0, 0, 0, 0, 0, 0, 0, 0, 0, 0, 0, 0, 0, 0, 0, 0, 0, 0, 0, 0, 0, 0, 0, 0, 0, 0, 0, 0, 0, 0, 0, 0, 0, 0, 0, 0, 0, 0, 0, 0, 0, 0, 0], [0.0001460871344897896, 0.021911076959804633, 0.007955136921955272, 0, 0.0042117861763108526, 0.00629557338077575, 0, 0.021911076959804633, 0.006569897560402751, 0, 0, 0.021911076959804633, 0.007955136921955272, 0.0012475030761561357, 0.005423012659302912, 0.0042117861763108526, 0.00629557338077575, 0, 0, 0, 0, 0, 0, 0, 0, 0, 0, 0, 0, 0, 0, 0, 0, 0, 0, 0, 0, 0, 0, 0, 0, 0, 0, 0, 0, 0, 0, 0, 0, 0, 0, 0, 0, 0], [0.008405648718471638, 0.010456243525259196, 0, 0.004524139147542882, 0, 0, 0, 0, 0, 0, 0.0009915670281043275, 0.0086335178965237, 0.0018435810842493084, 0.0023042819811962545, 0, 0, 0, 0, 0, 0, 0, 0, 0, 0, 0, 0, 0, 0, 0, 0, 0, 0, 0, 0, 0, 0, 0, 0, 0, 0, 0, 0, 0, 0, 0, 0, 0, 0, 0, 0, 0, 0, 0, 0], [0, 0.021911076959804633, 0.003704766325536184, 0.004371776874759235, 0, 0, 0, 0, 0, 0.021911076959804633, 0.004857929669087753, 0, 0.008366612775207614, 0, 0.021911076959804633, 0.004857929669087753, 0.007053639809601009, 0, 0, 0, 0, 0, 0, 0, 0, 0, 0, 0, 0, 0, 0, 0, 0, 0, 0, 0, 0, 0, 0, 0, 0, 0, 0, 0, 0, 0, 0, 0, 0, 0, 0, 0, 0, 0], [0.021911076959804633, 0.0020153674695757217, 0.004155018795281649, 0.005070603920030408, 0.005354879808146506, 0.021911076959804633, 0, 0, 0.021911076959804633, 0.006893606712692417, 0.009849514192901553, 0.004765153521439061, 0, 0, 0.010456243525259196, 0.0068672005683765745, 0, 0.004159468441503123, 0.007056011047097854, 0, 0, 0, 0, 0, 0, 0, 0, 0, 0, 0, 0, 0, 0, 0, 0, 0, 0, 0, 0, 0, 0, 0, 0, 0, 0, 0, 0, 0, 0, 0, 0, 0, 0, 0], [0.011783356991363689, 0.009351481785997748, 0.005830539440648863, 0.005047407418023795, 0.0047591373324394224, 0, 0, 0, 0, 0, 0, 0, 0, 0, 0, 0, 0, 0, 0, 0, 0, 0, 0, 0, 0, 0, 0, 0, 0, 0, 0, 0, 0, 0, 0, 0, 0, 0, 0, 0, 0, 0, 0, 0, 0, 0, 0, 0, 0, 0, 0, 0, 0, 0], [0, 0, 0.0043688107602065426, 0, 0, 0, 0, 0, 0, 0, 0, 0, 0, 0, 0, 0, 0, 0, 0, 0, 0, 0, 0, 0, 0, 0, 0, 0, 0, 0, 0, 0, 0, 0, 0, 0, 0, 0, 0, 0, 0, 0, 0, 0, 0, 0, 0, 0, 0, 0, 0, 0, 0, 0], [0.00487159380223602, 0.0006457340717315674, 0.0017422107196762226, 0, 0.021911076959804633, 0.006347513883374631, 0, 0, 0, 0, 0, 0, 0, 0, 0, 0, 0, 0, 0, 0, 0, 0, 0, 0, 0, 0, 0, 0, 0, 0, 0, 0, 0, 0, 0, 0, 0, 0, 0, 0, 0, 0, 0, 0, 0, 0, 0, 0, 0, 0, 0, 0, 0, 0], [0, 0.0028220192321168724, 0.00487159380223602, 0, 0, 0.007885654815472662, 0.0023769375681877134, 0.021911076959804633, 0.009972903087327723, 0.006935624140314758, 0.004999528252519667, 0, 0, 0, 0, 0, 0, 0, 0, 0, 0, 0, 0, 0, 0, 0, 0, 0, 0, 0, 0, 0, 0, 0, 0, 0, 0, 0, 0, 0, 0, 0, 0, 0, 0, 0, 0, 0, 0, 0, 0, 0, 0, 0], [0, 0, 0, 0.021911076959804633, 0.004857929669087753, 0.005830539440648863, 0, 0, 0, 0, 0, 0, 0, 0, 0, 0, 0, 0, 0, 0, 0, 0, 0, 0, 0, 0, 0, 0, 0, 0, 0, 0, 0, 0, 0, 0, 0, 0, 0, 0, 0, 0, 0, 0, 0, 0, 0, 0, 0, 0, 0, 0, 0, 0], [0.0029551934415940197, 0.013081385986879468, 0.009972903087327723, 0.006569897560402751, 0.009079633490182459, 0.00487159380223602, 0, 0.007710027979919687, 0.0062575521483086045, 0.001117255136196036, 0, 0, 0, 0, 0, 0, 0, 0, 0, 0, 0, 0, 0, 0, 0, 0, 0, 0, 0, 0, 0, 0, 0, 0, 0, 0, 0, 0, 0, 0, 0, 0, 0, 0, 0, 0, 0, 0, 0, 0, 0, 0, 0, 0], [0, 0, 0, 0, 0, 0.0001460871344897896, 0.021911076959804633, 0, 0, 0, 0, 0, 0, 0, 0, 0, 0, 0, 0, 0, 0, 0, 0, 0, 0, 0, 0, 0, 0, 0, 0, 0, 0, 0, 0, 0, 0, 0, 0, 0, 0, 0, 0, 0, 0, 0, 0, 0, 0, 0, 0, 0, 0, 0], [0, 0, 0, 0.021911076959804633, 0, 0, 0, 0.021911076959804633, 0, 0, 0, 0, 0, 0, 0, 0, 0, 0, 0, 0, 0, 0, 0, 0, 0, 0, 0, 0, 0, 0, 0, 0, 0, 0, 0, 0, 0, 0, 0, 0, 0, 0, 0, 0, 0, 0, 0, 0, 0, 0, 0, 0, 0, 0], [0, 0, 0, 0, 0, 0, 0, 0.005605693433317356, 0, 0.007160692566540092, 0, 0.0025610892141412476, 0, 0.004062576834403444, 0, 0, 0.00796171547845006, 0, 0, 0, 0, 0, 0, 0, 0, 0, 0, 0, 0, 0, 0, 0, 0, 0, 0, 0, 0, 0, 0, 0, 0, 0, 0, 0, 0, 0, 0, 0, 0, 0, 0, 0, 0, 0], [0.0032373300881590695, 0.007573577610310167, 0, 0.010076890250202268, 0, 0.021911076959804633, 0, 0.004491522522512241, 0.003671275819360744, 0.0086907105660066, 0, 0.013081385986879468, 0.009972903087327723, 0, 0, 0, 0, 0, 0, 0, 0, 0, 0, 0, 0, 0, 0, 0, 0, 0, 0, 0, 0, 0, 0, 0, 0, 0, 0, 0, 0, 0, 0, 0, 0, 0, 0, 0, 0, 0, 0, 0, 0, 0], [0.021911076959804633, 0, 0.0019620056310668587, 0, 0.013081385986879468, 0.007200968124670908, 0.003240751877310686, -0.0012252789433114231, 0.002757819969119737, 0, 0, 0, 0, 0, 0, 0, 0, 0, 0, 0, 0, 0, 0, 0, 0, 0, 0, 0, 0, 0, 0, 0, 0, 0, 0, 0, 0, 0, 0, 0, 0, 0, 0, 0, 0, 0, 0, 0, 0, 0, 0, 0, 0, 0], [0.011772906742116902, 0.000617985233257059, 0, 0.0029245092638302593, 0.0011680733051616697, 0.011056487309979275, 0.0062575521483086045, 0.021911076959804633, 0.006347513883374631, 0.002142472059058491, 0, 0, 0, 0, 0, 0, 0, 0, 0, 0, 0, 0, 0, 0, 0, 0, 0, 0, 0, 0, 0, 0, 0, 0, 0, 0, 0, 0, 0, 0, 0, 0, 0, 0, 0, 0, 0, 0, 0, 0, 0, 0, 0, 0], [0.005421144487336278, 0, 0.021911076959804633, -0.0004038780811242759, 0, 0, 0, 0, 0, 0, 0, 0, 0, 0, 0, 0, 0, 0, 0, 0, 0, 0, 0, 0, 0, 0, 0, 0, 0, 0, 0, 0, 0, 0, 0, 0, 0, 0, 0, 0, 0, 0, 0, 0, 0, 0, 0, 0, 0, 0, 0, 0, 0, 0], [0.0040491881361958805, 0.0012475030761561357, 0.013081385986879468, 0, 0.0025610892141412476, 0, 0, 0, 0, 0, 0, 0, 0, 0, 0, 0, 0, 0, 0, 0, 0, 0, 0, 0, 0, 0, 0, 0, 0, 0, 0, 0, 0, 0, 0, 0, 0, 0, 0, 0, 0, 0, 0, 0, 0, 0, 0, 0, 0, 0, 0, 0, 0, 0], [0.011783356991363689, 0, 0.005134176971041598, 0, 0, 0, 0.004952889066189527, 0.00717169804032892, 0.018780211105477066, 0.021911076959804633, 0, 0.005864947179798036, 0.005864947179798036, 0, 0, 0.0025018275770707986, 0.008384832798037678, 0.00013372795423492788, 0, 0.0025018275770707986, 0, 0, 0, 0, 0, 0, 0, 0, 0, 0, 0, 0, 0, 0, 0, 0, 0, 0, 0, 0, 0, 0, 0, 0, 0, 0, 0, 0, 0, 0, 0, 0, 0, 0], [0.021911076959804633, 0.010456243525259196, 0, 0, 0, 0, 0, 0, 0, 0, 0, 0, 0, 0, 0, 0, 0, 0, 0, 0, 0, 0, 0, 0, 0, 0, 0, 0, 0, 0, 0, 0, 0, 0, 0, 0, 0, 0, 0, 0, 0, 0, 0, 0, 0, 0, 0, 0, 0, 0, 0, 0, 0, 0], [0.005929450906696729, 0, 0, 0.0032467571884626525, 0.008405648718471638, 0, 0.021911076959804633, -0.00047093553381273524, 0, 0, 0, 0, 0, 0, 0, 0, 0, 0, 0, 0, 0, 0, 0, 0, 0, 0, 0, 0, 0, 0, 0, 0, 0, 0, 0, 0, 0, 0, 0, 0, 0, 0, 0, 0, 0, 0, 0, 0, 0, 0, 0, 0, 0, 0], [0.013081385986879468, 0.009972903087327723, 0.006935624140314758, 0.004999528252519667, 0, 0, 0, 0, 0, 0, 0, 0, 0, 0, 0, 0, 0, 0, 0, 0, 0, 0, 0, 0, 0, 0, 0, 0, 0, 0, 0, 0, 0, 0, 0, 0, 0, 0, 0, 0, 0, 0, 0, 0, 0, 0, 0, 0, 0, 0, 0, 0, 0, 0], [0.005364874848746695, 0.005423012659302912, 0.009062755212653428, 0.0035800947027746586, 0.018780211105477066, 0.021911076959804633, 0.0026078456395771353, 0.021911076959804633, 0.004297401687945239, 0.007885654815472662, 0, 0, 0, 0, 0, 0, 0, 0, 0, 0, 0, 0, 0, 0, 0, 0, 0, 0, 0, 0, 0, 0, 0, 0, 0, 0, 0, 0, 0, 0, 0, 0, 0, 0, 0, 0, 0, 0, 0, 0, 0, 0, 0, 0], [0.018780211105477066, 0.021911076959804633, 0, 0, 0, 0, 0, 0.009062755212653428, 0.005417290395125746, 0.018780211105477066, 0.011783356991363689, 0.009468417163006962, 0.0039603984809946265, 0, 0, 0, 0, 0, 0, 0, 0, 0, 0, 0, 0, 0, 0, 0, 0, 0, 0, 0, 0, 0, 0, 0, 0, 0, 0, 0, 0, 0, 0, 0, 0, 0, 0, 0, 0, 0, 0, 0, 0, 0], [0, 0.005008865799754858, 0, 0.005830539440648863, 0.005047407418023795, 0.005659452808031346, 0, 0, 0, 0, 0, 0, 0, 0, 0, 0, 0, 0, 0, 0, 0, 0, 0, 0, 0, 0, 0, 0, 0, 0, 0, 0, 0, 0, 0, 0, 0, 0, 0, 0, 0, 0, 0, 0, 0, 0, 0, 0, 0, 0, 0, 0, 0, 0], [0, 0.011783356991363689, 0, 0, 0.008384832798037678, 0, 0.00796171547845006, 0, 0, 0, 0, 0, 0, 0, 0, 0, 0, 0, 0, 0, 0, 0, 0, 0, 0, 0, 0, 0, 0, 0, 0, 0, 0, 0, 0, 0, 0, 0, 0, 0, 0, 0, 0, 0, 0, 0, 0, 0, 0, 0, 0, 0, 0, 0], [0.007200968124670908, 0.003553662784397602, 0.021911076959804633, 0.003086928837001324, 0.004657003212487325, 0.021911076959804633, 0.003704766325536184, 0.004330233988002874, 0, 0, 0, 0, 0, 0, 0, 0, 0, 0, 0, 0, 0, 0, 0, 0, 0, 0, 0, 0, 0, 0, 0, 0, 0, 0, 0, 0, 0, 0, 0, 0, 0, 0, 0, 0, 0, 0, 0, 0, 0, 0, 0, 0, 0, 0], [0.0076260346005437895, 0, 0.0013798828586004674, 0.0025610892141412476, 0.021911076959804633, 0, 0, -0.0005574602403794416, 0, 0, 0, 0, 0, 0, 0, 0, 0, 0, 0, 0, 0, 0, 0, 0, 0, 0, 0, 0, 0, 0, 0, 0, 0, 0, 0, 0, 0, 0, 0, 0, 0, 0, 0, 0, 0, 0, 0, 0, 0, 0, 0, 0, 0, 0], [0.013081385986879468, 0, 0.007573577610310167, 0.021911076959804633, 0, 0, 0, 0, 0, 0, 0, 0, 0, 0, 0, 0, 0, 0, 0, 0, 0, 0, 0, 0, 0, 0, 0, 0, 0, 0, 0, 0, 0, 0, 0, 0, 0, 0, 0, 0, 0, 0, 0, 0, 0, 0, 0, 0, 0, 0, 0, 0, 0, 0], [0.005609775264747441, 0.003079380203271285, 0, 0, 0, 0, 0, 0, 0, 0, 0, 0, 0, 0, 0, 0, 0, 0, 0, 0, 0, 0, 0, 0, 0, 0, 0, 0, 0, 0, 0, 0, 0, 0, 0, 0, 0, 0, 0, 0, 0, 0, 0, 0, 0, 0, 0, 0, 0, 0, 0, 0, 0, 0], [0.013081385986879468, 0.0020153674695757217, 0, 0.007885654815472662, 0, 0.013081385986879468, 0.009972903087327723, 0.008366612775207614, 0.004999528252519667, 0, 0, 0, 0, 0, 0, 0, 0, 0, 0, 0, 0, 0, 0, 0, 0, 0, 0, 0, 0, 0, 0, 0, 0, 0, 0, 0, 0, 0, 0, 0, 0, 0, 0, 0, 0, 0, 0, 0, 0, 0, 0, 0, 0, 0], [0, 0, 0.008384832798037678, 0.003704766325536184, 0, 0, 0, 0.005134176971041598, 0, 0.008384832798037678, 0.003704766325536184, 0.021911076959804633, 0.005664400594687322, 0.004118839884176851, 0, 0, 0, 0, 0, 0, 0, 0, 0, 0, 0, 0, 0, 0, 0, 0, 0, 0, 0, 0, 0, 0, 0, 0, 0, 0, 0, 0, 0, 0, 0, 0, 0, 0, 0, 0, 0, 0, 0, 0], [0.011772906742116902, 0.003704766325536184, 0.006893606712692417, 0.021911076959804633, 0, 0, 0, 0, 0, 0, 0, 0, 0, 0, 0, 0, 0, 0, 0, 0, 0, 0, 0, 0, 0, 0, 0, 0, 0, 0, 0, 0, 0, 0, 0, 0, 0, 0, 0, 0, 0, 0, 0, 0, 0, 0, 0, 0, 0, 0, 0, 0, 0, 0], [0, 0.008384832798037678, 0, 0.0005533947073854506, 0, 0.008384832798037678, 0, 0, 0, 0, 0, 0, 0, 0, 0, 0, 0, 0, 0, 0, 0, 0, 0, 0, 0, 0, 0, 0, 0, 0, 0, 0, 0, 0, 0, 0, 0, 0, 0, 0, 0, 0, 0, 0, 0, 0, 0, 0, 0, 0, 0, 0, 0, 0], [0.018780211105477066, 0.0026078456395771353, 0, 0, 0, 0, 0, 0, 0, 0, 0, 0, 0, 0, 0, 0, 0, 0, 0, 0, 0, 0, 0, 0, 0, 0, 0, 0, 0, 0, 0, 0, 0, 0, 0, 0, 0, 0, 0, 0, 0, 0, 0, 0, 0, 0, 0, 0, 0, 0, 0, 0, 0, 0], [0.0009915670281043275, 0.007619252814911306, 0.0087313675833866, 0.005009827462490648, 0.010212600417435169, 0.001117255136196036, 0, 0.013081385986879468, 0, 0, 0, 0, 0, 0, 0, 0, 0, 0, 0, 0, 0, 0, 0, 0, 0, 0, 0, 0, 0, 0, 0, 0, 0, 0, 0, 0, 0, 0, 0, 0, 0, 0, 0, 0, 0, 0, 0, 0, 0, 0, 0, 0, 0, 0], [0.008405648718471638, 0.004929769077571109, 0.011783356991363689, 0.013961807426530868, 0.018780211105477066, 0.003540754606947303, 0.010076890250202268, 0, 0, 0, 0, 0, 0, 0, 0, 0, 0, 0, 0, 0, 0, 0, 0, 0, 0, 0, 0, 0, 0, 0, 0, 0, 0, 0, 0, 0, 0, 0, 0, 0, 0, 0, 0, 0, 0, 0, 0, 0, 0, 0, 0, 0, 0, 0], [0, 0.005423012659302912, 0, 0, 0.018780211105477066, 0.021911076959804633, 0.0026078456395771353, 0.021911076959804633, 0.004297401687945239, 0, 0.0056350874487543475, 0.004672845379100181, 0, 0.0056350874487543475, 0.007053639809601009, 0, 0, 0, 0, 0, 0, 0, 0, 0, 0, 0, 0, 0, 0, 0, 0, 0, 0, 0, 0, 0, 0, 0, 0, 0, 0, 0, 0, 0, 0, 0, 0, 0, 0, 0, 0, 0, 0, 0], [0, 0, 0.013081385986879468, 0, 0.010456243525259196, 0.006284346536267549, 0.013081385986879468, 0.0038704705481723066, 0, 0, 0, 0, 0, 0, 0, 0, 0, 0, 0, 0, 0, 0, 0, 0, 0, 0, 0, 0, 0, 0, 0, 0, 0, 0, 0, 0, 0, 0, 0, 0, 0, 0, 0, 0, 0, 0, 0, 0, 0, 0, 0, 0, 0, 0], [0, 0.00717169804032892, 0, 0.0035800947027746586, 0.018780211105477066, 0.021911076959804633, 0.004297401687945239, 0.005172213345067575, 0, 0.00820138094946742, 0, 0.021911076959804633, 0, 0.004280248335562647, 0, 0.0087313675833866, 0, 0, 0.005172213345067575, 0, 0, 0, 0, 0, 0, 0, 0, 0, 0, 0, 0, 0, 0, 0, 0, 0, 0, 0, 0, 0, 0, 0, 0, 0, 0, 0, 0, 0, 0, 0, 0, 0, 0, 0], [0.004612976242788136, 0.0053318358073011045, 0.003704766325536184, 0, 0, 0.013081385986879468, 0.002660141712985933, 0.003240751877310686, -0.0012252789433114231, 0, 0, 0, 0, 0, 0, 0, 0, 0, 0, 0, 0, 0, 0, 0, 0, 0, 0, 0, 0, 0, 0, 0, 0, 0, 0, 0, 0, 0, 0, 0, 0, 0, 0, 0, 0, 0, 0, 0, 0, 0, 0, 0, 0, 0], [0.0037905845612112897, 0.0010871552588650956, 0, 0.021911076959804633, 0.007955136921955272, 0, 0.007885654815472662, 0, 0, 0, 0, 0, 0, 0, 0, 0, 0, 0, 0, 0, 0, 0, 0, 0, 0, 0, 0, 0, 0, 0, 0, 0, 0, 0, 0, 0, 0, 0, 0, 0, 0, 0, 0, 0, 0, 0, 0, 0, 0, 0, 0, 0, 0, 0], [0.008595072099706159, 0.010456243525259196, 0, 0, 0, 0, 0, 0.002286195635970216, 0.003409730050334474, 0.003474447191110812, 0.021911076959804633, 0, 0.005808940853239619, 0, 0, 0, 0, 0, 0, 0, 0, 0, 0, 0, 0, 0, 0, 0, 0, 0, 0, 0, 0, 0, 0, 0, 0, 0, 0, 0, 0, 0, 0, 0, 0, 0, 0, 0, 0, 0, 0, 0, 0, 0], [0.0037905845612112897, 0.013081385986879468, 0, 0.006603947264375165, 0, 0.0046022253343835475, 0.0104539439851942, 0, 0.013081385986879468, 0.01141196773503907, 0.010456243525259196, 0.006284346536267549, 0.0056350874487543475, 0, 0.008366612775207614, 0.008095858281012624, 0, 0, 0, 0, 0, 0, 0, 0, 0, 0, 0, 0, 0, 0, 0, 0, 0, 0, 0, 0, 0, 0, 0, 0, 0, 0, 0, 0, 0, 0, 0, 0, 0, 0, 0, 0, 0, 0], [0.021911076959804633, 0, 0.005659452808031346, 0.021911076959804633, 0.006014448357746005, 0.007317330074092751, 0.0037522187491413205, 0, 0.00595191415573936, 0, 0, 0, 0, 0, 0, 0, 0, 0, 0, 0, 0, 0, 0, 0, 0, 0, 0, 0, 0, 0, 0, 0, 0, 0, 0, 0, 0, 0, 0, 0, 0, 0, 0, 0, 0, 0, 0, 0, 0, 0, 0, 0, 0, 0], [0.004612976242788136, 0.0053318358073011045, 0.004837473733350635, 0.00717169804032892, 0.018780211105477066, 0.021911076959804633, 0.006569897560402751, 0, 0, 0.003671275819360744, 0.00669992613082286, 0.009849514192901553, 0.010456243525259196, 0, 0.021911076959804633, 0, 0, 0, 0, 0, 0, 0, 0, 0, 0, 0, 0, 0, 0, 0, 0, 0, 0, 0, 0, 0, 0, 0, 0, 0, 0, 0, 0, 0, 0, 0, 0, 0, 0, 0, 0, 0, 0, 0], [0.013081385986879468, 0.009972903087327723, 0, 0, 0, 0, 0, 0, 0, 0, 0, 0, 0, 0, 0, 0, 0, 0, 0, 0, 0, 0, 0, 0, 0, 0, 0, 0, 0, 0, 0, 0, 0, 0, 0, 0, 0, 0, 0, 0, 0, 0, 0, 0, 0, 0, 0, 0, 0, 0, 0, 0, 0, 0], [0.00796171547845006, 0.003079380203271285, 0, 0, 0, 0, 0, 0, 0, 0, 0, 0, 0, 0, 0, 0, 0, 0, 0, 0, 0, 0, 0, 0, 0, 0, 0, 0, 0, 0, 0, 0, 0, 0, 0, 0, 0, 0, 0, 0, 0, 0, 0, 0, 0, 0, 0, 0, 0, 0, 0, 0, 0, 0], [0, 0, 0, 0.021911076959804633, -0.0004790756001602858, 0.007573577610310167, 0.0018721467698924244, 0, 0, 0, 0, 0, 0, 0, 0, 0, 0, 0, 0, 0, 0, 0, 0, 0, 0, 0, 0, 0, 0, 0, 0, 0, 0, 0, 0, 0, 0, 0, 0, 0, 0, 0, 0, 0, 0, 0, 0, 0, 0, 0, 0, 0, 0, 0], [0.004974764182697981, 0.004974764182697981, 0, 0.00463579706614837, 0.006295382839161903, 0.004088982024695724, 0, 0, 0, 0, 0, 0, 0, 0, 0, 0, 0, 0, 0, 0, 0, 0, 0, 0, 0, 0, 0, 0, 0, 0, 0, 0, 0, 0, 0, 0, 0, 0, 0, 0, 0, 0, 0, 0, 0, 0, 0, 0, 0, 0, 0, 0, 0, 0], [0, 0.0062575521483086045, 0.0006875827303156256, 0.021911076959804633, 0, 0, 0, 0, 0, 0, 0, 0, 0, 0, 0, 0, 0, 0, 0, 0, 0, 0, 0, 0, 0, 0, 0, 0, 0, 0, 0, 0, 0, 0, 0, 0, 0, 0, 0, 0, 0, 0, 0, 0, 0, 0, 0, 0, 0, 0, 0, 0, 0, 0], [0.013961807426530868, 0.018780211105477066, 0.007955136921955272, 0.0054919070517644285, 0, 0, 0, 0, 0, 0.005421144487336278, 0.005270850855158642, 0, 0, 0, 0, 0, 0, 0, 0, 0, 0, 0, 0, 0, 0, 0, 0, 0, 0, 0, 0, 0, 0, 0, 0, 0, 0, 0, 0, 0, 0, 0, 0, 0, 0, 0, 0, 0, 0, 0, 0, 0, 0, 0], [0, 0, 0.021911076959804633, 0, 0, 0.0104539439851942, 0, 0.0025579108705278486, 0, 0, 0, 0, 0, 0, 0, 0, 0, 0, 0, 0, 0, 0, 0, 0, 0, 0, 0, 0, 0, 0, 0, 0, 0, 0, 0, 0, 0, 0, 0, 0, 0, 0, 0, 0, 0, 0, 0, 0, 0, 0, 0, 0, 0, 0], [0, 0, 0.010456243525259196, 0.0009670209136675112, 0, 0, 0, 0, 0, 0, 0, 0, 0, 0, 0, 0, 0, 0, 0, 0, 0, 0, 0, 0, 0, 0, 0, 0, 0, 0, 0, 0, 0, 0, 0, 0, 0, 0, 0, 0, 0, 0, 0, 0, 0, 0, 0, 0, 0, 0, 0, 0, 0, 0], [0.012333311457186937, 0.009972903087327723, 0.010456243525259196, 0, 0.0024718022462911905, 0, 0.0056350874487543475, 0, 0, 0, 0, 0, 0, 0, 0, 0, 0, 0, 0, 0, 0, 0, 0, 0, 0, 0, 0, 0, 0, 0, 0, 0, 0, 0, 0, 0, 0, 0, 0, 0, 0, 0, 0, 0, 0, 0, 0, 0, 0, 0, 0, 0, 0, 0], [0.00575971613638103, 0, 0, 0.021911076959804633, 0, 0, 0, 0, 0, 0, 0, 0, 0, 0, 0, 0, 0, 0, 0, 0, 0, 0, 0, 0, 0, 0, 0, 0, 0, 0, 0, 0, 0, 0, 0, 0, 0, 0, 0, 0, 0, 0, 0, 0, 0, 0, 0, 0, 0, 0, 0, 0, 0, 0], [0, 0, 0, 0.021911076959804633, 0, 0, 0, 0.0021669537120033054, 0, 0, 0, 0, 0, 0, 0, 0, 0, 0, 0, 0, 0, 0, 0, 0, 0, 0, 0, 0, 0, 0, 0, 0, 0, 0, 0, 0, 0, 0, 0, 0, 0, 0, 0, 0, 0, 0, 0, 0, 0, 0, 0, 0, 0, 0], [0.011783356991363689, 0.0032367902022087947, 0.002242506952024996, 0, 0, 0.0025610892141412476, 0.006372695593163371, 0.009079633490182459, 0, 0, 0.005364874848746695, 0.004479031524388119, 0, 0, 0, 0, 0, 0, 0, 0, 0, 0, 0, 0, 0, 0, 0, 0, 0, 0, 0, 0, 0, 0, 0, 0, 0, 0, 0, 0, 0, 0, 0, 0, 0, 0, 0, 0, 0, 0, 0, 0, 0, 0], [0.003954554310184904, 0, 0.021911076959804633, 0.007955136921955272, 0.010456243525259196, 0, 0, 0, 0, 0, 0, 0, 0, 0, 0, 0, 0, 0, 0, 0, 0, 0, 0, 0, 0, 0, 0, 0, 0, 0, 0, 0, 0, 0, 0, 0, 0, 0, 0, 0, 0, 0, 0, 0, 0, 0, 0, 0, 0, 0, 0, 0, 0, 0], [0.013961807426530868, 0.018780211105477066, 0.0030494545213878154, 0.006342179416678846, 0.0037486705265473573, 0.018780211105477066, 0.004672845379100181, 0, 0, 0, 0, 0, 0, 0, 0, 0, 0, 0, 0, 0, 0, 0, 0, 0, 0, 0, 0, 0, 0, 0, 0, 0, 0, 0, 0, 0, 0, 0, 0, 0, 0, 0, 0, 0, 0, 0, 0, 0, 0, 0, 0, 0, 0, 0], [0.005273815686814487, 0.005423012659302912, 0.0025579108705278486, 0.021911076959804633, 0, 0, 0.008896041447296738, 0, 0, 0, 0, 0, 0, 0, 0, 0, 0, 0, 0, 0, 0, 0, 0, 0, 0, 0, 0, 0, 0, 0, 0, 0, 0, 0, 0, 0, 0, 0, 0, 0, 0, 0, 0, 0, 0, 0, 0, 0, 0, 0, 0, 0, 0, 0], [0.005417290395125746, 0.018780211105477066, 0, 0, 0, 0, 0, 0, 0, 0, 0, 0, 0, 0, 0, 0, 0, 0, 0, 0, 0, 0, 0, 0, 0, 0, 0, 0, 0, 0, 0, 0, 0, 0, 0, 0, 0, 0, 0, 0, 0, 0, 0, 0, 0, 0, 0, 0, 0, 0, 0, 0, 0, 0], [0.00558613175409846, 0, 0, 0.012333311457186937, 0.005358639836777002, 0.0047591373324394224, 0, 0, 0, 0, 0, 0, 0, 0, 0, 0, 0, 0, 0, 0, 0, 0, 0, 0, 0, 0, 0, 0, 0, 0, 0, 0, 0, 0, 0, 0, 0, 0, 0, 0, 0, 0, 0, 0, 0, 0, 0, 0, 0, 0, 0, 0, 0, 0], [0, 0.021911076959804633, -0.00109450847026892, 0, 0, 0, 0, 0, 0, 0, 0, 0, 0, 0, 0, 0, 0, 0, 0, 0, 0, 0, 0, 0, 0, 0, 0, 0, 0, 0, 0, 0, 0, 0, 0, 0, 0, 0, 0, 0, 0, 0, 0, 0, 0, 0, 0, 0, 0, 0, 0, 0, 0, 0], [0.003038089242763817, 0.021911076959804633, 0.0027217954643128906, 0.021911076959804633, 0.00010894831153564155, 0, 0, 0, 0, 0, 0, 0, 0, 0, 0, 0, 0, 0, 0, 0, 0, 0, 0, 0, 0, 0, 0, 0, 0, 0, 0, 0, 0, 0, 0, 0, 0, 0, 0, 0, 0, 0, 0, 0, 0, 0, 0, 0, 0, 0, 0, 0, 0, 0], [0.0016739549991325476, 0.0087313675833866, 0, 0.008615999628091231, 0.005407290417933836, 0.0008023117489938159, 0, 0.021911076959804633, 0, 0, 0, 0, 0, 0, 0, 0, 0, 0, 0, 0, 0, 0, 0, 0, 0, 0, 0, 0, 0, 0, 0, 0, 0, 0, 0, 0, 0, 0, 0, 0, 0, 0, 0, 0, 0, 0, 0, 0, 0, 0, 0, 0, 0, 0], [0.021911076959804633, 0, 0.0025610892141412476, 0, 0, 0, 0, 0, 0, 0, 0, 0, 0, 0, 0, 0, 0, 0, 0, 0, 0, 0, 0, 0, 0, 0, 0, 0, 0, 0, 0, 0, 0, 0, 0, 0, 0, 0, 0, 0, 0, 0, 0, 0, 0, 0, 0, 0, 0, 0, 0, 0, 0, 0], [0.021911076959804633, 0.007573577610310167, 0.004287795689888299, 0, 0, 0, 0.021911076959804633, 0, 0, 0, 0, 0, 0, 0, 0, 0, 0, 0, 0, 0, 0, 0, 0, 0, 0, 0, 0, 0, 0, 0, 0, 0, 0, 0, 0, 0, 0, 0, 0, 0, 0, 0, 0, 0, 0, 0, 0, 0, 0, 0, 0, 0, 0, 0], [0.0032373300881590695, 0, 0, 0, 0, 0, 0, 0, 0, 0, 0, 0, 0, 0, 0, 0, 0, 0, 0, 0, 0, 0, 0, 0, 0, 0, 0, 0, 0, 0, 0, 0, 0, 0, 0, 0, 0, 0, 0, 0, 0, 0, 0, 0, 0, 0, 0, 0, 0, 0, 0, 0, 0, 0], [0, 0.0027079001697711646, 0.012333311457186937, 0.00290492742031347, 0, 0.004057573357131332, 0, -0.00109450847026892, 0, 0.008595072099706159, 0.004057573357131332, 0, 0, 0, 0, 0, 0, 0, 0, 0, 0, 0, 0, 0, 0, 0, 0, 0, 0, 0, 0, 0, 0, 0, 0, 0, 0, 0, 0, 0, 0, 0, 0, 0, 0, 0, 0, 0, 0, 0, 0, 0, 0, 0], [0.006640149247832596, 0.013081385986879468, 0, 0, 0, 0, 0, 0, 0, 0, 0, 0, 0, 0, 0, 0, 0, 0, 0, 0, 0, 0, 0, 0, 0, 0, 0, 0, 0, 0, 0, 0, 0, 0, 0, 0, 0, 0, 0, 0, 0, 0, 0, 0, 0, 0, 0, 0, 0, 0, 0, 0, 0, 0], [0.006173518459545449, 0.001574312481097877, 0, 0, -0.0005574602403794416, 0, 0, 0, 0, 0, 0, 0, 0, 0, 0, 0, 0, 0, 0, 0, 0, 0, 0, 0, 0, 0, 0, 0, 0, 0, 0, 0, 0, 0, 0, 0, 0, 0, 0, 0, 0, 0, 0, 0, 0, 0, 0, 0, 0, 0, 0, 0, 0, 0], [0.004174472408703877, 0.004900831277482211, 0.003971495085861534, 0.004144498145869875, 0, 0, 0, 0.021911076959804633, 0, 0, 0.0048103591171093285, 0.0012642589129973202, 0.009351481785997748, 0.007053639809601009, 0, 0, 0, 0, 0, 0, 0, 0, 0, 0, 0, 0, 0, 0, 0, 0, 0, 0, 0, 0, 0, 0, 0, 0, 0, 0, 0, 0, 0, 0, 0, 0, 0, 0, 0, 0, 0, 0, 0, 0], [0.003085333442140836, 0.0018529881141148507, 0.0032373300881590695, 0.0008099155037780292, 0, 0, 0, 0, 0, 0, 0, 0, 0, 0, 0, 0, 0, 0, 0, 0, 0, 0, 0, 0, 0, 0, 0, 0, 0, 0, 0, 0, 0, 0, 0, 0, 0, 0, 0, 0, 0, 0, 0, 0, 0, 0, 0, 0, 0, 0, 0, 0, 0, 0], [0, 0, 0, 0, 0.0023769375681877134, 0, 0, 0.013081385986879468, 0, 0, 0, 0, 0, 0, 0, 0, 0, 0, 0, 0, 0, 0, 0, 0, 0, 0, 0, 0, 0, 0, 0, 0, 0, 0, 0, 0, 0, 0, 0, 0, 0, 0, 0, 0, 0, 0, 0, 0, 0, 0, 0, 0, 0, 0], [0.013081385986879468, 0, 0.005288849470671267, 0.007721205520210788, 0.006935624140314758, 0.00438595422252547, 0, 0.0076260346005437895, 0.003671275819360744, 0.00669992613082286, 0, 0, 0, 0, 0, 0, 0, 0, 0, 0, 0, 0, 0, 0, 0, 0, 0, 0, 0, 0, 0, 0, 0, 0, 0, 0, 0, 0, 0, 0, 0, 0, 0, 0, 0, 0, 0, 0, 0, 0, 0, 0, 0, 0], [0.018780211105477066, 0, -0.0002902647212613374, 0, 0.011783356991363689, 0, 0, 0, 0, 0, 0, 0, 0, 0, 0, 0, 0, 0, 0, 0, 0, 0, 0, 0, 0, 0, 0, 0, 0, 0, 0, 0, 0, 0, 0, 0, 0, 0, 0, 0, 0, 0, 0, 0, 0, 0, 0, 0, 0, 0, 0, 0, 0, 0], [0.021911076959804633, 0, 0.003240751877310686, -0.0012252789433114231, 0, 0, 0, 0, 0, 0, 0, 0, 0, 0, 0, 0, 0, 0, 0, 0, 0, 0, 0, 0, 0, 0, 0, 0, 0, 0, 0, 0, 0, 0, 0, 0, 0, 0, 0, 0, 0, 0, 0, 0, 0, 0, 0, 0, 0, 0, 0, 0, 0, 0], [0.005008865799754858, 0, 0, 0.003960306213703007, 0.012333311457186937, 0.006398396545555443, 0.00500804370152764, 0, 0.009468417163006962, 0.004952889066189527, 0.00669992613082286, 0, 0, 0, 0, 0, 0, 0, 0, 0, 0, 0, 0, 0, 0, 0, 0, 0, 0, 0, 0, 0, 0, 0, 0, 0, 0, 0, 0, 0, 0, 0, 0, 0, 0, 0, 0, 0, 0, 0, 0, 0, 0, 0], [0.00400205964280758, 0.004803649918176234, 0.003553662784397602, 0, 0.004297401687945239, 0.010456243525259196, 0, 0.005070603920030408, 0, 0, 0, 0.003553662784397602, 0, 0, 0.010456243525259196, 0, 0.0003632490131712984, 0, 0, 0, 0, 0, 0, 0, 0, 0, 0, 0, 0, 0, 0, 0, 0, 0, 0, 0, 0, 0, 0, 0, 0, 0, 0, 0, 0, 0, 0, 0, 0, 0, 0, 0, 0, 0], [0.004312785969814286, 0.021911076959804633, 0.005344649064354599, 0.004285012255422771, 0, 0, 0.010212600417435169, 0, 0, 0, 0.021911076959804633, 0.004325853048685531, 0, 0.011260298262350261, 0.007885654815472662, 0.0018721467698924244, 0.0023769375681877134, 0.007619252814911306, 0.018780211105477066, 0.021911076959804633, 0.003553662784397602, 0.003086928837001324, 0, 0, 0.007573577610310167, 0.0018721467698924244, 0, 0.004062576834403444, 0, 0, 0, 0, 0, 0, 0, 0, 0, 0, 0, 0, 0, 0, 0, 0, 0, 0, 0, 0, 0, 0, 0, 0, 0, 0], [0, 0, 0.00463579706614837, 0.012333311457186937, 0, 0, 0, 0, 0, 0, 0, 0, 0, 0, 0, 0, 0, 0, 0, 0, 0, 0, 0, 0, 0, 0, 0, 0, 0, 0, 0, 0, 0, 0, 0, 0, 0, 0, 0, 0, 0, 0, 0, 0, 0, 0, 0, 0, 0, 0, 0, 0, 0, 0], [0.021911076959804633, 0, 0, 0, 0, 0, 0, 0, 0, 0, 0, 0, 0, 0, 0, 0, 0, 0, 0, 0, 0, 0, 0, 0, 0, 0, 0, 0, 0, 0, 0, 0, 0, 0, 0, 0, 0, 0, 0, 0, 0, 0, 0, 0, 0, 0, 0, 0, 0, 0, 0, 0, 0, 0], [0.007619252814911306, 0.0054919070517644285, 0.0028336982289329173, 0, 0, 0.00393807357060723, 0.00400205964280758, 0, 0, 0, 0.008384832798037678, 0, 0, 0, 0, 0, 0, 0, 0, 0, 0, 0, 0, 0, 0, 0.006014448357746005, 0.00575971613638103, 0, 0, 0.003704766325536184, 0, 0, 0, 0, 0, 0, 0, 0, 0, 0, 0, 0, 0, 0.0028336982289329173, 0, 0, 0, 0.0003125323075801134, 0, 0.007573577610310167, 0, 0, 0, 0.005137940256099682], [0.005609775264747441, 0, 0.004088982024695724, 0, 0, 0, 0.005105516132898629, 0, 0, 0, 0, 0, 0, 0, 0, 0, 0, 0, 0, 0, 0, 0, 0, 0, 0, 0, 0, 0, 0, 0, 0, 0, 0, 0, 0, 0, 0, 0, 0, 0, 0, 0, 0, 0, 0, 0, 0, 0, 0, 0, 0, 0, 0, 0], [0.021911076959804633, 0.021911076959804633, 0, 0, 0, 0, 0, 0, 0, 0, 0, 0, 0, 0, 0, 0, 0, 0, 0, 0, 0, 0, 0, 0, 0, 0, 0, 0, 0, 0, 0, 0, 0, 0, 0, 0, 0, 0, 0, 0, 0, 0, 0, 0, 0, 0, 0, 0, 0, 0, 0, 0, 0, 0], [0.021911076959804633, 0.007619252814911306, 0, 0.021911076959804633, 0, 0, 0, 0, 0, 0, 0, 0, 0, 0, 0, 0, 0, 0, 0, 0, 0, 0, 0, 0, 0, 0, 0, 0, 0, 0, 0, 0, 0, 0, 0, 0, 0, 0, 0, 0, 0, 0, 0, 0, 0, 0, 0, 0, 0, 0, 0, 0, 0, 0], [0, 0.010456243525259196, 0.0016739549991325476, 0.00599917630868731, 0, 0, 0.021911076959804633, 0, 0.0029245092638302593, 0.005609775264747441, 0.021911076959804633, 0, 0, 0, 0, 0, 0, 0, 0, 0, 0, 0, 0, 0, 0, 0, 0, 0, 0, 0, 0, 0, 0, 0, 0, 0, 0, 0, 0, 0, 0, 0, 0, 0, 0, 0, 0, 0, 0, 0, 0, 0, 0, 0], [0.0023140144150238483, 0.021911076959804633, 0.005294305666611762, 0, 0, 0, 0, 0, 0, 0, 0, 0, 0, 0, 0, 0, 0, 0, 0, 0, 0, 0, 0, 0, 0, 0, 0, 0, 0, 0, 0, 0, 0, 0, 0, 0, 0, 0, 0, 0, 0, 0, 0, 0, 0, 0, 0, 0, 0, 0, 0, 0, 0, 0], [0.005808940853239619, 0, 0, 0.021911076959804633, 0.001058791525356355, 0.009468417163006962, 0.005861717363586649, 0.009849514192901553, 0.021911076959804633, 0.009972903087327723, 0, 0, 0, 0, 0, 0, 0, 0, 0, 0, 0, 0, 0, 0, 0, 0, 0, 0, 0, 0, 0, 0, 0, 0, 0, 0, 0, 0, 0, 0, 0, 0, 0, 0, 0, 0, 0, 0, 0, 0, 0, 0, 0, 0], [0.00531152356765233, 0, 0, 0, 0, 0, 0, 0.0029245092638302593, 0, 0, 0, 0, 0, 0, 0, 0, 0, 0, 0, 0, 0, 0, 0, 0, 0, 0, 0, 0, 0, 0, 0, 0, 0, 0, 0, 0, 0, 0, 0, 0, 0, 0, 0, 0, 0, 0, 0, 0, 0, 0, 0, 0, 0, 0], [0, 0, 0, 0.021911076959804633, 0.0047591373324394224, 0.005609775264747441, 0.00558613175409846, 0, 0.006372695593163371, 0, 0.00290492742031347, 0.00013372795423492788, 0.005172213345067575, 0, 0, 0, 0, 0, 0, 0, 0, 0, 0, 0, 0, 0, 0, 0, 0, 0, 0, 0, 0, 0, 0, 0, 0, 0, 0, 0, 0, 0, 0, 0, 0, 0, 0, 0, 0, 0, 0, 0, 0, 0], [0.013081385986879468, 0.005344649064354599, 0, 0, 0, 0, 0.0046614568360382694, 0.0010871552588650956, 0, 0.007573577610310167, 0, 0, 0, 0, 0, 0, 0, 0, 0, 0, 0, 0, 0, 0, 0, 0, 0, 0, 0, 0, 0, 0, 0, 0, 0, 0, 0, 0, 0, 0, 0, 0, 0, 0, 0, 0, 0, 0, 0, 0, 0, 0, 0, 0], [0.005861717363586649, 0.0037486705265473573, -0.0002902647212613374, 0.005047407418023795, 0, 0, 0, 0, 0, 0, 0, 0, 0, 0, 0, 0, 0, 0, 0, 0, 0, 0, 0, 0, 0, 0, 0, 0, 0, 0, 0, 0, 0, 0, 0, 0, 0, 0, 0, 0, 0, 0, 0, 0, 0, 0, 0, 0, 0, 0, 0, 0, 0, 0], [0, 0, 0, 0, 0, 0, 0, 0, 0, 0, 0, 0, 0, 0, 0, 0, 0, 0, 0, 0, 0, 0, 0, 0, 0, 0, 0, 0, 0, 0, 0, 0, 0, 0, 0, 0, 0, 0, 0, 0, 0, 0, 0, 0, 0, 0, 0, 0, 0, 0, 0, 0, 0, 0], [0.004929769077571109, 0, 0.007650797410169616, 0.01141196773503907, 0.0019006309797987343, 0, 0.004088982024695724, 0.002242506952024996, 0.011783356991363689, 0, 0.010687941344658612, 0, 0, 0, 0, 0.005541188955539837, 0, 0, 0, 0, 0, 0, 0, 0, 0, 0, 0, 0, 0, 0, 0, 0, 0, 0, 0, 0, 0, 0, 0, 0, 0, 0, 0, 0, 0, 0, 0, 0, 0, 0, 0, 0, 0, 0], [0, 0.011260298262350261, 0, 0.021911076959804633, 0.007160692566540092, 0, 0.005541188955539837, 0, 0, 0, 0.0023769375681877134, 0.006893606712692417, 0.021911076959804633, 0.009972903087327723, 0, 0, 0, 0, 0, 0, 0, 0, 0, 0, 0, 0, 0, 0, 0, 0, 0, 0, 0, 0, 0, 0, 0, 0, 0, 0, 0, 0, 0, 0, 0, 0, 0, 0, 0, 0, 0, 0, 0, 0], [0, 0, 0.021911076959804633, 0.00629557338077575, 0.021911076959804633, 0.0012770785321481527, 0, 0, 0.009849514192901553, 0, 0, 0, 0, 0, 0, 0, 0, 0, 0, 0, 0, 0, 0, 0, 0, 0, 0, 0, 0, 0, 0, 0, 0, 0, 0, 0, 0, 0, 0, 0, 0, 0, 0, 0, 0, 0, 0, 0, 0, 0, 0, 0, 0, 0], [0.021911076959804633, 0.009972903087327723, 0.006935624140314758, 0.004999528252519667, 0, 0.021911076959804633, 0, 0.0019620056310668587, 0.007053639809601009, 0, 0, 0, 0, 0, 0, 0, 0, 0, 0, 0, 0, 0, 0, 0, 0, 0, 0, 0, 0, 0, 0, 0, 0, 0, 0, 0, 0, 0, 0, 0, 0, 0, 0, 0, 0, 0, 0, 0, 0, 0, 0, 0, 0, 0], [0, 0.004387113240663893, 0, 0, 0, 0, 0, 0, 0.021911076959804633, -0.0004790756001602858, 0.0018721467698924244, 0, 0, 0, 0, 0, 0, 0, 0, 0, 0, 0, 0, 0, 0, 0, 0, 0, 0, 0, 0, 0, 0, 0, 0, 0, 0, 0, 0, 0, 0, 0, 0, 0, 0, 0, 0, 0, 0, 0, 0, 0, 0, 0], [0.013081385986879468, 0.00629557338077575, 0.013081385986879468, 0.007955136921955272, 0.009670199446845799, 0.008366612775207614, 0.008095858281012624, 0, 0, 0.008095858281012624, 0.0012186959880637004, 0, 0, 0, 0, 0, 0, 0, 0, 0, 0, 0, 0, 0, 0, 0, 0, 0, 0, 0, 0, 0, 0, 0, 0, 0, 0, 0, 0, 0, 0, 0, 0, 0, 0, 0, 0, 0, 0, 0, 0, 0, 0, 0], [0.003954554310184904, 0.021911076959804633, 0, 0.008247049853671341, 0.0003632490131712984, 0.0018232987582450732, 0, 0, 0, 0, 0, 0, 0, 0, 0, 0, 0, 0, 0, 0, 0, 0, 0, 0, 0, 0, 0, 0, 0, 0, 0, 0, 0, 0, 0, 0, 0, 0, 0, 0, 0, 0, 0, 0, 0, 0, 0, 0, 0, 0, 0, 0, 0, 0], [0.0013662435638252645, 0, 0.009849514192901553, 0.013081385986879468, 0.007955136921955272, 0, 0.005929450906696729, 0.006935624140314758, 0.0029439223758527078, 0.009849514192901553, 0, 0, 0, 0, 0, 0, 0, 0, 0, 0, 0, 0, 0, 0, 0, 0, 0, 0, 0, 0, 0, 0, 0, 0, 0, 0, 0, 0, 0, 0, 0, 0, 0, 0, 0, 0, 0, 0, 0, 0, 0, 0, 0, 0], [0.008595072099706159, 0, 0.002813437879667617, 0.021911076959804633, 0.00629557338077575, 0, 0.013081385986879468, 0.0012642589129973202, 0, 0.007053639809601009, 0, 0, 0, 0, 0, 0, 0, 0, 0, 0, 0, 0, 0, 0, 0, 0, 0, 0, 0, 0, 0, 0, 0, 0, 0, 0, 0, 0, 0, 0, 0, 0, 0, 0, 0, 0, 0, 0, 0, 0, 0, 0, 0, 0], [0.00531152356765233, 0.004602464619092643, 0, 0, 0, 0, 0, 0, 0, 0, 0, 0, 0, 0, 0, 0, 0, 0, 0, 0, 0, 0, 0, 0, 0, 0, 0, 0, 0, 0, 0, 0, 0, 0, 0, 0, 0, 0, 0, 0, 0, 0, 0, 0, 0, 0, 0, 0, 0, 0, 0, 0, 0, 0], [0.005609775264747441, 0, 0.021911076959804633, -0.0004790756001602858, 0.006295382839161903, 0, 0, 0, 0, 0, 0, 0, 0, 0, 0, 0, 0, 0, 0, 0, 0, 0, 0, 0, 0, 0, 0, 0, 0, 0, 0, 0, 0, 0, 0, 0, 0, 0, 0, 0, 0, 0, 0, 0, 0, 0, 0, 0, 0, 0, 0, 0, 0, 0], [0.003409730050334474, 0.0008099155037780292, 0.013081385986879468, 0, 0, 0, 0.006347513883374631, 0, 0, 0, 0, 0, 0, 0, 0, 0, 0, 0, 0, 0, 0, 0, 0, 0, 0, 0, 0, 0, 0, 0, 0, 0, 0, 0, 0, 0, 0, 0, 0, 0, 0, 0, 0, 0, 0, 0, 0, 0, 0, 0, 0, 0, 0, 0], [0.006640149247832596, 0.0035800947027746586, 0.018780211105477066, 0, 0, 0, 0, 0, 0, 0, 0, 0, 0, 0, 0, 0, 0, 0, 0, 0, 0, 0, 0, 0, 0, 0, 0, 0, 0, 0, 0, 0, 0, 0, 0, 0, 0, 0, 0, 0, 0, 0, 0, 0, 0, 0, 0, 0, 0, 0, 0, 0, 0, 0], [0.005172213345067575, 0.021911076959804633, 0.004325853048685531, 0.0054919070517644285, 0, 0, 0, 0, 0, 0, 0, 0, 0, 0, 0, 0, 0, 0, 0, 0, 0, 0, 0, 0, 0, 0, 0, 0, 0, 0, 0, 0, 0, 0, 0, 0, 0, 0, 0, 0, 0, 0, 0, 0, 0, 0, 0, 0, 0, 0, 0, 0, 0, 0], [0.013081385986879468, 0.007955136921955272, 0.005364874848746695, 0, 0, 0.0001885391178075224, 0, 0, 0.006640149247832596, 0.007885654815472662, 0, 0, 0, 0, 0, 0, 0, 0, 0, 0, 0, 0, 0, 0, 0, 0, 0, 0, 0, 0, 0, 0, 0, 0, 0, 0, 0, 0, 0, 0, 0, 0, 0, 0, 0, 0, 0, 0, 0, 0, 0, 0, 0, 0], [0.013081385986879468, 0.00023799171147402377, 0.003553662784397602, 0.005541188955539837, 0.0019445237796753645, 0.007056011047097854, 0, 0, 0, 0, 0, 0, 0, 0, 0, 0, 0, 0, 0, 0, 0, 0, 0, 0, 0, 0, 0, 0, 0, 0, 0, 0, 0, 0, 0, 0, 0, 0, 0, 0, 0, 0, 0, 0, 0, 0, 0, 0, 0, 0, 0, 0, 0, 0], [0, 0.004270628523081541, 0.003704766325536184, 0.006906141615472734, 0.009468417163006962, 0.005659452808031346, 0.005364874848746695, 0.005423012659302912, 0.009468417163006962, 0, 0.021911076959804633, 0.003704766325536184, 0, 0, 0, 0, 0, 0, 0, 0, 0, 0, 0, 0, 0, 0, 0, 0, 0, 0, 0, 0, 0, 0, 0, 0, 0, 0, 0, 0, 0, 0, 0, 0, 0, 0, 0, 0, 0, 0, 0, 0, 0, 0], [0.018780211105477066, 0.021911076959804633, 0.004325853048685531, 0.013961807426530868, 0.018780211105477066, 0, 0.003960306213703007, 0, 0, 0, 0, 0, -0.00047093553381273524, 0, 0, 0, 0, 0, 0, 0, 0, 0, 0, 0, 0, 0, 0, 0, 0, 0, 0, 0, 0, 0, 0, 0, 0, 0, 0, 0, 0, 0, 0, 0, 0, 0, 0, 0, 0, 0, 0, 0, 0, 0], [0.004760817767528351, 0, 0, 0.021911076959804633, 0.001058791525356355, 0.009351481785997748, 0.004261096743866801, 0, 0.021911076959804633, 0.001058791525356355, 0.009351481785997748, 0.0037227635637100322, 0, 0, 0, 0, 0, 0, 0, 0, 0, 0, 0, 0, 0, 0, 0, 0, 0, 0, 0, 0, 0, 0, 0, 0, 0, 0, 0, 0, 0, 0, 0, 0, 0, 0, 0, 0, 0, 0, 0, 0, 0, 0], [0, 0, 0.009079633490182459, 0.0026958262306288816, 0, 0.021911076959804633, 0.00629557338077575, 0.007160692566540092, 0.009321353193372487, 0.011260298262350261, 0.005154816899448633, 0.005541188955539837, 0, 0, 0.0023769375681877134, 0, 0, 0, 0, 0, 0, 0, 0, 0, 0, 0, 0, 0, 0, 0, 0, 0, 0, 0, 0, 0, 0, 0, 0, 0, 0, 0, 0, 0, 0, 0, 0, 0, 0, 0, 0, 0, 0, 0], [0.006022993716760539, 0, 0.013081385986879468, 0, 0, 0, 0.013081385986879468, 0.00531152356765233, 0.005344649064354599, 0.005914853698632214, 0.00531152356765233, 0, 0, 0, 0, 0, 0, 0.005914853698632214, 0, 0, 0, 0, 0.006372695593163371, 0.005914853698632214, 0, 0.0029245092638302593, 0, 0, 0, 0, 0.013081385986879468, 0, 0, 0.006022993716760539, 0.013081385986879468, 0, 0, 0, 0.006372695593163371, 0, 0, 0, 0.013081385986879468, 0, 0, 0, 0, 0, 0, 0, 0, 0, 0, 0], [0.0016631461086217313, 0.018780211105477066, 0.0037486705265473573, 0.018780211105477066, 0.006569897560402751, 0.006640149247832596, 0.004387113240663893, 0.004261014768853783, 0, 0, 0, 0, 0, 0, 0, 0, 0, 0, 0, 0, 0, 0, 0, 0, 0, 0, 0, 0, 0, 0, 0, 0, 0, 0, 0, 0, 0, 0, 0, 0, 0, 0, 0, 0, 0, 0, 0, 0, 0, 0, 0, 0, 0, 0], [0, 0.021911076959804633, 0.005364874848746695, 0.004270628523081541, 0, 0, 0.0028192045801552013, 0.005761827665846795, 0.003718848031130619, 0.018780211105477066, 0, 0, 0.0028192045801552013, 0.005761827665846795, 0.009062755212653428, 0.005270850855158642, 0.00669992613082286, 0, 0, 0, 0, 0, 0, 0, 0, 0, 0, 0, 0, 0, 0, 0, 0, 0, 0, 0, 0, 0, 0, 0, 0, 0, 0, 0, 0, 0, 0, 0, 0, 0, 0, 0, 0, 0], [0.00717169804032892, 0.005364874848746695, 0.004270628523081541, 0, 0, 0.00711763059720397, 0.005294305666611762, 0, 0, 0, 0, 0, 0, 0, 0, 0, 0, 0, 0, 0, 0, 0, 0, 0, 0, 0, 0, 0, 0, 0, 0, 0, 0, 0, 0, 0, 0, 0, 0, 0, 0, 0, 0, 0, 0, 0, 0, 0, 0, 0, 0, 0, 0, 0], [0.021911076959804633, 0.003704766325536184, -0.0004038780811242759, 0, 0, 0, 0, 0, 0, 0, 0, 0, 0, 0, 0, 0, 0, 0, 0, 0, 0, 0, 0, 0, 0, 0, 0, 0, 0, 0, 0, 0, 0, 0, 0, 0, 0, 0, 0, 0, 0, 0, 0, 0, 0, 0, 0, 0, 0, 0, 0, 0, 0, 0], [0, 0, 0, 0.002723432902712375, 0, 0, 0, 0.009351481785997748, 0.005830539440648863, 0.021911076959804633, 0, 0.006906141615472734, 0, 0, 0.004762614017381566, 0, 0, 0, 0, 0, 0, 0, 0, 0, 0, 0, 0, 0, 0, 0, 0, 0, 0, 0, 0, 0, 0, 0, 0, 0, 0, 0, 0, 0, 0, 0, 0, 0, 0, 0, 0, 0, 0, 0], [0.00711763059720397, 0, 0, 0, 0.010456243525259196, 0, 0, 0.0062575521483086045, 0.001117255136196036, 0, 0.0030385943822329865, 0, 0, 0, 0, 0, 0, 0, 0, 0, 0, 0, 0, 0, 0, 0, 0, 0, 0, 0, 0, 0, 0, 0, 0, 0, 0, 0, 0, 0, 0, 0, 0, 0, 0, 0, 0, 0, 0, 0, 0, 0, 0, 0], [0.00711763059720397, 0.008247049853671341, 0, 0.006124050582875498, 0, 0.00499521594203543, 0.006342179416678846, 0.00711763059720397, 0.008247049853671341, 0, 0.006124050582875498, 0, 0, 0.00499521594203543, 0, 0, 0, 0, 0, 0, 0, 0, 0, 0, 0, 0, 0, 0, 0, 0, 0, 0, 0, 0, 0, 0, 0, 0, 0, 0, 0, 0, 0, 0, 0, 0, 0, 0, 0, 0, 0, 0, 0, 0], [0, 0.021911076959804633, 0, 0, 0, 0, 0, 0, 0, 0, 0, 0, 0, 0, 0, 0, 0, 0, 0, 0, 0, 0, 0, 0, 0, 0, 0, 0, 0, 0, 0, 0, 0, 0, 0, 0, 0, 0, 0, 0, 0, 0, 0, 0, 0, 0, 0, 0, 0, 0, 0, 0, 0, 0], [0.010456243525259196, 0.0068672005683765745, 0, 0.008095858281012624, 0.005009827462490648, 0.010212600417435169, 0.001117255136196036, 0, 0, 0, 0.009321353193372487, 0.013081385986879468, 0.010456243525259196, 0.0016739549991325476, 0.0087313675833866, 0, 0.0008023117489938159, 0, 0, 0, 0, 0, 0, 0, 0, 0, 0, 0, 0, 0, 0, 0, 0, 0, 0, 0, 0, 0, 0, 0, 0, 0, 0, 0, 0, 0, 0, 0, 0, 0, 0, 0, 0, 0], [0.0016631461086217313, 0.0005533947073854506, 0.010212600417435169, 0.0021669537120033054, 0, 0.007200968124670908, 0, 0, 0, 0, 0, 0, 0, 0, 0, 0, 0, 0, 0, 0, 0, 0, 0, 0, 0, 0, 0, 0, 0, 0, 0, 0, 0, 0, 0, 0, 0, 0, 0, 0, 0, 0, 0, 0, 0, 0, 0, 0, 0, 0, 0, 0, 0, 0], [0, 0, 0, 0, 0.004479031524388119, 0, 0, 0, 0.0037486705265473573, 0.018780211105477066, 0.01004290053853765, 0.005421144487336278, 0, 0, 0, 0, 0, 0, 0, 0, 0, 0, 0, 0, 0, 0, 0, 0, 0, 0, 0, 0, 0, 0, 0, 0, 0, 0, 0, 0, 0, 0, 0, 0, 0, 0, 0, 0, 0, 0, 0, 0, 0, 0], [0, -0.00109450847026892, 0, 0.021911076959804633, 0.0001885391178075224, 0, 0.0018245016306173056, 0.0018245016306173056, 0, 0.004716342353494838, 0, 0, 0.0046614568360382694, 0, 0, 0, 0, 0, 0, 0, 0, 0, 0, 0, 0, 0, 0, 0, 0, 0, 0, 0, 0, 0, 0, 0, 0, 0, 0, 0, 0, 0, 0, 0, 0, 0, 0, 0, 0, 0, 0, 0, 0, 0], [0.021911076959804633, 0, 0, 0.003409730050334474, 0, 0, 0, 0.011056487309979275, 0, 0, 0, 0, 0, 0.021911076959804633, 0, 0, 0, 0, 0, 0, 0, 0, 0, 0, 0, 0, 0, 0, 0, 0, 0, 0, 0, 0, 0, 0, 0, 0, 0, 0, 0, 0, 0, 0, 0, 0, 0, 0, 0, 0, 0, 0, 0, 0], [0.001974593524937518, 0, 0, 0.021911076959804633, 0, 0, 0, 0, 0, 0, 0, 0, 0, 0, 0, 0, 0, 0, 0, 0, 0, 0, 0, 0, 0, 0, 0, 0, 0, 0, 0, 0, 0, 0, 0, 0, 0, 0, 0, 0, 0, 0, 0, 0, 0, 0, 0, 0, 0, 0, 0, 0, 0, 0], [0.012333311457186937, 0, 0.009972903087327723, 0, 0, 0.007053639809601009, 0, 0, 0, 0, 0, 0, 0, 0, 0, 0, 0, 0, 0, 0, 0, 0, 0, 0, 0, 0, 0, 0, 0, 0, 0, 0, 0, 0, 0, 0, 0, 0, 0, 0, 0, 0, 0, 0, 0, 0, 0, 0, 0, 0, 0, 0, 0, 0], [0, 0.012333311457186937, 0, 0.008896041447296738, 0.0033612935594283045, 0, 0.010687941344658612, 0.004602464619092643, 0, 0, 0, 0, 0, 0, 0, 0, 0, 0, 0, 0, 0, 0, 0, 0, 0, 0, 0, 0, 0, 0, 0, 0, 0, 0, 0, 0, 0, 0, 0, 0, 0, 0, 0, 0, 0, 0, 0, 0, 0, 0, 0, 0, 0, 0], [0.005172213345067575, 0.009321353193372487, 0.021911076959804633, 0.0086907105660066, 0, 0, 0.018780211105477066, 0.00690833337182994, 0.00717169804032892, 0.005423012659302912, 0, 0.0076260346005437895, 0.004285012255422771, 0, 0, 0, 0, 0, 0, 0, 0, 0, 0, 0, 0, 0, 0, 0, 0, 0, 0, 0, 0, 0, 0, 0, 0, 0, 0, 0, 0, 0, 0, 0, 0, 0, 0, 0, 0, 0, 0, 0, 0, 0], [0.011783356991363689, 0, 0.007955136921955272, 0, 0, 0, 0, 0, 0, 0, 0, 0, 0, 0, 0, 0, 0, 0, 0, 0, 0, 0, 0, 0, 0, 0, 0, 0, 0, 0, 0, 0, 0, 0, 0, 0, 0, 0, 0, 0, 0, 0, 0, 0, 0, 0, 0, 0, 0, 0, 0, 0, 0, 0], [0.0010148012406716589, 0.005294305666611762, 0.0076260346005437895, 0, 0, 0, 0, 0.0046614568360382694, 0, 0, 0, 0, 0, 0, 0, 0, 0, 0, 0, 0, 0, 0, 0, 0, 0, 0, 0, 0, 0, 0, 0, 0, 0, 0, 0, 0, 0, 0, 0, 0, 0, 0, 0, 0, 0, 0, 0, 0, 0, 0, 0, 0, 0, 0], [0.0029551934415940197, 0, 0.00479869622271508, 0, 0.012333311457186937, 0.009972903087327723, 0.0011946333479136229, 0, 0.012333311457186937, 0.007955136921955272, 0.007317330074092751, 0.004857929669087753, 0.007053639809601009, 0, 0, 0, 0, 0, 0, 0, 0, 0, 0, 0, 0, 0, 0, 0, 0, 0, 0, 0, 0, 0, 0, 0, 0, 0, 0, 0, 0, 0, 0, 0, 0, 0, 0, 0, 0, 0, 0, 0, 0, 0], [0, 0, 0.0025610892141412476, 0.005181689184391871, 0, 0, 0.0010148012406716589, 0.0046614568360382694, 0, 0, 0.0025610892141412476, 0, 0, 0, 0, 0, 0, 0, 0, 0, 0, 0, 0, 0, 0, 0, 0, 0, 0, 0, 0, 0, 0, 0, 0, 0, 0, 0, 0, 0, 0, 0, 0, 0, 0, 0, 0, 0, 0, 0, 0, 0, 0, 0], [0.021911076959804633, 0.018780211105477066, 0.01004290053853765, 0.009670199446845799, 0.010456243525259196, 0, 0, 0, 0, 0, 0, 0, 0, 0, 0, 0, 0, 0, 0, 0, 0, 0, 0, 0, 0, 0, 0, 0, 0, 0, 0, 0, 0, 0, 0, 0, 0, 0, 0, 0, 0, 0, 0, 0, 0, 0, 0, 0, 0, 0, 0, 0, 0, 0], [0, 0.003409730050334474, 0.003954554310184904, 0.021911076959804633, 0.004436952991527505, 0.0037905845612112897, 0.004287795689888299, 0.0086907105660066, 0, 0.021911076959804633, 0, 0, 0.0086907105660066, 0.0018232987582450732, 0, 0, 0, 0, 0, 0, 0, 0, 0, 0, 0, 0, 0, 0, 0, 0, 0, 0, 0, 0, 0, 0, 0, 0, 0, 0, 0, 0, 0, 0, 0, 0, 0, 0, 0, 0, 0, 0, 0, 0], [0, 0.010456243525259196, 0.011260298262350261, 0.005154816899448633, 0, 0.002142472059058491, 0, 0, 0.013081385986879468, 0, 0, 0, 0, 0, 0, 0, 0, 0, 0, 0, 0, 0, 0, 0, 0, 0, 0, 0, 0, 0, 0, 0, 0, 0, 0, 0, 0, 0, 0, 0, 0, 0, 0, 0, 0, 0, 0, 0, 0, 0, 0, 0, 0, 0], [0, 0, 0.021911076959804633, 0, 0, 0, 0, 0, 0, 0, 0, 0, 0, 0, 0, 0, 0, 0, 0, 0, 0, 0, 0, 0, 0, 0, 0, 0, 0, 0, 0, 0, 0, 0, 0, 0, 0, 0, 0, 0, 0, 0, 0, 0, 0, 0, 0, 0, 0, 0, 0, 0, 0, 0], [0.021911076959804633, 0.0021095626791066023, 0, 0.008896041447296738, 0, 0, 0, 0, 0, 0, 0, 0, 0, 0, 0, 0, 0, 0, 0, 0, 0, 0, 0, 0, 0, 0, 0, 0, 0, 0, 0, 0, 0, 0, 0, 0, 0, 0, 0, 0, 0, 0, 0, 0, 0, 0, 0, 0, 0, 0, 0, 0, 0, 0], [0.00820138094946742, 0.005761827665846795, 0.009351481785997748, 0.0037258451245725157, 0.009062755212653428, 0.009468417163006962, 0, 0, 0, 0, 0, 0, 0, 0, 0, 0, 0, 0, 0, 0, 0, 0, 0, 0, 0, 0, 0, 0, 0, 0, 0, 0, 0, 0, 0, 0, 0, 0, 0, 0, 0, 0, 0, 0, 0, 0, 0, 0, 0, 0, 0, 0, 0, 0], [0, 0, 0, 0.006072884020395577, 0, -0.0003362944605760276, 0, 0, 0, 0, 0, 0, 0, 0, 0, 0, 0, 0, 0, 0, 0, 0, 0, 0, 0, 0, 0, 0, 0, 0, 0, 0, 0, 0, 0, 0, 0, 0, 0, 0, 0, 0, 0, 0, 0, 0, 0, 0, 0, 0, 0, 0, 0, 0], [0.0021669537120033054, 0.021911076959804633, 0.00010894831153564155, 0, 0, 0, 0, 0, 0, 0, 0, 0, 0, 0, 0, 0, 0, 0, 0, 0, 0, 0, 0, 0, 0, 0, 0, 0, 0, 0, 0, 0, 0, 0, 0, 0, 0, 0, 0, 0, 0, 0, 0, 0, 0, 0, 0, 0, 0, 0, 0, 0, 0, 0], [0, 0.008595072099706159, 0.011783356991363689, 0, 0.006347513883374631, 0.004672845379100181, 0, 0.005273815686814487, 0.004312785969814286, 0, 0.00010894831153564155, 0, 0, 0, 0, 0, 0, 0, 0, 0, 0, 0, 0, 0, 0, 0, 0, 0, 0, 0, 0, 0, 0, 0, 0, 0, 0, 0, 0, 0, 0, 0, 0, 0, 0, 0, 0, 0, 0, 0, 0, 0, 0, 0], [0.010456243525259196, 0.006284346536267549, 0.011783356991363689, 0.0038704705481723066, 0.021911076959804633, 0.003448162187123671, 0.007619252814911306, 0.0087313675833866, 0, 0.005407290417933836, 0.004602464619092643, 0, 0, 0, 0, 0, 0, 0, 0, 0, 0, 0, 0, 0, 0, 0, 0, 0, 0, 0, 0, 0, 0, 0, 0, 0, 0, 0, 0, 0, 0, 0, 0, 0, 0, 0, 0, 0, 0, 0, 0, 0, 0, 0], [0, 0.021911076959804633, 0.005294305666611762, 0, 0, 0.021911076959804633, 0.008405648718471638, 0.005664400594687322, 0.0030494545213878154, 0.004280248335562647, 0.006173518459545449, 0.005339696251321584, 0, 0, 0, 0, 0, 0, 0, 0, 0, 0, 0, 0, 0, 0, 0, 0, 0, 0, 0, 0, 0, 0, 0, 0, 0, 0, 0, 0, 0, 0, 0, 0, 0, 0, 0, 0, 0, 0, 0, 0, 0, 0], [0, 0.0076260346005437895, 0.007619252814911306, 0.004524139147542882, 0, 0, 0.013081385986879468, 0, 0, 0, 0, 0, 0, 0, 0, 0, 0, 0, 0, 0, 0, 0, 0, 0, 0, 0, 0, 0, 0, 0, 0, 0, 0, 0, 0, 0, 0, 0, 0, 0, 0, 0, 0, 0, 0, 0, 0, 0, 0, 0, 0, 0, 0, 0], [0.0025579108705278486, 0.002660141712985933, 0, 0.006830525555415079, 0, 2.8064374928362666e-05, 0, 0, 0, 0, 0.0021095626791066023, 0, 0, 0, 0, 0, 0, 0, 0, 0, 0, 0, 0, 0, 0, 0, 0, 0, 0, 0, 0, 0, 0, 0, 0, 0, 0, 0, 0, 0, 0, 0, 0, 0, 0, 0, 0, 0, 0, 0, 0, 0, 0, 0], [0, 0.012333311457186937, 0, 0, 0.0054919070517644285, 0, 0, 0, 0, 0, 0, 0, 0, 0, 0, 0, 0, 0, 0, 0, 0, 0, 0, 0, 0, 0, 0, 0, 0, 0, 0, 0, 0, 0, 0, 0, 0, 0, 0, 0, 0, 0, 0, 0, 0, 0, 0, 0, 0, 0, 0, 0, 0, 0], [0, 0.006830525555415079, 0, 0.007721205520210788, 0.0005533947073854506, 0.007200968124670908, 0, 0, 0.006173518459545449, 0, 0, 0, 0.001974593524937518, 0, 0, 0, 0, 0, 0, 0, 0, 0, 0, 0, 0, 0, 0, 0, 0, 0, 0, 0, 0, 0, 0, 0, 0, 0, 0, 0, 0, 0, 0, 0, 0, 0, 0, 0, 0, 0, 0, 0, 0, 0], [0, 0, 0, 0, 0.004285012255422771, 0.010456243525259196, 0.013081385986879468, 0, 0, 0, 0, 0, 0, 0, 0, 0, 0, 0, 0, 0, 0, 0, 0, 0, 0, 0, 0, 0, 0, 0, 0, 0, 0, 0, 0, 0, 0, 0, 0, 0, 0, 0, 0, 0, 0, 0, 0, 0, 0, 0, 0, 0, 0, 0], [0.003409730050334474, 0.011783356991363689, 0, 0.011783356991363689, 0, 0, 0, 0, 0, 0, 0, 0, 0, 0, 0, 0, 0, 0, 0, 0, 0, 0, 0, 0, 0, 0, 0, 0, 0, 0, 0, 0, 0, 0, 0, 0, 0, 0, 0, 0, 0, 0, 0, 0, 0, 0, 0, 0, 0, 0, 0, 0, 0, 0], [0, 0, 0.00393807357060723, 0, 0, 0, 0, 0.00393807357060723, 0.00400205964280758, 0, 0.0025610892141412476, 0.010456243525259196, 0.003421361803775653, 0, 0.011783356991363689, 0.007317330074092751, 0, 0, 0, 0, 0, 0, 0, 0, 0, 0, 0, 0, 0, 0, 0, 0, 0, 0, 0, 0, 0, 0, 0, 0, 0, 0, 0, 0, 0, 0, 0, 0, 0, 0, 0, 0, 0, 0], [0.007619252814911306, 0.021911076959804633, 0.005066851952578872, 0, 0, 0, 0, 0, 0, 0, 0, 0, 0, 0, 0, 0, 0, 0, 0, 0, 0, 0, 0, 0, 0, 0, 0, 0, 0, 0, 0, 0, 0, 0, 0, 0, 0, 0, 0, 0, 0, 0, 0, 0, 0, 0, 0, 0, 0, 0, 0, 0, 0, 0], [0.003038089242763817, 0.021911076959804633, 0, 0, 0.00499521594203543, 0.0027217954643128906, 0, 0, 0, 0, 0, 0, 0, 0, 0, 0, 0, 0, 0, 0, 0, 0, 0, 0, 0, 0, 0, 0, 0, 0, 0, 0, 0, 0, 0, 0, 0, 0, 0, 0, 0, 0, 0, 0, 0, 0, 0, 0, 0, 0, 0, 0, 0, 0], [0.005288849470671267, 0.007721205520210788, 0.003225922184064984, 0.018780211105477066, 0.008410259273368866, 0, 0.0104539439851942, 0.0104539439851942, 0.003900494877016172, 0, 0.005417290395125746, 0, 0.008410259273368866, 0, 0, 0, 0, 0, 0, 0, 0, 0, 0, 0, 0, 0, 0, 0, 0, 0, 0, 0, 0, 0, 0, 0, 0, 0, 0, 0, 0, 0, 0, 0, 0, 0, 0, 0, 0, 0, 0, 0, 0, 0], [0, 0.004657003212487325, 0, 0.021911076959804633, 0.004270628523081541, 0.004159468441503123, 0, 0, 0, 0, 0, 0, 0, 0, 0, 0, 0, 0, 0, 0, 0, 0, 0, 0, 0, 0, 0, 0, 0, 0, 0, 0, 0, 0, 0, 0, 0, 0, 0, 0, 0, 0, 0, 0, 0, 0, 0, 0, 0, 0, 0, 0, 0, 0], [0.007619252814911306, 0.021911076959804633, 0.005609775264747441, 0, 0, 0, 0, 0.003540754606947303, 0, 0, 0, 0, 0, 0, 0, 0, 0, 0, 0, 0, 0, 0, 0, 0, 0, 0, 0, 0, 0, 0, 0, 0, 0, 0, 0, 0, 0, 0, 0, 0, 0, 0, 0, 0, 0, 0, 0, 0, 0, 0, 0, 0, 0, 0], [0.013961807426530868, 0.018780211105477066, 0.004837473733350635, 0.0025579108705278486, 0.004270628523081541, 0, 0, 0, 0, 0, 0, 0, 0, 0, 0, 0, 0, 0, 0, 0, 0, 0, 0, 0, 0, 0, 0, 0, 0, 0, 0, 0, 0, 0, 0, 0, 0, 0, 0, 0, 0, 0, 0, 0, 0, 0, 0, 0, 0, 0, 0, 0, 0, 0], [0.003421361803775653, 0.002993646936956793, 0, 0.009079633490182459, 0.011783356991363689, 0.0086335178965237, 0.002286195635970216, 0, 0, 0, 0, 0.0011680733051616697, 0, 0, 0.0043688107602065426, 0, 0, 0, 0, 0, 0, 0, 0, 0, 0, 0, 0, 0, 0, 0, 0, 0, 0, 0, 0, 0, 0, 0, 0, 0, 0, 0, 0, 0, 0, 0, 0, 0, 0, 0, 0, 0, 0, 0], [0.007573577610310167, 0.021911076959804633, 0.0023769375681877134, 0.021911076959804633, 0, 0.021911076959804633, 0.021911076959804633, 0, 0, 0, 0, 0, 0, 0, 0, 0, 0, 0, 0, 0, 0, 0, 0, 0, 0, 0, 0, 0, 0, 0, 0, 0, 0, 0, 0, 0, 0, 0, 0, 0, 0, 0, 0, 0, 0, 0, 0, 0, 0, 0, 0, 0, 0, 0], [0, 0.005761827665846795, 0.012333311457186937, 0.005808940853239619, 0, 0.009062755212653428, 0.009468417163006962, 0.004952889066189527, 0, 0, 0, 0, 0, 0, 0, 0, 0, 0, 0, 0, 0, 0, 0, 0, 0, 0, 0, 0, 0, 0, 0, 0, 0, 0, 0, 0, 0, 0, 0, 0, 0, 0, 0, 0, 0, 0, 0, 0, 0, 0, 0, 0, 0, 0], [0.0009915670281043275, 0.003409730050334474, 0.011056487309979275, 0.006893606712692417, 0, 0, 0, 0, 0, 0, 0, 0, 0, 0, 0, 0, 0, 0, 0, 0, 0, 0, 0, 0, 0, 0, 0, 0, 0, 0, 0, 0, 0, 0, 0, 0, 0, 0, 0, 0, 0, 0, 0, 0, 0, 0, 0, 0, 0, 0, 0, 0, 0, 0], [0.021911076959804633, 0.007619252814911306, 0.0087313675833866, 0.002052207394153811, 0.004387113240663893, 0, 0.009849514192901553, 0.021911076959804633, 0.007619252814911306, 0.0087313675833866, 0.002052207394153811, 0, 0, 0, 0, 0, 0, 0, 0, 0, 0, 0, 0, 0, 0, 0, 0, 0, 0, 0, 0, 0, 0, 0, 0, 0, 0, 0, 0, 0, 0, 0, 0, 0, 0, 0, 0, 0, 0, 0, 0, 0, 0, 0], [0, 0, 0.005154816899448633, 0, 0, 0.003086928837001324, 0.021911076959804633, 0, 0.010212600417435169, 0, 0, 0, 0, 0.021911076959804633, 0.009972903087327723, 0, 0, 0, 0, 0, 0, 0, 0, 0, 0, 0, 0, 0, 0, 0, 0, 0, 0, 0, 0, 0, 0, 0, 0, 0, 0, 0, 0, 0, 0, 0, 0, 0, 0, 0, 0, 0, 0, 0], [0.006550090394739527, 0, 0.007200968124670908, 0.021911076959804633, 0.005105516132898629, 0, 0.00629557338077575, 0.011056487309979275, 0.0010871552588650956, 0, 0, 0, 0, 0, 0, 0, 0, 0, 0, 0, 0, 0, 0, 0, 0, 0, 0, 0, 0, 0, 0, 0, 0, 0, 0, 0, 0, 0, 0, 0, 0, 0, 0, 0, 0, 0, 0, 0, 0, 0, 0, 0, 0, 0], [0.012333311457186937, 0, 0, 0, 0, 0, 0.004297401687945239, 0, 0, 0.012333311457186937, 0, 0, 0, 0, 0, 0, 0, 0, 0, 0, 0, 0, 0, 0, 0, 0, 0, 0, 0, 0, 0, 0, 0, 0, 0, 0, 0, 0, 0, 0, 0, 0, 0, 0, 0, 0, 0, 0, 0, 0, 0, 0, 0, 0], [0.008247049853671341, 0, 0, 0, 0.0026958262306288816, 0.007619252814911306, 0.011783356991363689, 0, 0, 0.002282963823527098, 0.021911076959804633, 0, 0, 0, 0, 0.00717169804032892, 0, 0.0013798828586004674, 0, 0, 0, 0, 0, 0, 0, 0, 0, 0, 0, 0, 0, 0, 0, 0, 0, 0, 0, 0, 0, 0, 0, 0, 0, 0, 0, 0, 0, 0, 0, 0, 0, 0, 0, 0], [0, 0.018780211105477066, 0.003971495085861534, 0.013081385986879468, 0.004366242053802125, 0.0076260346005437895, 0, 0.006640149247832596, 0, 0, 0, 0, 0, 0, 0, 0, 0, 0, 0, 0, 0, 0, 0, 0, 0, 0, 0, 0, 0, 0, 0, 0, 0, 0, 0, 0, 0, 0, 0, 0, 0, 0, 0, 0, 0, 0, 0, 0, 0, 0, 0, 0, 0, 0], [0.00820138094946742, 0, 0, 0, 0, 0, 0, 0, 0, 0, 0, 0, 0, 0, 0, 0, 0, 0, 0, 0, 0, 0, 0, 0, 0, 0, 0, 0, 0, 0, 0, 0, 0, 0, 0, 0, 0, 0, 0, 0, 0, 0, 0, 0, 0, 0, 0, 0, 0, 0, 0, 0, 0, 0], [0.009351481785997748, 0.00438595422252547, 0.00479595081473235, 0.008405648718471638, 0.021911076959804633, 0, 0, 0, 0, 0, 0, 0, 0, 0, 0, 0, 0, 0, 0, 0, 0, 0, 0, 0, 0, 0, 0, 0, 0, 0, 0, 0, 0, 0, 0, 0, 0, 0, 0, 0, 0, 0, 0, 0, 0, 0, 0, 0, 0, 0, 0, 0, 0, 0], [0.021911076959804633, 0.009972903087327723, 0.005541188955539837, 0, 0.021911076959804633, 0.009079633490182459, 0, 0.007053639809601009, 0, 0, 0, 0, 0, 0, 0, 0, 0, 0, 0, 0, 0, 0, 0, 0, 0, 0, 0, 0, 0, 0, 0, 0, 0, 0, 0, 0, 0, 0, 0, 0, 0, 0, 0, 0, 0, 0, 0, 0, 0, 0, 0, 0, 0, 0], [0.004900831277482211, 0.013081385986879468, 0.005861717363586649, 0.00717169804032892, 0.018780211105477066, 0.0037486705265473573, 0.018780211105477066, 0.0018867091269930824, 0.0037258451245725157, 0, 0, 0, 0, 0, 0, 0, 0, 0, 0, 0, 0, 0, 0, 0, 0, 0, 0, 0, 0, 0, 0, 0, 0, 0, 0, 0, 0, 0, 0, 0, 0, 0, 0, 0, 0, 0, 0, 0, 0, 0, 0, 0, 0, 0], [0.005609775264747441, 0, 0, 0, 0.0025018275770707986, 0, 0.003540754606947303, 0, 0.006173518459545449, 0, 0.0040978914807783436, 0.010076890250202268, 0.021911076959804633, 0.005354879808146506, 0, 0, 0, 0, 0, 0, 0, 0, 0, 0, 0, 0, 0, 0, 0, 0, 0, 0, 0, 0, 0, 0, 0, 0, 0, 0, 0, 0, 0, 0, 0, 0, 0, 0, 0, 0, 0, 0, 0, 0], [0.0003125323075801134, 0.008896041447296738, 0, 0, 0, 0, 0, 0, 0, 0, 0, 0, 0, 0, 0, 0, 0, 0, 0, 0, 0, 0, 0, 0, 0, 0, 0, 0, 0, 0, 0, 0, 0, 0, 0, 0, 0, 0, 0, 0, 0, 0, 0, 0, 0, 0, 0, 0, 0, 0, 0, 0, 0, 0], [0.013081385986879468, 0, 0, 0, 0, 0, 0, 0, 0, 0, 0, 0, 0, 0, 0, 0, 0, 0, 0, 0, 0, 0, 0, 0, 0, 0, 0, 0, 0, 0, 0, 0, 0, 0, 0, 0, 0, 0, 0, 0, 0, 0, 0, 0, 0, 0, 0, 0, 0, 0, 0, 0, 0, 0], [0, 0.007885654815472662, 0.009351481785997748, 0.021911076959804633, 0.001058791525356355, 0.009062755212653428, 0.009468417163006962, 0.0039603984809946265, 0, 0, 0, 0, 0, 0, 0, 0, 0, 0, 0, 0, 0, 0, 0, 0, 0, 0, 0, 0, 0, 0, 0, 0, 0, 0, 0, 0, 0, 0, 0, 0, 0, 0, 0, 0, 0, 0, 0, 0, 0, 0, 0, 0, 0, 0], [0, 0, 0, 0, 0, 0, 0, 0, 0, 0, 0, 0, 0, 0, 0, 0, 0, 0, 0, 0, 0, 0, 0, 0, 0, 0, 0, 0, 0, 0, 0, 0, 0, 0, 0, 0, 0, 0, 0, 0, 0, 0, 0, 0, 0, 0, 0, 0, 0, 0, 0, 0, 0, 0], [0, 0, 0, 0, 0, 0.005808940853239619, 0, 0, 0.008384832798037678, 0, 0, 0, 0, 0, 0, 0, 0, 0, 0, 0, 0, 0, 0, 0, 0, 0, 0, 0, 0, 0, 0, 0, 0, 0, 0, 0, 0, 0, 0, 0, 0, 0, 0, 0, 0, 0, 0, 0, 0, 0, 0, 0, 0, 0], [0, 0.00796171547845006, 0, 0.004672845379100181, 0, 0, 0.008405648718471638, 0.0030385943822329865, 0.021911076959804633, 0, 0.01004290053853765, 0.009062755212653428, 0.011783356991363689, 0.0086335178965237, 0.0039603984809946265, 0.011783356991363689, 0.0086335178965237, 0.002286195635970216, 0.006072884020395577, 0.007200968124670908, 0.021911076959804633, 0, 0.01004290053853765, 0, 0, 0, 0, 0.00796171547845006, 0, 0, 0, 0, 0, 0, 0, 0, 0, 0, 0, 0, 0, 0, 0, 0, 0, 0, 0, 0, 0, 0, 0, 0, 0, 0], [0.0011946333479136229, 0.009849514192901553, 0.021911076959804633, 0.006347513883374631, 0.005830539440648863, 0.010076890250202268, 0, 0.0011946333479136229, 0.002142472059058491, 0.010076890250202268, 0, 0.021911076959804633, 0.006347513883374631, 0.007053639809601009, 0, 0, 0, 0, 0, 0, 0, 0, 0, 0, 0, 0, 0, 0, 0, 0, 0, 0, 0, 0, 0, 0, 0, 0, 0, 0, 0, 0, 0, 0, 0, 0, 0, 0, 0, 0, 0, 0, 0, 0], [0, 0.021911076959804633, 0.003704766325536184, -0.00047093553381273524, 0.006342179416678846, 0.021911076959804633, 0.004297401687945239, 0.007885654815472662, 0, 0.021911076959804633, 0.0032373300881590695, 0, 0, 0, 0, 0, 0, 0, 0, 0, 0, 0, 0, 0, 0, 0, 0, 0, 0, 0, 0, 0, 0, 0, 0, 0, 0, 0, 0, 0, 0, 0, 0, 0, 0, 0, 0, 0, 0, 0, 0, 0, 0, 0], [0.021911076959804633, 0.007619252814911306, 0, 0.002052207394153811, 0.007053639809601009, 0, 0, 0, 0, 0, 0, 0, 0, 0, 0, 0, 0, 0, 0, 0, 0, 0, 0, 0, 0, 0, 0, 0, 0, 0, 0, 0, 0, 0, 0, 0, 0, 0, 0, 0, 0, 0, 0, 0, 0, 0, 0, 0, 0, 0, 0, 0, 0, 0], [0, 0.010456243525259196, 0, 0, 0.013081385986879468, 0, 0, 0, 0, 0, 0.013081385986879468, 0, 0.00013372795423492788, 0, 0, 0, 0, 0, 0, 0, 0, 0, 0, 0, 0, 0, 0, 0, 0, 0, 0, 0, 0, 0, 0, 0, 0, 0, 0, 0, 0, 0, 0, 0, 0, 0, 0, 0, 0, 0, 0, 0, 0, 0], [0, 0.010456243525259196, 0.011260298262350261, 0.007885654815472662, 0.0018721467698924244, 0, 0, 0.013081385986879468, 0.009972903087327723, 0.008366612775207614, 0, 0, 0, 0, 0, 0, 0, 0, 0, 0, 0, 0, 0, 0, 0, 0, 0, 0, 0, 0, 0, 0, 0, 0, 0, 0, 0, 0, 0, 0, 0, 0, 0, 0, 0, 0, 0, 0, 0, 0, 0, 0, 0, 0], [0.021911076959804633, 0.009972903087327723, 0.004387113240663893, 0.004999528252519667, 0.0010476243757875636, 0.004387113240663893, 0.004531958240550011, 0.021911076959804633, 0.004612976242788136, 0.0053318358073011045, 0.004837473733350635, 0, 0, 0, 0, 0, 0, 0, 0, 0, 0, 0, 0, 0, 0, 0, 0, 0, 0, 0, 0, 0, 0, 0, 0, 0, 0, 0, 0, 0, 0, 0, 0, 0, 0, 0, 0, 0, 0, 0, 0, 0, 0, 0], [0, 0, 0.021911076959804633, 0.007955136921955272, 0.0087313675833866, 0, 0, 0, 0, 0, 0, 0, 0, 0, 0, 0, 0, 0, 0, 0, 0, 0, 0, 0, 0, 0, 0, 0, 0, 0, 0, 0, 0, 0, 0, 0, 0, 0, 0, 0, 0, 0, 0, 0, 0, 0, 0, 0, 0, 0, 0, 0, 0, 0], [0.005008865799754858, 0.0035591129399836063, 0.003960306213703007, 0.006398396545555443, 0.00500804370152764, 0.009062755212653428, 0.009468417163006962, 0.005659452808031346, 0, 0, 0, 0, 0, 0, 0, 0, 0, 0, 0, 0, 0, 0, 0, 0, 0, 0, 0, 0, 0, 0, 0, 0, 0, 0, 0, 0, 0, 0, 0, 0, 0, 0, 0, 0, 0, 0, 0, 0, 0, 0, 0, 0, 0, 0], [0, 0.0006457340717315674, 0.0017422107196762226, 0.010456243525259196, 0, 0.021911076959804633, 0.0030494545213878154, 0, 0, 0, 0, 0, 0, 0, 0, 0, 0, 0, 0, 0, 0, 0, 0, 0, 0, 0, 0, 0, 0, 0, 0, 0, 0, 0, 0, 0, 0, 0, 0, 0, 0, 0, 0, 0, 0, 0, 0, 0, 0, 0, 0, 0, 0, 0], [0, 0, 0.004312785969814286, 0, 0, 0.021911076959804633, 0.005344649064354599, 0, 0, 0, 0.005973038374213502, 0.002282963823527098, 0.021911076959804633, 0.005344649064354599, 0, 0.00820138094946742, 0.0012475030761561357, 0, 0.010212600417435169, 0.00595191415573936, 0.021911076959804633, 0.0021410928666591644, 0, 0, 0, 0, 0, 0, 0, 0, 0, 0, 0, 0, 0, 0, 0, 0, 0, 0, 0, 0, 0, 0, 0, 0, 0, 0, 0, 0, 0, 0, 0, 0], [0, 0, 0.0018108298000879585, 0, 0, 0, 0.021911076959804633, 0.008595072099706159, 0, 0.006173518459545449, 0.004387113240663893, 0, 0, 0, 0, 0, 0, 0, 0, 0, 0, 0, 0, 0, 0, 0, 0, 0, 0, 0, 0, 0, 0, 0, 0, 0, 0, 0, 0, 0, 0, 0, 0, 0, 0, 0, 0, 0, 0, 0, 0, 0, 0, 0], [0, 0, 2.8064374928362666e-05, 0, 0.006398396545555443, 0, 0, 0.007200968124670908, 0.00717169804032892, 0.018780211105477066, 0.012333311457186937, 0, 0.006342179416678846, 0, 0, 0, 0, 0, 0, 0, 0, 0, 0, 0, 0, 0, 0, 0, 0, 0, 0, 0, 0, 0, 0, 0, 0, 0, 0, 0, 0, 0, 0, 0, 0, 0, 0, 0, 0, 0, 0, 0, 0, 0], [0.008405648718471638, 0, 0.008247049853671341, 0.008095858281012624, 0.011783356991363689, 0.0040491881361958805, 0.006022993716760539, 0, 0, 0, 0, 0, 0, 0, 0, 0, 0, 0, 0, 0, 0, 0, 0, 0, 0, 0, 0, 0, 0, 0, 0, 0, 0, 0, 0, 0, 0, 0, 0, 0, 0, 0, 0, 0, 0, 0, 0, 0, 0, 0, 0, 0, 0, 0], [0.0010476243757875636, 0.021911076959804633, 0.00690833337182994, 0.021911076959804633, 0.006014448357746005, 0.004491522522512241, 0.003671275819360744, 0.00669992613082286, 0, 0, 0, 0, 0, 0, 0, 0, 0, 0, 0, 0, 0, 0, 0, 0, 0, 0, 0, 0, 0, 0, 0, 0, 0, 0, 0, 0, 0, 0, 0, 0, 0, 0, 0, 0, 0, 0, 0, 0, 0, 0, 0, 0, 0, 0], [0, 0, 0.0023140144150238483, 0.005609775264747441, 0, 0.021911076959804633, 0, 0, 0, 0, 0, 0, 0, 0, 0, 0, 0, 0, 0, 0, 0, 0, 0, 0, 0, 0, 0, 0, 0, 0, 0, 0, 0, 0, 0, 0, 0, 0, 0, 0, 0, 0, 0, 0, 0, 0, 0, 0, 0, 0, 0, 0, 0, 0], [0, 0, 0, 0, 0, 0.0018721467698924244, 0.011783356991363689, 0, 0, 0.00438595422252547, 0.021911076959804633, 0, 0, 0, 0, 0, 0, 0, 0, 0, 0, 0, 0, 0, 0, 0, 0, 0, 0, 0, 0, 0, 0, 0, 0, 0, 0, 0, 0, 0, 0, 0, 0, 0, 0, 0, 0, 0, 0, 0, 0, 0, 0, 0], [0.002910701469518244, 0.00023799171147402377, 0.005154816899448633, 0.010076890250202268, 0.010687941344658612, 0.008615999628091231, 0.005407290417933836, 0.008896041447296738, 0.013081385986879468, 0.004325853048685531, 0, 0, 0, 0, 0, 0, 0, 0, 0, 0, 0, 0, 0, 0, 0, 0, 0, 0, 0, 0, 0, 0, 0, 0, 0, 0, 0, 0, 0, 0, 0, 0, 0, 0, 0, 0, 0, 0, 0, 0, 0, 0, 0, 0], [0, 0, 0.002984581945784157, 0.018780211105477066, 0.007955136921955272, 0.00711763059720397, 0, 0, 0, 0, 0, 0, 0, 0, 0, 0, 0, 0, 0, 0, 0, 0, 0, 0, 0, 0, 0, 0, 0, 0, 0, 0, 0, 0, 0, 0, 0, 0, 0, 0, 0, 0, 0, 0, 0, 0, 0, 0, 0, 0, 0, 0, 0, 0], [0, 0, 0.021911076959804633, 0.0023769375681877134, 0.0037843242660164835, 0.009062755212653428, 0.021911076959804633, 0.00479595081473235, 0, 0.0026330027834046634, 0, 0, 0, 0, 0, 0, 0, 0, 0, 0, 0, 0, 0, 0, 0, 0, 0, 0, 0, 0, 0, 0, 0, 0, 0, 0, 0, 0, 0, 0, 0, 0, 0, 0, 0, 0, 0, 0, 0, 0, 0, 0, 0, 0], [0, 0, 0.021911076959804633, 0.00013372795423492788, 0.005864947179798036, 0, 0.007885654815472662, 0, 0, 0, 0, 0, 0, 0, 0, 0, 0, 0, 0, 0, 0, 0, 0, 0, 0, 0, 0, 0, 0, 0, 0, 0, 0, 0, 0, 0, 0, 0, 0, 0, 0, 0, 0, 0, 0, 0, 0, 0, 0, 0, 0, 0, 0, 0], [0, 0, 0.021911076959804633, 0.004325853048685531, 0.004491522522512241, 0.005354879808146506, 0, 0, 0, 0, 0, 0, 0, 0, 0, 0, 0, 0, 0, 0, 0, 0, 0, 0, 0, 0, 0, 0, 0, 0, 0, 0, 0, 0, 0, 0, 0, 0, 0, 0, 0, 0, 0, 0, 0, 0, 0, 0, 0, 0, 0, 0, 0, 0], [0.021911076959804633, 0, 0, 0, 0, 0, -1.030107552651316e-05, 0.004261014768853783, 0, 0, 0, 0, 0, 0, 0, 0, 0, 0, 0, 0, 0, 0, 0, 0, 0, 0, 0, 0, 0, 0, 0, 0, 0, 0, 0, 0, 0, 0, 0, 0, 0, 0, 0, 0, 0, 0, 0, 0, 0, 0, 0, 0, 0, 0], [0.011260298262350261, 0, 0, 0.005154816899448633, 0, 0, 0, 0, 0, 0.004491522522512241, 0.007160692566540092, 0.021911076959804633, 0.004261096743866801, 0, 0, 0, 0, 0, 0, 0, 0, 0, 0, 0, 0, 0, 0, 0, 0, 0, 0, 0, 0, 0, 0, 0, 0, 0, 0, 0, 0, 0, 0, 0, 0, 0, 0, 0, 0, 0, 0, 0, 0, 0], [0, 0.005459203681675717, 0.006398396545555443, 0.00500804370152764, 0.006346868523396551, 0.005008865799754858, 0, 0, 0.005270850855158642, 0, 0.021911076959804633, 0, 0.006372695593163371, 0.002652794427704066, 0, 0.007650797410169616, 0, 0, 0, 0, 0, 0, 0, 0, 0, 0, 0, 0, 0, 0, 0, 0, 0, 0, 0, 0, 0, 0, 0, 0, 0, 0, 0, 0, 0, 0, 0, 0, 0, 0, 0, 0, 0, 0], [0, 0, 0.013081385986879468, 0.006569897560402751, 0, 0.004261014768853783, 0, 0, 0, 0, 0, 0, 0, 0, 0, 0, 0, 0, 0, 0, 0, 0, 0, 0, 0, 0, 0, 0, 0, 0, 0, 0, 0, 0, 0, 0, 0, 0, 0, 0, 0, 0, 0, 0, 0, 0, 0, 0, 0, 0, 0, 0, 0, 0], [0, 0.0035800947027746586, 0.018780211105477066, 0.0026078456395771353, 0, 0, 0.005830539440648863, 0.005047407418023795, 0, 0, 0, 0, 0.003474447191110812, 0.021911076959804633, 0.0021410928666591644, 0.005808940853239619, 0.021911076959804633, 0.004657003212487325, 0, 0, 0, 0, 0.003718848031130619, 0.018780211105477066, 0.002723432902712375, 0, 0, 0, 0, 0, 0, 0, 0, 0, 0, 0, 0, 0, 0, 0, 0, 0, 0, 0, 0, 0, 0, 0, 0, 0, 0, 0, 0, 0], [0.006640149247832596, 0, 0, 0.012333311457186937, 0.018780211105477066, 0.004297401687945239, 0, 0, 0, 0, 0, 0, 0, 0, 0, 0, 0, 0, 0, 0, 0, 0, 0, 0, 0, 0, 0, 0, 0, 0, 0, 0, 0, 0, 0, 0, 0, 0, 0, 0, 0, 0, 0, 0, 0, 0, 0, 0, 0, 0, 0, 0, 0, 0], [0.021911076959804633, 0.0025610892141412476, 0, -0.0005574602403794416, 0, 0, 0, 0, 0, 0, 0, 0, 0, 0, 0, 0, 0, 0, 0, 0, 0, 0, 0, 0, 0, 0, 0, 0, 0, 0, 0, 0, 0, 0, 0, 0, 0, 0, 0, 0, 0, 0, 0, 0, 0, 0, 0, 0, 0, 0, 0, 0, 0, 0], [0.021911076959804633, 0.0013798828586004674, 0.006346868523396551, 0, 0, 0, 0, 0, 0, 0, 0, 0, 0, 0, 0, 0, 0, 0, 0, 0, 0, 0, 0, 0, 0, 0, 0, 0, 0, 0, 0, 0, 0, 0, 0, 0, 0, 0, 0, 0, 0, 0, 0, 0, 0, 0, 0, 0, 0, 0, 0, 0, 0, 0], [0, 0.0032467571884626525, 0, 0, 0, 0.003704766325536184, 0.021911076959804633, 0, 0, 0, 0, 0, 0, 0, 0, 0, 0, 0, 0, 0, 0, 0, 0, 0, 0, 0, 0, 0, 0, 0, 0, 0, 0, 0, 0, 0, 0, 0, 0, 0, 0, 0, 0, 0, 0, 0, 0, 0, 0, 0, 0, 0, 0, 0], [0.003718848031130619, 0.018780211105477066, 0.005659452808031346, 0, 0, 0, 0, 0, 0, 0, 0, 0, 0, 0, 0, 0, 0, 0, 0, 0, 0, 0, 0, 0, 0, 0, 0, 0, 0, 0, 0, 0, 0, 0, 0, 0, 0, 0, 0, 0, 0, 0, 0, 0, 0, 0, 0, 0, 0, 0, 0, 0, 0, 0], [0, 0.012333311457186937, 0.0025610892141412476, 0.008405648718471638, 0, 0.0018245016306173056, 0, 0, 0, 0, 0, 0, 0, 0, 0, 0, 0, 0, 0, 0, 0, 0, 0, 0, 0, 0, 0, 0, 0, 0, 0, 0, 0, 0, 0, 0, 0, 0, 0, 0, 0, 0, 0, 0, 0, 0, 0, 0, 0, 0, 0, 0, 0, 0], [0, 0, 0.005929450906696729, 0, 0, 0.021911076959804633, 0, 0, 0, 0, 0, 0.0015877409384120256, 0.005929450906696729, 0, 0, 0, 0, 0, 0, 0, 0, 0, 0, 0, 0, 0, 0, 0, 0, 0, 0, 0, 0, 0, 0, 0, 0, 0, 0, 0, 0, 0, 0, 0, 0, 0, 0, 0, 0, 0, 0, 0, 0, 0], [0.00575971613638103, 0, 0, 0, 0, 0, 0.008384832798037678, 0, 0, 0, 0, 0, 0, 0.005354879808146506, 0.003671275819360744, 0.011783356991363689, 0, 0.0030494545213878154, 0.0023042819811962545, 0, 0, 0, 0, 0, 0, 0, 0, 0, 0, 0, 0, 0, 0, 0, 0, 0, 0, 0, 0, 0, 0, 0, 0, 0, 0, 0, 0, 0, 0, 0, 0, 0, 0, 0], [0.011783356991363689, 0.0006875827303156256, 0, 0.0076260346005437895, 0.004285012255422771, 0, 0.009972903087327723, 0, 0, 0, 0, 0, 0, 0, 0, 0, 0, 0, 0, 0, 0, 0, 0, 0, 0, 0, 0, 0, 0, 0, 0, 0, 0, 0, 0, 0, 0, 0, 0, 0, 0, 0, 0, 0, 0, 0, 0, 0, 0, 0, 0, 0, 0, 0], [0, 0.021911076959804633, 0, 0.006072884020395577, 0, 0, 0, 0, 0.006173518459545449, 0, 0.0013798828586004674, 0, 0.00717169804032892, 0, 0, 0, 0.004330233988002874, 0.011783356991363689, 0.0054919070517644285, 0, 0.006372695593163371, 0.006072884020395577, 0.007573577610310167, 0, 0, 0, 0.006550090394739527, 0, 0, 0.006550090394739527, 0, 0, 0, 0, 0, 0, 0, 0, 0.021911076959804633, 0.004135885057039559, 0, 0.004280248335562647, 0, 0, 0, 0.002757819969119737, 0, 0, 0, 0, 0, 0, 0, 0], [0.021911076959804633, 0, 0.002242506952024996, 0.010456243525259196, 0, 0, 0, 0, 0, 0, 0, 0, 0, 0, 0, 0, 0, 0, 0, 0, 0, 0, 0, 0, 0, 0, 0, 0, 0, 0, 0, 0, 0, 0, 0, 0, 0, 0, 0, 0, 0, 0, 0, 0, 0, 0, 0, 0, 0, 0, 0, 0, 0, 0], [0.021911076959804633, 0, 0.0025579108705278486, 0, 0, 0.005423012659302912, 0.007885654815472662, 0, 0.006398396545555443, 0.009062755212653428, 0.011783356991363689, 0.005421144487336278, -0.0004038780811242759, 0, 0, 0, 0, 0, 0, 0, 0, 0, 0, 0, 0, 0, 0, 0, 0, 0, 0, 0, 0, 0, 0, 0, 0, 0, 0, 0, 0, 0, 0, 0, 0, 0, 0, 0, 0, 0, 0, 0, 0, 0], [0, 0, 0, 0.009062755212653428, 0.0037486705265473573, 0.018780211105477066, 0.012333311457186937, 0.004285012255422771, 0, 0, 0, 0, 0, 0, 0, 0, 0, 0, 0, 0, 0, 0, 0, 0, 0, 0, 0, 0, 0, 0, 0, 0, 0, 0, 0, 0, 0, 0, 0, 0, 0, 0, 0, 0, 0, 0, 0, 0, 0, 0, 0, 0, 0, 0], [0.021911076959804633, 0, 0.003553662784397602, 0.005294305666611762, 0, 0, 0, 0, 0, 0, 0, 0, 0, 0, 0, 0, 0, 0, 0, 0, 0, 0, 0, 0, 0, 0, 0, 0, 0, 0, 0, 0, 0, 0, 0, 0, 0, 0, 0, 0, 0, 0, 0, 0, 0, 0, 0, 0, 0, 0, 0, 0, 0, 0], [0, 0.011783356991363689, 0, 0.0027079001697711646, 0.0025579108705278486, 0.0056350874487543475, 0, 0, 0, 0, 0, 0, 0.021911076959804633, 0.004716342353494838, 0.010076890250202268, 0, 0.008384832798037678, 0, 0, 0, 0.01004290053853765, 0.009670199446845799, 0.009062755212653428, 0.005609775264747441, 0.021911076959804633, 0.0039603984809946265, 0, 0.0033612935594283045, 0.007160692566540092, 0, 0, 0, 0, 0, 0, 0, 0, 0, 0, 0, 0, 0, 0, 0, 0, 0, 0, 0, 0, 0, 0, 0, 0, 0], [0, 0.021911076959804633, 0, 0, 0, 0, 0, 0, 0, 0, 0, 0, 0, 0, 0, 0, 0, 0, 0, 0, 0, 0, 0, 0, 0, 0, 0, 0, 0, 0, 0, 0, 0, 0, 0, 0, 0, 0, 0, 0, 0, 0, 0, 0, 0, 0, 0, 0, 0, 0, 0, 0, 0, 0], [0, 0, 0, 0.003225922184064984, 0.009351481785997748, 0, 0.004479031524388119, 0.005354879808146506, 0, 0, 0, 0, 0, 0, 0, 0, 0, 0, 0, 0, 0, 0, 0, 0, 0, 0, 0, 0, 0, 0, 0, 0, 0, 0, 0, 0, 0, 0, 0, 0, 0, 0, 0, 0, 0, 0, 0, 0, 0, 0, 0, 0, 0, 0], [0.021911076959804633, 0.007573577610310167, 0, 0, 0, 0.003340803025057539, 0, 0, 0, 0, 0.004297401687945239, 0.0012186959880637004, 0, 0, 0, 0, 0, 0, 0, 0, 0, 0, 0, 0, 0, 0, 0, 0, 0, 0, 0, 0, 0, 0, 0, 0, 0, 0, 0, 0, 0, 0, 0, 0, 0, 0, 0, 0, 0, 0, 0, 0, 0, 0], [0.0017453991188085638, 0.002813437879667617, 0.01141196773503907, 0.009321353193372487, 0, 0, 0, 0.007160692566540092, 0, 0.008405648718471638, 0.011056487309979275, 0.021911076959804633, 0.006347513883374631, 0.007053639809601009, 0, 0, 0, 0, 0, 0, 0, 0, 0, 0, 0, 0, 0, 0, 0, 0, 0, 0, 0, 0, 0, 0, 0, 0, 0, 0, 0, 0, 0, 0, 0, 0, 0, 0, 0, 0, 0, 0, 0, 0], [0, 0, 0.013081385986879468, 0, 0, 0.0030494545213878154, 0, 0, 0, 0, 0, 0, 0, 0, 0, 0, 0, 0, 0, 0, 0, 0, 0, 0, 0, 0, 0, 0, 0, 0, 0, 0, 0, 0, 0, 0, 0, 0, 0, 0, 0, 0, 0, 0, 0, 0, 0, 0, 0, 0, 0, 0, 0, 0], [0.009062755212653428, 0, 0, 0.003671275819360744, 0.00669992613082286, 0.009062755212653428, 0, 0, 0, 0, 0, 0, 0, 0, 0, 0, 0, 0, 0, 0, 0, 0, 0, 0, 0, 0, 0, 0, 0, 0, 0, 0, 0, 0, 0, 0, 0, 0, 0, 0, 0, 0, 0, 0, 0, 0, 0, 0, 0, 0, 0, 0, 0, 0], [0.013081385986879468, 0, 0.0013589951646281405, 0.0001885391178075224, 0.00595191415573936, 0, 0.013081385986879468, 0.009972903087327723, 0, 0, 0, 0, 0, 0, 0, 0, 0, 0, 0, 0, 0, 0, 0, 0, 0, 0, 0, 0, 0, 0, 0, 0, 0, 0, 0, 0, 0, 0, 0, 0, 0, 0, 0, 0, 0, 0, 0, 0, 0, 0, 0, 0, 0, 0], [0, 0, 0.013081385986879468, 0, 0.0037258451245725157, 0, 0, 0, 0, 0, 0, 0, 0, 0, 0, 0, 0, 0, 0, 0, 0, 0, 0, 0, 0, 0, 0, 0, 0, 0, 0, 0, 0, 0, 0, 0, 0, 0, 0, 0, 0, 0, 0, 0, 0, 0, 0, 0, 0, 0, 0, 0, 0, 0], [0, 0.013081385986879468, 0, 0, 0, 0, 0, 0.0018232987582450732, 0, 0, 0, 0, 0, 0, 0, 0, 0, 0, 0, 0, 0, 0, 0, 0, 0, 0, 0, 0, 0, 0, 0, 0, 0, 0, 0, 0, 0, 0, 0, 0, 0, 0, 0, 0, 0, 0, 0, 0, 0, 0, 0, 0, 0, 0], [0.007619252814911306, 0.011783356991363689, 0.013961807426530868, 0.018780211105477066, 0.01004290053853765, 0.00676110339423758, 0.010456243525259196, 0, 0.0026495090499520303, 0.007710027979919687, 0.010076890250202268, 0, 0.00479869622271508, 0.021911076959804633, 0, 0, 0, 0, 0, 0, 0, 0, 0, 0, 0, 0, 0, 0, 0, 0, 0, 0, 0, 0, 0, 0, 0, 0, 0, 0, 0, 0, 0, 0, 0, 0, 0, 0, 0, 0, 0, 0, 0, 0], [0.021911076959804633, 0, 0, 0.0018721467698924244, 0, 0, 0, 0, 0, 0, 0, 0, 0, 0, 0, 0, 0, 0, 0, 0, 0, 0, 0, 0, 0, 0, 0, 0, 0, 0, 0, 0, 0, 0, 0, 0, 0, 0, 0, 0, 0, 0, 0, 0, 0, 0, 0, 0, 0, 0, 0, 0, 0, 0], [0, 0.0003632490131712984, 0.021911076959804633, 0.000905002634972334, 0, 0.021911076959804633, 0, 0, 0, 0, 0, 0, 0, 0, 0, 0, 0, 0, 0, 0, 0, 0, 0, 0, 0, 0, 0, 0, 0, 0, 0, 0, 0, 0, 0, 0, 0, 0, 0, 0, 0, 0, 0, 0, 0, 0, 0, 0, 0, 0, 0, 0, 0, 0], [0, 0, 0.005761827665846795, 0.012333311457186937, 0.005808940853239619, 0.00500804370152764, 0.009062755212653428, 0, 0.009468417163006962, 0.004952889066189527, 0, 0, 0, 0, 0, 0, 0, 0, 0, 0, 0, 0, 0, 0, 0, 0, 0, 0, 0, 0, 0, 0, 0, 0, 0, 0, 0, 0, 0, 0, 0, 0, 0, 0, 0, 0, 0, 0, 0, 0, 0, 0, 0, 0], [0, 0, 0, 0, 0, 0.0025138584442902356, 0, 0.008405648718471638, 0.0040978914807783436, 0.010076890250202268, 0, 0.010076890250202268, 0, 0, 0.007619252814911306, 0.011783356991363689, 0, 0, 0.008384832798037678, 0.004330233988002874, 0.006173518459545449, 0, 0, 0, 0, 0, 0, 0, 0, 0, 0, 0, 0, 0, 0, 0, 0, 0, 0, 0, 0, 0, 0, 0, 0, 0, 0, 0, 0, 0, 0, 0, 0, 0], [0.00796171547845006, 0.0043688107602065426, 0, 0.0025610892141412476, 0.006372695593163371, 0, 0, 0, 0, 0, 0, 0, 0, 0, 0, 0, 0, 0, 0, 0, 0, 0, 0, 0, 0, 0, 0, 0, 0, 0, 0, 0, 0, 0, 0, 0, 0, 0, 0, 0, 0, 0, 0, 0, 0, 0, 0, 0, 0, 0, 0, 0, 0, 0], [0, 0.002282963823527098, 0, 0.002286195635970216, 0, 0.009079633490182459, 0, 0.00499521594203543, 0.01004290053853765, 0, 0, 0, 0, 0.0018108298000879585, 0.010456243525259196, 0, 0, 0, 0, 0, 0, 0, 0, 0, 0, 0, 0, 0, 0, 0, 0, 0, 0, 0, 0, 0, 0, 0, 0, 0, 0, 0, 0, 0, 0, 0, 0, 0, 0, 0, 0, 0, 0, 0], [0.007619252814911306, 0.011783356991363689, 0.013961807426530868, 0.018780211105477066, 0.01004290053853765, 0.00676110339423758, 0.010456243525259196, 0, 0.0026495090499520303, 0.007710027979919687, 0.010076890250202268, 0, 0.00479869622271508, 0.021911076959804633, 0, 0, 0, 0, 0, 0, 0, 0, 0, 0, 0, 0, 0, 0, 0, 0, 0, 0, 0, 0, 0, 0, 0, 0, 0, 0, 0, 0, 0, 0, 0, 0, 0, 0, 0, 0, 0, 0, 0, 0], [-0.0002902647212613374, 0.005047407418023795, 0.00479595081473235, 0.008595072099706159, 0.0006457340717315674, 0, 0, 0, 0, 0, 0.018780211105477066, 0.004118839884176851, 0, 0, 0, 0, 0.002660141712985933, 0.003409730050334474, 0, 0, 0, 0, 0, 0, 0, 0, 0, 0, 0, 0, 0, 0, 0, 0, 0, 0, 0, 0, 0, 0, 0, 0, 0, 0, 0, 0, 0, 0, 0, 0, 0, 0, 0, 0], [0.003340803025057539, 0.0010476243757875636, 0, 0.003340803025057539, 0, 0, 0.0076260346005437895, 0, 0, 0, 0, 0, 0, 0, 0, 0, 0, 0, 0, 0, 0, 0, 0, 0, 0, 0, 0, 0, 0, 0, 0, 0, 0, 0, 0, 0, 0, 0, 0, 0, 0, 0, 0, 0, 0, 0, 0, 0, 0, 0, 0, 0, 0, 0], [0, 0, 0.011783356991363689, 0.0086335178965237, 0.004952889066189527, 0, 0.005929450906696729, 0, 0.0032467571884626525, 0.008595072099706159, 0.004524139147542882, 0.005181689184391871, 0, 0, 0, 0, 0, 0, 0, 0, 0, 0, 0, 0, 0, 0, 0, 0, 0, 0, 0, 0, 0, 0, 0, 0, 0, 0, 0, 0, 0, 0, 0, 0, 0, 0, 0, 0, 0, 0, 0, 0, 0, 0], [0.021911076959804633, 0.006893606712692417, 0, 0, 0, 0, 0, 0, 0, 0, 0, 0, 0, 0, 0, 0, 0, 0, 0, 0, 0, 0, 0, 0, 0, 0, 0, 0, 0, 0, 0, 0, 0, 0, 0, 0, 0, 0, 0, 0, 0, 0, 0, 0, 0, 0, 0, 0, 0, 0, 0, 0, 0, 0], [0.011783356991363689, 0, 0.010456243525259196, 0.0015877409384120256, 0, 0, 0, 0.021911076959804633, 0.002242506952024996, 0.007619252814911306, 0, 0, 0.0015877409384120256, 0.004135885057039559, 0.011056487309979275, 0, 0, 0, 0, 0, 0, 0, 0, 0, 0, 0, 0, 0, 0, 0, 0, 0, 0, 0, 0, 0, 0, 0, 0, 0, 0, 0, 0, 0, 0, 0, 0, 0, 0, 0, 0, 0, 0, 0], [0.006640149247832596, 0.010456243525259196, 0.007416368604172021, 0.011783356991363689, 0.013961807426530868, 0.018780211105477066, 0.012333311457186937, 0.004857929669087753, 0, 0.010456243525259196, 0.007416368604172021, 0.006284346536267549, 0.005172213345067575, 0.009849514192901553, 0.0013662435638252645, 0.006603947264375165, 0, 0.007053639809601009, 0, 0, 0.004531958240550011, 0, 0, 0, 0, 0, 0, 0, 0, 0, 0, 0, 0, 0, 0, 0, 0, 0, 0, 0, 0, 0, 0, 0, 0, 0, 0, 0, 0, 0, 0, 0, 0, 0], [0.006640149247832596, 0, 0.012333311457186937, 0.018780211105477066, 0.0037486705265473573, 0.004366242053802125, 0, 0, 0, 0, 0, 0, 0, 0, 0, 0, 0, 0, 0, 0, 0, 0, 0, 0, 0, 0, 0, 0, 0, 0, 0, 0, 0, 0, 0, 0, 0, 0, 0, 0, 0, 0, 0, 0, 0, 0, 0, 0, 0, 0, 0, 0, 0, 0], [0.0005533947073854506, 0, 0.005973038374213502, 0.004760817767528351, 0.006906141615472734, 0.005273815686814487, 0.011260298262350261, 0, 0.00595191415573936, 0.021911076959804633, 0.009972903087327723, 0, 0, 0, 0, 0, 0, 0, 0, 0, 0, 0, 0, 0, 0, 0, 0, 0, 0, 0, 0, 0, 0, 0, 0, 0, 0, 0, 0, 0, 0, 0, 0, 0, 0, 0, 0, 0, 0, 0, 0, 0, 0, 0], [0.005417290395125746, -0.0002902647212613374, 0.005421144487336278, 0.009062755212653428, 0, 0, 0, 0, 0, 0, 0, 0, 0, 0, 0, 0, 0, 0, 0, 0, 0, 0, 0, 0, 0, 0, 0, 0, 0, 0, 0, 0, 0, 0, 0, 0, 0, 0, 0, 0, 0, 0, 0, 0, 0, 0, 0, 0, 0, 0, 0, 0, 0, 0], [0.021911076959804633, 0, 0.010456243525259196, 0.011260298262350261, 0, 0, 0.021911076959804633, 0.005294305666611762, 0, 0.004602464619092643, 0.021911076959804633, 0.007955136921955272, 0, 0, 0, 0, 0, 0, 0, 0, 0, 0, 0, 0, 0, 0, 0, 0, 0, 0, 0, 0, 0, 0, 0, 0, 0, 0, 0, 0, 0, 0, 0, 0, 0, 0, 0, 0, 0, 0, 0, 0, 0, 0], [0.021911076959804633, 0, 0, 0, 0, 0, 0, 0, 0, 0, 0, 0, 0, 0, 0, 0, 0, 0, 0, 0, 0, 0, 0, 0, 0, 0, 0, 0, 0, 0, 0, 0, 0, 0, 0, 0, 0, 0, 0, 0, 0, 0, 0, 0, 0, 0, 0, 0, 0, 0, 0, 0, 0, 0], [0.013081385986879468, 0, 0, 0, 0, 0, 0, 0, 0, 0, 0, 0, 0, 0, 0, 0, 0, 0, 0, 0, 0, 0, 0, 0, 0, 0, 0, 0, 0, 0, 0, 0, 0, 0, 0, 0, 0, 0, 0, 0, 0, 0, 0, 0, 0, 0, 0, 0, 0, 0, 0, 0, 0, 0], [0.009062755212653428, 0, 0.003718848031130619, 0, 0.00479595081473235, 0, 0, 0, 0, 0, 0, 0, 0, 0, 0, 0, 0, 0, 0, 0, 0, 0, 0, 0, 0, 0, 0, 0, 0, 0, 0, 0, 0, 0, 0, 0, 0, 0, 0, 0, 0, 0, 0, 0, 0, 0, 0, 0, 0, 0, 0, 0, 0, 0], [0, 0, 0, 0, 0, 0, 0.013081385986879468, 0.005808940853239619, 0, 0, 0, 0, 0, 0, 0, 0, 0, 0, 0, 0, 0, 0, 0, 0, 0, 0, 0, 0, 0, 0, 0, 0, 0, 0, 0, 0, 0, 0, 0, 0, 0, 0, 0, 0, 0, 0, 0, 0, 0, 0, 0, 0, 0, 0], [0.021911076959804633, 0.005294305666611762, 0.010456243525259196, 0.0037843242660164835, 0, 0.003038089242763817, 0.005288849470671267, 0, 0, 0, 0, 0, 0, 0, 0, 0, 0, 0, 0, 0, 0, 0, 0, 0, 0, 0, 0, 0, 0, 0, 0, 0, 0, 0, 0, 0, 0, 0, 0, 0, 0, 0, 0, 0, 0, 0, 0, 0, 0, 0, 0, 0, 0, 0], [0, 0.005423012659302912, 0.005423012659302912, 0, 0.008384832798037678, 0.001574312481097877, 0, 0, 0, 0, 0, 0, 0, 0, 0, 0, 0, 0, 0, 0, 0, 0, 0, 0, 0, 0, 0, 0, 0, 0, 0, 0, 0, 0, 0, 0, 0, 0, 0, 0, 0, 0, 0, 0, 0, 0, 0, 0, 0, 0, 0, 0, 0, 0], [0, 0.0048103591171093285, 0, 0, 0.004929769077571109, 0, 0, 0, 0.0033612935594283045, 0.0048103591171093285, 0, 0.005070603920030408, 0.006893606712692417, 0.00599917630868731, 0.00558613175409846, 0, 0, 0.005865040589706041, 0, 0, 0.008247049853671341, 0.00558613175409846, 0.006124050582875498, 0.004008113062591292, 0, 0, 0.004765153521439061, 0.00463579706614837, 0, 0, 0, 0.007650797410169616, 0, 0, 0.021911076959804633, 0, 0, 0.006603947264375165, 0, 0, 0.0046022253343835475, 0, 0, 0, 0, 0, 0, 0, 0, 0, 0, 0, 0, 0], [0, 0, 0, 0, 0.012333311457186937, 0.009972903087327723, 0.004371776874759235, 0.004999528252519667, 0, 0, 0, 0, 0, 0, 0, 0, 0, 0, 0, 0, 0, 0, 0, 0, 0, 0, 0, 0, 0, 0, 0, 0, 0, 0, 0, 0, 0, 0, 0, 0, 0, 0, 0, 0, 0, 0, 0, 0, 0, 0, 0, 0, 0, 0], [0.013081385986879468, 0.006569897560402751, 0, 0, 0.00669992613082286, 0, 0, 0, 0, 0, 0, 0, 0, 0, 0, 0, 0, 0, 0, 0, 0, 0, 0, 0, 0, 0, 0, 0, 0, 0, 0, 0, 0, 0, 0, 0, 0, 0, 0, 0, 0, 0, 0, 0, 0, 0, 0, 0, 0, 0, 0, 0, 0, 0], [0.00711763059720397, 0.000905002634972334, 0.003474447191110812, 0.00711763059720397, 0, 0, 0, 0.00711763059720397, 0, 0, 0, 0, 0, 0, 0, 0, 0, 0, 0, 0, 0, 0, 0, 0, 0, 0, 0, 0, 0, 0, 0, 0, 0, 0, 0, 0, 0, 0, 0, 0, 0, 0, 0, 0, 0, 0, 0, 0, 0, 0, 0, 0, 0, 0], [0.021911076959804633, 0, 0.0018529881141148507, 0, 0, 0, 0.006022993716760539, 0, 0, 0, 0, 0, 0, 0, 0, 0, 0, 0, 0, 0, 0, 0, 0, 0, 0, 0, 0, 0, 0, 0, 0, 0, 0, 0, 0, 0, 0, 0, 0, 0, 0, 0, 0, 0, 0, 0, 0, 0, 0, 0, 0, 0, 0, 0], [0.009849514192901553, 0.021911076959804633, 0.006935624140314758, 0.004999528252519667, 0.009849514192901553, 0.003540754606947303, 0.0026495090499520303, 0, 0.004672845379100181, 0.021911076959804633, 0.021911076959804633, 0.021911076959804633, 0.003409730050334474, 0, 0, 0, 0, 0, 0, 0, 0, 0, 0, 0, 0, 0, 0, 0, 0, 0, 0, 0, 0, 0, 0, 0, 0, 0, 0, 0, 0, 0, 0, 0, 0, 0, 0, 0, 0, 0, 0, 0, 0, 0], [0.0008099155037780292, 0.0016631461086217313, 0.018780211105477066, 0.00023799171147402377, 0.003553662784397602, 0.005541188955539837, 0.0019445237796753645, 0.007056011047097854, 0, 0, 0, 0, 0, 0, 0, 0, 0, 0, 0, 0, 0, 0, 0, 0, 0, 0, 0, 0, 0, 0, 0, 0, 0, 0, 0, 0, 0, 0, 0, 0, 0, 0, 0, 0, 0, 0, 0, 0, 0, 0, 0, 0, 0, 0], [0, 0.021911076959804633, 0, 0, 0, 0, 0, 0, 0, 0, 0, 0, 0, 0, 0, 0, 0, 0, 0, 0, 0, 0, 0, 0, 0, 0, 0, 0, 0, 0, 0, 0, 0, 0, 0, 0, 0, 0, 0, 0, 0, 0, 0, 0, 0, 0, 0, 0, 0, 0, 0, 0, 0, 0], [0, 0, 0.002615711437538266, 0, 0, 0, 0, 0, 0, 0, 0, 0, 0, 0, 0, 0, 0, 0, 0, 0, 0, 0, 0, 0, 0, 0, 0, 0, 0, 0, 0, 0, 0, 0, 0, 0, 0, 0, 0, 0, 0, 0, 0, 0, 0, 0, 0, 0, 0, 0, 0, 0, 0, 0], [0.021911076959804633, 0, 0.0037905845612112897, 0, 0, 0.005874474740121514, 0, 0, 0.007234833455295302, 0.006173518459545449, 0, 0.006342179416678846, 0.009849514192901553, 0, 0, 0.0054919070517644285, 0.008366612775207614, 0, 0, 0, 0, 0, 0, 0, 0, 0, 0, 0, 0, 0, 0, 0, 0, 0, 0, 0, 0, 0, 0, 0, 0, 0, 0, 0, 0, 0, 0, 0, 0, 0, 0, 0, 0, 0], [0.006640149247832596, 0.004333774293772876, 0.018780211105477066, 0.002910701469518244, 0.018780211105477066, 0, 0.012333311457186937, 0.00690833337182994, 0, 0, 0, 0, 0, 0, 0, 0, 0, 0, 0, 0, 0, 0, 0, 0, 0, 0, 0, 0, 0, 0, 0, 0, 0, 0, 0, 0, 0, 0, 0, 0, 0, 0, 0, 0, 0, 0, 0, 0, 0, 0, 0, 0, 0, 0], [0, 0.009079633490182459, 0.021911076959804633, 0.0019620056310668587, 0.007053639809601009, 0.009321353193372487, 0, 0.0068672005683765745, 0.004760817767528351, 0, 0, 0, 0, 0, 0, 0, 0, 0, 0, 0, 0, 0, 0, 0, 0, 0, 0, 0, 0, 0, 0, 0, 0, 0, 0, 0, 0, 0, 0, 0, 0, 0, 0, 0, 0, 0, 0, 0, 0, 0, 0, 0, 0, 0], [0, 0.013081385986879468, 0.004366242053802125, 0, 0, 0.003671275819360744, 0.00669992613082286, 0.008896041447296738, 0.004261014768853783, 0, 0, 0, 0, 0, 0, 0, 0, 0, 0, 0, 0, 0, 0, 0, 0, 0, 0, 0, 0, 0, 0, 0, 0, 0, 0, 0, 0, 0, 0, 0, 0, 0, 0, 0, 0, 0, 0, 0, 0, 0, 0, 0, 0, 0], [0, 0, 0, 0.0037486705265473573, 0.018780211105477066, 0, 0.005864947179798036, 0, 0, 0, 0.00820138094946742, 0, 0.004479031524388119, 0.0019006309797987343, 0.010456243525259196, 0, 0.011783356991363689, 0.00575971613638103, 0, 0, 0.006398396545555443, 0, 0, 0, 0.0043688107602065426, 0, 0, 0, 0, 0, 0, 0, 0, 0, 0, 0, 0, 0, 0, 0, 0, 0, 0, 0, 0, 0, 0, 0, 0, 0, 0, 0, 0, 0], [0.0047591373324394224, 0, 0.004118839884176851, 0.002910701469518244, 0, 0, 0, 0, 0, 0, 0, 0, 0, 0, 0, 0, 0, 0, 0, 0, 0, 0, 0, 0, 0, 0, 0, 0, 0, 0, 0, 0, 0, 0, 0, 0, 0, 0, 0, 0, 0, 0, 0, 0, 0, 0, 0, 0, 0, 0, 0, 0, 0, 0], [0, 0.012333311457186937, 0.004118839884176851, 0.01004290053853765, 0.008896041447296738, 0.006173518459545449, 0, 0, 0, 0.012333311457186937, 0.003704766325536184, 0.004330233988002874, 0, 0.003718848031130619, 0, 0, 0, 0, 0, 0, 0, 0, 0, 0, 0.0086335178965237, 0.005664400594687322, 0, 0, 0.005358639836777002, 0.012333311457186937, 0, 0.008405648718471638, 0.0047591373324394224, 0, 0.005874474740121514, 0, 0.004287795689888299, 0.0086907105660066, 0.005066851952578872, 0, 0, 0, 0, 0, 0, 0, 0, 0, 0, 0, 0, 0, 0, 0], [0, 0.013081385986879468, 0, 0.00499521594203543, 0.003671275819360744, 0, 0, 0, 0, 0, 0, 0, 0, 0, 0, 0, 0, 0, 0, 0, 0, 0, 0, 0, 0, 0, 0, 0, 0, 0, 0, 0, 0, 0, 0, 0, 0, 0, 0, 0, 0, 0, 0, 0, 0, 0, 0, 0, 0, 0, 0, 0, 0, 0], [0.003085333442140836, 0, 0.002615711437538266, 0, 0.0017422107196762226, 0, 0, 0.005929450906696729, 0, 0, 0, 0, 0.005609775264747441, 0.0027217954643128906, 0, 0, 0, 0, 0, 0, 0, 0, 0, 0, 0, 0, 0, 0, 0, 0, 0, 0, 0, 0, 0, 0, 0, 0, 0, 0, 0, 0, 0, 0, 0, 0, 0, 0, 0, 0, 0, 0, 0, 0], [0.021911076959804633, 0.00629557338077575, 0, 0, 0, 0, 0, 0, 0, 0, 0, 0, 0, 0, 0, 0, 0, 0, 0, 0, 0, 0, 0, 0, 0, 0, 0, 0, 0, 0, 0, 0, 0, 0, 0, 0, 0, 0, 0, 0, 0, 0, 0, 0, 0, 0, 0, 0, 0, 0, 0, 0, 0, 0], [0.003971495085861534, 0.013081385986879468, 0.005861717363586649, 0.00717169804032892, 0.018780211105477066, 0.0037486705265473573, 0.018780211105477066, 0.0018867091269930824, 0.0037258451245725157, 0, 0, 0, 0, 0, 0, 0, 0, 0, 0, 0, 0, 0, 0, 0, 0, 0, 0, 0, 0, 0, 0, 0, 0, 0, 0, 0, 0, 0, 0, 0, 0, 0, 0, 0, 0, 0, 0, 0, 0, 0, 0, 0, 0, 0], [0.004088982024695724, 0.004974764182697981, 0.007573577610310167, 0, 0, 0, 0, 0, 0, 0, 0, 0, 0, 0, 0, 0, 0, 0, 0, 0, 0, 0, 0, 0, 0, 0, 0, 0, 0, 0, 0, 0, 0, 0, 0, 0, 0, 0, 0, 0, 0, 0, 0, 0, 0, 0, 0, 0, 0, 0, 0, 0, 0, 0], [0.013081385986879468, 0.008896041447296738, 0.00438595422252547, 0.0076260346005437895, 0.004285012255422771, 0, 0, 0, 0, 0, 0, 0, 0, 0, 0, 0, 0, 0, 0, 0, 0, 0, 0, 0, 0, 0, 0, 0, 0, 0, 0, 0, 0, 0, 0, 0, 0, 0, 0, 0, 0, 0, 0, 0, 0, 0, 0, 0, 0, 0, 0, 0, 0, 0], [0.0011946333479136229, 0.009849514192901553, 0.021911076959804633, 0, 0.006935624140314758, 0, 0, 0, 0, 0, 0, 0, 0, 0, 0, 0, 0, 0, 0, 0, 0, 0, 0, 0, 0, 0, 0, 0, 0, 0, 0, 0, 0, 0, 0, 0, 0, 0, 0, 0, 0, 0, 0, 0, 0, 0, 0, 0, 0, 0, 0, 0, 0, 0], [0.011783356991363689, 0, 0.007160692566540092, 0, 0.0025138584442902356, 0.006295382839161903, 0, 0, 0, 0, 0, 0, 0, 0, 0, 0, 0, 0, 0, 0, 0, 0, 0, 0, 0, 0, 0, 0, 0, 0, 0, 0, 0, 0, 0, 0, 0, 0, 0, 0, 0, 0, 0, 0, 0, 0, 0, 0, 0, 0, 0, 0, 0, 0], [0.021911076959804633, 0.003704766325536184, 0, 0.00487159380223602, 0.007885654815472662, 0.021911076959804633, 0, 0, 0.0012770785321481527, 0, 0.009849514192901553, 0, 0.021911076959804633, 0, 0.004999528252519667, 0, 0, 0, 0, 0, 0, 0, 0, 0, 0, 0, 0, 0, 0, 0, 0, 0, 0, 0, 0, 0, 0, 0, 0, 0, 0, 0, 0, 0, 0, 0, 0, 0, 0, 0, 0, 0, 0, 0], [0.006640149247832596, 0, 0, 0, 0, 0, 0.005288849470671267, 0, 0, 0, 0, 0, 0, 0, 0, 0, 0, 0, 0, 0, 0, 0, 0, 0, 0, 0, 0, 0, 0, 0, 0, 0, 0, 0, 0, 0, 0, 0, 0, 0, 0, 0, 0, 0, 0, 0, 0, 0, 0, 0, 0, 0, 0, 0], [0.005273815686814487, 0.00676110339423758, 0.003718848031130619, 0.018780211105477066, 0.004900831277482211, 0.021911076959804633, 0, 0.0076260346005437895, 0.00669992613082286, 0.018780211105477066, 0, 0, 0, 0, 0, 0, 0, 0, 0, 0, 0, 0, 0, 0, 0, 0, 0, 0, 0, 0, 0, 0, 0, 0, 0, 0, 0, 0, 0, 0, 0, 0, 0, 0, 0, 0, 0, 0, 0, 0, 0, 0, 0, 0], [0.004062576834403444, 0.008896041447296738, 0, 0, 0.009849514192901553, 0.004879427684063558, 0.004879427684063558, 0, 0.021911076959804633, 0, 0.006830525555415079, 0.009079633490182459, 0.0068672005683765745, 0.0015877409384120256, 0.007053639809601009, 0, 0, 0, 0, 0, 0, 0, 0, 0, 0, 0, 0, 0, 0, 0, 0, 0, 0, 0, 0, 0, 0, 0, 0, 0, 0, 0, 0, 0, 0, 0, 0, 0, 0, 0, 0, 0, 0, 0], [0.0028336982289329173, 0, 0.00393807357060723, 0, 0.00796171547845006, 0.009079633490182459, 0.0008099155037780292, 0.0086335178965237, 0, 0, 0, 0, 0, 0, 0, 0, 0, 0, 0, 0, 0, 0, 0, 0, 0, 0, 0, 0, 0, 0, 0, 0, 0, 0, 0, 0, 0, 0, 0, 0, 0, 0, 0, 0, 0, 0, 0, 0, 0, 0, 0, 0, 0, 0], [0, 0, 0, 0.013081385986879468, 0.003704766325536184, 0.0037227635637100322, 0, 0.004999528252519667, 0.006935624140314758, 0.004999528252519667, 0, 0, 0, 0, 0, 0, 0, 0, 0, 0, 0, 0, 0, 0, 0, 0, 0, 0, 0, 0, 0, 0, 0, 0, 0, 0, 0, 0, 0, 0, 0, 0, 0, 0, 0, 0, 0, 0, 0, 0, 0, 0, 0, 0], [0.0010871552588650956, 0.021911076959804633, 0.003704766325536184, 0.011783356991363689, 0.018780211105477066, 0.002615711437538266, 0, 0, 0, 0.003409730050334474, 0.0025610892141412476, 0, 0, 0, 0, 0, 0, 0, 0, 0, 0, 0, 0, 0, 0, 0, 0, 0, 0, 0, 0, 0, 0, 0, 0, 0, 0, 0, 0, 0, 0, 0, 0, 0, 0, 0, 0, 0, 0, 0, 0, 0, 0, 0], [0.021911076959804633, 0.00479595081473235, 0.005364874848746695, 0.005423012659302912, 0.009351481785997748, 0, 0.021911076959804633, 0.0026078456395771353, 0, 0.002723432902712375, 0, 0, 0, 0, 0, 0, 0, 0, 0, 0, 0, 0, 0, 0, 0, 0, 0, 0, 0, 0, 0, 0, 0, 0, 0, 0, 0, 0, 0, 0, 0, 0, 0, 0, 0, 0, 0, 0, 0, 0, 0, 0, 0, 0], [0, 0.00711763059720397, 0, 0, 0, 0, 0, 0, 0, 0, 0, 0, 0, 0, 0, 0, 0, 0, 0, 0, 0, 0, 0, 0, 0, 0, 0, 0, 0, 0, 0, 0, 0, 0, 0, 0, 0, 0, 0, 0, 0, 0, 0, 0, 0, 0, 0, 0, 0, 0, 0, 0, 0, 0], [0.00717169804032892, 0.0104539439851942, 0.021911076959804633, 0.006014448357746005, 0, 0, 0.003900494877016172, 0, 0, 0.0086907105660066, 0.004716342353494838, 0.010456243525259196, 0.006284346536267549, 0.011783356991363689, 0.0038704705481723066, 0, 0, 0, 0, 0, 0, 0, 0, 0, 0, 0, 0, 0, 0, 0, 0, 0, 0, 0, 0, 0, 0, 0, 0, 0, 0, 0, 0, 0, 0, 0, 0, 0, 0, 0, 0, 0, 0, 0], [0.007056011047097854, 0, 0, 0, 0.009468417163006962, 0.01141196773503907, 0.004159468441503123, 0.001974593524937518, 0.0033612935594283045, 0, 0, 0, 0, 0, 0, 0, 0, 0, 0, 0, 0, 0, 0, 0, 0, 0, 0, 0, 0, 0, 0, 0, 0, 0, 0, 0, 0, 0, 0, 0, 0, 0, 0, 0, 0, 0, 0, 0, 0, 0, 0, 0, 0, 0], [0.013081385986879468, 0.007955136921955272, 0.007573577610310167, 0.011260298262350261, 0, 0, 0, 0, 0.005609775264747441, 0, 0, 0, 0, 0, 0, 0, 0, 0, 0, 0, 0, 0, 0, 0, 0, 0, 0, 0, 0, 0, 0, 0, 0, 0, 0, 0, 0, 0, 0, 0, 0, 0, 0, 0, 0, 0, 0, 0, 0, 0, 0, 0, 0, 0], [0.004387113240663893, 0.00438595422252547, 0.0076260346005437895, 0.013081385986879468, 0, 0, 0, 0, 0, 0, 0, 0, 0, 0, 0, 0, 0, 0, 0, 0, 0, 0, 0, 0, 0, 0, 0, 0, 0, 0, 0, 0, 0, 0, 0, 0, 0, 0, 0, 0, 0, 0, 0, 0, 0, 0, 0, 0, 0, 0, 0, 0, 0, 0], [0.0025610892141412476, 0.010456243525259196, 0.007416368604172021, 0.009321353193372487, 0.0035591129399836063, 0.012333311457186937, 0, 0.005808940853239619, 0.007053639809601009, 0, 0, 0, 0, 0, 0, 0, 0, 0, 0, 0, 0, 0, 0, 0, 0, 0, 0, 0, 0, 0, 0, 0, 0, 0, 0, 0, 0, 0, 0, 0, 0, 0, 0, 0, 0, 0, 0, 0, 0, 0, 0, 0, 0, 0], [0, 0, 0, 0.021911076959804633, 0.004602464619092643, 0, 0.0037905845612112897, 0.0018232987582450732, 0, 0, 0, 0, 0, 0, 0, 0, 0, 0, 0, 0, 0, 0, 0, 0, 0, 0, 0, 0, 0, 0, 0, 0, 0, 0, 0, 0, 0, 0, 0, 0, 0, 0, 0, 0, 0, 0, 0, 0, 0, 0, 0, 0, 0, 0], [0.004387113240663893, 0.005105516132898629, 0.007710027979919687, 0.009670199446845799, 0.007573577610310167, 0.013081385986879468, 0, 0.009849514192901553, 0.013081385986879468, 0.009972903087327723, 0, 0, 0, 0, 0, 0, 0, 0, 0, 0, 0, 0, 0, 0, 0, 0, 0, 0, 0, 0, 0, 0, 0, 0, 0, 0, 0, 0, 0, 0, 0, 0, 0, 0, 0, 0, 0, 0, 0, 0, 0, 0, 0, 0], [0.021911076959804633, 0.005294305666611762, 0.005134176971041598, 0.003553662784397602, 0, 0, 0, 0, 0, 0.010687941344658612, 0, 0, 0, 0.008095858281012624, 0, 0, 0, 0, 0, 0, 0, 0, 0, 0, 0, 0, 0, 0, 0, 0, 0, 0, 0, 0, 0, 0, 0, 0, 0, 0, 0, 0, 0, 0, 0, 0, 0, 0, 0, 0, 0, 0, 0, 0], [0.0008099155037780292, 0, 0, 0, 0, 0, 0, 0, 0, 0, 0, 0, 0, 0, 0, 0, 0, 0, 0, 0, 0, 0, 0, 0, 0, 0, 0, 0, 0, 0, 0, 0, 0, 0, 0, 0, 0, 0, 0, 0, 0, 0, 0, 0, 0, 0, 0, 0, 0, 0, 0, 0, 0, 0], [0, 0, 0.004524139147542882, 0.0032467571884626525, 0.004057573357131332, 0, 0.012333311457186937, 0, 0, 0, 0, 0, 0, 0, 0, 0, 0, 0, 0, 0, 0, 0, 0, 0, 0, 0, 0, 0, 0, 0, 0, 0, 0, 0, 0, 0, 0, 0, 0, 0, 0, 0, 0, 0, 0, 0, 0, 0, 0, 0, 0, 0, 0, 0], [0.0017453991188085638, 0.002813437879667617, 0, 0.01141196773503907, 0.009321353193372487, 0.013081385986879468, 0.006347513883374631, 0.007053639809601009, 0, 0, 0, 0.007885654815472662, 0, 0.002142472059058491, 0.011783356991363689, 0.0038704705481723066, 0, 0, 0, 0, 0, 0, 0, 0, 0, 0, 0, 0, 0, 0, 0, 0, 0, 0, 0, 0, 0, 0, 0, 0, 0, 0, 0, 0, 0, 0, 0, 0, 0, 0, 0, 0, 0, 0], [0.021911076959804633, 0.006014448357746005, 0.009670199446845799, 0.009321353193372487, 0.011260298262350261, 0, 0.010687941344658612, 0.008615999628091231, 0.005407290417933836, 0.010456243525259196, 0.007416368604172021, 0.006284346536267549, 0, 0.006893606712692417, 0.021911076959804633, 0.009972903087327723, 0, 0, 0, 0, 0, 0, 0, 0, 0, 0, 0, 0, 0, 0, 0, 0, 0, 0, 0, 0, 0, 0, 0, 0, 0, 0, 0, 0, 0, 0, 0, 0, 0, 0, 0, 0, 0, 0], [0.013081385986879468, 0.004974764182697981, 0.008896041447296738, 0.002886687439167872, 0.005105516132898629, 0, 0, 0, 0, 0, 0, 0, 0, 0, 0, 0, 0, 0, 0, 0, 0, 0, 0, 0, 0, 0, 0, 0, 0, 0, 0, 0, 0, 0, 0, 0, 0, 0, 0, 0, 0, 0, 0, 0, 0, 0, 0, 0, 0, 0, 0, 0, 0, 0], [0, 0.0015324655268341304, 0.00820138094946742, 0.0018108298000879585, 0, 0.018780211105477066, 0.0015324655268341304, 0, 0, 0, 0, 0, 0.018780211105477066, 0.0015324655268341304, 0.00820138094946742, 0.0028192045801552013, 0, -0.0005574602403794416, 0, 0, 0, 0, 0, 0, 0, 0, 0, 0, 0, 0, 0, 0, 0, 0, 0, 0, 0, 0, 0, 0, 0, 0, 0, 0, 0, 0, 0, 0, 0, 0, 0, 0, 0, 0], [0, 0.004879427684063558, 0.008405648718471638, 0.021911076959804633, 0, 0, 0.005172213345067575, 0.007200968124670908, 0, 0.0015877409384120256, 0, 0.010076890250202268, 0, 0, 0, 0, 0, 0, 0, 0, 0, 0, 0, 0, 0, 0, 0, 0, 0, 0, 0, 0, 0, 0, 0, 0, 0, 0, 0, 0, 0, 0, 0, 0, 0, 0, 0, 0, 0, 0, 0, 0, 0, 0], [0.006022993716760539, 0.005874474740121514, 0, 0.021911076959804633, 0, 0.005865040589706041, 0, 0.005874474740121514, 0.0026330027834046634, 0.004285012255422771, 0.005865040589706041, 0, 0.0029439223758527078, 0.0012186959880637004, 0, 0, 0, 0, 0, 0, 0, 0, 0, 0, 0, 0, 0, 0, 0, 0, 0, 0, 0, 0, 0, 0, 0, 0, 0, 0, 0, 0, 0, 0, 0, 0, 0, 0, 0, 0, 0, 0, 0, 0], [0.021911076959804633, 0.004952889066189527, 0.007573577610310167, 0.021911076959804633, 0.00669992613082286, 0.011783356991363689, 0, 0, 0, 0, 0, 0, 0, 0, 0, 0, 0, 0, 0, 0, 0, 0, 0, 0, 0, 0, 0, 0, 0, 0, 0, 0, 0, 0, 0, 0, 0, 0, 0, 0, 0, 0, 0, 0, 0, 0, 0, 0, 0, 0, 0, 0, 0, 0], [0.008405648718471638, 0.0037522187491413205, 0.005459203681675717, 0.011783356991363689, 0, 0, 0, 0, 0, 0, 0, 0, 0, 0, 0, 0, 0, 0, 0, 0, 0, 0, 0, 0, 0, 0, 0, 0, 0, 0, 0, 0, 0, 0, 0, 0, 0, 0, 0, 0, 0, 0, 0, 0, 0, 0, 0, 0, 0, 0, 0, 0, 0, 0], [0.021911076959804633, 0, 0, 0.005154816899448633, 0, 0.00717169804032892, 0.018780211105477066, 0.021911076959804633, 0.006347513883374631, 0.005830539440648863, 0.005288849470671267, 0.007721205520210788, 0.00669992613082286, 0, 0, 0, 0, 0, 0, 0, 0, 0, 0, 0, 0, 0, 0, 0, 0, 0, 0, 0, 0, 0, 0, 0, 0, 0, 0, 0, 0, 0, 0, 0, 0, 0, 0, 0, 0, 0, 0, 0, 0, 0], [0.0030385943822329865, 0.006346868523396551, 0.018780211105477066, 0.0021669537120033054, 0.009321353193372487, 0.013081385986879468, -0.0008510353573365137, 0, 0, 0, 0, 0, 0, 0, 0, 0, 0, 0, 0, 0, 0, 0, 0, 0, 0, 0, 0, 0, 0, 0, 0, 0, 0, 0, 0, 0, 0, 0, 0, 0, 0, 0, 0, 0, 0, 0, 0, 0, 0, 0, 0, 0, 0, 0], [0.021911076959804633, 0, 0, 0, 0, 0, 0, 0, 0, 0, 0, 0, 0, 0, 0, 0, 0, 0, 0, 0, 0, 0, 0, 0, 0, 0, 0, 0, 0, 0, 0, 0, 0, 0, 0, 0, 0, 0, 0, 0, 0, 0, 0, 0, 0, 0, 0, 0, 0, 0, 0, 0, 0, 0], [0, 0, 0, 0, 0.021911076959804633, 0.00023799171147402377, 0, 0, 0, 0, 0, 0, 0, 0, 0, 0, 0, 0, 0, 0, 0, 0, 0, 0, 0, 0, 0, 0, 0, 0, 0, 0, 0, 0, 0, 0, 0, 0, 0, 0, 0, 0, 0, 0, 0, 0, 0, 0, 0, 0, 0, 0, 0, 0], [0.0032373300881590695, 0.021911076959804633, 0.005294305666611762, 0.008410259273368866, 0, 0.0021410928666591644, 0.009261562030296773, 0.005134176971041598, 0.005134176971041598, 0, 0, 0.005273815686814487, 0.008410259273368866, 0, 0.012333311457186937, 0, 0, 0.005605693433317356, 0, 0, 0.0076260346005437895, 0.005605693433317356, 0.01141196773503907, 0.012333311457186937, 0.004261096743866801, 0, 0, 0, 0, 0, 0, 0, 0, 0, 0, 0, 0, 0, 0, 0, 0, 0, 0, 0, 0, 0, 0, 0, 0, 0, 0, 0, 0, 0], [0, 0.007650797410169616, 0, 0, 0.0025610892141412476, 0.021911076959804633, 0, 0, 0, 0, 0, 0, 0, 0, 0, 0, 0, 0, 0, 0, 0, 0, 0, 0, 0, 0, 0, 0, 0, 0, 0, 0, 0, 0, 0, 0, 0, 0, 0, 0, 0, 0, 0, 0, 0, 0, 0, 0, 0, 0, 0, 0, 0, 0], [0.005459203681675717, 0.005423012659302912, 0.007885654815472662, 0.013961807426530868, 0.018780211105477066, 0.011783356991363689, 0.005047407418023795, 0.009062755212653428, 0.005270850855158642, 0, 0, 0, 0, 0, 0, 0, 0, 0, 0, 0, 0, 0, 0, 0, 0, 0, 0, 0, 0, 0, 0, 0, 0, 0, 0, 0, 0, 0, 0, 0, 0, 0, 0, 0, 0, 0, 0, 0, 0, 0, 0, 0, 0, 0], [0.010076890250202268, 0, 0.0010476243757875636, 0, 0.010076890250202268, 0, 0.021911076959804633, 0.006347513883374631, 0.007053639809601009, 0, 0, 0, 0, 0, 0, 0, 0, 0, 0, 0, 0, 0, 0, 0, 0, 0, 0, 0, 0, 0, 0, 0, 0, 0, 0, 0, 0, 0, 0, 0, 0, 0, 0, 0, 0, 0, 0, 0, 0, 0, 0, 0, 0, 0], [0.021911076959804633, 0, 0.00669992613082286, 0, 0, -1.030107552651316e-05, 0.021911076959804633, 0, 0, 0, 0, 0, 0, 0, 0, 0, 0, 0, 0, 0, 0, 0, 0, 0, 0, 0, 0, 0, 0, 0, 0, 0, 0, 0, 0, 0, 0, 0, 0, 0, 0, 0, 0, 0, 0, 0, 0, 0, 0, 0, 0, 0, 0, 0], [0.021911076959804633, 0.0020153674695757217, 0.004155018795281649, 0.005070603920030408, 0.005354879808146506, 0.021911076959804633, 0, 0, 0.021911076959804633, 0.006893606712692417, 0.009849514192901553, 0.004765153521439061, 0, 0, 0.010456243525259196, 0.0068672005683765745, 0, 0.004159468441503123, 0.007056011047097854, 0, 0, 0, 0, 0, 0, 0, 0, 0, 0, 0, 0, 0, 0, 0, 0, 0, 0, 0, 0, 0, 0, 0, 0, 0, 0, 0, 0, 0, 0, 0, 0, 0, 0, 0], [0.009062755212653428, 0, 0, 0, 0, 0, 0, 0, 0, 0, 0, 0, 0, 0, 0, 0, 0, 0, 0, 0, 0, 0, 0, 0, 0, 0, 0, 0, 0, 0, 0, 0, 0, 0, 0, 0, 0, 0, 0, 0, 0, 0, 0, 0, 0, 0, 0, 0, 0, 0, 0, 0, 0, 0], [0.0040491881361958805, 0, 0, 0.006022993716760539, 0, 0.008595072099706159, 0.003340803025057539, 0, 0, 0, 0, 0, 0, 0, 0, 0, 0, 0.0014948985567025375, 0, 0, 0, 0, 0, 0, 0, 0, 0, 0, 0, 0, 0, 0, 0, 0, 0, 0, 0, 0, 0, 0, 0, 0, 0, 0, 0, 0, 0, 0, 0, 0, 0, 0, 0, 0], [0.013081385986879468, 0, 0, 0.004285012255422771, 0.005808940853239619, 0, 0, 0, 0, 0, 0, 0, 0, 0, 0, 0, 0, 0, 0, 0, 0, 0, 0, 0, 0, 0, 0, 0, 0, 0, 0, 0, 0, 0, 0, 0, 0, 0, 0, 0, 0, 0, 0, 0, 0, 0, 0, 0, 0, 0, 0, 0, 0, 0], [0, 0.010456243525259196, 0.007416368604172021, 0, 0.0029439223758527078, 0.009321353193372487, 0.0035591129399836063, 0.012333311457186937, 0.009972903087327723, 0, 0, 0, 0, 0, 0, 0, 0, 0, 0, 0, 0, 0, 0, 0, 0, 0, 0, 0, 0, 0, 0, 0, 0, 0, 0, 0, 0, 0, 0, 0, 0, 0, 0, 0, 0, 0, 0, 0, 0, 0, 0, 0, 0, 0], [0, 0.005609775264747441, 0, 0, 0.0025138584442902356, 0, 0, 0.00820138094946742, 0.021911076959804633, 0.0013083024561638013, 0, 0, 0, 0, 0, 0, 0, 0, 0, 0, 0, 0, 0, 0, 0, 0, 0, 0, 0, 0, 0, 0, 0, 0, 0, 0, 0, 0, 0, 0, 0, 0, 0, 0, 0, 0, 0, 0, 0, 0, 0, 0, 0, 0], [0.004088982024695724, 0.005105516132898629, 0, 0, 0.0025610892141412476, 0, 0.00796171547845006, 0, 0, 0, 0, 0, 0, 0, 0, 0, 0, 0, 0, 0, 0, 0, 0, 0, 0, 0, 0, 0, 0, 0, 0, 0, 0, 0, 0, 0, 0, 0, 0, 0, 0, 0, 0, 0, 0, 0, 0, 0, 0, 0, 0, 0, 0, 0], [0.002652794427704066, 0.007200968124670908, 0.021911076959804633, 0.0026958262306288816, 0, 0, 0, 0, 0, 0, 0, 0, 0, 0, 0, 0, 0, 0, 0, 0, 0, 0, 0, 0, 0, 0, 0, 0, 0, 0, 0, 0, 0, 0, 0, 0, 0, 0, 0, 0, 0, 0, 0, 0, 0, 0, 0, 0, 0, 0, 0, 0, 0, 0], [0.0030385943822329865, 0.006346868523396551, 0.018780211105477066, 0.0021669537120033054, 0.009321353193372487, 0.013081385986879468, -0.0008510353573365137, 0, 0, 0, 0, 0, 0, 0, 0, 0, 0, 0, 0, 0, 0, 0, 0, 0, 0, 0, 0, 0, 0, 0, 0, 0, 0, 0, 0, 0, 0, 0, 0, 0, 0, 0, 0, 0, 0, 0, 0, 0, 0, 0, 0, 0, 0, 0], [0.003038089242763817, 0, 0, 0.002652794427704066, 0.007573577610310167, 0, 0.021911076959804633, 0.0012770785321481527, 0.008896041447296738, 0, 0.021911076959804633, 0, 0.008896041447296738, 0, 0.021911076959804633, 0.005137940256099682, 0, 0, 0, 0, 0, 0, 0, 0, 0, 0, 0, 0, 0, 0, 0, 0, 0, 0, 0, 0, 0, 0, 0, 0, 0, 0, 0, 0, 0, 0, 0, 0, 0, 0, 0, 0, 0, 0], [0, 0.00575971613638103, 0.007234833455295302, 0.021911076959804633, 0.0030494545213878154, 0, 0, 0.00669992613082286, 0.021911076959804633, 0.002886687439167872, 0.005105516132898629, 0, 0, 0, 0, 0, 0, 0, 0, 0, 0, 0, 0, 0, 0, 0, 0, 0, 0, 0, 0, 0, 0, 0, 0, 0, 0, 0, 0, 0, 0, 0, 0, 0, 0, 0, 0, 0, 0, 0, 0, 0, 0, 0], [0, 0, 0, 0, 0, 0.003954554310184904, 0, 0, 0.0086907105660066, 0.0013083024561638013, 0, 0, 0, 0, 0, 0, 0, 0, 0, 0, 0, 0, 0, 0, 0, 0, 0, 0, 0, 0, 0, 0, 0, 0, 0, 0, 0, 0, 0, 0, 0, 0, 0, 0, 0, 0, 0, 0, 0, 0, 0, 0, 0, 0], [0.021911076959804633, 0.010687941344658612, 0.008615999628091231, 0.005407290417933836, 0.0008023117489938159, 0, 0, 0, 0, 0, 0, 0, 0, 0, 0, 0, 0, 0, 0, 0, 0, 0, 0, 0, 0, 0, 0, 0, 0, 0, 0, 0, 0, 0, 0, 0, 0, 0, 0, 0, 0, 0, 0, 0, 0, 0, 0, 0, 0, 0, 0, 0, 0, 0], [0.021911076959804633, 0.009972903087327723, 0.006935624140314758, 0.004999528252519667, 0, 0, 0, 0, 0, 0, 0, 0, 0, 0, 0, 0, 0, 0, 0, 0, 0, 0, 0, 0, 0, 0, 0, 0, 0, 0, 0, 0, 0, 0, 0, 0, 0, 0, 0, 0, 0, 0, 0, 0, 0, 0, 0, 0, 0, 0, 0, 0, 0, 0], [0, 0, 0, 0.021911076959804633, 0.00669992613082286, 0, 0, 0, 0, 0, 0, 0, 0, 0, 0, 0, 0, 0, 0, 0, 0, 0, 0, 0, 0, 0, 0, 0, 0, 0, 0, 0, 0, 0, 0, 0, 0, 0, 0, 0, 0, 0, 0, 0, 0, 0, 0, 0, 0, 0, 0, 0, 0, 0], [0, 0.021911076959804633, 0, 0, 0.004062576834403444, 0.008896041447296738, 0.0076260346005437895, 0.004285012255422771, 0, 0, 0, 0, 0, 0, 0, 0, 0, 0, 0, 0, 0, 0, 0, 0, 0, 0, 0, 0, 0, 0, 0, 0, 0, 0, 0, 0, 0, 0, 0, 0, 0, 0, 0, 0, 0, 0, 0, 0, 0, 0, 0, 0, 0, 0]]\n"
          ]
        }
      ]
    },
    {
      "cell_type": "code",
      "source": [
        "# Fitting Decision Tree to the training set\n",
        "training_accuracy = []\n",
        "test_accuracy = []\n",
        "from sklearn.tree import DecisionTreeClassifier\n",
        "classifier=DecisionTreeClassifier(criterion=\"entropy\", random_state=0)\n",
        "classifier.fit(X_train, y_train)"
      ],
      "metadata": {
        "colab": {
          "base_uri": "https://localhost:8080/"
        },
        "id": "bwSCvuQu9g3q",
        "outputId": "5009b389-db08-45bc-e3a4-ed4d13b76c34"
      },
      "execution_count": null,
      "outputs": [
        {
          "output_type": "execute_result",
          "data": {
            "text/plain": [
              "DecisionTreeClassifier(criterion='entropy', random_state=0)"
            ]
          },
          "metadata": {},
          "execution_count": 132
        }
      ]
    },
    {
      "cell_type": "code",
      "source": [
        "#predicting the Test set results\n",
        "y_pred=classifier.predict(X_test)\n",
        "\n",
        "\n",
        "#Making the confusion matrix\n",
        "from sklearn.metrics import confusion_matrix\n",
        "cm=confusion_matrix(y_test, y_pred)\n",
        "#print(cm)\n",
        "from mlxtend.plotting import plot_confusion_matrix\n",
        "print(\"Confusion Matrix for PassiveAggressiveClassifier\")\n",
        "plot_confusion_matrix(conf_mat=cm,show_absolute=True,\n",
        "                                show_normed=True,\n",
        "                                colorbar=True)"
      ],
      "metadata": {
        "colab": {
          "base_uri": "https://localhost:8080/",
          "height": 338
        },
        "id": "B1n_AJrS9keB",
        "outputId": "e6a71267-f4ee-4b1f-8bdf-b74d610434d9"
      },
      "execution_count": null,
      "outputs": [
        {
          "output_type": "stream",
          "name": "stdout",
          "text": [
            "Confusion Matrix for PassiveAggressiveClassifier\n"
          ]
        },
        {
          "output_type": "execute_result",
          "data": {
            "text/plain": [
              "(<Figure size 432x288 with 2 Axes>,\n",
              " <matplotlib.axes._subplots.AxesSubplot at 0x7f852c1c7490>)"
            ]
          },
          "metadata": {},
          "execution_count": 133
        },
        {
          "output_type": "display_data",
          "data": {
            "image/png": "[encoded data removed]",
            "text/plain": [
              "<Figure size 432x288 with 2 Axes>"
            ]
          },
          "metadata": {
            "needs_background": "light"
          }
        }
      ]
    },
    {
      "cell_type": "code",
      "source": [
        "#finding accuracy\n",
        "from sklearn.metrics import accuracy_score\n",
        "accuracy=accuracy_score(y_test,y_pred)\n",
        "print('Accuracy %.3f'%accuracy) \n",
        "\n",
        "from sklearn.metrics import precision_score\n",
        "precision=precision_score(y_test,y_pred,average=\"binary\")\n",
        "print('precision %.3f'%precision)\n",
        "\n",
        "from sklearn.metrics import recall_score\n",
        "recall=recall_score(y_test,y_pred,average=\"binary\")\n",
        "print('Recall %.3f'%recall)\n",
        "\n",
        "\n",
        "from sklearn.metrics import f1_score\n",
        "f1=f1_score(y_test,y_pred,average=\"binary\")\n",
        "print('f1_score %.3f'%f1)\n"
      ],
      "metadata": {
        "colab": {
          "base_uri": "https://localhost:8080/"
        },
        "id": "AE_dskXZ9nqK",
        "outputId": "3d21eded-49bf-47a5-ccf9-b95fdb194fae"
      },
      "execution_count": null,
      "outputs": [
        {
          "output_type": "stream",
          "name": "stdout",
          "text": [
            "Accuracy 0.560\n",
            "precision 0.533\n",
            "Recall 0.600\n",
            "f1_score 0.565\n"
          ]
        }
      ]
    },
    {
      "cell_type": "markdown",
      "source": [
        "# Decision Tree with 10-fold cross validation"
      ],
      "metadata": {
        "id": "bB2JvwUb9yQB"
      }
    },
    {
      "cell_type": "code",
      "source": [
        "#Applying 10-fold cross validation\n",
        "\n",
        "from sklearn.model_selection import cross_val_score\n",
        "from sklearn.model_selection import KFold\n",
        "from statistics import *\n",
        "# prepare the cross-validation procedure\n",
        "cv = KFold(n_splits=10,shuffle=True, random_state=0)\n",
        "# evaluate model\n",
        "from sklearn.tree import DecisionTreeClassifier\n",
        "classifier=DecisionTreeClassifier(criterion=\"entropy\", random_state=0)\n",
        "scores = cross_val_score(classifier, X, y, scoring='accuracy', cv=cv)\n",
        "recall = cross_val_score(classifier, X, y, scoring='recall', cv=cv)\n",
        "precision = cross_val_score(classifier, X, y, scoring='precision', cv=cv)\n",
        "f1 = cross_val_score(classifier, X, y, scoring='f1', cv=cv)\n",
        "# report performance\n",
        "print('%.3f'%mean(scores))\n",
        "print('%.3f'%np.mean(precision))\n",
        "print('%.3f'%np.mean(recall))\n",
        "print('%.3f'%np.mean(f1))"
      ],
      "metadata": {
        "colab": {
          "base_uri": "https://localhost:8080/"
        },
        "id": "N6WZw7vp9w46",
        "outputId": "64431259-4fa3-4922-e997-f47d3e382d59"
      },
      "execution_count": null,
      "outputs": [
        {
          "output_type": "stream",
          "name": "stdout",
          "text": [
            "0.593\n",
            "0.572\n",
            "0.582\n",
            "0.571\n"
          ]
        }
      ]
    },
    {
      "cell_type": "markdown",
      "source": [
        "# Naive Bayes with 80:20 spliting"
      ],
      "metadata": {
        "id": "wdUD8o8F-zZK"
      }
    },
    {
      "cell_type": "code",
      "source": [
        "#Splitting the dataset into training set and test set\n",
        "from sklearn.model_selection import train_test_split\n",
        "X_train,X_test,y_train,y_test= train_test_split(X,y,test_size=0.2,random_state=1)\n",
        "#print(X)"
      ],
      "metadata": {
        "id": "ct1-2bHI_F4S"
      },
      "execution_count": null,
      "outputs": []
    },
    {
      "cell_type": "code",
      "source": [
        "# Fitting SVC to the training set\n",
        "from sklearn.naive_bayes import GaussianNB\n",
        "classifier=GaussianNB()\n",
        "classifier.fit(X_train, y_train)\n",
        "#predicting the Test set results\n",
        "y_pred=classifier.predict(X_test)\n",
        "#Making the confusion matrix\n",
        "from sklearn.metrics import confusion_matrix\n",
        "cm=confusion_matrix(y_test, y_pred)\n",
        "#print(cm)\n",
        "from mlxtend.plotting import plot_confusion_matrix\n",
        "print(\"Confusion Matrix for PassiveAggressiveClassifier\")\n",
        "plot_confusion_matrix(conf_mat=cm,show_absolute=True,\n",
        "                                show_normed=True,\n",
        "                                colorbar=True)\n",
        "#finding accuracy\n",
        "from sklearn.metrics import accuracy_score\n",
        "accuracy=accuracy_score(y_test,y_pred)\n",
        "print('Accuracy %.3f'%accuracy)\n",
        "\n",
        "from sklearn.metrics import precision_score\n",
        "precision=precision_score(y_test,y_pred,average=\"binary\")\n",
        "print('precision %.3f'%precision)\n",
        "\n",
        "from sklearn.metrics import recall_score\n",
        "recall=recall_score(y_test,y_pred,average=\"binary\")\n",
        "print('Recall %.3f'%recall)\n",
        "\n",
        "from sklearn.metrics import f1_score\n",
        "f1=f1_score(y_test,y_pred,average=\"binary\")\n",
        "print('f1_score %.3f'%f1)"
      ],
      "metadata": {
        "colab": {
          "base_uri": "https://localhost:8080/",
          "height": 370
        },
        "id": "iG3nHJG3_Kdy",
        "outputId": "cfe7a8e0-a5c8-43d8-8113-8a15948d0ec1"
      },
      "execution_count": null,
      "outputs": [
        {
          "output_type": "stream",
          "name": "stdout",
          "text": [
            "Confusion Matrix for PassiveAggressiveClassifier\n",
            "Accuracy 0.476\n",
            "precision 0.476\n",
            "Recall 0.975\n",
            "f1_score 0.639\n"
          ]
        },
        {
          "output_type": "display_data",
          "data": {
            "image/png": "[encoded data removed]",
            "text/plain": [
              "<Figure size 432x288 with 2 Axes>"
            ]
          },
          "metadata": {
            "needs_background": "light"
          }
        }
      ]
    },
    {
      "cell_type": "markdown",
      "source": [
        "# Naive Bayes with 10-fold cross validation"
      ],
      "metadata": {
        "id": "ZaQdfc0w_oX6"
      }
    },
    {
      "cell_type": "code",
      "source": [
        "#Applying 10-fold cross validation\n",
        "\n",
        "from sklearn.model_selection import cross_val_score\n",
        "from sklearn.model_selection import KFold\n",
        "from statistics import *\n",
        "# prepare the cross-validation procedure\n",
        "cv = KFold(n_splits=10,shuffle=True, random_state=0)\n",
        "# evaluate model\n",
        "from sklearn.naive_bayes import GaussianNB\n",
        "classifier=GaussianNB()\n",
        "scores = cross_val_score(classifier, X, y, scoring='accuracy', cv=cv)\n",
        "recall = cross_val_score(classifier, X, y, scoring='recall', cv=cv)\n",
        "precision = cross_val_score(classifier, X, y, scoring='precision', cv=cv)\n",
        "f1 = cross_val_score(classifier, X, y, scoring='f1', cv=cv)\n",
        "# report performance\n",
        "print('%.3f'%mean(scores))\n",
        "print('%.3f'%np.mean(precision))\n",
        "print('%.3f'%np.mean(recall))\n",
        "print('%.3f'%np.mean(f1))"
      ],
      "metadata": {
        "colab": {
          "base_uri": "https://localhost:8080/"
        },
        "id": "7ziXmTsf_OUy",
        "outputId": "4c4caf65-e94f-49d2-cbfb-e4a069f5b7cb"
      },
      "execution_count": null,
      "outputs": [
        {
          "output_type": "stream",
          "name": "stdout",
          "text": [
            "0.476\n",
            "0.475\n",
            "0.978\n",
            "0.637\n"
          ]
        }
      ]
    },
    {
      "cell_type": "markdown",
      "source": [
        "# Random Forest with 80:20 spliting"
      ],
      "metadata": {
        "id": "NoqxI7ioAEpK"
      }
    },
    {
      "cell_type": "code",
      "source": [
        "#Splitting the dataset into training set and test set\n",
        "from sklearn.model_selection import train_test_split\n",
        "X_train,X_test,y_train,y_test= train_test_split(X,y,test_size=0.2,random_state=0)\n",
        "#print(X)"
      ],
      "metadata": {
        "id": "OoXcL6DgAjW7"
      },
      "execution_count": null,
      "outputs": []
    },
    {
      "cell_type": "code",
      "source": [
        "# Fitting Random Forest to the training set\n",
        "from sklearn.ensemble import RandomForestClassifier\n",
        "classifier=RandomForestClassifier(n_estimators=10,criterion='entropy',random_state=0)\n",
        "classifier.fit(X_train, y_train)\n",
        "\n",
        "#predicting the Test set results\n",
        "y_pred=classifier.predict(X_test)\n",
        "#Making the confusion matrix\n",
        "from sklearn.metrics import confusion_matrix\n",
        "cm=confusion_matrix(y_test, y_pred)\n",
        "#print(cm)\n",
        "from mlxtend.plotting import plot_confusion_matrix\n",
        "print(\"Confusion Matrix for PassiveAggressiveClassifier\")\n",
        "plot_confusion_matrix(conf_mat=cm,show_absolute=True,\n",
        "                                show_normed=True,\n",
        "                                colorbar=True)\n",
        "#finding accuracy\n",
        "from sklearn.metrics import accuracy_score\n",
        "accuracy=accuracy_score(y_test,y_pred)\n",
        "print('Accuracy %.3f'%accuracy)\n",
        "\n",
        "from sklearn.metrics import precision_score\n",
        "precision=precision_score(y_test,y_pred,average=\"binary\")\n",
        "print('precision %.3f'%precision)\n",
        "\n",
        "from sklearn.metrics import recall_score\n",
        "recall=recall_score(y_test,y_pred,average=\"binary\")\n",
        "print('Recall %.3f'%recall)\n",
        "\n",
        "from sklearn.metrics import f1_score\n",
        "f1=f1_score(y_test,y_pred,average=\"binary\")\n",
        "print('f1_score %.3f'%f1)"
      ],
      "metadata": {
        "colab": {
          "base_uri": "https://localhost:8080/",
          "height": 370
        },
        "id": "VxjylX6xA34a",
        "outputId": "1ce0d101-3822-46b9-9e2f-82066aa5e0ab"
      },
      "execution_count": null,
      "outputs": [
        {
          "output_type": "stream",
          "name": "stdout",
          "text": [
            "Confusion Matrix for PassiveAggressiveClassifier\n",
            "Accuracy 0.643\n",
            "precision 0.690\n",
            "Recall 0.488\n",
            "f1_score 0.571\n"
          ]
        },
        {
          "output_type": "display_data",
          "data": {
            "image/png": "[encoded data removed]",
            "text/plain": [
              "<Figure size 432x288 with 2 Axes>"
            ]
          },
          "metadata": {
            "needs_background": "light"
          }
        }
      ]
    },
    {
      "cell_type": "markdown",
      "source": [
        "# Random Forest with 10-fold cross validation"
      ],
      "metadata": {
        "id": "qsPMm1ydBRhp"
      }
    },
    {
      "cell_type": "code",
      "source": [
        "#Applying 10-fold cross validation\n",
        "\n",
        "from sklearn.model_selection import cross_val_score\n",
        "from sklearn.model_selection import KFold\n",
        "from statistics import *\n",
        "# prepare the cross-validation procedure\n",
        "cv = KFold(n_splits=10,shuffle=True, random_state=0)\n",
        "# evaluate model\n",
        "from sklearn.ensemble import RandomForestClassifier\n",
        "classifier=RandomForestClassifier(n_estimators=10,criterion='entropy',random_state=0)\n",
        "scores = cross_val_score(classifier, X, y, scoring='accuracy', cv=cv)\n",
        "recall = cross_val_score(classifier, X, y, scoring='recall', cv=cv)\n",
        "precision = cross_val_score(classifier, X, y, scoring='precision', cv=cv)\n",
        "f1 = cross_val_score(classifier, X, y, scoring='f1', cv=cv)\n",
        "# report performance\n",
        "print('%.3f'%mean(scores))\n",
        "print('%.3f'%np.mean(precision))\n",
        "print('%.3f'%np.mean(recall))\n",
        "print('%.3f'%np.mean(f1))"
      ],
      "metadata": {
        "colab": {
          "base_uri": "https://localhost:8080/"
        },
        "id": "MsjoGLKABWvD",
        "outputId": "bdd9bb1f-bde2-4cd8-b1bb-2bbe7caf8eca"
      },
      "execution_count": null,
      "outputs": [
        {
          "output_type": "stream",
          "name": "stdout",
          "text": [
            "0.632\n",
            "0.646\n",
            "0.508\n",
            "0.563\n"
          ]
        }
      ]
    }
  ]
}