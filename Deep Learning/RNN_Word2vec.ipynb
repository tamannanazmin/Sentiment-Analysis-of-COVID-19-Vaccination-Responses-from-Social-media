{
  "cells": [
    {
      "cell_type": "code",
      "execution_count": 4,
      "metadata": {
        "colab": {
          "base_uri": "https://localhost:8080/"
        },
        "id": "FqassBxbS3hC",
        "outputId": "f8c34e2e-11b0-4388-ea22-792b2f5a7107"
      },
      "outputs": [
        {
          "output_type": "stream",
          "name": "stdout",
          "text": [
            "Looking in indexes: https://pypi.org/simple, https://us-python.pkg.dev/colab-wheels/public/simple/\n",
            "Collecting glove-python-binary\n",
            "  Downloading glove_python_binary-0.2.0-cp38-cp38-manylinux1_x86_64.whl (974 kB)\n",
            "\u001b[2K     \u001b[90m━━━━━━━━━━━━━━━━━━━━━━━━━━━━━━━━━━━━━━\u001b[0m \u001b[32m974.9/974.9 KB\u001b[0m \u001b[31m56.1 MB/s\u001b[0m eta \u001b[36m0:00:00\u001b[0m\n",
            "\u001b[?25hRequirement already satisfied: scipy in /usr/local/lib/python3.8/dist-packages (from glove-python-binary) (1.7.3)\n",
            "Requirement already satisfied: numpy in /usr/local/lib/python3.8/dist-packages (from glove-python-binary) (1.21.6)\n",
            "Installing collected packages: glove-python-binary\n",
            "Successfully installed glove-python-binary-0.2.0\n"
          ]
        }
      ],
      "source": [
        "from keras.datasets import imdb\n",
        "import pandas as pd\n",
        "import numpy as np\n",
        "from keras.layers import LSTM, Activation, Dropout, Dense, Input\n",
        "from keras.models import Model\n",
        "import string\n",
        "import re\n",
        "from keras.preprocessing.text import Tokenizer\n",
        "from sklearn.preprocessing import LabelBinarizer\n",
        "import keras\n",
        "from sklearn.model_selection import train_test_split\n",
        "from torch.utils.data import TensorDataset, DataLoader\n",
        "! pip install glove-python-binary\n",
        "from glove import Corpus, Glove"
      ]
    },
    {
      "cell_type": "code",
      "execution_count": 5,
      "metadata": {
        "id": "RgOU6NF2S6y5"
      },
      "outputs": [],
      "source": [
        "from pathlib import Path\n",
        "\n",
        "import pandas as pd\n",
        "import numpy as np\n",
        "import torch\n",
        "import torch.nn.functional as F\n",
        "import torch.nn as nn\n",
        "import torch.optim as optim\n",
        "from google_drive_downloader import GoogleDriveDownloader as gdd\n",
        "from sklearn.feature_extraction.text import CountVectorizer\n",
        "from torch.nn.utils.rnn import pack_padded_sequence, pad_packed_sequence\n",
        "from torch.utils.data import DataLoader, Dataset\n",
        "from tqdm import tqdm, tqdm_notebook\n",
        "from sklearn.feature_extraction.text import TfidfVectorizer\n",
        "# Import train_test_split function\n",
        "from sklearn.model_selection import train_test_split"
      ]
    },
    {
      "cell_type": "code",
      "execution_count": 6,
      "metadata": {
        "id": "M-nkyaC8Wck6"
      },
      "outputs": [],
      "source": [
        "device = torch.device('cuda' if torch.cuda.is_available() else 'cpu')"
      ]
    },
    {
      "cell_type": "code",
      "execution_count": 7,
      "metadata": {
        "id": "bG8q342wotky",
        "colab": {
          "base_uri": "https://localhost:8080/",
          "height": 206
        },
        "outputId": "e7fd20d4-b7f6-4f12-83da-710c2968aaf4"
      },
      "outputs": [
        {
          "output_type": "execute_result",
          "data": {
            "text/plain": [
              "                                                Text  Polarity\n",
              "0            আমাদের সজাগ থাকতে হবে টিকা নেওয়া নিয়ে।          1\n",
              "1                                  ভ্যাকসিন ভালো না।         0\n",
              "2                 আমার পরিবারের সকলেই টিকা নিয়েছে।          1\n",
              "3  টিকা লক্ষণীয় রোগ প্রতিরোধে একইভাবে উচ্চ কার্য...         1\n",
              "4           অনলাইনে আবেদন করে আমি ভ্যাকসিন নিয়েছি।          1"
            ],
            "text/html": [
              "\n",
              "  <div id=\"df-61ba9ebb-f6de-48f9-b509-718a2b9d77ab\">\n",
              "    <div class=\"colab-df-container\">\n",
              "      <div>\n",
              "<style scoped>\n",
              "    .dataframe tbody tr th:only-of-type {\n",
              "        vertical-align: middle;\n",
              "    }\n",
              "\n",
              "    .dataframe tbody tr th {\n",
              "        vertical-align: top;\n",
              "    }\n",
              "\n",
              "    .dataframe thead th {\n",
              "        text-align: right;\n",
              "    }\n",
              "</style>\n",
              "<table border=\"1\" class=\"dataframe\">\n",
              "  <thead>\n",
              "    <tr style=\"text-align: right;\">\n",
              "      <th></th>\n",
              "      <th>Text</th>\n",
              "      <th>Polarity</th>\n",
              "    </tr>\n",
              "  </thead>\n",
              "  <tbody>\n",
              "    <tr>\n",
              "      <th>0</th>\n",
              "      <td>আমাদের সজাগ থাকতে হবে টিকা নেওয়া নিয়ে।</td>\n",
              "      <td>1</td>\n",
              "    </tr>\n",
              "    <tr>\n",
              "      <th>1</th>\n",
              "      <td>ভ্যাকসিন ভালো না।</td>\n",
              "      <td>0</td>\n",
              "    </tr>\n",
              "    <tr>\n",
              "      <th>2</th>\n",
              "      <td>আমার পরিবারের সকলেই টিকা নিয়েছে।</td>\n",
              "      <td>1</td>\n",
              "    </tr>\n",
              "    <tr>\n",
              "      <th>3</th>\n",
              "      <td>টিকা লক্ষণীয় রোগ প্রতিরোধে একইভাবে উচ্চ কার্য...</td>\n",
              "      <td>1</td>\n",
              "    </tr>\n",
              "    <tr>\n",
              "      <th>4</th>\n",
              "      <td>অনলাইনে আবেদন করে আমি ভ্যাকসিন নিয়েছি।</td>\n",
              "      <td>1</td>\n",
              "    </tr>\n",
              "  </tbody>\n",
              "</table>\n",
              "</div>\n",
              "      <button class=\"colab-df-convert\" onclick=\"convertToInteractive('df-61ba9ebb-f6de-48f9-b509-718a2b9d77ab')\"\n",
              "              title=\"Convert this dataframe to an interactive table.\"\n",
              "              style=\"display:none;\">\n",
              "        \n",
              "  <svg xmlns=\"http://www.w3.org/2000/svg\" height=\"24px\"viewBox=\"0 0 24 24\"\n",
              "       width=\"24px\">\n",
              "    <path d=\"M0 0h24v24H0V0z\" fill=\"none\"/>\n",
              "    <path d=\"M18.56 5.44l.94 2.06.94-2.06 2.06-.94-2.06-.94-.94-2.06-.94 2.06-2.06.94zm-11 1L8.5 8.5l.94-2.06 2.06-.94-2.06-.94L8.5 2.5l-.94 2.06-2.06.94zm10 10l.94 2.06.94-2.06 2.06-.94-2.06-.94-.94-2.06-.94 2.06-2.06.94z\"/><path d=\"M17.41 7.96l-1.37-1.37c-.4-.4-.92-.59-1.43-.59-.52 0-1.04.2-1.43.59L10.3 9.45l-7.72 7.72c-.78.78-.78 2.05 0 2.83L4 21.41c.39.39.9.59 1.41.59.51 0 1.02-.2 1.41-.59l7.78-7.78 2.81-2.81c.8-.78.8-2.07 0-2.86zM5.41 20L4 18.59l7.72-7.72 1.47 1.35L5.41 20z\"/>\n",
              "  </svg>\n",
              "      </button>\n",
              "      \n",
              "  <style>\n",
              "    .colab-df-container {\n",
              "      display:flex;\n",
              "      flex-wrap:wrap;\n",
              "      gap: 12px;\n",
              "    }\n",
              "\n",
              "    .colab-df-convert {\n",
              "      background-color: #E8F0FE;\n",
              "      border: none;\n",
              "      border-radius: 50%;\n",
              "      cursor: pointer;\n",
              "      display: none;\n",
              "      fill: #1967D2;\n",
              "      height: 32px;\n",
              "      padding: 0 0 0 0;\n",
              "      width: 32px;\n",
              "    }\n",
              "\n",
              "    .colab-df-convert:hover {\n",
              "      background-color: #E2EBFA;\n",
              "      box-shadow: 0px 1px 2px rgba(60, 64, 67, 0.3), 0px 1px 3px 1px rgba(60, 64, 67, 0.15);\n",
              "      fill: #174EA6;\n",
              "    }\n",
              "\n",
              "    [theme=dark] .colab-df-convert {\n",
              "      background-color: #3B4455;\n",
              "      fill: #D2E3FC;\n",
              "    }\n",
              "\n",
              "    [theme=dark] .colab-df-convert:hover {\n",
              "      background-color: #434B5C;\n",
              "      box-shadow: 0px 1px 3px 1px rgba(0, 0, 0, 0.15);\n",
              "      filter: drop-shadow(0px 1px 2px rgba(0, 0, 0, 0.3));\n",
              "      fill: #FFFFFF;\n",
              "    }\n",
              "  </style>\n",
              "\n",
              "      <script>\n",
              "        const buttonEl =\n",
              "          document.querySelector('#df-61ba9ebb-f6de-48f9-b509-718a2b9d77ab button.colab-df-convert');\n",
              "        buttonEl.style.display =\n",
              "          google.colab.kernel.accessAllowed ? 'block' : 'none';\n",
              "\n",
              "        async function convertToInteractive(key) {\n",
              "          const element = document.querySelector('#df-61ba9ebb-f6de-48f9-b509-718a2b9d77ab');\n",
              "          const dataTable =\n",
              "            await google.colab.kernel.invokeFunction('convertToInteractive',\n",
              "                                                     [key], {});\n",
              "          if (!dataTable) return;\n",
              "\n",
              "          const docLinkHtml = 'Like what you see? Visit the ' +\n",
              "            '<a target=\"_blank\" href=https://colab.research.google.com/notebooks/data_table.ipynb>data table notebook</a>'\n",
              "            + ' to learn more about interactive tables.';\n",
              "          element.innerHTML = '';\n",
              "          dataTable['output_type'] = 'display_data';\n",
              "          await google.colab.output.renderOutput(dataTable, element);\n",
              "          const docLink = document.createElement('div');\n",
              "          docLink.innerHTML = docLinkHtml;\n",
              "          element.appendChild(docLink);\n",
              "        }\n",
              "      </script>\n",
              "    </div>\n",
              "  </div>\n",
              "  "
            ]
          },
          "metadata": {},
          "execution_count": 7
        }
      ],
      "source": [
        "df=pd.read_csv('/content/Covid Vaccine data(3807).csv')\n",
        "df.head()"
      ]
    },
    {
      "cell_type": "code",
      "source": [
        "len(df)"
      ],
      "metadata": {
        "colab": {
          "base_uri": "https://localhost:8080/"
        },
        "id": "Z3b5jkj8lyHD",
        "outputId": "5068b785-f99d-4075-88e8-032ec4b42350"
      },
      "execution_count": 25,
      "outputs": [
        {
          "output_type": "execute_result",
          "data": {
            "text/plain": [
              "3807"
            ]
          },
          "metadata": {},
          "execution_count": 25
        }
      ]
    },
    {
      "cell_type": "code",
      "execution_count": 42,
      "metadata": {
        "id": "fiDzOc0ToyGD"
      },
      "outputs": [],
      "source": [
        "#df=pd.read_csv(DATA_PATH)\n",
        "df.columns=[\"Text\", \"Polarity\"]\n",
        "df_train=df.head(3000)\n",
        "df_test=df.tail(800)\n",
        "corpus=[]\n",
        "max=0\n",
        "for i in range(0,len(df_train)): \n",
        "    review = df['Text'][i]\n",
        "    li = list(review.split(\" \"))\n",
        "    corpus.append(li)"
      ]
    },
    {
      "cell_type": "code",
      "source": [
        "! pip install glove-python-binary\n",
        "from glove import Corpus, Glove"
      ],
      "metadata": {
        "colab": {
          "base_uri": "https://localhost:8080/"
        },
        "id": "sG2yWGb-cpJB",
        "outputId": "6221999e-28f6-44c8-da00-eba39554e5a7"
      },
      "execution_count": 43,
      "outputs": [
        {
          "output_type": "stream",
          "name": "stdout",
          "text": [
            "Looking in indexes: https://pypi.org/simple, https://us-python.pkg.dev/colab-wheels/public/simple/\n",
            "Requirement already satisfied: glove-python-binary in /usr/local/lib/python3.8/dist-packages (0.2.0)\n",
            "Requirement already satisfied: numpy in /usr/local/lib/python3.8/dist-packages (from glove-python-binary) (1.21.6)\n",
            "Requirement already satisfied: scipy in /usr/local/lib/python3.8/dist-packages (from glove-python-binary) (1.7.3)\n"
          ]
        }
      ]
    },
    {
      "cell_type": "code",
      "source": [
        "!pip install bnlp_toolkit"
      ],
      "metadata": {
        "colab": {
          "base_uri": "https://localhost:8080/"
        },
        "id": "rrEg6QZIc3QJ",
        "outputId": "8b6ea250-5584-4e10-8931-7214b383cb07"
      },
      "execution_count": 44,
      "outputs": [
        {
          "output_type": "stream",
          "name": "stdout",
          "text": [
            "Looking in indexes: https://pypi.org/simple, https://us-python.pkg.dev/colab-wheels/public/simple/\n",
            "Requirement already satisfied: bnlp_toolkit in /usr/local/lib/python3.8/dist-packages (3.2.0)\n",
            "Requirement already satisfied: nltk in /usr/local/lib/python3.8/dist-packages (from bnlp_toolkit) (3.7)\n",
            "Requirement already satisfied: scipy in /usr/local/lib/python3.8/dist-packages (from bnlp_toolkit) (1.7.3)\n",
            "Requirement already satisfied: sentencepiece in /usr/local/lib/python3.8/dist-packages (from bnlp_toolkit) (0.1.97)\n",
            "Requirement already satisfied: wasabi in /usr/local/lib/python3.8/dist-packages (from bnlp_toolkit) (0.10.1)\n",
            "Requirement already satisfied: sklearn-crfsuite in /usr/local/lib/python3.8/dist-packages (from bnlp_toolkit) (0.3.6)\n",
            "Requirement already satisfied: gensim==4.0.1 in /usr/local/lib/python3.8/dist-packages (from bnlp_toolkit) (4.0.1)\n",
            "Requirement already satisfied: numpy in /usr/local/lib/python3.8/dist-packages (from bnlp_toolkit) (1.21.6)\n",
            "Requirement already satisfied: tqdm in /usr/local/lib/python3.8/dist-packages (from bnlp_toolkit) (4.64.1)\n",
            "Requirement already satisfied: smart-open>=1.8.1 in /usr/local/lib/python3.8/dist-packages (from gensim==4.0.1->bnlp_toolkit) (6.3.0)\n",
            "Requirement already satisfied: click in /usr/local/lib/python3.8/dist-packages (from nltk->bnlp_toolkit) (7.1.2)\n",
            "Requirement already satisfied: regex>=2021.8.3 in /usr/local/lib/python3.8/dist-packages (from nltk->bnlp_toolkit) (2022.6.2)\n",
            "Requirement already satisfied: joblib in /usr/local/lib/python3.8/dist-packages (from nltk->bnlp_toolkit) (1.2.0)\n",
            "Requirement already satisfied: python-crfsuite>=0.8.3 in /usr/local/lib/python3.8/dist-packages (from sklearn-crfsuite->bnlp_toolkit) (0.9.9)\n",
            "Requirement already satisfied: tabulate in /usr/local/lib/python3.8/dist-packages (from sklearn-crfsuite->bnlp_toolkit) (0.8.10)\n",
            "Requirement already satisfied: six in /usr/local/lib/python3.8/dist-packages (from sklearn-crfsuite->bnlp_toolkit) (1.15.0)\n"
          ]
        }
      ]
    },
    {
      "cell_type": "code",
      "source": [
        "!pip install -U bnlp_toolkit"
      ],
      "metadata": {
        "colab": {
          "base_uri": "https://localhost:8080/"
        },
        "id": "OFrfk2-mc7Qp",
        "outputId": "c8bdf25a-7f02-4e2a-f1a4-ad564624dfbc"
      },
      "execution_count": 45,
      "outputs": [
        {
          "output_type": "stream",
          "name": "stdout",
          "text": [
            "Looking in indexes: https://pypi.org/simple, https://us-python.pkg.dev/colab-wheels/public/simple/\n",
            "Requirement already satisfied: bnlp_toolkit in /usr/local/lib/python3.8/dist-packages (3.2.0)\n",
            "Requirement already satisfied: sentencepiece in /usr/local/lib/python3.8/dist-packages (from bnlp_toolkit) (0.1.97)\n",
            "Requirement already satisfied: tqdm in /usr/local/lib/python3.8/dist-packages (from bnlp_toolkit) (4.64.1)\n",
            "Requirement already satisfied: wasabi in /usr/local/lib/python3.8/dist-packages (from bnlp_toolkit) (0.10.1)\n",
            "Requirement already satisfied: gensim==4.0.1 in /usr/local/lib/python3.8/dist-packages (from bnlp_toolkit) (4.0.1)\n",
            "Requirement already satisfied: sklearn-crfsuite in /usr/local/lib/python3.8/dist-packages (from bnlp_toolkit) (0.3.6)\n",
            "Requirement already satisfied: scipy in /usr/local/lib/python3.8/dist-packages (from bnlp_toolkit) (1.7.3)\n",
            "Requirement already satisfied: numpy in /usr/local/lib/python3.8/dist-packages (from bnlp_toolkit) (1.21.6)\n",
            "Requirement already satisfied: nltk in /usr/local/lib/python3.8/dist-packages (from bnlp_toolkit) (3.7)\n",
            "Requirement already satisfied: smart-open>=1.8.1 in /usr/local/lib/python3.8/dist-packages (from gensim==4.0.1->bnlp_toolkit) (6.3.0)\n",
            "Requirement already satisfied: click in /usr/local/lib/python3.8/dist-packages (from nltk->bnlp_toolkit) (7.1.2)\n",
            "Requirement already satisfied: joblib in /usr/local/lib/python3.8/dist-packages (from nltk->bnlp_toolkit) (1.2.0)\n",
            "Requirement already satisfied: regex>=2021.8.3 in /usr/local/lib/python3.8/dist-packages (from nltk->bnlp_toolkit) (2022.6.2)\n",
            "Requirement already satisfied: python-crfsuite>=0.8.3 in /usr/local/lib/python3.8/dist-packages (from sklearn-crfsuite->bnlp_toolkit) (0.9.9)\n",
            "Requirement already satisfied: tabulate in /usr/local/lib/python3.8/dist-packages (from sklearn-crfsuite->bnlp_toolkit) (0.8.10)\n",
            "Requirement already satisfied: six in /usr/local/lib/python3.8/dist-packages (from sklearn-crfsuite->bnlp_toolkit) (1.15.0)\n"
          ]
        }
      ]
    },
    {
      "cell_type": "code",
      "source": [
        "import gensim"
      ],
      "metadata": {
        "colab": {
          "base_uri": "https://localhost:8080/"
        },
        "id": "qgYWNdf8dAQb",
        "outputId": "1ace53bc-8333-4d3f-9c66-ddbf487b1846"
      },
      "execution_count": 13,
      "outputs": [
        {
          "output_type": "stream",
          "name": "stderr",
          "text": [
            "/usr/local/lib/python3.8/dist-packages/gensim/similarities/__init__.py:15: UserWarning: The gensim.similarities.levenshtein submodule is disabled, because the optional Levenshtein package <https://pypi.org/project/python-Levenshtein/> is unavailable. Install Levenhstein (e.g. `pip install python-Levenshtein`) to suppress this warning.\n",
            "  warnings.warn(msg)\n"
          ]
        }
      ]
    },
    {
      "cell_type": "code",
      "source": [
        "model=gensim.models.Word2Vec(min_count=3,vector_size=50,workers=4,window=5)\n",
        "model.build_vocab(corpus,progress_per=100)\n",
        "model.train(corpus,total_examples=model.corpus_count,epochs=10)\n",
        "words=list(model.wv.index_to_key)\n",
        "print(words)"
      ],
      "metadata": {
        "colab": {
          "base_uri": "https://localhost:8080/"
        },
        "id": "Ld3WmZGOcdFD",
        "outputId": "ece2ad8c-87a2-4ed2-9fcb-15569060fe8f"
      },
      "execution_count": 46,
      "outputs": [
        {
          "output_type": "stream",
          "name": "stdout",
          "text": [
            "['টিকা', '', 'ভ্যাকসিন', 'না।', 'আমি', 'না', 'করোনা', 'জন্য', 'আমার', 'এবং', 'ডোজ', 'থেকে', 'নিতে', 'করে', 'নিয়ে', 'অনেক', 'পর', 'আর', 'আমাদের', 'টিকার', 'করা', 'এখন', 'করতে', 'নিলে', 'ও', 'ভ্যাক্সিন', 'কোন', 'এর', 'নিয়ে', 'ভেকসিন', 'মানুষ', 'এই', 'করোনার', 'হবে।', 'তৈরি', 'হবে', 'ভ্যাকসিনের', 'তাই', 'তো', 'কোনো', 'ভেক্সিন', 'মনে', 'টীকা', 'নাই।', 'ভালো', 'নেই।', 'করার', 'কি', 'যে', 'হয়ে', 'সুস্থ', 'আপনার', 'একটি', 'তাদের', 'কিছু', 'নেওয়ার', 'কাজ', 'COVID-19', 'মানুষের', 'পরে', 'পারে।', 'করে।', 'নিরাপদ', 'আগে', 'নেওয়ার', 'হয়।', 'এটা', 'বিরুদ্ধে', 'বা', 'দিতে', 'ভয়', 'বেশি', 'হয়', 'করি', 'অসুস্থ', 'আমরা', 'বুস্টার', 'হতে', 'সবাই', 'সুরক্ষা', 'নেওয়া', 'গ্রহণ', 'হচ্ছে', 'সব', 'ভাইরাস', 'প্রতিরোধ', 'যারা', 'যদি', 'দেশের', 'প্রথম', 'তা', 'দেওয়া', 'রোগ', 'দিয়ে', 'সমস্যা', 'পারে', 'নিয়েছি।', 'দেওয়া', 'দেওয়ার', 'কার্যকর', 'মধ্যে', 'বলে', 'কোভিড', 'ক্ষমতা', 'যা', 'এ', 'শরীরে', 'কে', 'বিভিন্ন', 'আছে', 'দেশে', 'কিন্তু', 'দেখা', 'হলে', 'করুন।', 'জীবন', 'রক্ষা', 'দেয়া', 'শরীরের', 'নেয়ার', 'এখনো', 'খুব', 'নয়।', 'হয়', 'নাই', 'কোভিড-১৯', 'তাহলে', 'বিশ্বাস', 'কেউ', 'আরও', 'থাকলে', 'আছি।', 'দ্রুত', 'হচ্ছে।', 'সাথে', 'করোনাভাইরাসের', 'সম্পূর্ণ', 'হয়ে', 'সরকার', 'একটা', 'সম্ভব', 'তার', 'নিজে', 'হয়।', 'শুরু', 'হয়েছে।', 'সবার', 'ঝুঁকি', 'ভ্যাকসিনগুলি', 'দিন', 'দুই', 'নিছি।', 'দেওয়ার', 'নেই', 'তারা', 'নেয়া', 'বিকল্প', 'না,', 'তবে', 'হয়েছে।', 'নয়।', 'এত', 'হিসেবে', 'ক্ষতি', 'নেওয়া', 'অ্যান্টিবডি', 'ভয়', 'আছে।', 'করোনাভাইরাস', 'যায়।', 'কমে', 'সময়', 'নাকি', 'হলেও', 'উচিত।', 'আপনি', 'মানুষকে', 'আক্রান্ত', 'বছর', 'উচিত', 'ধরনের', 'ভাইরাসের', 'পর্যন্ত', 'যাবে', 'কাছে', 'কথা', 'হওয়ার', 'থাকার', 'শুধু', 'দিলে', 'সেই', 'নিব', 'পরিবারের', 'আবার', 'এটি', '২', 'বাংলাদেশ', 'একমাত্র', 'ঠিক', 'প্রতিরোধে', 'এক', 'স্বাস্থ্য', 'মারা', 'সুরক্ষিত', 'শেষ', 'সময়', 'সাধারণ', 'শতভাগ', 'বাধ্যতামূলক', 'থাকতে', 'পাওয়া', 'সংক্রমণ', 'লাগবে', '।', 'মৃত্যু', 'গুরুতর', 'ক্ষেত্রে', 'গুজব', 'নিশ্চিত', 'ফাইজার', 'করি।', 'এমন', 'ভাই', 'সেটা', 'অবশ্যই', 'ছাড়া', 'যায়', 'নিজেকে', 'যখন', 'দ্বিতীয়', 'হওয়ার', 'হলো', 'হয়নি।', 'তখন', 'দেয়ার', 'উপকার', 'যেতে', 'খারাপ', 'দরকার', 'যাবে।', 'সম্পর্কে', 'আল্লাহ', 'প্রয়োজন', 'চাই', 'করবে।', 'বেঁচে', 'টাকা', 'কার্যকারিতা', 'পাওয়া', 'নিলেও', 'সাহায্য', 'জ্বর', 'দ্বিতীয়', 'লাভ', 'সচেতন', 'কিছুই', 'মাস', 'দেশ', 'কার্যকরী', 'প্রদান', 'ব্যবহারের', 'দিয়ে', 'মতো', 'হার', 'শরীর', 'বাংলাদেশের', 'একজন', 'শতাংশ', 'ব্যবস্থা', 'ঝামেলা', 'হয়নি।', 'এখনও', 'শিশুদের', 'করছে।', 'কারণ', 'ভরসা', 'বাঁচার', 'উপর', 'টিকা।', 'যায়।', 'টিকাই', 'গেলে', 'সবাইকে', 'কার্ড', 'অন্য', 'মানুষদের', 'বাইরে', 'ভাল', 'প্রতি', 'আছি', 'কষ্ট', 'বর্তমানে', 'নিয়া', 'আশা', 'মাঝে', 'লাগে', 'রাখতে', 'অনেকে', 'টিকাদান', 'মেনে', 'মহামারী', 'ব্যবহার', 'পাওয়ার', 'কেন?', 'দেয়', 'সবচেয়ে', 'নি', 'খুবই', 'বিনামূল্যে', 'কম', 'অন্যান্য', 'এসব', 'গর্ভবতী', 'হয়েছে', 'করোনাকে', 'আমাকে', 'বিশ্বের', 'হল', 'সৃষ্টি', 'সম্ভাবনা', 'নিজের', 'ছাড়া', 'থাকা', 'পরও', 'থাকুন।', 'পাওয়ার', 'আরো', 'আনতে', 'প্রায়', 'বাচ্চাদের', 'সংক্রমণের', 'দুটি', 'তৈরির', 'আস্থা', 'নতুন', 'সতর্ক', 'উপায়', 'উপায়', 'গ্রহণের', 'স্বাভাবিক', 'যত', 'আগেই', 'চিন্তা', 'কোনও', 'সঙ্গে', 'রকমের', 'বছরের', 'হয়েছে', 'পারেন।', 'হওয়া', 'নিরাপত্তা', 'অনুমতি', 'ডোজের', 'অত্যন্ত', 'মাধ্যমে', 'রেজিস্ট্রেশন', 'হাত', 'কারো', 'নি।', 'বিশ্ব', 'রক্ত', 'করে,', 'বড়', 'তেমন', 'গ্রহন', 'ছিলাম', 'জরুরি।', 'রয়েছে।', 'কান', 'দেয়।', 'হয়েছে,', 'সকলেই', 'এতে', 'সাহস', 'থাকে।', 'প্রস্তুত', 'অসুবিধা', 'আবিষ্কার', 'করছি।', 'বর্তমান', 'সারা', 'প্রতিটি', 'ভাই।', 'নিন।', 'নিয়েছি।', 'ভালো।', 'পারবে', 'জমাট', 'জরুরি', 'নেওয়াতে', 'হাসপাতালে', 'নিলেই', 'করেছে।', 'ছিল।', 'কারন', 'রয়েছে।', 'ব্যক্তিদের', 'শুধুমাত্র', 'দিবেন', 'নেয়', 'নানা', 'নিব।', 'কার্যকর।', 'অনলাইনে', 'চেয়ে', 'মানসিকভাবে', 'জানি', 'ই', 'আগের', 'বেশি।', 'প্রভাব', 'অনুমোদন', 'মৃত্যুর', 'স্কুল', 'টিকাটি', 'এগুলো', 'গেছে।', 'যেন', 'দিকে', 'নয়,', 'তৃতীয়', 'কমিয়ে', 'সকলের', 'গুজবে', 'টিকাকরণ', 'আপনারা', 'ভূমিকা', 'প্রমাণিত', 'শক্তিশালী', 'দুর্বল', 'কতটা', '২য়', 'পরেও', 'অনুমোদিত', 'শারীরিক', 'যথেষ্ট', 'প্রাথমিক', 'উপকারিতা', 'আওতায়', 'গুরুত্বপূর্ণ', 'আমিও', 'রে', 'করবে', 'মহামারি', 'আপনাকে', 'হ্রাস', 'আনা', 'যাতে', 'অক্সফোর্ডের', 'মুক্তি', 'ভ্যাকসিনগুলির', 'হয়েছিল।', 'ভ্যাকসিন।', 'প্রোটিন', 'পরীক্ষা', 'মাস্ক', 'নিন', 'ইমিউন', 'গুরুত্ব', 'পরিবর্তন', 'দেয়।', 'বলেই', 'বরং', 'নিবো', 'বিশ্বব্যাপী', 'সহায়তা', 'সুরক্ষার', 'কোটি', 'করেই', 'ভ্যাকসিনে', 'ক্লিনিকাল', 'অনেকেই', 'পরবর্তীতে', 'উচ্চ', 'বড়', 'টা', 'কিভাবে', 'যাচ্ছে।', 'উৎসাহিত', 'নিবন্ধন', 'দিয়েছে।', 'মডার্নার', 'আসলে', 'পার্শ্ব', 'চাই।', 'করোনা', 'স্বাস্থ্যবিধি', 'চাইলে', 'বাচ্চা', 'রকম', 'মেসেজ', 'নেবার', 'গ্রামের', 'বন্ধ', 'দেহে', 'নাগরিক', 'হালকা', 'লড়াই', 'ব্যক্তির', 'লক্ষ', 'মানে', 'দেরি', 'তাতে', 'করিনা।', 'পারি', 'প্রদানের', 'সবচেয়ে', 'তিন', 'করোনায়', 'নয়', 'ব্যথা', 'দিয়েছি', 'চেষ্টা', 'সুপারিশ', 'নয়', 'ছাড়াই', 'তাঁদের', 'সরকারের', 'গেছে', 'বলতে', '১২', 'হইলো', 'টিকাকে', 'রাখুন।', 'দ্বারা', 'আওতায়', 'সম্পন্ন', 'মত', 'থাকে', 'করেছি।', 'প্রয়োজন', 'সরবরাহ', 'বেশ', 'প্রযুক্তি', 'তুলতে', 'বাঁইচা', 'বেশিরভাগ', 'ভবিষ্যতে', 'যাদের', 'ফলে', 'করেছে', 'কি?', 'প্রথমে', 'কেন্দ্রে', 'বাঁচতে', 'আলহামদুলিল্লাহ', 'বাঁচাতে', 'সম্পর্ক', 'আসার', 'দরকার।', 'প্রতিক্রিয়া', 'অন্যকে', 'যাচ্ছে', 'হাজার', 'mRNA', 'মিথ্যা', 'বিজ্ঞানীরা', 'ভর্তি', 'বয়স', 'চাকরি', 'পাই', 'সারাবিশ্বে', 'ইতোমধ্যে', 'সকল', 'মানব', 'লড়াই', 'পারবে।', 'গ্রহনে', 'সেবা', 'কথা।', 'জিনিস', 'সে', 'বহু', 'আসে', 'সময়মতো', 'হয়তো', 'নিজ', 'করোনাতে', 'নিবেন', 'টিকায়', 'দেই', 'গুলো', 'বোধ', 'পারে,', 'মানসিক', 'ভ্যাকসিনটি', 'কেন', 'মাত্রা', 'মূল', 'ভাগ', 'তাড়াতাড়ি', 'অনেকটা', 'পৃথিবীতে', 'ব্যর্থ', 'দিছি।', 'পরিকল্পনা', 'পরিবার', 'আগ্রহী', 'অনাক্রম্যতা', 'যেটা', 'ছিল', 'কত', 'রোগের', 'আজ', 'লাগে।', 'মাক্স', 'দুইটি', 'মা', 'বেশী', 'আগামী', 'করছেন', 'যাঁদের', 'ওপর', 'রাখা', 'করছি', 'অনেকের', 'মাথা', 'সংস্থা', 'বয়স', 'মাসের', 'কারণে', 'হয়নি', 'পক্ষে', 'তবুও', 'লাইনে', 'অসুস্থতা', 'চেয়ে', 'জটিলতা', 'আসছে', 'নিছি', 'দুইটা', 'করছে', 'করুন', 'কিছুটা', 'অন্যদের', 'পাবেন', 'প্রয়োগ', 'হিসাবে', 'নিন,', 'প্রাণ', 'মোকাবিলার', 'নির্দিষ্ট', 'নেই,', '১ম', '১০', 'দিব', 'অস্ত্র', 'ফিরে', 'সমর্থন', 'একই', 'আব্বা', 'জনগণকে', 'বেড়ে', 'বিশেষ', 'সক্ষম', 'সংক্রামক', 'উপসর্গ', 'টিকাটা', 'পানি', 'বাংলাদেশে', 'আনার', 'কিনা', 'শরীরকে', 'বিষয়ে', 'থাকবে।', 'কাজে', 'সংক্রমিত', 'প্রতিষেধক', 'টি', 'সেখানে', 'আল্লাহর', 'গতি', 'ভাই,', 'ভ্যাকসিনগুলো', 'অপেক্ষা', 'কাজের', 'থাকুন', 'লকডাউন', 'পার্শ্বপ্রতিক্রিয়া', 'ভাবে', 'যাওয়ার', 'অর্থ', 'এমনিতেই', 'সামাজিক', 'ডেল্টা', 'ডোজে', 'তথ্য', '১০০%', 'দেশগুলোর', 'টিকাতে', 'থাকলেও', 'কিছুদিন', 'নিয়েছি', 'কোনরকম', 'এজন্য', 'সমস্ত', 'ভুল', 'গবেষণা', 'দেয়', 'বিস্তার', 'তাঁরা', 'ভেরিয়েন্টের', 'মরে', 'অনুমোদনের', 'পুরো', 'পথ', 'ভুয়া।', 'দাবি', 'উৎপাদন', 'অক্সফোর্ড-অ্যাস্ট্রাজেনেকার', 'বয়সী', 'জরুরী', 'নিয়েও', 'বিশ্বজুড়ে', 'বিশাল', 'হয়,', 'ছাড়াও', 'অবহেলা', 'গড়ে', 'গিয়েছে।', 'থেকেই', 'নাই,', 'রোধে', 'থাকে,', ',', 'অক্সফোর্ড', 'বের', 'বৃদ্ধি', 'ছড়িয়ে', 'নেয়ার', 'সম্পূর্ণভাবে', 'পদ্ধতি', 'বাঁচানোর', 'সুযোগ', 'সাধারন', 'দিলেও', 'নিয়ন্ত্রণে', 'মুক্ত', 'পাশাপাশি', 'স্পাইক', 'পেয়ে', 'কমাতে', 'যাওয়া', 'ফেলুন।', 'বিদেশ', 'এটাই', 'পেরে', 'যায়,', 'পাই।', 'কমিয়ে', 'ছোট', 'ধরণের', 'ব্যবস্থাপনা', 'একটু', 'মহামারীর', 'আইডি', 'পড়তে', 'অসুখ', 'জন্য।', 'কমপক্ষে', 'কয়েকটি', 'পদক্ষেপ', 'মানুষ।', 'অসুস্থতার', 'নিয়ন্ত্রণে', 'গুরুত্বপূর্ণ।', 'সঠিক', 'করলে', 'পেতে', 'বার', 'কয়েক', 'প্রমাণ', 'রেখে', 'ফাইজারের', 'রোধ', 'আসতে', 'ঠেকাতে', 'আমি।', 'শুনেছি', 'মুখে', 'কখনও', 'এগিয়ে', 'থাকতেই', 'গণ', 'সংখ্যক', 'দিয়েছি।', 'আশীর্বাদ', 'গ্যারান্টি', 'লোক', 'দিন।', 'পরে,', 'রাস্তা', 'বাড়ির', 'নাকি।', 'সুরক্ষায়', 'মরার', 'পারবো', 'আপনিও', 'থাকবেন।', 'করা।', 'যুক্তি', 'ভ্যারিয়েন্টের', 'লাখ', 'নির্ভর', 'দেখে', 'নিয়েছি', 'দিচ্ছে', 'পালন', 'হয়না।', 'এমনটা', 'দিতেই', 'করোনাপ্রতিরোধী', 'রূপান্তরিত', 'মুহূর্তে', 'গ্রাম', 'একদমই', '১৭', 'মধ্য', 'পেলাম', 'উপায়ে', 'অবস্থা', 'সম্ভাব্য', 'তাও', 'যায়', 'ছাড়াই', 'ব্যক্তি', 'গিয়ে', 'ধাপ', 'সংগ্রহ', 'সক্রিয়তা', 'পরীক্ষার', 'করবেন', 'যাইতে', 'বিধিনিষেধ', 'নিজেদের', 'রয়েছে', '৮০', 'সপ্তাহ', 'ঝুঁকির', 'কইরা', 'হালাল', 'জিনিস।', 'কখনো', 'ঝামেলার', 'থাকবো।', 'বাঁচায়', 'শক্তি', 'তুলুন।', 'ক্ষেত্রেই', 'ডোজই', 'কোভিড', 'জোর', 'অতি', 'করুন,', 'দাঁড়িয়ে', 'হয়ার', 'বিদেশে', 'অন্তত', 'জীবনে', 'সময়ের', 'এসএমএস', 'আশেপাশের', 'সাইড', 'সবই', 'কম।', 'সেটি', 'জ্বর,', 'ট্রায়ালে', 'একবার', 'অল্প', 'এলাকার', 'বিকাশ', 'বইলাই', 'সমস্যার', 'দূর', 'সিস্টেমকে', 'সময়ের', '৫', 'জানা', 'সবারই', 'হয়নি', 'শনাক্ত', 'দুর্নীতি', 'অন্যতম', 'গ্রহণে', 'দিয়েও', 'আপোষ', 'ধরে', 'নিতেই', 'ফেলতে', 'খবর', 'পরিস্থিতি', 'কেনো', 'মইরা', 'আবেদন', 'অ্যান্টিবডি।', 'ডেটা', 'দিছি', 'হবেনা।', 'গ্রহীতাদের', 'ব্যবহৃত', 'মেয়েদের', 'এলাকায়', 'প্রত্যেককে', 'হয়না', 'সিস্টেম', 'অন্যরকম', 'ইচ্ছা', 'যেমন', 'চিন্তিত', 'কি।', 'যাবেন', 'পরিচালনা', 'বিষয়', 'বিভ্রান্ত', 'করেছেন।', 'টিকাগুলো', 'সেভাবে', 'মহিলাদের', 'দেখায়', 'কার্যকর,', 'নিজেও', 'পায়।', 'হবে,', 'অর্থাৎ', '২৫', 'অপপ্রচার', 'নিয়েছে।', 'মৃত্যুহার', 'পরপরই', 'উপাদান', 'জেলার', 'ক্রমাগত', 'ভেজাল', 'উৎসাহী', 'অধিকার', 'মডার্না,', 'সম্মুখীন', 'চলছে', '(বুস্টার)', 'সামনাসামনি', 'প্রতিক্রিয়া', 'বিকাশের', 'করানো', 'কেবল', 'চলতে', 'মানেই', 'নেয়া', 'দিয়েছে।', 'বলছে', 'বোকা', 'পরীক্ষা-নিরীক্ষা', 'প্রবেশ', 'পোহাতে', '১৫', 'অনুভব', 'উদ্যোগ', 'বাসার', 'সর্দি', 'আছে,', 'গিয়ে', 'হইবো।', 'সরকারি', 'ভ্যাকসিনগুলিতে', 'মতই', 'সোশ্যাল', 'নেব', 'নিরাপদ।', 'উৎপাদনের', 'অ্যাস্ট্রাজেনেকা', 'থেইকা', 'পরামর্শ', 'ব্যাখ্যা', 'শিক্ষার্থীদের', 'কখনোই', 'কবে', 'ভাইরাসটি', 'হইব।', 'জন্যই', 'কারোরই', 'করতেছে।', 'সম্ভব।', 'জন্যও', 'পারবেনা।', 'জানতে', 'যাব', 'জনজীবনে', 'হাতিয়ার', 'শুনলাম', 'উপলব্ধি', 'ভুয়া', 'ওষুধ', 'বুঝতে', '2', 'অনেকটাই', 'ভেরিয়েন্টের', 'মডার্না', 'কাছ', 'নারীদের', 'যথাযথ', 'সরকার।', 'সিদ্ধান্ত', 'অ্যালার্জি', 'নেওয়াতে', 'কঠোর', '১', 'নেয়', 'দিয়েও', 'উভয়', 'ধরা', 'মানা', 'এতদিন', 'ব্যাপারে', 'আগ্রহী।', 'ধন্যবাদ', 'পারবেন।', 'যাবে,', 'প্রায়', '৯০', 'কোথাও', 'পুরুষের', 'নিচ্ছেন', 'জরুরী।', 'প্রত্যেকে', 'কারনে', 'পারছে', 'বিছানায়', 'পার্শ্বপ্রতিক্রিয়া', 'বিজ্ঞাপন', 'সুফল', 'পেলে', 'পৃথিবীর', 'নেবেন।', 'জনগণের', 'করেছি', 'পারি।', 'সংক্রামিত', 'অ্যান্টিবডির', 'বাড়াতে', 'দ্বিধা', 'বলুন।', 'বাসা', 'আপাতত', 'মরন', 'করলেও', 'বুঝবো', 'বলা', 'পারলে', 'সমাধান', 'যার', 'ব্যাথা', 'রেজিষ্ট্রেশন', 'রহমতে', 'জড়িত', 'নিয়েছি,', 'নির্ধারণ', 'ডেভেলপারদের', 'খালি', 'চলে', 'চলবে।', 'থেকেও', 'ভারত', 'যুক্তরাজ্যসহ', 'বিপদ', 'সত্যি।', 'একেবারে', 'প্রকাশের', 'যুক্তরাষ্ট্র', 'থাকবে', 'ইউরোপের', 'কাউকে', 'অতিক্রম', 'হবো।', 'ক্লান্তি', 'আছেন।', 'আসেনি', 'নিরাপদে', 'দাঁড়িয়েছে।', 'তাতেই', 'বাঁধার', 'যেভাবে', 'ছড়ায়।', 'সরকারিভাবে', 'ভোগান্তি', '৮০।', 'আগ্রহ', 'সহ', 'এদেশের', 'মানবদেহে', 'পেয়েছি', 'বছরেরও', 'এমআরএনএ', 'জয়', 'শরীরেই', 'গেলেই', 'ঢুকলে', 'দায়িত্ব।', 'উপসর্গগুলি', 'প্রয়োজনীয়', 'অগ্রিম', 'খেতে', 'সত্য', 'কাশির', 'বেশির', 'এগুলি', 'যেকোন', 'করিনি।', 'উপকারী', 'গুজবগুলোতে', 'গেসে', 'কোনটা', 'ব্যাবহার', 'আরেকটি', 'প্রতিরোধী', 'পেয়েছে।', 'হইতে', 'আজই', 'প্রতিরোধক', '\"বুস্টার', 'বাঁচা', 'প্রতিরক্ষামুলক', 'প্রাদুর্ভাবের', 'দেখছি', 'দিনের', 'কার্যক্রম', 'করব', 'বাঁচায়।', 'টি-লিম্ফোসাইট', 'দেখি', 'সিনোফারম', 'নিয়েছে।', 'এস', 'মারার', 'ব্যবসার', 'সহায়তা', 'বসে', 'বিরত', 'বলছেন', 'হাতে', 'কমপ্লিট', 'ব্যাপকভাবে', 'স্কুলে', 'বাঁচবো', 'কমবে', 'বলি', 'দিয়েছে', 'পড়েছে।', 'অমিক্রন', 'পায়', 'গভীরতা', 'ডােজ', 'নিবে', 'শিশু', 'সমাজে', 'সেরা', 'করেছে,', 'শর্ত', 'দূরে', 'যেহেতু', 'বাড়ে।', 'যুগে', 'কার্যক্রমের', '১৮', 'করো', 'নিবো।', 'বিশ্বে', 'আছি,', 'বন্ধ্যা', 'ভ্যাক্সিনের', 'নিয়েছে', 'তুলনামূলকভাবে', 'নিচ্ছে', 'হতো', 'বাঁচুম।', 'ভ্যাকসিনগুলিকে', 'প্রজনন', 'দেশকে', 'বয়সী', 'ভ্যারিয়েন্ট', 'এবার', 'কীভাবে', 'ভারতের', 'আমার।', 'মেসেঞ্জার', 'অনেকে।', 'জনের', 'খবরে', 'কোনোরকম', 'বিশেষজ্ঞরা', 'উন্নত', 'আইছে', 'যাওয়া', 'ছড়ানোর', 'সতর্কতা', 'জারি', 'একাধিক', 'চলার', 'মোকাবিলা', 'দিবে', 'কেমনে।', 'চালু', 'তোলার', 'অঞ্চলে', 'লোককে', 'বছরই', 'গত', 'মর্ডানার', 'রক্ষা।', 'চিকিৎসা', 'বাড়তে', 'সবথেকে', 'ইমিউনিটি', 'বাঁচায়।', 'হইছে।', 'কেন।', 'মর্ডানা', 'নিয়েছেন।', 'বাড়িয়ে', 'এসে', 'নিজেই', 'বিবেচনা', '৩', 'কর্তৃপক্ষের', 'গরিব', 'সহজ', 'স্থানীয়', 'শীঘ্রই', 'রুখতে', 'সিনোফার্ম', 'যায়নি।', 'ব্যাপক', 'ভয়ে', 'বয়স্ক', '(কোভিড-১৯)', 'ধারণা।', 'আলফা', 'ধরন', 'চাইনা।', 'মোটেও', 'স্পুটনিক', 'নষ্ট', 'WHO', 'বৃদ্ধ', 'বাদ', 'এমনকি', 'কারও', 'ঝুঁকিও', 'ভরসা।', 'জাতীয়', 'সাধারণত', 'মুকাবেলা', 'মহামারীতে', 'অনলাইনের', 'কোয়ারান্টিনের', 'ডোজটি', 'অ্যাস্ট্রাজেনেকার', 'দীর্ঘস্থায়ী', 'সম্ভাবনাও', 'অনুসারে', 'নিয়েন', 'পারছি', 'পর্যায়ে', 'পারলাম', 'নিজেরা', 'কমিউনিটিকে', 'বিপদে', 'ফেলা', 'মান', 'নিয়েছে', 'পরে।', 'সন্দেহ', 'গণটিকাদান', 'কয়েক', 'গ্রহনের', 'আসছে।', 'একদিন', '১০০', 'শেখ', 'করেনা।', 'সকলকে', 'করলেই', 'মরবো', 'ছাড়াও', 'দেবে।', 'উপায়।', 'প্রক্রিয়াগুলি', 'বাবা', 'সময়ে', 'চার', 'চোখে', 'প্রতিকার', 'বেধে', 'পায়।', 'কমানো', 'আছেন', 'দিক', 'চারপাশে', 'গেল', 'বুঝলাম', 'যেটি', 'ভয়ঙ্কর', 'থেকে।', 'করছেন।', 'কারোর', 'নিয়া', 'হাতের', 'বলসে', 'সর্বোত্তম', 'সূচনা', 'করবো', 'জ্বরের', 'উচিত,', 'বৈশ্বিকভাবে', 'ঊর্ধ্বগতি', 'জিনের', 'দেহকোষে', 'অর্থনীতির', 'বুস্টারগুলি', 'পাচ্ছে,', 'চাঙা', 'অবাধ', 'হবে?', 'এসেছে', 'ঘটায়,', 'চাকা', 'বিশেষজ্ঞরা।', 'প্রধান', 'প্রাপ্যতা', 'ভ্যাকসিনটির', 'ইউনিটের', 'নামে', 'পন্থা', 'ডোজ।', 'ভেকসিন।', 'মরতে', 'ঠিকই', 'নিঃসংকোচে', 'গেছি', 'Moderna', '-', 'কিচ্ছু', 'পদক্ষেপ।', '১৪', 'দায়িত্বে', 'প্রযুক্তিতে', 'অনুযায়ী', 'বিপরীত', 'হিতে', 'কেমন', 'পাঁচটা', 'ব্যবস্থাকে', 'এলার্জি', 'পরীক্ষামূলক', 'দেহগুলি', 'সৃষ্ট', 'নেয়নি', 'শুনছিলাম', 'হাসিনার', 'ফেলেছি', 'সমস্যায়', 'উৎসাহ', 'অবলম্বন', 'লেখা', 'পেশীতে', 'ব্যথা,', 'নিব,', 'বিষয়টি', 'দানবীয়', 'স্রোত', 'এফেক্ট,', 'যাওয়ার', 'বাড়ি', 'রাখি।', 'সবসময়', 'দিতে।', 'সার্টিফিকেট', 'আমারে', 'অপরিহার্য', 'রোখার', 'লোকদের', 'ফাইজার-বায়োএনটেক', 'ছড়ানো', 'পাশের', 'কমপ্লেক্সে', 'প্রথমেই', 'মেরে', 'ডােজ\"', 'জনজীবন', 'যেখানে', 'ছুটি', '?', 'পরেই', 'জুলাই', 'খারাপও', 'আমগোর', 'ভর্তির', 'নাপা', 'প্রতিদিন', 'নিয়েই', 'সর্বত্র', 'ভালভাবে', 'প্রানীর', 'কয়জন', 'বানাইছে', 'তাঁকে', 'শক', 'অ্যানাফিল্যাকটিক', 'ফুল-ডোজ', 'বাজে', 'কর্মসূচির', 'তত', 'ইতিমধ্যেই', 'একদম', 'গরিবের', 'প্রতিরোধের', 'আল্লাহই', 'পাবো', 'আল্লাহ্\\u200c', 'মোকাবেলায়', 'প্রস্তাবিত', 'বাঁধাজনিত’', '‘রক্ত', 'হায়াত', 'নিয়ন্ত্রক', 'সময়কালের', 'লাগবে।', 'অবস্থান', 'শর্তই', 'যাবো।', 'রিকশাওয়ালা', 'নির্দেশিকা', 'গ্রামে', 'কে।', 'চারটি', 'জনসাধারণের', 'পেয়েছি।', 'বাড়ায়।', 'অফিস', 'নেয়াই', 'হোক', 'নির্দেশনা', 'পাইনি।', '৭০%', 'ভ্যাক্সিন।', 'মূলত', 'রোষের', 'উঠে', 'নিয়ে।', 'এমনি', 'দেহের', 'হাসপাতাল', 'বৈজ্ঞানিকভাবে', 'কোভিড-১৯-এর', 'যাবেন।', 'পর্যায়ে', 'ওরা', 'জনগোষ্ঠীর', 'মাথায়', 'বিশ্রাম', 'স্পষ্ট', 'আমাদেরকে', 'মেলা', 'করোনা।', 'ভ্যাক্সিনেশন', 'দুরকম', 'উড়িয়ে', 'দেবে', 'হারে', 'সেগুলি', 'সারাদিন', 'পর্যাপ্ত', 'সরকারকে', 'বুঝাতে', 'আপনাদের', 'মার্কেটে', 'ভিত্তি', 'দেখানোর', 'গুজবকে', 'বিষয়ে', 'পদক্ষেপটা', 'সুস্থভাবে', 'কোনোভাবেই', 'পজিটিভলি', 'ছিলো', 'হইবো', 'হবেনা', 'যোগ্য', 'জেনেটিক', 'এতেই', 'করেন', 'লক্ষনগুলো', '৩য়', 'গর্ভাবস্থার', 'ধারনা', 'নিরাপদ,', 'নিচ্ছে।', 'হোটেল,', 'ন্যায়সঙ্গত', '৬০', 'মহামারীটিকে', 'নির্ভয়ে', 'বাড়ানো', 'তে', 'তথা', 'কাঁচামাল', 'যেই', 'নিঃসন্দেহে', 'কর্মীদের', 'কর্মকাণ্ডে', 'বাচ্চাকে', 'অপকার', 'ভেবে', 'অযথাই', 'তখনই', 'প্রয়োজন।', 'প্রভাবিত', 'কর্তব্য।', 'মাত্র', 'পারেনা।', 'হারাম', 'অ্যান্টিজেন', 'সেটাই', 'দিবোনা', 'টিকাদানের', 'নেয়।', 'ভাবি', 'মাত্রার', 'বলি।', 'আটকানো', 'কোড', 'উত্তম।', 'জিনগত', 'ভ্যাকসিনই', 'প্রয়োজনীয়', 'জানার', 'রুগ', 'করেছি,', '\\n', 'যদিও', 'নিয়ন্ত্রণের', 'গেছেন', 'প্রয়োগের', 'পাবো।', 'ব্যবস্থার', 'দায়', 'কতক্ষণ', 'স্থায়ী', 'কোভ্যাক্স', 'ম্যাসেজ', 'নির্ভরযোগ্য', 'নিয়েছেন', 'বলেন', 'থিকা', '১৬', 'মতোই', 'অবশিষ্ট', 'সত্বেও', 'এফেক্ট', 'বছরে', 'গন', 'অপরিহার্য।', 'দিবে।', 'এনে', 'সংকিত', 'যায়,', 'ফিরছি।', 'কঠিন', 'দেখছি।', 'এসেছে।', 'বাবার', 'একসঙ্গে', 'স্থাপনের', 'পাইলাম', 'পাবে', 'কৌশল', 'কাম', 'হচ্ছে,', 'মিলামিশা', 'রাজনীতির', 'ভ্যাক্সিনেট', 'দান', 'জন্য,', 'মোকাবিলায়', 'সময়মতো', 'জানাই।', 'তারিখে', 'বাদ্ধতামুলক', 'বাঁচে', 'হইলে', 'জীবনের', 'ছড়াচ্ছে', 'সারাদেশে', 'ধনী', 'ভালোই', 'কিনে', 'নজর', 'এগুলা', 'পারিনি।', 'চায়', 'Varicella', 'কর্তব্য', 'Vaccine', 'সন্দেহকে', 'নিরাপত্তার', 'মরব', 'তুলনায়', 'আশঙ্কা', '২৮', 'লক্ষণ', 'হয়েছি।', 'বিস্তৃতির', 'ঘটনা', 'প্রত্যেকটা', '১৯', 'প্রক্রিয়াটি', 'সংশয়', 'হবেই।', 'পকেট', 'তুলনায়', 'নিমুনা।', 'ওমিক্রন', 'ভিক্ষা', 'প্রস্তুতকারকরা', 'স্বাস্থ্যকর্মীদের', 'ভ্যাকসিনেশনের', 'সহজেই', 'অকার্যকর', '৯৫', 'ইনশাআল্লাহ', 'পুরোপুরি', 'Covid-19', 'অকাজের।', '100', 'নি,', 'জয়।', 'হইব', 'পাইতাম।', 'লক্ষণগুলি', 'সংস্থাগুলির', 'দুইজনেরই', 'ফিকা', 'মাঝারি', 'পারে-', 'দেন,', 'তীব্র', 'বাড়ছে', 'বুকের', 'সংস্থান', 'পূরণ', 'সন্তানকে', '১০/১২', 'নিক।', 'বিকাশকারীদের', 'চিন্তার', 'নিশ্চয়তা', 'এভাবে', 'টাকার', 'নকল', 'বানানোর', 'পারবো।', 'এরপর', 'ইউনিসেফ', 'ফন্দি।', 'স্কুলের', 'নেওয়ায়', 'করোনারে', 'আছে?', 'প্রয়োজনীয়তা', 'অসাধারণ', 'সম্মতিপত্র', 'অবহিতকরণ', 'গ্রহণকারীর', 'করেছিল।', 'চিনতে', 'পদ্ধতির', 'গেলেও', 'উদ্দেশ্য', 'তৈরিতে', 'অবগত', 'বিভ্রান্তি', 'থাকলেও,', 'স্বল্প', 'হয়েছিল', 'এটাকে', 'বিক্রি', 'হই,', 'কোষগুলি', 'চিনে', 'করবো।', 'আম্মা', 'বিষাক্ত', 'বুষ্টার', 'দিমু', 'দিবো', 'অযথা', 'কোটির', 'পরিধান', 'হইসে', '৫০', 'সংখ্যা', 'হয়েছিল।', 'নিল', 'প্রচুর', 'ভালে', 'রাখার', 'টিকাও', 'নিত্যদিনের', 'প্রশ্ন।', 'অন্যের', 'খুশি', 'নিশ্চিন্তে', 'আসলেই', 'কিসের', 'বাধ্যবাধকতাও', 'তাকালেই', 'নিজেরে', 'চাহিদা', 'শিশুকে', 'তরুণদের', 'যাইবো', 'এ\\u200cই', 'সকলে', 'হয়না।', 'ঐ', 'সপ্তাহের', 'নিরুৎসাহিত', 'এইবার', 'লকডাউনের', 'পারছেন', 'টিকাগ্রহণ', 'বিষ', 'সফল', 'এগিয়ে।', 'নিশ্চিত।', 'দায়িত্ব', 'মারাত্মকভা\\u200cবে', 'থাক\\u200cলে', 'পরিবর্তিত', 'লক্ষ্য', 'যতটা', 'দেয়ার', 'জানে', 'পাঠিয়ে', 'বাস্তবসম্মত', 'বাধ্যতামূলক।', 'মোকাবেলার', 'অর্জন']\n"
          ]
        }
      ]
    },
    {
      "cell_type": "code",
      "source": [
        "model.wv.most_similar('ভ্যাকসিন')"
      ],
      "metadata": {
        "colab": {
          "base_uri": "https://localhost:8080/"
        },
        "id": "up2lulW2dHFx",
        "outputId": "bae16a1d-ed6b-4aa7-9d58-689d2d3ed084"
      },
      "execution_count": 47,
      "outputs": [
        {
          "output_type": "execute_result",
          "data": {
            "text/plain": [
              "[('স্বাস্থ্য', 0.9992122650146484),\n",
              " ('কিন্তু', 0.9991387128829956),\n",
              " ('এই', 0.9991067051887512),\n",
              " ('হচ্ছে', 0.999085545539856),\n",
              " ('কোভিড-১৯', 0.9990361928939819),\n",
              " ('কার্ড', 0.9989940524101257),\n",
              " ('সম্পর্কে', 0.9989809989929199),\n",
              " ('উচিত', 0.9989668130874634),\n",
              " ('সংক্রমণ', 0.9989615678787231),\n",
              " ('ভেক্সিন', 0.9989333152770996)]"
            ]
          },
          "metadata": {},
          "execution_count": 47
        }
      ]
    },
    {
      "cell_type": "code",
      "source": [
        "new_dict=dict()\n",
        "new_dict2idx=dict()\n",
        "index=0\n",
        "for i in words:\n",
        "  x=model.wv[i]\n",
        "  average = sum(x) / len(x)\n",
        "  new_dict[i]=average\n",
        "  new_dict2idx[i]=index #new\n",
        "  index=index+1\n",
        "rows, cols = (len(corpus),len(new_dict2idx)) #max len(new_dict2idx)\n",
        "arr = [[0 for i in range(cols)] for j in range(rows)]\n",
        "for l in range(0, len(corpus)):\n",
        "    msg = corpus[l]\n",
        "    #msg = msg.split()\n",
        "    for j in range(0,len(msg)):\n",
        "        k=msg[j]\n",
        "        if k in new_dict:\n",
        "          index=new_dict2idx[k] #new\n",
        "          arr[l][index]=new_dict[k] #j index"
      ],
      "metadata": {
        "id": "0Gkm_Pvpdas7"
      },
      "execution_count": 48,
      "outputs": []
    },
    {
      "cell_type": "code",
      "source": [
        "batch_size = 100\n",
        "X_train = arr\n",
        "y_train = df_train['Polarity']\n",
        "\n",
        "tensor_x = torch.Tensor(X_train) # transform to torch tensor\n",
        "tensor_y = torch.Tensor(y_train)\n",
        "\n",
        "dataset = TensorDataset(tensor_x,tensor_y) # create your datset\n",
        "\n",
        "train_loader=DataLoader(dataset,batch_size)"
      ],
      "metadata": {
        "id": "TWHyanQp0Gou"
      },
      "execution_count": 49,
      "outputs": []
    },
    {
      "cell_type": "code",
      "execution_count": 50,
      "metadata": {
        "id": "BUDFVHm8ovuf"
      },
      "outputs": [],
      "source": [
        "#Hyper parameters\n",
        "input_size=len(new_dict2idx) #len(dataset.token2idx) max index\n",
        "hidden_size=200\n",
        "num_classes=1 #Updated\n",
        "num_epochs=50\n",
        "sequence_length=1\n",
        "num_layers=2\n",
        "batch_size = 100\n",
        "learning_rate=0.001"
      ]
    },
    {
      "cell_type": "code",
      "source": [
        "class RNN_Model(nn.Module):\n",
        "    def __init__(self, input_size,hidden_size,num_layers,num_classes):\n",
        "        super(RNN_Model,self).__init__()\n",
        "        self.num_layers=num_layers\n",
        "        self.hidden_size=hidden_size\n",
        "        self.rnn=nn.RNN(input_size,hidden_size,num_layers,batch_first=True)\n",
        "        #x -> (batch_size,seq,input_size)\n",
        "        self.fc=nn.Linear(hidden_size,num_classes) \n",
        "\n",
        "\n",
        "    def forward(self, x):\n",
        "        h0=torch.zeros(self.num_layers,x.size(0),self.hidden_size).to(device)\n",
        "        #c0=torch.zeros(self.num_layers,x.size(0),self.hidden_size).to(device)\n",
        "        \n",
        "        out , _ =self.rnn(x, h0)\n",
        "        #out: batch_size,seq_length,hidden_size\n",
        "       \n",
        "        out=out[:,-1,:]\n",
        "        out=self.fc(out)\n",
        "        return out"
      ],
      "metadata": {
        "id": "ao11vmUv19mD"
      },
      "execution_count": 51,
      "outputs": []
    },
    {
      "cell_type": "code",
      "source": [
        "model=RNN_Model(input_size,hidden_size,num_layers,num_classes).to(device)"
      ],
      "metadata": {
        "id": "wSxiGffs-PQP"
      },
      "execution_count": 52,
      "outputs": []
    },
    {
      "cell_type": "code",
      "source": [
        "criterion=nn.BCEWithLogitsLoss()\n",
        "optimizer=torch.optim.Adam(model.parameters(), lr=learning_rate)\n",
        "train_losses=[]\n",
        "#train the model\n",
        "n_total_steps=len(train_loader) \n",
        "for epoch in range(num_epochs): \n",
        "    losses=[]\n",
        "    total=0\n",
        "    for inputs, target in train_loader:\n",
        "        #print(inputs.shape)\n",
        "        inputs=inputs.reshape(batch_size,sequence_length,input_size).to(device)\n",
        "        target=target.view(batch_size, -1)\n",
        "        target=target.to(device) \n",
        "        model.zero_grad()\n",
        "        \n",
        "        output=model(inputs.float())\n",
        "\n",
        "        loss=criterion(output, target.float())\n",
        "\n",
        "        optimizer.zero_grad()\n",
        "        loss.backward()\n",
        "        optimizer.step()\n",
        "\n",
        "        losses.append(loss.item())\n",
        "\n",
        "        total +=1\n",
        "        #if (epoch+1)% 100 == 0:\n",
        "    print(f'epoch {epoch+1}/{num_epochs}, loss={loss.item():.4f}')\n"
      ],
      "metadata": {
        "colab": {
          "base_uri": "https://localhost:8080/"
        },
        "id": "kIotRWTP-Wwo",
        "outputId": "fbeeab12-84c4-4215-c4da-d0f80097af95"
      },
      "execution_count": 53,
      "outputs": [
        {
          "output_type": "stream",
          "name": "stdout",
          "text": [
            "epoch 1/50, loss=0.6909\n",
            "epoch 2/50, loss=0.6778\n",
            "epoch 3/50, loss=0.6082\n",
            "epoch 4/50, loss=0.4863\n",
            "epoch 5/50, loss=0.4221\n",
            "epoch 6/50, loss=0.3850\n",
            "epoch 7/50, loss=0.3627\n",
            "epoch 8/50, loss=0.3411\n",
            "epoch 9/50, loss=0.3200\n",
            "epoch 10/50, loss=0.3015\n",
            "epoch 11/50, loss=0.2827\n",
            "epoch 12/50, loss=0.2641\n",
            "epoch 13/50, loss=0.2472\n",
            "epoch 14/50, loss=0.2321\n",
            "epoch 15/50, loss=0.2183\n",
            "epoch 16/50, loss=0.2058\n",
            "epoch 17/50, loss=0.1944\n",
            "epoch 18/50, loss=0.1838\n",
            "epoch 19/50, loss=0.1742\n",
            "epoch 20/50, loss=0.1660\n",
            "epoch 21/50, loss=0.1608\n",
            "epoch 22/50, loss=0.1652\n",
            "epoch 23/50, loss=0.2048\n",
            "epoch 24/50, loss=0.2938\n",
            "epoch 25/50, loss=0.1875\n",
            "epoch 26/50, loss=0.1400\n",
            "epoch 27/50, loss=0.1346\n",
            "epoch 28/50, loss=0.1302\n",
            "epoch 29/50, loss=0.1260\n",
            "epoch 30/50, loss=0.1222\n",
            "epoch 31/50, loss=0.1186\n",
            "epoch 32/50, loss=0.1154\n",
            "epoch 33/50, loss=0.1124\n",
            "epoch 34/50, loss=0.1100\n",
            "epoch 35/50, loss=0.1080\n",
            "epoch 36/50, loss=0.1066\n",
            "epoch 37/50, loss=0.1058\n",
            "epoch 38/50, loss=0.1058\n",
            "epoch 39/50, loss=0.1069\n",
            "epoch 40/50, loss=0.1097\n",
            "epoch 41/50, loss=0.1153\n",
            "epoch 42/50, loss=0.1266\n",
            "epoch 43/50, loss=0.1495\n",
            "epoch 44/50, loss=0.1942\n",
            "epoch 45/50, loss=0.2602\n",
            "epoch 46/50, loss=0.1150\n",
            "epoch 47/50, loss=0.2104\n",
            "epoch 48/50, loss=0.2368\n",
            "epoch 49/50, loss=0.2035\n",
            "epoch 50/50, loss=0.1807\n"
          ]
        }
      ]
    },
    {
      "cell_type": "code",
      "source": [
        "from sklearn.metrics import accuracy_score\n",
        "from sklearn.metrics import precision_score\n",
        "from sklearn.metrics import recall_score\n",
        "from sklearn.metrics import f1_score"
      ],
      "metadata": {
        "id": "g06XXLqGVsx3"
      },
      "execution_count": 54,
      "outputs": []
    },
    {
      "cell_type": "code",
      "source": [
        "def predict_sentiment(text):\n",
        "    li = list(text.split(\" \"))\n",
        "    rows, cols = (1,len(new_dict2idx)) #new\n",
        "    test_vector = [[0 for i in range(cols)] for j in range(rows)]\n",
        "    for j in range(0,len(li)):\n",
        "        k=li[j]\n",
        "        if k in new_dict:\n",
        "          index=new_dict2idx[k] #new\n",
        "          test_vector[0][index]=new_dict[k] #j index\n",
        "    #test_vector=torch.LongTensor(dataset.vectorizer.transform([text]).toarray())\n",
        "    test_vector = torch.Tensor(test_vector)\n",
        "    test_vector=test_vector.reshape(1,sequence_length,input_size).to(device)#NEW\n",
        "\n",
        "    output=model(test_vector.float())#NEW\n",
        "    prediction=torch.sigmoid(output).item()\n",
        "    if prediction> 0.5:\n",
        "        return 1\n",
        "    else:\n",
        "        return 0\n",
        "\n",
        "pred_labels=[]\n",
        "sentences=list(df_test['Text'])\n",
        "labels=df_test['Polarity']\n",
        "#print(sentences)\n",
        "for sentence in sentences:\n",
        "    pred_labels.append(predict_sentiment(sentence))\n",
        "#accuracy\n",
        "accuracy=accuracy_score(labels,pred_labels)\n",
        "accuracy=accuracy*100\n",
        "print('Accuracy: %f'% accuracy)"
      ],
      "metadata": {
        "colab": {
          "base_uri": "https://localhost:8080/"
        },
        "id": "7h8CMz8VXigW",
        "outputId": "9bcfb9b6-58fc-464a-a138-7989fc89db63"
      },
      "execution_count": 55,
      "outputs": [
        {
          "output_type": "stream",
          "name": "stdout",
          "text": [
            "Accuracy: 77.625000\n"
          ]
        }
      ]
    },
    {
      "cell_type": "code",
      "source": [
        "recall=recall_score(labels,pred_labels,average=\"binary\")\n",
        "recall = recall*100\n",
        "print('Recall %.3f'%recall)\n",
        "\n",
        "\n",
        "precision=precision_score(labels,pred_labels,average=\"binary\")\n",
        "precision = precision*100\n",
        "print('precision %.3f'%precision)\n",
        "\n",
        "\n",
        "\n",
        "f1=f1_score(labels,pred_labels,average=\"binary\")\n",
        "f1 = f1*100\n",
        "print('f1_score %.3f'%f1)"
      ],
      "metadata": {
        "colab": {
          "base_uri": "https://localhost:8080/"
        },
        "id": "IZlV55eI2YRO",
        "outputId": "9238b3c6-57a4-4cd1-e1cd-18ce924b732b"
      },
      "execution_count": 56,
      "outputs": [
        {
          "output_type": "stream",
          "name": "stdout",
          "text": [
            "Recall 85.877\n",
            "precision 76.316\n",
            "f1_score 80.815\n"
          ]
        }
      ]
    }
  ],
  "metadata": {
    "colab": {
      "provenance": []
    },
    "kernelspec": {
      "display_name": "Python 3",
      "name": "python3"
    },
    "language_info": {
      "name": "python"
    },
    "accelerator": "GPU"
  },
  "nbformat": 4,
  "nbformat_minor": 0
}